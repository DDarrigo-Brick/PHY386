{
  "nbformat": 4,
  "nbformat_minor": 0,
  "metadata": {
    "colab": {
      "provenance": [],
      "authorship_tag": "ABX9TyMwcufCMWREMVroSRFnSkXY",
      "include_colab_link": true
    },
    "kernelspec": {
      "name": "python3",
      "display_name": "Python 3"
    },
    "language_info": {
      "name": "python"
    }
  },
  "cells": [
    {
      "cell_type": "markdown",
      "metadata": {
        "id": "view-in-github",
        "colab_type": "text"
      },
      "source": [
        "<a href=\"https://colab.research.google.com/github/ubsuny/PHY386/blob/Homework2025/HW1.ipynb\" target=\"_parent\"><img src=\"https://colab.research.google.com/assets/colab-badge.svg\" alt=\"Open In Colab\"/></a>"
      ]
    },
    {
      "cell_type": "markdown",
      "source": [
        "# Basic Formatting Examples"
      ],
      "metadata": {
        "id": "TmH9qpqWZufA"
      }
    },
    {
      "cell_type": "markdown",
      "source": [
        "\n",
        "What I would like to learn in this class:\n",
        "\n",
        "1.   I would like to become a better programmer\n",
        "2.   I would like to learn how coding is used in physics\n",
        "3.   I would like to become familar with Google Colab\n",
        "4.   I would like to develop my Python skills\n",
        "5.   I would like to learn about $LaTeX$ so I can use it as a researcher\n",
        "\n",
        "\n"
      ],
      "metadata": {
        "id": "4tTEEJr5aOn5"
      }
    },
    {
      "cell_type": "markdown",
      "source": [
        "# How to include external media"
      ],
      "metadata": {
        "id": "sobuouhlZ3Zz"
      }
    },
    {
      "cell_type": "markdown",
      "source": [
        "![J. Robert Oppenheimer, Wikipedia Commons](https://upload.wikimedia.org/wikipedia/commons/a/ab/Oppenheimer-j_r.jpg)\n",
        "\n",
        "J. Robert Oppenheimer, Los Alamos National Laboratory, Attribution, via [Wikimedia Commons](https://upload.wikimedia.org/wikipedia/commons/a/ab/Oppenheimer-j_r.jpg)\n",
        "\n",
        "\n",
        "**Robert Oppenheimer** is my favorite scientist because of all the work that he did with nuclear technology, especially by helping creating a place like the Los Alamos National Laboratory (LANL). Having worked at LANL, I feel a personal connection to Mr. Oppenheimer as well. One of his most famous equations was the Tolman-Oppenheimer-Volkoff equation:\n",
        "$$\n",
        "\\frac{dP}{dr} = -\\frac{G}{r^2} \\frac{ \\left( \\rho + \\frac{P}{c^2} \\right) \\left( m + 4\\pi r^3 \\frac{P}{c^2} \\right) }{ \\left( 1 - \\frac{2Gm}{rc^2} \\right) }\n",
        "$$\n",
        "\n",
        "Equations pile, the night is long,\n",
        "Debugging proofs where codes go wrong.\n",
        "Errors lurk, but I press on tight,\n",
        "Till numbers sing and answers light!\n",
        "\n",
        "⚛\n",
        "\n"
      ],
      "metadata": {
        "id": "4ZrGZl_4c6Uu"
      }
    },
    {
      "cell_type": "markdown",
      "source": [
        "# Coding Exercises"
      ],
      "metadata": {
        "id": "kO5ZsyHhaCUZ"
      }
    },
    {
      "cell_type": "code",
      "source": [
        "print(\"Hello Class!\")"
      ],
      "metadata": {
        "colab": {
          "base_uri": "https://localhost:8080/"
        },
        "id": "4ks290p3aFPo",
        "outputId": "5f401f44-8ccf-4a28-d078-be2cb1805c09"
      },
      "execution_count": null,
      "outputs": [
        {
          "output_type": "stream",
          "name": "stdout",
          "text": [
            "Hello Class!\n"
          ]
        }
      ]
    },
    {
      "cell_type": "code",
      "source": [
        "print(\"002025.000\")"
      ],
      "metadata": {
        "colab": {
          "base_uri": "https://localhost:8080/"
        },
        "id": "VOKuyITSiU_x",
        "outputId": "ec68ce28-8bcb-4524-a10b-8010ea84f840"
      },
      "execution_count": null,
      "outputs": [
        {
          "output_type": "stream",
          "name": "stdout",
          "text": [
            "002025.000\n"
          ]
        }
      ]
    },
    {
      "cell_type": "code",
      "source": [
        "string = \"string\"\n",
        "int = 1\n",
        "float = 1.0\n",
        "print(string)\n",
        "print(int)\n",
        "print(float)"
      ],
      "metadata": {
        "colab": {
          "base_uri": "https://localhost:8080/"
        },
        "id": "mrERBVqdjpyi",
        "outputId": "989dfb8f-3cd9-4936-ea8e-ef0fd7682a96"
      },
      "execution_count": null,
      "outputs": [
        {
          "output_type": "stream",
          "name": "stdout",
          "text": [
            "string\n",
            "1\n",
            "1.0\n"
          ]
        }
      ]
    },
    {
      "cell_type": "code",
      "source": [
        "print(1+1)"
      ],
      "metadata": {
        "colab": {
          "base_uri": "https://localhost:8080/"
        },
        "id": "YQkjN2ASkGE4",
        "outputId": "e445484b-99ab-41af-9201-90131df47000"
      },
      "execution_count": 4,
      "outputs": [
        {
          "output_type": "stream",
          "name": "stdout",
          "text": [
            "2\n"
          ]
        }
      ]
    },
    {
      "cell_type": "code",
      "source": [
        "print(1-2)"
      ],
      "metadata": {
        "colab": {
          "base_uri": "https://localhost:8080/"
        },
        "id": "GqYYD1UPkKPW",
        "outputId": "39b7f6e6-2c00-4126-bbbd-d74e528c9f18"
      },
      "execution_count": 5,
      "outputs": [
        {
          "output_type": "stream",
          "name": "stdout",
          "text": [
            "-1\n"
          ]
        }
      ]
    },
    {
      "cell_type": "code",
      "source": [
        "print(1 * 2)"
      ],
      "metadata": {
        "colab": {
          "base_uri": "https://localhost:8080/"
        },
        "id": "IRaoQrCKkLAA",
        "outputId": "7f03921d-8531-46aa-e55c-2125a29742fd"
      },
      "execution_count": 1,
      "outputs": [
        {
          "output_type": "stream",
          "name": "stdout",
          "text": [
            "2\n"
          ]
        }
      ]
    },
    {
      "cell_type": "code",
      "source": [
        "print(4 / 2)"
      ],
      "metadata": {
        "colab": {
          "base_uri": "https://localhost:8080/"
        },
        "id": "IJxiLDkpkR3i",
        "outputId": "d7d08bdb-2f1c-4535-e0d8-c7686d6b7eb2"
      },
      "execution_count": 2,
      "outputs": [
        {
          "output_type": "stream",
          "name": "stdout",
          "text": [
            "2.0\n"
          ]
        }
      ]
    },
    {
      "cell_type": "code",
      "source": [
        "print(11 % 2)"
      ],
      "metadata": {
        "colab": {
          "base_uri": "https://localhost:8080/"
        },
        "id": "vYLB3jEtkUl5",
        "outputId": "ab87da3f-933a-4080-f3ff-3b9f87428839"
      },
      "execution_count": 3,
      "outputs": [
        {
          "output_type": "stream",
          "name": "stdout",
          "text": [
            "1\n"
          ]
        }
      ]
    },
    {
      "cell_type": "code",
      "source": [
        "# prompt: Use if-else conditions to check if a number is even or odd.\n",
        "\n",
        "def check_even_odd(number):\n",
        "  \"\"\"\n",
        "  Checks if a number is even or odd.\n",
        "\n",
        "  Args:\n",
        "    number: An integer.\n",
        "\n",
        "  Returns:\n",
        "    \"Even\" if the number is even, \"Odd\" otherwise.\n",
        "  \"\"\"\n",
        "  if number % 2 == 0:\n",
        "    return \"Even\"\n",
        "  else:\n",
        "    return \"Odd\"\n",
        "\n",
        "# Example usage\n",
        "number = 2111204243  # You can change this number to test different cases\n",
        "result = check_even_odd(number)\n",
        "print(f\"The number {number} is {result}\")\n"
      ],
      "metadata": {
        "id": "4K1FtJ4Bkj77",
        "colab": {
          "base_uri": "https://localhost:8080/"
        },
        "outputId": "c4f9fa45-56cc-47de-94c3-36408ae03c8b"
      },
      "execution_count": 31,
      "outputs": [
        {
          "output_type": "stream",
          "name": "stdout",
          "text": [
            "The number 2111204243 is Odd\n"
          ]
        }
      ]
    },
    {
      "cell_type": "code",
      "source": [
        "# prompt: Use a for loop to print numbers and modify it to show even numbers.\n",
        "\n",
        "for i in range(1, 15):\n",
        "  if i % 2 == 0:\n",
        "    print(i)\n"
      ],
      "metadata": {
        "colab": {
          "base_uri": "https://localhost:8080/"
        },
        "id": "QnLZzHZo-Vfe",
        "outputId": "d4e7b373-0271-4f76-e23c-55dc90ec97bb"
      },
      "execution_count": 32,
      "outputs": [
        {
          "output_type": "stream",
          "name": "stdout",
          "text": [
            "2\n",
            "4\n",
            "6\n",
            "8\n",
            "10\n",
            "12\n",
            "14\n"
          ]
        }
      ]
    },
    {
      "cell_type": "markdown",
      "source": [],
      "metadata": {
        "id": "6d7fL0wBERAh"
      }
    },
    {
      "cell_type": "code",
      "source": [
        "def calc_ops(num1, num2, ops):\n",
        "  if ops in (\"plus\", \"Plus\", \"Add\", \"Addition\", \"+\", \"ADDITION\", \"addition\"):\n",
        "    return num1 + num2\n",
        "  elif ops in (\"-\", \"minus\", \"Minus\", \"Subtract\",\"Subtraction\", \"SUBTRACTION\", \"subtraction\"):\n",
        "    return num1 - num2\n",
        "  elif ops in (\"*\", \"times\", \"Times\", \"Multiply\", \"Multiplication\", \"MULTIPLICATION\", \"multiplication\"):\n",
        "    return num1 * num2\n",
        "  elif ops in (\"/\", \"divide\", \"Divide\", \"Division\", \"DIVISION\", \"division\"):\n",
        "    return num1 / num2\n",
        "  else:\n",
        "    return \"Invalid operation\"\n",
        "\n",
        "result = calc_ops(2, 3, \"+\")\n",
        "print(result)\n",
        "result2 = calc_ops(2, 4, \"-\")\n",
        "print(result2)\n",
        "result3 = calc_ops(2, 5, \"*\")\n",
        "print(result3)\n",
        "result4 = calc_ops(2, 6, \"/\")\n",
        "print(result4)\n",
        "result5 = calc_ops(2, 7, \"*\")\n",
        "print(result5)\n"
      ],
      "metadata": {
        "colab": {
          "base_uri": "https://localhost:8080/"
        },
        "id": "vxogRnjWEJru",
        "outputId": "69ed691a-185f-4c57-836e-08379c298c6f"
      },
      "execution_count": 42,
      "outputs": [
        {
          "output_type": "stream",
          "name": "stdout",
          "text": [
            "5\n",
            "-2\n",
            "10\n",
            "0.3333333333333333\n",
            "14\n"
          ]
        }
      ]
    },
    {
      "cell_type": "code",
      "source": [
        "# prompt: Use lists to calculate the average of a set of numbers.\n",
        "\n",
        "def calc_avg(numbers):\n",
        "    \"\"\"Calculates the average of a list of numbers.\n",
        "\n",
        "    Args:\n",
        "    numbers (list): A list of numbers to calculate the average from.\n",
        "\n",
        "    Returns:\n",
        "    float: The average of the numbers in the input list.\n",
        "           Returns 0 if the list is empty to avoid ZeroDivisionError.\n",
        "    \"\"\"\n",
        "    if not numbers:\n",
        "        return 0\n",
        "    return sum(numbers) / len(numbers)\n",
        "\n",
        "# Example usage\n",
        "my_numbers = [10, 20, 30, 41, 50]\n",
        "average = calculate_average(my_numbers)\n",
        "print(f\"The average is: {average}\")\n",
        "\n"
      ],
      "metadata": {
        "colab": {
          "base_uri": "https://localhost:8080/"
        },
        "id": "rd0p1eVN_aIB",
        "outputId": "6e361381-59c9-4591-8600-1c3713614aa3"
      },
      "execution_count": 13,
      "outputs": [
        {
          "output_type": "stream",
          "name": "stdout",
          "text": [
            "The average is: 30.2\n"
          ]
        }
      ]
    },
    {
      "cell_type": "code",
      "source": [
        "FRUIT_DICTIONARY = {\n",
        "    \"APPLE\": \"Apple\",\n",
        "    \"PINEAPPLE\" : \"Pineapple\",\n",
        "    \"CHERRY\" : \"Cherry\",\n",
        "    \"GRAPE\" : \"Grape\",\n",
        "    \"GRAPEFRUIT\" : \"Grapefruit\"\n",
        "}\n",
        "\n",
        "print(\"Fruit 1:\", FRUIT_DICTIONARY[\"APPLE\"])\n",
        "print(\"Fruit 2:\", FRUIT_DICTIONARY[\"GRAPE\"])\n",
        "print(\"Fruit 3:\", FRUIT_DICTIONARY[\"CHERRY\"])"
      ],
      "metadata": {
        "colab": {
          "base_uri": "https://localhost:8080/"
        },
        "id": "FJ173W_-AsfF",
        "outputId": "1f54a8fd-9f9c-41bf-cd0d-1abbda928fbc"
      },
      "execution_count": 46,
      "outputs": [
        {
          "output_type": "stream",
          "name": "stdout",
          "text": [
            "Fruit 1: Apple\n",
            "Fruit 2: Grape\n",
            "Fruit 3: Cherry\n"
          ]
        }
      ]
    },
    {
      "cell_type": "code",
      "source": [
        "# prompt: Write user input to a file and modify it to read back the contents.\n",
        "\n",
        "# Get user input\n",
        "user_input = input(\"Enter text to write to the file: \")\n",
        "\n",
        "# Write to file\n",
        "with open(\"user_file.txt\", \"w\") as f:\n",
        "  f.write(user_input)\n",
        "\n",
        "# Read from file\n",
        "with open(\"user_file.txt\", \"r\") as f:\n",
        "  file_contents = f.read()\n",
        "\n",
        "# Print the contents\n",
        "print(\"File contents:\")\n",
        "file_contents\n"
      ],
      "metadata": {
        "colab": {
          "base_uri": "https://localhost:8080/",
          "height": 71
        },
        "id": "EgVQFBGxCXml",
        "outputId": "7ea238a9-683b-4bd4-8ac4-b1da0b81f488"
      },
      "execution_count": 26,
      "outputs": [
        {
          "output_type": "stream",
          "name": "stdout",
          "text": [
            "Enter text to write to the file: HI!\n",
            "File contents:\n"
          ]
        },
        {
          "output_type": "execute_result",
          "data": {
            "text/plain": [
              "'HI!'"
            ],
            "application/vnd.google.colaboratory.intrinsic+json": {
              "type": "string"
            }
          },
          "metadata": {},
          "execution_count": 26
        }
      ]
    }
  ]
}