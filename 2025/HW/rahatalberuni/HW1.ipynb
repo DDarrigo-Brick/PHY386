{
  "nbformat": 4,
  "nbformat_minor": 0,
  "metadata": {
    "colab": {
      "provenance": [],
      "toc_visible": true,
      "authorship_tag": "ABX9TyOQMFa11aaf4nS7d2g8AmSX",
      "include_colab_link": true
    },
    "kernelspec": {
      "name": "python3",
      "display_name": "Python 3"
    },
    "language_info": {
      "name": "python"
    }
  },
  "cells": [
    {
      "cell_type": "markdown",
      "metadata": {
        "id": "view-in-github",
        "colab_type": "text"
      },
      "source": [
        "<a href=\"https://colab.research.google.com/github/ubsuny/PHY386/blob/Homework2025/2025/HW/rahatalberuni/HW1.ipynb\" target=\"_parent\"><img src=\"https://colab.research.google.com/assets/colab-badge.svg\" alt=\"Open In Colab\"/></a>"
      ]
    },
    {
      "cell_type": "code",
      "execution_count": null,
      "metadata": {
        "id": "Et4Bk7Eup7tf"
      },
      "outputs": [],
      "source": [
        "# Homework 1"
      ]
    },
    {
      "cell_type": "markdown",
      "source": [
        "test\n",
        "\n",
        "```\n",
        "# This is formatted as code\n",
        "```\n",
        "\n",
        "# Homework 1"
      ],
      "metadata": {
        "id": "kC1IDPN0qFL0"
      }
    },
    {
      "cell_type": "markdown",
      "source": [
        "## Basic formatting\n",
        "\n",
        "- Item 1\n",
        "    - Subitem 1\n",
        "    - Subitem 2\n",
        "- Item 2\n",
        "\n",
        " Things I want to learn\n",
        "  1. python\n",
        "  2. graphing / plotting using python\n",
        "  3. making some quantum mechanics simulation.\n",
        "  4. solving scientic problem using python\n",
        "  5. AI/ Machine learning\n",
        "3. Next item\n",
        "   - subitem 1\n",
        "   100000. next item\n",
        "\n",
        "\n",
        "   ```\n",
        "   # This is formatted as code\n",
        "   ```\n",
        "\n",
        "   ```python\n",
        "   print (\"hello World\")\n",
        "   ```\n",
        "\n",
        "   ``` text\n",
        "   # example\n",
        "   ```\n",
        "\n",
        "   ```matlab\n",
        "   x = [1,2; 1,2]\n",
        "   ```\n",
        "\n",
        "   ```latex\n",
        "   \\int_0^{\\infty}x^2\\,dx\n",
        "   ```\n",
        "   This is in line $\\ LaTex$ code $\\int_0^{\\infty} x^2 \\,\n",
        "   dx$\n",
        "\n",
        "   $$\n",
        "   \\int_0^{\\infty} x^2 \\, dx\n",
        "   $$\n",
        "   \n",
        "   [link to Wikipedia](https://en.wikipedia.org/wiki/Erwin_Schr%C3%B6dinger)\n",
        "   \n",
        "   ![Noble foundation, Public domain, via Wikepedia commons](https://upload.wikimedia.org/wikipedia/commons/2/2e/Erwin_Schr%C3%B6dinger_%281933%29.jpg)\n",
        "\n",
        "\n"
      ],
      "metadata": {
        "id": "FRrzsaXIqQ-y"
      }
    },
    {
      "cell_type": "markdown",
      "source": [
        "Schrodinger is my favourite scientists because he made the wave equations."
      ],
      "metadata": {
        "id": "LBpMpalGg0rP"
      }
    },
    {
      "cell_type": "markdown",
      "source": [
        "#Close paragraph with emoji\n",
        "The cherry blossom emoji (\"🌸\") is used here to signify the arrival of spring and the positive feelings associated with it, perfectly wrapping up the paragraph with a cheerful visual cue.\n"
      ],
      "metadata": {
        "id": "K8GhlEzwgKNB"
      }
    },
    {
      "cell_type": "markdown",
      "source": [
        "Schrodinger is my favourite scienctists because, he worked on Wave equatiom."
      ],
      "metadata": {
        "id": "DCTAJZkGemqF"
      }
    },
    {
      "cell_type": "markdown",
      "source": [
        "# Four line poem from AI\n",
        "## With every prompt, a world I weave,\n",
        "## This homework joy, you'd scarce believe!\n",
        "##My circuits hum a happy tune,\n",
        "##Creating content 'neath the moon"
      ],
      "metadata": {
        "id": "yDdAELe_hiME"
      }
    },
    {
      "cell_type": "markdown",
      "source": [
        "# Print \"hello, World!\""
      ],
      "metadata": {
        "id": "wObHWkfbySAu"
      }
    },
    {
      "cell_type": "code",
      "source": [
        "print (\"Hello Class!\")"
      ],
      "metadata": {
        "colab": {
          "base_uri": "https://localhost:8080/"
        },
        "id": "nBSXk4sbmp3z",
        "outputId": "13f9447f-21b8-4334-865a-a0363c05525c"
      },
      "execution_count": 6,
      "outputs": [
        {
          "output_type": "stream",
          "name": "stdout",
          "text": [
            "Hello Class!\n"
          ]
        }
      ]
    },
    {
      "cell_type": "markdown",
      "source": [
        "# Formatting\n"
      ],
      "metadata": {
        "id": "uOqA1sYrmPCN"
      }
    },
    {
      "cell_type": "code",
      "source": [
        "#  use a formatting string to include the number \"002025.000\" in a print statement with 2 leading and 3 trailing zeroes.\n",
        "\n",
        "number = 2025.000\n",
        "print(f\"{number:010.3f}\")\n"
      ],
      "metadata": {
        "colab": {
          "base_uri": "https://localhost:8080/"
        },
        "id": "YdBNkPBqku6W",
        "outputId": "20f06acb-a5b0-4319-836b-6e601d892e87"
      },
      "execution_count": 1,
      "outputs": [
        {
          "output_type": "stream",
          "name": "stdout",
          "text": [
            "002025.000\n"
          ]
        }
      ]
    },
    {
      "cell_type": "code",
      "source": [
        "number = 2025.0\n",
        "formatted_number = f\"{number:07.3f}\"\n",
        "print(formatted_number)"
      ],
      "metadata": {
        "colab": {
          "base_uri": "https://localhost:8080/"
        },
        "id": "4NKXSeQ8ldiE",
        "outputId": "1a08ad55-5e46-490e-af39-82f042248e1e"
      },
      "execution_count": 2,
      "outputs": [
        {
          "output_type": "stream",
          "name": "stdout",
          "text": [
            "2025.000\n"
          ]
        }
      ]
    },
    {
      "cell_type": "markdown",
      "source": [
        "# Variables and Data Types"
      ],
      "metadata": {
        "id": "PrFEqk_zmUWc"
      }
    },
    {
      "cell_type": "code",
      "source": [
        "# prompt: generate three variable: a strings, an integer, and a float, and print their values\n",
        "\n",
        "my_string = \"Hello, world!\"\n",
        "my_integer = 123\n",
        "my_float = 3.14159\n",
        "\n",
        "print(f\"String: {my_string}\")\n",
        "print(f\"Integer: {my_integer}\")\n",
        "print(f\"Float: {my_float}\")\n"
      ],
      "metadata": {
        "colab": {
          "base_uri": "https://localhost:8080/"
        },
        "id": "ytHmrO_Unnmy",
        "outputId": "52c27ffb-b8b3-44fa-9823-d708c99e9a73"
      },
      "execution_count": 7,
      "outputs": [
        {
          "output_type": "stream",
          "name": "stdout",
          "text": [
            "String: Hello, world!\n",
            "Integer: 123\n",
            "Float: 3.14159\n"
          ]
        }
      ]
    },
    {
      "cell_type": "markdown",
      "source": [
        "# Basic Math Operations"
      ],
      "metadata": {
        "id": "5sS2rMF_iHro"
      }
    },
    {
      "cell_type": "code",
      "source": [
        "# prompt: Perform addition, subtraction, multiplication, division, and modulus operations.\n",
        "\n",
        "# Perform addition, subtraction, multiplication, division, and modulus operations.\n",
        "\n",
        "# Addition\n",
        "a = 7\n",
        "b = 3\n",
        "sum_result = a + b\n",
        "print(f\"Addition: {a} + {b} = {sum_result}\")\n",
        "\n",
        "# Subtraction\n",
        "difference_result = a - b\n",
        "print(f\"Subtraction: {a} - {b} = {difference_result}\")\n",
        "\n",
        "# Multiplication\n",
        "product_result = a * b\n",
        "print(f\"Multiplication: {a} * {b} = {product_result}\")\n",
        "\n",
        "# Division\n",
        "division_result = a / b\n",
        "print(f\"Division: {a} / {b} = {division_result}\")\n",
        "\n",
        "# Modulus\n",
        "modulus_result = a % b  # Remainder of the division\n",
        "print(f\"Modulus: {a} % {b} = {modulus_result}\")\n"
      ],
      "metadata": {
        "colab": {
          "base_uri": "https://localhost:8080/"
        },
        "id": "QUgJ12i-oCn4",
        "outputId": "f31ae9c2-313d-4292-8d24-c4154eb9ffcb"
      },
      "execution_count": 9,
      "outputs": [
        {
          "output_type": "stream",
          "name": "stdout",
          "text": [
            "Addition: 7 + 3 = 10\n",
            "Subtraction: 7 - 3 = 4\n",
            "Multiplication: 7 * 3 = 21\n",
            "Division: 7 / 3 = 2.3333333333333335\n",
            "Modulus: 7 % 3 = 1\n"
          ]
        }
      ]
    },
    {
      "cell_type": "markdown",
      "source": [
        "# Conditional Staements"
      ],
      "metadata": {
        "id": "PXcOu9iRoUp2"
      }
    },
    {
      "cell_type": "code",
      "source": [
        "# prompt: Use if-else conditions to check if a number is even or odd.\n",
        "\n",
        "# Get input from the user\n",
        "number = int(input(\"Enter an integer: \"))\n",
        "\n",
        "# Check if the number is even or odd using an if-else statement\n",
        "if number % 2 == 0:\n",
        "    print(f\"{number} is even.\")\n",
        "else:\n",
        "    print(f\"{number} is odd.\")\n"
      ],
      "metadata": {
        "colab": {
          "base_uri": "https://localhost:8080/"
        },
        "id": "kqF5LTn9obns",
        "outputId": "9cd8e30d-cbcd-4743-d13b-fb552eeab49b"
      },
      "execution_count": 11,
      "outputs": [
        {
          "output_type": "stream",
          "name": "stdout",
          "text": [
            "Enter an integer: 3\n",
            "3 is odd.\n"
          ]
        }
      ]
    },
    {
      "cell_type": "markdown",
      "source": [
        "# Loops"
      ],
      "metadata": {
        "id": "Lzjge8Tmoqal"
      }
    },
    {
      "cell_type": "code",
      "source": [
        "# prompt: Use a for loop to print numbers and modify it to show even numbers.\n",
        "\n",
        "# Loop to print numbers from 1 to 10\n",
        "for i in range(1, 11):\n",
        "  print(i)\n",
        "\n",
        "\n",
        "# Loop to print even numbers from 1 to 10\n",
        "for i in range(2, 11, 2):\n",
        "    print(i) # Added indentation to print the value of 'i' within the loop"
      ],
      "metadata": {
        "colab": {
          "base_uri": "https://localhost:8080/"
        },
        "id": "MQcteDXIov6E",
        "outputId": "af1a0978-02ee-457f-f676-49978f4137c4"
      },
      "execution_count": 13,
      "outputs": [
        {
          "output_type": "stream",
          "name": "stdout",
          "text": [
            "1\n",
            "2\n",
            "3\n",
            "4\n",
            "5\n",
            "6\n",
            "7\n",
            "8\n",
            "9\n",
            "10\n",
            "2\n",
            "4\n",
            "6\n",
            "8\n",
            "10\n"
          ]
        }
      ]
    },
    {
      "cell_type": "markdown",
      "source": [
        "# Functions: Simple Calculator"
      ],
      "metadata": {
        "id": "zypFib5vhyPg"
      }
    },
    {
      "cell_type": "code",
      "source": [
        "# prompt: Define and call a function to perform basic arithmetic operations.\n",
        "\n",
        "def calculator(num1, num2, operation):\n",
        "    \"\"\"Performs basic arithmetic operations.\n",
        "\n",
        "    Args:\n",
        "        num1: The first number.\n",
        "        num2: The second number.\n",
        "        operation: The operation to perform ('add', 'subtract', 'multiply', 'divide').\n",
        "\n",
        "    Returns:\n",
        "        The result of the operation, or an error message if the operation is invalid.\n",
        "    \"\"\"\n",
        "    if operation == 'add':\n",
        "        return num1 + num2\n",
        "    elif operation == 'subtract':\n",
        "        return num1 - num2\n",
        "    elif operation == 'multiply':\n",
        "        return num1 * num2\n",
        "    elif operation == 'divide':\n",
        "        if num2 == 0:\n",
        "            return \"Error: Division by zero\"\n",
        "        return num1 / num2\n",
        "    else:\n",
        "        return \"Error: Invalid operation\"\n",
        "\n",
        "# Get input from the user\n",
        "num1 = float(input(\"Enter the first number: \"))\n",
        "num2 = float(input(\"Enter the second number: \"))\n",
        "operation = input(\"Enter the operation (add, subtract, multiply, divide): \")\n",
        "\n",
        "# Call the calculator function and print the result\n",
        "result = calculator(num1, num2, operation)\n",
        "print(f\"Result: {result}\")\n"
      ],
      "metadata": {
        "colab": {
          "base_uri": "https://localhost:8080/"
        },
        "id": "qzoKYk2SpQkc",
        "outputId": "aa213dd4-0d51-4457-f17e-febf4c40d190"
      },
      "execution_count": 14,
      "outputs": [
        {
          "output_type": "stream",
          "name": "stdout",
          "text": [
            "Enter the first number: 3\n",
            "Enter the second number: 4\n",
            "Enter the operation (add, subtract, multiply, divide): add\n",
            "Result: 7.0\n"
          ]
        }
      ]
    },
    {
      "cell_type": "markdown",
      "source": [
        "# Lists: Average Calculator"
      ],
      "metadata": {
        "id": "C4WfbynzpKXb"
      }
    },
    {
      "cell_type": "code",
      "source": [
        "# prompt: Use lists to calculate the average of a set of numbers\n",
        "\n",
        "def calculate_average(numbers):\n",
        "    \"\"\"Calculates the average of a list of numbers.\n",
        "\n",
        "    Args:\n",
        "      numbers: A list of numbers.\n",
        "\n",
        "    Returns:\n",
        "      The average of the numbers in the list, or 0 if the list is empty.\n",
        "    \"\"\"\n",
        "    if not numbers:\n",
        "        return 0\n",
        "    return sum(numbers) / len(numbers)\n",
        "\n",
        "# Example usage\n",
        "my_numbers = [10, 20, 30, 40, 50]\n",
        "average = calculate_average(my_numbers)\n",
        "print(f\"The average is: {average}\")\n"
      ],
      "metadata": {
        "colab": {
          "base_uri": "https://localhost:8080/"
        },
        "id": "srRhfXcJpoEE",
        "outputId": "ae0cd66e-d8d3-48e7-e1ff-942a92d2a73d"
      },
      "execution_count": 15,
      "outputs": [
        {
          "output_type": "stream",
          "name": "stdout",
          "text": [
            "The average is: 30.0\n"
          ]
        }
      ]
    },
    {
      "cell_type": "markdown",
      "source": [
        "# Dictionaries: Fruits"
      ],
      "metadata": {
        "id": "tQ-ccYcSqBsm"
      }
    },
    {
      "cell_type": "code",
      "source": [
        "# Define a dictionary to store different fruits\n",
        "fruits = {\n",
        "    \"apple\": \"A sweet, red or green fruit with a crisp texture.\",\n",
        "    \"banana\": \"A long, yellow fruit with a soft, sweet flesh.\",\n",
        "    \"orange\": \"A round, citrus fruit with a bright orange skin and juicy segments.\",\n",
        "    \"grape\": \"A small, round fruit that grows in clusters, often used to make wine.\",\n",
        "    \"strawberry\": \"A small, red, heart-shaped fruit with a sweet and slightly tart flavor.\"\n",
        "}\n",
        "\n",
        "# Print the fruits and their descriptions\n",
        "for fruit, description in fruits.items():\n",
        "    print(f\"{fruit.capitalize()}: {description}\\n\")\n",
        ""
      ],
      "metadata": {
        "colab": {
          "base_uri": "https://localhost:8080/"
        },
        "id": "_KqUwjoYp5ID",
        "outputId": "811491ce-a155-4bf7-e82e-0542cf9b1fb6"
      },
      "execution_count": 17,
      "outputs": [
        {
          "output_type": "stream",
          "name": "stdout",
          "text": [
            "Apple: A sweet, red or green fruit with a crisp texture.\n",
            "\n",
            "Banana: A long, yellow fruit with a soft, sweet flesh.\n",
            "\n",
            "Orange: A round, citrus fruit with a bright orange skin and juicy segments.\n",
            "\n",
            "Grape: A small, round fruit that grows in clusters, often used to make wine.\n",
            "\n",
            "Strawberry: A small, red, heart-shaped fruit with a sweet and slightly tart flavor.\n",
            "\n"
          ]
        }
      ]
    },
    {
      "cell_type": "code",
      "source": [
        "# program to craete and store dictionary with fruit anmes and its rate, accept from user\n",
        "d=dict()\n",
        "n=(int)(input(\"Enter number of elements to accept\"))\n",
        "for i in range(n):\n",
        "  key = input(\"Enter fruit name:\")\n",
        "  value = int(input(\"Enter fruit rate:\"))\n",
        "  d[key]=value\n",
        "for key,value in d.items():\n",
        "  print(key, 'rate' ,d[key])"
      ],
      "metadata": {
        "colab": {
          "base_uri": "https://localhost:8080/"
        },
        "id": "NyGCzzTEuSB1",
        "outputId": "6b255ae1-971d-4f57-cbae-4fea0bd058b5"
      },
      "execution_count": 19,
      "outputs": [
        {
          "output_type": "stream",
          "name": "stdout",
          "text": [
            "Enter number of elements to accept3\n",
            "Enter fruit name:Apple\n",
            "Enter fruit rate:56\n",
            "Enter fruit name:Mango\n",
            "Enter fruit rate:76\n",
            "Enter fruit name:Grapes\n",
            "Enter fruit rate:65\n",
            "Apple rate 56\n",
            "Mango rate 76\n",
            "Grapes rate 65\n"
          ]
        }
      ]
    },
    {
      "cell_type": "markdown",
      "source": [
        "# File Handling: Writing to a File"
      ],
      "metadata": {
        "id": "meN8hxuqv7cx"
      }
    },
    {
      "cell_type": "code",
      "source": [
        "# Function to write user input to a file\n",
        "def write_to_file(filename):\n",
        "    # Get user input\n",
        "    user_input = input(\"Enter some text to save to the file: \")\n",
        "\n",
        "    # Open the file in write mode and write the user input\n",
        "    with open(filename, 'w') as file:\n",
        "        file.write(user_input)\n",
        "    print(f\"Text has been written to {filename}.\")\n",
        "\n",
        "# Function to read the contents of a file\n",
        "def read_from_file(filename):\n",
        "    # Open the file in read mode and read the contents\n",
        "    with open(filename, 'r') as file:\n",
        "        contents = file.read()\n",
        "    print(f\"Contents of {filename}:\")\n",
        "    print(contents)\n",
        "\n",
        "# Main program\n",
        "if __name__ == \"__main__\":\n",
        "    filename = \"user_input.txt\"  # Name of the file to store user input\n",
        "\n",
        "    # Write user input to the file\n",
        "    write_to_file(filename)\n",
        "\n",
        "    # Read and display the contents of the file\n",
        "    read_from_file(filename)"
      ],
      "metadata": {
        "colab": {
          "base_uri": "https://localhost:8080/"
        },
        "id": "Ee1trLqwwfe5",
        "outputId": "b9637bfe-8a58-4683-8c3e-efc16449922e"
      },
      "execution_count": 20,
      "outputs": [
        {
          "output_type": "stream",
          "name": "stdout",
          "text": [
            "Enter some text to save to the file: xyz\n",
            "Text has been written to user_input.txt.\n",
            "Contents of user_input.txt:\n",
            "xyz\n"
          ]
        }
      ]
    }
  ]
}