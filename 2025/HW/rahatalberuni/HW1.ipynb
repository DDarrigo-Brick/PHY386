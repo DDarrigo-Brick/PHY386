{
  "nbformat": 4,
  "nbformat_minor": 0,
  "metadata": {
    "colab": {
      "provenance": [],
      "toc_visible": true,
      "authorship_tag": "ABX9TyOP+vd4qiGD062oZ5eXmL31",
      "include_colab_link": true
    },
    "kernelspec": {
      "name": "python3",
      "display_name": "Python 3"
    },
    "language_info": {
      "name": "python"
    }
  },
  "cells": [
    {
      "cell_type": "markdown",
      "metadata": {
        "id": "view-in-github",
        "colab_type": "text"
      },
      "source": [
        "<a href=\"https://colab.research.google.com/github/ubsuny/PHY386/blob/Homework2025/2025/HW/rahatalberuni/HW1.ipynb\" target=\"_parent\"><img src=\"https://colab.research.google.com/assets/colab-badge.svg\" alt=\"Open In Colab\"/></a>"
      ]
    },
    {
      "cell_type": "code",
      "execution_count": null,
      "metadata": {
        "id": "Et4Bk7Eup7tf"
      },
      "outputs": [],
      "source": [
        "# Homework 1"
      ]
    },
    {
      "cell_type": "code",
      "source": [],
      "metadata": {
        "id": "t-x-unflqCzO"
      },
      "execution_count": null,
      "outputs": []
    },
    {
      "cell_type": "markdown",
      "source": [
        "\n",
        "\n",
        "```\n",
        "# This is formatted as code\n",
        "```\n",
        "\n",
        "# Homework 1"
      ],
      "metadata": {
        "id": "kC1IDPN0qFL0"
      }
    },
    {
      "cell_type": "code",
      "source": [],
      "metadata": {
        "id": "pVP4Z2M7qPrG"
      },
      "execution_count": null,
      "outputs": []
    },
    {
      "cell_type": "markdown",
      "source": [
        "## Basic formatting\n",
        "\n",
        "- Item 1\n",
        "    - Subitem 1\n",
        "    - Subitem 2\n",
        "- Item 2\n",
        "\n",
        "1. Numbered item\n",
        "  1. sub numbered item\n",
        "  2. sub item 2\n",
        "3. Next item\n",
        "   - subitem 1\n",
        "   100000. next item\n",
        "\n",
        "\n",
        "   ```\n",
        "   # This is formatted as code\n",
        "   ```\n",
        "\n",
        "   ```python\n",
        "   print (\"hello World\")\n",
        "   ```\n",
        "\n",
        "   ``` text\n",
        "   # example\n",
        "   ```\n",
        "\n",
        "   ```matlab\n",
        "   x = [1,2; 1,2]\n",
        "   ```\n",
        "\n",
        "   ```latex\n",
        "   \\int_0^{\\infty}x^2\\,dx\n",
        "   ```\n",
        "   This is in line $\\ LaTex$ code $\\int_0^{\\infty} x^2 \\,\n",
        "   dx$\n",
        "\n",
        "   $$\n",
        "   \\int_0^{\\infty} x^2 \\, dx\n",
        "   $$\n",
        "   \n",
        "   [link to github](https://github.com)\n",
        "   \n",
        "   ![Noble foundation, Public domain, via Wikepedia commons](https://upload.wikimedia.org/wikipedia/commons/2/2e/Erwin_Schr%C3%B6dinger_%281933%29.jpg)\n",
        "\n",
        "\n"
      ],
      "metadata": {
        "id": "FRrzsaXIqQ-y"
      }
    },
    {
      "cell_type": "code",
      "source": [],
      "metadata": {
        "id": "9Cx90dp3qbCv"
      },
      "execution_count": null,
      "outputs": []
    }
  ]
}