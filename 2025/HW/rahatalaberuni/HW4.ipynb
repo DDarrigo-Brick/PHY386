{
  "nbformat": 4,
  "nbformat_minor": 0,
  "metadata": {
    "colab": {
      "provenance": [],
      "include_colab_link": true
    },
    "kernelspec": {
      "name": "py310",
      "display_name": "py310"
    }
  },
  "cells": [
    {
      "cell_type": "markdown",
      "metadata": {
        "id": "view-in-github",
        "colab_type": "text"
      },
      "source": [
        "<a href=\"https://colab.research.google.com/github/ubsuny/PHY386/blob/Homework2025/2025/HW/rahatalaberuni/HW4.ipynb\" target=\"_parent\"><img src=\"https://colab.research.google.com/assets/colab-badge.svg\" alt=\"Open In Colab\"/></a>"
      ]
    },
    {
      "cell_type": "markdown",
      "source": [
        "# Homework 4: Python Types & Quantum States (42 pts)\n",
        "\n",
        "## Learning Outcomes\n",
        "1. Understand Python type annotations for function arguments and returns\n",
        "2. Create quantum states using QuTiP's type-checked operations and learning how to use a new python library\n",
        "3. Generate photonic circuits using Strawberry Fields with AI assistance"
      ],
      "metadata": {
        "id": "sIZ7fmpxzCYe"
      }
    },
    {
      "cell_type": "markdown",
      "source": [
        "## Understanding Data Types and Type Checking in Python\n",
        "### What is a standard Data Type?\n",
        "\n",
        "A **data type** is a classification of data that determines the kind of value a variable can hold and what operations can be performed on it. In Python, data types are classes, and variables are instances of these classes. Python supports various built-in data types, including:\n",
        "\n",
        "- **Numeric types**: `int`, `float`, `complex`  \n",
        "  (e.g., photon numbers, probabilities, amplitudes)\n",
        "- **Sequence types**: `list`, `tuple`, `range`  \n",
        "  (e.g., lists of quantum states)\n",
        "- **Text type**: `str`  \n",
        "  (e.g., state labels or descriptions)\n",
        "- **Mapping type**: `dict`  \n",
        "  (e.g., parameter dictionaries for circuits)\n",
        "- **Set types**: `set`, `frozenset`\n",
        "- **Boolean type**: `bool`  \n",
        "  (e.g., flags for conditions)\n",
        "- **Binary types**: `bytes`, `bytearray`, `memoryview`\n",
        "- **None type**: `NoneType`\n",
        "\n",
        "Each data type has specific characteristics and behaviors, allowing programmers to work with different kinds of data efficiently.\n",
        "\n",
        "---\n",
        "\n",
        "### What is Type Checking?\n",
        "\n",
        "**Type checking** is the process of verifying whether operations in a program comply with the type rules of the programming language. It ensures that variables are used consistently with their declared or inferred types, helping to prevent errors and improve code reliability.\n",
        "\n",
        "There are two main forms of type checking:\n",
        "\n",
        "1. **Static Type Checking**:\n",
        "   - Performed at compile-time (before running the program).\n",
        "   - Detects type-related errors early in development.\n",
        "   - Python supports static type checking using **type hints** and external tools like `mypy`.\n",
        "\n",
        "2. **Dynamic Type Checking**:\n",
        "   - Occurs at runtime (while the program is running).\n",
        "   - Python primarily uses dynamic type checking, allowing flexibility but catching errors later.\n"
      ],
      "metadata": {
        "id": "mioZcAtazHHK"
      }
    },
    {
      "cell_type": "markdown",
      "source": [
        "Type checking helps you:\n",
        "- Catch bugs early.\n",
        "- Make your code easier to understand.\n",
        "- Improve collaboration by clearly defining how functions should be used."
      ],
      "metadata": {
        "id": "x1PqIeHGzpoY"
      }
    },
    {
      "cell_type": "markdown",
      "source": [
        "## Part 0: Google Colab Setup for Type Checking\n",
        "### Step 1: Enable Built-in Type Checking\n",
        "Google Colab has a built-in type checker (Pyright) that underlines type errors in red. To enable it:\n",
        "1. Go to the **Tools** menu in Colab.\n",
        "2. Select **Settings**.\n",
        "3. Click on the **Editor** tab.\n",
        "4. Scroll down to **Code diagnostics** and select **Syntax and type checking**.\n",
        "\n",
        "Once enabled:\n",
        "- Type errors will be underlined in red.\n",
        "- Hover over the error to see detailed messages."
      ],
      "metadata": {
        "id": "CbK_wf5xzyN8"
      }
    },
    {
      "cell_type": "markdown",
      "source": [
        "### Step 2: Install External Type Checkers (Optional)\n",
        "For more advanced type checking, install `nbqa` and `mypy`:"
      ],
      "metadata": {
        "id": "7hVbzd2nz4BW"
      }
    },
    {
      "cell_type": "code",
      "source": [
        "!pip install -q nbqa mypy"
      ],
      "metadata": {
        "id": "Ki0Oc8wKz7Kl",
        "colab": {
          "base_uri": "https://localhost:8080/"
        },
        "outputId": "f3043f9f-3e3d-449f-f258-d48444ae9f4c"
      },
      "execution_count": 1,
      "outputs": [
        {
          "output_type": "stream",
          "name": "stdout",
          "text": [
            "\u001b[?25l   \u001b[90m━━━━━━━━━━━━━━━━━━━━━━━━━━━━━━━━━━━━━━━━\u001b[0m \u001b[32m0.0/12.3 MB\u001b[0m \u001b[31m?\u001b[0m eta \u001b[36m-:--:--\u001b[0m\r\u001b[2K   \u001b[91m━━━━━━━━━\u001b[0m\u001b[91m╸\u001b[0m\u001b[90m━━━━━━━━━━━━━━━━━━━━━━━━━━━━━━\u001b[0m \u001b[32m3.0/12.3 MB\u001b[0m \u001b[31m90.1 MB/s\u001b[0m eta \u001b[36m0:00:01\u001b[0m\r\u001b[2K   \u001b[91m━━━━━━━━━━━━━━━━━━━━━━━━━━━━━━━━━\u001b[0m\u001b[91m╸\u001b[0m\u001b[90m━━━━━━\u001b[0m \u001b[32m10.3/12.3 MB\u001b[0m \u001b[31m149.7 MB/s\u001b[0m eta \u001b[36m0:00:01\u001b[0m\r\u001b[2K   \u001b[91m━━━━━━━━━━━━━━━━━━━━━━━━━━━━━━━━━━━━━━━\u001b[0m\u001b[91m╸\u001b[0m \u001b[32m12.3/12.3 MB\u001b[0m \u001b[31m210.1 MB/s\u001b[0m eta \u001b[36m0:00:01\u001b[0m\r\u001b[2K   \u001b[90m━━━━━━━━━━━━━━━━━━━━━━━━━━━━━━━━━━━━━━━━\u001b[0m \u001b[32m12.3/12.3 MB\u001b[0m \u001b[31m127.5 MB/s\u001b[0m eta \u001b[36m0:00:00\u001b[0m\n",
            "\u001b[2K   \u001b[90m━━━━━━━━━━━━━━━━━━━━━━━━━━━━━━━━━━━━━━━━\u001b[0m \u001b[32m45.8/45.8 kB\u001b[0m \u001b[31m3.9 MB/s\u001b[0m eta \u001b[36m0:00:00\u001b[0m\n",
            "\u001b[2K   \u001b[90m━━━━━━━━━━━━━━━━━━━━━━━━━━━━━━━━━━━━━━━━\u001b[0m \u001b[32m236.0/236.0 kB\u001b[0m \u001b[31m19.4 MB/s\u001b[0m eta \u001b[36m0:00:00\u001b[0m\n",
            "\u001b[2K   \u001b[90m━━━━━━━━━━━━━━━━━━━━━━━━━━━━━━━━━━━━━━━━\u001b[0m \u001b[32m1.6/1.6 MB\u001b[0m \u001b[31m78.8 MB/s\u001b[0m eta \u001b[36m0:00:00\u001b[0m\n",
            "\u001b[?25h"
          ]
        }
      ]
    },
    {
      "cell_type": "markdown",
      "source": [
        "To run type checks on your entire notebook:"
      ],
      "metadata": {
        "id": "ggOAWjfxz-m_"
      }
    },
    {
      "cell_type": "code",
      "source": [
        "!nbqa mypy HW3.ipynb"
      ],
      "metadata": {
        "id": "wdbg0dVT0A_P",
        "colab": {
          "base_uri": "https://localhost:8080/"
        },
        "outputId": "dbd9d86a-9f36-425b-bc0f-9ffd97d79e5f"
      },
      "execution_count": 2,
      "outputs": [
        {
          "output_type": "stream",
          "name": "stdout",
          "text": [
            "\u001b[1mNo such file or directory: HW3.ipynb\u001b[0m\n"
          ]
        }
      ]
    },
    {
      "cell_type": "markdown",
      "source": [
        "## Part 1: Python Type Annotations\n",
        "\n",
        "## Type Annotations in Python\n",
        "\n",
        "Type annotations in Python provide a way to specify the expected types of variables, function parameters, and return values. They serve as hints to developers and tools, but do not affect the runtime behavior of the code. Here's how to use type annotations:\n",
        "\n",
        "### Basic Syntax\n",
        "\n",
        "- For variables: `variable_name: type = value`\n",
        "- For functions:\n",
        "  ```python\n",
        "  def function_name(param1: type1, param2: type2) -> return_type:\n",
        "      function body\n",
        "  ```\n",
        "\n",
        "---\n",
        "\n",
        "### Why Use Type Annotations in Python?\n",
        "\n",
        "Python allows you to add **type annotations**, which are optional hints about the expected types of variables, function arguments, and return values. While Python doesn't enforce these annotations at runtime, tools like `mypy` or Colab's built-in type checker can analyze your code for consistency.\n",
        "\n",
        "**Example error prevention:**\n",
        "```python\n",
        "# Without annotations\n",
        "def bad_function(x):\n",
        "    return x + 1\n",
        "\n",
        "bad_function(\"2\")  # Returns \"21\" (string concatenation)!\n",
        "\n",
        "# With annotations\n",
        "def good_function(x: int) -> int:\n",
        "    return x + 1\n",
        "\n",
        "bad_function(\"2\")  # Type checkers warn about string input\n",
        "```\n",
        "\n",
        "#### Examples:\n",
        "\n",
        "1. Variable annotations:"
      ],
      "metadata": {
        "id": "fYQ5iXi82PWS"
      }
    },
    {
      "cell_type": "code",
      "source": [
        "name: str = \"Alice\"\n",
        "distance: int = 30\n",
        "print(\"var: {}, type: {}\".format(distance, type(distance)))"
      ],
      "metadata": {
        "id": "AZBEG0a82UML",
        "colab": {
          "base_uri": "https://localhost:8080/"
        },
        "outputId": "4ca5fce1-0f8e-42f3-b5b4-e1a7d49f016b"
      },
      "execution_count": 3,
      "outputs": [
        {
          "output_type": "stream",
          "name": "stdout",
          "text": [
            "var: 30, type: <class 'int'>\n"
          ]
        }
      ]
    },
    {
      "cell_type": "markdown",
      "source": [
        "2. Function annotations:"
      ],
      "metadata": {
        "id": "ZuG0Bzpd4ory"
      }
    },
    {
      "cell_type": "code",
      "source": [
        "def encryption_type(name: str) -> str:\n",
        "    \"\"\" annotation example for functions \"\"\"\n",
        "    return f\"Encryption: {name}\"\n",
        "print(encryption_type(\"Caesar Cipher\"))"
      ],
      "metadata": {
        "id": "gCMOuyv64svo",
        "colab": {
          "base_uri": "https://localhost:8080/"
        },
        "outputId": "7ba61527-97fc-4d58-f5e4-37cbfee244ef"
      },
      "execution_count": 4,
      "outputs": [
        {
          "output_type": "stream",
          "name": "stdout",
          "text": [
            "Encryption: Caesar Cipher\n"
          ]
        }
      ]
    },
    {
      "cell_type": "code",
      "source": [
        "def add_numbers(a: int, b: int) -> int:\n",
        "    return a + b\n",
        "\n",
        "add_numbers(2, 3)  # Works fine\n",
        "add_numbers(\"2\", 3)  # Type checker will flag this as an error!"
      ],
      "metadata": {
        "id": "qU5SBF2U1ovw",
        "colab": {
          "base_uri": "https://localhost:8080/",
          "height": 305
        },
        "outputId": "e75e029d-2aca-46c0-b3f5-b8cc41c3d772"
      },
      "execution_count": 5,
      "outputs": [
        {
          "output_type": "error",
          "ename": "TypeError",
          "evalue": "can only concatenate str (not \"int\") to str",
          "traceback": [
            "\u001b[0;31m---------------------------------------------------------------------------\u001b[0m",
            "\u001b[0;31mTypeError\u001b[0m                                 Traceback (most recent call last)",
            "\u001b[0;32m<ipython-input-5-6ac8dee1ab57>\u001b[0m in \u001b[0;36m<cell line: 0>\u001b[0;34m()\u001b[0m\n\u001b[1;32m      3\u001b[0m \u001b[0;34m\u001b[0m\u001b[0m\n\u001b[1;32m      4\u001b[0m \u001b[0madd_numbers\u001b[0m\u001b[0;34m(\u001b[0m\u001b[0;36m2\u001b[0m\u001b[0;34m,\u001b[0m \u001b[0;36m3\u001b[0m\u001b[0;34m)\u001b[0m  \u001b[0;31m# Works fine\u001b[0m\u001b[0;34m\u001b[0m\u001b[0;34m\u001b[0m\u001b[0m\n\u001b[0;32m----> 5\u001b[0;31m \u001b[0madd_numbers\u001b[0m\u001b[0;34m(\u001b[0m\u001b[0;34m\"2\"\u001b[0m\u001b[0;34m,\u001b[0m \u001b[0;36m3\u001b[0m\u001b[0;34m)\u001b[0m  \u001b[0;31m# Type checker will flag this as an error!\u001b[0m\u001b[0;34m\u001b[0m\u001b[0;34m\u001b[0m\u001b[0m\n\u001b[0m",
            "\u001b[0;32m<ipython-input-5-6ac8dee1ab57>\u001b[0m in \u001b[0;36madd_numbers\u001b[0;34m(a, b)\u001b[0m\n\u001b[1;32m      1\u001b[0m \u001b[0;32mdef\u001b[0m \u001b[0madd_numbers\u001b[0m\u001b[0;34m(\u001b[0m\u001b[0ma\u001b[0m\u001b[0;34m:\u001b[0m \u001b[0mint\u001b[0m\u001b[0;34m,\u001b[0m \u001b[0mb\u001b[0m\u001b[0;34m:\u001b[0m \u001b[0mint\u001b[0m\u001b[0;34m)\u001b[0m \u001b[0;34m->\u001b[0m \u001b[0mint\u001b[0m\u001b[0;34m:\u001b[0m\u001b[0;34m\u001b[0m\u001b[0;34m\u001b[0m\u001b[0m\n\u001b[0;32m----> 2\u001b[0;31m     \u001b[0;32mreturn\u001b[0m \u001b[0ma\u001b[0m \u001b[0;34m+\u001b[0m \u001b[0mb\u001b[0m\u001b[0;34m\u001b[0m\u001b[0;34m\u001b[0m\u001b[0m\n\u001b[0m\u001b[1;32m      3\u001b[0m \u001b[0;34m\u001b[0m\u001b[0m\n\u001b[1;32m      4\u001b[0m \u001b[0madd_numbers\u001b[0m\u001b[0;34m(\u001b[0m\u001b[0;36m2\u001b[0m\u001b[0;34m,\u001b[0m \u001b[0;36m3\u001b[0m\u001b[0;34m)\u001b[0m  \u001b[0;31m# Works fine\u001b[0m\u001b[0;34m\u001b[0m\u001b[0;34m\u001b[0m\u001b[0m\n\u001b[1;32m      5\u001b[0m \u001b[0madd_numbers\u001b[0m\u001b[0;34m(\u001b[0m\u001b[0;34m\"2\"\u001b[0m\u001b[0;34m,\u001b[0m \u001b[0;36m3\u001b[0m\u001b[0;34m)\u001b[0m  \u001b[0;31m# Type checker will flag this as an error!\u001b[0m\u001b[0;34m\u001b[0m\u001b[0;34m\u001b[0m\u001b[0m\n",
            "\u001b[0;31mTypeError\u001b[0m: can only concatenate str (not \"int\") to str"
          ]
        }
      ]
    },
    {
      "cell_type": "markdown",
      "source": [
        "3. Complex types:\n",
        "```python\n",
        "from typing import List, Dict\n",
        "def process_data(items: List[int]) -> Dict[str, int]:\n",
        "    # Function implementation\n",
        "```"
      ],
      "metadata": {
        "id": "63aW655g5apN"
      }
    },
    {
      "cell_type": "markdown",
      "source": [
        "\n",
        "Type annotations help improve code readability, catch potential errors early, and enable better tooling support for IDEs and static type checkers like mypy."
      ],
      "metadata": {
        "id": "ve_78hw01lQf"
      }
    },
    {
      "cell_type": "markdown",
      "source": [
        "## Quantum Concepts in This Assignment\n",
        "\n",
        "### What is a Quantum State?\n",
        "A **quantum state** is a mathematical representation of a quantum system. In a two-level system (qubit), a state $|\\psi\\rangle$ can be written as:\n",
        "$$ |\\psi\\rangle = \\alpha |0\\rangle + \\beta |1\\rangle $$\n",
        "where $\\alpha$ and $\\beta$ are complex numbers representing probability amplitudes.\n",
        "\n",
        "### Superposition and Measurement\n",
        "- **Superposition**: A qubit can be in a mix of $|0\\rangle$ and $|1\\rangle$ states until measured.\n",
        "- **Measurement**: When measured, the qubit collapses to either $|0\\rangle$ or $|1\\rangle$ with probabilities $\\alpha|^2$ and $|\\beta|^2$.\n",
        "\n",
        "### Entanglement\n",
        "When two qubits are **entangled**, the state of one qubit depends on the state of the other, even if they are far apart. A common entangled state is the Bell state:\n",
        "$$|\\Phi^+\\rangle = \\frac{1}{\\sqrt{2}} (|00\\rangle + |11\\rangle) $$\n"
      ],
      "metadata": {
        "id": "iokDkDQxhM0X"
      }
    },
    {
      "cell_type": "markdown",
      "source": [
        "### QuTiP Data Types\n",
        "\n",
        "QuTiP (Quantum Toolbox in Python) introduces specialized data types for quantum science, primarily centered around the `Qobj` (Quantum Object) class. Here's an overview of the key QuTiP data types:\n",
        "\n",
        "1. **Qobj**: The fundamental data type in QuTiP, representing [quantum operators](https://en.wikipedia.org/wiki/Operator_(physics)) and [state vectors](https://en.wikipedia.org/wiki/Quantum_state). It has the following characteristics:\n",
        "   - Implements mathematical operations (+, -, *) between Qobj instances\n",
        "   - Can represent [kets](https://en.wikipedia.org/wiki/Bra%E2%80%93ket_notation), [bras](https://en.wikipedia.org/wiki/Bra%E2%80%93ket_notation), operators, and [superoperators](https://en.wikipedia.org/wiki/Superoperator)\n",
        "   - Stores data in various formats (e.g., dense or sparse matrices)\n",
        "\n",
        "2. **DimensionLike**: Represents the dimensions of [quantum systems](https://en.wikipedia.org/wiki/Quantum_system), crucial for [tensor products](https://en.wikipedia.org/wiki/Tensor_product).\n",
        "\n",
        "3. **ArrayLike**: Used for input data in vector/matrix representation of quantum objects.\n",
        "\n",
        "4. **ket**: A column vector representing a [quantum state](https://en.wikipedia.org/wiki/Quantum_state).\n",
        "\n",
        "5. **bra**: A row vector, the [Hermitian conjugate](https://en.wikipedia.org/wiki/Hermitian_adjoint) of a ket.\n",
        "\n",
        "6. **oper**: A matrix representing a quantum operator.\n",
        "\n",
        "7. **super**: A superoperator, used in quantum operations on [density matrices](https://en.wikipedia.org/wiki/Density_matrix).\n",
        "\n",
        "8. **eseries**: Represents exponential-series expansion of time-dependent quantum objects.\n",
        "\n",
        "QuTiP also supports various data layer types for efficient storage and computation:\n",
        "\n",
        "- **Dense**: For dense matrix representations\n",
        "- **CSR**: Compressed Sparse Row format for sparse matrices\n",
        "- **Dia**: Diagonal storage format for diagonal matrices\n",
        "\n",
        "These specialized types allow QuTiP to efficiently handle quantum computations, enabling operations like:\n",
        "- Creating quantum states (e.g., [Fock states](https://en.wikipedia.org/wiki/Fock_state), [coherent states](https://en.wikipedia.org/wiki/Coherent_state))\n",
        "- Performing [quantum measurements](https://en.wikipedia.org/wiki/Measurement_in_quantum_mechanics)\n",
        "- Simulating [quantum dynamics](https://en.wikipedia.org/wiki/Quantum_dynamics)\n",
        "\n",
        "By using these types, QuTiP provides a powerful framework for [quantum computing](https://en.wikipedia.org/wiki/Quantum_computing) simulations and calculations.\n"
      ],
      "metadata": {
        "id": "oabgMDeZ7mHZ"
      }
    },
    {
      "cell_type": "markdown",
      "source": [
        "## Exercise 1 - Debugging Type Errors (14 pts)  \n",
        "Fix the type errors in this code by referring to the [qutip documentation](https://qutip.org/docs/4.0.2/index.html) which data types are required :"
      ],
      "metadata": {
        "id": "eNmXmMKq6Hom"
      }
    },
    {
      "cell_type": "code",
      "source": [
        "!pip install qutip\n",
        "import qutip"
      ],
      "metadata": {
        "id": "pEqP36pk6KIO",
        "colab": {
          "base_uri": "https://localhost:8080/"
        },
        "outputId": "bc32199f-6cd6-4658-80dc-1f0961e9441e"
      },
      "execution_count": 6,
      "outputs": [
        {
          "output_type": "stream",
          "name": "stdout",
          "text": [
            "Collecting qutip\n",
            "  Downloading qutip-5.1.1-cp311-cp311-manylinux_2_17_x86_64.manylinux2014_x86_64.whl.metadata (9.2 kB)\n",
            "Requirement already satisfied: numpy>=1.22 in /usr/local/lib/python3.11/dist-packages (from qutip) (2.0.2)\n",
            "Requirement already satisfied: scipy>=1.9 in /usr/local/lib/python3.11/dist-packages (from qutip) (1.14.1)\n",
            "Requirement already satisfied: packaging in /usr/local/lib/python3.11/dist-packages (from qutip) (24.2)\n",
            "Downloading qutip-5.1.1-cp311-cp311-manylinux_2_17_x86_64.manylinux2014_x86_64.whl (30.1 MB)\n",
            "\u001b[2K   \u001b[90m━━━━━━━━━━━━━━━━━━━━━━━━━━━━━━━━━━━━━━━━\u001b[0m \u001b[32m30.1/30.1 MB\u001b[0m \u001b[31m24.0 MB/s\u001b[0m eta \u001b[36m0:00:00\u001b[0m\n",
            "\u001b[?25hInstalling collected packages: qutip\n",
            "Successfully installed qutip-5.1.1\n"
          ]
        }
      ]
    },
    {
      "cell_type": "code",
      "source": [
        "def photon_count(state: qutip.Qobj) -> float:\n",
        "    \"\"\"\n",
        "    Computes the expectation value of the photon number operator ⟨n⟩.\n",
        "\n",
        "    Parameters:\n",
        "        state (qutip.Qobj): Quantum state.\n",
        "\n",
        "    Returns:\n",
        "        float: Photon number expectation value.\n",
        "    \"\"\"\n",
        "\n",
        "    return qutip.expect(qutip.num(10), state)  # Returns float!"
      ],
      "metadata": {
        "id": "u8Df-4Ao-iWl"
      },
      "execution_count": 13,
      "outputs": []
    },
    {
      "cell_type": "code",
      "source": [
        "photon_count(qutip.coherent(10, 1))"
      ],
      "metadata": {
        "id": "DpVYfPlq-kt0",
        "colab": {
          "base_uri": "https://localhost:8080/"
        },
        "outputId": "797382a8-60be-4672-b2e8-e8ac3cc9e3e7"
      },
      "execution_count": 10,
      "outputs": [
        {
          "output_type": "execute_result",
          "data": {
            "text/plain": [
              "0.9999999259365113"
            ]
          },
          "metadata": {},
          "execution_count": 10
        }
      ]
    },
    {
      "cell_type": "code",
      "source": [
        "def create_fock_state(n: int, dims: int) -> qutip.Qobj:\n",
        "    \"\"\"\n",
        "    Type enforcement prevents:\n",
        "    create_fock_state(2.5, 10)  # Error: n must be integer!\n",
        "    \"\"\"\n",
        "    return qutip.fock(dims, n)"
      ],
      "metadata": {
        "id": "EBb2oJ9H-2Du"
      },
      "execution_count": 11,
      "outputs": []
    },
    {
      "cell_type": "code",
      "source": [
        "create_fock_state(2, 10)"
      ],
      "metadata": {
        "id": "AyCEO4hT-4He",
        "colab": {
          "base_uri": "https://localhost:8080/",
          "height": 35
        },
        "outputId": "b6ad62e9-4dec-4d0f-f4b8-e99c324f4cc8"
      },
      "execution_count": 16,
      "outputs": [
        {
          "output_type": "execute_result",
          "data": {
            "text/plain": [
              "Quantum object: dims=[[10], [1]], shape=(10, 1), type='ket', dtype=Dense\n",
              "Qobj data =\n",
              "[[0.]\n",
              " [0.]\n",
              " [1.]\n",
              " [0.]\n",
              " [0.]\n",
              " [0.]\n",
              " [0.]\n",
              " [0.]\n",
              " [0.]\n",
              " [0.]]"
            ],
            "text/latex": "Quantum object: dims=[[10], [1]], shape=(10, 1), type='ket', dtype=Dense$$\\left(\\begin{array}{cc}0\\\\0\\\\1\\\\0\\\\0\\\\0\\\\0\\\\0\\\\0\\\\0\\end{array}\\right)$$"
          },
          "metadata": {},
          "execution_count": 16
        }
      ]
    },
    {
      "cell_type": "code",
      "source": [
        "def create_coherent_state(alpha: float, dimension: int) -> qutip.Qobj:\n",
        "    \"\"\"\n",
        "    Creates a coherent state |α⟩ using QuTiP.\n",
        "\n",
        "    Parameters:\n",
        "        alpha (complex): Complex displacement parameter.\n",
        "        dimension (int): Hilbert space size.\n",
        "\n",
        "    Returns:\n",
        "        qutip.Qobj: The coherent state |α⟩.\n",
        "    \"\"\"\n",
        "    return qutip.coherent(dimension, alpha)\n",
        "\n",
        "def photon_number_expectation(state: qutip.Qobj ) -> int :\n",
        "    \"\"\"\n",
        "    Computes the expectation value of the photon number operator ⟨n⟩.\n",
        "\n",
        "    Parameters:\n",
        "        state (???): Quantum state.\n",
        "\n",
        "    Returns:\n",
        "        ???: Photon number expectation value.\n",
        "    \"\"\"\n",
        "    N=state.dims[0][0]\n",
        "    return qutip.expect(qutip.num(N), state)"
      ],
      "metadata": {
        "id": "QxxrqwPA6OUz"
      },
      "execution_count": 29,
      "outputs": []
    },
    {
      "cell_type": "markdown",
      "source": [
        "## Exercise 2: Quantum States in QuTiP (14 points)\n",
        "\n",
        "### Exercise 2.1: Creating Fock States\n",
        "Create the Fock state $|n\\rangle$ for $n=0, 1, 2$ using QuTiP and plot the corresponding wavefunctions.\n",
        "\n",
        "Hints: Use [`fock`](https://qutip.org/docs/4.0.2/apidoc/functions.html?highlight=fock#qutip.states.fock) to generate number states and [`state.full().flatten()**2`](https://qutip.org/docs/4.0.2/apidoc/classes.html?highlight=full#Qobj.full) in a bar plot for plotting\n"
      ],
      "metadata": {
        "id": "8v_7KBaFlTJg"
      }
    },
    {
      "cell_type": "code",
      "source": [
        "# prompt: Exercise 2.1: Creating Fock States\n",
        "# Create the Fock state  |𝑛⟩  for  𝑛=0,1,2  using QuTiP and plot the corresponding wavefunctions.\n",
        "# Hints: Use fock to generate number states and state.full().flatten()**2 in a bar plot for plotting\n",
        "\n",
        "import qutip\n",
        "import matplotlib.pyplot as plt\n",
        "\n",
        "# Create Fock states for n = 0, 1, 2\n",
        "n_values = [0, 1, 2]\n",
        "fock_states = [qutip.fock(10, n) for n in n_values]\n",
        "\n",
        "# Plot the wavefunctions\n",
        "plt.figure(figsize=(10, 6))\n",
        "for i, state in enumerate(fock_states):\n",
        "    probabilities = state.full().flatten()**2\n",
        "    plt.bar(range(len(probabilities)), probabilities, label=f'|n={n_values[i]}⟩')\n",
        "\n",
        "plt.xlabel('Photon number')\n",
        "plt.ylabel('Probability')\n",
        "plt.title('Fock state wavefunctions')\n",
        "plt.legend()\n",
        "plt.show()\n"
      ],
      "metadata": {
        "colab": {
          "base_uri": "https://localhost:8080/",
          "height": 635
        },
        "id": "ZSs6yXrEyUIw",
        "outputId": "39d049dd-d3a0-4a7b-b3ff-4e92ef7c854b"
      },
      "execution_count": 28,
      "outputs": [
        {
          "output_type": "stream",
          "name": "stderr",
          "text": [
            "/usr/local/lib/python3.11/dist-packages/matplotlib/cbook.py:1709: ComplexWarning: Casting complex values to real discards the imaginary part\n",
            "  return math.isfinite(val)\n",
            "/usr/local/lib/python3.11/dist-packages/matplotlib/transforms.py:757: ComplexWarning: Casting complex values to real discards the imaginary part\n",
            "  points = np.asarray(points, float)\n"
          ]
        },
        {
          "output_type": "display_data",
          "data": {
            "text/plain": [
              "<Figure size 1000x600 with 1 Axes>"
            ],
            "image/png": "[encoded data removed]"
          },
          "metadata": {}
        }
      ]
    },
    {
      "cell_type": "markdown",
      "source": [
        "### Exercise 2.2: Creating Coherent States\n",
        "Generate a coherent state using the function from Excercise 1 with $\\alpha = 1.5$ and visualize its Wigner function using matplotlibs `contourf` and the following example code:\n",
        "\n",
        "```python\n",
        "# Plot Wigner function\n",
        "x = np.linspace(-5, 5, 200)\n",
        "y = np.linspace(-5, 5, 200)\n",
        "X, Y = np.meshgrid(x, y)\n",
        "Z = qutip.wigner(coherent_state, x, y)\n",
        "```"
      ],
      "metadata": {
        "id": "QQAiG4NyoDxH"
      }
    },
    {
      "cell_type": "code",
      "source": [
        "import numpy as np\n",
        "import qutip\n",
        "import matplotlib.pyplot as plt # Import the matplotlib.pyplot module\n",
        "\n",
        "coherent_state = qutip.coherent(10, 1.5)\n",
        "# Plot Wigner function\n",
        "x = np.linspace(-5, 5, 200)\n",
        "y = np.linspace(-5, 5, 200)\n",
        "X, Y = np.meshgrid(x, y)\n",
        "Z = qutip.wigner(coherent_state, x, y)\n",
        "plt.contourf(X, Y, Z, 100, cmap='jet')\n",
        "\n",
        "plt.title(\"Wigner function of Coherent State\")\n",
        "plt.colorbar()\n"
      ],
      "metadata": {
        "colab": {
          "base_uri": "https://localhost:8080/",
          "height": 470
        },
        "id": "A9IJbOIBv8Qe",
        "outputId": "ef3022a5-8697-47bb-e5d9-ce2598494a29"
      },
      "execution_count": 25,
      "outputs": [
        {
          "output_type": "execute_result",
          "data": {
            "text/plain": [
              "<matplotlib.colorbar.Colorbar at 0x7f671251c850>"
            ]
          },
          "metadata": {},
          "execution_count": 25
        },
        {
          "output_type": "display_data",
          "data": {
            "text/plain": [
              "<Figure size 640x480 with 2 Axes>"
            ],
            "image/png": "[encoded data removed]"
          },
          "metadata": {}
        }
      ]
    },
    {
      "cell_type": "markdown",
      "source": [
        "### Exercise 2.3: Creating Squeezed Vacuum States\n",
        "Create and visualize a squeezed vacuum state with a squeezing parameter of 1.0 using [`squeeze`](https://qutip.org/docs/4.0.2/apidoc/functions.html?highlight=squeeze#qutip.operators.squeeze).\n",
        "\n",
        "1. Generate a so called vacuum Fock state with a Hilbert Dimension of your chaice (e.g. 10) and a number state of 0\n",
        "2. Generate a product state (*) of the squeeze state (Careful: same Hilbert dimension!) and the squeezing parameter $r$ with the vacuum Fock state.\n",
        "3. Now do the same plotting as in Ex 2.2\n",
        "\n",
        "\n"
      ],
      "metadata": {
        "id": "67LhR7ysifgA"
      }
    },
    {
      "cell_type": "code",
      "source": [
        "import qutip\n",
        "import numpy as np\n",
        "import matplotlib.pyplot as plt\n",
        "\n",
        "# 1. Generate a vacuum Fock state\n",
        "N = 10  # Hilbert space dimension\n",
        "vacuum_state = qutip.fock(N, 0)\n",
        "\n",
        "# 2. Generate a squeezed vacuum state\n",
        "r = 1.0  # Squeezing parameter\n",
        "squeezed_state = qutip.squeeze(N, r) * vacuum_state\n",
        "\n",
        "# 3. Plot the Wigner function of the squeezed vacuum state\n",
        "x = np.linspace(-5, 5, 200)\n",
        "y = np.linspace(-5, 5, 200)\n",
        "X, Y = np.meshgrid(x, y)\n",
        "Z = qutip.wigner(squeezed_state, x, y)\n",
        "\n",
        "plt.contourf(X, Y, Z, 100, cmap='jet')\n",
        "plt.title(\"Wigner function of Squeezed Vacuum State , r=1\")\n",
        "plt.colorbar()\n",
        "plt.show()\n"
      ],
      "metadata": {
        "colab": {
          "base_uri": "https://localhost:8080/",
          "height": 452
        },
        "id": "4hOwjZn8xl9y",
        "outputId": "30f2a097-fb19-48e4-cb1d-c9067e356125"
      },
      "execution_count": 27,
      "outputs": [
        {
          "output_type": "display_data",
          "data": {
            "text/plain": [
              "<Figure size 640x480 with 2 Axes>"
            ],
            "image/png": "[encoded data removed]"
          },
          "metadata": {}
        }
      ]
    },
    {
      "cell_type": "markdown",
      "source": [
        "## Exercise 3: Interactive Quantum Circuit Prompt (14 points)\n",
        "\n",
        "### Objective\n",
        "\n",
        "In this exercise, you will interact with any LLM to design and implement a quantum photonic circuit using a real quantum computer (Strawberry Fields). You will be guided through an interactive prompt that helps you define a quantum problem and generate Python code to solve it.\n",
        "\n",
        "### Instructions\n",
        "\n",
        "1. **Use the Provided Interactive Prompt**: Copy and paste the following structured prompt into ChatGPT. This will guide you through the process of creating a quantum photonic circuit tailored to a problem of your choice.\n",
        "\n",
        "   **Interactive Prompt:**\n",
        "   \n",
        "   ```\n",
        "   I want to design a quantum photonic circuit using Strawberry Fields in Python. Please guide me step by step by asking interactive questions to define the circuit based on my requirements. Here’s how I’d like you to proceed:\n",
        "   \n",
        "   1. Ask me what type of quantum problem I want to solve (e.g., quantum teleportation, Gaussian boson sampling, entanglement generation).\n",
        "   2. Help me choose the number of modes and photon states required for the circuit.\n",
        "   3. Assist me in selecting quantum operations (e.g., squeezing, displacement, beamsplitters, phase shifts, Kerr interaction).\n",
        "   4. Guide me in setting up appropriate measurements (e.g., homodyne, photon counting, heterodyne).\n",
        "   5. Once all parameters are determined, generate the complete Strawberry Fields Python code for the circuit.\n",
        "   6. Include a section to visualize the output state or measurement results using Matplotlib or QuTiP.\n",
        "   \n",
        "   Please guide me interactively through each step, ensuring that I understand the choices and their implications. After the final code is generated, provide an explanation of its functionality.\n",
        "   ```\n",
        "\n",
        "2. **Follow the Interaction**: Engage with ChatGPT as it asks you about the circuit details. Answer its questions carefully to shape the circuit according to your learning objectives.\n",
        "\n",
        "3. **Analyze and Run the Generated Code**: Copy the final Python code provided by ChatGPT and run it in your Python environment. Verify its correctness and functionality.\n",
        "\n",
        "4. **Modify and Improve the Prompt**: Make sure that the genrated code uses type annotations as in Excercise 1, refine the prompt and rerun the interaction to improve the generated circuit and its explanations.\n",
        "\n",
        "5. **Submit Your Work:**\n",
        "   - Include the final refined prompt you used.\n",
        "   - Provide the complete generated Python code.\n",
        "   - Document the results and any modifications you made to improve the circuit.\n",
        "   - Explain your learning experience from this interactive process.\n",
        "\n",
        "\n"
      ],
      "metadata": {
        "id": "01RGtSZPmOWP"
      }
    },
    {
      "cell_type": "code",
      "source": [
        "import sys\n",
        "print(\"version:\", sys.version)\n",
        ""
      ],
      "metadata": {
        "colab": {
          "base_uri": "https://localhost:8080/"
        },
        "id": "C5CNs1CD6eP7",
        "outputId": "412ed928-29bf-4b39-a0ed-75b18b623ef6"
      },
      "execution_count": 1,
      "outputs": [
        {
          "output_type": "stream",
          "name": "stdout",
          "text": [
            "version: 3.10.6 | packaged by conda-forge | (main, Aug 22 2022, 20:35:26) [GCC 10.4.0]\n"
          ]
        }
      ]
    },
    {
      "cell_type": "code",
      "source": [
        "!pip install scipy==1.13\n",
        "!pip install numpy==1.24"
      ],
      "metadata": {
        "colab": {
          "base_uri": "https://localhost:8080/"
        },
        "id": "GH5KGZQs6kGi",
        "outputId": "417c8803-4f71-4ce5-9e38-b7e6b99dae33"
      },
      "execution_count": 2,
      "outputs": [
        {
          "output_type": "stream",
          "name": "stdout",
          "text": [
            "Requirement already satisfied: scipy==1.13 in /usr/local/lib/python3.10/site-packages (1.13.0)\n",
            "Requirement already satisfied: numpy<2.3,>=1.22.4 in /usr/local/lib/python3.10/site-packages (from scipy==1.13) (1.24.0)\n",
            "Requirement already satisfied: numpy==1.24 in /usr/local/lib/python3.10/site-packages (1.24.0)\n"
          ]
        }
      ]
    },
    {
      "cell_type": "code",
      "source": [
        "!pip install strawberryfields\n",
        "from strawberryfields.apps import points, plot"
      ],
      "metadata": {
        "colab": {
          "base_uri": "https://localhost:8080/"
        },
        "collapsed": true,
        "id": "URpBRfc865Xm",
        "outputId": "1a2ea71e-5449-4afd-8acc-47fd0a439823"
      },
      "execution_count": 3,
      "outputs": [
        {
          "output_type": "stream",
          "name": "stdout",
          "text": [
            "Collecting strawberryfields\n",
            "  Using cached StrawberryFields-0.23.0-py3-none-any.whl (4.9 MB)\n",
            "Collecting quantum-xir>=0.1.1\n",
            "  Using cached quantum_xir-0.2.2-py3-none-any.whl (27 kB)\n",
            "Collecting sympy>=1.5\n",
            "  Using cached sympy-1.13.3-py3-none-any.whl (6.2 MB)\n",
            "Collecting xanadu-cloud-client>=0.2.1\n",
            "  Using cached xanadu_cloud_client-0.3.2-py3-none-any.whl (25 kB)\n",
            "Requirement already satisfied: requests>=2.22.0 in /usr/local/lib/python3.10/site-packages (from strawberryfields) (2.28.1)\n",
            "Requirement already satisfied: toml in /usr/local/lib/python3.10/site-packages (from strawberryfields) (0.10.2)\n",
            "Collecting quantum-blackbird>=0.3.0\n",
            "  Using cached quantum_blackbird-0.5.0-py3-none-any.whl (48 kB)\n",
            "Collecting numba\n",
            "  Using cached numba-0.61.0-cp310-cp310-manylinux2014_x86_64.manylinux_2_17_x86_64.whl (3.8 MB)\n",
            "Requirement already satisfied: python-dateutil>=2.8.0 in /usr/local/lib/python3.10/site-packages (from strawberryfields) (2.8.2)\n",
            "Requirement already satisfied: scipy>=1.0.0 in /usr/local/lib/python3.10/site-packages (from strawberryfields) (1.13.0)\n",
            "Collecting thewalrus>=0.18.0\n",
            "  Using cached thewalrus-0.21.0-py3-none-any.whl (94 kB)\n",
            "Collecting networkx>=2.0\n",
            "  Using cached networkx-3.4.2-py3-none-any.whl (1.7 MB)\n",
            "Requirement already satisfied: numpy>=1.17.4 in /usr/local/lib/python3.10/site-packages (from strawberryfields) (1.24.0)\n",
            "Requirement already satisfied: urllib3>=1.25.3 in /usr/local/lib/python3.10/site-packages (from strawberryfields) (1.26.11)\n",
            "Requirement already satisfied: six>=1.5 in /usr/local/lib/python3.10/site-packages (from python-dateutil>=2.8.0->strawberryfields) (1.16.0)\n",
            "Collecting antlr4-python3-runtime==4.9.2\n",
            "  Using cached antlr4-python3-runtime-4.9.2.tar.gz (117 kB)\n",
            "  Preparing metadata (setup.py) ... \u001b[?25l\u001b[?25hdone\n",
            "Collecting lark-parser>=0.11.0\n",
            "  Using cached lark_parser-0.12.0-py2.py3-none-any.whl (103 kB)\n",
            "Requirement already satisfied: idna<4,>=2.5 in /usr/local/lib/python3.10/site-packages (from requests>=2.22.0->strawberryfields) (3.4)\n",
            "Requirement already satisfied: certifi>=2017.4.17 in /usr/local/lib/python3.10/site-packages (from requests>=2.22.0->strawberryfields) (2022.9.24)\n",
            "Requirement already satisfied: charset-normalizer<3,>=2 in /usr/local/lib/python3.10/site-packages (from requests>=2.22.0->strawberryfields) (2.1.1)\n",
            "Collecting mpmath<1.4,>=1.1.0\n",
            "  Downloading mpmath-1.3.0-py3-none-any.whl (536 kB)\n",
            "\u001b[2K     \u001b[90m━━━━━━━━━━━━━━━━━━━━━━━━━━━━━━━━━━━━━━━━\u001b[0m \u001b[32m536.2/536.2 kB\u001b[0m \u001b[31m11.7 MB/s\u001b[0m eta \u001b[36m0:00:00\u001b[0m\n",
            "\u001b[?25hCollecting dask[delayed]\n",
            "  Downloading dask-2025.3.0-py3-none-any.whl (1.4 MB)\n",
            "\u001b[2K     \u001b[90m━━━━━━━━━━━━━━━━━━━━━━━━━━━━━━━━━━━━━━━━\u001b[0m \u001b[32m1.4/1.4 MB\u001b[0m \u001b[31m65.9 MB/s\u001b[0m eta \u001b[36m0:00:00\u001b[0m\n",
            "\u001b[?25hCollecting llvmlite<0.45,>=0.44.0dev0\n",
            "  Downloading llvmlite-0.44.0-cp310-cp310-manylinux_2_17_x86_64.manylinux2014_x86_64.whl (42.4 MB)\n",
            "\u001b[2K     \u001b[90m━━━━━━━━━━━━━━━━━━━━━━━━━━━━━━━━━━━━━━━━\u001b[0m \u001b[32m42.4/42.4 MB\u001b[0m \u001b[31m8.4 MB/s\u001b[0m eta \u001b[36m0:00:00\u001b[0m\n",
            "\u001b[?25hCollecting appdirs\n",
            "  Downloading appdirs-1.4.4-py2.py3-none-any.whl (9.6 kB)\n",
            "Collecting fire\n",
            "  Downloading fire-0.7.0.tar.gz (87 kB)\n",
            "\u001b[2K     \u001b[90m━━━━━━━━━━━━━━━━━━━━━━━━━━━━━━━━━━━━━━━━\u001b[0m \u001b[32m87.2/87.2 kB\u001b[0m \u001b[31m15.3 MB/s\u001b[0m eta \u001b[36m0:00:00\u001b[0m\n",
            "\u001b[?25h  Preparing metadata (setup.py) ... \u001b[?25l\u001b[?25hdone\n",
            "Collecting python-dotenv\n",
            "  Downloading python_dotenv-1.1.0-py3-none-any.whl (20 kB)\n",
            "Collecting pydantic-settings\n",
            "  Downloading pydantic_settings-2.8.1-py3-none-any.whl (30 kB)\n",
            "Collecting pydantic>=2\n",
            "  Downloading pydantic-2.11.2-py3-none-any.whl (443 kB)\n",
            "\u001b[2K     \u001b[90m━━━━━━━━━━━━━━━━━━━━━━━━━━━━━━━━━━━━━━━━\u001b[0m \u001b[32m443.3/443.3 kB\u001b[0m \u001b[31m40.7 MB/s\u001b[0m eta \u001b[36m0:00:00\u001b[0m\n",
            "\u001b[?25hCollecting typing-extensions>=4.12.2\n",
            "  Downloading typing_extensions-4.13.0-py3-none-any.whl (45 kB)\n",
            "\u001b[2K     \u001b[90m━━━━━━━━━━━━━━━━━━━━━━━━━━━━━━━━━━━━━━━━\u001b[0m \u001b[32m45.7/45.7 kB\u001b[0m \u001b[31m7.4 MB/s\u001b[0m eta \u001b[36m0:00:00\u001b[0m\n",
            "\u001b[?25hCollecting typing-inspection>=0.4.0\n",
            "  Downloading typing_inspection-0.4.0-py3-none-any.whl (14 kB)\n",
            "Collecting pydantic-core==2.33.1\n",
            "  Downloading pydantic_core-2.33.1-cp310-cp310-manylinux_2_17_x86_64.manylinux2014_x86_64.whl (2.0 MB)\n",
            "\u001b[2K     \u001b[90m━━━━━━━━━━━━━━━━━━━━━━━━━━━━━━━━━━━━━━━━\u001b[0m \u001b[32m2.0/2.0 MB\u001b[0m \u001b[31m61.6 MB/s\u001b[0m eta \u001b[36m0:00:00\u001b[0m\n",
            "\u001b[?25hCollecting annotated-types>=0.6.0\n",
            "  Downloading annotated_types-0.7.0-py3-none-any.whl (13 kB)\n",
            "Requirement already satisfied: packaging>=20.0 in /usr/local/lib/python3.10/site-packages (from dask[delayed]->thewalrus>=0.18.0->strawberryfields) (21.3)\n",
            "Collecting fsspec>=2021.09.0\n",
            "  Downloading fsspec-2025.3.2-py3-none-any.whl (194 kB)\n",
            "\u001b[2K     \u001b[90m━━━━━━━━━━━━━━━━━━━━━━━━━━━━━━━━━━━━━━━━\u001b[0m \u001b[32m194.4/194.4 kB\u001b[0m \u001b[31m22.9 MB/s\u001b[0m eta \u001b[36m0:00:00\u001b[0m\n",
            "\u001b[?25hCollecting click>=8.1\n",
            "  Downloading click-8.1.8-py3-none-any.whl (98 kB)\n",
            "\u001b[2K     \u001b[90m━━━━━━━━━━━━━━━━━━━━━━━━━━━━━━━━━━━━━━━━\u001b[0m \u001b[32m98.2/98.2 kB\u001b[0m \u001b[31m12.0 MB/s\u001b[0m eta \u001b[36m0:00:00\u001b[0m\n",
            "\u001b[?25hRequirement already satisfied: toolz>=0.10.0 in /usr/local/lib/python3.10/site-packages (from dask[delayed]->thewalrus>=0.18.0->strawberryfields) (0.12.0)\n",
            "Collecting pyyaml>=5.3.1\n",
            "  Downloading PyYAML-6.0.2-cp310-cp310-manylinux_2_17_x86_64.manylinux2014_x86_64.whl (751 kB)\n",
            "\u001b[2K     \u001b[90m━━━━━━━━━━━━━━━━━━━━━━━━━━━━━━━━━━━━━━━━\u001b[0m \u001b[32m751.2/751.2 kB\u001b[0m \u001b[31m50.3 MB/s\u001b[0m eta \u001b[36m0:00:00\u001b[0m\n",
            "\u001b[?25hRequirement already satisfied: importlib_metadata>=4.13.0 in /usr/local/lib/python3.10/site-packages (from dask[delayed]->thewalrus>=0.18.0->strawberryfields) (5.0.0)\n",
            "Collecting cloudpickle>=3.0.0\n",
            "  Downloading cloudpickle-3.1.1-py3-none-any.whl (20 kB)\n",
            "Collecting partd>=1.4.0\n",
            "  Downloading partd-1.4.2-py3-none-any.whl (18 kB)\n",
            "Collecting termcolor\n",
            "  Downloading termcolor-3.0.1-py3-none-any.whl (7.2 kB)\n",
            "Requirement already satisfied: zipp>=0.5 in /usr/local/lib/python3.10/site-packages (from importlib_metadata>=4.13.0->dask[delayed]->thewalrus>=0.18.0->strawberryfields) (3.10.0)\n",
            "Requirement already satisfied: pyparsing!=3.0.5,>=2.0.2 in /usr/local/lib/python3.10/site-packages (from packaging>=20.0->dask[delayed]->thewalrus>=0.18.0->strawberryfields) (3.0.9)\n",
            "Collecting locket\n",
            "  Downloading locket-1.0.0-py2.py3-none-any.whl (4.4 kB)\n",
            "Building wheels for collected packages: antlr4-python3-runtime, fire\n",
            "  Building wheel for antlr4-python3-runtime (setup.py) ... \u001b[?25l\u001b[?25hdone\n",
            "  Created wheel for antlr4-python3-runtime: filename=antlr4_python3_runtime-4.9.2-py3-none-any.whl size=144548 sha256=4535390d81f21ad7b2524df69a5b620326b040646dfe9f877355fad2a9e40501\n",
            "  Stored in directory: /root/.cache/pip/wheels/cb/fe/63/a55475ac3f45871d57cb15ce76753c7f261563256f7bacf3a9\n",
            "  Building wheel for fire (setup.py) ... \u001b[?25l\u001b[?25hdone\n",
            "  Created wheel for fire: filename=fire-0.7.0-py3-none-any.whl size=114247 sha256=0d4c530fcf2c4493f677030f01b20dbcc44c61a82196cd1bc4ed98ba4ed09417\n",
            "  Stored in directory: /root/.cache/pip/wheels/e1/11/25/18200143059912e1b061a3b357bde187caeb4ac892e297c1b7\n",
            "Successfully built antlr4-python3-runtime fire\n",
            "Installing collected packages: mpmath, lark-parser, appdirs, antlr4-python3-runtime, typing-extensions, termcolor, sympy, quantum-xir, pyyaml, python-dotenv, networkx, locket, llvmlite, fsspec, cloudpickle, click, annotated-types, typing-inspection, quantum-blackbird, pydantic-core, partd, numba, fire, pydantic, dask, pydantic-settings, xanadu-cloud-client, thewalrus, strawberryfields\n",
            "  Attempting uninstall: typing-extensions\n",
            "    Found existing installation: typing_extensions 4.4.0\n",
            "    Uninstalling typing_extensions-4.4.0:\n",
            "      Successfully uninstalled typing_extensions-4.4.0\n",
            "Successfully installed annotated-types-0.7.0 antlr4-python3-runtime-4.9.2 appdirs-1.4.4 click-8.1.8 cloudpickle-3.1.1 dask-2025.3.0 fire-0.7.0 fsspec-2025.3.2 lark-parser-0.12.0 llvmlite-0.44.0 locket-1.0.0 mpmath-1.3.0 networkx-3.4.2 numba-0.61.0 partd-1.4.2 pydantic-2.11.2 pydantic-core-2.33.1 pydantic-settings-2.8.1 python-dotenv-1.1.0 pyyaml-6.0.2 quantum-blackbird-0.5.0 quantum-xir-0.2.2 strawberryfields-0.23.0 sympy-1.13.3 termcolor-3.0.1 thewalrus-0.21.0 typing-extensions-4.13.0 typing-inspection-0.4.0 xanadu-cloud-client-0.3.2\n"
          ]
        }
      ]
    },
    {
      "cell_type": "code",
      "source": [
        "# Cell 1: Installation (Run First)\n",
        "!pip install strawberryfields matplotlib --quiet\n",
        "\n",
        "# Cell 2: Code (Run After Installation)\n",
        "import strawberryfields as sf\n",
        "from strawberryfields.ops import Sgate, Interferometer, MeasureFock\n",
        "import numpy as np\n",
        "import matplotlib.pyplot as plt\n",
        "%matplotlib inline\n",
        "\n",
        "def optimized_gbs():\n",
        "    # Conservative parameters for Colab stability\n",
        "    num_modes = 3          # Reduced complexity\n",
        "    squeezing = 0.3        # Lower photon generation\n",
        "    cutoff = 6             # Smaller Fock space\n",
        "    shots = 200            # Fewer samples\n",
        "\n",
        "    prog = sf.Program(num_modes)\n",
        "    U = sf.utils.random_interferometer(num_modes)\n",
        "\n",
        "    with prog.context as q:\n",
        "        for i in range(num_modes):\n",
        "            Sgate(squeezing) | q[i]\n",
        "        Interferometer(U) | q\n",
        "        MeasureFock() | q\n",
        "\n",
        "    # Memory-friendly execution\n",
        "    samples = []\n",
        "    eng = sf.Engine(\"fock\", backend_options={\"cutoff_dim\": cutoff})\n",
        "\n",
        "    try:\n",
        "        for _ in range(shots):\n",
        "            result = eng.run(prog)\n",
        "            samples.append(result.samples[0])\n",
        "            eng.reset()  # Clear backend state\n",
        "    except Exception as e:\n",
        "        print(f\"Stopped early at {len(samples)} shots: {str(e)}\")\n",
        "\n",
        "    return np.array(samples) if samples else np.zeros((0, num_modes))\n",
        "\n",
        "# Run simulation\n",
        "samples = optimized_gbs()\n",
        "\n",
        "# Visualization\n",
        "if len(samples) > 0:\n",
        "    plt.figure(figsize=(10, 4))\n",
        "    plt.subplot(121)\n",
        "    plt.hist(np.sum(samples, axis=1), bins=range(8), edgecolor='black', alpha=0.7)\n",
        "    plt.title(\"Photon Distribution\")\n",
        "\n",
        "    plt.subplot(122)\n",
        "    plt.bar(range(samples.shape[1]), np.sum(samples, axis=0), alpha=0.7)\n",
        "    plt.title(\"Mode Occupation\")\n",
        "    plt.show()\n",
        "\n",
        "    print(f\"Successfully collected {len(samples)} samples\")\n",
        "    print(\"Sample output:\", samples[0] if len(samples) > 0 else \"No samples\")\n",
        "else:\n",
        "    print(\"Simulation failed to collect any samples\")"
      ],
      "metadata": {
        "colab": {
          "base_uri": "https://localhost:8080/",
          "height": 427
        },
        "id": "ZRWjfwh0tUmr",
        "outputId": "d19d55fa-11cf-4b7c-dfb8-b00d2f173681"
      },
      "execution_count": 1,
      "outputs": [
        {
          "output_type": "display_data",
          "data": {
            "text/plain": [
              "<Figure size 1000x400 with 2 Axes>"
            ],
            "image/png": "[encoded data removed]"
          },
          "metadata": {}
        },
        {
          "output_type": "stream",
          "name": "stdout",
          "text": [
            "Successfully collected 200 samples\n",
            "Sample output: [0 0 0]\n"
          ]
        }
      ]
    },
    {
      "cell_type": "markdown",
      "source": [
        "# I used Deepseek for this part. It took a lot of time to figure out the error and runtime problem with the google Colab. I also had problem with the straberry installation.\n",
        "\n",
        "# AI: What type of quantum problem do you want to solve?\n",
        "Options include:\n",
        "\n",
        "Quantum teleportation\n",
        "\n",
        "Gaussian boson sampling\n",
        "\n",
        "Entanglement generation\n",
        "\n",
        "Quantum walk\n",
        "\n",
        "Custom task (specify)\n",
        "\n",
        "(Choose one or describe your goal.)\n",
        "# ME:Gaussian boson sampling\n",
        "#AI :\n",
        "Step 2: Number of Modes\n",
        "GBS typically uses multiple modes with squeezed states and a linear interferometer.\n",
        "\n",
        "How many modes do you want in your circuit?\n",
        "(Common choices: 4–8 modes for simulations, but hardware experiments often use 100+ modes. For this example, I recommend starting with 4–6 modes.)\n",
        "\n",
        "Step 3: Photon States\n",
        "GBS requires squeezed vacuum states injected into the modes.\n",
        "\n",
        "Do you want uniform squeezing across all modes, or different squeezing levels?\n",
        "\n",
        "If uniform: Specify the squeezing magnitude r (e.g., r=1.0 for moderate squeezing).\n",
        "\n",
        "If different: List squeezing parameters for each mode.\n",
        "\n",
        "Step 4: Quantum Operations\n",
        "For GBS, we need:\n",
        "\n",
        "Squeezing gates on input modes.\n",
        "\n",
        "A linear interferometer (beamsplitters + phase shifters) to mix modes.\n",
        "\n",
        "Do you want a preconfigured random interferometer (standard for GBS) or a custom one?\n",
        "(If custom, specify beamsplitter angles and phase shifts. For simplicity, we’ll use Strawberry Fields’ built-in Interferometer class for a Haar-random unitary.)\n",
        "\n",
        "Step 5: Measurements\n",
        "GBS uses photon-number-resolving detectors (Fock measurements).\n",
        "\n",
        "How many shots/samples do you want to run?\n",
        "(Typical simulations use 1,000–10,000 shots, but this depends on your computational resources.)\n",
        "#ME : use 5 modes, use uniform squeezing, use a preconfigured random interferometer, use 1000 shots\n",
        "\n",
        "## Finally it gave me the code but it had a lot of error. It took me almost 3 hours to figure out the error and finally the code ran with less shots because of colabs resource constraint. It was maxing out the ram and restarting runtime. It took a while to fix it."
      ],
      "metadata": {
        "id": "YYzJtZuct3-h"
      }
    }
  ]
}