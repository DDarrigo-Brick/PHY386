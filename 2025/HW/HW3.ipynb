{
  "nbformat": 4,
  "nbformat_minor": 0,
  "metadata": {
    "colab": {
      "provenance": [],
      "authorship_tag": "ABX9TyPFLzJ60SWwMwFg02TiihNR",
      "include_colab_link": true
    },
    "kernelspec": {
      "name": "python3",
      "display_name": "Python 3"
    },
    "language_info": {
      "name": "python"
    }
  },
  "cells": [
    {
      "cell_type": "markdown",
      "metadata": {
        "id": "view-in-github",
        "colab_type": "text"
      },
      "source": [
        "<a href=\"https://colab.research.google.com/github/ubsuny/PHY386/blob/main/2025/HW/HW3.ipynb\" target=\"_parent\"><img src=\"https://colab.research.google.com/assets/colab-badge.svg\" alt=\"Open In Colab\"/></a>"
      ]
    },
    {
      "cell_type": "markdown",
      "source": [
        "# Homework 3: Sensor Data Analysis with phyphox and Python\n",
        "\n",
        "## Measuring data with Smartphone Sensors  \n",
        "Modern smartphones contain sophisticated sensor arrays capable of capturing high-quality physical measurements. This assignment integrates sensor data collection via the **phyphox** app with computational analysis using Python's `numpy`, `scipy`, and `pandas` libraries.\n",
        "\n",
        "## Learning outcome\n",
        "- read data in python using pandas\n",
        "- quantify measurement uncertainty\n",
        "- plot data\n",
        "- validate theoretical models against experimental data"
      ],
      "metadata": {
        "id": "-q2uAjclwfmT"
      }
    },
    {
      "cell_type": "markdown",
      "source": [
        "\n",
        "## Part 1: Experimental Setup with phyphox (10 points)\n",
        "**Task: Data Acquisition**  \n",
        "1. Design an experiment using your phone's **3-axis accelerometer** (e.g., free-fall, pendulum motion, or elevator acceleration).  \n",
        "2. Configure phyphox to record data at ≥100 Hz sampling rate\n",
        "3. Export 1-60 seconds of raw acceleration data (`acceleration.csv`) with timestamps.  \n",
        "\n",
        "\n"
      ],
      "metadata": {
        "id": "sAbbh1UA2g8_"
      }
    },
    {
      "cell_type": "markdown",
      "source": [
        "\n",
        "## Part 2: Data Analysis with pandas and NumPy (8 points)\n",
        "**Task: Data Preprocessing**\n",
        "- upload the csv to google colab\n",
        "- read in csv file using `pandas`\n",
        "- remove beginning and end of data where experiment didn't start yet / was already over (check part 3)\n"
      ],
      "metadata": {
        "id": "w6rZcwpb2rLt"
      }
    },
    {
      "cell_type": "markdown",
      "source": [
        "## Part 3: Model Fitting and Visualization (8 points)\n",
        "\n",
        "**Task: Plot preprocessed data using pandas**\n",
        "- plot time vs acceleration\n",
        "\n",
        "**Task: Model fit**\n",
        "- use `scipy.optimize.curve_fit` to fit a physics model to your data\n",
        "\n",
        "Examples:\n",
        "\n",
        "- **Gravitational Acceleration**  \n",
        "Fit vertical acceleration to:  \n",
        "$$\n",
        "a(t) = g + \\epsilon(t) \\quad \\text{(ε = measurement error)}\n",
        "$$\n",
        "\n",
        "    Report $\\hat{g} \\pm \\delta g $\n",
        "\n",
        "    add to plot above.\n",
        "\n",
        "\n",
        "or\n",
        "\n",
        "- **Damped Oscillation Model**  \n",
        "For pendulum experiments, fit to:  \n",
        "$$\n",
        "a(t) = A e^{-\\beta t} \\cos(\\omega t + \\phi)\n",
        "$$\n",
        "\n",
        "    Calculate damping ratio $\n",
        "    \\beta$ and natural frequency $\\omega $\n",
        "\n",
        "    add to plot above.\n",
        "\n",
        "or\n",
        "\n",
        " - **Fit to your own experiment**\n",
        " add to plot above.\n"
      ],
      "metadata": {
        "id": "Q8I0dW3w2vuj"
      }
    },
    {
      "cell_type": "markdown",
      "source": [
        "## Part 4: Advanced Visualization (8 points)\n",
        "**Task: Interactive Plotting**  \n",
        "Create a 2x2 subplot grid containing:  \n",
        "- Raw 3D acceleration vs time\n",
        "- checkout \"Sharing x per column, y per row\" in [matplotlib example](https://matplotlib.org/stable/gallery/subplots_axes_and_figures/subplots_demo.html) how it should look like\n",
        "\n",
        "![Example](https://matplotlib.org/stable/_images/sphx_glr_subplots_demo_011_2_00x.png \"Example\")"
      ],
      "metadata": {
        "id": "eX_EINak3I75"
      }
    },
    {
      "cell_type": "markdown",
      "source": [
        "## Part 5: Error Propagation and Reporting (8 points)\n",
        "**Task: Uncertainty Quantification**  \n",
        "1. Calculate systematic error from phyphox sensor resolution\n",
        "2. Compare experimental $g$ to local gravitational acceleration (use NOAA's geoid calculator)  \n",
        "3. Discuss sources of discrepancy (sensor tilt, air resistance, etc.)"
      ],
      "metadata": {
        "id": "WllHd4H930sA"
      }
    }
  ]
}