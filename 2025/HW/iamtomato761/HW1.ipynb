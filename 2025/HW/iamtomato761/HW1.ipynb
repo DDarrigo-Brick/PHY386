{
  "nbformat": 4,
  "nbformat_minor": 0,
  "metadata": {
    "colab": {
      "provenance": [],
      "authorship_tag": "ABX9TyP5cpTD0+v/Q1nvlVaVLD8l",
      "include_colab_link": true
    },
    "kernelspec": {
      "name": "python3",
      "display_name": "Python 3"
    },
    "language_info": {
      "name": "python"
    }
  },
  "cells": [
    {
      "cell_type": "markdown",
      "metadata": {
        "id": "view-in-github",
        "colab_type": "text"
      },
      "source": [
        "<a href=\"https://colab.research.google.com/github/ubsuny/PHY386/blob/Homework2025/2025/HW/iamtomato761/HW1.ipynb\" target=\"_parent\"><img src=\"https://colab.research.google.com/assets/colab-badge.svg\" alt=\"Open In Colab\"/></a>"
      ]
    },
    {
      "cell_type": "code",
      "execution_count": null,
      "metadata": {
        "id": "BRc-Yjnoozs9"
      },
      "outputs": [],
      "source": []
    },
    {
      "cell_type": "markdown",
      "source": [
        "# Homework 1"
      ],
      "metadata": {
        "id": "EbQo5PBvpE9n"
      }
    },
    {
      "cell_type": "markdown",
      "source": [
        "## Basic formatting examples\n",
        "\n",
        "\n"
      ],
      "metadata": {
        "id": "nYVCXnRkpgYq"
      }
    },
    {
      "cell_type": "markdown",
      "source": [
        "### Things I want to learn in this class\n",
        "\n",
        "1. If there are different ways to code something, how to determine which way is the most efficient or reliable\n",
        "2. The differences between Python and other languages (so that I can act like I know other languages, but simply prefer Python)\n",
        "3. Code I didn't know could be coded in Python\n",
        "4. How to explain to someone what my code is doing\n",
        "5. How to correct ChatGPT"
      ],
      "metadata": {
        "id": "vwESpaVRP6Hg"
      }
    },
    {
      "cell_type": "markdown",
      "source": [
        "### How to include external media"
      ],
      "metadata": {
        "id": "onMOAMRtO-Ay"
      }
    },
    {
      "cell_type": "markdown",
      "source": [
        "![picture](https://upload.wikimedia.org/wikipedia/commons/1/11/Sir_William_Thomson%2C_Baron_Kelvin_by_T._%26_R._Annan_%26_Sons.jpg)\n",
        "  <figcaption>By T. &amp; R. Annan &amp; Sons; restored by <a href=\"//commons.wikimedia.org/wiki/Creator:Adam_Cuerden\" title=\"Creator:Adam Cuerden\">Adam Cuerden</a><a href=\"#cite_note-1\"><span class=\"cite-bracket\">[</span>1<span class=\"cite-bracket\">]</span></a> - <a rel=\"nofollow\" class=\"external text\" href=\"https://www.nationalgalleries.org/art-and-artists/42191\">National Galleries of Scotland</a> Accession number: PGP 230.1, Public Domain, <a href=\"https://commons.wikimedia.org/w/index.php?curid=141105716\">Link</a>"
      ],
      "metadata": {
        "id": "zFmeoE27R7l7"
      }
    },
    {
      "cell_type": "markdown",
      "source": [
        "Lord Kelvin is my favorite scientist because he said \"radio has no future\" and \"X-rays are a hoax.\""
      ],
      "metadata": {
        "id": "s_h5l_F60f9h"
      }
    },
    {
      "cell_type": "markdown",
      "source": [
        "**Sir William Thomson**, *1st Baron Kelvin*"
      ],
      "metadata": {
        "id": "tCmuxlif2CH9"
      }
    },
    {
      "cell_type": "markdown",
      "source": [
        "$K = C^\\circ +273.15$"
      ],
      "metadata": {
        "id": "lD5bR45k4xMd"
      }
    },
    {
      "cell_type": "markdown",
      "source": [
        "Lines of code and markdown flow,  \n",
        "Each step forward, watch me grow.  \n",
        "From loops to files, it’s all a blast,  \n",
        "This homework’s fun and learning’s vast! 🤗"
      ],
      "metadata": {
        "id": "qUrBBEbI5hm-"
      }
    },
    {
      "cell_type": "code",
      "source": [
        "print(\"\\U0001F917\") #print emoji"
      ],
      "metadata": {
        "colab": {
          "base_uri": "https://localhost:8080/"
        },
        "id": "F0CGiglX6EmP",
        "outputId": "724093ff-d4cf-4861-feae-b897795c3867"
      },
      "execution_count": null,
      "outputs": [
        {
          "output_type": "stream",
          "name": "stdout",
          "text": [
            "🤗\n"
          ]
        }
      ]
    },
    {
      "cell_type": "markdown",
      "source": [
        "## Coding exercises"
      ],
      "metadata": {
        "id": "hTDMX2MqPEue"
      }
    },
    {
      "cell_type": "code",
      "source": [
        "print(\"Hello, World!\")\n",
        "print(\"Hello Class!\")"
      ],
      "metadata": {
        "id": "NK28wx6ipbbW",
        "colab": {
          "base_uri": "https://localhost:8080/"
        },
        "outputId": "7b43cefe-f5a3-4f02-b9d8-0995081f0ef4"
      },
      "execution_count": null,
      "outputs": [
        {
          "output_type": "stream",
          "name": "stdout",
          "text": [
            "Hello, World!\n",
            "Hello Class!\n"
          ]
        }
      ]
    },
    {
      "cell_type": "code",
      "source": [
        "number = 2025.000\n",
        "\n",
        "print(f\"{number:010.3f}\")"
      ],
      "metadata": {
        "colab": {
          "base_uri": "https://localhost:8080/"
        },
        "id": "brkcMNWd7yZR",
        "outputId": "e6085356-fc3e-4b90-f746-04164ecb9843"
      },
      "execution_count": null,
      "outputs": [
        {
          "output_type": "stream",
          "name": "stdout",
          "text": [
            "002025.000\n"
          ]
        }
      ]
    },
    {
      "cell_type": "code",
      "source": [
        "my_string = \"I want to go home.\"\n",
        "my_integer = 37\n",
        "my_float = 4.444446\n",
        "\n",
        "print(f\"String: {my_string}\")\n",
        "print(f\"Integer: {my_integer}\")\n",
        "print(f\"Float: {my_float}\")\n"
      ],
      "metadata": {
        "colab": {
          "base_uri": "https://localhost:8080/"
        },
        "id": "KKPuyQyU8Du4",
        "outputId": "23c2bd28-749c-49aa-f568-2697025ad4f9"
      },
      "execution_count": null,
      "outputs": [
        {
          "output_type": "stream",
          "name": "stdout",
          "text": [
            "String: I want to go home.\n",
            "Integer: 37\n",
            "Float: 4.444446\n"
          ]
        }
      ]
    },
    {
      "cell_type": "code",
      "source": [
        "# addition\n",
        "addition_result = 10 + 8\n",
        "print(f\"Addition: {addition_result}\")\n",
        "\n",
        "# subtraction\n",
        "subtraction_result = 10 - 4\n",
        "print(f\"Subtraction: {subtraction_result}\")\n",
        "\n",
        "# multiplication\n",
        "multiplication_result = 16 * 5\n",
        "print(f\"Multiplication: {multiplication_result}\")\n",
        "\n",
        "# division\n",
        "division_result = 102 / 51\n",
        "print(f\"Division: {division_result}\")\n",
        "\n",
        "# modulus\n",
        "modulus_result = 100 % 6\n",
        "print(f\"Modulus: {modulus_result}\")\n"
      ],
      "metadata": {
        "colab": {
          "base_uri": "https://localhost:8080/"
        },
        "id": "dJqZbNcY8fky",
        "outputId": "f55ac0d1-a383-4579-a0cc-6a39353b95e9"
      },
      "execution_count": null,
      "outputs": [
        {
          "output_type": "stream",
          "name": "stdout",
          "text": [
            "Addition: 18\n",
            "Subtraction: 6\n",
            "Multiplication: 80\n",
            "Division: 2.0\n",
            "Modulus: 4\n"
          ]
        }
      ]
    },
    {
      "cell_type": "code",
      "source": [
        "# check if a number is even or odd.\n",
        "number = 14\n",
        "\n",
        "if number % 2 == 0:\n",
        "    print(f\"{number} is even.\")\n",
        "else:\n",
        "    print(f\"{number} is odd.\")\n"
      ],
      "metadata": {
        "colab": {
          "base_uri": "https://localhost:8080/"
        },
        "id": "yL35vJDQ9DTQ",
        "outputId": "426b1e7f-0816-42a5-80fb-0081bb7d004e"
      },
      "execution_count": null,
      "outputs": [
        {
          "output_type": "stream",
          "name": "stdout",
          "text": [
            "14 is even.\n"
          ]
        }
      ]
    },
    {
      "cell_type": "code",
      "source": [
        "# using a for loop to print numbers and modify it to show even numbers.\n",
        "for i in range(6, 23):\n",
        "  if i % 2 == 0:\n",
        "    print(i)"
      ],
      "metadata": {
        "id": "iPF2OT-59ecd",
        "colab": {
          "base_uri": "https://localhost:8080/"
        },
        "outputId": "b9f808c4-c15b-4acf-ebe3-48660339d71f"
      },
      "execution_count": 19,
      "outputs": [
        {
          "output_type": "stream",
          "name": "stdout",
          "text": [
            "6\n",
            "8\n",
            "10\n",
            "12\n",
            "14\n",
            "16\n",
            "18\n",
            "20\n",
            "22\n"
          ]
        }
      ]
    },
    {
      "cell_type": "code",
      "source": [
        "# Define and call a function to perform basic arithmetic operations.\n",
        "\n",
        "def perform_basic_arithmetic_operations(num1, num2):\n",
        "    \"\"\"\n",
        "    Performs basic arithmetic operations on two numbers.\n",
        "\n",
        "    Args:\n",
        "        num1: The first number.\n",
        "        num2: The second number.\n",
        "\n",
        "    Returns:\n",
        "        A dictionary containing the results of addition, subtraction,\n",
        "        multiplication, and division.\n",
        "    \"\"\"\n",
        "    results = {}\n",
        "    results['addition'] = num1 + num2\n",
        "    results['subtraction'] = num1 - num2\n",
        "    results['multiplication'] = num1 * num2\n",
        "    if num2 != 0:  # Check for division by zero\n",
        "        results['division'] = num1 / num2\n",
        "    else:\n",
        "        results['division'] = \"Undefined (division by zero)\"\n",
        "    return results\n",
        "\n",
        "# example\n",
        "number1 = 10\n",
        "number2 = 0\n",
        "results = perform_basic_arithmetic_operations(number1, number2)\n",
        "\n",
        "for operation, result in results.items():\n",
        "    print(f\"{operation.capitalize()}: {result}\")\n"
      ],
      "metadata": {
        "id": "_OBRoJcl9pUm",
        "colab": {
          "base_uri": "https://localhost:8080/"
        },
        "outputId": "d3e4bd51-d1ca-401b-c9ae-c3087749b7b4"
      },
      "execution_count": 22,
      "outputs": [
        {
          "output_type": "stream",
          "name": "stdout",
          "text": [
            "Addition: 10\n",
            "Subtraction: 10\n",
            "Multiplication: 0\n",
            "Division: Undefined (division by zero)\n"
          ]
        }
      ]
    },
    {
      "cell_type": "code",
      "source": [
        "# without the else\n",
        "def perform_basic_arithmetic_operations(num1, num2):\n",
        "    \"\"\"\n",
        "    Performs basic arithmetic operations on two numbers.\n",
        "\n",
        "    Args:\n",
        "        num1: The first number.\n",
        "        num2: The second number.\n",
        "\n",
        "    Returns:\n",
        "        A dictionary containing the results of addition, subtraction,\n",
        "        multiplication, and division.\n",
        "    \"\"\"\n",
        "    results = {}\n",
        "    results['addition'] = num1 + num2\n",
        "    results['subtraction'] = num1 - num2\n",
        "    results['multiplication'] = num1 * num2\n",
        "    results['division'] = num1 / num2\n",
        "    return results\n",
        "\n",
        "# example\n",
        "number1 = 10\n",
        "number2 = 0\n",
        "results = perform_basic_arithmetic_operations(number1, number2)\n",
        "\n",
        "for operation, result in results.items():\n",
        "    print(f\"{operation.capitalize()}: {result}\")\n",
        "\n",
        "# error :("
      ],
      "metadata": {
        "colab": {
          "base_uri": "https://localhost:8080/",
          "height": 332
        },
        "id": "kVLc1sot-l4H",
        "outputId": "fedcb68a-eaf8-4a8c-8e31-6da9c04f42a2"
      },
      "execution_count": 23,
      "outputs": [
        {
          "output_type": "error",
          "ename": "ZeroDivisionError",
          "evalue": "division by zero",
          "traceback": [
            "\u001b[0;31m---------------------------------------------------------------------------\u001b[0m",
            "\u001b[0;31mZeroDivisionError\u001b[0m                         Traceback (most recent call last)",
            "\u001b[0;32m<ipython-input-23-c630cace925a>\u001b[0m in \u001b[0;36m<cell line: 0>\u001b[0;34m()\u001b[0m\n\u001b[1;32m     22\u001b[0m \u001b[0mnumber1\u001b[0m \u001b[0;34m=\u001b[0m \u001b[0;36m10\u001b[0m\u001b[0;34m\u001b[0m\u001b[0;34m\u001b[0m\u001b[0m\n\u001b[1;32m     23\u001b[0m \u001b[0mnumber2\u001b[0m \u001b[0;34m=\u001b[0m \u001b[0;36m0\u001b[0m\u001b[0;34m\u001b[0m\u001b[0;34m\u001b[0m\u001b[0m\n\u001b[0;32m---> 24\u001b[0;31m \u001b[0mresults\u001b[0m \u001b[0;34m=\u001b[0m \u001b[0mperform_basic_arithmetic_operations\u001b[0m\u001b[0;34m(\u001b[0m\u001b[0mnumber1\u001b[0m\u001b[0;34m,\u001b[0m \u001b[0mnumber2\u001b[0m\u001b[0;34m)\u001b[0m\u001b[0;34m\u001b[0m\u001b[0;34m\u001b[0m\u001b[0m\n\u001b[0m\u001b[1;32m     25\u001b[0m \u001b[0;34m\u001b[0m\u001b[0m\n\u001b[1;32m     26\u001b[0m \u001b[0;32mfor\u001b[0m \u001b[0moperation\u001b[0m\u001b[0;34m,\u001b[0m \u001b[0mresult\u001b[0m \u001b[0;32min\u001b[0m \u001b[0mresults\u001b[0m\u001b[0;34m.\u001b[0m\u001b[0mitems\u001b[0m\u001b[0;34m(\u001b[0m\u001b[0;34m)\u001b[0m\u001b[0;34m:\u001b[0m\u001b[0;34m\u001b[0m\u001b[0;34m\u001b[0m\u001b[0m\n",
            "\u001b[0;32m<ipython-input-23-c630cace925a>\u001b[0m in \u001b[0;36mperform_basic_arithmetic_operations\u001b[0;34m(num1, num2)\u001b[0m\n\u001b[1;32m     16\u001b[0m     \u001b[0mresults\u001b[0m\u001b[0;34m[\u001b[0m\u001b[0;34m'subtraction'\u001b[0m\u001b[0;34m]\u001b[0m \u001b[0;34m=\u001b[0m \u001b[0mnum1\u001b[0m \u001b[0;34m-\u001b[0m \u001b[0mnum2\u001b[0m\u001b[0;34m\u001b[0m\u001b[0;34m\u001b[0m\u001b[0m\n\u001b[1;32m     17\u001b[0m     \u001b[0mresults\u001b[0m\u001b[0;34m[\u001b[0m\u001b[0;34m'multiplication'\u001b[0m\u001b[0;34m]\u001b[0m \u001b[0;34m=\u001b[0m \u001b[0mnum1\u001b[0m \u001b[0;34m*\u001b[0m \u001b[0mnum2\u001b[0m\u001b[0;34m\u001b[0m\u001b[0;34m\u001b[0m\u001b[0m\n\u001b[0;32m---> 18\u001b[0;31m     \u001b[0mresults\u001b[0m\u001b[0;34m[\u001b[0m\u001b[0;34m'division'\u001b[0m\u001b[0;34m]\u001b[0m \u001b[0;34m=\u001b[0m \u001b[0mnum1\u001b[0m \u001b[0;34m/\u001b[0m \u001b[0mnum2\u001b[0m\u001b[0;34m\u001b[0m\u001b[0;34m\u001b[0m\u001b[0m\n\u001b[0m\u001b[1;32m     19\u001b[0m     \u001b[0;32mreturn\u001b[0m \u001b[0mresults\u001b[0m\u001b[0;34m\u001b[0m\u001b[0;34m\u001b[0m\u001b[0m\n\u001b[1;32m     20\u001b[0m \u001b[0;34m\u001b[0m\u001b[0m\n",
            "\u001b[0;31mZeroDivisionError\u001b[0m: division by zero"
          ]
        }
      ]
    },
    {
      "cell_type": "code",
      "source": [
        "# Use lists to calculate the average of a set of numbers.\n",
        "\n",
        "def calculate_average(numbers):\n",
        "    \"\"\"Calculates the average of a list of numbers.\n",
        "\n",
        "    Args:\n",
        "    numbers (list): A list of numbers to calculate the average from.\n",
        "\n",
        "    Returns:\n",
        "    float: The average of the numbers in the input list.\n",
        "           Returns 0 if the list is empty to avoid ZeroDivisionError.\n",
        "    \"\"\"\n",
        "    if not numbers:\n",
        "        return 0  # Handle empty list case\n",
        "    return sum(numbers) / len(numbers)\n",
        "\n",
        "# Example usage\n",
        "number_list = [10, 20, 30, 40, 50]\n",
        "average = calculate_average(number_list)\n",
        "print(f\"The average of the numbers is: {average}\")\n",
        "\n",
        "number_list = [12, 6, 84, 19, 2]\n",
        "average = calculate_average(number_list)\n",
        "print(f\"The average of the numbers is: {average}\")\n"
      ],
      "metadata": {
        "colab": {
          "base_uri": "https://localhost:8080/"
        },
        "id": "Es90Uc_H_IoY",
        "outputId": "4fda04d9-14c6-4d6c-942b-cc6abe1bc8f8"
      },
      "execution_count": 25,
      "outputs": [
        {
          "output_type": "stream",
          "name": "stdout",
          "text": [
            "The average of the numbers is: 30.0\n",
            "The average of the numbers is: 24.6\n"
          ]
        }
      ]
    },
    {
      "cell_type": "code",
      "source": [
        "# Store and print different fruits using dictionaries\n",
        "\n",
        "fruit_dictionary = {\n",
        "    'apple': 'red',\n",
        "    'banana': 'yellow',\n",
        "    'grape': 'purple',\n",
        "    'orange': 'orange',\n",
        "    'peach': 'peach',\n",
        "    'strawberry': 'red',\n",
        "    'watermelon': 'green',\n",
        "    'kiwi': 'green',\n",
        "    'pineapple': 'yellow',\n",
        "    'mango': 'yellow'\n",
        "}\n",
        "\n",
        "for fruit, color in fruit_dictionary.items():\n",
        "    print(f\"The {fruit} is {color}.\")\n"
      ],
      "metadata": {
        "colab": {
          "base_uri": "https://localhost:8080/"
        },
        "id": "a8DSx1DD_n5o",
        "outputId": "ab73f812-8f65-4d71-8994-a6a972b8f303"
      },
      "execution_count": 35,
      "outputs": [
        {
          "output_type": "stream",
          "name": "stdout",
          "text": [
            "The apple is red.\n",
            "The banana is yellow.\n",
            "The grape is purple.\n",
            "The orange is orange.\n",
            "The peach is peach.\n",
            "The strawberry is red.\n",
            "The watermelon is green.\n",
            "The kiwi is green.\n",
            "The pineapple is yellow.\n",
            "The mango is yellow.\n"
          ]
        }
      ]
    },
    {
      "cell_type": "code",
      "source": [
        "fruit_dictionary = {\n",
        "    'apple': 'red',\n",
        "    'banana': 'yellow',\n",
        "    'grape': 'purple',\n",
        "    'orange': 'orange',\n",
        "    'peach': 'peach',\n",
        "    'strawberry': 'red',\n",
        "    'watermelon': ['green', 'red'],\n",
        "    'kiwi': 'green',\n",
        "    'pineapple': 'yellow',\n",
        "    'mango': 'yellow'\n",
        "}\n",
        "\n",
        "for fruit, color in fruit_dictionary.items():\n",
        "    if isinstance(color, list):  # Check if color is a list\n",
        "        color_string = ' and '.join(color)  # Join colors with 'and'\n",
        "        print(f\"The {fruit} is {color_string}.\")\n",
        "    else:\n",
        "        print(f\"The {fruit} is {color}.\")"
      ],
      "metadata": {
        "colab": {
          "base_uri": "https://localhost:8080/"
        },
        "id": "4GyXpXl9_9Vl",
        "outputId": "3bfb5d76-ef86-4077-c7b0-55a485f3e175"
      },
      "execution_count": 36,
      "outputs": [
        {
          "output_type": "stream",
          "name": "stdout",
          "text": [
            "The apple is red.\n",
            "The banana is yellow.\n",
            "The grape is purple.\n",
            "The orange is orange.\n",
            "The peach is peach.\n",
            "The strawberry is red.\n",
            "The watermelon is green and red.\n",
            "The kiwi is green.\n",
            "The pineapple is yellow.\n",
            "The mango is yellow.\n"
          ]
        }
      ]
    },
    {
      "cell_type": "code",
      "source": [
        "# Write user input to a file and modify it to read back the contents\n",
        "\n",
        "# Get user input\n",
        "user_input = input(\"What is your favorite color?\")\n",
        "\n",
        "# Open the file in append mode ('a')\n",
        "with open('colorQ.txt', 'a') as file:\n",
        "    file.write(\"\\n\" + user_input)  # Add a newline before the user input\n",
        "\n",
        "\n",
        "# Read and print the file contents\n",
        "with open('colorQ.txt', 'r') as file:\n",
        "    contents = file.read()\n",
        "contents\n",
        "\n",
        "# print a message\n",
        "print(\"If your favorite color is\")\n",
        "print(contents)\n",
        "print(\"You are incorrect. Please try again later.\")\n"
      ],
      "metadata": {
        "colab": {
          "base_uri": "https://localhost:8080/"
        },
        "id": "g6QFMKcXA_Rk",
        "outputId": "ae6b3f05-5304-4267-eaf9-799991ae856b"
      },
      "execution_count": 41,
      "outputs": [
        {
          "output_type": "stream",
          "name": "stdout",
          "text": [
            "What is your favorite color?orange\n",
            "If your favorite color is\n",
            "\n",
            "orange\n",
            "You are incorrect. Please try again later.\n"
          ]
        }
      ]
    },
    {
      "cell_type": "code",
      "source": [],
      "metadata": {
        "id": "Bbe0JvCoB-uH"
      },
      "execution_count": null,
      "outputs": []
    }
  ]
}