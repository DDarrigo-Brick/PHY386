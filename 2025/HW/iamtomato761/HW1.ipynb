{
  "nbformat": 4,
  "nbformat_minor": 0,
  "metadata": {
    "colab": {
      "provenance": [],
      "toc_visible": true,
      "authorship_tag": "ABX9TyMN3pCHYw5dTQmv/a5cda8T",
      "include_colab_link": true
    },
    "kernelspec": {
      "name": "python3",
      "display_name": "Python 3"
    },
    "language_info": {
      "name": "python"
    }
  },
  "cells": [
    {
      "cell_type": "markdown",
      "metadata": {
        "id": "view-in-github",
        "colab_type": "text"
      },
      "source": [
        "<a href=\"https://colab.research.google.com/github/ubsuny/PHY386/blob/Homework2025/2025/HW/iamtomato761/HW1.ipynb\" target=\"_parent\"><img src=\"https://colab.research.google.com/assets/colab-badge.svg\" alt=\"Open In Colab\"/></a>"
      ]
    },
    {
      "cell_type": "code",
      "execution_count": null,
      "metadata": {
        "id": "BRc-Yjnoozs9"
      },
      "outputs": [],
      "source": []
    },
    {
      "cell_type": "markdown",
      "source": [
        "# Homework 1"
      ],
      "metadata": {
        "id": "EbQo5PBvpE9n"
      }
    },
    {
      "cell_type": "markdown",
      "source": [
        "## Basic formatting\n",
        "\n",
        "- Item 1\n",
        "  - Subitem 1\n",
        "  - Subitem 2\n",
        "- Item 2\n",
        "\n",
        "1. Numbered item\n",
        "  1. rahhhh\n",
        "  2. sub *numbered* item\n",
        "  3. sub **numbered** item\n",
        "3. Next Item\n",
        "  - subitem\n",
        "100000. next next item\n",
        "\n",
        "```\n",
        "# This is formatted as code\n",
        "```\n",
        "\n",
        "```python\n",
        "print(\"Hello World!\")\n",
        "```\n",
        "\n",
        "```text\n",
        "# example\n",
        "```\n",
        "\n",
        "```matlab\n",
        "x = [1,2;3,5]\n",
        "```\n",
        "\n",
        "```LaTeX\n",
        "\\frac{2}{3}\n",
        "```\n",
        "\n",
        "$\\LaTeX$\n",
        "\n",
        "$$\n",
        "\\int_0^{\\infty_0} x^2 dx\n",
        "$$\n",
        "\n",
        "\n",
        "[link to GitHub](https://github.com)\n",
        "\n",
        "![picture](https://upload.wikimedia.org/wikipedia/en/a/ae/RonSwanson.jpg)\n"
      ],
      "metadata": {
        "id": "nYVCXnRkpgYq"
      }
    },
    {
      "cell_type": "code",
      "source": [
        "# prompt: insert picture from this link: https://en.wikipedia.org/wiki/File:RonSwanson.jpg\n",
        "\n",
        "# No code changes are needed.  The provided text already includes the image.\n",
        "# The line:\n",
        "# ![picture](https://en.wikipedia.org/wiki/File:RonSwanson.jpg)\n",
        "# is a markdown image tag that will display the image correctly in a markdown environment."
      ],
      "metadata": {
        "id": "NK28wx6ipbbW"
      },
      "execution_count": null,
      "outputs": []
    }
  ]
}