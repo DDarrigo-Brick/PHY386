{
  "nbformat": 4,
  "nbformat_minor": 0,
  "metadata": {
    "colab": {
      "provenance": [],
      "toc_visible": true,
      "authorship_tag": "ABX9TyODadG+q0W4Pd9Htv0WkfJ+",
      "include_colab_link": true
    },
    "kernelspec": {
      "name": "python3",
      "display_name": "Python 3"
    },
    "language_info": {
      "name": "python"
    }
  },
  "cells": [
    {
      "cell_type": "markdown",
      "metadata": {
        "id": "view-in-github",
        "colab_type": "text"
      },
      "source": [
        "<a href=\"https://colab.research.google.com/github/ubsuny/PHY386/blob/Homework2025/2025/HW/iamtomato761/HW4.ipynb.ipynb\" target=\"_parent\"><img src=\"https://colab.research.google.com/assets/colab-badge.svg\" alt=\"Open In Colab\"/></a>"
      ]
    },
    {
      "cell_type": "code",
      "execution_count": 1,
      "metadata": {
        "id": "KhTS0TBjTmK-"
      },
      "outputs": [],
      "source": [
        "!pip install -q nbqa mypy"
      ]
    },
    {
      "cell_type": "markdown",
      "source": [
        "# Exercise 1 - Debugging Type Errors"
      ],
      "metadata": {
        "id": "tHj3UvIOX8AY"
      }
    },
    {
      "cell_type": "code",
      "source": [
        "import qutip"
      ],
      "metadata": {
        "id": "byHmZW2hVVMU"
      },
      "execution_count": 2,
      "outputs": []
    },
    {
      "cell_type": "code",
      "source": [
        "# gotta install\n",
        "\n",
        "!pip install qutip\n",
        "import qutip"
      ],
      "metadata": {
        "colab": {
          "base_uri": "https://localhost:8080/"
        },
        "id": "rKQrq1KuY89m",
        "outputId": "a9759d66-7ea9-473d-9330-84fddbc191b5"
      },
      "execution_count": 3,
      "outputs": [
        {
          "output_type": "stream",
          "name": "stdout",
          "text": [
            "Requirement already satisfied: qutip in /usr/local/lib/python3.11/dist-packages (5.1.1)\n",
            "Requirement already satisfied: numpy>=1.22 in /usr/local/lib/python3.11/dist-packages (from qutip) (2.1.3)\n",
            "Requirement already satisfied: scipy>=1.9 in /usr/local/lib/python3.11/dist-packages (from qutip) (1.15.2)\n",
            "Requirement already satisfied: packaging in /usr/local/lib/python3.11/dist-packages (from qutip) (24.2)\n"
          ]
        }
      ]
    },
    {
      "cell_type": "code",
      "source": [
        "def photon_count(state: qutip.Qobj) -> int:\n",
        "    \"\"\"\n",
        "    Computes the expectation value of the photon number operator ⟨n⟩.\n",
        "\n",
        "    Parameters:\n",
        "        state (qutip.Qobj): Quantum state.\n",
        "\n",
        "    Returns:\n",
        "        ???: Photon number expectation value.\n",
        "    \"\"\"\n",
        "    return qutip.expect(qutip.num(10), state)  # Returns float!"
      ],
      "metadata": {
        "id": "LdQe7wa2ZPHU"
      },
      "execution_count": 4,
      "outputs": []
    },
    {
      "cell_type": "code",
      "source": [
        "# Change return type\n",
        "\n",
        "def photon_count(state: qutip.Qobj) -> float:\n",
        "    \"\"\"\n",
        "    Computes the expectation value of the photon number operator ⟨n⟩.\n",
        "\n",
        "    Parameters:\n",
        "        state (qutip.Qobj): Quantum state.\n",
        "\n",
        "    Returns:\n",
        "        float: Photon number expectation value.\n",
        "    \"\"\"\n",
        "    return qutip.expect(qutip.num(10), state)"
      ],
      "metadata": {
        "id": "rmITgQzDZX6i"
      },
      "execution_count": 5,
      "outputs": []
    },
    {
      "cell_type": "code",
      "source": [
        "photon_count(qutip.coherent(10, 1))"
      ],
      "metadata": {
        "colab": {
          "base_uri": "https://localhost:8080/"
        },
        "id": "q_lBrNzhal9F",
        "outputId": "56740a54-64cb-4306-fe60-393b69d8010d"
      },
      "execution_count": 6,
      "outputs": [
        {
          "output_type": "execute_result",
          "data": {
            "text/plain": [
              "0.9999999259365113"
            ]
          },
          "metadata": {},
          "execution_count": 6
        }
      ]
    },
    {
      "cell_type": "code",
      "source": [
        "def create_fock_state(n: float, dims: int) -> qutip.Qobj:\n",
        "    \"\"\"\n",
        "    Type enforcement prevents:\n",
        "    create_fock_state(2.5, 10)  # Error: n must be integer!\n",
        "    \"\"\"\n",
        "    return qutip.fock(dims, n)"
      ],
      "metadata": {
        "id": "9HqNTiMsb4_Q"
      },
      "execution_count": 7,
      "outputs": []
    },
    {
      "cell_type": "code",
      "source": [
        "# Code should prevent passing a non-integer value for n\n",
        "\n",
        "from typing import cast\n",
        "\n",
        "def create_fock_state(n: float, dims: int) -> qutip.Qobj:\n",
        "    \"\"\"\n",
        "    Creates a Fock state with type enforcement.\n",
        "\n",
        "    Parameters:\n",
        "        n: The desired Fock state (must be an integer).\n",
        "        dims: The dimension of the Hilbert space.\n",
        "\n",
        "    Returns:\n",
        "        The Fock state as a qutip.Qobj.\n",
        "\n",
        "    Raises:\n",
        "        TypeError: If n is not an integer.\n",
        "    \"\"\"\n",
        "    if not isinstance(n, int):\n",
        "        raise TypeError(\"n must be an integer\")\n",
        "    n_int = cast(int, n)  # Cast n to int for type checking\n",
        "    return qutip.fock(dims, n_int)"
      ],
      "metadata": {
        "id": "gbrYktALb8sj"
      },
      "execution_count": 8,
      "outputs": []
    },
    {
      "cell_type": "code",
      "source": [
        "create_fock_state(2.5, 10)"
      ],
      "metadata": {
        "colab": {
          "base_uri": "https://localhost:8080/",
          "height": 263
        },
        "id": "s2srS2Q5dJgl",
        "outputId": "6ddd4f27-2397-4f74-e83f-d592e3b5dc8f"
      },
      "execution_count": 10,
      "outputs": [
        {
          "output_type": "error",
          "ename": "TypeError",
          "evalue": "n must be an integer",
          "traceback": [
            "\u001b[0;31m---------------------------------------------------------------------------\u001b[0m",
            "\u001b[0;31mTypeError\u001b[0m                                 Traceback (most recent call last)",
            "\u001b[0;32m<ipython-input-10-960eff27d3bf>\u001b[0m in \u001b[0;36m<cell line: 0>\u001b[0;34m()\u001b[0m\n\u001b[0;32m----> 1\u001b[0;31m \u001b[0mcreate_fock_state\u001b[0m\u001b[0;34m(\u001b[0m\u001b[0;36m2.5\u001b[0m\u001b[0;34m,\u001b[0m \u001b[0;36m10\u001b[0m\u001b[0;34m)\u001b[0m\u001b[0;34m\u001b[0m\u001b[0;34m\u001b[0m\u001b[0m\n\u001b[0m",
            "\u001b[0;32m<ipython-input-8-d81038d166b6>\u001b[0m in \u001b[0;36mcreate_fock_state\u001b[0;34m(n, dims)\u001b[0m\n\u001b[1;32m     18\u001b[0m     \"\"\"\n\u001b[1;32m     19\u001b[0m     \u001b[0;32mif\u001b[0m \u001b[0;32mnot\u001b[0m \u001b[0misinstance\u001b[0m\u001b[0;34m(\u001b[0m\u001b[0mn\u001b[0m\u001b[0;34m,\u001b[0m \u001b[0mint\u001b[0m\u001b[0;34m)\u001b[0m\u001b[0;34m:\u001b[0m\u001b[0;34m\u001b[0m\u001b[0;34m\u001b[0m\u001b[0m\n\u001b[0;32m---> 20\u001b[0;31m         \u001b[0;32mraise\u001b[0m \u001b[0mTypeError\u001b[0m\u001b[0;34m(\u001b[0m\u001b[0;34m\"n must be an integer\"\u001b[0m\u001b[0;34m)\u001b[0m\u001b[0;34m\u001b[0m\u001b[0;34m\u001b[0m\u001b[0m\n\u001b[0m\u001b[1;32m     21\u001b[0m     \u001b[0mn_int\u001b[0m \u001b[0;34m=\u001b[0m \u001b[0mcast\u001b[0m\u001b[0;34m(\u001b[0m\u001b[0mint\u001b[0m\u001b[0;34m,\u001b[0m \u001b[0mn\u001b[0m\u001b[0;34m)\u001b[0m  \u001b[0;31m# Cast n to int for type checking\u001b[0m\u001b[0;34m\u001b[0m\u001b[0;34m\u001b[0m\u001b[0m\n\u001b[1;32m     22\u001b[0m     \u001b[0;32mreturn\u001b[0m \u001b[0mqutip\u001b[0m\u001b[0;34m.\u001b[0m\u001b[0mfock\u001b[0m\u001b[0;34m(\u001b[0m\u001b[0mdims\u001b[0m\u001b[0;34m,\u001b[0m \u001b[0mn_int\u001b[0m\u001b[0;34m)\u001b[0m\u001b[0;34m\u001b[0m\u001b[0;34m\u001b[0m\u001b[0m\n",
            "\u001b[0;31mTypeError\u001b[0m: n must be an integer"
          ]
        }
      ]
    },
    {
      "cell_type": "code",
      "source": [
        "# Make it so n can be converted to an integer\n",
        "\n",
        "def create_fock_state(n: float, dims: int) -> qutip.Qobj:\n",
        "    \"\"\"\n",
        "    Creates a Fock state with type enforcement, converting float input to int.\n",
        "\n",
        "    Parameters:\n",
        "        n: The desired Fock state (can be float, will be converted to int).\n",
        "        dims: The dimension of the Hilbert space.\n",
        "\n",
        "    Returns:\n",
        "        The Fock state as a qutip.Qobj.\n",
        "\n",
        "    Raises:\n",
        "        TypeError: If n is not an integer after conversion.\n",
        "    \"\"\"\n",
        "    n_int = int(n)  # Convert n to an integer\n",
        "\n",
        "    import warnings # Converting can cause data loss\n",
        "    if n != n_int:\n",
        "        warnings.warn(f\"Input 'n' ({n}) was converted to integer ({n_int})\")\n",
        "\n",
        "    return qutip.fock(dims, n_int)"
      ],
      "metadata": {
        "id": "FvMXNRvzdPsX"
      },
      "execution_count": 11,
      "outputs": []
    },
    {
      "cell_type": "code",
      "source": [
        "create_fock_state(2.5, 10)"
      ],
      "metadata": {
        "colab": {
          "base_uri": "https://localhost:8080/",
          "height": 89
        },
        "id": "Ge-OpMTvdwL_",
        "outputId": "fb7cc592-2500-4e69-fdd9-d5330bf5460c"
      },
      "execution_count": 12,
      "outputs": [
        {
          "output_type": "stream",
          "name": "stderr",
          "text": [
            "<ipython-input-11-146e1b1a154a>:21: UserWarning: Input 'n' (2.5) was converted to integer (2)\n",
            "  warnings.warn(f\"Input 'n' ({n}) was converted to integer ({n_int})\")\n"
          ]
        },
        {
          "output_type": "execute_result",
          "data": {
            "text/plain": [
              "Quantum object: dims=[[10], [1]], shape=(10, 1), type='ket', dtype=Dense\n",
              "Qobj data =\n",
              "[[0.]\n",
              " [0.]\n",
              " [1.]\n",
              " [0.]\n",
              " [0.]\n",
              " [0.]\n",
              " [0.]\n",
              " [0.]\n",
              " [0.]\n",
              " [0.]]"
            ],
            "text/latex": "Quantum object: dims=[[10], [1]], shape=(10, 1), type='ket', dtype=Dense$$\\left(\\begin{array}{cc}0\\\\0\\\\1\\\\0\\\\0\\\\0\\\\0\\\\0\\\\0\\\\0\\end{array}\\right)$$"
          },
          "metadata": {},
          "execution_count": 12
        }
      ]
    },
    {
      "cell_type": "code",
      "source": [
        "def create_coherent_state(alpha: complex, dimension: float) -> int:\n",
        "    \"\"\"\n",
        "    Creates a coherent state |α⟩ using QuTiP.\n",
        "\n",
        "    Parameters:\n",
        "        alpha (complex): Complex displacement parameter.\n",
        "        dimension (int): Hilbert space size.\n",
        "\n",
        "    Returns:\n",
        "        qutip.Qobj: The coherent state |α⟩.\n",
        "    \"\"\"\n",
        "    return qutip.coherent(dimension, alpha)\n",
        "\n",
        "def photon_number_expectation(state: string) -> Qobj:\n",
        "    \"\"\"\n",
        "    Computes the expectation value of the photon number operator ⟨n⟩.\n",
        "\n",
        "    Parameters:\n",
        "        state (???): Quantum state.\n",
        "\n",
        "    Returns:\n",
        "        ???: Photon number expectation value.\n",
        "    \"\"\"\n",
        "    return qutip.expect(qutip.num(state.dims), state)"
      ],
      "metadata": {
        "colab": {
          "base_uri": "https://localhost:8080/",
          "height": 211
        },
        "id": "X2_GWiKAeP42",
        "outputId": "4c03d8e7-f0f8-41c5-e5e7-f7a5f7fdf717"
      },
      "execution_count": 14,
      "outputs": [
        {
          "output_type": "error",
          "ename": "NameError",
          "evalue": "name 'string' is not defined",
          "traceback": [
            "\u001b[0;31m---------------------------------------------------------------------------\u001b[0m",
            "\u001b[0;31mNameError\u001b[0m                                 Traceback (most recent call last)",
            "\u001b[0;32m<ipython-input-14-305aa0b80758>\u001b[0m in \u001b[0;36m<cell line: 0>\u001b[0;34m()\u001b[0m\n\u001b[1;32m     12\u001b[0m     \u001b[0;32mreturn\u001b[0m \u001b[0mqutip\u001b[0m\u001b[0;34m.\u001b[0m\u001b[0mcoherent\u001b[0m\u001b[0;34m(\u001b[0m\u001b[0mdimension\u001b[0m\u001b[0;34m,\u001b[0m \u001b[0malpha\u001b[0m\u001b[0;34m)\u001b[0m\u001b[0;34m\u001b[0m\u001b[0;34m\u001b[0m\u001b[0m\n\u001b[1;32m     13\u001b[0m \u001b[0;34m\u001b[0m\u001b[0m\n\u001b[0;32m---> 14\u001b[0;31m \u001b[0;32mdef\u001b[0m \u001b[0mphoton_number_expectation\u001b[0m\u001b[0;34m(\u001b[0m\u001b[0mstate\u001b[0m\u001b[0;34m:\u001b[0m \u001b[0mstring\u001b[0m\u001b[0;34m)\u001b[0m \u001b[0;34m->\u001b[0m \u001b[0mQobj\u001b[0m\u001b[0;34m:\u001b[0m\u001b[0;34m\u001b[0m\u001b[0;34m\u001b[0m\u001b[0m\n\u001b[0m\u001b[1;32m     15\u001b[0m     \"\"\"\n\u001b[1;32m     16\u001b[0m     \u001b[0mComputes\u001b[0m \u001b[0mthe\u001b[0m \u001b[0mexpectation\u001b[0m \u001b[0mvalue\u001b[0m \u001b[0mof\u001b[0m \u001b[0mthe\u001b[0m \u001b[0mphoton\u001b[0m \u001b[0mnumber\u001b[0m \u001b[0moperator\u001b[0m\u001b[0;31m \u001b[0m\u001b[0;31m⟨\u001b[0m\u001b[0mn\u001b[0m\u001b[0;31m⟩\u001b[0m\u001b[0;34m.\u001b[0m\u001b[0;34m\u001b[0m\u001b[0;34m\u001b[0m\u001b[0m\n",
            "\u001b[0;31mNameError\u001b[0m: name 'string' is not defined"
          ]
        }
      ]
    },
    {
      "cell_type": "code",
      "source": [
        "import qutip\n",
        "\n",
        "def create_coherent_state(alpha: complex, dimension: int) -> qutip.Qobj:\n",
        "    \"\"\"\n",
        "    Creates a coherent state |α⟩ using QuTiP.\n",
        "\n",
        "    Parameters:\n",
        "        alpha (complex): Complex displacement parameter.\n",
        "        dimension (int): Hilbert space size.\n",
        "\n",
        "    Returns:\n",
        "        qutip.Qobj: The coherent state |α⟩.\n",
        "    \"\"\"\n",
        "    return qutip.coherent(dimension, alpha)\n",
        "\n",
        "def photon_number_expectation(state: qutip.Qobj) -> float:\n",
        "    \"\"\"\n",
        "    Computes the expectation value of the photon number operator ⟨n⟩.\n",
        "\n",
        "    Parameters:\n",
        "        state (qutip.Qobj): Quantum state.\n",
        "\n",
        "    Returns:\n",
        "        float: Photon number expectation value.\n",
        "    \"\"\"\n",
        "    n_op = qutip.num(state.dims[0])  # Create photon number operator\n",
        "    return qutip.expect(n_op, state)  # Calculate and return expectation value"
      ],
      "metadata": {
        "id": "MblYEsTWfX__"
      },
      "execution_count": 15,
      "outputs": []
    },
    {
      "cell_type": "markdown",
      "source": [
        "# Exercise 2 - Quantum States in QuTiP"
      ],
      "metadata": {
        "id": "87_oq6W7howm"
      }
    },
    {
      "cell_type": "markdown",
      "source": [
        "## Exercise 2.1 - Creating Fock States"
      ],
      "metadata": {
        "id": "hInNzU24iNI6"
      }
    },
    {
      "cell_type": "code",
      "source": [
        "# prompt: Create the Fock state |n> for n=0,1,2 using QuTiP\n",
        "# Hints: Use fock to generate number states\n",
        "\n",
        "import qutip\n",
        "\n",
        "def create_fock_state(n: int, dims: int) -> qutip.Qobj:\n",
        "    \"\"\"Creates a Fock state |n⟩.\n",
        "\n",
        "    Args:\n",
        "        n: The number of photons in the Fock state.\n",
        "        dims: The dimension of the Hilbert space.\n",
        "\n",
        "    Returns:\n",
        "        The Fock state |n⟩ as a QuTiP Qobj.\n",
        "    \"\"\"\n",
        "    return qutip.fock(dims, n)\n",
        "\n",
        "# Create Fock states |0⟩, |1⟩, and |2⟩\n",
        "fock_0 = create_fock_state(0, 3)  # Dimension 3 is sufficient for n=0,1,2\n",
        "fock_1 = create_fock_state(1, 3)\n",
        "fock_2 = create_fock_state(2, 3)\n",
        "\n",
        "print(\"Fock state |0⟩:\\n\", fock_0)\n",
        "print(\"Fock state |1⟩:\\n\", fock_1)\n",
        "print(\"Fock state |2⟩:\\n\", fock_2)\n"
      ],
      "metadata": {
        "colab": {
          "base_uri": "https://localhost:8080/"
        },
        "id": "zCI_769lg12T",
        "outputId": "b0342f7d-9498-4a3a-c331-7b01cad629d2"
      },
      "execution_count": 16,
      "outputs": [
        {
          "output_type": "stream",
          "name": "stdout",
          "text": [
            "Fock state |0⟩:\n",
            " Quantum object: dims=[[3], [1]], shape=(3, 1), type='ket', dtype=Dense\n",
            "Qobj data =\n",
            "[[1.]\n",
            " [0.]\n",
            " [0.]]\n",
            "Fock state |1⟩:\n",
            " Quantum object: dims=[[3], [1]], shape=(3, 1), type='ket', dtype=Dense\n",
            "Qobj data =\n",
            "[[0.]\n",
            " [1.]\n",
            " [0.]]\n",
            "Fock state |2⟩:\n",
            " Quantum object: dims=[[3], [1]], shape=(3, 1), type='ket', dtype=Dense\n",
            "Qobj data =\n",
            "[[0.]\n",
            " [0.]\n",
            " [1.]]\n"
          ]
        }
      ]
    },
    {
      "cell_type": "code",
      "source": [
        "# prompt: plot the corresponding wavefunctions\n",
        "# Hints: Use state.full().flatten()**2 in a bar plot for plotting\n",
        "\n",
        "import matplotlib.pyplot as plt\n",
        "import qutip\n",
        "\n",
        "# Assuming you have already defined the create_fock_state function and have fock_0, fock_1, and fock_2\n",
        "# as defined in the provided code.\n",
        "\n",
        "# Example usage:\n",
        "states = [fock_0, fock_1, fock_2]\n",
        "labels = [r\"$|0\\rangle$\", r\"$|1\\rangle$\", r\"$|2\\rangle$\"]\n",
        "\n",
        "for i, state in enumerate(states):\n",
        "    probs = state.full().flatten()**2  # Probability distribution\n",
        "\n",
        "    plt.figure()\n",
        "    plt.bar(range(len(probs)), probs, label=labels[i])\n",
        "    plt.xlabel(\"Photon Number\")\n",
        "    plt.ylabel(\"Probability\")\n",
        "    plt.title(f\"Probability Distribution for {labels[i]}\")\n",
        "    plt.xticks(range(len(probs)))\n",
        "    plt.legend()\n",
        "    plt.show()\n"
      ],
      "metadata": {
        "colab": {
          "base_uri": "https://localhost:8080/",
          "height": 1000
        },
        "id": "UJVfav3mid-m",
        "outputId": "431663e2-0e30-4f96-ef7e-3bac57a72acd"
      },
      "execution_count": 17,
      "outputs": [
        {
          "output_type": "stream",
          "name": "stderr",
          "text": [
            "/usr/local/lib/python3.11/dist-packages/matplotlib/cbook.py:1709: ComplexWarning: Casting complex values to real discards the imaginary part\n",
            "  return math.isfinite(val)\n",
            "/usr/local/lib/python3.11/dist-packages/matplotlib/transforms.py:757: ComplexWarning: Casting complex values to real discards the imaginary part\n",
            "  points = np.asarray(points, float)\n"
          ]
        },
        {
          "output_type": "display_data",
          "data": {
            "text/plain": [
              "<Figure size 640x480 with 1 Axes>"
            ],
            "image/png": "[encoded data removed]"
          },
          "metadata": {}
        },
        {
          "output_type": "display_data",
          "data": {
            "text/plain": [
              "<Figure size 640x480 with 1 Axes>"
            ],
            "image/png": "[encoded data removed]"
          },
          "metadata": {}
        },
        {
          "output_type": "display_data",
          "data": {
            "text/plain": [
              "<Figure size 640x480 with 1 Axes>"
            ],
            "image/png": "[encoded data removed]"
          },
          "metadata": {}
        }
      ]
    },
    {
      "cell_type": "markdown",
      "source": [
        "## Exercise 2.2 - Creating Coherent States"
      ],
      "metadata": {
        "id": "1ZxWFvu8i2_a"
      }
    },
    {
      "cell_type": "code",
      "source": [
        "# prompt: Generate a coherent state using the function from Excercise 1 with alpha=1.5\n",
        "\n",
        "alpha = 1.5\n",
        "coherent_state = create_coherent_state(alpha, 10) # Example dimension\n",
        "coherent_state\n"
      ],
      "metadata": {
        "colab": {
          "base_uri": "https://localhost:8080/",
          "height": 54
        },
        "id": "0EKwMvmvjMuO",
        "outputId": "49051ab1-081d-4da5-c289-c0a689cad6ea"
      },
      "execution_count": 18,
      "outputs": [
        {
          "output_type": "execute_result",
          "data": {
            "text/plain": [
              "Quantum object: dims=[[10], [1]], shape=(10, 1), type='ket', dtype=Dense\n",
              "Qobj data =\n",
              "[[0.32465246]\n",
              " [0.48697874]\n",
              " [0.5165186 ]\n",
              " [0.44732051]\n",
              " [0.3354782 ]\n",
              " [0.2251005 ]\n",
              " [0.13763368]\n",
              " [0.07873768]\n",
              " [0.03969757]\n",
              " [0.02511919]]"
            ],
            "text/latex": "Quantum object: dims=[[10], [1]], shape=(10, 1), type='ket', dtype=Dense$$\\left(\\begin{array}{cc}0.325\\\\0.487\\\\0.517\\\\0.447\\\\0.335\\\\0.225\\\\0.138\\\\0.079\\\\0.040\\\\0.025\\end{array}\\right)$$"
          },
          "metadata": {},
          "execution_count": 18
        }
      ]
    },
    {
      "cell_type": "code",
      "source": [
        "# prompt: visualize its Wigner function using matplotlibs contourf\n",
        "\n",
        "import qutip\n",
        "import matplotlib.pyplot as plt\n",
        "import numpy as np\n",
        "\n",
        "# Assuming you have already defined the create_coherent_state function\n",
        "# and have the coherent_state as defined in the previous code.\n",
        "\n",
        "# Calculate the Wigner function using the example's method\n",
        "x = np.linspace(-5, 5, 200)\n",
        "y = np.linspace(-5, 5, 200)\n",
        "X, Y = np.meshgrid(x, y)\n",
        "Z = qutip.wigner(coherent_state, x, y)  # Use qutip.wigner\n",
        "\n",
        "# Visualize the Wigner function using contourf\n",
        "plt.figure(figsize=(8, 6))\n",
        "contour = plt.contourf(X, Y, Z, 100)  # Use X, Y, Z here\n",
        "plt.colorbar(contour, label='Wigner function')\n",
        "plt.xlabel(r'$\\alpha_{Re}$')\n",
        "plt.ylabel(r'$\\alpha_{Im}$')\n",
        "plt.title('Wigner function of coherent state')\n",
        "plt.show()"
      ],
      "metadata": {
        "colab": {
          "base_uri": "https://localhost:8080/",
          "height": 517
        },
        "id": "CMxK7OJviqhq",
        "outputId": "672ae527-cd3d-4454-fba0-dfadf3e3e3e8"
      },
      "execution_count": 19,
      "outputs": [
        {
          "output_type": "display_data",
          "data": {
            "text/plain": [
              "<Figure size 800x600 with 2 Axes>"
            ],
            "image/png": "[encoded data removed]"
          },
          "metadata": {}
        }
      ]
    },
    {
      "cell_type": "markdown",
      "source": [
        "## Exercise 2.3 - Creating Squeezed Vacuum States"
      ],
      "metadata": {
        "id": "P-e2u93Jktws"
      }
    },
    {
      "cell_type": "code",
      "source": [
        "# prompt: Generate a vacuum Fock state with any Hilbert Dimension (e.g. 10) and a number state of 0\n",
        "\n",
        "import qutip\n",
        "\n",
        "# Define the Hilbert space dimension\n",
        "hilbert_dimension = 10\n",
        "\n",
        "# Create a vacuum Fock state (number state with n=0)\n",
        "vacuum_state = qutip.fock(hilbert_dimension, 0)\n",
        "\n",
        "# Print the vacuum state\n",
        "vacuum_state\n"
      ],
      "metadata": {
        "colab": {
          "base_uri": "https://localhost:8080/",
          "height": 54
        },
        "id": "oAmeH_41jdyR",
        "outputId": "334eb7e6-4a6d-4680-9132-4c8f14cdb173"
      },
      "execution_count": 20,
      "outputs": [
        {
          "output_type": "execute_result",
          "data": {
            "text/plain": [
              "Quantum object: dims=[[10], [1]], shape=(10, 1), type='ket', dtype=Dense\n",
              "Qobj data =\n",
              "[[1.]\n",
              " [0.]\n",
              " [0.]\n",
              " [0.]\n",
              " [0.]\n",
              " [0.]\n",
              " [0.]\n",
              " [0.]\n",
              " [0.]\n",
              " [0.]]"
            ],
            "text/latex": "Quantum object: dims=[[10], [1]], shape=(10, 1), type='ket', dtype=Dense$$\\left(\\begin{array}{cc}1\\\\0\\\\0\\\\0\\\\0\\\\0\\\\0\\\\0\\\\0\\\\0\\end{array}\\right)$$"
          },
          "metadata": {},
          "execution_count": 20
        }
      ]
    },
    {
      "cell_type": "code",
      "source": [
        "# prompt: Generate a product state (*) of the squeeze state (same Hilbert dimension) and the squeezing parameter r with the vacuum Fock state.\n",
        "\n",
        "# Define the squeezing parameter\n",
        "r = 0.5  # Example value\n",
        "\n",
        "# Create the squeezed vacuum state\n",
        "squeezed_vacuum_state = qutip.squeeze(hilbert_dimension, r)\n",
        "\n",
        "# Calculate the tensor product of the squeezed state and the vacuum state\n",
        "product_state = qutip.tensor(squeezed_vacuum_state, vacuum_state)\n",
        "\n",
        "# Print the product state\n",
        "product_state\n"
      ],
      "metadata": {
        "colab": {
          "base_uri": "https://localhost:8080/",
          "height": 54
        },
        "id": "4Vawa-IElNCC",
        "outputId": "5af6d288-cc4c-4047-f00f-fa7e81ea6ab7"
      },
      "execution_count": 21,
      "outputs": [
        {
          "output_type": "execute_result",
          "data": {
            "text/plain": [
              "Quantum object: dims=[[10, 10], [10, 1]], shape=(100, 10), type='oper', dtype=Dense, isherm=False\n",
              "Qobj data =\n",
              "[[ 0.9417114   0.          0.30769784  0.          0.12336155  0.\n",
              "   0.05079296  0.          0.02652701  0.        ]\n",
              " [ 0.          0.          0.          0.          0.          0.\n",
              "   0.          0.          0.          0.        ]\n",
              " [ 0.          0.          0.          0.          0.          0.\n",
              "   0.          0.          0.          0.        ]\n",
              " [ 0.          0.          0.          0.          0.          0.\n",
              "   0.          0.          0.          0.        ]\n",
              " [ 0.          0.          0.          0.          0.          0.\n",
              "   0.          0.          0.          0.        ]\n",
              " [ 0.          0.          0.          0.          0.          0.\n",
              "   0.          0.          0.          0.        ]\n",
              " [ 0.          0.          0.          0.          0.          0.\n",
              "   0.          0.          0.          0.        ]\n",
              " [ 0.          0.          0.          0.          0.          0.\n",
              "   0.          0.          0.          0.        ]\n",
              " [ 0.          0.          0.          0.          0.          0.\n",
              "   0.          0.          0.          0.        ]\n",
              " [ 0.          0.          0.          0.          0.          0.\n",
              "   0.          0.          0.          0.        ]\n",
              " [ 0.          0.8351349   0.          0.472535    0.          0.24516086\n",
              "   0.          0.11752087  0.          0.07311206]\n",
              " [ 0.          0.          0.          0.          0.          0.\n",
              "   0.          0.          0.          0.        ]\n",
              " [ 0.          0.          0.          0.          0.          0.\n",
              "   0.          0.          0.          0.        ]\n",
              " [ 0.          0.          0.          0.          0.          0.\n",
              "   0.          0.          0.          0.        ]\n",
              " [ 0.          0.          0.          0.          0.          0.\n",
              "   0.          0.          0.          0.        ]\n",
              " [ 0.          0.          0.          0.          0.          0.\n",
              "   0.          0.          0.          0.        ]\n",
              " [ 0.          0.          0.          0.          0.          0.\n",
              "   0.          0.          0.          0.        ]\n",
              " [ 0.          0.          0.          0.          0.          0.\n",
              "   0.          0.          0.          0.        ]\n",
              " [ 0.          0.          0.          0.          0.          0.\n",
              "   0.          0.          0.          0.        ]\n",
              " [ 0.          0.          0.          0.          0.          0.\n",
              "   0.          0.          0.          0.        ]\n",
              " [-0.30769784  0.          0.63953856  0.          0.55698243  0.\n",
              "   0.33740948  0.          0.26877106  0.        ]\n",
              " [ 0.          0.          0.          0.          0.          0.\n",
              "   0.          0.          0.          0.        ]\n",
              " [ 0.          0.          0.          0.          0.          0.\n",
              "   0.          0.          0.          0.        ]\n",
              " [ 0.          0.          0.          0.          0.          0.\n",
              "   0.          0.          0.          0.        ]\n",
              " [ 0.          0.          0.          0.          0.          0.\n",
              "   0.          0.          0.          0.        ]\n",
              " [ 0.          0.          0.          0.          0.          0.\n",
              "   0.          0.          0.          0.        ]\n",
              " [ 0.          0.          0.          0.          0.          0.\n",
              "   0.          0.          0.          0.        ]\n",
              " [ 0.          0.          0.          0.          0.          0.\n",
              "   0.          0.          0.          0.        ]\n",
              " [ 0.          0.          0.          0.          0.          0.\n",
              "   0.          0.          0.          0.        ]\n",
              " [ 0.          0.          0.          0.          0.          0.\n",
              "   0.          0.          0.          0.        ]\n",
              " [ 0.         -0.472535    0.          0.38753447  0.          0.55179593\n",
              "   0.          0.39536705  0.          0.40710424]\n",
              " [ 0.          0.          0.          0.          0.          0.\n",
              "   0.          0.          0.          0.        ]\n",
              " [ 0.          0.          0.          0.          0.          0.\n",
              "   0.          0.          0.          0.        ]\n",
              " [ 0.          0.          0.          0.          0.          0.\n",
              "   0.          0.          0.          0.        ]\n",
              " [ 0.          0.          0.          0.          0.          0.\n",
              "   0.          0.          0.          0.        ]\n",
              " [ 0.          0.          0.          0.          0.          0.\n",
              "   0.          0.          0.          0.        ]\n",
              " [ 0.          0.          0.          0.          0.          0.\n",
              "   0.          0.          0.          0.        ]\n",
              " [ 0.          0.          0.          0.          0.          0.\n",
              "   0.          0.          0.          0.        ]\n",
              " [ 0.          0.          0.          0.          0.          0.\n",
              "   0.          0.          0.          0.        ]\n",
              " [ 0.          0.          0.          0.          0.          0.\n",
              "   0.          0.          0.          0.        ]\n",
              " [ 0.12336155  0.         -0.55698243  0.          0.15640948  0.\n",
              "   0.32079085  0.          0.73971738  0.        ]\n",
              " [ 0.          0.         -0.          0.          0.          0.\n",
              "   0.          0.          0.          0.        ]\n",
              " [ 0.          0.         -0.          0.          0.          0.\n",
              "   0.          0.          0.          0.        ]\n",
              " [ 0.          0.         -0.          0.          0.          0.\n",
              "   0.          0.          0.          0.        ]\n",
              " [ 0.          0.         -0.          0.          0.          0.\n",
              "   0.          0.          0.          0.        ]\n",
              " [ 0.          0.         -0.          0.          0.          0.\n",
              "   0.          0.          0.          0.        ]\n",
              " [ 0.          0.         -0.          0.          0.          0.\n",
              "   0.          0.          0.          0.        ]\n",
              " [ 0.          0.         -0.          0.          0.          0.\n",
              "   0.          0.          0.          0.        ]\n",
              " [ 0.          0.         -0.          0.          0.          0.\n",
              "   0.          0.          0.          0.        ]\n",
              " [ 0.          0.         -0.          0.          0.          0.\n",
              "   0.          0.          0.          0.        ]\n",
              " [ 0.          0.24516086  0.         -0.55179593  0.         -0.0511267\n",
              "   0.          0.09157112  0.          0.79020137]\n",
              " [ 0.          0.          0.         -0.          0.         -0.\n",
              "   0.          0.          0.          0.        ]\n",
              " [ 0.          0.          0.         -0.          0.         -0.\n",
              "   0.          0.          0.          0.        ]\n",
              " [ 0.          0.          0.         -0.          0.         -0.\n",
              "   0.          0.          0.          0.        ]\n",
              " [ 0.          0.          0.         -0.          0.         -0.\n",
              "   0.          0.          0.          0.        ]\n",
              " [ 0.          0.          0.         -0.          0.         -0.\n",
              "   0.          0.          0.          0.        ]\n",
              " [ 0.          0.          0.         -0.          0.         -0.\n",
              "   0.          0.          0.          0.        ]\n",
              " [ 0.          0.          0.         -0.          0.         -0.\n",
              "   0.          0.          0.          0.        ]\n",
              " [ 0.          0.          0.         -0.          0.         -0.\n",
              "   0.          0.          0.          0.        ]\n",
              " [ 0.          0.          0.         -0.          0.         -0.\n",
              "   0.          0.          0.          0.        ]\n",
              " [-0.05079296  0.          0.33740948  0.         -0.32079085  0.\n",
              "  -0.64084038  0.          0.60826948  0.        ]\n",
              " [-0.          0.          0.          0.         -0.          0.\n",
              "  -0.          0.          0.          0.        ]\n",
              " [-0.          0.          0.          0.         -0.          0.\n",
              "  -0.          0.          0.          0.        ]\n",
              " [-0.          0.          0.          0.         -0.          0.\n",
              "  -0.          0.          0.          0.        ]\n",
              " [-0.          0.          0.          0.         -0.          0.\n",
              "  -0.          0.          0.          0.        ]\n",
              " [-0.          0.          0.          0.         -0.          0.\n",
              "  -0.          0.          0.          0.        ]\n",
              " [-0.          0.          0.          0.         -0.          0.\n",
              "  -0.          0.          0.          0.        ]\n",
              " [-0.          0.          0.          0.         -0.          0.\n",
              "  -0.          0.          0.          0.        ]\n",
              " [-0.          0.          0.          0.         -0.          0.\n",
              "  -0.          0.          0.          0.        ]\n",
              " [-0.          0.          0.          0.         -0.          0.\n",
              "  -0.          0.          0.          0.        ]\n",
              " [ 0.         -0.11752087  0.          0.39536705  0.         -0.09157112\n",
              "   0.         -0.81291396  0.          0.40082335]\n",
              " [ 0.         -0.          0.          0.          0.         -0.\n",
              "   0.         -0.          0.          0.        ]\n",
              " [ 0.         -0.          0.          0.          0.         -0.\n",
              "   0.         -0.          0.          0.        ]\n",
              " [ 0.         -0.          0.          0.          0.         -0.\n",
              "   0.         -0.          0.          0.        ]\n",
              " [ 0.         -0.          0.          0.          0.         -0.\n",
              "   0.         -0.          0.          0.        ]\n",
              " [ 0.         -0.          0.          0.          0.         -0.\n",
              "   0.         -0.          0.          0.        ]\n",
              " [ 0.         -0.          0.          0.          0.         -0.\n",
              "   0.         -0.          0.          0.        ]\n",
              " [ 0.         -0.          0.          0.          0.         -0.\n",
              "   0.         -0.          0.          0.        ]\n",
              " [ 0.         -0.          0.          0.          0.         -0.\n",
              "   0.         -0.          0.          0.        ]\n",
              " [ 0.         -0.          0.          0.          0.         -0.\n",
              "   0.         -0.          0.          0.        ]\n",
              " [ 0.02652701  0.         -0.26877106  0.          0.73971738  0.\n",
              "  -0.60826948  0.         -0.09942269  0.        ]\n",
              " [ 0.          0.          0.          0.          0.          0.\n",
              "  -0.          0.         -0.          0.        ]\n",
              " [ 0.          0.          0.          0.          0.          0.\n",
              "  -0.          0.         -0.          0.        ]\n",
              " [ 0.          0.          0.          0.          0.          0.\n",
              "  -0.          0.         -0.          0.        ]\n",
              " [ 0.          0.          0.          0.          0.          0.\n",
              "  -0.          0.         -0.          0.        ]\n",
              " [ 0.          0.          0.          0.          0.          0.\n",
              "  -0.          0.         -0.          0.        ]\n",
              " [ 0.          0.          0.          0.          0.          0.\n",
              "  -0.          0.         -0.          0.        ]\n",
              " [ 0.          0.          0.          0.          0.          0.\n",
              "  -0.          0.         -0.          0.        ]\n",
              " [ 0.          0.          0.          0.          0.          0.\n",
              "  -0.          0.         -0.          0.        ]\n",
              " [ 0.          0.          0.          0.          0.          0.\n",
              "  -0.          0.         -0.          0.        ]\n",
              " [ 0.          0.07311206  0.         -0.40710424  0.          0.79020137\n",
              "   0.         -0.40082335  0.         -0.2093877 ]\n",
              " [ 0.          0.          0.          0.          0.          0.\n",
              "   0.         -0.          0.         -0.        ]\n",
              " [ 0.          0.          0.          0.          0.          0.\n",
              "   0.         -0.          0.         -0.        ]\n",
              " [ 0.          0.          0.          0.          0.          0.\n",
              "   0.         -0.          0.         -0.        ]\n",
              " [ 0.          0.          0.          0.          0.          0.\n",
              "   0.         -0.          0.         -0.        ]\n",
              " [ 0.          0.          0.          0.          0.          0.\n",
              "   0.         -0.          0.         -0.        ]\n",
              " [ 0.          0.          0.          0.          0.          0.\n",
              "   0.         -0.          0.         -0.        ]\n",
              " [ 0.          0.          0.          0.          0.          0.\n",
              "   0.         -0.          0.         -0.        ]\n",
              " [ 0.          0.          0.          0.          0.          0.\n",
              "   0.         -0.          0.         -0.        ]\n",
              " [ 0.          0.          0.          0.          0.          0.\n",
              "   0.         -0.          0.         -0.        ]]"
            ],
            "text/latex": "Quantum object: dims=[[10, 10], [10, 1]], shape=(100, 10), type='oper', dtype=Dense, isherm=False$$\\left(\\begin{array}{cc}0.942 & 0 & 0.308 & 0 & 0.123 & 0 & 0.051 & 0 & 0.027 & 0\\\\0 & 0 & 0 & 0 & 0 & 0 & 0 & 0 & 0 & 0\\\\0 & 0 & 0 & 0 & 0 & 0 & 0 & 0 & 0 & 0\\\\0 & 0 & 0 & 0 & 0 & 0 & 0 & 0 & 0 & 0\\\\0 & 0 & 0 & 0 & 0 & 0 & 0 & 0 & 0 & 0\\\\\\vdots & \\vdots & \\vdots & \\vdots & \\vdots & \\vdots & \\vdots & \\vdots & \\vdots & \\vdots\\\\0 & 0 & 0 & 0 & 0 & 0 & 0 & 0 & 0 & 0\\\\0 & 0 & 0 & 0 & 0 & 0 & 0 & 0 & 0 & 0\\\\0 & 0 & 0 & 0 & 0 & 0 & 0 & 0 & 0 & 0\\\\0 & 0 & 0 & 0 & 0 & 0 & 0 & 0 & 0 & 0\\\\0 & 0 & 0 & 0 & 0 & 0 & 0 & 0 & 0 & 0\\end{array}\\right)$$"
          },
          "metadata": {},
          "execution_count": 21
        }
      ]
    },
    {
      "cell_type": "code",
      "source": [
        "# prompt: now plot the Wigner function\n",
        "\n",
        "import qutip\n",
        "from typing import cast\n",
        "import warnings\n",
        "import matplotlib.pyplot as plt\n",
        "import numpy as np\n",
        "\n",
        "# Assuming you have already defined the create_coherent_state function\n",
        "# and have the coherent_state as defined in the previous code.\n",
        "\n",
        "# Example usage with a slider for alpha\n",
        "alpha_real = 0.7 #@param {type:\"slider\", min:-2, max:2, step:0.1}\n",
        "alpha_imag = -0.9 #@param {type:\"slider\", min:-2, max:2, step:0.1}\n",
        "\n",
        "alpha = complex(alpha_real, alpha_imag)\n",
        "coherent_state = create_coherent_state(alpha, 10)\n",
        "\n",
        "# Calculate the Wigner function using the example's method\n",
        "x = np.linspace(-5, 5, 200)\n",
        "y = np.linspace(-5, 5, 200)\n",
        "X, Y = np.meshgrid(x, y)\n",
        "Z = qutip.wigner(coherent_state, x, y)  # Use qutip.wigner\n",
        "\n",
        "# Visualize the Wigner function using contourf\n",
        "plt.figure(figsize=(8, 6))\n",
        "contour = plt.contourf(X, Y, Z, 100)  # Use X, Y, Z here\n",
        "plt.colorbar(contour, label='Wigner function')\n",
        "plt.xlabel(r'$\\alpha_{Re}$')\n",
        "plt.ylabel(r'$\\alpha_{Im}$')\n",
        "plt.title('Wigner function of coherent state')\n",
        "plt.show()\n"
      ],
      "metadata": {
        "colab": {
          "base_uri": "https://localhost:8080/",
          "height": 517
        },
        "id": "8jlKrx_GlflR",
        "outputId": "b3316630-ab2f-421d-995c-0b3bea91f477"
      },
      "execution_count": 22,
      "outputs": [
        {
          "output_type": "display_data",
          "data": {
            "text/plain": [
              "<Figure size 800x600 with 2 Axes>"
            ],
            "image/png": "[encoded data removed]"
          },
          "metadata": {}
        }
      ]
    },
    {
      "cell_type": "markdown",
      "source": [
        "# Exercise 3 - Interactive Quantum Circuit Prompt"
      ],
      "metadata": {
        "id": "L-fLd2npl24o"
      }
    },
    {
      "cell_type": "markdown",
      "source": [
        "1. **Two modes**, each with squeezed state ($r=0.5$).\n",
        "\n",
        "2. **Phase shift** of $\\pi/2$ applied to Mode 2\n",
        "\n",
        "3. A **50:50 beamsplitter** to mix the two modes\n",
        "\n",
        "*like a Michelson interferometer with non-classical correlations*\n",
        "\n",
        "4. *Photon counting measurement* to detect the photon number in each mode\n",
        "\n"
      ],
      "metadata": {
        "id": "YDjWd7mFpF1v"
      }
    },
    {
      "cell_type": "code",
      "source": [
        "import strawberryfields as sf\n",
        "from strawberryfields import ops\n",
        "import numpy as np\n",
        "import matplotlib.pyplot as plt\n",
        "\n",
        "# Create a 2-mode quantum photonic circuit\n",
        "n_modes = 2\n",
        "eng = sf.Engine(backend='fock', num_subsystems=n_modes)\n",
        "\n",
        "# Define the circuit\n",
        "with eng:\n",
        "    # Squeezing (r = 0.5) for both modes\n",
        "    ops.S2gate(0.5) | 0  # Mode 1\n",
        "    ops.S2gate(0.5) | 1  # Mode 2\n",
        "\n",
        "    # Phase shift (theta = pi/2) on Mode 2\n",
        "    ops.Rgate(np.pi/2) | 1\n",
        "\n",
        "    # Beamsplitter (50:50 mix) between Mode 1 and Mode 2\n",
        "    ops.BSgate(np.pi/4) | (0, 1)\n",
        "\n",
        "    # Photon counting measurement on both modes\n",
        "    ops.MeasureFock() | 0\n",
        "    ops.MeasureFock() | 1\n",
        "\n",
        "# Run the simulation\n",
        "result = eng.run()\n",
        "\n",
        "# Retrieve and plot the photon number counts for both modes\n",
        "photon_counts_mode_1 = result.samples[0]\n",
        "photon_counts_mode_2 = result.samples[1]\n",
        "\n",
        "# Plotting the results\n",
        "fig, ax = plt.subplots(1, 2, figsize=(12, 5))\n",
        "\n",
        "# Mode 1 photon counts\n",
        "ax[0].hist(photon_counts_mode_1, bins=20, color='blue', alpha=0.7)\n",
        "ax[0].set_title(\"Photon Counts - Mode 1\")\n",
        "ax[0].set_xlabel(\"Number of photons\")\n",
        "ax[0].set_ylabel(\"Frequency\")\n",
        "\n",
        "# Mode 2 photon counts\n",
        "ax[1].hist(photon_counts_mode_2, bins=20, color='red', alpha=0.7)\n",
        "ax[1].set_title(\"Photon Counts - Mode 2\")\n",
        "ax[1].set_xlabel(\"Number of photons\")\n",
        "ax[1].set_ylabel(\"Frequency\")\n",
        "\n",
        "plt.tight_layout()\n",
        "plt.show()\n"
      ],
      "metadata": {
        "colab": {
          "base_uri": "https://localhost:8080/",
          "height": 563
        },
        "id": "WLVdZFiKluFG",
        "outputId": "4397e026-aa2c-4d43-837e-f1a5f09ee03a"
      },
      "execution_count": 23,
      "outputs": [
        {
          "output_type": "error",
          "ename": "ImportError",
          "evalue": "cannot import name 'simps' from 'scipy.integrate' (/usr/local/lib/python3.11/dist-packages/scipy/integrate/__init__.py)",
          "traceback": [
            "\u001b[0;31m---------------------------------------------------------------------------\u001b[0m",
            "\u001b[0;31mImportError\u001b[0m                               Traceback (most recent call last)",
            "\u001b[0;32m<ipython-input-23-bd8685317edf>\u001b[0m in \u001b[0;36m<cell line: 0>\u001b[0;34m()\u001b[0m\n\u001b[0;32m----> 1\u001b[0;31m \u001b[0;32mimport\u001b[0m \u001b[0mstrawberryfields\u001b[0m \u001b[0;32mas\u001b[0m \u001b[0msf\u001b[0m\u001b[0;34m\u001b[0m\u001b[0;34m\u001b[0m\u001b[0m\n\u001b[0m\u001b[1;32m      2\u001b[0m \u001b[0;32mfrom\u001b[0m \u001b[0mstrawberryfields\u001b[0m \u001b[0;32mimport\u001b[0m \u001b[0mops\u001b[0m\u001b[0;34m\u001b[0m\u001b[0;34m\u001b[0m\u001b[0m\n\u001b[1;32m      3\u001b[0m \u001b[0;32mimport\u001b[0m \u001b[0mnumpy\u001b[0m \u001b[0;32mas\u001b[0m \u001b[0mnp\u001b[0m\u001b[0;34m\u001b[0m\u001b[0;34m\u001b[0m\u001b[0m\n\u001b[1;32m      4\u001b[0m \u001b[0;32mimport\u001b[0m \u001b[0mmatplotlib\u001b[0m\u001b[0;34m.\u001b[0m\u001b[0mpyplot\u001b[0m \u001b[0;32mas\u001b[0m \u001b[0mplt\u001b[0m\u001b[0;34m\u001b[0m\u001b[0;34m\u001b[0m\u001b[0m\n\u001b[1;32m      5\u001b[0m \u001b[0;34m\u001b[0m\u001b[0m\n",
            "\u001b[0;32m/usr/local/lib/python3.11/dist-packages/strawberryfields/__init__.py\u001b[0m in \u001b[0;36m<module>\u001b[0;34m\u001b[0m\n\u001b[1;32m     22\u001b[0m     \u001b[0;34m:\u001b[0m\u001b[0mtarget\u001b[0m\u001b[0;34m:\u001b[0m \u001b[0mjavascript\u001b[0m\u001b[0;34m:\u001b[0m\u001b[0mvoid\u001b[0m\u001b[0;34m(\u001b[0m\u001b[0;36m0\u001b[0m\u001b[0;34m)\u001b[0m\u001b[0;34m;\u001b[0m\u001b[0;34m\u001b[0m\u001b[0;34m\u001b[0m\u001b[0m\n\u001b[1;32m     23\u001b[0m \"\"\"\n\u001b[0;32m---> 24\u001b[0;31m \u001b[0;32mfrom\u001b[0m \u001b[0;34m.\u001b[0m \u001b[0;32mimport\u001b[0m \u001b[0mapps\u001b[0m\u001b[0;34m\u001b[0m\u001b[0;34m\u001b[0m\u001b[0m\n\u001b[0m\u001b[1;32m     25\u001b[0m \u001b[0;32mfrom\u001b[0m \u001b[0;34m.\u001b[0m\u001b[0m_version\u001b[0m \u001b[0;32mimport\u001b[0m \u001b[0m__version__\u001b[0m\u001b[0;34m\u001b[0m\u001b[0;34m\u001b[0m\u001b[0m\n\u001b[1;32m     26\u001b[0m \u001b[0;32mfrom\u001b[0m \u001b[0;34m.\u001b[0m\u001b[0mengine\u001b[0m \u001b[0;32mimport\u001b[0m \u001b[0mEngine\u001b[0m\u001b[0;34m,\u001b[0m \u001b[0mLocalEngine\u001b[0m\u001b[0;34m,\u001b[0m \u001b[0mRemoteEngine\u001b[0m\u001b[0;34m\u001b[0m\u001b[0;34m\u001b[0m\u001b[0m\n",
            "\u001b[0;32m/usr/local/lib/python3.11/dist-packages/strawberryfields/apps/__init__.py\u001b[0m in \u001b[0;36m<module>\u001b[0;34m\u001b[0m\n\u001b[1;32m     34\u001b[0m \u001b[0;32mimport\u001b[0m \u001b[0mstrawberryfields\u001b[0m\u001b[0;34m.\u001b[0m\u001b[0mapps\u001b[0m\u001b[0;34m.\u001b[0m\u001b[0mplot\u001b[0m\u001b[0;34m\u001b[0m\u001b[0;34m\u001b[0m\u001b[0m\n\u001b[1;32m     35\u001b[0m \u001b[0;32mimport\u001b[0m \u001b[0mstrawberryfields\u001b[0m\u001b[0;34m.\u001b[0m\u001b[0mapps\u001b[0m\u001b[0;34m.\u001b[0m\u001b[0mpoints\u001b[0m\u001b[0;34m\u001b[0m\u001b[0;34m\u001b[0m\u001b[0m\n\u001b[0;32m---> 36\u001b[0;31m \u001b[0;32mimport\u001b[0m \u001b[0mstrawberryfields\u001b[0m\u001b[0;34m.\u001b[0m\u001b[0mapps\u001b[0m\u001b[0;34m.\u001b[0m\u001b[0mqchem\u001b[0m\u001b[0;34m\u001b[0m\u001b[0;34m\u001b[0m\u001b[0m\n\u001b[0m\u001b[1;32m     37\u001b[0m \u001b[0;32mimport\u001b[0m \u001b[0mstrawberryfields\u001b[0m\u001b[0;34m.\u001b[0m\u001b[0mapps\u001b[0m\u001b[0;34m.\u001b[0m\u001b[0msample\u001b[0m\u001b[0;34m\u001b[0m\u001b[0;34m\u001b[0m\u001b[0m\n\u001b[1;32m     38\u001b[0m \u001b[0;32mimport\u001b[0m \u001b[0mstrawberryfields\u001b[0m\u001b[0;34m.\u001b[0m\u001b[0mapps\u001b[0m\u001b[0;34m.\u001b[0m\u001b[0msimilarity\u001b[0m\u001b[0;34m\u001b[0m\u001b[0;34m\u001b[0m\u001b[0m\n",
            "\u001b[0;32m/usr/local/lib/python3.11/dist-packages/strawberryfields/apps/qchem/__init__.py\u001b[0m in \u001b[0;36m<module>\u001b[0;34m\u001b[0m\n\u001b[1;32m     32\u001b[0m     \u001b[0mread_gamess\u001b[0m\u001b[0;34m\u001b[0m\u001b[0;34m\u001b[0m\u001b[0m\n\u001b[1;32m     33\u001b[0m \"\"\"\n\u001b[0;32m---> 34\u001b[0;31m \u001b[0;32mimport\u001b[0m \u001b[0mstrawberryfields\u001b[0m\u001b[0;34m.\u001b[0m\u001b[0mapps\u001b[0m\u001b[0;34m.\u001b[0m\u001b[0mqchem\u001b[0m\u001b[0;34m.\u001b[0m\u001b[0mdynamics\u001b[0m\u001b[0;34m\u001b[0m\u001b[0;34m\u001b[0m\u001b[0m\n\u001b[0m\u001b[1;32m     35\u001b[0m \u001b[0;32mimport\u001b[0m \u001b[0mstrawberryfields\u001b[0m\u001b[0;34m.\u001b[0m\u001b[0mapps\u001b[0m\u001b[0;34m.\u001b[0m\u001b[0mqchem\u001b[0m\u001b[0;34m.\u001b[0m\u001b[0mvibronic\u001b[0m\u001b[0;34m\u001b[0m\u001b[0;34m\u001b[0m\u001b[0m\n\u001b[1;32m     36\u001b[0m \u001b[0;32mfrom\u001b[0m \u001b[0mstrawberryfields\u001b[0m\u001b[0;34m.\u001b[0m\u001b[0mapps\u001b[0m\u001b[0;34m.\u001b[0m\u001b[0mqchem\u001b[0m\u001b[0;34m.\u001b[0m\u001b[0mutils\u001b[0m \u001b[0;32mimport\u001b[0m \u001b[0mduschinsky\u001b[0m\u001b[0;34m,\u001b[0m \u001b[0mread_gamess\u001b[0m\u001b[0;34m\u001b[0m\u001b[0;34m\u001b[0m\u001b[0m\n",
            "\u001b[0;32m/usr/local/lib/python3.11/dist-packages/strawberryfields/apps/qchem/dynamics.py\u001b[0m in \u001b[0;36m<module>\u001b[0;34m\u001b[0m\n\u001b[1;32m     71\u001b[0m \u001b[0;34m\u001b[0m\u001b[0m\n\u001b[1;32m     72\u001b[0m \u001b[0;32mimport\u001b[0m \u001b[0mstrawberryfields\u001b[0m \u001b[0;32mas\u001b[0m \u001b[0msf\u001b[0m\u001b[0;34m\u001b[0m\u001b[0;34m\u001b[0m\u001b[0m\n\u001b[0;32m---> 73\u001b[0;31m \u001b[0;32mfrom\u001b[0m \u001b[0mstrawberryfields\u001b[0m\u001b[0;34m.\u001b[0m\u001b[0mutils\u001b[0m \u001b[0;32mimport\u001b[0m \u001b[0moperation\u001b[0m\u001b[0;34m\u001b[0m\u001b[0;34m\u001b[0m\u001b[0m\n\u001b[0m\u001b[1;32m     74\u001b[0m \u001b[0;34m\u001b[0m\u001b[0m\n\u001b[1;32m     75\u001b[0m \u001b[0;34m\u001b[0m\u001b[0m\n",
            "\u001b[0;32m/usr/local/lib/python3.11/dist-packages/strawberryfields/utils/__init__.py\u001b[0m in \u001b[0;36m<module>\u001b[0;34m\u001b[0m\n\u001b[1;32m     19\u001b[0m \u001b[0;32mfrom\u001b[0m \u001b[0;34m.\u001b[0m\u001b[0mgbs_analysis\u001b[0m \u001b[0;32mimport\u001b[0m \u001b[0;34m*\u001b[0m\u001b[0;34m\u001b[0m\u001b[0;34m\u001b[0m\u001b[0m\n\u001b[1;32m     20\u001b[0m \u001b[0;32mfrom\u001b[0m \u001b[0;34m.\u001b[0m\u001b[0mpost_processing\u001b[0m \u001b[0;32mimport\u001b[0m \u001b[0;34m*\u001b[0m\u001b[0;34m\u001b[0m\u001b[0;34m\u001b[0m\u001b[0m\n\u001b[0;32m---> 21\u001b[0;31m \u001b[0;32mfrom\u001b[0m \u001b[0;34m.\u001b[0m\u001b[0mprogram_functions\u001b[0m \u001b[0;32mimport\u001b[0m \u001b[0;34m*\u001b[0m\u001b[0;34m\u001b[0m\u001b[0;34m\u001b[0m\u001b[0m\n\u001b[0m\u001b[1;32m     22\u001b[0m \u001b[0;32mfrom\u001b[0m \u001b[0;34m.\u001b[0m\u001b[0mrandom_numbers_matrices\u001b[0m \u001b[0;32mimport\u001b[0m \u001b[0;34m*\u001b[0m\u001b[0;34m\u001b[0m\u001b[0;34m\u001b[0m\u001b[0m\n\u001b[1;32m     23\u001b[0m \u001b[0;32mfrom\u001b[0m \u001b[0;34m.\u001b[0m\u001b[0mstates\u001b[0m \u001b[0;32mimport\u001b[0m \u001b[0;34m*\u001b[0m\u001b[0;34m\u001b[0m\u001b[0;34m\u001b[0m\u001b[0m\n",
            "\u001b[0;32m/usr/local/lib/python3.11/dist-packages/strawberryfields/utils/program_functions.py\u001b[0m in \u001b[0;36m<module>\u001b[0;34m\u001b[0m\n\u001b[1;32m     26\u001b[0m \u001b[0;32mimport\u001b[0m \u001b[0mnumpy\u001b[0m \u001b[0;32mas\u001b[0m \u001b[0mnp\u001b[0m\u001b[0;34m\u001b[0m\u001b[0;34m\u001b[0m\u001b[0m\n\u001b[1;32m     27\u001b[0m \u001b[0;34m\u001b[0m\u001b[0m\n\u001b[0;32m---> 28\u001b[0;31m \u001b[0;32mfrom\u001b[0m \u001b[0mstrawberryfields\u001b[0m\u001b[0;34m.\u001b[0m\u001b[0mengine\u001b[0m \u001b[0;32mimport\u001b[0m \u001b[0mLocalEngine\u001b[0m\u001b[0;34m\u001b[0m\u001b[0;34m\u001b[0m\u001b[0m\n\u001b[0m\u001b[1;32m     29\u001b[0m \u001b[0;32mfrom\u001b[0m \u001b[0mstrawberryfields\u001b[0m\u001b[0;34m.\u001b[0m\u001b[0mprogram_utils\u001b[0m \u001b[0;32mimport\u001b[0m \u001b[0mCommand\u001b[0m\u001b[0;34m\u001b[0m\u001b[0;34m\u001b[0m\u001b[0m\n\u001b[1;32m     30\u001b[0m \u001b[0;32mfrom\u001b[0m \u001b[0mstrawberryfields\u001b[0m\u001b[0;34m.\u001b[0m\u001b[0mops\u001b[0m \u001b[0;32mimport\u001b[0m \u001b[0mGate\u001b[0m\u001b[0;34m,\u001b[0m \u001b[0mChannel\u001b[0m\u001b[0;34m,\u001b[0m \u001b[0mKet\u001b[0m\u001b[0;34m\u001b[0m\u001b[0;34m\u001b[0m\u001b[0m\n",
            "\u001b[0;32m/usr/local/lib/python3.11/dist-packages/strawberryfields/engine.py\u001b[0m in \u001b[0;36m<module>\u001b[0;34m\u001b[0m\n\u001b[1;32m     27\u001b[0m \u001b[0;32mimport\u001b[0m \u001b[0mxcc\u001b[0m\u001b[0;34m\u001b[0m\u001b[0;34m\u001b[0m\u001b[0m\n\u001b[1;32m     28\u001b[0m \u001b[0;34m\u001b[0m\u001b[0m\n\u001b[0;32m---> 29\u001b[0;31m \u001b[0;32mfrom\u001b[0m \u001b[0mstrawberryfields\u001b[0m\u001b[0;34m.\u001b[0m\u001b[0mdevice\u001b[0m \u001b[0;32mimport\u001b[0m \u001b[0mDevice\u001b[0m\u001b[0;34m\u001b[0m\u001b[0;34m\u001b[0m\u001b[0m\n\u001b[0m\u001b[1;32m     30\u001b[0m \u001b[0;32mfrom\u001b[0m \u001b[0mstrawberryfields\u001b[0m\u001b[0;34m.\u001b[0m\u001b[0mresult\u001b[0m \u001b[0;32mimport\u001b[0m \u001b[0mResult\u001b[0m\u001b[0;34m\u001b[0m\u001b[0;34m\u001b[0m\u001b[0m\n\u001b[1;32m     31\u001b[0m \u001b[0;32mfrom\u001b[0m \u001b[0mstrawberryfields\u001b[0m\u001b[0;34m.\u001b[0m\u001b[0mio\u001b[0m \u001b[0;32mimport\u001b[0m \u001b[0mto_blackbird\u001b[0m\u001b[0;34m\u001b[0m\u001b[0;34m\u001b[0m\u001b[0m\n",
            "\u001b[0;32m/usr/local/lib/python3.11/dist-packages/strawberryfields/device.py\u001b[0m in \u001b[0;36m<module>\u001b[0;34m\u001b[0m\n\u001b[1;32m     21\u001b[0m \u001b[0;32mfrom\u001b[0m \u001b[0mblackbird\u001b[0m\u001b[0;34m.\u001b[0m\u001b[0merror\u001b[0m \u001b[0;32mimport\u001b[0m \u001b[0mBlackbirdSyntaxError\u001b[0m\u001b[0;34m\u001b[0m\u001b[0;34m\u001b[0m\u001b[0m\n\u001b[1;32m     22\u001b[0m \u001b[0;34m\u001b[0m\u001b[0m\n\u001b[0;32m---> 23\u001b[0;31m \u001b[0;32mfrom\u001b[0m \u001b[0mstrawberryfields\u001b[0m\u001b[0;34m.\u001b[0m\u001b[0mio\u001b[0m \u001b[0;32mimport\u001b[0m \u001b[0mto_program\u001b[0m\u001b[0;34m\u001b[0m\u001b[0;34m\u001b[0m\u001b[0m\n\u001b[0m\u001b[1;32m     24\u001b[0m \u001b[0;32mfrom\u001b[0m \u001b[0mstrawberryfields\u001b[0m\u001b[0;34m.\u001b[0m\u001b[0mcompilers\u001b[0m \u001b[0;32mimport\u001b[0m \u001b[0mRanges\u001b[0m\u001b[0;34m\u001b[0m\u001b[0;34m\u001b[0m\u001b[0m\n\u001b[1;32m     25\u001b[0m \u001b[0;34m\u001b[0m\u001b[0m\n",
            "\u001b[0;32m/usr/local/lib/python3.11/dist-packages/strawberryfields/io/__init__.py\u001b[0m in \u001b[0;36m<module>\u001b[0;34m\u001b[0m\n\u001b[1;32m     24\u001b[0m \u001b[0;32mimport\u001b[0m \u001b[0mblackbird\u001b[0m\u001b[0;34m\u001b[0m\u001b[0;34m\u001b[0m\u001b[0m\n\u001b[1;32m     25\u001b[0m \u001b[0;34m\u001b[0m\u001b[0m\n\u001b[0;32m---> 26\u001b[0;31m \u001b[0;32mfrom\u001b[0m \u001b[0mstrawberryfields\u001b[0m\u001b[0;34m.\u001b[0m\u001b[0mprogram\u001b[0m \u001b[0;32mimport\u001b[0m \u001b[0mProgram\u001b[0m\u001b[0;34m\u001b[0m\u001b[0;34m\u001b[0m\u001b[0m\n\u001b[0m\u001b[1;32m     27\u001b[0m \u001b[0;34m\u001b[0m\u001b[0m\n\u001b[1;32m     28\u001b[0m \u001b[0;32mfrom\u001b[0m \u001b[0;34m.\u001b[0m\u001b[0mblackbird_io\u001b[0m \u001b[0;32mimport\u001b[0m \u001b[0mto_blackbird\u001b[0m\u001b[0;34m,\u001b[0m \u001b[0mfrom_blackbird\u001b[0m\u001b[0;34m,\u001b[0m \u001b[0mfrom_blackbird_to_tdm\u001b[0m\u001b[0;34m\u001b[0m\u001b[0;34m\u001b[0m\u001b[0m\n",
            "\u001b[0;32m/usr/local/lib/python3.11/dist-packages/strawberryfields/program.py\u001b[0m in \u001b[0;36m<module>\u001b[0;34m\u001b[0m\n\u001b[1;32m     60\u001b[0m \u001b[0;34m\u001b[0m\u001b[0m\n\u001b[1;32m     61\u001b[0m \u001b[0;32mimport\u001b[0m \u001b[0mstrawberryfields\u001b[0m\u001b[0;34m.\u001b[0m\u001b[0mcircuitdrawer\u001b[0m \u001b[0;32mas\u001b[0m \u001b[0msfcd\u001b[0m\u001b[0;34m\u001b[0m\u001b[0;34m\u001b[0m\u001b[0m\n\u001b[0;32m---> 62\u001b[0;31m \u001b[0;32mfrom\u001b[0m \u001b[0mstrawberryfields\u001b[0m\u001b[0;34m.\u001b[0m\u001b[0mcompilers\u001b[0m \u001b[0;32mimport\u001b[0m \u001b[0mCompiler\u001b[0m\u001b[0;34m,\u001b[0m \u001b[0mcompiler_db\u001b[0m\u001b[0;34m\u001b[0m\u001b[0;34m\u001b[0m\u001b[0m\n\u001b[0m\u001b[1;32m     63\u001b[0m \u001b[0;32mimport\u001b[0m \u001b[0mstrawberryfields\u001b[0m\u001b[0;34m.\u001b[0m\u001b[0mprogram_utils\u001b[0m \u001b[0;32mas\u001b[0m \u001b[0mpu\u001b[0m\u001b[0;34m\u001b[0m\u001b[0;34m\u001b[0m\u001b[0m\n\u001b[1;32m     64\u001b[0m \u001b[0;34m\u001b[0m\u001b[0m\n",
            "\u001b[0;32m/usr/local/lib/python3.11/dist-packages/strawberryfields/compilers/__init__.py\u001b[0m in \u001b[0;36m<module>\u001b[0;34m\u001b[0m\n\u001b[1;32m     38\u001b[0m \"\"\"\n\u001b[1;32m     39\u001b[0m \u001b[0;32mfrom\u001b[0m \u001b[0;34m.\u001b[0m\u001b[0mcompiler\u001b[0m \u001b[0;32mimport\u001b[0m \u001b[0mCompiler\u001b[0m\u001b[0;34m,\u001b[0m \u001b[0mRanges\u001b[0m\u001b[0;34m\u001b[0m\u001b[0;34m\u001b[0m\u001b[0m\n\u001b[0;32m---> 40\u001b[0;31m \u001b[0;32mfrom\u001b[0m \u001b[0;34m.\u001b[0m\u001b[0mxcov\u001b[0m \u001b[0;32mimport\u001b[0m \u001b[0mXcov\u001b[0m\u001b[0;34m\u001b[0m\u001b[0;34m\u001b[0m\u001b[0m\n\u001b[0m\u001b[1;32m     41\u001b[0m \u001b[0;32mfrom\u001b[0m \u001b[0;34m.\u001b[0m\u001b[0mxstrict\u001b[0m \u001b[0;32mimport\u001b[0m \u001b[0mXstrict\u001b[0m\u001b[0;34m\u001b[0m\u001b[0;34m\u001b[0m\u001b[0m\n\u001b[1;32m     42\u001b[0m \u001b[0;32mfrom\u001b[0m \u001b[0;34m.\u001b[0m\u001b[0mxunitary\u001b[0m \u001b[0;32mimport\u001b[0m \u001b[0mXunitary\u001b[0m\u001b[0;34m\u001b[0m\u001b[0;34m\u001b[0m\u001b[0m\n",
            "\u001b[0;32m/usr/local/lib/python3.11/dist-packages/strawberryfields/compilers/xcov.py\u001b[0m in \u001b[0;36m<module>\u001b[0;34m\u001b[0m\n\u001b[1;32m     23\u001b[0m \u001b[0;32mfrom\u001b[0m \u001b[0mstrawberryfields\u001b[0m\u001b[0;34m.\u001b[0m\u001b[0mdecompositions\u001b[0m \u001b[0;32mimport\u001b[0m \u001b[0mtakagi\u001b[0m\u001b[0;34m\u001b[0m\u001b[0;34m\u001b[0m\u001b[0m\n\u001b[1;32m     24\u001b[0m \u001b[0;32mfrom\u001b[0m \u001b[0mstrawberryfields\u001b[0m\u001b[0;34m.\u001b[0m\u001b[0mprogram_utils\u001b[0m \u001b[0;32mimport\u001b[0m \u001b[0mCircuitError\u001b[0m\u001b[0;34m,\u001b[0m \u001b[0mCommand\u001b[0m\u001b[0;34m\u001b[0m\u001b[0;34m\u001b[0m\u001b[0m\n\u001b[0;32m---> 25\u001b[0;31m \u001b[0;32mimport\u001b[0m \u001b[0mstrawberryfields\u001b[0m\u001b[0;34m.\u001b[0m\u001b[0mops\u001b[0m \u001b[0;32mas\u001b[0m \u001b[0mops\u001b[0m\u001b[0;34m\u001b[0m\u001b[0;34m\u001b[0m\u001b[0m\n\u001b[0m\u001b[1;32m     26\u001b[0m \u001b[0;34m\u001b[0m\u001b[0m\n\u001b[1;32m     27\u001b[0m \u001b[0;32mfrom\u001b[0m \u001b[0;34m.\u001b[0m\u001b[0mcompiler\u001b[0m \u001b[0;32mimport\u001b[0m \u001b[0mCompiler\u001b[0m\u001b[0;34m\u001b[0m\u001b[0;34m\u001b[0m\u001b[0m\n",
            "\u001b[0;32m/usr/local/lib/python3.11/dist-packages/strawberryfields/ops.py\u001b[0m in \u001b[0;36m<module>\u001b[0;34m\u001b[0m\n\u001b[1;32m     31\u001b[0m \u001b[0;32mimport\u001b[0m \u001b[0mstrawberryfields\u001b[0m\u001b[0;34m.\u001b[0m\u001b[0mprogram_utils\u001b[0m \u001b[0;32mas\u001b[0m \u001b[0mpu\u001b[0m\u001b[0;34m\u001b[0m\u001b[0;34m\u001b[0m\u001b[0m\n\u001b[1;32m     32\u001b[0m \u001b[0;32mimport\u001b[0m \u001b[0mstrawberryfields\u001b[0m\u001b[0;34m.\u001b[0m\u001b[0mdecompositions\u001b[0m \u001b[0;32mas\u001b[0m \u001b[0mdec\u001b[0m\u001b[0;34m\u001b[0m\u001b[0;34m\u001b[0m\u001b[0m\n\u001b[0;32m---> 33\u001b[0;31m \u001b[0;32mfrom\u001b[0m \u001b[0;34m.\u001b[0m\u001b[0mbackends\u001b[0m\u001b[0;34m.\u001b[0m\u001b[0mstates\u001b[0m \u001b[0;32mimport\u001b[0m \u001b[0mBaseFockState\u001b[0m\u001b[0;34m,\u001b[0m \u001b[0mBaseGaussianState\u001b[0m\u001b[0;34m,\u001b[0m \u001b[0mBaseBosonicState\u001b[0m\u001b[0;34m\u001b[0m\u001b[0;34m\u001b[0m\u001b[0m\n\u001b[0m\u001b[1;32m     34\u001b[0m \u001b[0;32mfrom\u001b[0m \u001b[0;34m.\u001b[0m\u001b[0mprogram_utils\u001b[0m \u001b[0;32mimport\u001b[0m \u001b[0mCommand\u001b[0m\u001b[0;34m,\u001b[0m \u001b[0mRegRef\u001b[0m\u001b[0;34m,\u001b[0m \u001b[0mMergeFailure\u001b[0m\u001b[0;34m\u001b[0m\u001b[0;34m\u001b[0m\u001b[0m\n\u001b[1;32m     35\u001b[0m from .parameters import (\n",
            "\u001b[0;32m/usr/local/lib/python3.11/dist-packages/strawberryfields/backends/__init__.py\u001b[0m in \u001b[0;36m<module>\u001b[0;34m\u001b[0m\n\u001b[1;32m     70\u001b[0m \u001b[0;34m\u001b[0m\u001b[0m\n\u001b[1;32m     71\u001b[0m \u001b[0;32mfrom\u001b[0m \u001b[0;34m.\u001b[0m\u001b[0mbase\u001b[0m \u001b[0;32mimport\u001b[0m \u001b[0mBaseBackend\u001b[0m\u001b[0;34m,\u001b[0m \u001b[0mBaseFock\u001b[0m\u001b[0;34m,\u001b[0m \u001b[0mBaseGaussian\u001b[0m\u001b[0;34m,\u001b[0m \u001b[0mBaseBosonic\u001b[0m\u001b[0;34m,\u001b[0m \u001b[0mModeMap\u001b[0m\u001b[0;34m\u001b[0m\u001b[0;34m\u001b[0m\u001b[0m\n\u001b[0;32m---> 72\u001b[0;31m \u001b[0;32mfrom\u001b[0m \u001b[0;34m.\u001b[0m\u001b[0mgaussianbackend\u001b[0m \u001b[0;32mimport\u001b[0m \u001b[0mGaussianBackend\u001b[0m\u001b[0;34m\u001b[0m\u001b[0;34m\u001b[0m\u001b[0m\n\u001b[0m\u001b[1;32m     73\u001b[0m \u001b[0;32mfrom\u001b[0m \u001b[0;34m.\u001b[0m\u001b[0mfockbackend\u001b[0m \u001b[0;32mimport\u001b[0m \u001b[0mFockBackend\u001b[0m\u001b[0;34m\u001b[0m\u001b[0;34m\u001b[0m\u001b[0m\n\u001b[1;32m     74\u001b[0m \u001b[0;32mfrom\u001b[0m \u001b[0;34m.\u001b[0m\u001b[0mbosonicbackend\u001b[0m \u001b[0;32mimport\u001b[0m \u001b[0mBosonicBackend\u001b[0m\u001b[0;34m\u001b[0m\u001b[0;34m\u001b[0m\u001b[0m\n",
            "\u001b[0;32m/usr/local/lib/python3.11/dist-packages/strawberryfields/backends/gaussianbackend/__init__.py\u001b[0m in \u001b[0;36m<module>\u001b[0;34m\u001b[0m\n\u001b[1;32m     14\u001b[0m \u001b[0;34mr\"\"\"Gaussian simulator backend\"\"\"\u001b[0m\u001b[0;34m\u001b[0m\u001b[0;34m\u001b[0m\u001b[0m\n\u001b[1;32m     15\u001b[0m \u001b[0;34m\u001b[0m\u001b[0m\n\u001b[0;32m---> 16\u001b[0;31m \u001b[0;32mfrom\u001b[0m \u001b[0;34m.\u001b[0m\u001b[0mbackend\u001b[0m \u001b[0;32mimport\u001b[0m \u001b[0mGaussianBackend\u001b[0m\u001b[0;34m\u001b[0m\u001b[0;34m\u001b[0m\u001b[0m\n\u001b[0m",
            "\u001b[0;32m/usr/local/lib/python3.11/dist-packages/strawberryfields/backends/gaussianbackend/backend.py\u001b[0m in \u001b[0;36m<module>\u001b[0;34m\u001b[0m\n\u001b[1;32m     21\u001b[0m \u001b[0;34m\u001b[0m\u001b[0m\n\u001b[1;32m     22\u001b[0m \u001b[0;32mfrom\u001b[0m \u001b[0mstrawberryfields\u001b[0m\u001b[0;34m.\u001b[0m\u001b[0mbackends\u001b[0m \u001b[0;32mimport\u001b[0m \u001b[0mBaseGaussian\u001b[0m\u001b[0;34m\u001b[0m\u001b[0;34m\u001b[0m\u001b[0m\n\u001b[0;32m---> 23\u001b[0;31m \u001b[0;32mfrom\u001b[0m \u001b[0mstrawberryfields\u001b[0m\u001b[0;34m.\u001b[0m\u001b[0mbackends\u001b[0m\u001b[0;34m.\u001b[0m\u001b[0mstates\u001b[0m \u001b[0;32mimport\u001b[0m \u001b[0mBaseGaussianState\u001b[0m\u001b[0;34m\u001b[0m\u001b[0;34m\u001b[0m\u001b[0m\n\u001b[0m\u001b[1;32m     24\u001b[0m \u001b[0;34m\u001b[0m\u001b[0m\n\u001b[1;32m     25\u001b[0m \u001b[0;32mfrom\u001b[0m \u001b[0;34m.\u001b[0m\u001b[0mgaussiancircuit\u001b[0m \u001b[0;32mimport\u001b[0m \u001b[0mGaussianModes\u001b[0m\u001b[0;34m\u001b[0m\u001b[0;34m\u001b[0m\u001b[0m\n",
            "\u001b[0;32m/usr/local/lib/python3.11/dist-packages/strawberryfields/backends/states.py\u001b[0m in \u001b[0;36m<module>\u001b[0;34m\u001b[0m\n\u001b[1;32m     25\u001b[0m \u001b[0;32mfrom\u001b[0m \u001b[0mscipy\u001b[0m\u001b[0;34m.\u001b[0m\u001b[0mstats\u001b[0m \u001b[0;32mimport\u001b[0m \u001b[0mmultivariate_normal\u001b[0m\u001b[0;34m\u001b[0m\u001b[0;34m\u001b[0m\u001b[0m\n\u001b[1;32m     26\u001b[0m \u001b[0;32mfrom\u001b[0m \u001b[0mscipy\u001b[0m\u001b[0;34m.\u001b[0m\u001b[0mspecial\u001b[0m \u001b[0;32mimport\u001b[0m \u001b[0mfactorial\u001b[0m\u001b[0;34m\u001b[0m\u001b[0;34m\u001b[0m\u001b[0m\n\u001b[0;32m---> 27\u001b[0;31m \u001b[0;32mfrom\u001b[0m \u001b[0mscipy\u001b[0m\u001b[0;34m.\u001b[0m\u001b[0mintegrate\u001b[0m \u001b[0;32mimport\u001b[0m \u001b[0msimps\u001b[0m\u001b[0;34m\u001b[0m\u001b[0;34m\u001b[0m\u001b[0m\n\u001b[0m\u001b[1;32m     28\u001b[0m \u001b[0;34m\u001b[0m\u001b[0m\n\u001b[1;32m     29\u001b[0m \u001b[0;32mfrom\u001b[0m \u001b[0mthewalrus\u001b[0m\u001b[0;34m.\u001b[0m\u001b[0msymplectic\u001b[0m \u001b[0;32mimport\u001b[0m \u001b[0mrotation\u001b[0m \u001b[0;32mas\u001b[0m \u001b[0m_R\u001b[0m\u001b[0;34m\u001b[0m\u001b[0;34m\u001b[0m\u001b[0m\n",
            "\u001b[0;31mImportError\u001b[0m: cannot import name 'simps' from 'scipy.integrate' (/usr/local/lib/python3.11/dist-packages/scipy/integrate/__init__.py)",
            "",
            "\u001b[0;31m---------------------------------------------------------------------------\u001b[0;32m\nNOTE: If your import is failing due to a missing package, you can\nmanually install dependencies using either !pip or !apt.\n\nTo view examples of installing some common dependencies, click the\n\"Open Examples\" button below.\n\u001b[0;31m---------------------------------------------------------------------------\u001b[0m\n"
          ],
          "errorDetails": {
            "actions": [
              {
                "action": "open_url",
                "actionText": "Open Examples",
                "url": "/notebooks/snippets/importing_libraries.ipynb"
              }
            ]
          }
        }
      ]
    },
    {
      "cell_type": "markdown",
      "source": [
        "Ignoring the simps error (I spent a while trying to fix that), there are type errors. Here's the prompt that would theoretically work:"
      ],
      "metadata": {
        "id": "3d2Kbuwo3JuK"
      }
    },
    {
      "cell_type": "markdown",
      "source": [
        "## Modified Prompt\n",
        "\n",
        "\"I want to design a quantum photonic circuit using Strawberry Fields in Python. Please guide me step by step by asking interactive questions to define the circuit based on my requirements. Here’s how I’d like you to proceed:\n",
        "\n",
        "1.  **Quantum Problem:** Ask me what type of quantum problem I want to solve (e.g., quantum teleportation, Gaussian boson sampling, entanglement generation).\n",
        "2.  **Mode and Photon States:** Help me choose the number of modes (n_modes: int) and photon states (cutoff_dim: int) required for the circuit. Ensure that these are integers.\n",
        "3.  **Quantum Operations:** Assist me in selecting quantum operations (e.g., squeezing, displacement, beamsplitters, phase shifts, Kerr interaction). For each operation, specify the required parameters and their data types (e.g., squeezing parameter r: float, phase shift theta: float).\n",
        "4.  **Measurements:** Guide me in setting up appropriate measurements (e.g., homodyne, photon counting, heterodyne). Specify the measurement type and the modes to be measured (mode: int).\n",
        "5.  **Python Code with Type Annotations:** Once all parameters are determined, generate the complete Strawberry Fields Python code for the circuit. Use type annotations for all variables and function parameters. Ensure that the code is well-structured and easy to understand.\n",
        "6.  **Visualization:** Include a section to visualize the output state or measurement results using Matplotlib or QuTiP. Label all axes and provide clear titles.\n",
        "7.  **Error Handling:** Include basic error handling to check for invalid input values or potential errors during circuit execution. If an error is detected, print a descriptive error message.\n",
        "8.  **Example type annotations:**\n",
        "    * n_modes: int = 2\n",
        "    * r: float = 0.5\n",
        "    * theta: float = np.pi/2\n",
        "    * def beamsplitter(phi: float, mode_a: int, mode_b: int) -> None:\n",
        "        ops.BSgate(phi) | (mode_a, mode_b)"
      ],
      "metadata": {
        "id": "U5xcTDGwqu0N"
      }
    },
    {
      "cell_type": "code",
      "source": [
        "import strawberryfields as sf\n",
        "from strawberryfields import ops\n",
        "import numpy as np\n",
        "import matplotlib.pyplot as plt\n",
        "\n",
        "# Create a 2-mode quantum photonic circuit\n",
        "n_modes = 2\n",
        "eng = sf.Engine(backend='fock', num_subsystems=n_modes)\n",
        "\n",
        "# Define the circuit\n",
        "with eng:\n",
        "    # Squeezing (r = 0.5) for both modes\n",
        "    ops.S2gate(0.5) | 0  # Mode 1\n",
        "    ops.S2gate(0.5) | 1  # Mode 2\n",
        "\n",
        "    # Phase shift (theta = pi/2) on Mode 2\n",
        "    ops.Rgate(np.pi/2) | 1\n",
        "\n",
        "    # Beamsplitter (50:50 mix) between Mode 1 and Mode 2\n",
        "    ops.BSgate(np.pi/4) | (0, 1)\n",
        "\n",
        "    # Photon counting measurement on both modes\n",
        "    ops.MeasureFock() | 0\n",
        "    ops.MeasureFock() | 1\n",
        "\n",
        "# Run the simulation\n",
        "result = eng.run()\n",
        "\n",
        "# Retrieve and plot the photon number counts for both modes\n",
        "photon_counts_mode_1 = result.samples[0]\n",
        "photon_counts_mode_2 = result.samples[1]\n",
        "\n",
        "# Plotting the results\n",
        "fig, ax = plt.subplots(1, 2, figsize=(12, 5))\n",
        "\n",
        "# Mode 1 photon counts\n",
        "ax[0].hist(photon_counts_mode_1, bins=20, color='blue', alpha=0.7)\n",
        "ax[0].set_title(\"Photon Counts - Mode 1\")\n",
        "ax[0].set_xlabel(\"Number of photons\")\n",
        "ax[0].set_ylabel(\"Frequency\")\n",
        "\n",
        "# Mode 2 photon counts\n",
        "ax[1].hist(photon_counts_mode_2, bins=20, color='red', alpha=0.7)\n",
        "ax[1].set_title(\"Photon Counts - Mode 2\")\n",
        "ax[1].set_xlabel(\"Number of photons\")\n",
        "ax[1].set_ylabel(\"Frequency\")\n",
        "\n",
        "plt.tight_layout()\n",
        "plt.show()\n"
      ],
      "metadata": {
        "colab": {
          "base_uri": "https://localhost:8080/",
          "height": 563
        },
        "id": "CYc9p-ibsWVp",
        "outputId": "bfc6c1ba-b6f9-4f8a-899f-e0dbe792bca4"
      },
      "execution_count": 24,
      "outputs": [
        {
          "output_type": "error",
          "ename": "ImportError",
          "evalue": "cannot import name 'simps' from 'scipy.integrate' (/usr/local/lib/python3.11/dist-packages/scipy/integrate/__init__.py)",
          "traceback": [
            "\u001b[0;31m---------------------------------------------------------------------------\u001b[0m",
            "\u001b[0;31mImportError\u001b[0m                               Traceback (most recent call last)",
            "\u001b[0;32m<ipython-input-24-bd8685317edf>\u001b[0m in \u001b[0;36m<cell line: 0>\u001b[0;34m()\u001b[0m\n\u001b[0;32m----> 1\u001b[0;31m \u001b[0;32mimport\u001b[0m \u001b[0mstrawberryfields\u001b[0m \u001b[0;32mas\u001b[0m \u001b[0msf\u001b[0m\u001b[0;34m\u001b[0m\u001b[0;34m\u001b[0m\u001b[0m\n\u001b[0m\u001b[1;32m      2\u001b[0m \u001b[0;32mfrom\u001b[0m \u001b[0mstrawberryfields\u001b[0m \u001b[0;32mimport\u001b[0m \u001b[0mops\u001b[0m\u001b[0;34m\u001b[0m\u001b[0;34m\u001b[0m\u001b[0m\n\u001b[1;32m      3\u001b[0m \u001b[0;32mimport\u001b[0m \u001b[0mnumpy\u001b[0m \u001b[0;32mas\u001b[0m \u001b[0mnp\u001b[0m\u001b[0;34m\u001b[0m\u001b[0;34m\u001b[0m\u001b[0m\n\u001b[1;32m      4\u001b[0m \u001b[0;32mimport\u001b[0m \u001b[0mmatplotlib\u001b[0m\u001b[0;34m.\u001b[0m\u001b[0mpyplot\u001b[0m \u001b[0;32mas\u001b[0m \u001b[0mplt\u001b[0m\u001b[0;34m\u001b[0m\u001b[0;34m\u001b[0m\u001b[0m\n\u001b[1;32m      5\u001b[0m \u001b[0;34m\u001b[0m\u001b[0m\n",
            "\u001b[0;32m/usr/local/lib/python3.11/dist-packages/strawberryfields/__init__.py\u001b[0m in \u001b[0;36m<module>\u001b[0;34m\u001b[0m\n\u001b[1;32m     22\u001b[0m     \u001b[0;34m:\u001b[0m\u001b[0mtarget\u001b[0m\u001b[0;34m:\u001b[0m \u001b[0mjavascript\u001b[0m\u001b[0;34m:\u001b[0m\u001b[0mvoid\u001b[0m\u001b[0;34m(\u001b[0m\u001b[0;36m0\u001b[0m\u001b[0;34m)\u001b[0m\u001b[0;34m;\u001b[0m\u001b[0;34m\u001b[0m\u001b[0;34m\u001b[0m\u001b[0m\n\u001b[1;32m     23\u001b[0m \"\"\"\n\u001b[0;32m---> 24\u001b[0;31m \u001b[0;32mfrom\u001b[0m \u001b[0;34m.\u001b[0m \u001b[0;32mimport\u001b[0m \u001b[0mapps\u001b[0m\u001b[0;34m\u001b[0m\u001b[0;34m\u001b[0m\u001b[0m\n\u001b[0m\u001b[1;32m     25\u001b[0m \u001b[0;32mfrom\u001b[0m \u001b[0;34m.\u001b[0m\u001b[0m_version\u001b[0m \u001b[0;32mimport\u001b[0m \u001b[0m__version__\u001b[0m\u001b[0;34m\u001b[0m\u001b[0;34m\u001b[0m\u001b[0m\n\u001b[1;32m     26\u001b[0m \u001b[0;32mfrom\u001b[0m \u001b[0;34m.\u001b[0m\u001b[0mengine\u001b[0m \u001b[0;32mimport\u001b[0m \u001b[0mEngine\u001b[0m\u001b[0;34m,\u001b[0m \u001b[0mLocalEngine\u001b[0m\u001b[0;34m,\u001b[0m \u001b[0mRemoteEngine\u001b[0m\u001b[0;34m\u001b[0m\u001b[0;34m\u001b[0m\u001b[0m\n",
            "\u001b[0;32m/usr/local/lib/python3.11/dist-packages/strawberryfields/apps/__init__.py\u001b[0m in \u001b[0;36m<module>\u001b[0;34m\u001b[0m\n\u001b[1;32m     34\u001b[0m \u001b[0;32mimport\u001b[0m \u001b[0mstrawberryfields\u001b[0m\u001b[0;34m.\u001b[0m\u001b[0mapps\u001b[0m\u001b[0;34m.\u001b[0m\u001b[0mplot\u001b[0m\u001b[0;34m\u001b[0m\u001b[0;34m\u001b[0m\u001b[0m\n\u001b[1;32m     35\u001b[0m \u001b[0;32mimport\u001b[0m \u001b[0mstrawberryfields\u001b[0m\u001b[0;34m.\u001b[0m\u001b[0mapps\u001b[0m\u001b[0;34m.\u001b[0m\u001b[0mpoints\u001b[0m\u001b[0;34m\u001b[0m\u001b[0;34m\u001b[0m\u001b[0m\n\u001b[0;32m---> 36\u001b[0;31m \u001b[0;32mimport\u001b[0m \u001b[0mstrawberryfields\u001b[0m\u001b[0;34m.\u001b[0m\u001b[0mapps\u001b[0m\u001b[0;34m.\u001b[0m\u001b[0mqchem\u001b[0m\u001b[0;34m\u001b[0m\u001b[0;34m\u001b[0m\u001b[0m\n\u001b[0m\u001b[1;32m     37\u001b[0m \u001b[0;32mimport\u001b[0m \u001b[0mstrawberryfields\u001b[0m\u001b[0;34m.\u001b[0m\u001b[0mapps\u001b[0m\u001b[0;34m.\u001b[0m\u001b[0msample\u001b[0m\u001b[0;34m\u001b[0m\u001b[0;34m\u001b[0m\u001b[0m\n\u001b[1;32m     38\u001b[0m \u001b[0;32mimport\u001b[0m \u001b[0mstrawberryfields\u001b[0m\u001b[0;34m.\u001b[0m\u001b[0mapps\u001b[0m\u001b[0;34m.\u001b[0m\u001b[0msimilarity\u001b[0m\u001b[0;34m\u001b[0m\u001b[0;34m\u001b[0m\u001b[0m\n",
            "\u001b[0;32m/usr/local/lib/python3.11/dist-packages/strawberryfields/apps/qchem/__init__.py\u001b[0m in \u001b[0;36m<module>\u001b[0;34m\u001b[0m\n\u001b[1;32m     32\u001b[0m     \u001b[0mread_gamess\u001b[0m\u001b[0;34m\u001b[0m\u001b[0;34m\u001b[0m\u001b[0m\n\u001b[1;32m     33\u001b[0m \"\"\"\n\u001b[0;32m---> 34\u001b[0;31m \u001b[0;32mimport\u001b[0m \u001b[0mstrawberryfields\u001b[0m\u001b[0;34m.\u001b[0m\u001b[0mapps\u001b[0m\u001b[0;34m.\u001b[0m\u001b[0mqchem\u001b[0m\u001b[0;34m.\u001b[0m\u001b[0mdynamics\u001b[0m\u001b[0;34m\u001b[0m\u001b[0;34m\u001b[0m\u001b[0m\n\u001b[0m\u001b[1;32m     35\u001b[0m \u001b[0;32mimport\u001b[0m \u001b[0mstrawberryfields\u001b[0m\u001b[0;34m.\u001b[0m\u001b[0mapps\u001b[0m\u001b[0;34m.\u001b[0m\u001b[0mqchem\u001b[0m\u001b[0;34m.\u001b[0m\u001b[0mvibronic\u001b[0m\u001b[0;34m\u001b[0m\u001b[0;34m\u001b[0m\u001b[0m\n\u001b[1;32m     36\u001b[0m \u001b[0;32mfrom\u001b[0m \u001b[0mstrawberryfields\u001b[0m\u001b[0;34m.\u001b[0m\u001b[0mapps\u001b[0m\u001b[0;34m.\u001b[0m\u001b[0mqchem\u001b[0m\u001b[0;34m.\u001b[0m\u001b[0mutils\u001b[0m \u001b[0;32mimport\u001b[0m \u001b[0mduschinsky\u001b[0m\u001b[0;34m,\u001b[0m \u001b[0mread_gamess\u001b[0m\u001b[0;34m\u001b[0m\u001b[0;34m\u001b[0m\u001b[0m\n",
            "\u001b[0;32m/usr/local/lib/python3.11/dist-packages/strawberryfields/apps/qchem/dynamics.py\u001b[0m in \u001b[0;36m<module>\u001b[0;34m\u001b[0m\n\u001b[1;32m     71\u001b[0m \u001b[0;34m\u001b[0m\u001b[0m\n\u001b[1;32m     72\u001b[0m \u001b[0;32mimport\u001b[0m \u001b[0mstrawberryfields\u001b[0m \u001b[0;32mas\u001b[0m \u001b[0msf\u001b[0m\u001b[0;34m\u001b[0m\u001b[0;34m\u001b[0m\u001b[0m\n\u001b[0;32m---> 73\u001b[0;31m \u001b[0;32mfrom\u001b[0m \u001b[0mstrawberryfields\u001b[0m\u001b[0;34m.\u001b[0m\u001b[0mutils\u001b[0m \u001b[0;32mimport\u001b[0m \u001b[0moperation\u001b[0m\u001b[0;34m\u001b[0m\u001b[0;34m\u001b[0m\u001b[0m\n\u001b[0m\u001b[1;32m     74\u001b[0m \u001b[0;34m\u001b[0m\u001b[0m\n\u001b[1;32m     75\u001b[0m \u001b[0;34m\u001b[0m\u001b[0m\n",
            "\u001b[0;32m/usr/local/lib/python3.11/dist-packages/strawberryfields/utils/__init__.py\u001b[0m in \u001b[0;36m<module>\u001b[0;34m\u001b[0m\n\u001b[1;32m     19\u001b[0m \u001b[0;32mfrom\u001b[0m \u001b[0;34m.\u001b[0m\u001b[0mgbs_analysis\u001b[0m \u001b[0;32mimport\u001b[0m \u001b[0;34m*\u001b[0m\u001b[0;34m\u001b[0m\u001b[0;34m\u001b[0m\u001b[0m\n\u001b[1;32m     20\u001b[0m \u001b[0;32mfrom\u001b[0m \u001b[0;34m.\u001b[0m\u001b[0mpost_processing\u001b[0m \u001b[0;32mimport\u001b[0m \u001b[0;34m*\u001b[0m\u001b[0;34m\u001b[0m\u001b[0;34m\u001b[0m\u001b[0m\n\u001b[0;32m---> 21\u001b[0;31m \u001b[0;32mfrom\u001b[0m \u001b[0;34m.\u001b[0m\u001b[0mprogram_functions\u001b[0m \u001b[0;32mimport\u001b[0m \u001b[0;34m*\u001b[0m\u001b[0;34m\u001b[0m\u001b[0;34m\u001b[0m\u001b[0m\n\u001b[0m\u001b[1;32m     22\u001b[0m \u001b[0;32mfrom\u001b[0m \u001b[0;34m.\u001b[0m\u001b[0mrandom_numbers_matrices\u001b[0m \u001b[0;32mimport\u001b[0m \u001b[0;34m*\u001b[0m\u001b[0;34m\u001b[0m\u001b[0;34m\u001b[0m\u001b[0m\n\u001b[1;32m     23\u001b[0m \u001b[0;32mfrom\u001b[0m \u001b[0;34m.\u001b[0m\u001b[0mstates\u001b[0m \u001b[0;32mimport\u001b[0m \u001b[0;34m*\u001b[0m\u001b[0;34m\u001b[0m\u001b[0;34m\u001b[0m\u001b[0m\n",
            "\u001b[0;32m/usr/local/lib/python3.11/dist-packages/strawberryfields/utils/program_functions.py\u001b[0m in \u001b[0;36m<module>\u001b[0;34m\u001b[0m\n\u001b[1;32m     26\u001b[0m \u001b[0;32mimport\u001b[0m \u001b[0mnumpy\u001b[0m \u001b[0;32mas\u001b[0m \u001b[0mnp\u001b[0m\u001b[0;34m\u001b[0m\u001b[0;34m\u001b[0m\u001b[0m\n\u001b[1;32m     27\u001b[0m \u001b[0;34m\u001b[0m\u001b[0m\n\u001b[0;32m---> 28\u001b[0;31m \u001b[0;32mfrom\u001b[0m \u001b[0mstrawberryfields\u001b[0m\u001b[0;34m.\u001b[0m\u001b[0mengine\u001b[0m \u001b[0;32mimport\u001b[0m \u001b[0mLocalEngine\u001b[0m\u001b[0;34m\u001b[0m\u001b[0;34m\u001b[0m\u001b[0m\n\u001b[0m\u001b[1;32m     29\u001b[0m \u001b[0;32mfrom\u001b[0m \u001b[0mstrawberryfields\u001b[0m\u001b[0;34m.\u001b[0m\u001b[0mprogram_utils\u001b[0m \u001b[0;32mimport\u001b[0m \u001b[0mCommand\u001b[0m\u001b[0;34m\u001b[0m\u001b[0;34m\u001b[0m\u001b[0m\n\u001b[1;32m     30\u001b[0m \u001b[0;32mfrom\u001b[0m \u001b[0mstrawberryfields\u001b[0m\u001b[0;34m.\u001b[0m\u001b[0mops\u001b[0m \u001b[0;32mimport\u001b[0m \u001b[0mGate\u001b[0m\u001b[0;34m,\u001b[0m \u001b[0mChannel\u001b[0m\u001b[0;34m,\u001b[0m \u001b[0mKet\u001b[0m\u001b[0;34m\u001b[0m\u001b[0;34m\u001b[0m\u001b[0m\n",
            "\u001b[0;32m/usr/local/lib/python3.11/dist-packages/strawberryfields/engine.py\u001b[0m in \u001b[0;36m<module>\u001b[0;34m\u001b[0m\n\u001b[1;32m     27\u001b[0m \u001b[0;32mimport\u001b[0m \u001b[0mxcc\u001b[0m\u001b[0;34m\u001b[0m\u001b[0;34m\u001b[0m\u001b[0m\n\u001b[1;32m     28\u001b[0m \u001b[0;34m\u001b[0m\u001b[0m\n\u001b[0;32m---> 29\u001b[0;31m \u001b[0;32mfrom\u001b[0m \u001b[0mstrawberryfields\u001b[0m\u001b[0;34m.\u001b[0m\u001b[0mdevice\u001b[0m \u001b[0;32mimport\u001b[0m \u001b[0mDevice\u001b[0m\u001b[0;34m\u001b[0m\u001b[0;34m\u001b[0m\u001b[0m\n\u001b[0m\u001b[1;32m     30\u001b[0m \u001b[0;32mfrom\u001b[0m \u001b[0mstrawberryfields\u001b[0m\u001b[0;34m.\u001b[0m\u001b[0mresult\u001b[0m \u001b[0;32mimport\u001b[0m \u001b[0mResult\u001b[0m\u001b[0;34m\u001b[0m\u001b[0;34m\u001b[0m\u001b[0m\n\u001b[1;32m     31\u001b[0m \u001b[0;32mfrom\u001b[0m \u001b[0mstrawberryfields\u001b[0m\u001b[0;34m.\u001b[0m\u001b[0mio\u001b[0m \u001b[0;32mimport\u001b[0m \u001b[0mto_blackbird\u001b[0m\u001b[0;34m\u001b[0m\u001b[0;34m\u001b[0m\u001b[0m\n",
            "\u001b[0;32m/usr/local/lib/python3.11/dist-packages/strawberryfields/device.py\u001b[0m in \u001b[0;36m<module>\u001b[0;34m\u001b[0m\n\u001b[1;32m     21\u001b[0m \u001b[0;32mfrom\u001b[0m \u001b[0mblackbird\u001b[0m\u001b[0;34m.\u001b[0m\u001b[0merror\u001b[0m \u001b[0;32mimport\u001b[0m \u001b[0mBlackbirdSyntaxError\u001b[0m\u001b[0;34m\u001b[0m\u001b[0;34m\u001b[0m\u001b[0m\n\u001b[1;32m     22\u001b[0m \u001b[0;34m\u001b[0m\u001b[0m\n\u001b[0;32m---> 23\u001b[0;31m \u001b[0;32mfrom\u001b[0m \u001b[0mstrawberryfields\u001b[0m\u001b[0;34m.\u001b[0m\u001b[0mio\u001b[0m \u001b[0;32mimport\u001b[0m \u001b[0mto_program\u001b[0m\u001b[0;34m\u001b[0m\u001b[0;34m\u001b[0m\u001b[0m\n\u001b[0m\u001b[1;32m     24\u001b[0m \u001b[0;32mfrom\u001b[0m \u001b[0mstrawberryfields\u001b[0m\u001b[0;34m.\u001b[0m\u001b[0mcompilers\u001b[0m \u001b[0;32mimport\u001b[0m \u001b[0mRanges\u001b[0m\u001b[0;34m\u001b[0m\u001b[0;34m\u001b[0m\u001b[0m\n\u001b[1;32m     25\u001b[0m \u001b[0;34m\u001b[0m\u001b[0m\n",
            "\u001b[0;32m/usr/local/lib/python3.11/dist-packages/strawberryfields/io/__init__.py\u001b[0m in \u001b[0;36m<module>\u001b[0;34m\u001b[0m\n\u001b[1;32m     24\u001b[0m \u001b[0;32mimport\u001b[0m \u001b[0mblackbird\u001b[0m\u001b[0;34m\u001b[0m\u001b[0;34m\u001b[0m\u001b[0m\n\u001b[1;32m     25\u001b[0m \u001b[0;34m\u001b[0m\u001b[0m\n\u001b[0;32m---> 26\u001b[0;31m \u001b[0;32mfrom\u001b[0m \u001b[0mstrawberryfields\u001b[0m\u001b[0;34m.\u001b[0m\u001b[0mprogram\u001b[0m \u001b[0;32mimport\u001b[0m \u001b[0mProgram\u001b[0m\u001b[0;34m\u001b[0m\u001b[0;34m\u001b[0m\u001b[0m\n\u001b[0m\u001b[1;32m     27\u001b[0m \u001b[0;34m\u001b[0m\u001b[0m\n\u001b[1;32m     28\u001b[0m \u001b[0;32mfrom\u001b[0m \u001b[0;34m.\u001b[0m\u001b[0mblackbird_io\u001b[0m \u001b[0;32mimport\u001b[0m \u001b[0mto_blackbird\u001b[0m\u001b[0;34m,\u001b[0m \u001b[0mfrom_blackbird\u001b[0m\u001b[0;34m,\u001b[0m \u001b[0mfrom_blackbird_to_tdm\u001b[0m\u001b[0;34m\u001b[0m\u001b[0;34m\u001b[0m\u001b[0m\n",
            "\u001b[0;32m/usr/local/lib/python3.11/dist-packages/strawberryfields/program.py\u001b[0m in \u001b[0;36m<module>\u001b[0;34m\u001b[0m\n\u001b[1;32m     60\u001b[0m \u001b[0;34m\u001b[0m\u001b[0m\n\u001b[1;32m     61\u001b[0m \u001b[0;32mimport\u001b[0m \u001b[0mstrawberryfields\u001b[0m\u001b[0;34m.\u001b[0m\u001b[0mcircuitdrawer\u001b[0m \u001b[0;32mas\u001b[0m \u001b[0msfcd\u001b[0m\u001b[0;34m\u001b[0m\u001b[0;34m\u001b[0m\u001b[0m\n\u001b[0;32m---> 62\u001b[0;31m \u001b[0;32mfrom\u001b[0m \u001b[0mstrawberryfields\u001b[0m\u001b[0;34m.\u001b[0m\u001b[0mcompilers\u001b[0m \u001b[0;32mimport\u001b[0m \u001b[0mCompiler\u001b[0m\u001b[0;34m,\u001b[0m \u001b[0mcompiler_db\u001b[0m\u001b[0;34m\u001b[0m\u001b[0;34m\u001b[0m\u001b[0m\n\u001b[0m\u001b[1;32m     63\u001b[0m \u001b[0;32mimport\u001b[0m \u001b[0mstrawberryfields\u001b[0m\u001b[0;34m.\u001b[0m\u001b[0mprogram_utils\u001b[0m \u001b[0;32mas\u001b[0m \u001b[0mpu\u001b[0m\u001b[0;34m\u001b[0m\u001b[0;34m\u001b[0m\u001b[0m\n\u001b[1;32m     64\u001b[0m \u001b[0;34m\u001b[0m\u001b[0m\n",
            "\u001b[0;32m/usr/local/lib/python3.11/dist-packages/strawberryfields/compilers/__init__.py\u001b[0m in \u001b[0;36m<module>\u001b[0;34m\u001b[0m\n\u001b[1;32m     38\u001b[0m \"\"\"\n\u001b[1;32m     39\u001b[0m \u001b[0;32mfrom\u001b[0m \u001b[0;34m.\u001b[0m\u001b[0mcompiler\u001b[0m \u001b[0;32mimport\u001b[0m \u001b[0mCompiler\u001b[0m\u001b[0;34m,\u001b[0m \u001b[0mRanges\u001b[0m\u001b[0;34m\u001b[0m\u001b[0;34m\u001b[0m\u001b[0m\n\u001b[0;32m---> 40\u001b[0;31m \u001b[0;32mfrom\u001b[0m \u001b[0;34m.\u001b[0m\u001b[0mxcov\u001b[0m \u001b[0;32mimport\u001b[0m \u001b[0mXcov\u001b[0m\u001b[0;34m\u001b[0m\u001b[0;34m\u001b[0m\u001b[0m\n\u001b[0m\u001b[1;32m     41\u001b[0m \u001b[0;32mfrom\u001b[0m \u001b[0;34m.\u001b[0m\u001b[0mxstrict\u001b[0m \u001b[0;32mimport\u001b[0m \u001b[0mXstrict\u001b[0m\u001b[0;34m\u001b[0m\u001b[0;34m\u001b[0m\u001b[0m\n\u001b[1;32m     42\u001b[0m \u001b[0;32mfrom\u001b[0m \u001b[0;34m.\u001b[0m\u001b[0mxunitary\u001b[0m \u001b[0;32mimport\u001b[0m \u001b[0mXunitary\u001b[0m\u001b[0;34m\u001b[0m\u001b[0;34m\u001b[0m\u001b[0m\n",
            "\u001b[0;32m/usr/local/lib/python3.11/dist-packages/strawberryfields/compilers/xcov.py\u001b[0m in \u001b[0;36m<module>\u001b[0;34m\u001b[0m\n\u001b[1;32m     23\u001b[0m \u001b[0;32mfrom\u001b[0m \u001b[0mstrawberryfields\u001b[0m\u001b[0;34m.\u001b[0m\u001b[0mdecompositions\u001b[0m \u001b[0;32mimport\u001b[0m \u001b[0mtakagi\u001b[0m\u001b[0;34m\u001b[0m\u001b[0;34m\u001b[0m\u001b[0m\n\u001b[1;32m     24\u001b[0m \u001b[0;32mfrom\u001b[0m \u001b[0mstrawberryfields\u001b[0m\u001b[0;34m.\u001b[0m\u001b[0mprogram_utils\u001b[0m \u001b[0;32mimport\u001b[0m \u001b[0mCircuitError\u001b[0m\u001b[0;34m,\u001b[0m \u001b[0mCommand\u001b[0m\u001b[0;34m\u001b[0m\u001b[0;34m\u001b[0m\u001b[0m\n\u001b[0;32m---> 25\u001b[0;31m \u001b[0;32mimport\u001b[0m \u001b[0mstrawberryfields\u001b[0m\u001b[0;34m.\u001b[0m\u001b[0mops\u001b[0m \u001b[0;32mas\u001b[0m \u001b[0mops\u001b[0m\u001b[0;34m\u001b[0m\u001b[0;34m\u001b[0m\u001b[0m\n\u001b[0m\u001b[1;32m     26\u001b[0m \u001b[0;34m\u001b[0m\u001b[0m\n\u001b[1;32m     27\u001b[0m \u001b[0;32mfrom\u001b[0m \u001b[0;34m.\u001b[0m\u001b[0mcompiler\u001b[0m \u001b[0;32mimport\u001b[0m \u001b[0mCompiler\u001b[0m\u001b[0;34m\u001b[0m\u001b[0;34m\u001b[0m\u001b[0m\n",
            "\u001b[0;32m/usr/local/lib/python3.11/dist-packages/strawberryfields/ops.py\u001b[0m in \u001b[0;36m<module>\u001b[0;34m\u001b[0m\n\u001b[1;32m     31\u001b[0m \u001b[0;32mimport\u001b[0m \u001b[0mstrawberryfields\u001b[0m\u001b[0;34m.\u001b[0m\u001b[0mprogram_utils\u001b[0m \u001b[0;32mas\u001b[0m \u001b[0mpu\u001b[0m\u001b[0;34m\u001b[0m\u001b[0;34m\u001b[0m\u001b[0m\n\u001b[1;32m     32\u001b[0m \u001b[0;32mimport\u001b[0m \u001b[0mstrawberryfields\u001b[0m\u001b[0;34m.\u001b[0m\u001b[0mdecompositions\u001b[0m \u001b[0;32mas\u001b[0m \u001b[0mdec\u001b[0m\u001b[0;34m\u001b[0m\u001b[0;34m\u001b[0m\u001b[0m\n\u001b[0;32m---> 33\u001b[0;31m \u001b[0;32mfrom\u001b[0m \u001b[0;34m.\u001b[0m\u001b[0mbackends\u001b[0m\u001b[0;34m.\u001b[0m\u001b[0mstates\u001b[0m \u001b[0;32mimport\u001b[0m \u001b[0mBaseFockState\u001b[0m\u001b[0;34m,\u001b[0m \u001b[0mBaseGaussianState\u001b[0m\u001b[0;34m,\u001b[0m \u001b[0mBaseBosonicState\u001b[0m\u001b[0;34m\u001b[0m\u001b[0;34m\u001b[0m\u001b[0m\n\u001b[0m\u001b[1;32m     34\u001b[0m \u001b[0;32mfrom\u001b[0m \u001b[0;34m.\u001b[0m\u001b[0mprogram_utils\u001b[0m \u001b[0;32mimport\u001b[0m \u001b[0mCommand\u001b[0m\u001b[0;34m,\u001b[0m \u001b[0mRegRef\u001b[0m\u001b[0;34m,\u001b[0m \u001b[0mMergeFailure\u001b[0m\u001b[0;34m\u001b[0m\u001b[0;34m\u001b[0m\u001b[0m\n\u001b[1;32m     35\u001b[0m from .parameters import (\n",
            "\u001b[0;32m/usr/local/lib/python3.11/dist-packages/strawberryfields/backends/__init__.py\u001b[0m in \u001b[0;36m<module>\u001b[0;34m\u001b[0m\n\u001b[1;32m     70\u001b[0m \u001b[0;34m\u001b[0m\u001b[0m\n\u001b[1;32m     71\u001b[0m \u001b[0;32mfrom\u001b[0m \u001b[0;34m.\u001b[0m\u001b[0mbase\u001b[0m \u001b[0;32mimport\u001b[0m \u001b[0mBaseBackend\u001b[0m\u001b[0;34m,\u001b[0m \u001b[0mBaseFock\u001b[0m\u001b[0;34m,\u001b[0m \u001b[0mBaseGaussian\u001b[0m\u001b[0;34m,\u001b[0m \u001b[0mBaseBosonic\u001b[0m\u001b[0;34m,\u001b[0m \u001b[0mModeMap\u001b[0m\u001b[0;34m\u001b[0m\u001b[0;34m\u001b[0m\u001b[0m\n\u001b[0;32m---> 72\u001b[0;31m \u001b[0;32mfrom\u001b[0m \u001b[0;34m.\u001b[0m\u001b[0mgaussianbackend\u001b[0m \u001b[0;32mimport\u001b[0m \u001b[0mGaussianBackend\u001b[0m\u001b[0;34m\u001b[0m\u001b[0;34m\u001b[0m\u001b[0m\n\u001b[0m\u001b[1;32m     73\u001b[0m \u001b[0;32mfrom\u001b[0m \u001b[0;34m.\u001b[0m\u001b[0mfockbackend\u001b[0m \u001b[0;32mimport\u001b[0m \u001b[0mFockBackend\u001b[0m\u001b[0;34m\u001b[0m\u001b[0;34m\u001b[0m\u001b[0m\n\u001b[1;32m     74\u001b[0m \u001b[0;32mfrom\u001b[0m \u001b[0;34m.\u001b[0m\u001b[0mbosonicbackend\u001b[0m \u001b[0;32mimport\u001b[0m \u001b[0mBosonicBackend\u001b[0m\u001b[0;34m\u001b[0m\u001b[0;34m\u001b[0m\u001b[0m\n",
            "\u001b[0;32m/usr/local/lib/python3.11/dist-packages/strawberryfields/backends/gaussianbackend/__init__.py\u001b[0m in \u001b[0;36m<module>\u001b[0;34m\u001b[0m\n\u001b[1;32m     14\u001b[0m \u001b[0;34mr\"\"\"Gaussian simulator backend\"\"\"\u001b[0m\u001b[0;34m\u001b[0m\u001b[0;34m\u001b[0m\u001b[0m\n\u001b[1;32m     15\u001b[0m \u001b[0;34m\u001b[0m\u001b[0m\n\u001b[0;32m---> 16\u001b[0;31m \u001b[0;32mfrom\u001b[0m \u001b[0;34m.\u001b[0m\u001b[0mbackend\u001b[0m \u001b[0;32mimport\u001b[0m \u001b[0mGaussianBackend\u001b[0m\u001b[0;34m\u001b[0m\u001b[0;34m\u001b[0m\u001b[0m\n\u001b[0m",
            "\u001b[0;32m/usr/local/lib/python3.11/dist-packages/strawberryfields/backends/gaussianbackend/backend.py\u001b[0m in \u001b[0;36m<module>\u001b[0;34m\u001b[0m\n\u001b[1;32m     21\u001b[0m \u001b[0;34m\u001b[0m\u001b[0m\n\u001b[1;32m     22\u001b[0m \u001b[0;32mfrom\u001b[0m \u001b[0mstrawberryfields\u001b[0m\u001b[0;34m.\u001b[0m\u001b[0mbackends\u001b[0m \u001b[0;32mimport\u001b[0m \u001b[0mBaseGaussian\u001b[0m\u001b[0;34m\u001b[0m\u001b[0;34m\u001b[0m\u001b[0m\n\u001b[0;32m---> 23\u001b[0;31m \u001b[0;32mfrom\u001b[0m \u001b[0mstrawberryfields\u001b[0m\u001b[0;34m.\u001b[0m\u001b[0mbackends\u001b[0m\u001b[0;34m.\u001b[0m\u001b[0mstates\u001b[0m \u001b[0;32mimport\u001b[0m \u001b[0mBaseGaussianState\u001b[0m\u001b[0;34m\u001b[0m\u001b[0;34m\u001b[0m\u001b[0m\n\u001b[0m\u001b[1;32m     24\u001b[0m \u001b[0;34m\u001b[0m\u001b[0m\n\u001b[1;32m     25\u001b[0m \u001b[0;32mfrom\u001b[0m \u001b[0;34m.\u001b[0m\u001b[0mgaussiancircuit\u001b[0m \u001b[0;32mimport\u001b[0m \u001b[0mGaussianModes\u001b[0m\u001b[0;34m\u001b[0m\u001b[0;34m\u001b[0m\u001b[0m\n",
            "\u001b[0;32m/usr/local/lib/python3.11/dist-packages/strawberryfields/backends/states.py\u001b[0m in \u001b[0;36m<module>\u001b[0;34m\u001b[0m\n\u001b[1;32m     25\u001b[0m \u001b[0;32mfrom\u001b[0m \u001b[0mscipy\u001b[0m\u001b[0;34m.\u001b[0m\u001b[0mstats\u001b[0m \u001b[0;32mimport\u001b[0m \u001b[0mmultivariate_normal\u001b[0m\u001b[0;34m\u001b[0m\u001b[0;34m\u001b[0m\u001b[0m\n\u001b[1;32m     26\u001b[0m \u001b[0;32mfrom\u001b[0m \u001b[0mscipy\u001b[0m\u001b[0;34m.\u001b[0m\u001b[0mspecial\u001b[0m \u001b[0;32mimport\u001b[0m \u001b[0mfactorial\u001b[0m\u001b[0;34m\u001b[0m\u001b[0;34m\u001b[0m\u001b[0m\n\u001b[0;32m---> 27\u001b[0;31m \u001b[0;32mfrom\u001b[0m \u001b[0mscipy\u001b[0m\u001b[0;34m.\u001b[0m\u001b[0mintegrate\u001b[0m \u001b[0;32mimport\u001b[0m \u001b[0msimps\u001b[0m\u001b[0;34m\u001b[0m\u001b[0;34m\u001b[0m\u001b[0m\n\u001b[0m\u001b[1;32m     28\u001b[0m \u001b[0;34m\u001b[0m\u001b[0m\n\u001b[1;32m     29\u001b[0m \u001b[0;32mfrom\u001b[0m \u001b[0mthewalrus\u001b[0m\u001b[0;34m.\u001b[0m\u001b[0msymplectic\u001b[0m \u001b[0;32mimport\u001b[0m \u001b[0mrotation\u001b[0m \u001b[0;32mas\u001b[0m \u001b[0m_R\u001b[0m\u001b[0;34m\u001b[0m\u001b[0;34m\u001b[0m\u001b[0m\n",
            "\u001b[0;31mImportError\u001b[0m: cannot import name 'simps' from 'scipy.integrate' (/usr/local/lib/python3.11/dist-packages/scipy/integrate/__init__.py)",
            "",
            "\u001b[0;31m---------------------------------------------------------------------------\u001b[0;32m\nNOTE: If your import is failing due to a missing package, you can\nmanually install dependencies using either !pip or !apt.\n\nTo view examples of installing some common dependencies, click the\n\"Open Examples\" button below.\n\u001b[0;31m---------------------------------------------------------------------------\u001b[0m\n"
          ],
          "errorDetails": {
            "actions": [
              {
                "action": "open_url",
                "actionText": "Open Examples",
                "url": "/notebooks/snippets/importing_libraries.ipynb"
              }
            ]
          }
        }
      ]
    },
    {
      "cell_type": "markdown",
      "source": [],
      "metadata": {
        "id": "Swb-qQvY1RiY"
      }
    },
    {
      "cell_type": "markdown",
      "source": [
        "## Analysis"
      ],
      "metadata": {
        "id": "efAAb2pu5VHe"
      }
    },
    {
      "cell_type": "markdown",
      "source": [
        "ChatGPT asked me clearer questions mentioning the data type.\n",
        "\n",
        "Example question:\\\n",
        "What values would you like to use for:\n",
        "- n_modes (integer)\n",
        "\n",
        "- cutoff_dim (integer)\n",
        "\n",
        "It also didnt ask me as many questions to customize the operation more. The first prompt led ChatGPT to asking about customizing the phase shift and beamsplitter ratio. This seems like something a human (I) would do. The first attempt is overambitious and when something unrelated makes it hard, it went the simple route. The prompts were on two different tabs for ChatGPT, but it could have been connected by my account."
      ],
      "metadata": {
        "id": "NbgleyMc5X61"
      }
    },
    {
      "cell_type": "markdown",
      "source": [
        "This interaction gave me a better idea of what squeezing and modes are. At one point I asked if this was similar to the classical Michelson interferometer because it was explaining the use of a beamsplitter. This helped me understand quantum mechanics a bit more because I tend to have trouble visualizing it.\n",
        "\n",
        "I felt I could ask any question while it was explaining things. It is much more comfortable to ask AI than asking a professor, but if something seems fishy, I know to find a real expert. This was a nice side hunt into quantum photonic circuits and Strawberry Fields."
      ],
      "metadata": {
        "id": "emJRPE7c72Mo"
      }
    }
  ]
}