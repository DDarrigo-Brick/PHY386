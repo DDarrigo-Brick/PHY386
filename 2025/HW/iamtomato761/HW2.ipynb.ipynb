{
  "nbformat": 4,
  "nbformat_minor": 0,
  "metadata": {
    "colab": {
      "provenance": [],
      "toc_visible": true,
      "collapsed_sections": [
        "5rjp8x9Q2vZa",
        "4Pu2wsp525nH"
      ],
      "authorship_tag": "ABX9TyP9U31wySDrJFGheZYEQQIp",
      "include_colab_link": true
    },
    "kernelspec": {
      "name": "python3",
      "display_name": "Python 3"
    },
    "language_info": {
      "name": "python"
    }
  },
  "cells": [
    {
      "cell_type": "markdown",
      "metadata": {
        "id": "view-in-github",
        "colab_type": "text"
      },
      "source": [
        "<a href=\"https://colab.research.google.com/github/ubsuny/PHY386/blob/Homework2025/2025/HW/iamtomato761/HW2.ipynb.ipynb\" target=\"_parent\"><img src=\"https://colab.research.google.com/assets/colab-badge.svg\" alt=\"Open In Colab\"/></a>"
      ]
    },
    {
      "cell_type": "markdown",
      "source": [
        "# Homework 2 Start"
      ],
      "metadata": {
        "id": "5rjp8x9Q2vZa"
      }
    },
    {
      "cell_type": "code",
      "execution_count": null,
      "metadata": {
        "id": "HSbC-oj2zUi9"
      },
      "outputs": [],
      "source": [
        "# import libraries\n",
        "import numpy as np"
      ]
    },
    {
      "cell_type": "markdown",
      "source": [
        "## 3 mass coupled spring\n",
        "\n",
        "*   m1=m2=m3=m\n",
        "*   k1=k2=k3=k4=k"
      ],
      "metadata": {
        "id": "1hUg5vgx3TaD"
      }
    },
    {
      "cell_type": "code",
      "source": [
        "# Let's calculate the frequencies numerically:\n",
        "\n",
        "def calculate_eigenfrequencies_3mass(k, m):\n",
        "    \"\"\" calculate the eigenfrequencies for our three mass problem.\n",
        "\n",
        "    Keyword arguments:\n",
        "    k -- spring constant (N/m)\n",
        "    m -- mass (kg)\n",
        "\n",
        "    returns:\n",
        "    w1 -- first eigenfrequency\n",
        "    w2 -- second eigenfrequency\n",
        "    w3 -- third eigenfrequency\n",
        "    \"\"\"\n",
        "    w0_squared = k / m\n",
        "    w1 = np.sqrt(2*w0_squared)\n",
        "    w2 = np.sqrt((2-np.sqrt(2)) * w0_squared)\n",
        "    w3 = np.sqrt((2+np.sqrt(2)) * w0_squared)\n",
        "    return w1, w2, w3\n",
        "\n",
        "# Example values\n",
        "k = 10  # N/m\n",
        "m = 1   # kg\n",
        "\n",
        "w1, w2, w3 = calculate_eigenfrequencies_3mass(k, m)\n",
        "\n",
        "print(\"Eigenfrequencies:\")\n",
        "print(\"ω₁ = {:.4f} rad/s\".format(w1))\n",
        "print(\"ω₂ = {:.4f} rad/s\".format(w2))\n",
        "print(\"ω₃ = {:.4f} rad/s\".format(w3))"
      ],
      "metadata": {
        "colab": {
          "base_uri": "https://localhost:8080/"
        },
        "id": "QHCdVdXhzkUm",
        "outputId": "58ba403a-44a2-439a-e1f9-70ad24b3d247"
      },
      "execution_count": null,
      "outputs": [
        {
          "output_type": "stream",
          "name": "stdout",
          "text": [
            "Eigenfrequencies:\n",
            "ω₁ = 4.4721 rad/s\n",
            "ω₂ = 2.4203 rad/s\n",
            "ω₃ = 5.8431 rad/s\n"
          ]
        }
      ]
    },
    {
      "cell_type": "markdown",
      "source": [
        "# Extending the code\n"
      ],
      "metadata": {
        "id": "4Pu2wsp525nH"
      }
    },
    {
      "cell_type": "markdown",
      "source": [
        "## Extend the system to n masses"
      ],
      "metadata": {
        "id": "z4eneMLL3YKc"
      }
    },
    {
      "cell_type": "code",
      "source": [
        "import numpy as np\n",
        "\n",
        "def calculate_eigenfrequencies_n_mass(k, m, n):\n",
        "    \"\"\"\n",
        "    Calculate the eigenfrequencies for a system of n masses connected by springs.\n",
        "\n",
        "    Keyword arguments:\n",
        "    k -- spring constant (N/m)\n",
        "    m -- mass (kg)\n",
        "    n -- number of masses\n",
        "\n",
        "    Returns:\n",
        "    eigenfrequencies -- an array of n eigenfrequencies\n",
        "    \"\"\"\n",
        "\n",
        "    # Construct the mass and k matrices\n",
        "    M = np.eye(n) * m  # mass matrix (identity * m >> diagonal)\n",
        "    K = np.zeros((n, n))  # k matrix\n",
        "\n",
        "    # Fill the k matrix\n",
        "    for i in range(n):\n",
        "        K[i, i] = 2 * k  # Diagonal elements\n",
        "        if i > 0:\n",
        "            K[i, i - 1] = -k  # Off-diagonal elements\n",
        "        if i < n - 1:\n",
        "            K[i, i + 1] = -k  # Off-diagonal elements\n",
        "\n",
        "    # Solve the eigenvalue problem\n",
        "    eigenvalues, _ = np.linalg.eig(np.linalg.solve(M, K))\n",
        "    eigenfrequencies = np.sqrt(eigenvalues)\n",
        "\n",
        "    return eigenfrequencies, M, K # Return M and K\n",
        "\n",
        "\n",
        "# Example usage\n",
        "k = 10  # N/m\n",
        "m = 1   # kg\n",
        "n = 6   # Number of masses\n",
        "\n",
        "eigenfrequencies, M, K = calculate_eigenfrequencies_n_mass(k, m, n) # Receive M and K\n",
        "\n",
        "print(\"Eigenfrequencies for\", n, \"masses:\")\n",
        "for i, freq in enumerate(eigenfrequencies):\n",
        "    print(\"ω{} = {:.4f} rad/s\".format(i + 1, freq))\n",
        "\n",
        "# Print the matrices - Now M and K are in scope\n",
        "print(\"Mass Matrix (M):\\n\", M)\n",
        "print(\"\\nStiffness Matrix (K):\\n\", K)"
      ],
      "metadata": {
        "colab": {
          "base_uri": "https://localhost:8080/"
        },
        "id": "YeknkGVi2t1N",
        "outputId": "12669a50-1c35-49ee-d928-72b1d064c94e"
      },
      "execution_count": null,
      "outputs": [
        {
          "output_type": "stream",
          "name": "stdout",
          "text": [
            "Eigenfrequencies for 6 masses:\n",
            "ω1 = 6.1660 rad/s\n",
            "ω2 = 5.6982 rad/s\n",
            "ω3 = 4.9447 rad/s\n",
            "ω4 = 1.4073 rad/s\n",
            "ω5 = 3.9433 rad/s\n",
            "ω6 = 2.7441 rad/s\n",
            "Mass Matrix (M):\n",
            " [[1. 0. 0. 0. 0. 0.]\n",
            " [0. 1. 0. 0. 0. 0.]\n",
            " [0. 0. 1. 0. 0. 0.]\n",
            " [0. 0. 0. 1. 0. 0.]\n",
            " [0. 0. 0. 0. 1. 0.]\n",
            " [0. 0. 0. 0. 0. 1.]]\n",
            "\n",
            "Stiffness Matrix (K):\n",
            " [[ 20. -10.   0.   0.   0.   0.]\n",
            " [-10.  20. -10.   0.   0.   0.]\n",
            " [  0. -10.  20. -10.   0.   0.]\n",
            " [  0.   0. -10.  20. -10.   0.]\n",
            " [  0.   0.   0. -10.  20. -10.]\n",
            " [  0.   0.   0.   0. -10.  20.]]\n"
          ]
        }
      ]
    },
    {
      "cell_type": "markdown",
      "source": [
        "### Differences from 3 mass system\n",
        "\n",
        "\n",
        "\n",
        "*   Uses an array for the mass, k-constant, eigenvalues, and eigenfrequencies\n",
        "\n",
        "  + for a variable number of masses\n",
        "\n",
        "*   fills k matrix based on pattern\n",
        "\n",
        "$$\n",
        "\\begin{bmatrix}\n",
        "2k & -k & 0 \\\\\n",
        "-k & 2k & -k \\\\\n",
        "0 & -k & 2k\n",
        "\\end{bmatrix}\n",
        "$$"
      ],
      "metadata": {
        "id": "nukCK9P85dHW"
      }
    },
    {
      "cell_type": "markdown",
      "source": [
        "### Unit test"
      ],
      "metadata": {
        "id": "Hyd7yG8MJa50"
      }
    },
    {
      "cell_type": "code",
      "source": [
        "# Example usage\n",
        "k = 10  # N/m\n",
        "m = 1   # kg\n",
        "n = 3   # Number of masses\n",
        "\n",
        "eigenfrequencies, M, K = calculate_eigenfrequencies_n_mass(k, m, n)\n",
        "\n",
        "print(\"Eigenfrequencies for\", n, \"masses:\")\n",
        "for i, freq in enumerate(eigenfrequencies):\n",
        "    print(\"ω{} = {:.4f} rad/s\".format(i + 1, freq))\n",
        "\n",
        "# Print the matrices - Now M and K are in scope\n",
        "print(\"Mass Matrix (M):\\n\", M)\n",
        "print(\"\\nStiffness Matrix (K):\\n\", K)"
      ],
      "metadata": {
        "colab": {
          "base_uri": "https://localhost:8080/"
        },
        "id": "wAOofXkvIOGh",
        "outputId": "6c93c369-6fc6-49a0-e899-474dd3e1e87b"
      },
      "execution_count": null,
      "outputs": [
        {
          "output_type": "stream",
          "name": "stdout",
          "text": [
            "Eigenfrequencies for 3 masses:\n",
            "ω1 = 5.8431 rad/s\n",
            "ω2 = 4.4721 rad/s\n",
            "ω3 = 2.4203 rad/s\n",
            "Mass Matrix (M):\n",
            " [[1. 0. 0.]\n",
            " [0. 1. 0.]\n",
            " [0. 0. 1.]]\n",
            "\n",
            "Stiffness Matrix (K):\n",
            " [[ 20. -10.   0.]\n",
            " [-10.  20. -10.]\n",
            " [  0. -10.  20.]]\n"
          ]
        }
      ]
    },
    {
      "cell_type": "markdown",
      "source": [
        "## Adjusted so every spring and mass can be different"
      ],
      "metadata": {
        "id": "bcKOcZGNPvcP"
      }
    },
    {
      "cell_type": "code",
      "source": [
        "import numpy as np\n",
        "\n",
        "def calculate_eigenfrequencies_variable_system(k_values, m_values):\n",
        "    \"\"\"\n",
        "    Calculate the eigenfrequencies for a system with variable spring constants and masses.\n",
        "\n",
        "    Keyword arguments:\n",
        "    k_values -- a list or array of spring constants (N/m)\n",
        "    m_values -- a list or array of masses (kg)\n",
        "\n",
        "    Returns:\n",
        "    eigenfrequencies -- an array of eigenfrequencies\n",
        "    M -- the mass matrix\n",
        "    K -- the stiffness matrix\n",
        "    \"\"\"\n",
        "    n = len(m_values)  # Number of masses\n",
        "\n",
        "    # Construct the mass matrix (M)\n",
        "    M = np.diag(m_values)  # Create a diagonal matrix with masses\n",
        "\n",
        "    # Construct the stiffness matrix (K)\n",
        "    K = np.zeros((n, n))\n",
        "    for i in range(n):\n",
        "        if i == 0:  # Special case for the first mass connected to the left wall\n",
        "            K[i, i] = k_values[i] + k_values[i + 1]\n",
        "        elif i == n - 1:  # Special case for the last mass connected to the right wall\n",
        "            K[i, i] = k_values[i] + k_values[i + 1]\n",
        "        else:  # For masses in between\n",
        "            K[i, i] = k_values[i] + k_values[i + 1]\n",
        "        if i > 0:\n",
        "            K[i, i - 1] = -k_values[i]  # Off-diagonal elements\n",
        "        if i < n - 1:\n",
        "            K[i, i + 1] = -k_values[i + 1]  # Off-diagonal elements\n",
        "\n",
        "    # Solve the eigenvalue problem\n",
        "    eigenvalues, _ = np.linalg.eig(np.linalg.solve(M, K))\n",
        "    eigenfrequencies = np.sqrt(eigenvalues)\n",
        "\n",
        "    return eigenfrequencies, M, K\n",
        "\n",
        "\n",
        "# Example usage\n",
        "k_values = [10, 12, 15, 11, 9, 8, 14]  # Spring constants for each spring\n",
        "m_values = [1, 1.2, 0.8, 1.5, 1, 0.9]  # Masses for each mass\n",
        "\n",
        "eigenfrequencies, M, K = calculate_eigenfrequencies_variable_system(k_values, m_values)\n",
        "\n",
        "print(\"Eigenfrequencies for the variable system:\")\n",
        "for i, freq in enumerate(eigenfrequencies):\n",
        "    print(\"ω{} = {:.4f} rad/s\".format(i + 1, freq))\n",
        "\n",
        "print(\"Mass Matrix (M):\\n\", M)\n",
        "print(\"\\nStiffness Matrix (K):\\n\", K)"
      ],
      "metadata": {
        "id": "16O_FGX7JnLv",
        "colab": {
          "base_uri": "https://localhost:8080/"
        },
        "outputId": "bbd5cb7e-8f51-423b-ea3b-0d51f5519502"
      },
      "execution_count": 20,
      "outputs": [
        {
          "output_type": "stream",
          "name": "stdout",
          "text": [
            "Eigenfrequencies for the variable system:\n",
            "ω1 = 6.8791 rad/s\n",
            "ω2 = 1.3780 rad/s\n",
            "ω3 = 2.8378 rad/s\n",
            "ω4 = 4.0601 rad/s\n",
            "ω5 = 5.1879 rad/s\n",
            "ω6 = 5.5772 rad/s\n",
            "Mass Matrix (M):\n",
            " [[1.  0.  0.  0.  0.  0. ]\n",
            " [0.  1.2 0.  0.  0.  0. ]\n",
            " [0.  0.  0.8 0.  0.  0. ]\n",
            " [0.  0.  0.  1.5 0.  0. ]\n",
            " [0.  0.  0.  0.  1.  0. ]\n",
            " [0.  0.  0.  0.  0.  0.9]]\n",
            "\n",
            "Stiffness Matrix (K):\n",
            " [[ 22. -12.   0.   0.   0.   0.]\n",
            " [-12.  27. -15.   0.   0.   0.]\n",
            " [  0. -15.  26. -11.   0.   0.]\n",
            " [  0.   0. -11.  20.  -9.   0.]\n",
            " [  0.   0.   0.  -9.  17.  -8.]\n",
            " [  0.   0.   0.   0.  -8.  22.]]\n"
          ]
        }
      ]
    },
    {
      "cell_type": "markdown",
      "source": [
        "### Differences from all the same mass and spring constant\n",
        "\n",
        "1. function accepts lists/arrays of k_values and m_values: \"k_values\" and \"m_values\"\n",
        "\n",
        "2. mass matrix \"np.diag(m.values)\" creates a diagonal matric where the diagonal entries are the different masses\n",
        "\n",
        "3. K matrix follows the pattern\n",
        "\n",
        "$$\n",
        "\\begin{bmatrix}\n",
        "k1+k2 & -k2 & 0 \\\\\n",
        "-k2 & k2+k3 & -k3 \\\\\n",
        "0 & -k3 & k3+k4\n",
        "\\end{bmatrix}\n",
        "$$\n"
      ],
      "metadata": {
        "id": "U4wyUTMBVPw6"
      }
    },
    {
      "cell_type": "markdown",
      "source": [
        "### Unit test"
      ],
      "metadata": {
        "id": "6sZHc7osf5ia"
      }
    },
    {
      "cell_type": "code",
      "source": [
        "k_values = [10, 10, 10, 10]\n",
        "m_values = [1, 1, 1]\n",
        "\n",
        "eigenfrequencies, M, K = calculate_eigenfrequencies_variable_system(k_values, m_values)\n",
        "\n",
        "print(\"Eigenfrequencies for the variable system:\")\n",
        "for i, freq in enumerate(eigenfrequencies):\n",
        "    print(\"ω{} = {:.4f} rad/s\".format(i + 1, freq))\n",
        "\n",
        "print(\"Mass Matrix (M):\\n\", M)\n",
        "print(\"\\nStiffness Matrix (K):\\n\", K)"
      ],
      "metadata": {
        "colab": {
          "base_uri": "https://localhost:8080/"
        },
        "id": "5hVd2GSvZ9my",
        "outputId": "cfd7fd0f-331a-4212-d217-e02f558fc838"
      },
      "execution_count": null,
      "outputs": [
        {
          "output_type": "stream",
          "name": "stdout",
          "text": [
            "Eigenfrequencies for the variable system:\n",
            "ω1 = 5.8431 rad/s\n",
            "ω2 = 4.4721 rad/s\n",
            "ω3 = 2.4203 rad/s\n",
            "Mass Matrix (M):\n",
            " [[1 0 0]\n",
            " [0 1 0]\n",
            " [0 0 1]]\n",
            "\n",
            "Stiffness Matrix (K):\n",
            " [[ 20. -10.   0.]\n",
            " [-10.  20. -10.]\n",
            " [  0. -10.  20.]]\n"
          ]
        }
      ]
    },
    {
      "cell_type": "markdown",
      "source": [
        "## Add conditional statement"
      ],
      "metadata": {
        "id": "6U7DUZOih1f1"
      }
    },
    {
      "cell_type": "code",
      "source": [
        "import numpy as np\n",
        "\n",
        "def calculate_eigenfrequencies_variable_system(k_values, m_values):\n",
        "    \"\"\"\n",
        "    Calculate the eigenfrequencies for a system with variable spring constants and masses.\n",
        "\n",
        "    Keyword arguments:\n",
        "    k_values -- a list or array of spring constants (N/m)\n",
        "    m_values -- a list or array of masses (kg)\n",
        "\n",
        "    Returns:\n",
        "    eigenfrequencies -- an array of eigenfrequencies\n",
        "    M -- the mass matrix\n",
        "    K -- the stiffness matrix\n",
        "    \"\"\"\n",
        "    n = len(m_values)  # Number of masses\n",
        "\n",
        "    # Construct the mass matrix (M)\n",
        "    M = np.diag(m_values)  # Create a diagonal matrix with masses\n",
        "\n",
        "    # Construct the stiffness matrix (K)\n",
        "    K = np.zeros((n, n))\n",
        "    for i in range(n):\n",
        "        if i == 0:  # Special case for the first mass connected to the left wall\n",
        "            K[i, i] = k_values[i] + k_values[i + 1]\n",
        "        elif i == n - 1:  # Special case for the last mass connected to the right wall\n",
        "            K[i, i] = k_values[i] + k_values[i+1]\n",
        "        else:  # For masses in between\n",
        "            K[i, i] = k_values[i] + k_values[i + 1]\n",
        "        if i > 0:\n",
        "            K[i, i - 1] = -k_values[i]  # Off-diagonal elements\n",
        "        if i < n - 1:\n",
        "            K[i, i + 1] = -k_values[i + 1]  # Off-diagonal elements\n",
        "\n",
        "    # Solve the eigenvalue problem\n",
        "    eigenvalues, _ = np.linalg.eig(np.linalg.solve(M, K))\n",
        "    eigenfrequencies = np.sqrt(eigenvalues)\n",
        "\n",
        "    # Conditional statements for wall presence\n",
        "    if k_values[0] == 0 and k_values[-1] == 0:\n",
        "        print(\"We are unprotected and floating in space\")\n",
        "    elif k_values[0] == 0:\n",
        "        print(\"The west wall has fallen :(\")\n",
        "    elif k_values[-1] == 0:\n",
        "        print(\"The east wall has fallen :(\")\n",
        "    else:\n",
        "        print(\"We have walls!\")\n",
        "\n",
        "    return eigenfrequencies, M, K\n",
        "\n",
        "\n",
        "# Example usage\n",
        "k_values = [10, 12, 15, 11, 9, 8, 0]  # Spring constants for each spring\n",
        "m_values = [1, 1.2, 0.8, 1.5, 1, 0.9]  # Masses for each mass\n",
        "\n",
        "eigenfrequencies, M, K = calculate_eigenfrequencies_variable_system(k_values, m_values)\n",
        "\n",
        "print(\"Eigenfrequencies for the variable system:\")\n",
        "for i, freq in enumerate(eigenfrequencies):\n",
        "    print(\"ω{} = {:.4f} rad/s\".format(i + 1, freq))\n",
        "\n",
        "print(\"Mass Matrix (M):\\n\", M)\n",
        "print(\"\\nStiffness Matrix (K):\\n\", K)"
      ],
      "metadata": {
        "id": "4fASaXarjBAA",
        "colab": {
          "base_uri": "https://localhost:8080/"
        },
        "outputId": "d27b0262-223c-47f1-fc5d-6c2be9ae00fd"
      },
      "execution_count": 27,
      "outputs": [
        {
          "output_type": "stream",
          "name": "stdout",
          "text": [
            "The east wall has fallen :(\n",
            "Eigenfrequencies for the variable system:\n",
            "ω1 = 6.8787 rad/s\n",
            "ω2 = 5.3129 rad/s\n",
            "ω3 = 4.8666 rad/s\n",
            "ω4 = 3.3915 rad/s\n",
            "ω5 = 0.7877 rad/s\n",
            "ω6 = 2.2075 rad/s\n",
            "Mass Matrix (M):\n",
            " [[1.  0.  0.  0.  0.  0. ]\n",
            " [0.  1.2 0.  0.  0.  0. ]\n",
            " [0.  0.  0.8 0.  0.  0. ]\n",
            " [0.  0.  0.  1.5 0.  0. ]\n",
            " [0.  0.  0.  0.  1.  0. ]\n",
            " [0.  0.  0.  0.  0.  0.9]]\n",
            "\n",
            "Stiffness Matrix (K):\n",
            " [[ 22. -12.   0.   0.   0.   0.]\n",
            " [-12.  27. -15.   0.   0.   0.]\n",
            " [  0. -15.  26. -11.   0.   0.]\n",
            " [  0.   0. -11.  20.  -9.   0.]\n",
            " [  0.   0.   0.  -9.  17.  -8.]\n",
            " [  0.   0.   0.   0.  -8.   8.]]\n"
          ]
        }
      ]
    },
    {
      "cell_type": "markdown",
      "source": [
        "### Unit test"
      ],
      "metadata": {
        "id": "D6-UmNxomc70"
      }
    },
    {
      "cell_type": "code",
      "source": [
        "k_values = [10, 10, 10, 10]\n",
        "m_values = [1, 1, 1]\n",
        "\n",
        "eigenfrequencies, M, K = calculate_eigenfrequencies_variable_system(k_values, m_values)\n",
        "\n",
        "print(\"Eigenfrequencies for the variable system:\")\n",
        "for i, freq in enumerate(eigenfrequencies):\n",
        "    print(\"ω{} = {:.4f} rad/s\".format(i + 1, freq))\n",
        "\n",
        "print(\"Mass Matrix (M):\\n\", M)\n",
        "print(\"\\nStiffness Matrix (K):\\n\", K)"
      ],
      "metadata": {
        "colab": {
          "base_uri": "https://localhost:8080/"
        },
        "id": "niD_W3dYk-TV",
        "outputId": "f997cf47-45f9-45b6-eeb3-ae4897e9358f"
      },
      "execution_count": 28,
      "outputs": [
        {
          "output_type": "stream",
          "name": "stdout",
          "text": [
            "We have walls!\n",
            "Eigenfrequencies for the variable system:\n",
            "ω1 = 5.8431 rad/s\n",
            "ω2 = 4.4721 rad/s\n",
            "ω3 = 2.4203 rad/s\n",
            "Mass Matrix (M):\n",
            " [[1 0 0]\n",
            " [0 1 0]\n",
            " [0 0 1]]\n",
            "\n",
            "Stiffness Matrix (K):\n",
            " [[ 20. -10.   0.]\n",
            " [-10.  20. -10.]\n",
            " [  0. -10.  20.]]\n"
          ]
        }
      ]
    },
    {
      "cell_type": "markdown",
      "source": [
        "# AI creative"
      ],
      "metadata": {
        "id": "Usm_U7mYrQqk"
      }
    },
    {
      "cell_type": "markdown",
      "source": [
        "## Analysis of conversation\n",
        "\n",
        "I used deepseek (with DeepThink (R1)) because I have always wanted to play around with this AI. This allowed me to see how the AI was \"thinking\" before it gave me its answer, which meant it having a conversation with itself on whether the systems were physical. This led to my not questioning if it is physical. I know that it is physical because in the end, it only alternated the k-constants.\n",
        "\n",
        "I probably could have asked it for a more creative adjustment, but it mentioned bandgaps in its deep thought and the final message said \"This setup is inspired by superlattices in materials science, leading to interesting band gaps.\" 😲 I decided the creativity is trying to replicate bandgaps.\n",
        "\n",
        "This is when I steered away from AI, which was a *big* mistake. The old-fashioned Google gave me papers on nonlinearly coupled oscillators producing band gaps, so I asked DeepSeek if the springs needed to be nonlinear (not constants). I also asked Google's AI if this were the case. Both told me no. Therefore, I should have just asked AI instead of assuming papers are the only real information.\n",
        "\n",
        "DeepSeek gave me one way to see a bandgap in a frequency density plot. It wasn't enough for me to see a real gap, so it put a high contrast between the alternating frequencies and increased the number of springs.\n",
        "\n",
        "I noticed a trend playing with different k-constants that the frequencies stayed near the 2 constants. I asked DeepSeek if more k-values would give me more bandgaps and it gave me a long \"DeepThink\" conversation, so I turned off DeepThink. The conclusion was that yes, more k-values should give more gaps.\n",
        "\n",
        "I am not knowledgeable enough to know if the plot is really showing what they call \"band gaps\" or if it was just gaps, so I asked Google AI. This is how I discovered the plot I am used to seeing! \"Frequency vs. wavevector.\"\n",
        "\n",
        "I asked DeepSeek to give me a frequency vs. wavevector plot and that showed me some beautiful bandgaps."
      ],
      "metadata": {
        "id": "15pJCfxbvWLE"
      }
    },
    {
      "cell_type": "markdown",
      "source": [
        "## 1 bandgap with 2 alternating k-values"
      ],
      "metadata": {
        "id": "2HIIRhcm1tyG"
      }
    },
    {
      "cell_type": "code",
      "source": [
        "import numpy as np\n",
        "import matplotlib.pyplot as plt\n",
        "from numpy.linalg import eigvalsh\n",
        "\n",
        "# Parameters\n",
        "N = 100      # Large system to approximate periodicity\n",
        "m = 1.0\n",
        "k1, k2 = 2.0, 0.1  # High contrast for pronounced gaps\n",
        "\n",
        "# Build stiffness matrix\n",
        "K = np.zeros((N, N))\n",
        "for i in range(N):\n",
        "    # Left spring (alternating k1/k2)\n",
        "    if i > 0:\n",
        "        left_k = k1 if (i-1) % 2 == 0 else k2\n",
        "        K[i, i] += left_k\n",
        "        K[i, i-1] -= left_k\n",
        "    # Right spring\n",
        "    if i < N-1:\n",
        "        right_k = k1 if i % 2 == 0 else k2\n",
        "        K[i, i] += right_k\n",
        "        K[i, i+1] -= right_k\n",
        "\n",
        "# Calculate eigenfrequencies\n",
        "eigenvalues = eigvalsh(K / m)\n",
        "eigenfrequencies = np.sqrt(eigenvalues)\n",
        "\n",
        "# Plot frequency density (bands and gaps)\n",
        "plt.figure(figsize=(10, 5))\n",
        "plt.hist(eigenfrequencies, bins=100, density=True, alpha=0.7, color='blue')\n",
        "plt.title(f\"Frequency Density Plot (N = {N})\\nBand Gaps = Regions with Zero Density\")\n",
        "plt.xlabel(\"Frequency $\\omega$\")\n",
        "plt.ylabel(\"Density\")\n",
        "plt.grid(True)\n",
        "plt.show()"
      ],
      "metadata": {
        "colab": {
          "base_uri": "https://localhost:8080/",
          "height": 546
        },
        "id": "zJQt45nFnWBF",
        "outputId": "e47d827d-8a03-4a20-e90c-eab3c22778ad"
      },
      "execution_count": 35,
      "outputs": [
        {
          "output_type": "stream",
          "name": "stderr",
          "text": [
            "<ipython-input-35-4e6d25600ec4>:26: RuntimeWarning: invalid value encountered in sqrt\n",
            "  eigenfrequencies = np.sqrt(eigenvalues)\n"
          ]
        },
        {
          "output_type": "display_data",
          "data": {
            "text/plain": [
              "<Figure size 1000x500 with 1 Axes>"
            ],
            "image/png": "[encoded data removed]"
          },
          "metadata": {}
        }
      ]
    },
    {
      "cell_type": "markdown",
      "source": [
        "## 2? bandgaps with 3 alternating k-values"
      ],
      "metadata": {
        "id": "VGABS3I515fI"
      }
    },
    {
      "cell_type": "code",
      "source": [
        "import numpy as np\n",
        "import matplotlib.pyplot as plt\n",
        "from numpy.linalg import eigvalsh\n",
        "\n",
        "# Parameters\n",
        "N = 99        # Large system (divisible by 3 for clean periodicity)\n",
        "m = 1.0\n",
        "k1, k2, k3 = 2.0, 0.5, 3.0  # Three distinct spring constants\n",
        "\n",
        "# Build stiffness matrix\n",
        "K = np.zeros((N, N))\n",
        "for i in range(N):\n",
        "    # Determine right spring (pattern: k1 → k2 → k3 → repeat)\n",
        "    if i < N-1:\n",
        "        cycle_pos = i % 3\n",
        "        right_k = [k1, k2, k3][cycle_pos]\n",
        "    else:\n",
        "        right_k = 0\n",
        "\n",
        "    # Determine left spring (previous mass's right spring)\n",
        "    if i > 0:\n",
        "        cycle_pos_prev = (i-1) % 3\n",
        "        left_k = [k1, k2, k3][cycle_pos_prev]\n",
        "    else:\n",
        "        left_k = 0\n",
        "\n",
        "    # Diagonal and off-diagonal terms\n",
        "    K[i, i] = left_k + right_k\n",
        "    if i > 0:\n",
        "        K[i, i-1] = -left_k\n",
        "    if i < N-1:\n",
        "        K[i, i+1] = -right_k\n",
        "\n",
        "# Eigenfrequencies\n",
        "eigenfrequencies = np.sqrt(eigvalsh(K / m))\n",
        "\n",
        "# Plot frequency density\n",
        "plt.figure(figsize=(10, 5))\n",
        "plt.hist(eigenfrequencies, bins=100, density=True, alpha=0.7, color='purple')\n",
        "plt.title(f\"3-Spring Pattern: Frequency Bands and Gaps\\n(N = {N}, k1 = {k1}, k2 = {k2}, k3 = {k3})\")\n",
        "plt.xlabel(\"Frequency $\\omega$\")\n",
        "plt.ylabel(\"Density\")\n",
        "plt.grid(True)\n",
        "plt.show()"
      ],
      "metadata": {
        "colab": {
          "base_uri": "https://localhost:8080/",
          "height": 511
        },
        "id": "Bg-ooXdCrUFk",
        "outputId": "d5a568b7-8509-4a60-8d8c-953e9403f9f4"
      },
      "execution_count": 40,
      "outputs": [
        {
          "output_type": "display_data",
          "data": {
            "text/plain": [
              "<Figure size 1000x500 with 1 Axes>"
            ],
            "image/png": "[encoded data removed]"
          },
          "metadata": {}
        }
      ]
    },
    {
      "cell_type": "markdown",
      "source": [
        "## Frequency vs. Wave Vector bandgap plot"
      ],
      "metadata": {
        "id": "3u_zOs-g2NWo"
      }
    },
    {
      "cell_type": "code",
      "source": [
        "import numpy as np\n",
        "import matplotlib.pyplot as plt\n",
        "from numpy.linalg import eigvalsh\n",
        "\n",
        "# Parameters\n",
        "m = 1.0\n",
        "k1, k2, k3 = 2.0, 0.5, 3.0  # Spring constants\n",
        "a = 3.0  # Unit cell size (3 masses per cell)\n",
        "\n",
        "# Dynamical matrix for a given wavevector q\n",
        "def dynamical_matrix(q):\n",
        "    D = np.zeros((3, 3), dtype=complex)\n",
        "\n",
        "    # Diagonal terms\n",
        "    D[0, 0] = (k1 + k3) / m\n",
        "    D[1, 1] = (k1 + k2) / m\n",
        "    D[2, 2] = (k2 + k3) / m\n",
        "\n",
        "    # Off-diagonal terms (coupling between masses in the unit cell)\n",
        "    D[0, 1] = -k1 * np.exp(-1j * q * a) / m\n",
        "    D[1, 0] = -k1 * np.exp(1j * q * a) / m\n",
        "    D[1, 2] = -k2 * np.exp(-1j * q * a) / m\n",
        "    D[2, 1] = -k2 * np.exp(1j * q * a) / m\n",
        "    D[0, 2] = -k3 * np.exp(-1j * q * 2 * a) / m\n",
        "    D[2, 0] = -k3 * np.exp(1j * q * 2 * a) / m\n",
        "\n",
        "    return D\n",
        "\n",
        "# Wavevector range (Brillouin zone)\n",
        "q_values = np.linspace(-np.pi/a, np.pi/a, 100)\n",
        "frequencies = []\n",
        "\n",
        "# Compute eigenfrequencies for each q\n",
        "for q in q_values:\n",
        "    D_q = dynamical_matrix(q)\n",
        "    eigenvalues = np.real(eigvalsh(D_q))  # Eigenvalues are real\n",
        "    frequencies.append(np.sqrt(eigenvalues))\n",
        "\n",
        "frequencies = np.array(frequencies)\n",
        "\n",
        "# Plot dispersion relation\n",
        "plt.figure(figsize=(10, 6))\n",
        "for band in range(3):\n",
        "    plt.plot(q_values, frequencies[:, band], label=f\"Band {band+1}\")\n",
        "plt.title(\"Dispersion Relation: Frequency vs. Wavevector\\n(3-Spring Pattern)\")\n",
        "plt.xlabel(\"Wavevector $q$\")\n",
        "plt.ylabel(\"Frequency $\\omega$\")\n",
        "plt.axvline(0, color='black', linestyle='--', alpha=0.5)\n",
        "plt.legend()\n",
        "plt.grid(True)\n",
        "plt.show()"
      ],
      "metadata": {
        "colab": {
          "base_uri": "https://localhost:8080/",
          "height": 623
        },
        "id": "NmKpYbJbtm_3",
        "outputId": "6177c4cc-5a54-4408-9334-a467b32fbc53"
      },
      "execution_count": 41,
      "outputs": [
        {
          "output_type": "stream",
          "name": "stderr",
          "text": [
            "<ipython-input-41-305ef2ada0c5>:37: RuntimeWarning: invalid value encountered in sqrt\n",
            "  frequencies.append(np.sqrt(eigenvalues))\n"
          ]
        },
        {
          "output_type": "display_data",
          "data": {
            "text/plain": [
              "<Figure size 1000x600 with 1 Axes>"
            ],
            "image/png": "[encoded data removed]"
          },
          "metadata": {}
        }
      ]
    },
    {
      "cell_type": "markdown",
      "source": [
        "## If I were to do more...\n",
        "\n",
        "I would like to also play around with if they are not alternating periodically, there are just 3 k-values as options, so something like:\n",
        "\n",
        "k1, k2, k2, k3, k2, k1, k1, k3\n",
        "\n",
        "I am going to look out for my mental health instead and commit only this, eat dinner, and go to sleep."
      ],
      "metadata": {
        "id": "DLzS6gEx2TxN"
      }
    },
    {
      "cell_type": "code",
      "source": [],
      "metadata": {
        "id": "gtxWpmb5vFu7"
      },
      "execution_count": null,
      "outputs": []
    }
  ]
}