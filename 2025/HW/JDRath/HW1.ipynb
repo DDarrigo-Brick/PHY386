{
  "nbformat": 4,
  "nbformat_minor": 0,
  "metadata": {
    "colab": {
      "provenance": [],
      "toc_visible": true,
      "authorship_tag": "ABX9TyMbmFbPv6iH/1aXye2ypfwe",
      "include_colab_link": true
    },
    "kernelspec": {
      "name": "python3",
      "display_name": "Python 3"
    },
    "language_info": {
      "name": "python"
    }
  },
  "cells": [
    {
      "cell_type": "markdown",
      "metadata": {
        "id": "view-in-github",
        "colab_type": "text"
      },
      "source": [
        "<a href=\"https://colab.research.google.com/github/ubsuny/PHY386/blob/Homework2025/2025/HW/JDRath/HW1.ipynb\" target=\"_parent\"><img src=\"https://colab.research.google.com/assets/colab-badge.svg\" alt=\"Open In Colab\"/></a>"
      ]
    },
    {
      "cell_type": "markdown",
      "source": [
        "# Homework 1"
      ],
      "metadata": {
        "id": "MHfcSkMOpNOD"
      }
    },
    {
      "cell_type": "markdown",
      "source": [
        "## Basic formating\n",
        "\n",
        "1. I would like to learn how to use coding for more complex homeworks.\n",
        "2. I would also like to learn how coding can be useful in many different areas of science.\n",
        "3. I want to learn more about graphing functions.\n",
        "4. I want to learn if it possible to make an animated graph that progesses with time.\n",
        "5. I want to expand my coding knowledge and skills in all aspects.\n",
        "\n",
        "![Isaac Newton](https://upload.wikimedia.org/wikipedia/commons/thumb/f/f7/Portrait_of_Sir_Isaac_Newton%2C_1689_%28brightened%29.jpg/800px-Portrait_of_Sir_Isaac_Newton%2C_1689_%28brightened%29.jpg)\n",
        "\n",
        "\"**Isaac Newton.**\" Wikipedia: The Free Encyclopedia. Wikimedia Foundation, https://en.wikipedia.org/wiki/Isaac_Newton. Accessed 9 Feb. 2025.\n",
        "\n",
        "**Isaac Newton** is my favorite scientist because without him we would be missing fundamentals that were built upon and he has the quote \"If I have seen further, it is by standing on the shoulders of giants\".\n",
        "My favotite equation by Isaac Newton is:\n",
        "$$ F = \\frac{G m_1 m_2}{r^2} $$\n",
        "\n",
        "😄\n",
        "\n",
        "In this homework, I dive with glee,\n",
        "\n",
        "Exploring concepts, feeling free.\n",
        "\n",
        "Equations dance, ideas flow,\n",
        "\n",
        "Learning’s a journey, watch me go!\n"
      ],
      "metadata": {
        "id": "GX-MsiBVpx1L"
      }
    },
    {
      "cell_type": "markdown",
      "source": [
        "## Coding Exercises\n"
      ],
      "metadata": {
        "id": "QWl9HYzYqwqN"
      }
    },
    {
      "cell_type": "code",
      "source": [
        "print(\"Hello Class!\")"
      ],
      "metadata": {
        "colab": {
          "base_uri": "https://localhost:8080/"
        },
        "id": "odb37KNYrSrR",
        "outputId": "52cc2d20-805d-4fd0-acfd-8eb0811da536"
      },
      "execution_count": null,
      "outputs": [
        {
          "output_type": "stream",
          "name": "stdout",
          "text": [
            "Hello Class!\n"
          ]
        }
      ]
    },
    {
      "cell_type": "code",
      "source": [
        "number = 2025.0\n",
        "formatted_number = f\"{number:010.3f}\"\n",
        "print(formatted_number)"
      ],
      "metadata": {
        "colab": {
          "base_uri": "https://localhost:8080/"
        },
        "id": "cm5VoiJirbPG",
        "outputId": "0264b76a-8569-4bf0-ddd4-bfe66ec70ed1"
      },
      "execution_count": null,
      "outputs": [
        {
          "output_type": "stream",
          "name": "stdout",
          "text": [
            "002025.000\n"
          ]
        }
      ]
    },
    {
      "cell_type": "code",
      "source": [
        "# variables\n",
        "a_string = \"Hello, this is my first homework!\"\n",
        "an_integer = 37\n",
        "a_float = 3.73737\n",
        "\n",
        "# Print the variables\n",
        "print(\"String:\", a_string)\n",
        "print(\"Integer:\", an_integer)\n",
        "print(\"Float:\", a_float)\n"
      ],
      "metadata": {
        "colab": {
          "base_uri": "https://localhost:8080/"
        },
        "id": "xtV8kyG1r7WQ",
        "outputId": "88d6743e-46c0-413a-ba61-fb90d268a144"
      },
      "execution_count": null,
      "outputs": [
        {
          "output_type": "stream",
          "name": "stdout",
          "text": [
            "String: Hello, this is my first homework!\n",
            "Integer: 37\n",
            "Float: 3.73737\n"
          ]
        }
      ]
    },
    {
      "cell_type": "code",
      "source": [
        "n1 = 3\n",
        "n2 = 7\n",
        "\n",
        "addition = n1 + n2\n",
        "subtraction = n1 - n2\n",
        "multiplication = n1 * n2\n",
        "division = n1 / n2\n",
        "modulus = n1 % n2\n",
        "\n",
        "print(\"Addition:\", addition)\n",
        "print(\"Subtraction:\", subtraction)\n",
        "print(\"Multiplication:\", multiplication)\n",
        "print(\"Division:\", division)\n",
        "print(\"Modulus:\", modulus)\n"
      ],
      "metadata": {
        "colab": {
          "base_uri": "https://localhost:8080/"
        },
        "id": "5F-M_QuusRov",
        "outputId": "88e61d61-d74b-4901-9ccb-0b770b1f91ab"
      },
      "execution_count": null,
      "outputs": [
        {
          "output_type": "stream",
          "name": "stdout",
          "text": [
            "Addition: 10\n",
            "Subtraction: -4\n",
            "Multiplication: 21\n",
            "Division: 0.42857142857142855\n",
            "Modulus: 3\n"
          ]
        }
      ]
    },
    {
      "cell_type": "code",
      "source": [
        "# Define a number\n",
        "number = 37\n",
        "\n",
        "# Check if the number is even or odd\n",
        "if number % 2 == 0:\n",
        "    print(f\"{number} is even.\")\n",
        "else:\n",
        "    print(f\"{number} is odd.\")"
      ],
      "metadata": {
        "colab": {
          "base_uri": "https://localhost:8080/"
        },
        "id": "qOE-C8Qgs1Lw",
        "outputId": "5db863e1-586f-4fb5-f0b7-5d75cd6bd8fc"
      },
      "execution_count": null,
      "outputs": [
        {
          "output_type": "stream",
          "name": "stdout",
          "text": [
            "37 is odd.\n"
          ]
        }
      ]
    },
    {
      "cell_type": "code",
      "source": [
        "# Print even numbers from 1 to 10\n",
        "for num in range(1, 21):\n",
        "    if num % 2 == 0:\n",
        "        print(num)"
      ],
      "metadata": {
        "colab": {
          "base_uri": "https://localhost:8080/"
        },
        "id": "TGV4HMGTtCnw",
        "outputId": "3f197486-dad2-4290-94f5-0f58c16cf56c"
      },
      "execution_count": null,
      "outputs": [
        {
          "output_type": "stream",
          "name": "stdout",
          "text": [
            "2\n",
            "4\n",
            "6\n",
            "8\n",
            "10\n",
            "12\n",
            "14\n",
            "16\n",
            "18\n",
            "20\n"
          ]
        }
      ]
    },
    {
      "cell_type": "code",
      "source": [
        "def basic_operations(a, b):  # Function definition\n",
        "    addition = a + b\n",
        "    subtraction = a - b\n",
        "    multiplication = a * b\n",
        "    division = a / b if b != 0 else \"undefined (division by zero)\"\n",
        "\n",
        "    # Printing results inside the function\n",
        "    print(f\"Addition: {addition}\")\n",
        "    print(f\"Subtraction: {subtraction}\")\n",
        "    print(f\"Multiplication: {multiplication}\")\n",
        "    print(f\"Division: {division}\")\n",
        "\n",
        "# Call the function with specific arguments:\n",
        "basic_operations(3, 7)\n"
      ],
      "metadata": {
        "colab": {
          "base_uri": "https://localhost:8080/"
        },
        "id": "lstNatNltSCK",
        "outputId": "020fcd30-65a2-4f1c-c920-e9f47494394e"
      },
      "execution_count": null,
      "outputs": [
        {
          "output_type": "stream",
          "name": "stdout",
          "text": [
            "Addition: 10\n",
            "Subtraction: -4\n",
            "Multiplication: 21\n",
            "Division: 0.42857142857142855\n"
          ]
        }
      ]
    },
    {
      "cell_type": "code",
      "source": [
        "# Define a list of numbers\n",
        "numbers = [3, 7, 13, 17, 23, 27, 33, 37]\n",
        "\n",
        "# Calculate the sum of the numbers\n",
        "total = sum(numbers)\n",
        "\n",
        "# Calculate the number of elements in the list\n",
        "count = len(numbers)\n",
        "\n",
        "# Calculate the average\n",
        "average = total / count\n",
        "\n",
        "# Print the result\n",
        "print(f\"The average is: {average}\")"
      ],
      "metadata": {
        "colab": {
          "base_uri": "https://localhost:8080/"
        },
        "id": "sTrGmg50t1Cz",
        "outputId": "d0dd8100-8345-4e55-8ae6-0a7992338896"
      },
      "execution_count": null,
      "outputs": [
        {
          "output_type": "stream",
          "name": "stdout",
          "text": [
            "The average is: 20.0\n"
          ]
        }
      ]
    },
    {
      "cell_type": "code",
      "source": [
        "# Define a dictionary to store fruits and their details\n",
        "fruits = {\n",
        "    \"apple\": {\"color\": \"red\", \"quantity\": 3, \"price_per_unit\": 0.37},\n",
        "    \"grapefruit\": {\"color\": \"pink\", \"quantity\": 7, \"price_per_unit\": 0.73},\n",
        "    \"pineapple\": {\"color\": \"yellow\", \"quantity\": 3, \"price_per_unit\": 1.37},\n",
        "    \"blueberry\": {\"color\": \"blue\", \"quantity\": 7, \"price_per_unit\": 1.73},\n",
        "    \"raspberry\": {\"color\": \"red\", \"quantity\": 3, \"price_per_unit\": 2.37},\n",
        "    \"strawberry\": {\"color\": \"red\", \"quantity\": 7, \"price_per_unit\": 2.73},\n",
        "}\n",
        "\n",
        "# Print information about each fruit\n",
        "for fruit, details in fruits.items():\n",
        "    print(f\"{fruit.capitalize()}:\")\n",
        "    print(f\"  Color: {details['color']}\")\n",
        "    print(f\"  Quantity: {details['quantity']}\")\n",
        "    print(f\"  Price per unit: ${details['price_per_unit']}\")\n",
        "    print()  # Adds blank lines between\n"
      ],
      "metadata": {
        "colab": {
          "base_uri": "https://localhost:8080/"
        },
        "id": "MPmWX_N6uLHi",
        "outputId": "4a01194a-7ee0-42d3-df48-9818ca02a6e4"
      },
      "execution_count": null,
      "outputs": [
        {
          "output_type": "stream",
          "name": "stdout",
          "text": [
            "Apple:\n",
            "  Color: red\n",
            "  Quantity: 3\n",
            "  Price per unit: $0.37\n",
            "\n",
            "Grapefruit:\n",
            "  Color: pink\n",
            "  Quantity: 7\n",
            "  Price per unit: $0.73\n",
            "\n",
            "Pineapple:\n",
            "  Color: yellow\n",
            "  Quantity: 3\n",
            "  Price per unit: $1.37\n",
            "\n",
            "Blueberry:\n",
            "  Color: blue\n",
            "  Quantity: 7\n",
            "  Price per unit: $1.73\n",
            "\n",
            "Raspberry:\n",
            "  Color: red\n",
            "  Quantity: 3\n",
            "  Price per unit: $2.37\n",
            "\n",
            "Strawberry:\n",
            "  Color: red\n",
            "  Quantity: 7\n",
            "  Price per unit: $2.73\n",
            "\n"
          ]
        }
      ]
    },
    {
      "cell_type": "code",
      "source": [
        "# Open a file in write mode\n",
        "with open('user_input.txt', 'w') as file:\n",
        "    # Ask the user for input\n",
        "    user_input = input(\"Enter some text: \")\n",
        "\n",
        "    # Write the input to the file\n",
        "    file.write(user_input)\n",
        "\n",
        "print(\"Your input has been written to the file.\")\n",
        "\n",
        "# Open the file in read mode\n",
        "with open('user_input.txt', 'r') as file:\n",
        "    # Read the content of the file\n",
        "    file_contents = file.read()\n",
        "\n",
        "    # Print the contents of the file\n",
        "    print(\"\\nContents of the file:\")\n",
        "    print(file_contents)"
      ],
      "metadata": {
        "colab": {
          "base_uri": "https://localhost:8080/"
        },
        "id": "hESkZzMPu3NV",
        "outputId": "81a67ae3-efac-4478-dc68-701096f1cee9"
      },
      "execution_count": null,
      "outputs": [
        {
          "output_type": "stream",
          "name": "stdout",
          "text": [
            "Enter some text: I am done with this assignment!\n",
            "Your input has been written to the file.\n",
            "\n",
            "Contents of the file:\n",
            "I am done with this assignment!\n"
          ]
        }
      ]
    }
  ]
}