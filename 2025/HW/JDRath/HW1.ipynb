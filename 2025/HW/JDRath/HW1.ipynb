{
  "nbformat": 4,
  "nbformat_minor": 0,
  "metadata": {
    "colab": {
      "provenance": [],
      "toc_visible": true,
      "authorship_tag": "ABX9TyMlLwBAtTv/jRyJZFJnKBND",
      "include_colab_link": true
    },
    "kernelspec": {
      "name": "python3",
      "display_name": "Python 3"
    },
    "language_info": {
      "name": "python"
    }
  },
  "cells": [
    {
      "cell_type": "markdown",
      "metadata": {
        "id": "view-in-github",
        "colab_type": "text"
      },
      "source": [
        "<a href=\"https://colab.research.google.com/github/ubsuny/PHY386/blob/Homework2025/2025/HW/JDRath/HW1.ipynb\" target=\"_parent\"><img src=\"https://colab.research.google.com/assets/colab-badge.svg\" alt=\"Open In Colab\"/></a>"
      ]
    },
    {
      "cell_type": "markdown",
      "source": [
        "# Homework 1"
      ],
      "metadata": {
        "id": "MHfcSkMOpNOD"
      }
    },
    {
      "cell_type": "markdown",
      "source": [
        "## Basic formating\n",
        "\n",
        "- Item 1\n",
        "  - Sub item 1\n",
        "  - Sub item 2\n",
        "- Item 2\n",
        "\n",
        "1. Numbered Items\n",
        "  - Sub numbered list\n",
        "  - Sub item 2\n",
        "2. Next Item\n",
        "  - Sub item 1\n",
        "\n",
        "```\n",
        "# This is formatted as code\n",
        "```\n",
        "\n",
        "```python\n",
        "print(\"Hello World\")\n",
        "```\n",
        "\n",
        "\n",
        "```latex\n",
        "\\int_0^\\infty x^2 dx\n",
        "```\n",
        "This is incline LATEX code:\n",
        "$\\int_0^\\infty x^2 dx$\n",
        "\n",
        "$$\n",
        "\\int_0^\\infty x^2 dx\n",
        "$$\n",
        "\n",
        "[Link to github](https://github.com/dashboard)\n",
        "\n",
        "![Robert J. Oppenheimer](https://upload.wikimedia.org/wikipedia/commons/a/ab/J._Robert_Oppenheimer_at_the_Guest_Lodge%2C_Oak_Ridge%2C_in_1946_4.jpg)\n",
        "\n"
      ],
      "metadata": {
        "id": "GX-MsiBVpx1L"
      }
    }
  ]
}