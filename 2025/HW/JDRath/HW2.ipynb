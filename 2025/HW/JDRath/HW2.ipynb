{
  "nbformat": 4,
  "nbformat_minor": 0,
  "metadata": {
    "colab": {
      "provenance": [],
      "toc_visible": true,
      "authorship_tag": "ABX9TyPKBzi8wAWLG420ICtMl1g4",
      "include_colab_link": true
    },
    "kernelspec": {
      "name": "python3",
      "display_name": "Python 3"
    },
    "language_info": {
      "name": "python"
    }
  },
  "cells": [
    {
      "cell_type": "markdown",
      "metadata": {
        "id": "view-in-github",
        "colab_type": "text"
      },
      "source": [
        "<a href=\"https://colab.research.google.com/github/ubsuny/PHY386/blob/Homework2025/2025/HW/JDRath/HW2.ipynb\" target=\"_parent\"><img src=\"https://colab.research.google.com/assets/colab-badge.svg\" alt=\"Open In Colab\"/></a>"
      ]
    },
    {
      "cell_type": "markdown",
      "source": [
        "# Extending Code"
      ],
      "metadata": {
        "id": "FAuDaLJki-wz"
      }
    },
    {
      "cell_type": "code",
      "source": [
        "# import libraries\n",
        "import numpy as np\n",
        "import scipy.linalg as la\n",
        "\n",
        "\n",
        "# Let's calculate the frequencies numerically:\n",
        "\n",
        "def calculate_eigenfrequencies_3mass(k, m):\n",
        "    \"\"\" calculate the eigenfrequencies for our three mass problem.\n",
        "\n",
        "    Keyword arguments:\n",
        "    k -- spring constant (N/m)\n",
        "    m -- mass (kg)\n",
        "\n",
        "    returns:\n",
        "    w1 -- first eigenfrequency\n",
        "    w2 -- second eigenfrequency\n",
        "    w3 -- third eigenfrequency\n",
        "    \"\"\"\n",
        "    w0_squared = k / m\n",
        "    w1 = np.sqrt(2*w0_squared)\n",
        "    w2 = np.sqrt((2-np.sqrt(2)) * w0_squared)\n",
        "    w3 = np.sqrt((2+np.sqrt(2)) * w0_squared)\n",
        "    return w1, w2, w3\n",
        "\n",
        "# Example values\n",
        "k = 10  # N/m\n",
        "m = 1   # kg\n",
        "\n",
        "w1, w2, w3 = calculate_eigenfrequencies_3mass(k, m)\n",
        "\n",
        "print(\"Eigenfrequencies:\")\n",
        "print(\"ω₁ = {:.4f} rad/s\".format(w1))\n",
        "print(\"ω₂ = {:.4f} rad/s\".format(w2))\n",
        "print(\"ω₃ = {:.4f} rad/s\".format(w3))"
      ],
      "metadata": {
        "colab": {
          "base_uri": "https://localhost:8080/"
        },
        "id": "aYrS3x2D1Pxf",
        "outputId": "e5a639b0-6b3e-43f5-cf8a-4ca32ccca326"
      },
      "execution_count": 7,
      "outputs": [
        {
          "output_type": "stream",
          "name": "stdout",
          "text": [
            "Eigenfrequencies:\n",
            "ω₁ = 4.4721 rad/s\n",
            "ω₂ = 2.4203 rad/s\n",
            "ω₃ = 5.8431 rad/s\n"
          ]
        }
      ]
    },
    {
      "cell_type": "code",
      "source": [
        "def setup_mass_matrix(m_list):\n",
        "  \"\"\"\n",
        "  This function creates you mass matrix using the provided mass list for the diagonal terms.\n",
        "  This is for a spring system with walls.\n",
        "\n",
        "  Arguments:\n",
        "  m_list -- list of masses\n",
        "\n",
        "  Returns:\n",
        "  M -- mass matrix\n",
        "  \"\"\"\n",
        "  M = np.diag(m_list)\n",
        "  return M"
      ],
      "metadata": {
        "id": "Z5fYPqxl1aRG"
      },
      "execution_count": 8,
      "outputs": []
    },
    {
      "cell_type": "code",
      "source": [
        "M = setup_mass_matrix([1, 1, 1])\n",
        "M"
      ],
      "metadata": {
        "colab": {
          "base_uri": "https://localhost:8080/"
        },
        "id": "QClPziV12Vzo",
        "outputId": "30084b8e-fafd-4189-d503-5322a278f569"
      },
      "execution_count": 9,
      "outputs": [
        {
          "output_type": "execute_result",
          "data": {
            "text/plain": [
              "array([[1, 0, 0],\n",
              "       [0, 1, 0],\n",
              "       [0, 0, 1]])"
            ]
          },
          "metadata": {},
          "execution_count": 9
        }
      ]
    },
    {
      "cell_type": "code",
      "source": [
        "def setup_stiffness_matrix(k_list, walls=True):\n",
        "  \"\"\"\n",
        "  This function creates you stiffness matrix using the provided spring constant list.\n",
        "  This is for a spring system with walls.\n",
        "\n",
        "  Arguments:\n",
        "  k_list -- list of spring constants\n",
        "  walls -- boolean, whether or not connected to include walls\n",
        "\n",
        "  Returns:\n",
        "  K -- stiffness matrix\n",
        "  \"\"\"\n",
        "\n",
        "  K = np.zeros((len(k_list)-1, len(k_list)-1))\n",
        "  if walls:\n",
        "\n",
        "    for i in range(len(k_list)-1):\n",
        "      K[i, i] = k_list[i] + k_list[i+1] # Diagonal\n",
        "      if i < len(k_list)-2:\n",
        "        K[i, i+1] = -k_list[i+1] # Upper Diagonal\n",
        "        K[i+1, i] = -k_list[i+1] # Lower Diagonal\n",
        "\n",
        "  else:\n",
        "    for i in range(len(k_list)-1):\n",
        "            if i == 0:  # Left-most mass\n",
        "                K[i, i] = k_list[i+1]\n",
        "            elif i == len(k_list) - 2:  # Right-most mass\n",
        "                K[i, i] = k_list[i]\n",
        "            else:  # Inside masses\n",
        "                K[i, i] = k_list[i] + k_list[i+1]\n",
        "            if i < len(k_list) - 2:\n",
        "                K[i, i+1] = -k_list[i+1]  # Upper diagonal\n",
        "                K[i+1, i] = -k_list[i+1]  # Lower diagonal\n",
        "\n",
        "  return K"
      ],
      "metadata": {
        "id": "G15vkg6n2g5i"
      },
      "execution_count": 15,
      "outputs": []
    },
    {
      "cell_type": "code",
      "source": [
        "K = setup_stiffness_matrix([10, 3, 7, 10])\n",
        "K"
      ],
      "metadata": {
        "colab": {
          "base_uri": "https://localhost:8080/"
        },
        "id": "8pYaZJpM3uTG",
        "outputId": "146f34af-cd00-482e-a1b9-c51632bbfbe4"
      },
      "execution_count": 16,
      "outputs": [
        {
          "output_type": "execute_result",
          "data": {
            "text/plain": [
              "array([[13., -3.,  0.],\n",
              "       [-3., 10., -7.],\n",
              "       [ 0., -7., 17.]])"
            ]
          },
          "metadata": {},
          "execution_count": 16
        }
      ]
    },
    {
      "cell_type": "markdown",
      "source": [
        "# AI creativity"
      ],
      "metadata": {
        "id": "eI3S47O-_3au"
      }
    },
    {
      "cell_type": "code",
      "source": [
        "import numpy as np\n",
        "from scipy.linalg import eigh\n",
        "\n",
        "# Define system parameters\n",
        "Nx, Ny = 3, 3  # Dimensions of the 2D lattice\n",
        "N = Nx * Ny  # Total number of atoms\n",
        "masses = np.array([1.0 if (i + j) % 2 == 0 else 2.0 for i in range(Nx) for j in range(Ny)])  # Varying atomic masses\n",
        "k1_base = 1.0  # Nearest-neighbor spring constant base value\n",
        "k2_base = 0.5  # Next-nearest-neighbor coupling base value\n",
        "\n",
        "def decay_function(d):\n",
        "    return k2_base / d**2  # Decaying interaction strength\n",
        "\n",
        "def anharmonic_term(x):\n",
        "    return 0.1 * x**3  # Simple anharmonic term\n",
        "\n",
        "# Construct the dynamical matrix D\n",
        "D = np.zeros((N, N))\n",
        "for i in range(N):\n",
        "    xi, yi = divmod(i, Ny)\n",
        "    for dx, dy, k_base in [(1, 0, k1_base), (0, 1, k1_base), (1, 1, decay_function(np.sqrt(2))), (1, -1, decay_function(np.sqrt(2)))]:\n",
        "        xj, yj = xi + dx, yi + dy\n",
        "        if 0 <= xj < Nx and 0 <= yj < Ny:\n",
        "            j = xj * Ny + yj\n",
        "            k = k_base * (1.0 + anharmonic_term(1.0))  # Including anharmonic term\n",
        "            D[i, i] += k / masses[i]\n",
        "            D[i, j] -= k / masses[i]\n",
        "            D[j, j] += k / masses[j]\n",
        "            D[j, i] -= k / masses[j]\n",
        "\n",
        "# Compute eigenvalues and eigenvectors\n",
        "eigenvalues, eigenvectors = eigh(D)\n",
        "frequencies = np.sqrt(np.abs(eigenvalues))  # In rad/s\n",
        "\n",
        "# Print eigenfrequencies and explain the meaning of modes\n",
        "print(\"Eigenfrequencies (rad/s):\")\n",
        "for i, freq in enumerate(frequencies):\n",
        "    print(f\"Mode {i+1}: {freq:.4f} rad/s\")\n",
        "\n",
        "print(\"\\nInterpretation of Modes:\")\n",
        "print(\"Each mode represents a characteristic vibration pattern of the atoms.\")\n",
        "print(\"- Lower-frequency modes correspond to slow, large-wavelength oscillations.\")\n",
        "print(\"- Higher-frequency modes involve rapid, small-wavelength oscillations.\")\n",
        "print(\"- These modes describe how the atoms in the lattice move collectively.\")\n",
        "print(\"- In real crystals, these are associated with phonons, which affect thermal and acoustic properties.\")\n",
        "\n",
        "# Display eigenvectors to visualize mode shapes\n",
        "print(\"\\nMode Shapes (Eigenvectors):\")\n",
        "for i in range(N):\n",
        "    print(f\"Mode {i+1}:\")\n",
        "    print(eigenvectors[:, i])\n",
        "    print()"
      ],
      "metadata": {
        "colab": {
          "base_uri": "https://localhost:8080/"
        },
        "id": "uGq8PqYy7Qoi",
        "outputId": "7909a564-ec5b-4131-8de5-63cfee5478c1"
      },
      "execution_count": null,
      "outputs": [
        {
          "output_type": "stream",
          "name": "stdout",
          "text": [
            "Eigenfrequencies (rad/s):\n",
            "Mode 1: 0.3988 rad/s\n",
            "Mode 2: 0.9165 rad/s\n",
            "Mode 3: 0.9763 rad/s\n",
            "Mode 4: 1.4744 rad/s\n",
            "Mode 5: 1.5730 rad/s\n",
            "Mode 6: 1.8341 rad/s\n",
            "Mode 7: 1.8636 rad/s\n",
            "Mode 8: 1.9509 rad/s\n",
            "Mode 9: 2.4850 rad/s\n",
            "\n",
            "Interpretation of Modes:\n",
            "Each mode represents a characteristic vibration pattern of the atoms.\n",
            "- Lower-frequency modes correspond to slow, large-wavelength oscillations.\n",
            "- Higher-frequency modes involve rapid, small-wavelength oscillations.\n",
            "- These modes describe how the atoms in the lattice move collectively.\n",
            "- In real crystals, these are associated with phonons, which affect thermal and acoustic properties.\n",
            "\n",
            "Mode Shapes (Eigenvectors):\n",
            "Mode 1:\n",
            "[-0.1953205  -0.39719233 -0.27527375 -0.39719233 -0.28205955 -0.38290621\n",
            " -0.27527375 -0.38290621 -0.34926094]\n",
            "\n",
            "Mode 2:\n",
            "[-0.27995597 -0.39183189 -0.14899537 -0.39183189 -0.09723813  0.38933358\n",
            " -0.14899537  0.38933358  0.50748835]\n",
            "\n",
            "Mode 3:\n",
            "[ 7.21860932e-17  4.74619870e-01  4.43820313e-01 -4.74619870e-01\n",
            "  0.00000000e+00  2.78853919e-01 -4.43820313e-01 -2.78853919e-01\n",
            "  7.63278329e-17]\n",
            "\n",
            "Mode 4:\n",
            "[ 0.00000000e+00 -3.25468603e-01 -4.53329165e-02  3.25468603e-01\n",
            "  6.93889390e-17  6.26111104e-01  4.53329165e-02 -6.26111104e-01\n",
            " -5.42101086e-17]\n",
            "\n",
            "Mode 5:\n",
            "[ 0.79249875 -0.00280761 -0.40764246 -0.00280761  0.01334622 -0.00160203\n",
            " -0.40764246 -0.00160203  0.19849927]\n",
            "\n",
            "Mode 6:\n",
            "[-0.50071632  0.36246558 -0.42153989  0.36246558  0.16847476 -0.12795084\n",
            " -0.42153989 -0.12795084  0.26457933]\n",
            "\n",
            "Mode 7:\n",
            "[-4.58950104e-16  4.10860277e-01 -5.48605921e-01 -4.10860277e-01\n",
            "  1.38777878e-17  1.73854470e-01  5.48605921e-01 -1.73854470e-01\n",
            "  6.10622664e-16]\n",
            "\n",
            "Mode 8:\n",
            "[-0.06858031  0.05038197 -0.24056577  0.05038197  0.13038484  0.4161848\n",
            " -0.24056577  0.4161848  -0.71488216]\n",
            "\n",
            "Mode 9:\n",
            "[-4.39245475e-04  2.34048069e-01 -1.68699591e-02  2.34048069e-01\n",
            " -9.30282261e-01  1.10536992e-01 -1.68699591e-02  1.10536992e-01\n",
            "  3.41780658e-03]\n",
            "\n"
          ]
        }
      ]
    },
    {
      "cell_type": "markdown",
      "source": [
        "This model didn't take too long to construct. Firstly, I used ChatGPT as the AI model and it took roughly 15 correction to finish. I thought this was relatively quick and easy to adapt the physics compared to how long I thought it would take. This model reflects atom vibrations. This can't be observed by the naked eye, but is everywhere around us. In the code it gives an example of crystal lattice. ChatGPT came up with the ideas and I narrowed it down to atom vibrations quite quickly, but it took a while to add the fine details such as decay and the structure I envisioned."
      ],
      "metadata": {
        "id": "HPAZnrtKAy8V"
      }
    }
  ]
}