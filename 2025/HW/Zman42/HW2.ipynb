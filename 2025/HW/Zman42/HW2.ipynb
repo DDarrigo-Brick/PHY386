{
  "nbformat": 4,
  "nbformat_minor": 0,
  "metadata": {
    "colab": {
      "provenance": [],
      "authorship_tag": "ABX9TyO/ALoHVszbzFUo2MATrpQm",
      "include_colab_link": true
    },
    "kernelspec": {
      "name": "python3",
      "display_name": "Python 3"
    },
    "language_info": {
      "name": "python"
    }
  },
  "cells": [
    {
      "cell_type": "markdown",
      "metadata": {
        "id": "view-in-github",
        "colab_type": "text"
      },
      "source": [
        "<a href=\"https://colab.research.google.com/github/ubsuny/PHY386/blob/Homework2025/2025/HW/Zman42/HW2.ipynb\" target=\"_parent\"><img src=\"https://colab.research.google.com/assets/colab-badge.svg\" alt=\"Open In Colab\"/></a>"
      ]
    },
    {
      "cell_type": "markdown",
      "source": [
        "## Extending the Code"
      ],
      "metadata": {
        "id": "YvEuQaF76Ax2"
      }
    },
    {
      "cell_type": "code",
      "execution_count": 1,
      "metadata": {
        "id": "yYuUVg3919xc"
      },
      "outputs": [],
      "source": [
        "# Import Libraries\n",
        "import numpy as np\n",
        "import scipy.linalg as la"
      ]
    },
    {
      "cell_type": "code",
      "source": [
        "def setup_mass_matrix(m_list):\n",
        "  \"\"\"\n",
        "  This function creates you mass matrix using the provided mass list for the diagional terms.\n",
        "  Arguments:\n",
        "  m_list -- list of masses\n",
        "\n",
        "  Returns:\n",
        "  M -- mass matrix\n",
        "  \"\"\"\n",
        "  M = np.diag(m_list)\n",
        "  return M"
      ],
      "metadata": {
        "id": "2TPpCclR2fhe"
      },
      "execution_count": 2,
      "outputs": []
    },
    {
      "cell_type": "code",
      "source": [
        "M = setup_mass_matrix([1, 1, 1])\n",
        "M"
      ],
      "metadata": {
        "colab": {
          "base_uri": "https://localhost:8080/"
        },
        "id": "lxmvnI2a6rPP",
        "outputId": "41a1a6a8-f345-458c-8d45-cd2c056a509e"
      },
      "execution_count": 3,
      "outputs": [
        {
          "output_type": "execute_result",
          "data": {
            "text/plain": [
              "array([[1, 0, 0],\n",
              "       [0, 1, 0],\n",
              "       [0, 0, 1]])"
            ]
          },
          "metadata": {},
          "execution_count": 3
        }
      ]
    },
    {
      "cell_type": "code",
      "source": [
        "def setup_stiffness_matrix(k_list, walls=True):\n",
        "  \"\"\"\n",
        "  This function creates you stiffness matrix using the provided spring constant list for the diagional terms\n",
        "\n",
        "  Arguments:\n",
        "  k_list -- list of spring constants\n",
        "  walls -- boolean indicating if the first and last springs are connected to walls\n",
        "\n",
        "  Returns:\n",
        "  K -- stiffness matrix\n",
        "  \"\"\"\n",
        "\n",
        "  K = np.zeros((len(k_list)-1, len(k_list)-1))\n",
        "  if walls:\n",
        "\n",
        "    for i in range(len(k_list)-1):\n",
        "      K[i,i] = k_list[i] + k_list[i+1] # Diagonal Elements\n",
        "      if i < len(k_list)-2:\n",
        "        K[i, i+1] = -k_list[i+1] # Upper Off-Diagonal Elements\n",
        "        K[i+1, i] = -k_list[i+1] # Lower Off-Diagonal Elements\n",
        "\n",
        "  else:\n",
        "    for i in range(len(k_list)-1):\n",
        "            if i == 0:  # First mass (not attached to a wall)\n",
        "                K[i, i] = k_list[i+1]\n",
        "            elif i == len(k_list) - 2:  # Last mass (not attached to a wall)\n",
        "                K[i, i] = k_list[i]\n",
        "            else:  # Internal masses\n",
        "                K[i, i] = k_list[i] + k_list[i+1]\n",
        "\n",
        "            if i < len(k_list) - 2:\n",
        "                K[i, i+1] = -k_list[i+1]  # Upper off-diagonal\n",
        "                K[i+1, i] = -k_list[i+1]  # Lower off-diagonal\n",
        "\n",
        "  return K"
      ],
      "metadata": {
        "id": "SJHjD0Ia6w0X"
      },
      "execution_count": 30,
      "outputs": []
    },
    {
      "cell_type": "code",
      "source": [
        "K = setup_stiffness_matrix([10, 15, 15, 10])\n",
        "K"
      ],
      "metadata": {
        "colab": {
          "base_uri": "https://localhost:8080/"
        },
        "id": "UzbAkuwW69KQ",
        "outputId": "1c8b7a7a-c0f2-4ecc-c0be-1860070ff7d5"
      },
      "execution_count": 31,
      "outputs": [
        {
          "output_type": "execute_result",
          "data": {
            "text/plain": [
              "array([[ 25., -15.,   0.],\n",
              "       [-15.,  30., -15.],\n",
              "       [  0., -15.,  25.]])"
            ]
          },
          "metadata": {},
          "execution_count": 31
        }
      ]
    },
    {
      "cell_type": "code",
      "source": [
        "def calculate_eigenfrequencies(K, M):\n",
        "  \"\"\"\n",
        "  We want a function to solve the eigenfrequencies for a spring-mass system\n",
        "\n",
        "  Arguments:\n",
        "  K_matrix -- stiffness matrix\n",
        "  M_matrix -- mass matrix\n",
        "\n",
        "  Returns:\n",
        "  eigenvalues -- list of eigenfrequencies\n",
        "  \"\"\"\n",
        "  omega = np.sqrt(la.eigh(K, M)[0])\n",
        "  return omega"
      ],
      "metadata": {
        "id": "sZ211uUz7I2x"
      },
      "execution_count": 32,
      "outputs": []
    },
    {
      "cell_type": "code",
      "source": [
        "print(calculate_eigenfrequencies(K, M))"
      ],
      "metadata": {
        "colab": {
          "base_uri": "https://localhost:8080/"
        },
        "id": "TQtJpP1z7MQI",
        "outputId": "57baa305-ff54-432e-eb5c-5029fdc76ee8"
      },
      "execution_count": 33,
      "outputs": [
        {
          "output_type": "stream",
          "name": "stdout",
          "text": [
            "[2.47790045 5.         6.98999352]\n"
          ]
        }
      ]
    },
    {
      "cell_type": "markdown",
      "source": [
        "## AI Creativity"
      ],
      "metadata": {
        "id": "_6PUoOPo7sgr"
      }
    },
    {
      "cell_type": "code",
      "source": [
        "import numpy as np\n",
        "from scipy.linalg import eig\n",
        "import matplotlib.pyplot as plt\n",
        "\n",
        "# System parameters\n",
        "n = 5  # Number of carbon atoms in the chain\n",
        "m = 12.0  # Mass of each carbon atom (approx. atomic mass)\n",
        "k = 15.0  # Linear spring constant for carbon-carbon bond\n",
        "c = 0.3  # Damping coefficient\n",
        "k_nl = 5.0  # Non-linear spring constant for cubic term\n",
        "\n",
        "# Mass matrix\n",
        "M = np.eye(n) * m\n",
        "\n",
        "# Spring, damping, and non-linear spring force matrices\n",
        "K = np.zeros((n, n))\n",
        "C = np.zeros((n, n))\n",
        "\n",
        "# Non-linear spring force function\n",
        "def non_linear_spring_force(x):\n",
        "    return k * x + k_nl * x**3\n",
        "\n",
        "# Setting up the linear spring and damping matrices\n",
        "for i in range(n - 1):\n",
        "    K[i, i] += k\n",
        "    K[i, i + 1] -= k\n",
        "    K[i + 1, i] -= k\n",
        "    K[i + 1, i + 1] += k\n",
        "\n",
        "    C[i, i] += c\n",
        "    C[i, i + 1] -= c\n",
        "    C[i + 1, i] -= c\n",
        "    C[i + 1, i + 1] += c\n",
        "\n",
        "# Non-linear force matrix\n",
        "# For simplicity, we'll consider small displacements and use a linear approximation\n",
        "F_nl = np.zeros((n, n))\n",
        "for i in range(n):\n",
        "    F_nl[i, i] = non_linear_spring_force(0.1)  # Small displacement approximation\n",
        "\n",
        "# System matrix (M^-1 * (K + iC + F_nl))\n",
        "A = np.linalg.inv(M).dot(K + 1j * C + F_nl)\n",
        "\n",
        "# Calculate eigenvalues and eigenvectors\n",
        "eigenvalues, eigenvectors = eig(A)\n",
        "\n",
        "# Eigenfrequencies\n",
        "eigenfrequencies = np.sqrt(np.abs(eigenvalues))\n",
        "print(\"Eigenfrequencies (rad/s):\", eigenfrequencies)\n",
        "\n",
        "# Plot eigenfrequencies\n",
        "plt.figure(figsize=(8, 6))\n",
        "plt.stem(np.arange(1, n + 1), eigenfrequencies)\n",
        "plt.xlabel(\"Mode\")\n",
        "plt.ylabel(\"Eigenfrequency (rad/s)\")\n",
        "plt.title(\"Eigenfrequencies of the Carbon Chain Vibrations with Non-Linear Coupling\")\n",
        "plt.show()\n"
      ],
      "metadata": {
        "colab": {
          "base_uri": "https://localhost:8080/",
          "height": 581
        },
        "id": "D-tieBOMBQeH",
        "outputId": "2aee020b-e32f-4a96-ee05-39af6ad1a928"
      },
      "execution_count": null,
      "outputs": [
        {
          "output_type": "stream",
          "name": "stdout",
          "text": [
            "Eigenfrequencies (rad/s): [2.15611669 1.84352636 1.36132151 0.35414216 0.77649842]\n"
          ]
        },
        {
          "output_type": "display_data",
          "data": {
            "text/plain": [
              "<Figure size 800x600 with 1 Axes>"
            ],
            "image/png": "[encoded data removed]"
          },
          "metadata": {}
        }
      ]
    },
    {
      "cell_type": "markdown",
      "source": [
        "I used Microsoft Copilot. It took me 3 itterations to get it to a real-world example. Mostly I had to tell it to be more creative. In nature you might find this model in carbon-bond molecules like petroleum."
      ],
      "metadata": {
        "id": "NHOwDFPbCyuR"
      }
    }
  ]
}