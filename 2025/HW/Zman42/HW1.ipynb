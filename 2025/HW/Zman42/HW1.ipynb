{
  "nbformat": 4,
  "nbformat_minor": 0,
  "metadata": {
    "colab": {
      "provenance": [],
      "authorship_tag": "ABX9TyPW4ECupOjV/e3bZxc+IT/B",
      "include_colab_link": true
    },
    "kernelspec": {
      "name": "python3",
      "display_name": "Python 3"
    },
    "language_info": {
      "name": "python"
    }
  },
  "cells": [
    {
      "cell_type": "markdown",
      "metadata": {
        "id": "view-in-github",
        "colab_type": "text"
      },
      "source": [
        "<a href=\"https://colab.research.google.com/github/ubsuny/PHY386/blob/Homework2025/2025/HW/Zman42/HW1.ipynb\" target=\"_parent\"><img src=\"https://colab.research.google.com/assets/colab-badge.svg\" alt=\"Open In Colab\"/></a>"
      ]
    },
    {
      "cell_type": "markdown",
      "source": [
        "# Homework 1\n",
        "\n"
      ],
      "metadata": {
        "id": "3q-DMxdDpAGV"
      }
    },
    {
      "cell_type": "markdown",
      "source": [
        "## Basic Formatting"
      ],
      "metadata": {
        "id": "s5ufzoSTpk_h"
      }
    },
    {
      "cell_type": "markdown",
      "source": [
        "1.   Data Analysis\n",
        "\n",
        "2.   Plotting/Visualizing Data\n",
        "\n",
        "3.   Solving Geometry/Linear Algebra Problems\n",
        "\n",
        "4.   Documentation/Code Orginization\n",
        "\n",
        "5.   Quantum Computing (if we get there)\n"
      ],
      "metadata": {
        "id": "oSEn7hW7qpQA"
      }
    },
    {
      "cell_type": "markdown",
      "source": [
        "## How to Include External Media"
      ],
      "metadata": {
        "id": "1fDOPYE90WFh"
      }
    },
    {
      "cell_type": "markdown",
      "source": [
        "![AB Lagrelius & Westphal. The American Institute of Physics also credits the photo to AB Lagrelius & Westphal, which is the Swedish company used by the Nobel Foundation for most photos of its book series Les Prix Nobel., Public domain, via Wikimedia Commons](https://upload.wikimedia.org/wikipedia/commons/9/91/Max_Planck_Nobel_1918.jpg)\n",
        "\n",
        "**Max Planck**\n",
        "\n",
        "Image from [Wikipedia](https://en.wikipedia.org/wiki/Max_Planck)\n",
        "\n",
        "He is one of my favorite scientists because his work in the discovery of energy quanta which led us to quantum mechanics and beyond.\n",
        "\n",
        "Energy for a Photon:\n",
        "\n",
        "$$\n",
        "E = hν\n",
        "$$\n",
        "\n",
        "⚛\n",
        "\n",
        "A poem by ChatGPT:\n",
        "\n",
        "Homework’s a blast, oh what a delight,\n",
        "\n",
        "Solving equations deep into the night!\n",
        "\n",
        "Pages of reading and essays to do,\n",
        "\n",
        "So much excitement—if only that’s true!\n",
        "\n"
      ],
      "metadata": {
        "id": "Humtndvj1NS6"
      }
    },
    {
      "cell_type": "markdown",
      "source": [
        "## Coding Excercises"
      ],
      "metadata": {
        "id": "zhFh6suc0mPV"
      }
    },
    {
      "cell_type": "code",
      "execution_count": 1,
      "metadata": {
        "id": "xl20zorNoxce",
        "colab": {
          "base_uri": "https://localhost:8080/"
        },
        "outputId": "a71e5c06-3eec-4653-f1bf-6396b0259752"
      },
      "outputs": [
        {
          "output_type": "stream",
          "name": "stdout",
          "text": [
            "Hello World\n"
          ]
        }
      ],
      "source": [
        "print(\"Hello World\")"
      ]
    },
    {
      "cell_type": "code",
      "source": [
        "print(\"{:010.3f}\".format(2025))"
      ],
      "metadata": {
        "colab": {
          "base_uri": "https://localhost:8080/"
        },
        "id": "fCzpPef2zS83",
        "outputId": "83dc9b26-278c-4580-fa0b-9129c373011f"
      },
      "execution_count": 2,
      "outputs": [
        {
          "output_type": "stream",
          "name": "stdout",
          "text": [
            "002025.000\n"
          ]
        }
      ]
    },
    {
      "cell_type": "code",
      "source": [
        "STRING = \"Hello World\"\n",
        "INTEGER = 42\n",
        "FLOAT = 4.2\n",
        "\n",
        "print(STRING)\n",
        "print(INTEGER)\n",
        "print(FLOAT)"
      ],
      "metadata": {
        "colab": {
          "base_uri": "https://localhost:8080/"
        },
        "id": "sxBOl-Y1xSOi",
        "outputId": "6e23d8c8-943a-47a3-a5e8-203e59faaab8"
      },
      "execution_count": 4,
      "outputs": [
        {
          "output_type": "stream",
          "name": "stdout",
          "text": [
            "Hello World\n",
            "42\n",
            "4.2\n"
          ]
        }
      ]
    },
    {
      "cell_type": "code",
      "source": [
        "x = 24\n",
        "\n",
        "ADDITION = x + 42\n",
        "SUBTRACTION = 42 - x\n",
        "MULTIPLICATION = x * 42\n",
        "DIVISION = 42 / x\n",
        "MODULUS = 42 % x\n",
        "EXPONENTIATION = x ** 42\n",
        "\n",
        "print(ADDITION)\n",
        "print(SUBTRACTION)\n",
        "print(MULTIPLICATION)\n",
        "print(DIVISION)\n",
        "print(MODULUS)\n",
        "print(EXPONENTIATION)"
      ],
      "metadata": {
        "colab": {
          "base_uri": "https://localhost:8080/"
        },
        "id": "4CUpf6XmilTt",
        "outputId": "17a60b62-3008-485b-eb67-fb26f31c4cbd"
      },
      "execution_count": 16,
      "outputs": [
        {
          "output_type": "stream",
          "name": "stdout",
          "text": [
            "66\n",
            "18\n",
            "1008\n",
            "1.75\n",
            "18\n",
            "9308338151941866618592771645958951941937449991757235224576\n"
          ]
        }
      ]
    },
    {
      "cell_type": "code",
      "source": [
        "number = int(input(\"Enter a number: \"))\n",
        "\n",
        "if number % 2 == 0:\n",
        "    print(f\"{number} is even.\")\n",
        "else:\n",
        "    print(f\"{number} is odd.\")"
      ],
      "metadata": {
        "colab": {
          "base_uri": "https://localhost:8080/"
        },
        "id": "yug9bXVrkT7j",
        "outputId": "f1bf266a-5f76-47b1-c69c-8626175b5216"
      },
      "execution_count": 34,
      "outputs": [
        {
          "output_type": "stream",
          "name": "stdout",
          "text": [
            "Enter a number: 42\n",
            "42 is even.\n"
          ]
        }
      ]
    },
    {
      "cell_type": "code",
      "source": [
        "print(\"\\nEven numbers from 1 to 42:\")\n",
        "for i in range(2, 43, 2):\n",
        "    print(i)"
      ],
      "metadata": {
        "colab": {
          "base_uri": "https://localhost:8080/"
        },
        "id": "5sWByYvUnG6-",
        "outputId": "3310bb63-330f-406d-b95f-b3f044fea4b1"
      },
      "execution_count": 33,
      "outputs": [
        {
          "output_type": "stream",
          "name": "stdout",
          "text": [
            "\n",
            "Even numbers from 1 to 42:\n",
            "2\n",
            "4\n",
            "6\n",
            "8\n",
            "10\n",
            "12\n",
            "14\n",
            "16\n",
            "18\n",
            "20\n",
            "22\n",
            "24\n",
            "26\n",
            "28\n",
            "30\n",
            "32\n",
            "34\n",
            "36\n",
            "38\n",
            "40\n",
            "42\n"
          ]
        }
      ]
    },
    {
      "cell_type": "code",
      "source": [
        "y4 = lambda y: y**4\n",
        "print(y4(2))"
      ],
      "metadata": {
        "colab": {
          "base_uri": "https://localhost:8080/"
        },
        "id": "jXl76iWlpn_k",
        "outputId": "dcf3c228-8520-49a1-d5ec-5b9c47f1cd8f"
      },
      "execution_count": 25,
      "outputs": [
        {
          "output_type": "stream",
          "name": "stdout",
          "text": [
            "16\n"
          ]
        }
      ]
    },
    {
      "cell_type": "code",
      "source": [
        "def calculate_average(numbers):\n",
        "  return sum(numbers) / len(numbers)\n",
        "\n",
        "numbers = [0.42, 4.2, 42, 420, 42]\n",
        "average = calculate_average(numbers)\n",
        "print(f\"The average of {numbers} is {average}\")"
      ],
      "metadata": {
        "colab": {
          "base_uri": "https://localhost:8080/"
        },
        "id": "wyhAUJNzqhC_",
        "outputId": "422be878-a0b3-426c-8d44-e41a04816a68"
      },
      "execution_count": 31,
      "outputs": [
        {
          "output_type": "stream",
          "name": "stdout",
          "text": [
            "The average of [0.42, 4.2, 42, 420, 42] is 101.724\n"
          ]
        }
      ]
    },
    {
      "cell_type": "code",
      "source": [
        "fruits = {\n",
        "    'apple': 'red',\n",
        "    'banana': 'yellow',\n",
        "    'grape': 'purple',\n",
        "    'orange': 'orange'\n",
        "}\n",
        "\n",
        "for fruit, color in fruits.items():\n",
        "  print(f\"The {fruit} is {color}.\")"
      ],
      "metadata": {
        "colab": {
          "base_uri": "https://localhost:8080/"
        },
        "id": "bQdfvwZyr-QB",
        "outputId": "f8b8dc34-c970-44d0-e47e-daa119a468ec"
      },
      "execution_count": 28,
      "outputs": [
        {
          "output_type": "stream",
          "name": "stdout",
          "text": [
            "The apple is red.\n",
            "The banana is yellow.\n",
            "The grape is purple.\n"
          ]
        }
      ]
    },
    {
      "cell_type": "code",
      "source": [
        "# User input\n",
        "user_input = input(\"Enter text to write to the file: \")\n",
        "\n",
        "# Write text to the file\n",
        "with open(\"user_file.txt\", \"w\") as file:\n",
        "    file.write(user_input)\n",
        "\n",
        "# Read back the contents of the file\n",
        "with open(\"user_file.txt\", \"r\") as file:\n",
        "    contents = file.read()\n",
        "\n",
        "# Print the contents\n",
        "print(\"\\nContents of the file:\")\n",
        "contents\n"
      ],
      "metadata": {
        "colab": {
          "base_uri": "https://localhost:8080/",
          "height": 87
        },
        "id": "77rtl8IXtocZ",
        "outputId": "1a024c21-baf7-4104-e8cd-2a98b12d2fea"
      },
      "execution_count": 30,
      "outputs": [
        {
          "output_type": "stream",
          "name": "stdout",
          "text": [
            "Enter text to write to the file: Hi\n",
            "\n",
            "Contents of the file:\n"
          ]
        },
        {
          "output_type": "execute_result",
          "data": {
            "text/plain": [
              "'Hi'"
            ],
            "application/vnd.google.colaboratory.intrinsic+json": {
              "type": "string"
            }
          },
          "metadata": {},
          "execution_count": 30
        }
      ]
    }
  ]
}