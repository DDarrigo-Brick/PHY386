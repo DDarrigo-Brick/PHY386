{
  "nbformat": 4,
  "nbformat_minor": 0,
  "metadata": {
    "colab": {
      "provenance": [],
      "authorship_tag": "ABX9TyON1AEVzVXl41n9S7Za0/rx",
      "include_colab_link": true
    },
    "kernelspec": {
      "name": "python3",
      "display_name": "Python 3"
    },
    "language_info": {
      "name": "python"
    }
  },
  "cells": [
    {
      "cell_type": "markdown",
      "metadata": {
        "id": "view-in-github",
        "colab_type": "text"
      },
      "source": [
        "<a href=\"https://colab.research.google.com/github/ubsuny/PHY386/blob/Homework2025/2025/HW/Zman42/HW1.ipynb\" target=\"_parent\"><img src=\"https://colab.research.google.com/assets/colab-badge.svg\" alt=\"Open In Colab\"/></a>"
      ]
    },
    {
      "cell_type": "markdown",
      "source": [
        "# Homework 1\n",
        "\n"
      ],
      "metadata": {
        "id": "3q-DMxdDpAGV"
      }
    },
    {
      "cell_type": "markdown",
      "source": [
        "## Basic Formatting\n",
        "\n",
        "1.   Data Analysis\n",
        "\n",
        "2.   Plotting/Visualizing Data\n",
        "\n",
        "3.   Solving Geometry/Linear Algebra Problems\n",
        "\n",
        "4.   Documentation/Code Orginization\n",
        "\n",
        "5.   Quantum Computing (if we get there)\n",
        "\n"
      ],
      "metadata": {
        "id": "s5ufzoSTpk_h"
      }
    },
    {
      "cell_type": "markdown",
      "source": [
        "## How to Include External Media"
      ],
      "metadata": {
        "id": "1fDOPYE90WFh"
      }
    },
    {
      "cell_type": "markdown",
      "source": [
        "![AB Lagrelius & Westphal. The American Institute of Physics also credits the photo to AB Lagrelius & Westphal, which is the Swedish company used by the Nobel Foundation for most photos of its book series Les Prix Nobel., Public domain, via Wikimedia Commons](https://upload.wikimedia.org/wikipedia/commons/9/91/Max_Planck_Nobel_1918.jpg)\n",
        "\n",
        "**Max Planck**\n",
        "\n",
        "Image from [Wikipedia](https://en.wikipedia.org/wiki/Max_Planck)\n",
        "\n",
        "He is one of my favorite scientists because his work in the discovery of energy quanta which led us to quantum mechanics and beyond.\n",
        "\n",
        "Energy for a Photon:\n",
        "\n",
        "$$\n",
        "E = hν\n",
        "$$\n",
        "\n",
        "⚛\n",
        "\n",
        "\n"
      ],
      "metadata": {
        "id": "Humtndvj1NS6"
      }
    },
    {
      "cell_type": "markdown",
      "source": [
        "## Coding Excercises"
      ],
      "metadata": {
        "id": "zhFh6suc0mPV"
      }
    },
    {
      "cell_type": "code",
      "execution_count": null,
      "metadata": {
        "id": "xl20zorNoxce",
        "colab": {
          "base_uri": "https://localhost:8080/"
        },
        "outputId": "3a1e694b-37d5-496f-b00f-a94274758acc"
      },
      "outputs": [
        {
          "output_type": "stream",
          "name": "stdout",
          "text": [
            "Hello World\n"
          ]
        }
      ],
      "source": [
        "print(\"Hello World\")"
      ]
    },
    {
      "cell_type": "code",
      "source": [
        "print(\"{:010.3f}\".format(2025))"
      ],
      "metadata": {
        "colab": {
          "base_uri": "https://localhost:8080/"
        },
        "id": "fCzpPef2zS83",
        "outputId": "f5445f84-5de8-44c1-df53-15a415e9ccf0"
      },
      "execution_count": null,
      "outputs": [
        {
          "output_type": "stream",
          "name": "stdout",
          "text": [
            "002025.000\n"
          ]
        }
      ]
    },
    {
      "cell_type": "code",
      "source": [
        "print(\"{:.2f}\".format(1/3))"
      ],
      "metadata": {
        "colab": {
          "base_uri": "https://localhost:8080/"
        },
        "id": "sxBOl-Y1xSOi",
        "outputId": "f25ae5ff-c14b-4584-e588-d04f97decdc1"
      },
      "execution_count": null,
      "outputs": [
        {
          "output_type": "stream",
          "name": "stdout",
          "text": [
            "0.33\n"
          ]
        }
      ]
    }
  ]
}