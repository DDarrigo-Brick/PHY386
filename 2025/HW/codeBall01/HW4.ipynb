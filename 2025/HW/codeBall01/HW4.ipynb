{
  "nbformat": 4,
  "nbformat_minor": 0,
  "metadata": {
    "colab": {
      "provenance": [],
      "include_colab_link": true
    },
    "kernelspec": {
      "name": "python3",
      "display_name": "Python 3"
    },
    "language_info": {
      "name": "python"
    }
  },
  "cells": [
    {
      "cell_type": "markdown",
      "metadata": {
        "id": "view-in-github",
        "colab_type": "text"
      },
      "source": [
        "<a href=\"https://colab.research.google.com/github/ubsuny/PHY386/blob/Homework2025/2025/HW/codeBall01/HW4.ipynb\" target=\"_parent\"><img src=\"https://colab.research.google.com/assets/colab-badge.svg\" alt=\"Open In Colab\"/></a>"
      ]
    },
    {
      "cell_type": "markdown",
      "source": [
        "# Homework 4: Python Types & Quantum States (42 pts)\n",
        "\n",
        "## Learning Outcomes\n",
        "1. Understand Python type annotations for function arguments and returns\n",
        "2. Create quantum states using QuTiP's type-checked operations and learning how to use a new python library\n",
        "3. Generate photonic circuits using Strawberry Fields with AI assistance"
      ],
      "metadata": {
        "id": "sIZ7fmpxzCYe"
      }
    },
    {
      "cell_type": "markdown",
      "source": [
        "## Understanding Data Types and Type Checking in Python\n",
        "### What is a standard Data Type?\n",
        "\n",
        "A **data type** is a classification of data that determines the kind of value a variable can hold and what operations can be performed on it. In Python, data types are classes, and variables are instances of these classes. Python supports various built-in data types, including:\n",
        "\n",
        "- **Numeric types**: `int`, `float`, `complex`  \n",
        "  (e.g., photon numbers, probabilities, amplitudes)\n",
        "- **Sequence types**: `list`, `tuple`, `range`  \n",
        "  (e.g., lists of quantum states)\n",
        "- **Text type**: `str`  \n",
        "  (e.g., state labels or descriptions)\n",
        "- **Mapping type**: `dict`  \n",
        "  (e.g., parameter dictionaries for circuits)\n",
        "- **Set types**: `set`, `frozenset`\n",
        "- **Boolean type**: `bool`  \n",
        "  (e.g., flags for conditions)\n",
        "- **Binary types**: `bytes`, `bytearray`, `memoryview`\n",
        "- **None type**: `NoneType`\n",
        "\n",
        "Each data type has specific characteristics and behaviors, allowing programmers to work with different kinds of data efficiently.\n",
        "\n",
        "---\n",
        "\n",
        "### What is Type Checking?\n",
        "\n",
        "**Type checking** is the process of verifying whether operations in a program comply with the type rules of the programming language. It ensures that variables are used consistently with their declared or inferred types, helping to prevent errors and improve code reliability.\n",
        "\n",
        "There are two main forms of type checking:\n",
        "\n",
        "1. **Static Type Checking**:\n",
        "   - Performed at compile-time (before running the program).\n",
        "   - Detects type-related errors early in development.\n",
        "   - Python supports static type checking using **type hints** and external tools like `mypy`.\n",
        "\n",
        "2. **Dynamic Type Checking**:\n",
        "   - Occurs at runtime (while the program is running).\n",
        "   - Python primarily uses dynamic type checking, allowing flexibility but catching errors later.\n"
      ],
      "metadata": {
        "id": "mioZcAtazHHK"
      }
    },
    {
      "cell_type": "markdown",
      "source": [
        "Type checking helps you:\n",
        "- Catch bugs early.\n",
        "- Make your code easier to understand.\n",
        "- Improve collaboration by clearly defining how functions should be used."
      ],
      "metadata": {
        "id": "x1PqIeHGzpoY"
      }
    },
    {
      "cell_type": "markdown",
      "source": [
        "## Part 0: Google Colab Setup for Type Checking\n",
        "### Step 1: Enable Built-in Type Checking\n",
        "Google Colab has a built-in type checker (Pyright) that underlines type errors in red. To enable it:\n",
        "1. Go to the **Tools** menu in Colab.\n",
        "2. Select **Settings**.\n",
        "3. Click on the **Editor** tab.\n",
        "4. Scroll down to **Code diagnostics** and select **Syntax and type checking**.\n",
        "\n",
        "Once enabled:\n",
        "- Type errors will be underlined in red.\n",
        "- Hover over the error to see detailed messages."
      ],
      "metadata": {
        "id": "CbK_wf5xzyN8"
      }
    },
    {
      "cell_type": "markdown",
      "source": [
        "### Step 2: Install External Type Checkers (Optional)\n",
        "For more advanced type checking, install `nbqa` and `mypy`:"
      ],
      "metadata": {
        "id": "7hVbzd2nz4BW"
      }
    },
    {
      "cell_type": "code",
      "source": [
        "4//2"
      ],
      "metadata": {
        "id": "lpd_BDYUlCBa",
        "outputId": "f4d539d4-9786-4090-896f-e8b8f6bcf988",
        "colab": {
          "base_uri": "https://localhost:8080/"
        }
      },
      "execution_count": null,
      "outputs": [
        {
          "output_type": "execute_result",
          "data": {
            "text/plain": [
              "2"
            ]
          },
          "metadata": {},
          "execution_count": 1
        }
      ]
    },
    {
      "cell_type": "code",
      "source": [
        "!pip install -q nbqa mypy"
      ],
      "metadata": {
        "id": "Ki0Oc8wKz7Kl"
      },
      "execution_count": null,
      "outputs": []
    },
    {
      "cell_type": "markdown",
      "source": [
        "To run type checks on your entire notebook:"
      ],
      "metadata": {
        "id": "ggOAWjfxz-m_"
      }
    },
    {
      "cell_type": "code",
      "source": [
        "!nbqa mypy HW3.ipynb"
      ],
      "metadata": {
        "id": "wdbg0dVT0A_P"
      },
      "execution_count": null,
      "outputs": []
    },
    {
      "cell_type": "markdown",
      "source": [
        "## Part 1: Python Type Annotations\n",
        "\n",
        "## Type Annotations in Python\n",
        "\n",
        "Type annotations in Python provide a way to specify the expected types of variables, function parameters, and return values. They serve as hints to developers and tools, but do not affect the runtime behavior of the code. Here's how to use type annotations:\n",
        "\n",
        "### Basic Syntax\n",
        "\n",
        "- For variables: `variable_name: type = value`\n",
        "- For functions:\n",
        "  ```python\n",
        "  def function_name(param1: type1, param2: type2) -> return_type:\n",
        "      function body\n",
        "  ```\n",
        "\n",
        "---\n",
        "\n",
        "### Why Use Type Annotations in Python?\n",
        "\n",
        "Python allows you to add **type annotations**, which are optional hints about the expected types of variables, function arguments, and return values. While Python doesn't enforce these annotations at runtime, tools like `mypy` or Colab's built-in type checker can analyze your code for consistency.\n",
        "\n",
        "**Example error prevention:**\n",
        "```python\n",
        "# Without annotations\n",
        "def bad_function(x):\n",
        "    return x + 1\n",
        "\n",
        "bad_function(\"2\")  # Returns \"21\" (string concatenation)!\n",
        "\n",
        "# With annotations\n",
        "def good_function(x: int) -> int:\n",
        "    return x + 1\n",
        "\n",
        "bad_function(\"2\")  # Type checkers warn about string input\n",
        "```\n",
        "\n",
        "#### Examples:\n",
        "\n",
        "1. Variable annotations:"
      ],
      "metadata": {
        "id": "fYQ5iXi82PWS"
      }
    },
    {
      "cell_type": "code",
      "source": [
        "name: str = \"Alice\"\n",
        "distance: int = 30\n",
        "print(\"var: {}, type: {}\".format(distance, type(distance)))"
      ],
      "metadata": {
        "id": "AZBEG0a82UML",
        "colab": {
          "base_uri": "https://localhost:8080/"
        },
        "outputId": "25f40892-3723-40aa-963c-33ca72d8d0bd"
      },
      "execution_count": null,
      "outputs": [
        {
          "output_type": "stream",
          "name": "stdout",
          "text": [
            "var: 30, type: <class 'int'>\n"
          ]
        }
      ]
    },
    {
      "cell_type": "markdown",
      "source": [
        "2. Function annotations:"
      ],
      "metadata": {
        "id": "ZuG0Bzpd4ory"
      }
    },
    {
      "cell_type": "code",
      "source": [
        "def encryption_type(name: str) -> str:\n",
        "    \"\"\" annotation example for functions \"\"\"\n",
        "    return f\"Encryption: {name}\"\n",
        "print(encryption_type(\"Caesar Cipher\"))"
      ],
      "metadata": {
        "id": "gCMOuyv64svo"
      },
      "execution_count": null,
      "outputs": []
    },
    {
      "cell_type": "code",
      "source": [
        "def add_numbers(a: int, b: int) -> int:\n",
        "    return a + b\n",
        "\n",
        "add_numbers(2, 3)  # Works fine\n",
        "add_numbers(\"2\", 3)  # Type checker will flag this as an error!"
      ],
      "metadata": {
        "id": "qU5SBF2U1ovw"
      },
      "execution_count": null,
      "outputs": []
    },
    {
      "cell_type": "markdown",
      "source": [
        "3. Complex types:\n",
        "```python\n",
        "from typing import List, Dict\n",
        "def process_data(items: List[int]) -> Dict[str, int]:\n",
        "    # Function implementation\n",
        "```"
      ],
      "metadata": {
        "id": "63aW655g5apN"
      }
    },
    {
      "cell_type": "markdown",
      "source": [
        "\n",
        "Type annotations help improve code readability, catch potential errors early, and enable better tooling support for IDEs and static type checkers like mypy."
      ],
      "metadata": {
        "id": "ve_78hw01lQf"
      }
    },
    {
      "cell_type": "markdown",
      "source": [
        "## Quantum Concepts in This Assignment\n",
        "\n",
        "### What is a Quantum State?\n",
        "A **quantum state** is a mathematical representation of a quantum system. In a two-level system (qubit), a state $|\\psi\\rangle$ can be written as:\n",
        "$$ |\\psi\\rangle = \\alpha |0\\rangle + \\beta |1\\rangle $$\n",
        "where $\\alpha$ and $\\beta$ are complex numbers representing probability amplitudes.\n",
        "\n",
        "### Superposition and Measurement\n",
        "- **Superposition**: A qubit can be in a mix of $|0\\rangle$ and $|1\\rangle$ states until measured.\n",
        "- **Measurement**: When measured, the qubit collapses to either $|0\\rangle$ or $|1\\rangle$ with probabilities $\\alpha|^2$ and $|\\beta|^2$.\n",
        "\n",
        "### Entanglement\n",
        "When two qubits are **entangled**, the state of one qubit depends on the state of the other, even if they are far apart. A common entangled state is the Bell state:\n",
        "$$|\\Phi^+\\rangle = \\frac{1}{\\sqrt{2}} (|00\\rangle + |11\\rangle) $$\n"
      ],
      "metadata": {
        "id": "iokDkDQxhM0X"
      }
    },
    {
      "cell_type": "markdown",
      "source": [
        "### QuTiP Data Types\n",
        "\n",
        "QuTiP (Quantum Toolbox in Python) introduces specialized data types for quantum science, primarily centered around the `Qobj` (Quantum Object) class. Here's an overview of the key QuTiP data types:\n",
        "\n",
        "1. **Qobj**: The fundamental data type in QuTiP, representing [quantum operators](https://en.wikipedia.org/wiki/Operator_(physics)) and [state vectors](https://en.wikipedia.org/wiki/Quantum_state). It has the following characteristics:\n",
        "   - Implements mathematical operations (+, -, *) between Qobj instances\n",
        "   - Can represent [kets](https://en.wikipedia.org/wiki/Bra%E2%80%93ket_notation), [bras](https://en.wikipedia.org/wiki/Bra%E2%80%93ket_notation), operators, and [superoperators](https://en.wikipedia.org/wiki/Superoperator)\n",
        "   - Stores data in various formats (e.g., dense or sparse matrices)\n",
        "\n",
        "2. **DimensionLike**: Represents the dimensions of [quantum systems](https://en.wikipedia.org/wiki/Quantum_system), crucial for [tensor products](https://en.wikipedia.org/wiki/Tensor_product).\n",
        "\n",
        "3. **ArrayLike**: Used for input data in vector/matrix representation of quantum objects.\n",
        "\n",
        "4. **ket**: A column vector representing a [quantum state](https://en.wikipedia.org/wiki/Quantum_state).\n",
        "\n",
        "5. **bra**: A row vector, the [Hermitian conjugate](https://en.wikipedia.org/wiki/Hermitian_adjoint) of a ket.\n",
        "\n",
        "6. **oper**: A matrix representing a quantum operator.\n",
        "\n",
        "7. **super**: A superoperator, used in quantum operations on [density matrices](https://en.wikipedia.org/wiki/Density_matrix).\n",
        "\n",
        "8. **eseries**: Represents exponential-series expansion of time-dependent quantum objects.\n",
        "\n",
        "QuTiP also supports various data layer types for efficient storage and computation:\n",
        "\n",
        "- **Dense**: For dense matrix representations\n",
        "- **CSR**: Compressed Sparse Row format for sparse matrices\n",
        "- **Dia**: Diagonal storage format for diagonal matrices\n",
        "\n",
        "These specialized types allow QuTiP to efficiently handle quantum computations, enabling operations like:\n",
        "- Creating quantum states (e.g., [Fock states](https://en.wikipedia.org/wiki/Fock_state), [coherent states](https://en.wikipedia.org/wiki/Coherent_state))\n",
        "- Performing [quantum measurements](https://en.wikipedia.org/wiki/Measurement_in_quantum_mechanics)\n",
        "- Simulating [quantum dynamics](https://en.wikipedia.org/wiki/Quantum_dynamics)\n",
        "\n",
        "By using these types, QuTiP provides a powerful framework for [quantum computing](https://en.wikipedia.org/wiki/Quantum_computing) simulations and calculations.\n"
      ],
      "metadata": {
        "id": "oabgMDeZ7mHZ"
      }
    },
    {
      "cell_type": "markdown",
      "source": [
        "## Exercise 1 - Debugging Type Errors (14 pts)  \n",
        "Fix the type errors in this code by referring to the [qutip documentation](https://qutip.org/docs/4.0.2/index.html) which data types are required :"
      ],
      "metadata": {
        "id": "eNmXmMKq6Hom"
      }
    },
    {
      "cell_type": "code",
      "source": [
        "!pip install qutip\n",
        "import qutip"
      ],
      "metadata": {
        "id": "pEqP36pk6KIO",
        "colab": {
          "base_uri": "https://localhost:8080/"
        },
        "outputId": "11c795d5-01aa-4c05-dba7-50f90823803a"
      },
      "execution_count": 1,
      "outputs": [
        {
          "output_type": "stream",
          "name": "stdout",
          "text": [
            "Collecting qutip\n",
            "  Downloading qutip-5.1.1-cp311-cp311-manylinux_2_17_x86_64.manylinux2014_x86_64.whl.metadata (9.2 kB)\n",
            "Requirement already satisfied: numpy>=1.22 in /usr/local/lib/python3.11/dist-packages (from qutip) (2.0.2)\n",
            "Requirement already satisfied: scipy>=1.9 in /usr/local/lib/python3.11/dist-packages (from qutip) (1.14.1)\n",
            "Requirement already satisfied: packaging in /usr/local/lib/python3.11/dist-packages (from qutip) (24.2)\n",
            "Downloading qutip-5.1.1-cp311-cp311-manylinux_2_17_x86_64.manylinux2014_x86_64.whl (30.1 MB)\n",
            "\u001b[2K   \u001b[90m━━━━━━━━━━━━━━━━━━━━━━━━━━━━━━━━━━━━━━━━\u001b[0m \u001b[32m30.1/30.1 MB\u001b[0m \u001b[31m9.5 MB/s\u001b[0m eta \u001b[36m0:00:00\u001b[0m\n",
            "\u001b[?25hInstalling collected packages: qutip\n",
            "Successfully installed qutip-5.1.1\n"
          ]
        }
      ]
    },
    {
      "cell_type": "code",
      "source": [
        "print(qutip.basis(2,0))"
      ],
      "metadata": {
        "colab": {
          "base_uri": "https://localhost:8080/"
        },
        "id": "9VP5jlYH3Ex2",
        "outputId": "86735ade-b5a1-43a8-c0ba-5db46faa345e"
      },
      "execution_count": 2,
      "outputs": [
        {
          "output_type": "stream",
          "name": "stdout",
          "text": [
            "Quantum object: dims=[[2], [1]], shape=(2, 1), type='ket', dtype=Dense\n",
            "Qobj data =\n",
            "[[1.]\n",
            " [0.]]\n"
          ]
        }
      ]
    },
    {
      "cell_type": "code",
      "source": [
        "qutip.bell_state(state=\"00\")"
      ],
      "metadata": {
        "colab": {
          "base_uri": "https://localhost:8080/",
          "height": 34
        },
        "id": "bt83gYmh5LNM",
        "outputId": "4a934ef1-56d1-4f42-9ca8-b14e4ba14668"
      },
      "execution_count": 3,
      "outputs": [
        {
          "output_type": "execute_result",
          "data": {
            "text/plain": [
              "Quantum object: dims=[[2, 2], [1, 1]], shape=(4, 1), type='ket', dtype=Dense\n",
              "Qobj data =\n",
              "[[0.70710678]\n",
              " [0.        ]\n",
              " [0.        ]\n",
              " [0.70710678]]"
            ],
            "text/latex": "Quantum object: dims=[[2, 2], [1, 1]], shape=(4, 1), type='ket', dtype=Dense$$\\left(\\begin{array}{cc}0.707\\\\0\\\\0\\\\0.707\\end{array}\\right)$$"
          },
          "metadata": {},
          "execution_count": 3
        }
      ]
    },
    {
      "cell_type": "code",
      "source": [
        "def photon_count(state: qutip.Qobj) -> int:\n",
        "    \"\"\"\n",
        "    Computes the expectation value of the photon number operator ⟨n⟩.\n",
        "\n",
        "    Parameters:\n",
        "        state (qutip.Qobj): Quantum state.\n",
        "\n",
        "    Returns:\n",
        "        float: Photon number expectation value.\n",
        "    \"\"\"\n",
        "    return qutip.expect(qutip.num(10), state)  # Returns float!"
      ],
      "metadata": {
        "id": "u8Df-4Ao-iWl"
      },
      "execution_count": 4,
      "outputs": []
    },
    {
      "cell_type": "code",
      "source": [
        "photon_count(qutip.coherent(10, 1))"
      ],
      "metadata": {
        "id": "DpVYfPlq-kt0",
        "colab": {
          "base_uri": "https://localhost:8080/"
        },
        "outputId": "35e62300-94f8-4659-ba7f-1587930eb83e"
      },
      "execution_count": 5,
      "outputs": [
        {
          "output_type": "execute_result",
          "data": {
            "text/plain": [
              "0.9999999259365113"
            ]
          },
          "metadata": {},
          "execution_count": 5
        }
      ]
    },
    {
      "cell_type": "code",
      "source": [
        "def create_fock_state(n: int, dims: int) -> qutip.Qobj:\n",
        "    \"\"\"\n",
        "    Type enforcement prevents:\n",
        "    create_fock_state(2.5, 10)  # Error: n must be integer!\n",
        "    \"\"\"\n",
        "    return qutip.fock(dims, n)"
      ],
      "metadata": {
        "id": "EBb2oJ9H-2Du"
      },
      "execution_count": 13,
      "outputs": []
    },
    {
      "cell_type": "code",
      "source": [
        "create_fock_state(2, 10)"
      ],
      "metadata": {
        "id": "AyCEO4hT-4He",
        "colab": {
          "base_uri": "https://localhost:8080/",
          "height": 34
        },
        "outputId": "600ce303-0f1e-40fd-d83e-2601e924aa3b"
      },
      "execution_count": 9,
      "outputs": [
        {
          "output_type": "execute_result",
          "data": {
            "text/plain": [
              "Quantum object: dims=[[10], [1]], shape=(10, 1), type='ket', dtype=Dense\n",
              "Qobj data =\n",
              "[[0.]\n",
              " [0.]\n",
              " [1.]\n",
              " [0.]\n",
              " [0.]\n",
              " [0.]\n",
              " [0.]\n",
              " [0.]\n",
              " [0.]\n",
              " [0.]]"
            ],
            "text/latex": "Quantum object: dims=[[10], [1]], shape=(10, 1), type='ket', dtype=Dense$$\\left(\\begin{array}{cc}0\\\\0\\\\1\\\\0\\\\0\\\\0\\\\0\\\\0\\\\0\\\\0\\end{array}\\right)$$"
          },
          "metadata": {},
          "execution_count": 9
        }
      ]
    },
    {
      "cell_type": "code",
      "source": [
        "def create_coherent_state(alpha: complex, dimension: float) -> int:\n",
        "    \"\"\"\n",
        "    Creates a coherent state |α⟩ using QuTiP.\n",
        "\n",
        "    Parameters:\n",
        "        alpha (complex): Complex displacement parameter.\n",
        "        dimension (int): Hilbert space size.\n",
        "\n",
        "    Returns:\n",
        "        qutip.Qobj: The coherent state |α⟩.\n",
        "    \"\"\"\n",
        "    return qutip.coherent(dimension, alpha)\n",
        "\n",
        "def photon_number_expectation(state: str):# -> Qobj:\n",
        "    \"\"\"\n",
        "    Computes the expectation value of the photon number operator ⟨n⟩.\n",
        "\n",
        "    Parameters:\n",
        "        state (???): Quantum state.\n",
        "\n",
        "    Returns:\n",
        "        ???: Photon number expectation value.\n",
        "    \"\"\"\n",
        "    return qutip.expect(qutip.num(state.dims), state)"
      ],
      "metadata": {
        "id": "QxxrqwPA6OUz"
      },
      "execution_count": 15,
      "outputs": []
    },
    {
      "cell_type": "markdown",
      "source": [
        "## Exercise 2: Quantum States in QuTiP (14 points)\n",
        "\n",
        "### Exercise 2.1: Creating Fock States\n",
        "Create the Fock state $|n\\rangle$ for $n=0, 1, 2$ using QuTiP and plot the corresponding wavefunctions.\n",
        "\n",
        "Hints: Use [`fock`](https://qutip.org/docs/4.0.2/apidoc/functions.html?highlight=fock#qutip.states.fock) to generate number states and [`state.full().flatten()**2`](https://qutip.org/docs/4.0.2/apidoc/classes.html?highlight=full#Qobj.full) in a bar plot for plotting\n"
      ],
      "metadata": {
        "id": "8v_7KBaFlTJg"
      }
    },
    {
      "cell_type": "code",
      "source": [
        "import matplotlib.pyplot as plt\n",
        "import numpy as np"
      ],
      "metadata": {
        "id": "oK7k_vNw9fIs"
      },
      "execution_count": 16,
      "outputs": []
    },
    {
      "cell_type": "code",
      "source": [
        "f0 = qutip.fock(10,0)\n",
        "plt.bar([0],np.abs(f0.full().flatten()**2))\n"
      ],
      "metadata": {
        "colab": {
          "base_uri": "https://localhost:8080/",
          "height": 447
        },
        "id": "ZPV7TNV89L1S",
        "outputId": "cbce5217-54e8-4174-8469-8b7aeeeaa33a"
      },
      "execution_count": 17,
      "outputs": [
        {
          "output_type": "execute_result",
          "data": {
            "text/plain": [
              "<BarContainer object of 10 artists>"
            ]
          },
          "metadata": {},
          "execution_count": 17
        },
        {
          "output_type": "display_data",
          "data": {
            "text/plain": [
              "<Figure size 640x480 with 1 Axes>"
            ],
            "image/png": "[encoded data removed]"
          },
          "metadata": {}
        }
      ]
    },
    {
      "cell_type": "markdown",
      "source": [
        "### Exercise 2.2: Creating Coherent States\n",
        "Generate a coherent state using the function from Excercise 1 with $\\alpha = 1.5$ and visualize its Wigner function using matplotlibs `contourf` and the following example code:\n",
        "\n",
        "```python\n",
        "# Plot Wigner function\n",
        "x = np.linspace(-5, 5, 200)\n",
        "y = np.linspace(-5, 5, 200)\n",
        "X, Y = np.meshgrid(x, y)\n",
        "Z = qutip.wigner(coherent_state, x, y)\n",
        "```"
      ],
      "metadata": {
        "id": "QQAiG4NyoDxH"
      }
    },
    {
      "cell_type": "code",
      "source": [
        "coherent_state = qutip.coherent(10,1.5)\n",
        "# Plot Wigner function\n",
        "x = np.linspace(-5, 5, 200)\n",
        "y = np.linspace(-5, 5, 200)\n",
        "X, Y = np.meshgrid(x, y)\n",
        "Z = qutip.wigner(coherent_state, x, y)\n",
        "plt.contourf(X, Y, Z, 100, cmap='jet')\n",
        "plt.colorbar()\n",
        "plt.show()"
      ],
      "metadata": {
        "colab": {
          "base_uri": "https://localhost:8080/",
          "height": 430
        },
        "id": "4kqL_2xg-SUD",
        "outputId": "616e330c-c18e-4b65-d3f2-aadc81991f8c"
      },
      "execution_count": null,
      "outputs": [
        {
          "output_type": "display_data",
          "data": {
            "text/plain": [
              "<Figure size 640x480 with 2 Axes>"
            ],
            "image/png": "[encoded data removed]"
          },
          "metadata": {}
        }
      ]
    },
    {
      "cell_type": "markdown",
      "source": [
        "### Exercise 2.3: Creating Squeezed Vacuum States\n",
        "Create and visualize a squeezed vacuum state with a squeezing parameter of 1.0 using [`squeeze`](https://qutip.org/docs/4.0.2/apidoc/functions.html?highlight=squeeze#qutip.operators.squeeze).\n",
        "\n",
        "1. Generate a so called vacuum Fock state with a Hilbert Dimension of your chaice (e.g. 10) and a number state of 0\n",
        "2. Generate a product state (*) of the squeeze state (Careful: same Hilbert dimension!) and the squeezing parameter $r$ with the vacuum Fock state.\n",
        "3. Now do the same plotting as in Ex 2.2\n",
        "\n",
        "\n"
      ],
      "metadata": {
        "id": "67LhR7ysifgA"
      }
    },
    {
      "cell_type": "code",
      "source": [
        "import qutip\n",
        "import numpy as np\n",
        "import matplotlib.pyplot as plt\n",
        "\n",
        "# Hilbert space dimension\n",
        "N = 10  # Choose a suitable Hilbert space size\n",
        "\n",
        "# Define squeezing parameter\n",
        "r = 1.0\n",
        "\n",
        "# Step 1: Create the vacuum Fock state |0⟩\n",
        "vacuum_state = qutip.basis(N, 0)\n",
        "\n",
        "# Step 2: Create the squeezing operator S(r)\n",
        "squeezing_operator = qutip.squeeze(N, r)\n",
        "\n",
        "# Step 3: Apply squeezing to the vacuum state\n",
        "squeezed_vacuum = squeezing_operator * vacuum_state\n",
        "\n",
        "# Step 4: Plot the Wigner function to visualize the squeezed state\n",
        "xvec = np.linspace(-5, 5, 200)\n",
        "wigner_data = qutip.wigner(squeezed_vacuum, xvec, xvec)\n",
        "\n",
        "plt.figure(figsize=(6, 5))\n",
        "plt.contourf(xvec, xvec, wigner_data, 100, cmap=\"RdBu_r\")\n",
        "plt.colorbar(label=\"Wigner function\")\n",
        "plt.xlabel(\"q\")\n",
        "plt.ylabel(\"p\")\n",
        "plt.title(\"Wigner function of a squeezed vacuum state (r=1.0)\")\n",
        "plt.show()\n"
      ],
      "metadata": {
        "colab": {
          "base_uri": "https://localhost:8080/",
          "height": 487
        },
        "id": "7OTXlrkmlMeB",
        "outputId": "25921bc2-add0-45e9-b6fc-daeb54b9c716"
      },
      "execution_count": 18,
      "outputs": [
        {
          "output_type": "display_data",
          "data": {
            "text/plain": [
              "<Figure size 600x500 with 2 Axes>"
            ],
            "image/png": "[encoded data removed]"
          },
          "metadata": {}
        }
      ]
    },
    {
      "cell_type": "markdown",
      "source": [
        "## Exercise 3: Interactive Quantum Circuit Prompt (14 points)\n",
        "\n",
        "### Objective\n",
        "\n",
        "In this exercise, you will interact with any LLM to design and implement a quantum photonic circuit using a real quantum computer (Strawberry Fields). You will be guided through an interactive prompt that helps you define a quantum problem and generate Python code to solve it.\n",
        "\n",
        "### Instructions\n",
        "\n",
        "1. **Use the Provided Interactive Prompt**: Copy and paste the following structured prompt into ChatGPT. This will guide you through the process of creating a quantum photonic circuit tailored to a problem of your choice.\n",
        "\n",
        "   **Interactive Prompt:**\n",
        "   \n",
        "   ```\n",
        "   I want to design a quantum photonic circuit using Strawberry Fields in Python. Please guide me step by step by asking interactive questions to define the circuit based on my requirements. Here’s how I’d like you to proceed:\n",
        "   \n",
        "   1. Ask me what type of quantum problem I want to solve (e.g., quantum teleportation, Gaussian boson sampling, entanglement generation).\n",
        "   2. Help me choose the number of modes and photon states required for the circuit.\n",
        "   3. Assist me in selecting quantum operations (e.g., squeezing, displacement, beamsplitters, phase shifts, Kerr interaction).\n",
        "   4. Guide me in setting up appropriate measurements (e.g., homodyne, photon counting, heterodyne).\n",
        "   5. Once all parameters are determined, generate the complete Strawberry Fields Python code for the circuit.\n",
        "   6. Include a section to visualize the output state or measurement results using Matplotlib or QuTiP.\n",
        "   \n",
        "   Please guide me interactively through each step, ensuring that I understand the choices and their implications. After the final code is generated, provide an explanation of its functionality.\n",
        "   ```\n",
        "\n",
        "2. **Follow the Interaction**: Engage with ChatGPT as it asks you about the circuit details. Answer its questions carefully to shape the circuit according to your learning objectives.\n",
        "\n",
        "3. **Analyze and Run the Generated Code**: Copy the final Python code provided by ChatGPT and run it in your Python environment. Verify its correctness and functionality.\n",
        "\n",
        "4. **Modify and Improve the Prompt**: Make sure that the genrated code uses type annotations as in Excercise 1, refine the prompt and rerun the interaction to improve the generated circuit and its explanations.\n",
        "\n",
        "5. **Submit Your Work:**\n",
        "   - Include the final refined prompt you used.\n",
        "   - Provide the complete generated Python code.\n",
        "   - Document the results and any modifications you made to improve the circuit.\n",
        "   - Explain your learning experience from this interactive process.\n",
        "\n",
        "\n"
      ],
      "metadata": {
        "id": "01RGtSZPmOWP"
      }
    },
    {
      "cell_type": "code",
      "source": [
        "import strawberryfields as sf\n",
        "from strawberryfields.ops import *\n",
        "import numpy as np\n",
        "import matplotlib.pyplot as plt\n",
        "\n",
        "# Number of modes\n",
        "N_MODES = 6\n",
        "# Squeezing parameter\n",
        "r = 0.5\n",
        "\n",
        "# Create a Strawberry Fields quantum program\n",
        "prog = sf.Program(N_MODES)\n",
        "\n",
        "# Generate a random unitary interferometer\n",
        "np.random.seed(42)  # For reproducibility\n",
        "U = np.linalg.qr(np.random.randn(N_MODES, N_MODES))[0]  # Haar-random unitary\n",
        "\n",
        "# Define the quantum circuit\n",
        "with prog.context as q:\n",
        "    # Apply squeezed vacuum states to all modes\n",
        "    for i in range(N_MODES):\n",
        "        Sgate(r) | q[i]\n",
        "\n",
        "    # Apply the interferometer\n",
        "    Interferometer(U) | q\n",
        "\n",
        "    # Measure in photon number basis\n",
        "    MeasureFock() | q\n",
        "\n",
        "# Initialize the engine (Gaussian Boson Sampling)\n",
        "eng = sf.Engine(\"fock\", backend_options={\"cutoff_dim\": 10})  # Truncation at 10 photons\n",
        "\n",
        "# Run the circuit multiple times to get photon statistics\n",
        "num_samples = 1000\n",
        "results = eng.run(prog, shots=num_samples)\n",
        "counts = results.samples\n",
        "\n",
        "# Convert counts into a histogram\n",
        "unique, counts = np.unique(counts, axis=0, return_counts=True)\n",
        "\n",
        "# Plot photon count statistics\n",
        "plt.figure(figsize=(10, 5))\n",
        "plt.bar(range(len(counts)), counts, color='blue', alpha=0.7)\n",
        "plt.xlabel(\"Photon Count Configuration\")\n",
        "plt.ylabel(\"Frequency\")\n",
        "plt.title(\"Gaussian Boson Sampling Output Distribution\")\n",
        "plt.show()\n"
      ],
      "metadata": {
        "colab": {
          "base_uri": "https://localhost:8080/",
          "height": 529
        },
        "id": "Gbli0UAXoxm4",
        "outputId": "d9efcfed-4eb1-4ed1-a1f8-63c59607beda"
      },
      "execution_count": 21,
      "outputs": [
        {
          "output_type": "error",
          "ename": "ImportError",
          "evalue": "cannot import name 'simps' from 'scipy.integrate' (/usr/local/lib/python3.11/dist-packages/scipy/integrate/__init__.py)",
          "traceback": [
            "\u001b[0;31m---------------------------------------------------------------------------\u001b[0m",
            "\u001b[0;31mImportError\u001b[0m                               Traceback (most recent call last)",
            "\u001b[0;32m<ipython-input-21-30dfdfe20b4f>\u001b[0m in \u001b[0;36m<cell line: 0>\u001b[0;34m()\u001b[0m\n\u001b[0;32m----> 1\u001b[0;31m \u001b[0;32mimport\u001b[0m \u001b[0mstrawberryfields\u001b[0m \u001b[0;32mas\u001b[0m \u001b[0msf\u001b[0m\u001b[0;34m\u001b[0m\u001b[0;34m\u001b[0m\u001b[0m\n\u001b[0m\u001b[1;32m      2\u001b[0m \u001b[0;32mfrom\u001b[0m \u001b[0mstrawberryfields\u001b[0m\u001b[0;34m.\u001b[0m\u001b[0mops\u001b[0m \u001b[0;32mimport\u001b[0m \u001b[0;34m*\u001b[0m\u001b[0;34m\u001b[0m\u001b[0;34m\u001b[0m\u001b[0m\n\u001b[1;32m      3\u001b[0m \u001b[0;32mimport\u001b[0m \u001b[0mnumpy\u001b[0m \u001b[0;32mas\u001b[0m \u001b[0mnp\u001b[0m\u001b[0;34m\u001b[0m\u001b[0;34m\u001b[0m\u001b[0m\n\u001b[1;32m      4\u001b[0m \u001b[0;32mimport\u001b[0m \u001b[0mmatplotlib\u001b[0m\u001b[0;34m.\u001b[0m\u001b[0mpyplot\u001b[0m \u001b[0;32mas\u001b[0m \u001b[0mplt\u001b[0m\u001b[0;34m\u001b[0m\u001b[0;34m\u001b[0m\u001b[0m\n\u001b[1;32m      5\u001b[0m \u001b[0;34m\u001b[0m\u001b[0m\n",
            "\u001b[0;32m/usr/local/lib/python3.11/dist-packages/strawberryfields/__init__.py\u001b[0m in \u001b[0;36m<module>\u001b[0;34m\u001b[0m\n\u001b[1;32m     22\u001b[0m     \u001b[0;34m:\u001b[0m\u001b[0mtarget\u001b[0m\u001b[0;34m:\u001b[0m \u001b[0mjavascript\u001b[0m\u001b[0;34m:\u001b[0m\u001b[0mvoid\u001b[0m\u001b[0;34m(\u001b[0m\u001b[0;36m0\u001b[0m\u001b[0;34m)\u001b[0m\u001b[0;34m;\u001b[0m\u001b[0;34m\u001b[0m\u001b[0;34m\u001b[0m\u001b[0m\n\u001b[1;32m     23\u001b[0m \"\"\"\n\u001b[0;32m---> 24\u001b[0;31m \u001b[0;32mfrom\u001b[0m \u001b[0;34m.\u001b[0m \u001b[0;32mimport\u001b[0m \u001b[0mapps\u001b[0m\u001b[0;34m\u001b[0m\u001b[0;34m\u001b[0m\u001b[0m\n\u001b[0m\u001b[1;32m     25\u001b[0m \u001b[0;32mfrom\u001b[0m \u001b[0;34m.\u001b[0m\u001b[0m_version\u001b[0m \u001b[0;32mimport\u001b[0m \u001b[0m__version__\u001b[0m\u001b[0;34m\u001b[0m\u001b[0;34m\u001b[0m\u001b[0m\n\u001b[1;32m     26\u001b[0m \u001b[0;32mfrom\u001b[0m \u001b[0;34m.\u001b[0m\u001b[0mengine\u001b[0m \u001b[0;32mimport\u001b[0m \u001b[0mEngine\u001b[0m\u001b[0;34m,\u001b[0m \u001b[0mLocalEngine\u001b[0m\u001b[0;34m,\u001b[0m \u001b[0mRemoteEngine\u001b[0m\u001b[0;34m\u001b[0m\u001b[0;34m\u001b[0m\u001b[0m\n",
            "\u001b[0;32m/usr/local/lib/python3.11/dist-packages/strawberryfields/apps/__init__.py\u001b[0m in \u001b[0;36m<module>\u001b[0;34m\u001b[0m\n\u001b[1;32m     34\u001b[0m \u001b[0;32mimport\u001b[0m \u001b[0mstrawberryfields\u001b[0m\u001b[0;34m.\u001b[0m\u001b[0mapps\u001b[0m\u001b[0;34m.\u001b[0m\u001b[0mplot\u001b[0m\u001b[0;34m\u001b[0m\u001b[0;34m\u001b[0m\u001b[0m\n\u001b[1;32m     35\u001b[0m \u001b[0;32mimport\u001b[0m \u001b[0mstrawberryfields\u001b[0m\u001b[0;34m.\u001b[0m\u001b[0mapps\u001b[0m\u001b[0;34m.\u001b[0m\u001b[0mpoints\u001b[0m\u001b[0;34m\u001b[0m\u001b[0;34m\u001b[0m\u001b[0m\n\u001b[0;32m---> 36\u001b[0;31m \u001b[0;32mimport\u001b[0m \u001b[0mstrawberryfields\u001b[0m\u001b[0;34m.\u001b[0m\u001b[0mapps\u001b[0m\u001b[0;34m.\u001b[0m\u001b[0mqchem\u001b[0m\u001b[0;34m\u001b[0m\u001b[0;34m\u001b[0m\u001b[0m\n\u001b[0m\u001b[1;32m     37\u001b[0m \u001b[0;32mimport\u001b[0m \u001b[0mstrawberryfields\u001b[0m\u001b[0;34m.\u001b[0m\u001b[0mapps\u001b[0m\u001b[0;34m.\u001b[0m\u001b[0msample\u001b[0m\u001b[0;34m\u001b[0m\u001b[0;34m\u001b[0m\u001b[0m\n\u001b[1;32m     38\u001b[0m \u001b[0;32mimport\u001b[0m \u001b[0mstrawberryfields\u001b[0m\u001b[0;34m.\u001b[0m\u001b[0mapps\u001b[0m\u001b[0;34m.\u001b[0m\u001b[0msimilarity\u001b[0m\u001b[0;34m\u001b[0m\u001b[0;34m\u001b[0m\u001b[0m\n",
            "\u001b[0;32m/usr/local/lib/python3.11/dist-packages/strawberryfields/apps/qchem/__init__.py\u001b[0m in \u001b[0;36m<module>\u001b[0;34m\u001b[0m\n\u001b[1;32m     32\u001b[0m     \u001b[0mread_gamess\u001b[0m\u001b[0;34m\u001b[0m\u001b[0;34m\u001b[0m\u001b[0m\n\u001b[1;32m     33\u001b[0m \"\"\"\n\u001b[0;32m---> 34\u001b[0;31m \u001b[0;32mimport\u001b[0m \u001b[0mstrawberryfields\u001b[0m\u001b[0;34m.\u001b[0m\u001b[0mapps\u001b[0m\u001b[0;34m.\u001b[0m\u001b[0mqchem\u001b[0m\u001b[0;34m.\u001b[0m\u001b[0mdynamics\u001b[0m\u001b[0;34m\u001b[0m\u001b[0;34m\u001b[0m\u001b[0m\n\u001b[0m\u001b[1;32m     35\u001b[0m \u001b[0;32mimport\u001b[0m \u001b[0mstrawberryfields\u001b[0m\u001b[0;34m.\u001b[0m\u001b[0mapps\u001b[0m\u001b[0;34m.\u001b[0m\u001b[0mqchem\u001b[0m\u001b[0;34m.\u001b[0m\u001b[0mvibronic\u001b[0m\u001b[0;34m\u001b[0m\u001b[0;34m\u001b[0m\u001b[0m\n\u001b[1;32m     36\u001b[0m \u001b[0;32mfrom\u001b[0m \u001b[0mstrawberryfields\u001b[0m\u001b[0;34m.\u001b[0m\u001b[0mapps\u001b[0m\u001b[0;34m.\u001b[0m\u001b[0mqchem\u001b[0m\u001b[0;34m.\u001b[0m\u001b[0mutils\u001b[0m \u001b[0;32mimport\u001b[0m \u001b[0mduschinsky\u001b[0m\u001b[0;34m,\u001b[0m \u001b[0mread_gamess\u001b[0m\u001b[0;34m\u001b[0m\u001b[0;34m\u001b[0m\u001b[0m\n",
            "\u001b[0;32m/usr/local/lib/python3.11/dist-packages/strawberryfields/apps/qchem/dynamics.py\u001b[0m in \u001b[0;36m<module>\u001b[0;34m\u001b[0m\n\u001b[1;32m     71\u001b[0m \u001b[0;34m\u001b[0m\u001b[0m\n\u001b[1;32m     72\u001b[0m \u001b[0;32mimport\u001b[0m \u001b[0mstrawberryfields\u001b[0m \u001b[0;32mas\u001b[0m \u001b[0msf\u001b[0m\u001b[0;34m\u001b[0m\u001b[0;34m\u001b[0m\u001b[0m\n\u001b[0;32m---> 73\u001b[0;31m \u001b[0;32mfrom\u001b[0m \u001b[0mstrawberryfields\u001b[0m\u001b[0;34m.\u001b[0m\u001b[0mutils\u001b[0m \u001b[0;32mimport\u001b[0m \u001b[0moperation\u001b[0m\u001b[0;34m\u001b[0m\u001b[0;34m\u001b[0m\u001b[0m\n\u001b[0m\u001b[1;32m     74\u001b[0m \u001b[0;34m\u001b[0m\u001b[0m\n\u001b[1;32m     75\u001b[0m \u001b[0;34m\u001b[0m\u001b[0m\n",
            "\u001b[0;32m/usr/local/lib/python3.11/dist-packages/strawberryfields/utils/__init__.py\u001b[0m in \u001b[0;36m<module>\u001b[0;34m\u001b[0m\n\u001b[1;32m     19\u001b[0m \u001b[0;32mfrom\u001b[0m \u001b[0;34m.\u001b[0m\u001b[0mgbs_analysis\u001b[0m \u001b[0;32mimport\u001b[0m \u001b[0;34m*\u001b[0m\u001b[0;34m\u001b[0m\u001b[0;34m\u001b[0m\u001b[0m\n\u001b[1;32m     20\u001b[0m \u001b[0;32mfrom\u001b[0m \u001b[0;34m.\u001b[0m\u001b[0mpost_processing\u001b[0m \u001b[0;32mimport\u001b[0m \u001b[0;34m*\u001b[0m\u001b[0;34m\u001b[0m\u001b[0;34m\u001b[0m\u001b[0m\n\u001b[0;32m---> 21\u001b[0;31m \u001b[0;32mfrom\u001b[0m \u001b[0;34m.\u001b[0m\u001b[0mprogram_functions\u001b[0m \u001b[0;32mimport\u001b[0m \u001b[0;34m*\u001b[0m\u001b[0;34m\u001b[0m\u001b[0;34m\u001b[0m\u001b[0m\n\u001b[0m\u001b[1;32m     22\u001b[0m \u001b[0;32mfrom\u001b[0m \u001b[0;34m.\u001b[0m\u001b[0mrandom_numbers_matrices\u001b[0m \u001b[0;32mimport\u001b[0m \u001b[0;34m*\u001b[0m\u001b[0;34m\u001b[0m\u001b[0;34m\u001b[0m\u001b[0m\n\u001b[1;32m     23\u001b[0m \u001b[0;32mfrom\u001b[0m \u001b[0;34m.\u001b[0m\u001b[0mstates\u001b[0m \u001b[0;32mimport\u001b[0m \u001b[0;34m*\u001b[0m\u001b[0;34m\u001b[0m\u001b[0;34m\u001b[0m\u001b[0m\n",
            "\u001b[0;32m/usr/local/lib/python3.11/dist-packages/strawberryfields/utils/program_functions.py\u001b[0m in \u001b[0;36m<module>\u001b[0;34m\u001b[0m\n\u001b[1;32m     26\u001b[0m \u001b[0;32mimport\u001b[0m \u001b[0mnumpy\u001b[0m \u001b[0;32mas\u001b[0m \u001b[0mnp\u001b[0m\u001b[0;34m\u001b[0m\u001b[0;34m\u001b[0m\u001b[0m\n\u001b[1;32m     27\u001b[0m \u001b[0;34m\u001b[0m\u001b[0m\n\u001b[0;32m---> 28\u001b[0;31m \u001b[0;32mfrom\u001b[0m \u001b[0mstrawberryfields\u001b[0m\u001b[0;34m.\u001b[0m\u001b[0mengine\u001b[0m \u001b[0;32mimport\u001b[0m \u001b[0mLocalEngine\u001b[0m\u001b[0;34m\u001b[0m\u001b[0;34m\u001b[0m\u001b[0m\n\u001b[0m\u001b[1;32m     29\u001b[0m \u001b[0;32mfrom\u001b[0m \u001b[0mstrawberryfields\u001b[0m\u001b[0;34m.\u001b[0m\u001b[0mprogram_utils\u001b[0m \u001b[0;32mimport\u001b[0m \u001b[0mCommand\u001b[0m\u001b[0;34m\u001b[0m\u001b[0;34m\u001b[0m\u001b[0m\n\u001b[1;32m     30\u001b[0m \u001b[0;32mfrom\u001b[0m \u001b[0mstrawberryfields\u001b[0m\u001b[0;34m.\u001b[0m\u001b[0mops\u001b[0m \u001b[0;32mimport\u001b[0m \u001b[0mGate\u001b[0m\u001b[0;34m,\u001b[0m \u001b[0mChannel\u001b[0m\u001b[0;34m,\u001b[0m \u001b[0mKet\u001b[0m\u001b[0;34m\u001b[0m\u001b[0;34m\u001b[0m\u001b[0m\n",
            "\u001b[0;32m/usr/local/lib/python3.11/dist-packages/strawberryfields/engine.py\u001b[0m in \u001b[0;36m<module>\u001b[0;34m\u001b[0m\n\u001b[1;32m     27\u001b[0m \u001b[0;32mimport\u001b[0m \u001b[0mxcc\u001b[0m\u001b[0;34m\u001b[0m\u001b[0;34m\u001b[0m\u001b[0m\n\u001b[1;32m     28\u001b[0m \u001b[0;34m\u001b[0m\u001b[0m\n\u001b[0;32m---> 29\u001b[0;31m \u001b[0;32mfrom\u001b[0m \u001b[0mstrawberryfields\u001b[0m\u001b[0;34m.\u001b[0m\u001b[0mdevice\u001b[0m \u001b[0;32mimport\u001b[0m \u001b[0mDevice\u001b[0m\u001b[0;34m\u001b[0m\u001b[0;34m\u001b[0m\u001b[0m\n\u001b[0m\u001b[1;32m     30\u001b[0m \u001b[0;32mfrom\u001b[0m \u001b[0mstrawberryfields\u001b[0m\u001b[0;34m.\u001b[0m\u001b[0mresult\u001b[0m \u001b[0;32mimport\u001b[0m \u001b[0mResult\u001b[0m\u001b[0;34m\u001b[0m\u001b[0;34m\u001b[0m\u001b[0m\n\u001b[1;32m     31\u001b[0m \u001b[0;32mfrom\u001b[0m \u001b[0mstrawberryfields\u001b[0m\u001b[0;34m.\u001b[0m\u001b[0mio\u001b[0m \u001b[0;32mimport\u001b[0m \u001b[0mto_blackbird\u001b[0m\u001b[0;34m\u001b[0m\u001b[0;34m\u001b[0m\u001b[0m\n",
            "\u001b[0;32m/usr/local/lib/python3.11/dist-packages/strawberryfields/device.py\u001b[0m in \u001b[0;36m<module>\u001b[0;34m\u001b[0m\n\u001b[1;32m     21\u001b[0m \u001b[0;32mfrom\u001b[0m \u001b[0mblackbird\u001b[0m\u001b[0;34m.\u001b[0m\u001b[0merror\u001b[0m \u001b[0;32mimport\u001b[0m \u001b[0mBlackbirdSyntaxError\u001b[0m\u001b[0;34m\u001b[0m\u001b[0;34m\u001b[0m\u001b[0m\n\u001b[1;32m     22\u001b[0m \u001b[0;34m\u001b[0m\u001b[0m\n\u001b[0;32m---> 23\u001b[0;31m \u001b[0;32mfrom\u001b[0m \u001b[0mstrawberryfields\u001b[0m\u001b[0;34m.\u001b[0m\u001b[0mio\u001b[0m \u001b[0;32mimport\u001b[0m \u001b[0mto_program\u001b[0m\u001b[0;34m\u001b[0m\u001b[0;34m\u001b[0m\u001b[0m\n\u001b[0m\u001b[1;32m     24\u001b[0m \u001b[0;32mfrom\u001b[0m \u001b[0mstrawberryfields\u001b[0m\u001b[0;34m.\u001b[0m\u001b[0mcompilers\u001b[0m \u001b[0;32mimport\u001b[0m \u001b[0mRanges\u001b[0m\u001b[0;34m\u001b[0m\u001b[0;34m\u001b[0m\u001b[0m\n\u001b[1;32m     25\u001b[0m \u001b[0;34m\u001b[0m\u001b[0m\n",
            "\u001b[0;32m/usr/local/lib/python3.11/dist-packages/strawberryfields/io/__init__.py\u001b[0m in \u001b[0;36m<module>\u001b[0;34m\u001b[0m\n\u001b[1;32m     24\u001b[0m \u001b[0;32mimport\u001b[0m \u001b[0mblackbird\u001b[0m\u001b[0;34m\u001b[0m\u001b[0;34m\u001b[0m\u001b[0m\n\u001b[1;32m     25\u001b[0m \u001b[0;34m\u001b[0m\u001b[0m\n\u001b[0;32m---> 26\u001b[0;31m \u001b[0;32mfrom\u001b[0m \u001b[0mstrawberryfields\u001b[0m\u001b[0;34m.\u001b[0m\u001b[0mprogram\u001b[0m \u001b[0;32mimport\u001b[0m \u001b[0mProgram\u001b[0m\u001b[0;34m\u001b[0m\u001b[0;34m\u001b[0m\u001b[0m\n\u001b[0m\u001b[1;32m     27\u001b[0m \u001b[0;34m\u001b[0m\u001b[0m\n\u001b[1;32m     28\u001b[0m \u001b[0;32mfrom\u001b[0m \u001b[0;34m.\u001b[0m\u001b[0mblackbird_io\u001b[0m \u001b[0;32mimport\u001b[0m \u001b[0mto_blackbird\u001b[0m\u001b[0;34m,\u001b[0m \u001b[0mfrom_blackbird\u001b[0m\u001b[0;34m,\u001b[0m \u001b[0mfrom_blackbird_to_tdm\u001b[0m\u001b[0;34m\u001b[0m\u001b[0;34m\u001b[0m\u001b[0m\n",
            "\u001b[0;32m/usr/local/lib/python3.11/dist-packages/strawberryfields/program.py\u001b[0m in \u001b[0;36m<module>\u001b[0;34m\u001b[0m\n\u001b[1;32m     60\u001b[0m \u001b[0;34m\u001b[0m\u001b[0m\n\u001b[1;32m     61\u001b[0m \u001b[0;32mimport\u001b[0m \u001b[0mstrawberryfields\u001b[0m\u001b[0;34m.\u001b[0m\u001b[0mcircuitdrawer\u001b[0m \u001b[0;32mas\u001b[0m \u001b[0msfcd\u001b[0m\u001b[0;34m\u001b[0m\u001b[0;34m\u001b[0m\u001b[0m\n\u001b[0;32m---> 62\u001b[0;31m \u001b[0;32mfrom\u001b[0m \u001b[0mstrawberryfields\u001b[0m\u001b[0;34m.\u001b[0m\u001b[0mcompilers\u001b[0m \u001b[0;32mimport\u001b[0m \u001b[0mCompiler\u001b[0m\u001b[0;34m,\u001b[0m \u001b[0mcompiler_db\u001b[0m\u001b[0;34m\u001b[0m\u001b[0;34m\u001b[0m\u001b[0m\n\u001b[0m\u001b[1;32m     63\u001b[0m \u001b[0;32mimport\u001b[0m \u001b[0mstrawberryfields\u001b[0m\u001b[0;34m.\u001b[0m\u001b[0mprogram_utils\u001b[0m \u001b[0;32mas\u001b[0m \u001b[0mpu\u001b[0m\u001b[0;34m\u001b[0m\u001b[0;34m\u001b[0m\u001b[0m\n\u001b[1;32m     64\u001b[0m \u001b[0;34m\u001b[0m\u001b[0m\n",
            "\u001b[0;32m/usr/local/lib/python3.11/dist-packages/strawberryfields/compilers/__init__.py\u001b[0m in \u001b[0;36m<module>\u001b[0;34m\u001b[0m\n\u001b[1;32m     38\u001b[0m \"\"\"\n\u001b[1;32m     39\u001b[0m \u001b[0;32mfrom\u001b[0m \u001b[0;34m.\u001b[0m\u001b[0mcompiler\u001b[0m \u001b[0;32mimport\u001b[0m \u001b[0mCompiler\u001b[0m\u001b[0;34m,\u001b[0m \u001b[0mRanges\u001b[0m\u001b[0;34m\u001b[0m\u001b[0;34m\u001b[0m\u001b[0m\n\u001b[0;32m---> 40\u001b[0;31m \u001b[0;32mfrom\u001b[0m \u001b[0;34m.\u001b[0m\u001b[0mxcov\u001b[0m \u001b[0;32mimport\u001b[0m \u001b[0mXcov\u001b[0m\u001b[0;34m\u001b[0m\u001b[0;34m\u001b[0m\u001b[0m\n\u001b[0m\u001b[1;32m     41\u001b[0m \u001b[0;32mfrom\u001b[0m \u001b[0;34m.\u001b[0m\u001b[0mxstrict\u001b[0m \u001b[0;32mimport\u001b[0m \u001b[0mXstrict\u001b[0m\u001b[0;34m\u001b[0m\u001b[0;34m\u001b[0m\u001b[0m\n\u001b[1;32m     42\u001b[0m \u001b[0;32mfrom\u001b[0m \u001b[0;34m.\u001b[0m\u001b[0mxunitary\u001b[0m \u001b[0;32mimport\u001b[0m \u001b[0mXunitary\u001b[0m\u001b[0;34m\u001b[0m\u001b[0;34m\u001b[0m\u001b[0m\n",
            "\u001b[0;32m/usr/local/lib/python3.11/dist-packages/strawberryfields/compilers/xcov.py\u001b[0m in \u001b[0;36m<module>\u001b[0;34m\u001b[0m\n\u001b[1;32m     23\u001b[0m \u001b[0;32mfrom\u001b[0m \u001b[0mstrawberryfields\u001b[0m\u001b[0;34m.\u001b[0m\u001b[0mdecompositions\u001b[0m \u001b[0;32mimport\u001b[0m \u001b[0mtakagi\u001b[0m\u001b[0;34m\u001b[0m\u001b[0;34m\u001b[0m\u001b[0m\n\u001b[1;32m     24\u001b[0m \u001b[0;32mfrom\u001b[0m \u001b[0mstrawberryfields\u001b[0m\u001b[0;34m.\u001b[0m\u001b[0mprogram_utils\u001b[0m \u001b[0;32mimport\u001b[0m \u001b[0mCircuitError\u001b[0m\u001b[0;34m,\u001b[0m \u001b[0mCommand\u001b[0m\u001b[0;34m\u001b[0m\u001b[0;34m\u001b[0m\u001b[0m\n\u001b[0;32m---> 25\u001b[0;31m \u001b[0;32mimport\u001b[0m \u001b[0mstrawberryfields\u001b[0m\u001b[0;34m.\u001b[0m\u001b[0mops\u001b[0m \u001b[0;32mas\u001b[0m \u001b[0mops\u001b[0m\u001b[0;34m\u001b[0m\u001b[0;34m\u001b[0m\u001b[0m\n\u001b[0m\u001b[1;32m     26\u001b[0m \u001b[0;34m\u001b[0m\u001b[0m\n\u001b[1;32m     27\u001b[0m \u001b[0;32mfrom\u001b[0m \u001b[0;34m.\u001b[0m\u001b[0mcompiler\u001b[0m \u001b[0;32mimport\u001b[0m \u001b[0mCompiler\u001b[0m\u001b[0;34m\u001b[0m\u001b[0;34m\u001b[0m\u001b[0m\n",
            "\u001b[0;32m/usr/local/lib/python3.11/dist-packages/strawberryfields/ops.py\u001b[0m in \u001b[0;36m<module>\u001b[0;34m\u001b[0m\n\u001b[1;32m     31\u001b[0m \u001b[0;32mimport\u001b[0m \u001b[0mstrawberryfields\u001b[0m\u001b[0;34m.\u001b[0m\u001b[0mprogram_utils\u001b[0m \u001b[0;32mas\u001b[0m \u001b[0mpu\u001b[0m\u001b[0;34m\u001b[0m\u001b[0;34m\u001b[0m\u001b[0m\n\u001b[1;32m     32\u001b[0m \u001b[0;32mimport\u001b[0m \u001b[0mstrawberryfields\u001b[0m\u001b[0;34m.\u001b[0m\u001b[0mdecompositions\u001b[0m \u001b[0;32mas\u001b[0m \u001b[0mdec\u001b[0m\u001b[0;34m\u001b[0m\u001b[0;34m\u001b[0m\u001b[0m\n\u001b[0;32m---> 33\u001b[0;31m \u001b[0;32mfrom\u001b[0m \u001b[0;34m.\u001b[0m\u001b[0mbackends\u001b[0m\u001b[0;34m.\u001b[0m\u001b[0mstates\u001b[0m \u001b[0;32mimport\u001b[0m \u001b[0mBaseFockState\u001b[0m\u001b[0;34m,\u001b[0m \u001b[0mBaseGaussianState\u001b[0m\u001b[0;34m,\u001b[0m \u001b[0mBaseBosonicState\u001b[0m\u001b[0;34m\u001b[0m\u001b[0;34m\u001b[0m\u001b[0m\n\u001b[0m\u001b[1;32m     34\u001b[0m \u001b[0;32mfrom\u001b[0m \u001b[0;34m.\u001b[0m\u001b[0mprogram_utils\u001b[0m \u001b[0;32mimport\u001b[0m \u001b[0mCommand\u001b[0m\u001b[0;34m,\u001b[0m \u001b[0mRegRef\u001b[0m\u001b[0;34m,\u001b[0m \u001b[0mMergeFailure\u001b[0m\u001b[0;34m\u001b[0m\u001b[0;34m\u001b[0m\u001b[0m\n\u001b[1;32m     35\u001b[0m from .parameters import (\n",
            "\u001b[0;32m/usr/local/lib/python3.11/dist-packages/strawberryfields/backends/__init__.py\u001b[0m in \u001b[0;36m<module>\u001b[0;34m\u001b[0m\n\u001b[1;32m     70\u001b[0m \u001b[0;34m\u001b[0m\u001b[0m\n\u001b[1;32m     71\u001b[0m \u001b[0;32mfrom\u001b[0m \u001b[0;34m.\u001b[0m\u001b[0mbase\u001b[0m \u001b[0;32mimport\u001b[0m \u001b[0mBaseBackend\u001b[0m\u001b[0;34m,\u001b[0m \u001b[0mBaseFock\u001b[0m\u001b[0;34m,\u001b[0m \u001b[0mBaseGaussian\u001b[0m\u001b[0;34m,\u001b[0m \u001b[0mBaseBosonic\u001b[0m\u001b[0;34m,\u001b[0m \u001b[0mModeMap\u001b[0m\u001b[0;34m\u001b[0m\u001b[0;34m\u001b[0m\u001b[0m\n\u001b[0;32m---> 72\u001b[0;31m \u001b[0;32mfrom\u001b[0m \u001b[0;34m.\u001b[0m\u001b[0mgaussianbackend\u001b[0m \u001b[0;32mimport\u001b[0m \u001b[0mGaussianBackend\u001b[0m\u001b[0;34m\u001b[0m\u001b[0;34m\u001b[0m\u001b[0m\n\u001b[0m\u001b[1;32m     73\u001b[0m \u001b[0;32mfrom\u001b[0m \u001b[0;34m.\u001b[0m\u001b[0mfockbackend\u001b[0m \u001b[0;32mimport\u001b[0m \u001b[0mFockBackend\u001b[0m\u001b[0;34m\u001b[0m\u001b[0;34m\u001b[0m\u001b[0m\n\u001b[1;32m     74\u001b[0m \u001b[0;32mfrom\u001b[0m \u001b[0;34m.\u001b[0m\u001b[0mbosonicbackend\u001b[0m \u001b[0;32mimport\u001b[0m \u001b[0mBosonicBackend\u001b[0m\u001b[0;34m\u001b[0m\u001b[0;34m\u001b[0m\u001b[0m\n",
            "\u001b[0;32m/usr/local/lib/python3.11/dist-packages/strawberryfields/backends/gaussianbackend/__init__.py\u001b[0m in \u001b[0;36m<module>\u001b[0;34m\u001b[0m\n\u001b[1;32m     14\u001b[0m \u001b[0;34mr\"\"\"Gaussian simulator backend\"\"\"\u001b[0m\u001b[0;34m\u001b[0m\u001b[0;34m\u001b[0m\u001b[0m\n\u001b[1;32m     15\u001b[0m \u001b[0;34m\u001b[0m\u001b[0m\n\u001b[0;32m---> 16\u001b[0;31m \u001b[0;32mfrom\u001b[0m \u001b[0;34m.\u001b[0m\u001b[0mbackend\u001b[0m \u001b[0;32mimport\u001b[0m \u001b[0mGaussianBackend\u001b[0m\u001b[0;34m\u001b[0m\u001b[0;34m\u001b[0m\u001b[0m\n\u001b[0m",
            "\u001b[0;32m/usr/local/lib/python3.11/dist-packages/strawberryfields/backends/gaussianbackend/backend.py\u001b[0m in \u001b[0;36m<module>\u001b[0;34m\u001b[0m\n\u001b[1;32m     21\u001b[0m \u001b[0;34m\u001b[0m\u001b[0m\n\u001b[1;32m     22\u001b[0m \u001b[0;32mfrom\u001b[0m \u001b[0mstrawberryfields\u001b[0m\u001b[0;34m.\u001b[0m\u001b[0mbackends\u001b[0m \u001b[0;32mimport\u001b[0m \u001b[0mBaseGaussian\u001b[0m\u001b[0;34m\u001b[0m\u001b[0;34m\u001b[0m\u001b[0m\n\u001b[0;32m---> 23\u001b[0;31m \u001b[0;32mfrom\u001b[0m \u001b[0mstrawberryfields\u001b[0m\u001b[0;34m.\u001b[0m\u001b[0mbackends\u001b[0m\u001b[0;34m.\u001b[0m\u001b[0mstates\u001b[0m \u001b[0;32mimport\u001b[0m \u001b[0mBaseGaussianState\u001b[0m\u001b[0;34m\u001b[0m\u001b[0;34m\u001b[0m\u001b[0m\n\u001b[0m\u001b[1;32m     24\u001b[0m \u001b[0;34m\u001b[0m\u001b[0m\n\u001b[1;32m     25\u001b[0m \u001b[0;32mfrom\u001b[0m \u001b[0;34m.\u001b[0m\u001b[0mgaussiancircuit\u001b[0m \u001b[0;32mimport\u001b[0m \u001b[0mGaussianModes\u001b[0m\u001b[0;34m\u001b[0m\u001b[0;34m\u001b[0m\u001b[0m\n",
            "\u001b[0;32m/usr/local/lib/python3.11/dist-packages/strawberryfields/backends/states.py\u001b[0m in \u001b[0;36m<module>\u001b[0;34m\u001b[0m\n\u001b[1;32m     25\u001b[0m \u001b[0;32mfrom\u001b[0m \u001b[0mscipy\u001b[0m\u001b[0;34m.\u001b[0m\u001b[0mstats\u001b[0m \u001b[0;32mimport\u001b[0m \u001b[0mmultivariate_normal\u001b[0m\u001b[0;34m\u001b[0m\u001b[0;34m\u001b[0m\u001b[0m\n\u001b[1;32m     26\u001b[0m \u001b[0;32mfrom\u001b[0m \u001b[0mscipy\u001b[0m\u001b[0;34m.\u001b[0m\u001b[0mspecial\u001b[0m \u001b[0;32mimport\u001b[0m \u001b[0mfactorial\u001b[0m\u001b[0;34m\u001b[0m\u001b[0;34m\u001b[0m\u001b[0m\n\u001b[0;32m---> 27\u001b[0;31m \u001b[0;32mfrom\u001b[0m \u001b[0mscipy\u001b[0m\u001b[0;34m.\u001b[0m\u001b[0mintegrate\u001b[0m \u001b[0;32mimport\u001b[0m \u001b[0msimps\u001b[0m\u001b[0;34m\u001b[0m\u001b[0;34m\u001b[0m\u001b[0m\n\u001b[0m\u001b[1;32m     28\u001b[0m \u001b[0;34m\u001b[0m\u001b[0m\n\u001b[1;32m     29\u001b[0m \u001b[0;32mfrom\u001b[0m \u001b[0mthewalrus\u001b[0m\u001b[0;34m.\u001b[0m\u001b[0msymplectic\u001b[0m \u001b[0;32mimport\u001b[0m \u001b[0mrotation\u001b[0m \u001b[0;32mas\u001b[0m \u001b[0m_R\u001b[0m\u001b[0;34m\u001b[0m\u001b[0;34m\u001b[0m\u001b[0m\n",
            "\u001b[0;31mImportError\u001b[0m: cannot import name 'simps' from 'scipy.integrate' (/usr/local/lib/python3.11/dist-packages/scipy/integrate/__init__.py)",
            "",
            "\u001b[0;31m---------------------------------------------------------------------------\u001b[0;32m\nNOTE: If your import is failing due to a missing package, you can\nmanually install dependencies using either !pip or !apt.\n\nTo view examples of installing some common dependencies, click the\n\"Open Examples\" button below.\n\u001b[0;31m---------------------------------------------------------------------------\u001b[0m\n"
          ],
          "errorDetails": {
            "actions": [
              {
                "action": "open_url",
                "actionText": "Open Examples",
                "url": "/notebooks/snippets/importing_libraries.ipynb"
              }
            ]
          }
        }
      ]
    },
    {
      "cell_type": "code",
      "source": [
        "!pip install strawberryfields\n",
        "\n",
        "import strawberryfields as sf\n",
        "from strawberryfields.ops import *\n",
        "import numpy as np\n",
        "import matplotlib.pyplot as plt\n",
        "\n",
        "# Number of modes\n",
        "N_MODES = 6\n",
        "# Squeezing parameter\n",
        "r = 0.5\n",
        "\n",
        "# Create a Strawberry Fields quantum program\n",
        "prog = sf.Program(N_MODES)\n",
        "\n",
        "# Generate a random unitary interferometer\n",
        "np.random.seed(42)  # For reproducibility\n",
        "U = np.linalg.qr(np.random.randn(N_MODES, N_MODES))[0]  # Haar-random unitary\n",
        "\n",
        "# Define the quantum circuit\n",
        "with prog.context as q:\n",
        "    # Apply squeezed vacuum states to all modes\n",
        "    for i in range(N_MODES):\n",
        "        Sgate(r) | q[i]\n",
        "\n",
        "    # Apply the interferometer\n",
        "    Interferometer(U) | q\n",
        "\n",
        "    # Measure in photon number basis\n",
        "    MeasureFock() | q\n",
        "\n",
        "# Initialize the engine (Gaussian Boson Sampling)\n",
        "eng = sf.Engine(\"fock\", backend_options={\"cutoff_dim\": 10})  # Truncation at 10 photons\n",
        "\n",
        "# Run the circuit multiple times to get photon statistics\n",
        "num_samples = 1000\n",
        "results = eng.run(prog, shots=num_samples)\n",
        "counts = results.samples\n",
        "\n",
        "# Convert counts into a histogram\n",
        "unique, counts = np.unique(counts, axis=0, return_counts=True)\n",
        "\n",
        "# Plot photon count statistics\n",
        "plt.figure(figsize=(10, 5))\n",
        "plt.bar(range(len(counts)), counts, color='blue', alpha=0.7)\n",
        "plt.xlabel(\"Photon Count Configuration\")\n",
        "plt.ylabel(\"Frequency\")\n",
        "plt.title(\"Gaussian Boson Sampling Output Distribution\")\n",
        "plt.show()\n"
      ],
      "metadata": {
        "colab": {
          "base_uri": "https://localhost:8080/",
          "height": 1000
        },
        "id": "v8uf0Yrvn2cu",
        "outputId": "0d3b104f-a0a1-4e13-de4b-a1b8276d5622"
      },
      "execution_count": 20,
      "outputs": [
        {
          "output_type": "stream",
          "name": "stdout",
          "text": [
            "Collecting strawberryfields\n",
            "  Downloading StrawberryFields-0.23.0-py3-none-any.whl.metadata (7.6 kB)\n",
            "Requirement already satisfied: networkx>=2.0 in /usr/local/lib/python3.11/dist-packages (from strawberryfields) (3.4.2)\n",
            "Requirement already satisfied: numba in /usr/local/lib/python3.11/dist-packages (from strawberryfields) (0.60.0)\n",
            "Requirement already satisfied: numpy>=1.17.4 in /usr/local/lib/python3.11/dist-packages (from strawberryfields) (2.0.2)\n",
            "Requirement already satisfied: python-dateutil>=2.8.0 in /usr/local/lib/python3.11/dist-packages (from strawberryfields) (2.8.2)\n",
            "Collecting quantum-blackbird>=0.3.0 (from strawberryfields)\n",
            "  Downloading quantum_blackbird-0.5.0-py3-none-any.whl.metadata (4.6 kB)\n",
            "Requirement already satisfied: requests>=2.22.0 in /usr/local/lib/python3.11/dist-packages (from strawberryfields) (2.32.3)\n",
            "Requirement already satisfied: scipy>=1.0.0 in /usr/local/lib/python3.11/dist-packages (from strawberryfields) (1.14.1)\n",
            "Requirement already satisfied: sympy>=1.5 in /usr/local/lib/python3.11/dist-packages (from strawberryfields) (1.13.1)\n",
            "Collecting thewalrus>=0.18.0 (from strawberryfields)\n",
            "  Downloading thewalrus-0.21.0-py3-none-any.whl.metadata (6.2 kB)\n",
            "Requirement already satisfied: toml in /usr/local/lib/python3.11/dist-packages (from strawberryfields) (0.10.2)\n",
            "Requirement already satisfied: urllib3>=1.25.3 in /usr/local/lib/python3.11/dist-packages (from strawberryfields) (2.3.0)\n",
            "Collecting quantum-xir>=0.1.1 (from strawberryfields)\n",
            "  Downloading quantum_xir-0.2.2-py3-none-any.whl.metadata (4.1 kB)\n",
            "Collecting xanadu-cloud-client>=0.2.1 (from strawberryfields)\n",
            "  Downloading xanadu_cloud_client-0.3.2-py3-none-any.whl.metadata (8.3 kB)\n",
            "Requirement already satisfied: six>=1.5 in /usr/local/lib/python3.11/dist-packages (from python-dateutil>=2.8.0->strawberryfields) (1.17.0)\n",
            "Collecting antlr4-python3-runtime==4.9.2 (from quantum-blackbird>=0.3.0->strawberryfields)\n",
            "  Downloading antlr4-python3-runtime-4.9.2.tar.gz (117 kB)\n",
            "\u001b[2K     \u001b[90m━━━━━━━━━━━━━━━━━━━━━━━━━━━━━━━━━━━━━━━━\u001b[0m \u001b[32m117.2/117.2 kB\u001b[0m \u001b[31m4.3 MB/s\u001b[0m eta \u001b[36m0:00:00\u001b[0m\n",
            "\u001b[?25h  Preparing metadata (setup.py) ... \u001b[?25l\u001b[?25hdone\n",
            "Collecting lark-parser>=0.11.0 (from quantum-xir>=0.1.1->strawberryfields)\n",
            "  Downloading lark_parser-0.12.0-py2.py3-none-any.whl.metadata (1.7 kB)\n",
            "Requirement already satisfied: charset-normalizer<4,>=2 in /usr/local/lib/python3.11/dist-packages (from requests>=2.22.0->strawberryfields) (3.4.1)\n",
            "Requirement already satisfied: idna<4,>=2.5 in /usr/local/lib/python3.11/dist-packages (from requests>=2.22.0->strawberryfields) (3.10)\n",
            "Requirement already satisfied: certifi>=2017.4.17 in /usr/local/lib/python3.11/dist-packages (from requests>=2.22.0->strawberryfields) (2025.1.31)\n",
            "Requirement already satisfied: mpmath<1.4,>=1.1.0 in /usr/local/lib/python3.11/dist-packages (from sympy>=1.5->strawberryfields) (1.3.0)\n",
            "Requirement already satisfied: dask[delayed] in /usr/local/lib/python3.11/dist-packages (from thewalrus>=0.18.0->strawberryfields) (2024.12.1)\n",
            "Requirement already satisfied: llvmlite<0.44,>=0.43.0dev0 in /usr/local/lib/python3.11/dist-packages (from numba->strawberryfields) (0.43.0)\n",
            "Collecting appdirs (from xanadu-cloud-client>=0.2.1->strawberryfields)\n",
            "  Downloading appdirs-1.4.4-py2.py3-none-any.whl.metadata (9.0 kB)\n",
            "Collecting fire (from xanadu-cloud-client>=0.2.1->strawberryfields)\n",
            "  Downloading fire-0.7.0.tar.gz (87 kB)\n",
            "\u001b[2K     \u001b[90m━━━━━━━━━━━━━━━━━━━━━━━━━━━━━━━━━━━━━━━━\u001b[0m \u001b[32m87.2/87.2 kB\u001b[0m \u001b[31m5.0 MB/s\u001b[0m eta \u001b[36m0:00:00\u001b[0m\n",
            "\u001b[?25h  Preparing metadata (setup.py) ... \u001b[?25l\u001b[?25hdone\n",
            "Requirement already satisfied: pydantic>=2 in /usr/local/lib/python3.11/dist-packages (from xanadu-cloud-client>=0.2.1->strawberryfields) (2.11.0)\n",
            "Collecting pydantic-settings (from xanadu-cloud-client>=0.2.1->strawberryfields)\n",
            "  Downloading pydantic_settings-2.8.1-py3-none-any.whl.metadata (3.5 kB)\n",
            "Collecting python-dotenv (from xanadu-cloud-client>=0.2.1->strawberryfields)\n",
            "  Downloading python_dotenv-1.1.0-py3-none-any.whl.metadata (24 kB)\n",
            "Requirement already satisfied: annotated-types>=0.6.0 in /usr/local/lib/python3.11/dist-packages (from pydantic>=2->xanadu-cloud-client>=0.2.1->strawberryfields) (0.7.0)\n",
            "Requirement already satisfied: pydantic-core==2.33.0 in /usr/local/lib/python3.11/dist-packages (from pydantic>=2->xanadu-cloud-client>=0.2.1->strawberryfields) (2.33.0)\n",
            "Requirement already satisfied: typing-extensions>=4.12.2 in /usr/local/lib/python3.11/dist-packages (from pydantic>=2->xanadu-cloud-client>=0.2.1->strawberryfields) (4.13.0)\n",
            "Requirement already satisfied: typing-inspection>=0.4.0 in /usr/local/lib/python3.11/dist-packages (from pydantic>=2->xanadu-cloud-client>=0.2.1->strawberryfields) (0.4.0)\n",
            "Requirement already satisfied: click>=8.1 in /usr/local/lib/python3.11/dist-packages (from dask[delayed]->thewalrus>=0.18.0->strawberryfields) (8.1.8)\n",
            "Requirement already satisfied: cloudpickle>=3.0.0 in /usr/local/lib/python3.11/dist-packages (from dask[delayed]->thewalrus>=0.18.0->strawberryfields) (3.1.1)\n",
            "Requirement already satisfied: fsspec>=2021.09.0 in /usr/local/lib/python3.11/dist-packages (from dask[delayed]->thewalrus>=0.18.0->strawberryfields) (2025.3.0)\n",
            "Requirement already satisfied: packaging>=20.0 in /usr/local/lib/python3.11/dist-packages (from dask[delayed]->thewalrus>=0.18.0->strawberryfields) (24.2)\n",
            "Requirement already satisfied: partd>=1.4.0 in /usr/local/lib/python3.11/dist-packages (from dask[delayed]->thewalrus>=0.18.0->strawberryfields) (1.4.2)\n",
            "Requirement already satisfied: pyyaml>=5.3.1 in /usr/local/lib/python3.11/dist-packages (from dask[delayed]->thewalrus>=0.18.0->strawberryfields) (6.0.2)\n",
            "Requirement already satisfied: toolz>=0.10.0 in /usr/local/lib/python3.11/dist-packages (from dask[delayed]->thewalrus>=0.18.0->strawberryfields) (0.12.1)\n",
            "Requirement already satisfied: importlib_metadata>=4.13.0 in /usr/local/lib/python3.11/dist-packages (from dask[delayed]->thewalrus>=0.18.0->strawberryfields) (8.6.1)\n",
            "Requirement already satisfied: termcolor in /usr/local/lib/python3.11/dist-packages (from fire->xanadu-cloud-client>=0.2.1->strawberryfields) (2.5.0)\n",
            "Requirement already satisfied: zipp>=3.20 in /usr/local/lib/python3.11/dist-packages (from importlib_metadata>=4.13.0->dask[delayed]->thewalrus>=0.18.0->strawberryfields) (3.21.0)\n",
            "Requirement already satisfied: locket in /usr/local/lib/python3.11/dist-packages (from partd>=1.4.0->dask[delayed]->thewalrus>=0.18.0->strawberryfields) (1.0.0)\n",
            "Downloading StrawberryFields-0.23.0-py3-none-any.whl (4.9 MB)\n",
            "\u001b[2K   \u001b[90m━━━━━━━━━━━━━━━━━━━━━━━━━━━━━━━━━━━━━━━━\u001b[0m \u001b[32m4.9/4.9 MB\u001b[0m \u001b[31m12.6 MB/s\u001b[0m eta \u001b[36m0:00:00\u001b[0m\n",
            "\u001b[?25hDownloading quantum_blackbird-0.5.0-py3-none-any.whl (48 kB)\n",
            "\u001b[2K   \u001b[90m━━━━━━━━━━━━━━━━━━━━━━━━━━━━━━━━━━━━━━━━\u001b[0m \u001b[32m48.0/48.0 kB\u001b[0m \u001b[31m3.0 MB/s\u001b[0m eta \u001b[36m0:00:00\u001b[0m\n",
            "\u001b[?25hDownloading quantum_xir-0.2.2-py3-none-any.whl (27 kB)\n",
            "Downloading thewalrus-0.21.0-py3-none-any.whl (94 kB)\n",
            "\u001b[2K   \u001b[90m━━━━━━━━━━━━━━━━━━━━━━━━━━━━━━━━━━━━━━━━\u001b[0m \u001b[32m94.7/94.7 kB\u001b[0m \u001b[31m6.2 MB/s\u001b[0m eta \u001b[36m0:00:00\u001b[0m\n",
            "\u001b[?25hDownloading xanadu_cloud_client-0.3.2-py3-none-any.whl (25 kB)\n",
            "Downloading lark_parser-0.12.0-py2.py3-none-any.whl (103 kB)\n",
            "\u001b[2K   \u001b[90m━━━━━━━━━━━━━━━━━━━━━━━━━━━━━━━━━━━━━━━━\u001b[0m \u001b[32m103.5/103.5 kB\u001b[0m \u001b[31m7.7 MB/s\u001b[0m eta \u001b[36m0:00:00\u001b[0m\n",
            "\u001b[?25hDownloading appdirs-1.4.4-py2.py3-none-any.whl (9.6 kB)\n",
            "Downloading pydantic_settings-2.8.1-py3-none-any.whl (30 kB)\n",
            "Downloading python_dotenv-1.1.0-py3-none-any.whl (20 kB)\n",
            "Building wheels for collected packages: antlr4-python3-runtime, fire\n",
            "  Building wheel for antlr4-python3-runtime (setup.py) ... \u001b[?25l\u001b[?25hdone\n",
            "  Created wheel for antlr4-python3-runtime: filename=antlr4_python3_runtime-4.9.2-py3-none-any.whl size=144544 sha256=2448e4927ef3a8ec5423b8e2d5b871acea36ac685c60abc3d6619dcfd1cb554a\n",
            "  Stored in directory: /root/.cache/pip/wheels/02/5e/de/90c5aab11b66f94cf3f381ec55aaf3f2008213a7056310e25f\n",
            "  Building wheel for fire (setup.py) ... \u001b[?25l\u001b[?25hdone\n",
            "  Created wheel for fire: filename=fire-0.7.0-py3-none-any.whl size=114249 sha256=794657c2ad681b0c99fc33945cce8bae6231b5a4a081f9eeab67d8e4f8633977\n",
            "  Stored in directory: /root/.cache/pip/wheels/46/54/24/1624fd5b8674eb1188623f7e8e17cdf7c0f6c24b609dfb8a89\n",
            "Successfully built antlr4-python3-runtime fire\n",
            "Installing collected packages: lark-parser, appdirs, antlr4-python3-runtime, quantum-xir, python-dotenv, fire, quantum-blackbird, pydantic-settings, xanadu-cloud-client, thewalrus, strawberryfields\n",
            "Successfully installed antlr4-python3-runtime-4.9.2 appdirs-1.4.4 fire-0.7.0 lark-parser-0.12.0 pydantic-settings-2.8.1 python-dotenv-1.1.0 quantum-blackbird-0.5.0 quantum-xir-0.2.2 strawberryfields-0.23.0 thewalrus-0.21.0 xanadu-cloud-client-0.3.2\n"
          ]
        },
        {
          "output_type": "error",
          "ename": "ImportError",
          "evalue": "cannot import name 'simps' from 'scipy.integrate' (/usr/local/lib/python3.11/dist-packages/scipy/integrate/__init__.py)",
          "traceback": [
            "\u001b[0;31m---------------------------------------------------------------------------\u001b[0m",
            "\u001b[0;31mImportError\u001b[0m                               Traceback (most recent call last)",
            "\u001b[0;32m<ipython-input-20-555f9ebe21aa>\u001b[0m in \u001b[0;36m<cell line: 0>\u001b[0;34m()\u001b[0m\n\u001b[1;32m      1\u001b[0m \u001b[0mget_ipython\u001b[0m\u001b[0;34m(\u001b[0m\u001b[0;34m)\u001b[0m\u001b[0;34m.\u001b[0m\u001b[0msystem\u001b[0m\u001b[0;34m(\u001b[0m\u001b[0;34m'pip install strawberryfields'\u001b[0m\u001b[0;34m)\u001b[0m\u001b[0;34m\u001b[0m\u001b[0;34m\u001b[0m\u001b[0m\n\u001b[1;32m      2\u001b[0m \u001b[0;34m\u001b[0m\u001b[0m\n\u001b[0;32m----> 3\u001b[0;31m \u001b[0;32mimport\u001b[0m \u001b[0mstrawberryfields\u001b[0m \u001b[0;32mas\u001b[0m \u001b[0msf\u001b[0m\u001b[0;34m\u001b[0m\u001b[0;34m\u001b[0m\u001b[0m\n\u001b[0m\u001b[1;32m      4\u001b[0m \u001b[0;32mfrom\u001b[0m \u001b[0mstrawberryfields\u001b[0m\u001b[0;34m.\u001b[0m\u001b[0mops\u001b[0m \u001b[0;32mimport\u001b[0m \u001b[0;34m*\u001b[0m\u001b[0;34m\u001b[0m\u001b[0;34m\u001b[0m\u001b[0m\n\u001b[1;32m      5\u001b[0m \u001b[0;32mimport\u001b[0m \u001b[0mnumpy\u001b[0m \u001b[0;32mas\u001b[0m \u001b[0mnp\u001b[0m\u001b[0;34m\u001b[0m\u001b[0;34m\u001b[0m\u001b[0m\n",
            "\u001b[0;32m/usr/local/lib/python3.11/dist-packages/strawberryfields/__init__.py\u001b[0m in \u001b[0;36m<module>\u001b[0;34m\u001b[0m\n\u001b[1;32m     22\u001b[0m     \u001b[0;34m:\u001b[0m\u001b[0mtarget\u001b[0m\u001b[0;34m:\u001b[0m \u001b[0mjavascript\u001b[0m\u001b[0;34m:\u001b[0m\u001b[0mvoid\u001b[0m\u001b[0;34m(\u001b[0m\u001b[0;36m0\u001b[0m\u001b[0;34m)\u001b[0m\u001b[0;34m;\u001b[0m\u001b[0;34m\u001b[0m\u001b[0;34m\u001b[0m\u001b[0m\n\u001b[1;32m     23\u001b[0m \"\"\"\n\u001b[0;32m---> 24\u001b[0;31m \u001b[0;32mfrom\u001b[0m \u001b[0;34m.\u001b[0m \u001b[0;32mimport\u001b[0m \u001b[0mapps\u001b[0m\u001b[0;34m\u001b[0m\u001b[0;34m\u001b[0m\u001b[0m\n\u001b[0m\u001b[1;32m     25\u001b[0m \u001b[0;32mfrom\u001b[0m \u001b[0;34m.\u001b[0m\u001b[0m_version\u001b[0m \u001b[0;32mimport\u001b[0m \u001b[0m__version__\u001b[0m\u001b[0;34m\u001b[0m\u001b[0;34m\u001b[0m\u001b[0m\n\u001b[1;32m     26\u001b[0m \u001b[0;32mfrom\u001b[0m \u001b[0;34m.\u001b[0m\u001b[0mengine\u001b[0m \u001b[0;32mimport\u001b[0m \u001b[0mEngine\u001b[0m\u001b[0;34m,\u001b[0m \u001b[0mLocalEngine\u001b[0m\u001b[0;34m,\u001b[0m \u001b[0mRemoteEngine\u001b[0m\u001b[0;34m\u001b[0m\u001b[0;34m\u001b[0m\u001b[0m\n",
            "\u001b[0;32m/usr/local/lib/python3.11/dist-packages/strawberryfields/apps/__init__.py\u001b[0m in \u001b[0;36m<module>\u001b[0;34m\u001b[0m\n\u001b[1;32m     34\u001b[0m \u001b[0;32mimport\u001b[0m \u001b[0mstrawberryfields\u001b[0m\u001b[0;34m.\u001b[0m\u001b[0mapps\u001b[0m\u001b[0;34m.\u001b[0m\u001b[0mplot\u001b[0m\u001b[0;34m\u001b[0m\u001b[0;34m\u001b[0m\u001b[0m\n\u001b[1;32m     35\u001b[0m \u001b[0;32mimport\u001b[0m \u001b[0mstrawberryfields\u001b[0m\u001b[0;34m.\u001b[0m\u001b[0mapps\u001b[0m\u001b[0;34m.\u001b[0m\u001b[0mpoints\u001b[0m\u001b[0;34m\u001b[0m\u001b[0;34m\u001b[0m\u001b[0m\n\u001b[0;32m---> 36\u001b[0;31m \u001b[0;32mimport\u001b[0m \u001b[0mstrawberryfields\u001b[0m\u001b[0;34m.\u001b[0m\u001b[0mapps\u001b[0m\u001b[0;34m.\u001b[0m\u001b[0mqchem\u001b[0m\u001b[0;34m\u001b[0m\u001b[0;34m\u001b[0m\u001b[0m\n\u001b[0m\u001b[1;32m     37\u001b[0m \u001b[0;32mimport\u001b[0m \u001b[0mstrawberryfields\u001b[0m\u001b[0;34m.\u001b[0m\u001b[0mapps\u001b[0m\u001b[0;34m.\u001b[0m\u001b[0msample\u001b[0m\u001b[0;34m\u001b[0m\u001b[0;34m\u001b[0m\u001b[0m\n\u001b[1;32m     38\u001b[0m \u001b[0;32mimport\u001b[0m \u001b[0mstrawberryfields\u001b[0m\u001b[0;34m.\u001b[0m\u001b[0mapps\u001b[0m\u001b[0;34m.\u001b[0m\u001b[0msimilarity\u001b[0m\u001b[0;34m\u001b[0m\u001b[0;34m\u001b[0m\u001b[0m\n",
            "\u001b[0;32m/usr/local/lib/python3.11/dist-packages/strawberryfields/apps/qchem/__init__.py\u001b[0m in \u001b[0;36m<module>\u001b[0;34m\u001b[0m\n\u001b[1;32m     32\u001b[0m     \u001b[0mread_gamess\u001b[0m\u001b[0;34m\u001b[0m\u001b[0;34m\u001b[0m\u001b[0m\n\u001b[1;32m     33\u001b[0m \"\"\"\n\u001b[0;32m---> 34\u001b[0;31m \u001b[0;32mimport\u001b[0m \u001b[0mstrawberryfields\u001b[0m\u001b[0;34m.\u001b[0m\u001b[0mapps\u001b[0m\u001b[0;34m.\u001b[0m\u001b[0mqchem\u001b[0m\u001b[0;34m.\u001b[0m\u001b[0mdynamics\u001b[0m\u001b[0;34m\u001b[0m\u001b[0;34m\u001b[0m\u001b[0m\n\u001b[0m\u001b[1;32m     35\u001b[0m \u001b[0;32mimport\u001b[0m \u001b[0mstrawberryfields\u001b[0m\u001b[0;34m.\u001b[0m\u001b[0mapps\u001b[0m\u001b[0;34m.\u001b[0m\u001b[0mqchem\u001b[0m\u001b[0;34m.\u001b[0m\u001b[0mvibronic\u001b[0m\u001b[0;34m\u001b[0m\u001b[0;34m\u001b[0m\u001b[0m\n\u001b[1;32m     36\u001b[0m \u001b[0;32mfrom\u001b[0m \u001b[0mstrawberryfields\u001b[0m\u001b[0;34m.\u001b[0m\u001b[0mapps\u001b[0m\u001b[0;34m.\u001b[0m\u001b[0mqchem\u001b[0m\u001b[0;34m.\u001b[0m\u001b[0mutils\u001b[0m \u001b[0;32mimport\u001b[0m \u001b[0mduschinsky\u001b[0m\u001b[0;34m,\u001b[0m \u001b[0mread_gamess\u001b[0m\u001b[0;34m\u001b[0m\u001b[0;34m\u001b[0m\u001b[0m\n",
            "\u001b[0;32m/usr/local/lib/python3.11/dist-packages/strawberryfields/apps/qchem/dynamics.py\u001b[0m in \u001b[0;36m<module>\u001b[0;34m\u001b[0m\n\u001b[1;32m     71\u001b[0m \u001b[0;34m\u001b[0m\u001b[0m\n\u001b[1;32m     72\u001b[0m \u001b[0;32mimport\u001b[0m \u001b[0mstrawberryfields\u001b[0m \u001b[0;32mas\u001b[0m \u001b[0msf\u001b[0m\u001b[0;34m\u001b[0m\u001b[0;34m\u001b[0m\u001b[0m\n\u001b[0;32m---> 73\u001b[0;31m \u001b[0;32mfrom\u001b[0m \u001b[0mstrawberryfields\u001b[0m\u001b[0;34m.\u001b[0m\u001b[0mutils\u001b[0m \u001b[0;32mimport\u001b[0m \u001b[0moperation\u001b[0m\u001b[0;34m\u001b[0m\u001b[0;34m\u001b[0m\u001b[0m\n\u001b[0m\u001b[1;32m     74\u001b[0m \u001b[0;34m\u001b[0m\u001b[0m\n\u001b[1;32m     75\u001b[0m \u001b[0;34m\u001b[0m\u001b[0m\n",
            "\u001b[0;32m/usr/local/lib/python3.11/dist-packages/strawberryfields/utils/__init__.py\u001b[0m in \u001b[0;36m<module>\u001b[0;34m\u001b[0m\n\u001b[1;32m     19\u001b[0m \u001b[0;32mfrom\u001b[0m \u001b[0;34m.\u001b[0m\u001b[0mgbs_analysis\u001b[0m \u001b[0;32mimport\u001b[0m \u001b[0;34m*\u001b[0m\u001b[0;34m\u001b[0m\u001b[0;34m\u001b[0m\u001b[0m\n\u001b[1;32m     20\u001b[0m \u001b[0;32mfrom\u001b[0m \u001b[0;34m.\u001b[0m\u001b[0mpost_processing\u001b[0m \u001b[0;32mimport\u001b[0m \u001b[0;34m*\u001b[0m\u001b[0;34m\u001b[0m\u001b[0;34m\u001b[0m\u001b[0m\n\u001b[0;32m---> 21\u001b[0;31m \u001b[0;32mfrom\u001b[0m \u001b[0;34m.\u001b[0m\u001b[0mprogram_functions\u001b[0m \u001b[0;32mimport\u001b[0m \u001b[0;34m*\u001b[0m\u001b[0;34m\u001b[0m\u001b[0;34m\u001b[0m\u001b[0m\n\u001b[0m\u001b[1;32m     22\u001b[0m \u001b[0;32mfrom\u001b[0m \u001b[0;34m.\u001b[0m\u001b[0mrandom_numbers_matrices\u001b[0m \u001b[0;32mimport\u001b[0m \u001b[0;34m*\u001b[0m\u001b[0;34m\u001b[0m\u001b[0;34m\u001b[0m\u001b[0m\n\u001b[1;32m     23\u001b[0m \u001b[0;32mfrom\u001b[0m \u001b[0;34m.\u001b[0m\u001b[0mstates\u001b[0m \u001b[0;32mimport\u001b[0m \u001b[0;34m*\u001b[0m\u001b[0;34m\u001b[0m\u001b[0;34m\u001b[0m\u001b[0m\n",
            "\u001b[0;32m/usr/local/lib/python3.11/dist-packages/strawberryfields/utils/program_functions.py\u001b[0m in \u001b[0;36m<module>\u001b[0;34m\u001b[0m\n\u001b[1;32m     26\u001b[0m \u001b[0;32mimport\u001b[0m \u001b[0mnumpy\u001b[0m \u001b[0;32mas\u001b[0m \u001b[0mnp\u001b[0m\u001b[0;34m\u001b[0m\u001b[0;34m\u001b[0m\u001b[0m\n\u001b[1;32m     27\u001b[0m \u001b[0;34m\u001b[0m\u001b[0m\n\u001b[0;32m---> 28\u001b[0;31m \u001b[0;32mfrom\u001b[0m \u001b[0mstrawberryfields\u001b[0m\u001b[0;34m.\u001b[0m\u001b[0mengine\u001b[0m \u001b[0;32mimport\u001b[0m \u001b[0mLocalEngine\u001b[0m\u001b[0;34m\u001b[0m\u001b[0;34m\u001b[0m\u001b[0m\n\u001b[0m\u001b[1;32m     29\u001b[0m \u001b[0;32mfrom\u001b[0m \u001b[0mstrawberryfields\u001b[0m\u001b[0;34m.\u001b[0m\u001b[0mprogram_utils\u001b[0m \u001b[0;32mimport\u001b[0m \u001b[0mCommand\u001b[0m\u001b[0;34m\u001b[0m\u001b[0;34m\u001b[0m\u001b[0m\n\u001b[1;32m     30\u001b[0m \u001b[0;32mfrom\u001b[0m \u001b[0mstrawberryfields\u001b[0m\u001b[0;34m.\u001b[0m\u001b[0mops\u001b[0m \u001b[0;32mimport\u001b[0m \u001b[0mGate\u001b[0m\u001b[0;34m,\u001b[0m \u001b[0mChannel\u001b[0m\u001b[0;34m,\u001b[0m \u001b[0mKet\u001b[0m\u001b[0;34m\u001b[0m\u001b[0;34m\u001b[0m\u001b[0m\n",
            "\u001b[0;32m/usr/local/lib/python3.11/dist-packages/strawberryfields/engine.py\u001b[0m in \u001b[0;36m<module>\u001b[0;34m\u001b[0m\n\u001b[1;32m     27\u001b[0m \u001b[0;32mimport\u001b[0m \u001b[0mxcc\u001b[0m\u001b[0;34m\u001b[0m\u001b[0;34m\u001b[0m\u001b[0m\n\u001b[1;32m     28\u001b[0m \u001b[0;34m\u001b[0m\u001b[0m\n\u001b[0;32m---> 29\u001b[0;31m \u001b[0;32mfrom\u001b[0m \u001b[0mstrawberryfields\u001b[0m\u001b[0;34m.\u001b[0m\u001b[0mdevice\u001b[0m \u001b[0;32mimport\u001b[0m \u001b[0mDevice\u001b[0m\u001b[0;34m\u001b[0m\u001b[0;34m\u001b[0m\u001b[0m\n\u001b[0m\u001b[1;32m     30\u001b[0m \u001b[0;32mfrom\u001b[0m \u001b[0mstrawberryfields\u001b[0m\u001b[0;34m.\u001b[0m\u001b[0mresult\u001b[0m \u001b[0;32mimport\u001b[0m \u001b[0mResult\u001b[0m\u001b[0;34m\u001b[0m\u001b[0;34m\u001b[0m\u001b[0m\n\u001b[1;32m     31\u001b[0m \u001b[0;32mfrom\u001b[0m \u001b[0mstrawberryfields\u001b[0m\u001b[0;34m.\u001b[0m\u001b[0mio\u001b[0m \u001b[0;32mimport\u001b[0m \u001b[0mto_blackbird\u001b[0m\u001b[0;34m\u001b[0m\u001b[0;34m\u001b[0m\u001b[0m\n",
            "\u001b[0;32m/usr/local/lib/python3.11/dist-packages/strawberryfields/device.py\u001b[0m in \u001b[0;36m<module>\u001b[0;34m\u001b[0m\n\u001b[1;32m     21\u001b[0m \u001b[0;32mfrom\u001b[0m \u001b[0mblackbird\u001b[0m\u001b[0;34m.\u001b[0m\u001b[0merror\u001b[0m \u001b[0;32mimport\u001b[0m \u001b[0mBlackbirdSyntaxError\u001b[0m\u001b[0;34m\u001b[0m\u001b[0;34m\u001b[0m\u001b[0m\n\u001b[1;32m     22\u001b[0m \u001b[0;34m\u001b[0m\u001b[0m\n\u001b[0;32m---> 23\u001b[0;31m \u001b[0;32mfrom\u001b[0m \u001b[0mstrawberryfields\u001b[0m\u001b[0;34m.\u001b[0m\u001b[0mio\u001b[0m \u001b[0;32mimport\u001b[0m \u001b[0mto_program\u001b[0m\u001b[0;34m\u001b[0m\u001b[0;34m\u001b[0m\u001b[0m\n\u001b[0m\u001b[1;32m     24\u001b[0m \u001b[0;32mfrom\u001b[0m \u001b[0mstrawberryfields\u001b[0m\u001b[0;34m.\u001b[0m\u001b[0mcompilers\u001b[0m \u001b[0;32mimport\u001b[0m \u001b[0mRanges\u001b[0m\u001b[0;34m\u001b[0m\u001b[0;34m\u001b[0m\u001b[0m\n\u001b[1;32m     25\u001b[0m \u001b[0;34m\u001b[0m\u001b[0m\n",
            "\u001b[0;32m/usr/local/lib/python3.11/dist-packages/strawberryfields/io/__init__.py\u001b[0m in \u001b[0;36m<module>\u001b[0;34m\u001b[0m\n\u001b[1;32m     24\u001b[0m \u001b[0;32mimport\u001b[0m \u001b[0mblackbird\u001b[0m\u001b[0;34m\u001b[0m\u001b[0;34m\u001b[0m\u001b[0m\n\u001b[1;32m     25\u001b[0m \u001b[0;34m\u001b[0m\u001b[0m\n\u001b[0;32m---> 26\u001b[0;31m \u001b[0;32mfrom\u001b[0m \u001b[0mstrawberryfields\u001b[0m\u001b[0;34m.\u001b[0m\u001b[0mprogram\u001b[0m \u001b[0;32mimport\u001b[0m \u001b[0mProgram\u001b[0m\u001b[0;34m\u001b[0m\u001b[0;34m\u001b[0m\u001b[0m\n\u001b[0m\u001b[1;32m     27\u001b[0m \u001b[0;34m\u001b[0m\u001b[0m\n\u001b[1;32m     28\u001b[0m \u001b[0;32mfrom\u001b[0m \u001b[0;34m.\u001b[0m\u001b[0mblackbird_io\u001b[0m \u001b[0;32mimport\u001b[0m \u001b[0mto_blackbird\u001b[0m\u001b[0;34m,\u001b[0m \u001b[0mfrom_blackbird\u001b[0m\u001b[0;34m,\u001b[0m \u001b[0mfrom_blackbird_to_tdm\u001b[0m\u001b[0;34m\u001b[0m\u001b[0;34m\u001b[0m\u001b[0m\n",
            "\u001b[0;32m/usr/local/lib/python3.11/dist-packages/strawberryfields/program.py\u001b[0m in \u001b[0;36m<module>\u001b[0;34m\u001b[0m\n\u001b[1;32m     60\u001b[0m \u001b[0;34m\u001b[0m\u001b[0m\n\u001b[1;32m     61\u001b[0m \u001b[0;32mimport\u001b[0m \u001b[0mstrawberryfields\u001b[0m\u001b[0;34m.\u001b[0m\u001b[0mcircuitdrawer\u001b[0m \u001b[0;32mas\u001b[0m \u001b[0msfcd\u001b[0m\u001b[0;34m\u001b[0m\u001b[0;34m\u001b[0m\u001b[0m\n\u001b[0;32m---> 62\u001b[0;31m \u001b[0;32mfrom\u001b[0m \u001b[0mstrawberryfields\u001b[0m\u001b[0;34m.\u001b[0m\u001b[0mcompilers\u001b[0m \u001b[0;32mimport\u001b[0m \u001b[0mCompiler\u001b[0m\u001b[0;34m,\u001b[0m \u001b[0mcompiler_db\u001b[0m\u001b[0;34m\u001b[0m\u001b[0;34m\u001b[0m\u001b[0m\n\u001b[0m\u001b[1;32m     63\u001b[0m \u001b[0;32mimport\u001b[0m \u001b[0mstrawberryfields\u001b[0m\u001b[0;34m.\u001b[0m\u001b[0mprogram_utils\u001b[0m \u001b[0;32mas\u001b[0m \u001b[0mpu\u001b[0m\u001b[0;34m\u001b[0m\u001b[0;34m\u001b[0m\u001b[0m\n\u001b[1;32m     64\u001b[0m \u001b[0;34m\u001b[0m\u001b[0m\n",
            "\u001b[0;32m/usr/local/lib/python3.11/dist-packages/strawberryfields/compilers/__init__.py\u001b[0m in \u001b[0;36m<module>\u001b[0;34m\u001b[0m\n\u001b[1;32m     38\u001b[0m \"\"\"\n\u001b[1;32m     39\u001b[0m \u001b[0;32mfrom\u001b[0m \u001b[0;34m.\u001b[0m\u001b[0mcompiler\u001b[0m \u001b[0;32mimport\u001b[0m \u001b[0mCompiler\u001b[0m\u001b[0;34m,\u001b[0m \u001b[0mRanges\u001b[0m\u001b[0;34m\u001b[0m\u001b[0;34m\u001b[0m\u001b[0m\n\u001b[0;32m---> 40\u001b[0;31m \u001b[0;32mfrom\u001b[0m \u001b[0;34m.\u001b[0m\u001b[0mxcov\u001b[0m \u001b[0;32mimport\u001b[0m \u001b[0mXcov\u001b[0m\u001b[0;34m\u001b[0m\u001b[0;34m\u001b[0m\u001b[0m\n\u001b[0m\u001b[1;32m     41\u001b[0m \u001b[0;32mfrom\u001b[0m \u001b[0;34m.\u001b[0m\u001b[0mxstrict\u001b[0m \u001b[0;32mimport\u001b[0m \u001b[0mXstrict\u001b[0m\u001b[0;34m\u001b[0m\u001b[0;34m\u001b[0m\u001b[0m\n\u001b[1;32m     42\u001b[0m \u001b[0;32mfrom\u001b[0m \u001b[0;34m.\u001b[0m\u001b[0mxunitary\u001b[0m \u001b[0;32mimport\u001b[0m \u001b[0mXunitary\u001b[0m\u001b[0;34m\u001b[0m\u001b[0;34m\u001b[0m\u001b[0m\n",
            "\u001b[0;32m/usr/local/lib/python3.11/dist-packages/strawberryfields/compilers/xcov.py\u001b[0m in \u001b[0;36m<module>\u001b[0;34m\u001b[0m\n\u001b[1;32m     23\u001b[0m \u001b[0;32mfrom\u001b[0m \u001b[0mstrawberryfields\u001b[0m\u001b[0;34m.\u001b[0m\u001b[0mdecompositions\u001b[0m \u001b[0;32mimport\u001b[0m \u001b[0mtakagi\u001b[0m\u001b[0;34m\u001b[0m\u001b[0;34m\u001b[0m\u001b[0m\n\u001b[1;32m     24\u001b[0m \u001b[0;32mfrom\u001b[0m \u001b[0mstrawberryfields\u001b[0m\u001b[0;34m.\u001b[0m\u001b[0mprogram_utils\u001b[0m \u001b[0;32mimport\u001b[0m \u001b[0mCircuitError\u001b[0m\u001b[0;34m,\u001b[0m \u001b[0mCommand\u001b[0m\u001b[0;34m\u001b[0m\u001b[0;34m\u001b[0m\u001b[0m\n\u001b[0;32m---> 25\u001b[0;31m \u001b[0;32mimport\u001b[0m \u001b[0mstrawberryfields\u001b[0m\u001b[0;34m.\u001b[0m\u001b[0mops\u001b[0m \u001b[0;32mas\u001b[0m \u001b[0mops\u001b[0m\u001b[0;34m\u001b[0m\u001b[0;34m\u001b[0m\u001b[0m\n\u001b[0m\u001b[1;32m     26\u001b[0m \u001b[0;34m\u001b[0m\u001b[0m\n\u001b[1;32m     27\u001b[0m \u001b[0;32mfrom\u001b[0m \u001b[0;34m.\u001b[0m\u001b[0mcompiler\u001b[0m \u001b[0;32mimport\u001b[0m \u001b[0mCompiler\u001b[0m\u001b[0;34m\u001b[0m\u001b[0;34m\u001b[0m\u001b[0m\n",
            "\u001b[0;32m/usr/local/lib/python3.11/dist-packages/strawberryfields/ops.py\u001b[0m in \u001b[0;36m<module>\u001b[0;34m\u001b[0m\n\u001b[1;32m     31\u001b[0m \u001b[0;32mimport\u001b[0m \u001b[0mstrawberryfields\u001b[0m\u001b[0;34m.\u001b[0m\u001b[0mprogram_utils\u001b[0m \u001b[0;32mas\u001b[0m \u001b[0mpu\u001b[0m\u001b[0;34m\u001b[0m\u001b[0;34m\u001b[0m\u001b[0m\n\u001b[1;32m     32\u001b[0m \u001b[0;32mimport\u001b[0m \u001b[0mstrawberryfields\u001b[0m\u001b[0;34m.\u001b[0m\u001b[0mdecompositions\u001b[0m \u001b[0;32mas\u001b[0m \u001b[0mdec\u001b[0m\u001b[0;34m\u001b[0m\u001b[0;34m\u001b[0m\u001b[0m\n\u001b[0;32m---> 33\u001b[0;31m \u001b[0;32mfrom\u001b[0m \u001b[0;34m.\u001b[0m\u001b[0mbackends\u001b[0m\u001b[0;34m.\u001b[0m\u001b[0mstates\u001b[0m \u001b[0;32mimport\u001b[0m \u001b[0mBaseFockState\u001b[0m\u001b[0;34m,\u001b[0m \u001b[0mBaseGaussianState\u001b[0m\u001b[0;34m,\u001b[0m \u001b[0mBaseBosonicState\u001b[0m\u001b[0;34m\u001b[0m\u001b[0;34m\u001b[0m\u001b[0m\n\u001b[0m\u001b[1;32m     34\u001b[0m \u001b[0;32mfrom\u001b[0m \u001b[0;34m.\u001b[0m\u001b[0mprogram_utils\u001b[0m \u001b[0;32mimport\u001b[0m \u001b[0mCommand\u001b[0m\u001b[0;34m,\u001b[0m \u001b[0mRegRef\u001b[0m\u001b[0;34m,\u001b[0m \u001b[0mMergeFailure\u001b[0m\u001b[0;34m\u001b[0m\u001b[0;34m\u001b[0m\u001b[0m\n\u001b[1;32m     35\u001b[0m from .parameters import (\n",
            "\u001b[0;32m/usr/local/lib/python3.11/dist-packages/strawberryfields/backends/__init__.py\u001b[0m in \u001b[0;36m<module>\u001b[0;34m\u001b[0m\n\u001b[1;32m     70\u001b[0m \u001b[0;34m\u001b[0m\u001b[0m\n\u001b[1;32m     71\u001b[0m \u001b[0;32mfrom\u001b[0m \u001b[0;34m.\u001b[0m\u001b[0mbase\u001b[0m \u001b[0;32mimport\u001b[0m \u001b[0mBaseBackend\u001b[0m\u001b[0;34m,\u001b[0m \u001b[0mBaseFock\u001b[0m\u001b[0;34m,\u001b[0m \u001b[0mBaseGaussian\u001b[0m\u001b[0;34m,\u001b[0m \u001b[0mBaseBosonic\u001b[0m\u001b[0;34m,\u001b[0m \u001b[0mModeMap\u001b[0m\u001b[0;34m\u001b[0m\u001b[0;34m\u001b[0m\u001b[0m\n\u001b[0;32m---> 72\u001b[0;31m \u001b[0;32mfrom\u001b[0m \u001b[0;34m.\u001b[0m\u001b[0mgaussianbackend\u001b[0m \u001b[0;32mimport\u001b[0m \u001b[0mGaussianBackend\u001b[0m\u001b[0;34m\u001b[0m\u001b[0;34m\u001b[0m\u001b[0m\n\u001b[0m\u001b[1;32m     73\u001b[0m \u001b[0;32mfrom\u001b[0m \u001b[0;34m.\u001b[0m\u001b[0mfockbackend\u001b[0m \u001b[0;32mimport\u001b[0m \u001b[0mFockBackend\u001b[0m\u001b[0;34m\u001b[0m\u001b[0;34m\u001b[0m\u001b[0m\n\u001b[1;32m     74\u001b[0m \u001b[0;32mfrom\u001b[0m \u001b[0;34m.\u001b[0m\u001b[0mbosonicbackend\u001b[0m \u001b[0;32mimport\u001b[0m \u001b[0mBosonicBackend\u001b[0m\u001b[0;34m\u001b[0m\u001b[0;34m\u001b[0m\u001b[0m\n",
            "\u001b[0;32m/usr/local/lib/python3.11/dist-packages/strawberryfields/backends/gaussianbackend/__init__.py\u001b[0m in \u001b[0;36m<module>\u001b[0;34m\u001b[0m\n\u001b[1;32m     14\u001b[0m \u001b[0;34mr\"\"\"Gaussian simulator backend\"\"\"\u001b[0m\u001b[0;34m\u001b[0m\u001b[0;34m\u001b[0m\u001b[0m\n\u001b[1;32m     15\u001b[0m \u001b[0;34m\u001b[0m\u001b[0m\n\u001b[0;32m---> 16\u001b[0;31m \u001b[0;32mfrom\u001b[0m \u001b[0;34m.\u001b[0m\u001b[0mbackend\u001b[0m \u001b[0;32mimport\u001b[0m \u001b[0mGaussianBackend\u001b[0m\u001b[0;34m\u001b[0m\u001b[0;34m\u001b[0m\u001b[0m\n\u001b[0m",
            "\u001b[0;32m/usr/local/lib/python3.11/dist-packages/strawberryfields/backends/gaussianbackend/backend.py\u001b[0m in \u001b[0;36m<module>\u001b[0;34m\u001b[0m\n\u001b[1;32m     21\u001b[0m \u001b[0;34m\u001b[0m\u001b[0m\n\u001b[1;32m     22\u001b[0m \u001b[0;32mfrom\u001b[0m \u001b[0mstrawberryfields\u001b[0m\u001b[0;34m.\u001b[0m\u001b[0mbackends\u001b[0m \u001b[0;32mimport\u001b[0m \u001b[0mBaseGaussian\u001b[0m\u001b[0;34m\u001b[0m\u001b[0;34m\u001b[0m\u001b[0m\n\u001b[0;32m---> 23\u001b[0;31m \u001b[0;32mfrom\u001b[0m \u001b[0mstrawberryfields\u001b[0m\u001b[0;34m.\u001b[0m\u001b[0mbackends\u001b[0m\u001b[0;34m.\u001b[0m\u001b[0mstates\u001b[0m \u001b[0;32mimport\u001b[0m \u001b[0mBaseGaussianState\u001b[0m\u001b[0;34m\u001b[0m\u001b[0;34m\u001b[0m\u001b[0m\n\u001b[0m\u001b[1;32m     24\u001b[0m \u001b[0;34m\u001b[0m\u001b[0m\n\u001b[1;32m     25\u001b[0m \u001b[0;32mfrom\u001b[0m \u001b[0;34m.\u001b[0m\u001b[0mgaussiancircuit\u001b[0m \u001b[0;32mimport\u001b[0m \u001b[0mGaussianModes\u001b[0m\u001b[0;34m\u001b[0m\u001b[0;34m\u001b[0m\u001b[0m\n",
            "\u001b[0;32m/usr/local/lib/python3.11/dist-packages/strawberryfields/backends/states.py\u001b[0m in \u001b[0;36m<module>\u001b[0;34m\u001b[0m\n\u001b[1;32m     25\u001b[0m \u001b[0;32mfrom\u001b[0m \u001b[0mscipy\u001b[0m\u001b[0;34m.\u001b[0m\u001b[0mstats\u001b[0m \u001b[0;32mimport\u001b[0m \u001b[0mmultivariate_normal\u001b[0m\u001b[0;34m\u001b[0m\u001b[0;34m\u001b[0m\u001b[0m\n\u001b[1;32m     26\u001b[0m \u001b[0;32mfrom\u001b[0m \u001b[0mscipy\u001b[0m\u001b[0;34m.\u001b[0m\u001b[0mspecial\u001b[0m \u001b[0;32mimport\u001b[0m \u001b[0mfactorial\u001b[0m\u001b[0;34m\u001b[0m\u001b[0;34m\u001b[0m\u001b[0m\n\u001b[0;32m---> 27\u001b[0;31m \u001b[0;32mfrom\u001b[0m \u001b[0mscipy\u001b[0m\u001b[0;34m.\u001b[0m\u001b[0mintegrate\u001b[0m \u001b[0;32mimport\u001b[0m \u001b[0msimps\u001b[0m\u001b[0;34m\u001b[0m\u001b[0;34m\u001b[0m\u001b[0m\n\u001b[0m\u001b[1;32m     28\u001b[0m \u001b[0;34m\u001b[0m\u001b[0m\n\u001b[1;32m     29\u001b[0m \u001b[0;32mfrom\u001b[0m \u001b[0mthewalrus\u001b[0m\u001b[0;34m.\u001b[0m\u001b[0msymplectic\u001b[0m \u001b[0;32mimport\u001b[0m \u001b[0mrotation\u001b[0m \u001b[0;32mas\u001b[0m \u001b[0m_R\u001b[0m\u001b[0;34m\u001b[0m\u001b[0;34m\u001b[0m\u001b[0m\n",
            "\u001b[0;31mImportError\u001b[0m: cannot import name 'simps' from 'scipy.integrate' (/usr/local/lib/python3.11/dist-packages/scipy/integrate/__init__.py)",
            "",
            "\u001b[0;31m---------------------------------------------------------------------------\u001b[0;32m\nNOTE: If your import is failing due to a missing package, you can\nmanually install dependencies using either !pip or !apt.\n\nTo view examples of installing some common dependencies, click the\n\"Open Examples\" button below.\n\u001b[0;31m---------------------------------------------------------------------------\u001b[0m\n"
          ],
          "errorDetails": {
            "actions": [
              {
                "action": "open_url",
                "actionText": "Open Examples",
                "url": "/notebooks/snippets/importing_libraries.ipynb"
              }
            ]
          }
        }
      ]
    },
    {
      "cell_type": "code",
      "source": [],
      "metadata": {
        "id": "1jOL9XL6n3ks"
      },
      "execution_count": null,
      "outputs": []
    }
  ]
}