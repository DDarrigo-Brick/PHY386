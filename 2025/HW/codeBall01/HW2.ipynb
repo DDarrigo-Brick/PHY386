{
  "nbformat": 4,
  "nbformat_minor": 0,
  "metadata": {
    "colab": {
      "provenance": [],
      "include_colab_link": true
    },
    "kernelspec": {
      "name": "python3",
      "display_name": "Python 3"
    },
    "language_info": {
      "name": "python"
    }
  },
  "cells": [
    {
      "cell_type": "markdown",
      "metadata": {
        "id": "view-in-github",
        "colab_type": "text"
      },
      "source": [
        "<a href=\"https://colab.research.google.com/github/ubsuny/PHY386/blob/Homework2025/2025/HW/codeBall01/HW2.ipynb\" target=\"_parent\"><img src=\"https://colab.research.google.com/assets/colab-badge.svg\" alt=\"Open In Colab\"/></a>"
      ]
    },
    {
      "cell_type": "markdown",
      "source": [
        "# Linear Algebra in Physics: Solving a System of Equations\n",
        "\n",
        "## Introduction\n",
        "\n",
        "In this homework, we'll solve a simple system of linear equations representing a physical problem using Python. We'll focus on proper documentation, docstrings, and functional programming techniques."
      ],
      "metadata": {
        "id": "TuvhPJFbm9mE"
      }
    },
    {
      "cell_type": "markdown",
      "source": [
        "### Learning Outcome\n",
        "- Understand how to represent a physical system using linear equations.\n",
        "- Learn to use numpy for linear algebra operations.\n",
        "- Practice writing clear and informative docstrings.\n",
        "- Apply functional programming concepts by breaking down the problem into small, focused functions."
      ],
      "metadata": {
        "id": "yJWprvM2nrD1"
      }
    },
    {
      "cell_type": "markdown",
      "source": [
        "## Example Problem Statement\n",
        "\n",
        "Consider a system of three masses connected by springs and the first and third mass connected to a fixed wall by springs. What are the Eigenfrequencies of the system?"
      ],
      "metadata": {
        "id": "3YLY9cARm_zN"
      }
    },
    {
      "cell_type": "markdown",
      "source": [
        "### Example Solution\n",
        "\n",
        "Let's solve this system using Python and linear algebra techniques.\n",
        "\n",
        "This system is a classic example of coupled oscillators in physics.\n",
        "\n",
        "### Setting Up the System\n",
        "\n",
        "To set up the equations of motion for a system of three masses connected by springs, we can use Newton's Second Law and Hooke's Law.\n",
        "\n",
        "Consider three masses (m₁, m₂, m₃) connected in a line by four springs with spring constants k₁, k₂, k₃, and k₄. The system can be represented as:\n",
        "\n",
        "```\n",
        "    k₁       k₂       k₃       k₄\n",
        "|---*---m₁---*---m₂---*---m₃---*---|\n",
        "```"
      ],
      "metadata": {
        "id": "IkhIlr6ynP-i"
      }
    },
    {
      "cell_type": "markdown",
      "source": [
        "\n",
        "### Equations of Motion\n",
        "\n",
        "For each mass, we'll write Newton's Second Law (F = ma) and use Hooke's Law (F = -kx) for the spring forces.\n",
        "\n",
        "#### For mass m₁:\n",
        "\n",
        "$$ m_1 \\frac{d^2x_1}{dt^2} = -k_1x_1 - k_2(x_1 - x_2) $$\n",
        "\n",
        "Here, x₁ is the displacement of m₁ from its equilibrium position. The first term (-k₁x₁) represents the force from the leftmost spring, and the second term (-k₂(x₁ - x₂)) represents the force from the spring between m₁ and m₂.\n",
        "\n",
        "#### For mass m₂:\n",
        "\n",
        "$$ m_2 \\frac{d^2x_2}{dt^2} = -k_2(x_2 - x_1) - k_3(x_2 - x_3) $$\n",
        "\n",
        "x₂ is the displacement of m₂. The first term represents the force from the spring between m₁ and m₂, and the second term represents the force from the spring between m₂ and m₃.\n",
        "\n",
        "#### For mass m₃:\n",
        "\n",
        "$$ m_3 \\frac{d^2x_3}{dt^2} = -k_3(x_3 - x_2) - k_4x_3 $$\n",
        "\n",
        "x₃ is the displacement of m₃. The first term represents the force from the spring between m₂ and m₃, and the second term represents the force from the rightmost spring.\n"
      ],
      "metadata": {
        "id": "hII7oNliS443"
      }
    },
    {
      "cell_type": "markdown",
      "source": [
        "### Matrix Form\n",
        "\n",
        "These equations can be written in matrix form:\n",
        "\n",
        "$$\n",
        "\\begin{bmatrix}\n",
        "m_1 & 0 & 0 \\\\\n",
        "0 & m_2 & 0 \\\\\n",
        "0 & 0 & m_3\n",
        "\\end{bmatrix}\n",
        "\\begin{bmatrix}\n",
        "\\frac{d^2x_1}{dt^2} \\\\\n",
        "\\frac{d^2x_2}{dt^2} \\\\\n",
        "\\frac{d^2x_3}{dt^2}\n",
        "\\end{bmatrix} =\n",
        "\\begin{bmatrix}\n",
        "-(k_1 + k_2) & k_2 & 0 \\\\\n",
        "k_2 & -(k_2 + k_3) & k_3 \\\\\n",
        "0 & k_3 & -(k_3 + k_4)\n",
        "\\end{bmatrix}\n",
        "\\begin{bmatrix}\n",
        "x_1 \\\\\n",
        "x_2 \\\\\n",
        "x_3\n",
        "\\end{bmatrix}\n",
        "$$"
      ],
      "metadata": {
        "id": "UVWwxjKD1r5l"
      }
    },
    {
      "cell_type": "markdown",
      "source": [
        "### Solving the System\n",
        "\n",
        "To find the normal modes and frequencies of the system:\n",
        "\n",
        "1. Assume harmonic solutions of the form $x_i = A_i \\mathrm e^{i\\omega t}$.\n",
        "2. Substitute these into the matrix equation.\n",
        "3. Set the determinant of the resulting coefficient matrix to zero.\n",
        "4. Solve the resulting characteristic equation for $\\omega^2$.\n",
        "\n",
        "The solutions will give you the eigenfrequencies of the system, and the corresponding eigenvectors will represent the normal modes of oscillation."
      ],
      "metadata": {
        "id": "0qXuhY8H10F3"
      }
    },
    {
      "cell_type": "markdown",
      "source": [
        "### Assume Harmonic Solutions\n",
        "\n",
        "We assume solutions of the form:\n",
        "$$\n",
        "\\begin{align}\n",
        "x_1 &= A_1 e^{i\\omega t} \\\\\n",
        "x_2 &= A_2 e^{i\\omega t} \\\\\n",
        "x_3 &= A_3 e^{i\\omega t}\n",
        "\\end{align}\n",
        "$$\n",
        "\n",
        "Where $\\omega$ is the angular frequency we're trying to find.\n"
      ],
      "metadata": {
        "id": "Lo_GgW9T2e53"
      }
    },
    {
      "cell_type": "markdown",
      "source": [
        "For our problem now we can set all the spring constants to the same value $k$ and rewrite these equations:\n",
        "\n",
        "$$\n",
        "\\begin{bmatrix}\n",
        "m_1 & 0 & 0 \\\\\n",
        "0 & m_2 & 0 \\\\\n",
        "0 & 0 & m_3\n",
        "\\end{bmatrix}\n",
        "\\begin{bmatrix}\n",
        "\\frac{d^2x_1}{dt^2} \\\\\n",
        "\\frac{d^2x_2}{dt^2} \\\\\n",
        "\\frac{d^2x_3}{dt^2}\n",
        "\\end{bmatrix} =\n",
        "\\begin{bmatrix}\n",
        "2k & -k & 0 \\\\\n",
        "-k & 2k & -k \\\\\n",
        "0 & -k & 2k\n",
        "\\end{bmatrix}\n",
        "\\begin{bmatrix}\n",
        "x_1 \\\\\n",
        "x_2 \\\\\n",
        "x_3\n",
        "\\end{bmatrix}\n",
        "$$"
      ],
      "metadata": {
        "id": "VOgmtFJKRGZ2"
      }
    },
    {
      "cell_type": "markdown",
      "source": [
        "### Derive the Eigenvalue Equation\n",
        "\n",
        "Substituting these solutions into our matrix equation and canceling $e^{i\\omega t}$, we get:\n",
        "\n",
        "$$\n",
        "\\begin{bmatrix}\n",
        "-m_1\\omega^2 & 0 & 0 \\\\\n",
        "0 & -m_2\\omega^2 & 0 \\\\\n",
        "0 & 0 & -m_3\\omega^2\n",
        "\\end{bmatrix}\n",
        "\\begin{bmatrix}\n",
        "A_1 \\\\\n",
        "A_2 \\\\\n",
        "A_3\n",
        "\\end{bmatrix} =\n",
        "\\begin{bmatrix}\n",
        "2k & -k & 0 \\\\\n",
        "-k & 2k & -k \\\\\n",
        "0 & -k & 2k\n",
        "\\end{bmatrix}\n",
        "\\begin{bmatrix}\n",
        "A_1 \\\\\n",
        "A_2 \\\\\n",
        "A_3\n",
        "\\end{bmatrix}\n",
        "$$"
      ],
      "metadata": {
        "id": "hAyRyPgc2uo4"
      }
    },
    {
      "cell_type": "markdown",
      "source": [
        "### Solve the Eigenvalue Problem\n",
        "\n",
        "To find non-trivial solutions, we set the determinant of the coefficient matrix to zero:\n",
        "\n",
        "$$\n",
        "\\det\n",
        "\\begin{vmatrix}\n",
        "-m_1\\omega^2 + 2k & -k & 0 \\\\\n",
        "-k & -m_2\\omega^2 + 2k & -k \\\\\n",
        "0 & -k & -m_3\\omega^2 + 2k\n",
        "\\end{vmatrix} = 0\n",
        "$$"
      ],
      "metadata": {
        "id": "xDeJUnwn3YFz"
      }
    },
    {
      "cell_type": "markdown",
      "source": [
        "### Simplify for Equal Masses and Springs\n",
        "\n",
        "For our case all masses are equal ($m$) and all spring constants are equal ($k$). We can define $$\\omega_0^2 = \\frac{k}{m}$$\n",
        "\n",
        "Our equation becomes:\n",
        "\n",
        "$$\n",
        "\\det\n",
        "\\begin{vmatrix}\n",
        "2\\omega_0^2 - \\omega^2 & -\\omega_0^2 & 0 \\\\\n",
        "-\\omega_0^2 & 2\\omega_0^2 - \\omega^2 & -\\omega_0^2 \\\\\n",
        "0 & -\\omega_0^2 & 2\\omega_0^2 - \\omega^2\n",
        "\\end{vmatrix} = 0\n",
        "$$"
      ],
      "metadata": {
        "id": "kijih1Il3_Xz"
      }
    },
    {
      "cell_type": "markdown",
      "source": [
        "### Solve the Characteristic Equation\n",
        "\n",
        "Expanding this determinant gives us a cubic equation in $\\omega^2$:\n",
        "\n",
        "$$\n",
        "(-\\omega^2 + 2\\omega_0^2)((-\\omega^2 + 2\\omega_0^2)^2-2\\omega_0^2) = 0\n",
        "$$"
      ],
      "metadata": {
        "id": "ODmgfCkz4EKb"
      }
    },
    {
      "cell_type": "markdown",
      "source": [
        "### Find the Eigenfrequencies\n",
        "\n",
        "The solutions to this equation are the squared eigenfrequencies:\n",
        "\n",
        "1. $$\\omega_1^2 = \\omega_0^2 = 2\\frac{k}{m}$$\n",
        "2. $$\\omega_2^2 = (2 - \\sqrt{2})\\omega_0^2 = (2 - \\sqrt{2})\\frac{k}{m}$$\n",
        "3. $$\\omega_3^2 = (2 + \\sqrt{2})\\omega_0^2 = (2 + \\sqrt{2})\\frac{k}{m}$$"
      ],
      "metadata": {
        "id": "n9Md0tln2vKy"
      }
    },
    {
      "cell_type": "markdown",
      "source": [
        "## Coding"
      ],
      "metadata": {
        "id": "qQ0-3T9t4jfh"
      }
    },
    {
      "cell_type": "code",
      "source": [
        "# import libraries\n",
        "import numpy as np\n",
        "import scipy.linalg as la"
      ],
      "metadata": {
        "id": "J41rVUd34oZO"
      },
      "execution_count": 1,
      "outputs": []
    },
    {
      "cell_type": "code",
      "source": [
        "# Let's calculate the frequencies numerically:\n",
        "\n",
        "def calculate_eigenfrequencies_3mass(k, m):\n",
        "    \"\"\" calculate the eigenfrequencies for our three mass problem.\n",
        "\n",
        "    Keyword arguments:\n",
        "    k -- spring constant (N/m)\n",
        "    m -- mass (kg)\n",
        "\n",
        "    returns:\n",
        "    w1 -- first eigenfrequency\n",
        "    w2 -- second eigenfrequency\n",
        "    w3 -- third eigenfrequency\n",
        "    \"\"\"\n",
        "    w0_squared = k / m\n",
        "    w1 = np.sqrt(2*w0_squared)\n",
        "    w2 = np.sqrt((2-np.sqrt(2)) * w0_squared)\n",
        "    w3 = np.sqrt((2+np.sqrt(2)) * w0_squared)\n",
        "    return w1, w2, w3\n",
        "\n",
        "# Example values\n",
        "k = 10  # N/m\n",
        "m = 1   # kg\n",
        "\n",
        "w1, w2, w3 = calculate_eigenfrequencies_3mass(k, m)\n",
        "\n",
        "print(\"Eigenfrequencies:\")\n",
        "print(\"ω₁ = {:.4f} rad/s\".format(w1))\n",
        "print(\"ω₂ = {:.4f} rad/s\".format(w2))\n",
        "print(\"ω₃ = {:.4f} rad/s\".format(w3))"
      ],
      "metadata": {
        "id": "3oeI9Cxt4Wsn",
        "outputId": "c79a7619-c1fa-41b4-c985-96b752478c14",
        "colab": {
          "base_uri": "https://localhost:8080/"
        }
      },
      "execution_count": 2,
      "outputs": [
        {
          "output_type": "stream",
          "name": "stdout",
          "text": [
            "Eigenfrequencies:\n",
            "ω₁ = 4.4721 rad/s\n",
            "ω₂ = 2.4203 rad/s\n",
            "ω₃ = 5.8431 rad/s\n"
          ]
        }
      ]
    },
    {
      "cell_type": "code",
      "source": [
        "M = np.diag([m,m,m])\n",
        "print(M)"
      ],
      "metadata": {
        "id": "vVsL0B2i2Rck",
        "outputId": "309957ed-fe5c-442b-e810-8ecc21a4595f",
        "colab": {
          "base_uri": "https://localhost:8080/"
        }
      },
      "execution_count": 3,
      "outputs": [
        {
          "output_type": "stream",
          "name": "stdout",
          "text": [
            "[[1 0 0]\n",
            " [0 1 0]\n",
            " [0 0 1]]\n"
          ]
        }
      ]
    },
    {
      "cell_type": "code",
      "source": [
        "K = np.diag([2*k,2*k,2*k]) + np.array([[0,-k,0],[-k,0,-k],[0,-k,0]])\n",
        "K"
      ],
      "metadata": {
        "id": "TZ-u9PbA2olF",
        "outputId": "8df8b7be-56b2-4b7b-ae0e-2c625c3d39da",
        "colab": {
          "base_uri": "https://localhost:8080/"
        }
      },
      "execution_count": 4,
      "outputs": [
        {
          "output_type": "execute_result",
          "data": {
            "text/plain": [
              "array([[ 20, -10,   0],\n",
              "       [-10,  20, -10],\n",
              "       [  0, -10,  20]])"
            ]
          },
          "metadata": {},
          "execution_count": 4
        }
      ]
    },
    {
      "cell_type": "code",
      "source": [
        "np.linalg.eig(K)"
      ],
      "metadata": {
        "id": "ZtLugKwX38A0",
        "outputId": "e58cfb91-b668-474b-a23c-649415a31254",
        "colab": {
          "base_uri": "https://localhost:8080/"
        }
      },
      "execution_count": 5,
      "outputs": [
        {
          "output_type": "execute_result",
          "data": {
            "text/plain": [
              "EigResult(eigenvalues=array([34.14213562, 20.        ,  5.85786438]), eigenvectors=array([[-5.00000000e-01, -7.07106781e-01,  5.00000000e-01],\n",
              "       [ 7.07106781e-01, -1.28295502e-16,  7.07106781e-01],\n",
              "       [-5.00000000e-01,  7.07106781e-01,  5.00000000e-01]]))"
            ]
          },
          "metadata": {},
          "execution_count": 5
        }
      ]
    },
    {
      "cell_type": "code",
      "source": [
        "import scipy.linalg as la\n",
        "np.sqrt(la.eigh(K,M)[0])"
      ],
      "metadata": {
        "id": "5Ai29uer4FwO",
        "outputId": "d03626a9-7046-4328-83f1-7416c1322535",
        "colab": {
          "base_uri": "https://localhost:8080/"
        }
      },
      "execution_count": 6,
      "outputs": [
        {
          "output_type": "execute_result",
          "data": {
            "text/plain": [
              "array([2.42030254, 4.47213595, 5.84312721])"
            ]
          },
          "metadata": {},
          "execution_count": 6
        }
      ]
    },
    {
      "cell_type": "code",
      "source": [
        "def setup_mass_matrix(m_list):\n",
        "  \"\"\"This function creates your mass matrix using the provided masses list as the diagonal terms\n",
        "  Arguments:\n",
        "  m_list - list of masses\n",
        "\n",
        "  returns:\n",
        "  M - mass matrix\n",
        "  \"\"\"\n",
        "\n",
        "  M = np.diag(m_list)\n",
        "  return M"
      ],
      "metadata": {
        "id": "xyf52iX75RBN"
      },
      "execution_count": 7,
      "outputs": []
    },
    {
      "cell_type": "code",
      "source": [
        "setup_mass_matrix([1,2,3])"
      ],
      "metadata": {
        "colab": {
          "base_uri": "https://localhost:8080/"
        },
        "id": "hnQShAQk7bGh",
        "outputId": "0fda1166-fe73-4dfb-d9a3-a07e44e188f4"
      },
      "execution_count": 8,
      "outputs": [
        {
          "output_type": "execute_result",
          "data": {
            "text/plain": [
              "array([[1, 0, 0],\n",
              "       [0, 2, 0],\n",
              "       [0, 0, 3]])"
            ]
          },
          "metadata": {},
          "execution_count": 8
        }
      ]
    },
    {
      "cell_type": "code",
      "source": [
        "def set_up_stiffness_matrix(k_list,walls=True):\n",
        "  \"\"\"This function creates your stiffness matrix using the provided spring constants list as the diagonal terms\n",
        "  Arguments:\n",
        "  k_list - list of spring constants\n",
        "  walls - assumes there was walls on the sides of the spring-mass system unless told otherwise\n",
        "\n",
        "  returns:\n",
        "  K - stiffness matrix\n",
        "\n",
        "\n",
        "\n",
        "  \"\"\"\n",
        "\n",
        "  K=np.zeros((len(k_list)-1,len(k_list)-1))\n",
        "  for i in range(len(k_list)-1):\n",
        "    K[i,i]= k_list[i]+k_list[i+1]\n",
        "  for i in range(len(k_list)-2):\n",
        "    K[i,i+1] = -k_list[i+1]\n",
        "    K[i+1,i] = -k_list[i+1]\n",
        "\n",
        "  if walls==False:\n",
        "    K[0,0] = -k_list[1]\n",
        "    K[-1,-1] = -k_list[-2]\n",
        "\n",
        "\n",
        "  return K"
      ],
      "metadata": {
        "id": "WDTjgsqX7h9D"
      },
      "execution_count": 17,
      "outputs": []
    },
    {
      "cell_type": "code",
      "source": [
        "somelist = [10,10,10,10]\n",
        "\n",
        "K = set_up_stiffness_matrix(somelist)\n",
        "print(K)\n",
        "\n",
        "K = set_up_stiffness_matrix(somelist, walls=False)\n",
        "K"
      ],
      "metadata": {
        "id": "jkxHYrE79KdA",
        "colab": {
          "base_uri": "https://localhost:8080/"
        },
        "outputId": "93b6f5b7-0835-4dae-cef9-970586f9f6cc"
      },
      "execution_count": 18,
      "outputs": [
        {
          "output_type": "stream",
          "name": "stdout",
          "text": [
            "[[ 20. -10.   0.]\n",
            " [-10.  20. -10.]\n",
            " [  0. -10.  20.]]\n"
          ]
        },
        {
          "output_type": "execute_result",
          "data": {
            "text/plain": [
              "array([[-10., -10.,   0.],\n",
              "       [-10.,  20., -10.],\n",
              "       [  0., -10., -10.]])"
            ]
          },
          "metadata": {},
          "execution_count": 18
        }
      ]
    },
    {
      "cell_type": "code",
      "source": [
        "def calculate_eigenfrequencies(K,M):\n",
        "  \"\"\"\n",
        "  Function to solve the spring mass system for a given stiffness matrix K and a mass matrix M\n",
        "\n",
        "  Keyword arguments:\n",
        "  K - stiffness matrix\n",
        "  M - mass matrix\n",
        "\n",
        "  returns:\n",
        "  omega - real eigenfrequencies of the system\n",
        "  \"\"\"\n",
        "  eigenvalues, eigenvectors = la.eigh(K,M)\n",
        "  omega = np.sqrt(la.eigh(K,M)[0])\n",
        "  return omega\n"
      ],
      "metadata": {
        "id": "mIJ2ra4mmtNk"
      },
      "execution_count": 11,
      "outputs": []
    },
    {
      "cell_type": "code",
      "source": [
        "calculate_eigenfrequencies(K,M)\n",
        "calculate_eigenfrequencies(set_up_stiffness_matrix([10,10,10,10]),setup_mass_matrix([1,1,1]))"
      ],
      "metadata": {
        "colab": {
          "base_uri": "https://localhost:8080/"
        },
        "id": "33oABqI2oVZw",
        "outputId": "92e097eb-f923-4f47-f40b-33d7e163d68c"
      },
      "execution_count": 12,
      "outputs": [
        {
          "output_type": "execute_result",
          "data": {
            "text/plain": [
              "array([2.42030254, 4.47213595, 5.84312721])"
            ]
          },
          "metadata": {},
          "execution_count": 12
        }
      ]
    },
    {
      "cell_type": "markdown",
      "source": [
        "### Conclusion\n",
        "While this approach works for our example problem, we used a lot of physics and very little coding to get to the desired result. This is in general no problem, however if we now want to extend our system we quickly run into issues with the analytical solution provided. In the next classes we will try to use more code to make the solution more adaptable to more generic problems.\n",
        "\n",
        "The big advantage we have now is that whatever code we produce the new code should still be able to reproduce our analytical solution above. In coding we call this a *unit test*."
      ],
      "metadata": {
        "id": "vphy9I2SCabu"
      }
    },
    {
      "cell_type": "markdown",
      "source": [
        "## Homework (total 42 points)\n",
        "\n",
        "Make sure that all the code you are writing has proper docstrings."
      ],
      "metadata": {
        "id": "a-Q__yABT41p"
      }
    },
    {
      "cell_type": "markdown",
      "source": [
        "### Extend the existing code (total 32 points)\n",
        "1. Extend the system to $n$ masses (10 points) and adjust the code so that every spring and every mass can be different (10 points).\n",
        "2. Add an conditional statement for the case that the first and last spring is not connected to a wall and add the code to calculate that case (12 points)"
      ],
      "metadata": {
        "id": "__JXKJ0Wz-ce"
      }
    },
    {
      "cell_type": "markdown",
      "source": [
        "### AI creativity (10 points)\n",
        "\n",
        "Use the following prompt in your favorite AI tool:\n",
        "> I want to expand the physics model of coupled harmonic oscillators. I have a chain of masses coupled with springs. Give me a creative way how to couple those masses and show me how to calculate their Eigenfrequencies in a Jupyter notebook. Then ask me if that model makes sense in physics. Take my answer and adapt the model accordingly updating the code. Repeat this till I’m confident that you suggested a model that can exist in the real world.\n",
        "\n",
        "Copy and run the final code in the next cell. Then comment on how your favorite AI model handled the physics and how many iteration steps it needed to get a real-world model. Also descibe where in nature you would find the final model."
      ],
      "metadata": {
        "id": "vFd2CCMQxrPp"
      }
    },
    {
      "cell_type": "code",
      "source": [
        "import numpy as np\n",
        "import matplotlib.pyplot as plt\n",
        "from scipy.linalg import eigh\n",
        "\n",
        "# Define system parameters\n",
        "N = 5  # Number of masses\n",
        "k_values = np.array([1.0, 1.2, 0.8, 1.5, 1.0])  # Unique spring constants\n",
        "m_values = np.array([1.0, 1.1, 0.9, 1.3, 1.0])  # Unique masses\n",
        "\n",
        "# Construct the coupling matrix\n",
        "K = np.zeros((N, N))\n",
        "K[0, 0] = k_values[1]\n",
        "for i in range(N - 1):\n",
        "    K[i, i] += k_values[i]\n",
        "    K[i + 1, i + 1] += k_values[i]\n",
        "    K[i, i + 1] = -k_values[i]\n",
        "    K[i + 1, i] = -k_values[i]\n",
        "K[-1, -1] += k_values[-1]\n",
        "\n",
        "# Mass matrix\n",
        "M = np.diag(m_values)\n",
        "\n",
        "# Solve the eigenvalue problem\n",
        "w2, modes = eigh(K, M)  # Solve Kx = w^2 Mx\n",
        "frequencies = np.sqrt(w2)\n",
        "\n",
        "# Plot the normal modes\n",
        "plt.figure(figsize=(8, 6))\n",
        "for i in range(N):\n",
        "    plt.plot(modes[:, i], label=f'Mode {i+1} (f={frequencies[i]:.2f})')\n",
        "plt.xlabel(\"Mass index\")\n",
        "plt.ylabel(\"Displacement\")\n",
        "plt.title(\"Normal Modes of Coupled Oscillators\")\n",
        "plt.legend()\n",
        "plt.show()\n"
      ],
      "metadata": {
        "colab": {
          "base_uri": "https://localhost:8080/",
          "height": 564
        },
        "id": "oh43fgZzd7vR",
        "outputId": "3328b511-6e9c-4ce1-a18f-aa4e97bd59d9"
      },
      "execution_count": 20,
      "outputs": [
        {
          "output_type": "display_data",
          "data": {
            "text/plain": [
              "<Figure size 800x600 with 1 Axes>"
            ],
            "image/png": "[encoded data removed]"
          },
          "metadata": {}
        }
      ]
    },
    {
      "cell_type": "markdown",
      "source": [
        "Using ChatGPT it took two iterations to come across this particle code which I was satisfied with. It was interested how it ploted each Mode to represent what it had calculated. All in all, the LLM handled the physics very well. The only issue being the K matrix was set up incorrectly for having walls, which I manually went through and changed (The original K matrix only had values which were incorrect). Lastly, one could find this model in the interactions between atoms in compounds, for instance the bonds between a carbon dioxide molecule act like spring constants and each atom acts like a mass."
      ],
      "metadata": {
        "id": "5IryMuo0eGSi"
      }
    }
  ]
}