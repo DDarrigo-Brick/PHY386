{
  "nbformat": 4,
  "nbformat_minor": 0,
  "metadata": {
    "colab": {
      "provenance": [],
      "authorship_tag": "ABX9TyNr9Yl+9Y4ji2OMc7m4urm/",
      "include_colab_link": true
    },
    "kernelspec": {
      "name": "python3",
      "display_name": "Python 3"
    },
    "language_info": {
      "name": "python"
    }
  },
  "cells": [
    {
      "cell_type": "markdown",
      "metadata": {
        "id": "view-in-github",
        "colab_type": "text"
      },
      "source": [
        "<a href=\"https://colab.research.google.com/github/ubsuny/PHY386/blob/Homework2025/2025/HW/codeBall01/HW1.ipynb\" target=\"_parent\"><img src=\"https://colab.research.google.com/assets/colab-badge.svg\" alt=\"Open In Colab\"/></a>"
      ]
    },
    {
      "cell_type": "code",
      "execution_count": null,
      "metadata": {
        "id": "82Js3UOeTexL"
      },
      "outputs": [],
      "source": []
    },
    {
      "cell_type": "markdown",
      "source": [
        "## Basic Formating Examples"
      ],
      "metadata": {
        "id": "L5TYUXJeTmAK"
      }
    },
    {
      "cell_type": "markdown",
      "source": [
        "What I'm looking to learn in this class:\n",
        "\n",
        "\n",
        "1. How to model physical systems in python\n",
        "2. How to use python to solve complex mathimatical equations\n",
        "3. How to use machine learning in physics\n",
        "4. About modern uses of how computers are used in physics\n",
        "5. Monti Carlo simulations\n"
      ],
      "metadata": {
        "id": "Tp1MTLnQT3v8"
      }
    },
    {
      "cell_type": "markdown",
      "source": [
        "###How to inclue external media"
      ],
      "metadata": {
        "id": "bUwvf4TNTqRk"
      }
    },
    {
      "cell_type": "markdown",
      "source": [
        "![link text](https://encrypted-tbn1.gstatic.com/images?q=tbn:ANd9GcSYL519Z_hswBfTk6U_7OTO2mF3w316LkWOebqFKtX5TCibY7_rN6MnkJB6KbPMZG9EK5fU9Oc2GVBgJMyNlFLnpg)\n",
        "\n",
        "\n",
        "**Richard Feynman**\n",
        "Source:\n",
        "[gstatic.com](https://encrypted-tbn1.gstatic.com/images?q=tbn:ANd9GcSYL519Z_hswBfTk6U_7OTO2mF3w316LkWOebqFKtX5TCibY7_rN6MnkJB6KbPMZG9EK5fU9Oc2GVBgJMyNlFLnpg)\n",
        "\n",
        "Feynman is my favorite scientist because of the way he thought from solving problems to how he taught.\n",
        "\n",
        "He discovered this equation as an undergrad at MIT\n",
        "\n",
        "$ \\frac{dE}{d\\lambda} \\; = \\; \\langle \\psi(\\lambda) \\lvert \\frac{dH(\\lambda)}{d\\lambda} \\rvert \\psi (\\lambda) \\rangle$\n",
        "\n",
        "✏\n",
        "\n",
        "Latex is breaking, my code’s in despair,\n",
        "Derivatives haunt me—they're everywhere!\n",
        "Monte Carlo mocks me, it just won’t behave,\n",
        "Guess I’ll debug it... or let it enslave.\n",
        "\n",
        "\n"
      ],
      "metadata": {
        "id": "ta1__vuQUwpF"
      }
    },
    {
      "cell_type": "markdown",
      "source": [
        "##Coding Excersises"
      ],
      "metadata": {
        "id": "7Yez7fYiTtzt"
      }
    },
    {
      "cell_type": "code",
      "source": [
        "print(\"Hello Class!\")"
      ],
      "metadata": {
        "colab": {
          "base_uri": "https://localhost:8080/"
        },
        "id": "Ol4U-q4DZotv",
        "outputId": "7b64506c-07c2-4116-e62b-e3566315184b"
      },
      "execution_count": null,
      "outputs": [
        {
          "output_type": "stream",
          "name": "stdout",
          "text": [
            "Hello Class!\n"
          ]
        }
      ]
    },
    {
      "cell_type": "code",
      "source": [
        "print(\"{:010.3f}\".format(float(2025)))\n",
        "\n"
      ],
      "metadata": {
        "colab": {
          "base_uri": "https://localhost:8080/"
        },
        "id": "HDAHUcQHZvID",
        "outputId": "f530a32f-7cf1-40d6-f581-e474a7283cdc"
      },
      "execution_count": 20,
      "outputs": [
        {
          "output_type": "stream",
          "name": "stdout",
          "text": [
            "002025.000\n"
          ]
        }
      ]
    },
    {
      "cell_type": "code",
      "source": [
        "string = \"Hello\"\n",
        "integer = 123\n",
        "float_num = 1/3\n",
        "\n",
        "print(string)\n",
        "print(integer)\n",
        "print(float_num)"
      ],
      "metadata": {
        "colab": {
          "base_uri": "https://localhost:8080/"
        },
        "id": "YHEQ0RcFZyXj",
        "outputId": "4741c57d-227f-4a16-eb05-997021bd35cf"
      },
      "execution_count": 21,
      "outputs": [
        {
          "output_type": "stream",
          "name": "stdout",
          "text": [
            "Hello\n",
            "123\n",
            "0.3333333333333333\n"
          ]
        }
      ]
    },
    {
      "cell_type": "code",
      "source": [
        "math = (12-3 + 4*2)%5\n",
        "print(math)"
      ],
      "metadata": {
        "id": "pNXgTa_kZyVM",
        "colab": {
          "base_uri": "https://localhost:8080/"
        },
        "outputId": "a716672a-9798-473c-f083-7b8af59c95dc"
      },
      "execution_count": 24,
      "outputs": [
        {
          "output_type": "stream",
          "name": "stdout",
          "text": [
            "2\n"
          ]
        }
      ]
    },
    {
      "cell_type": "code",
      "source": [
        "number = input(\"Please give a number \")\n",
        "try:\n",
        "  if float(number)%2 == 0:\n",
        "    print(\"The number is even\")\n",
        "  else:\n",
        "    print(\"The number is odd\")\n",
        "except:\n",
        "  print(\"Try again\")"
      ],
      "metadata": {
        "id": "e8VmFaE7ZyH7",
        "colab": {
          "base_uri": "https://localhost:8080/"
        },
        "outputId": "dcda8515-4498-4e7e-be42-e95e39560ca5"
      },
      "execution_count": 31,
      "outputs": [
        {
          "output_type": "stream",
          "name": "stdout",
          "text": [
            "Please give a number 9877787\n",
            "The number is odd\n"
          ]
        }
      ]
    },
    {
      "cell_type": "code",
      "source": [
        "#for i in range(1,10):\n",
        "#  print(i)\n",
        "\n",
        "for i in range(1,10):\n",
        "  if i%2 == 0:\n",
        "    print(i)"
      ],
      "metadata": {
        "colab": {
          "base_uri": "https://localhost:8080/"
        },
        "id": "v_SRli0kD2YR",
        "outputId": "77526ff6-e3a9-444d-c9f7-e04f4bb04bc4"
      },
      "execution_count": 35,
      "outputs": [
        {
          "output_type": "stream",
          "name": "stdout",
          "text": [
            "2\n",
            "4\n",
            "6\n",
            "8\n"
          ]
        }
      ]
    },
    {
      "cell_type": "code",
      "source": [
        "def add(x,y):\n",
        "  return x+y\n",
        "def sub(x,y):\n",
        "  return x-y\n",
        "def mul(x,y):\n",
        "  return x*y\n",
        "def div(x,y):\n",
        "  return x/y\n",
        "\n",
        "m = div(add(1,3),sub(1,mul(1,4)))\n",
        "m"
      ],
      "metadata": {
        "colab": {
          "base_uri": "https://localhost:8080/"
        },
        "id": "0Udy4IuuD2Va",
        "outputId": "ab4e0a97-d2f2-4495-ffc2-8063e3a6c48f"
      },
      "execution_count": 42,
      "outputs": [
        {
          "output_type": "execute_result",
          "data": {
            "text/plain": [
              "-1.3333333333333333"
            ]
          },
          "metadata": {},
          "execution_count": 42
        }
      ]
    },
    {
      "cell_type": "code",
      "source": [
        "list_1 = [1,3,5,4,45,6,4]\n",
        "average = sum(list_1)/len(list_1)\n",
        "average"
      ],
      "metadata": {
        "colab": {
          "base_uri": "https://localhost:8080/"
        },
        "id": "Aw-9s5_5D2ND",
        "outputId": "e9a34f35-2065-4732-c333-9e736e151dac"
      },
      "execution_count": 43,
      "outputs": [
        {
          "output_type": "execute_result",
          "data": {
            "text/plain": [
              "9.714285714285714"
            ]
          },
          "metadata": {},
          "execution_count": 43
        }
      ]
    },
    {
      "cell_type": "code",
      "source": [
        "fruits = {\"red\":\"apple \"\"cherry \"\"watermelon \", \"yellow\": \"banana \" \"lemon \", \"blue\": \"blueberry \" \"concord grape \"}\n",
        "print(fruits[\"red\"])"
      ],
      "metadata": {
        "colab": {
          "base_uri": "https://localhost:8080/"
        },
        "id": "zm4XQL1QFHhm",
        "outputId": "bf097742-509d-450b-dcd0-8b0415012611"
      },
      "execution_count": 51,
      "outputs": [
        {
          "output_type": "stream",
          "name": "stdout",
          "text": [
            "apple cherry watermelon \n"
          ]
        }
      ]
    },
    {
      "cell_type": "code",
      "source": [
        "# Get user input\n",
        "user_input = input(\"Enter some text: \")\n",
        "\n",
        "# Write input to a file\n",
        "with open(\"user_data.txt\", \"w\") as file:\n",
        "    file.write(user_input)\n",
        "\n",
        "# Read and display the contents of the file\n",
        "with open(\"user_data.txt\", \"r\") as file:\n",
        "    content = file.read()\n",
        "    print(\"\\nFile contents:\")\n",
        "    print(content)\n"
      ],
      "metadata": {
        "colab": {
          "base_uri": "https://localhost:8080/"
        },
        "id": "63TSYge7FHaV",
        "outputId": "39ea567d-0a01-405d-a317-363e454d8d08"
      },
      "execution_count": 52,
      "outputs": [
        {
          "output_type": "stream",
          "name": "stdout",
          "text": [
            "Enter some text: Hello!\n",
            "\n",
            "File contents:\n",
            "Hello!\n"
          ]
        }
      ]
    },
    {
      "cell_type": "markdown",
      "source": [
        "When uploading use: 2025/HW/codeBall01/HW1.ipynb"
      ],
      "metadata": {
        "id": "4GXtqobgug0H"
      }
    },
    {
      "cell_type": "code",
      "source": [],
      "metadata": {
        "id": "GSdLzdUkGN-Q"
      },
      "execution_count": null,
      "outputs": []
    }
  ]
}