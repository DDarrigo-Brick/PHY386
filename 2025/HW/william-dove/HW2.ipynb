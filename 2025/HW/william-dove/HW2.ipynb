{
  "nbformat": 4,
  "nbformat_minor": 0,
  "metadata": {
    "colab": {
      "provenance": [],
      "authorship_tag": "ABX9TyMiEObKKH64BdBouxMLHshq",
      "include_colab_link": true
    },
    "kernelspec": {
      "name": "python3",
      "display_name": "Python 3"
    },
    "language_info": {
      "name": "python"
    }
  },
  "cells": [
    {
      "cell_type": "markdown",
      "metadata": {
        "id": "view-in-github",
        "colab_type": "text"
      },
      "source": [
        "<a href=\"https://colab.research.google.com/github/ubsuny/PHY386/blob/Homework2025/2025/HW/william-dove/HW2.ipynb\" target=\"_parent\"><img src=\"https://colab.research.google.com/assets/colab-badge.svg\" alt=\"Open In Colab\"/></a>"
      ]
    },
    {
      "cell_type": "markdown",
      "source": [
        "This is the solution provided for the 3-mass, 4-spring case:"
      ],
      "metadata": {
        "id": "YpAjubBLEdGb"
      }
    },
    {
      "cell_type": "code",
      "execution_count": 3,
      "metadata": {
        "colab": {
          "base_uri": "https://localhost:8080/"
        },
        "id": "h_mwU9N5IBkB",
        "outputId": "cb411129-40b5-4249-b78b-20b16f918673"
      },
      "outputs": [
        {
          "output_type": "stream",
          "name": "stdout",
          "text": [
            "Eigenfrequencies:\n",
            "ω₁ = 4.4721 rad/s\n",
            "ω₂ = 2.4203 rad/s\n",
            "ω₃ = 5.8431 rad/s\n"
          ]
        }
      ],
      "source": [
        "# 3 mass soln\n",
        "\n",
        "# import libraries\n",
        "import numpy as np\n",
        "\n",
        "\n",
        "# Let's calculate the frequencies numerically:\n",
        "\n",
        "def calculate_eigenfrequencies_3mass(k, m):\n",
        "    \"\"\" calculate the eigenfrequencies for our three mass problem.\n",
        "\n",
        "    Args:\n",
        "    k -- spring constant (N/m)\n",
        "    m -- mass (kg)\n",
        "\n",
        "    Returns:\n",
        "    w1 -- first eigenfrequency\n",
        "    w2 -- second eigenfrequency\n",
        "    w3 -- third eigenfrequency\n",
        "    \"\"\"\n",
        "    w0_squared = k / m\n",
        "    w1 = np.sqrt(2*w0_squared)\n",
        "    w2 = np.sqrt((2 - np.sqrt(2)) * w0_squared)\n",
        "    w3 = np.sqrt((2 + np.sqrt(2)) * w0_squared)\n",
        "    return w1, w2, w3\n",
        "\n",
        "# Example values\n",
        "k = 10  # N/m\n",
        "m = 1   # kg\n",
        "\n",
        "w1, w2, w3 = calculate_eigenfrequencies_3mass(k, m)\n",
        "\n",
        "print(\"Eigenfrequencies:\")\n",
        "print(\"ω₁ = {:.4f} rad/s\".format(w1))\n",
        "print(\"ω₂ = {:.4f} rad/s\".format(w2))\n",
        "print(\"ω₃ = {:.4f} rad/s\".format(w3))"
      ]
    },
    {
      "cell_type": "markdown",
      "source": [
        "This is the solution for *n* masses, and either *n* or *n*+1 springs, depending on whether the system is attached to walls on both ends or just one:\n",
        "\n",
        "First, we define functions to create the mass and stiffness matrices."
      ],
      "metadata": {
        "id": "Gxery49oEm3s"
      }
    },
    {
      "cell_type": "code",
      "source": [
        "def setup_mass_matrix(m_list):\n",
        "  '''\n",
        "  This function creates a matrix of masses using the provided masses list as the diagnoal terms.\n",
        "\n",
        "  Args:\n",
        "  m_list: list of masses (kg)\n",
        "\n",
        "  Returns:\n",
        "  mass_matrix: mass matrix (numpy array)\n",
        "  '''\n",
        "  M = np.diag(m_list)\n",
        "  return M\n",
        "\n",
        "print(setup_mass_matrix([1,1,1]))"
      ],
      "metadata": {
        "colab": {
          "base_uri": "https://localhost:8080/"
        },
        "id": "0FeJoD1321j1",
        "outputId": "5db11a46-d8ef-4c25-9869-df471fea22e8"
      },
      "execution_count": 4,
      "outputs": [
        {
          "output_type": "stream",
          "name": "stdout",
          "text": [
            "[[1 0 0]\n",
            " [0 1 0]\n",
            " [0 0 1]]\n"
          ]
        }
      ]
    },
    {
      "cell_type": "code",
      "source": [
        "def setup_stiffness_matrix(k_list):\n",
        "  '''\n",
        "  This function creates a matrix of spring constants using the provided spring constants list. The diagonal terms are defined as -(k_n+k_n+1),\n",
        "  and the off-diagonal terms are defined as k_n+1.\n",
        "\n",
        "  Args:\n",
        "  k_list: list of spring constants (N/m)\n",
        "\n",
        "  Returns:\n",
        "  stiffness_matrix: stiffness matrix (numpy array)\n",
        "  '''\n",
        "  stiffness_matrix = np.diag([-k_list[i] - k_list[i+1] for i in range(len(k_list)-1)])\n",
        "  stiffness_matrix_offDiags = np.diag(k_list[1:-1], k=+1) + np.diag(k_list[1:-1], k=-1)\n",
        "  stiffness_matrix += stiffness_matrix_offDiags\n",
        "  return stiffness_matrix\n",
        "\n",
        "print(setup_stiffness_matrix([10,10,10,10]))"
      ],
      "metadata": {
        "colab": {
          "base_uri": "https://localhost:8080/"
        },
        "id": "XGXP8Xh27mGF",
        "outputId": "3560980d-3d78-42ec-b6e6-33253af185b8"
      },
      "execution_count": 5,
      "outputs": [
        {
          "output_type": "stream",
          "name": "stdout",
          "text": [
            "[[-20  10   0]\n",
            " [ 10 -20  10]\n",
            " [  0  10 -20]]\n"
          ]
        }
      ]
    },
    {
      "cell_type": "markdown",
      "source": [
        "Next, we can use these matrices and the SciPy library for linear algebra to find the eigenfrequencies.\n",
        "\n",
        "We assume that $x=e^{i\\omega x}$ so that $\\frac{d^2 x}{dx^2}=-\\omega^2 x$. Then we can use $M(-\\omega^2)x=Kx \\rightarrow M^{-1}Kx=-\\omega^2 x$. The eigenvalues of the $M^{-1}K$ matrix are $-\\omega^2$ so we can solve for the frequencies."
      ],
      "metadata": {
        "id": "fbrhvJ3tVZ1F"
      }
    },
    {
      "cell_type": "code",
      "source": [
        "# Code extended for n masses with unique mass and n+2 springs with unique spring constants.\n",
        "\n",
        "import scipy.linalg as la\n",
        "\n",
        "def calculate_eigenfrequencies_nmass(k_list, m_list):\n",
        "    \"\"\"\n",
        "    Calculates the eigenfrequencies for a system with n masses and either n or n+1 springs.\n",
        "    Each mass and spring constant may be unique. Input masses and spring constants as lists.\n",
        "\n",
        "    Args:\n",
        "    k_list: list of spring constants (N/m)\n",
        "    m_list: list of masses (kg)\n",
        "\n",
        "    Returns:\n",
        "    omega_list: list of eigenfrequencies (rad/s)\n",
        "    \"\"\"\n",
        "    M = setup_mass_matrix(m_list)\n",
        "    K = setup_stiffness_matrix(k_list)\n",
        "    MinvK = la.inv(M)*K\n",
        "    eigs_list = la.eigh(MinvK)[0]\n",
        "    omega_list = np.sqrt(-eigs_list)\n",
        "    return omega_list\n",
        "\n",
        "print(calculate_eigenfrequencies_nmass([10,10,10,10],[1,1,1]))"
      ],
      "metadata": {
        "id": "rW3K25SVNMg7",
        "colab": {
          "base_uri": "https://localhost:8080/"
        },
        "outputId": "87d0a5f9-a23c-4a58-8dee-4f99554d6daf"
      },
      "execution_count": 12,
      "outputs": [
        {
          "output_type": "stream",
          "name": "stdout",
          "text": [
            "[4.47213595 4.47213595 4.47213595]\n"
          ]
        }
      ]
    },
    {
      "cell_type": "markdown",
      "source": [
        "Comparing the results from the provided/extended code:"
      ],
      "metadata": {
        "id": "DijSe1EhXiZH"
      }
    },
    {
      "cell_type": "code",
      "source": [
        "from IPython.display import display, Math\n",
        "\n",
        "# Example values\n",
        "k = 10  # N/m\n",
        "m = 1   # kg\n",
        "k_list = [10,10,10,10]\n",
        "m_list = [1,1,1]\n",
        "\n",
        "# Provided 3 mass code\n",
        "w1, w2, w3 = calculate_eigenfrequencies_3mass(k, m)\n",
        "print(\"Provided Result:\")\n",
        "print(\"ω₁ = {:.4f} rad/s\".format(w1))\n",
        "print(\"ω₂ = {:.4f} rad/s\".format(w2))\n",
        "print(\"ω₃ = {:.4f} rad/s\".format(w3))\n",
        "\n",
        "# My n mass code\n",
        "my_result = calculate_eigenfrequencies_nmass(k_list, m_list)\n",
        "print('\\nMy Result:')\n",
        "\n",
        "display(*[Math(rf'\\omega_{{{n+1}}} = {my_result[n]:.4f} \\text{{ rad/s}}') for n in range(len(my_result))])"
      ],
      "metadata": {
        "colab": {
          "base_uri": "https://localhost:8080/",
          "height": 187
        },
        "id": "ZcNTuCQ2XeQy",
        "outputId": "a24c5472-2b31-4674-c5a0-1f62aab1908e"
      },
      "execution_count": 24,
      "outputs": [
        {
          "output_type": "stream",
          "name": "stdout",
          "text": [
            "Provided Result:\n",
            "ω₁ = 4.4721 rad/s\n",
            "ω₂ = 2.4203 rad/s\n",
            "ω₃ = 5.8431 rad/s\n",
            "\n",
            "My Result:\n"
          ]
        },
        {
          "output_type": "display_data",
          "data": {
            "text/plain": [
              "<IPython.core.display.Math object>"
            ],
            "text/latex": "$\\displaystyle \\omega_{1} = 4.4721 \\text{ rad/s}$"
          },
          "metadata": {}
        },
        {
          "output_type": "display_data",
          "data": {
            "text/plain": [
              "<IPython.core.display.Math object>"
            ],
            "text/latex": "$\\displaystyle \\omega_{2} = 4.4721 \\text{ rad/s}$"
          },
          "metadata": {}
        },
        {
          "output_type": "display_data",
          "data": {
            "text/plain": [
              "<IPython.core.display.Math object>"
            ],
            "text/latex": "$\\displaystyle \\omega_{3} = 4.4721 \\text{ rad/s}$"
          },
          "metadata": {}
        }
      ]
    }
  ]
}