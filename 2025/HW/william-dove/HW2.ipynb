{
  "nbformat": 4,
  "nbformat_minor": 0,
  "metadata": {
    "colab": {
      "provenance": [],
      "authorship_tag": "ABX9TyMceUsGUzJugxK0bg2PQqSa",
      "include_colab_link": true
    },
    "kernelspec": {
      "name": "python3",
      "display_name": "Python 3"
    },
    "language_info": {
      "name": "python"
    }
  },
  "cells": [
    {
      "cell_type": "markdown",
      "metadata": {
        "id": "view-in-github",
        "colab_type": "text"
      },
      "source": [
        "<a href=\"https://colab.research.google.com/github/ubsuny/PHY386/blob/Homework2025/2025/HW/william-dove/HW2.ipynb\" target=\"_parent\"><img src=\"https://colab.research.google.com/assets/colab-badge.svg\" alt=\"Open In Colab\"/></a>"
      ]
    },
    {
      "cell_type": "markdown",
      "source": [
        "This is the solution provided for the 3-mass, 4-spring case:"
      ],
      "metadata": {
        "id": "YpAjubBLEdGb"
      }
    },
    {
      "cell_type": "code",
      "execution_count": 10,
      "metadata": {
        "colab": {
          "base_uri": "https://localhost:8080/"
        },
        "id": "h_mwU9N5IBkB",
        "outputId": "b10b2626-b5ce-4bfd-fd86-e790c713f62f"
      },
      "outputs": [
        {
          "output_type": "stream",
          "name": "stdout",
          "text": [
            "Eigenfrequencies:\n",
            "ω₁ = 4.4721 rad/s\n",
            "ω₂ = 2.4203 rad/s\n",
            "ω₃ = 5.8431 rad/s\n"
          ]
        }
      ],
      "source": [
        "# 3 mass soln\n",
        "\n",
        "# import libraries\n",
        "import numpy as np\n",
        "\n",
        "\n",
        "# Let's calculate the frequencies numerically:\n",
        "\n",
        "def calculate_eigenfrequencies_3mass(k, m):\n",
        "    \"\"\" calculate the eigenfrequencies for our three mass problem.\n",
        "\n",
        "    Args:\n",
        "    k -- spring constant (N/m)\n",
        "    m -- mass (kg)\n",
        "\n",
        "    Returns:\n",
        "    w1 -- first eigenfrequency\n",
        "    w2 -- second eigenfrequency\n",
        "    w3 -- third eigenfrequency\n",
        "    \"\"\"\n",
        "    w0_squared = k / m\n",
        "    w1 = np.sqrt(2*w0_squared)\n",
        "    w2 = np.sqrt((2 - np.sqrt(2)) * w0_squared)\n",
        "    w3 = np.sqrt((2 + np.sqrt(2)) * w0_squared)\n",
        "    return w1, w2, w3\n",
        "\n",
        "# Example values\n",
        "k = 10  # N/m\n",
        "m = 1   # kg\n",
        "\n",
        "w1, w2, w3 = calculate_eigenfrequencies_3mass(k, m)\n",
        "\n",
        "print(\"Eigenfrequencies:\")\n",
        "print(\"ω₁ = {:.4f} rad/s\".format(w1))\n",
        "print(\"ω₂ = {:.4f} rad/s\".format(w2))\n",
        "print(\"ω₃ = {:.4f} rad/s\".format(w3))"
      ]
    },
    {
      "cell_type": "markdown",
      "source": [
        "This is the solution for *n* masses, and springs either attached to walls or not attached:\n",
        "\n",
        "First, we define functions to create the mass and stiffness matrices."
      ],
      "metadata": {
        "id": "Gxery49oEm3s"
      }
    },
    {
      "cell_type": "code",
      "source": [
        "def setup_mass_matrix(m_list):\n",
        "  '''\n",
        "  This function creates a matrix of masses using the provided masses list as the diagnoal terms.\n",
        "\n",
        "  Args:\n",
        "  m_list: list of masses (kg)\n",
        "\n",
        "  Returns:\n",
        "  mass_matrix: mass matrix (numpy array)\n",
        "  '''\n",
        "  M = np.diag(m_list)\n",
        "  return M\n",
        "\n",
        "print(setup_mass_matrix([1,1,1]))"
      ],
      "metadata": {
        "colab": {
          "base_uri": "https://localhost:8080/"
        },
        "id": "0FeJoD1321j1",
        "outputId": "672e8b99-04aa-407e-a13a-3509fcc2c7b0"
      },
      "execution_count": 11,
      "outputs": [
        {
          "output_type": "stream",
          "name": "stdout",
          "text": [
            "[[1 0 0]\n",
            " [0 1 0]\n",
            " [0 0 1]]\n"
          ]
        }
      ]
    },
    {
      "cell_type": "code",
      "source": [
        "def setup_stiffness_matrix(k_list, walls=True):\n",
        "  '''\n",
        "  This function creates a matrix of spring constants using the provided spring constants list. The diagonal terms are defined as -(k_n+k_n+1),\n",
        "  and the off-diagonal terms are defined as k_n+1. If walls=False, the end springs are disregarded and the first and last diagonal elements are\n",
        "  defined as the second and second to last spring constants respectively.\n",
        "\n",
        "  Args:\n",
        "  k_list: list of spring constants (N/m). If walls=False, the first and last elements of the list are ignored.\n",
        "  walls: boolean value indicating whether the system is attached to walls on both ends.\n",
        "\n",
        "  Returns:\n",
        "  stiffness_matrix: stiffness matrix (numpy array)\n",
        "  '''\n",
        "\n",
        "  stiffness_matrix = np.diag([-k_list[i] - k_list[i+1] for i in range(len(k_list)-1)])\n",
        "  stiffness_matrix_offDiags = np.diag(k_list[1:-1], k=+1) + np.diag(k_list[1:-1], k=-1)\n",
        "  stiffness_matrix += stiffness_matrix_offDiags\n",
        "\n",
        "  if not walls:\n",
        "    stiffness_matrix[0,0] = -k_list[1]\n",
        "    stiffness_matrix[-1,-1] = -k_list[-2]\n",
        "  return stiffness_matrix\n",
        "\n",
        "print(setup_stiffness_matrix([10,10,10,10]))\n",
        "print(setup_stiffness_matrix([10,10,10,10], walls=False))"
      ],
      "metadata": {
        "colab": {
          "base_uri": "https://localhost:8080/"
        },
        "id": "XGXP8Xh27mGF",
        "outputId": "d07e794a-ebec-4a71-f7d6-5794a3c0ef5a"
      },
      "execution_count": 12,
      "outputs": [
        {
          "output_type": "stream",
          "name": "stdout",
          "text": [
            "[[-20  10   0]\n",
            " [ 10 -20  10]\n",
            " [  0  10 -20]]\n",
            "[[-10  10   0]\n",
            " [ 10 -20  10]\n",
            " [  0  10 -10]]\n"
          ]
        }
      ]
    },
    {
      "cell_type": "markdown",
      "source": [
        "Next, we can use these matrices and the SciPy library for linear algebra to find the eigenfrequencies.\n",
        "\n",
        "We assume that $x=e^{i\\omega x}$ so that $\\frac{d^2 x}{dx^2}=-\\omega^2 x$. Then we can use $M(-\\omega^2)x=Kx \\rightarrow M^{-1}Kx=-\\omega^2 x$. The eigenvalues of the $M^{-1}K$ matrix are $-\\omega^2$ so we can solve for the frequencies."
      ],
      "metadata": {
        "id": "fbrhvJ3tVZ1F"
      }
    },
    {
      "cell_type": "code",
      "source": [
        "# Code extended for n masses with unique mass and n+1 springs with unique spring constants.\n",
        "\n",
        "import scipy.linalg as la\n",
        "\n",
        "def calculate_eigenfrequencies_nmass(k_list, m_list, walls=True):\n",
        "    \"\"\"\n",
        "    Calculates the eigenfrequencies for a system with n masses and either n-1 or n+1 springs.\n",
        "    Each mass and spring constant may be unique. Input masses and spring constants as lists.\n",
        "    If walls=False, the first and last spring constants are ignored and the eigenfrequencies are\n",
        "    calculated fror a system without outside springs connected to walls.\n",
        "\n",
        "    Args:\n",
        "    k_list: list of spring constants (N/m)\n",
        "    m_list: list of masses (kg)\n",
        "    walls: boolean value indicating whether the system is attached to walls on both ends.\n",
        "\n",
        "    Returns:\n",
        "    omega_list: list of eigenfrequencies (rad/s)\n",
        "    \"\"\"\n",
        "    M = setup_mass_matrix(m_list)\n",
        "    K = setup_stiffness_matrix(k_list, walls)\n",
        "\n",
        "    eigs_list = la.eigh(K, M)[0]\n",
        "    omega_list = np.sqrt(-eigs_list)\n",
        "    return omega_list\n",
        "\n",
        "print(calculate_eigenfrequencies_nmass([10,10,10,10],[1,1,1]))"
      ],
      "metadata": {
        "id": "rW3K25SVNMg7",
        "colab": {
          "base_uri": "https://localhost:8080/"
        },
        "outputId": "b48bda54-ed26-4b04-ebfd-fd6b61765e70"
      },
      "execution_count": 15,
      "outputs": [
        {
          "output_type": "stream",
          "name": "stdout",
          "text": [
            "[5.84312721 4.47213595 2.42030254]\n"
          ]
        }
      ]
    },
    {
      "cell_type": "markdown",
      "source": [
        "Comparing the results from the provided/extended code:"
      ],
      "metadata": {
        "id": "DijSe1EhXiZH"
      }
    },
    {
      "cell_type": "code",
      "source": [
        "from IPython.display import display, Math\n",
        "\n",
        "# Example values\n",
        "k = 10  # N/m\n",
        "m = 1   # kg\n",
        "k_list = [10,10,10,10]\n",
        "m_list = [1,1,1]\n",
        "\n",
        "# Provided 3 mass code\n",
        "w1, w2, w3 = calculate_eigenfrequencies_3mass(k, m)\n",
        "print(\"Provided Result:\")\n",
        "print(\"ω₁ = {:.4f} rad/s\".format(w1))\n",
        "print(\"ω₂ = {:.4f} rad/s\".format(w2))\n",
        "print(\"ω₃ = {:.4f} rad/s\".format(w3))\n",
        "\n",
        "# My n mass code\n",
        "my_result = calculate_eigenfrequencies_nmass(k_list, m_list)\n",
        "print('\\nMy Result:')\n",
        "\n",
        "display(*[Math(rf'\\omega_{{{n+1}}} = {my_result[n]:.4f} \\text{{ rad/s}}') for n in range(len(my_result))])\n",
        "\n",
        "# Testing result with no walls\n",
        "my_result_no_walls = calculate_eigenfrequencies_nmass(k_list, m_list, walls=False)\n",
        "print('\\nMy Result (no walls):')\n",
        "display(*[Math(rf'\\omega_{{{n+1}}} = {my_result_no_walls[n]:.4f} \\text{{ rad/s}}') for n in range(len(my_result_no_walls))])"
      ],
      "metadata": {
        "colab": {
          "base_uri": "https://localhost:8080/",
          "height": 287
        },
        "id": "ZcNTuCQ2XeQy",
        "outputId": "13a7c760-730a-4df9-e528-dc74aab217e9"
      },
      "execution_count": 16,
      "outputs": [
        {
          "output_type": "stream",
          "name": "stdout",
          "text": [
            "Provided Result:\n",
            "ω₁ = 4.4721 rad/s\n",
            "ω₂ = 2.4203 rad/s\n",
            "ω₃ = 5.8431 rad/s\n",
            "\n",
            "My Result:\n"
          ]
        },
        {
          "output_type": "display_data",
          "data": {
            "text/plain": [
              "<IPython.core.display.Math object>"
            ],
            "text/latex": "$\\displaystyle \\omega_{1} = 5.8431 \\text{ rad/s}$"
          },
          "metadata": {}
        },
        {
          "output_type": "display_data",
          "data": {
            "text/plain": [
              "<IPython.core.display.Math object>"
            ],
            "text/latex": "$\\displaystyle \\omega_{2} = 4.4721 \\text{ rad/s}$"
          },
          "metadata": {}
        },
        {
          "output_type": "display_data",
          "data": {
            "text/plain": [
              "<IPython.core.display.Math object>"
            ],
            "text/latex": "$\\displaystyle \\omega_{3} = 2.4203 \\text{ rad/s}$"
          },
          "metadata": {}
        },
        {
          "output_type": "stream",
          "name": "stdout",
          "text": [
            "\n",
            "My Result (no walls):\n"
          ]
        },
        {
          "output_type": "display_data",
          "data": {
            "text/plain": [
              "<IPython.core.display.Math object>"
            ],
            "text/latex": "$\\displaystyle \\omega_{1} = 5.4772 \\text{ rad/s}$"
          },
          "metadata": {}
        },
        {
          "output_type": "display_data",
          "data": {
            "text/plain": [
              "<IPython.core.display.Math object>"
            ],
            "text/latex": "$\\displaystyle \\omega_{2} = 3.1623 \\text{ rad/s}$"
          },
          "metadata": {}
        },
        {
          "output_type": "display_data",
          "data": {
            "text/plain": [
              "<IPython.core.display.Math object>"
            ],
            "text/latex": "$\\displaystyle \\omega_{3} = 0.0000 \\text{ rad/s}$"
          },
          "metadata": {}
        }
      ]
    },
    {
      "cell_type": "markdown",
      "source": [
        "## AI Creativity\n",
        "\n",
        "When given the prompt, the AI used a different method than explicitly creating mass and stiffness matrices M and K to solve the differential equation. Instead, it created one matrix D and solved for the eigenfrequencies of this matrix. It also used scipi and the eigh function to find the eigenvectors. Interestingly, it also plotted the results as a bar graph using pyplot. One weakness of the AI's solution is that it only works for a system where all the masses and spring constants are equal."
      ],
      "metadata": {
        "id": "UF9AclsMDRUO"
      }
    },
    {
      "cell_type": "code",
      "source": [
        "import numpy as np\n",
        "import matplotlib.pyplot as plt\n",
        "from scipy.linalg import eigh\n",
        "\n",
        "# Parameters\n",
        "N = 5  # Number of masses\n",
        "m = 1.0  # Mass of each oscillator\n",
        "k = 1.0  # Spring constant\n",
        "\n",
        "# Construct the dynamical matrix\n",
        "D = np.zeros((N, N))\n",
        "for i in range(N):\n",
        "    if i > 0:\n",
        "        D[i, i - 1] = -k/m\n",
        "    if i < N - 1:\n",
        "        D[i, i + 1] = -k/m\n",
        "    D[i, i] = 2 * k/m if (i > 0 and i < N - 1) else k/m\n",
        "\n",
        "# Compute eigenvalues and eigenvectors\n",
        "eigenvalues, eigenvectors = eigh(D)\n",
        "frequencies = np.sqrt(np.maximum(eigenvalues, 0))\n",
        "\n",
        "# Plot eigenfrequencies\n",
        "plt.figure(figsize=(8, 5))\n",
        "plt.bar(range(1, N + 1), frequencies)\n",
        "plt.xlabel(\"Mode Number\")\n",
        "plt.ylabel(\"Eigenfrequency\")\n",
        "plt.title(\"Eigenfrequencies of Coupled Oscillators\")\n",
        "plt.show()\n",
        "\n",
        "# Display results\n",
        "print(\"Eigenfrequencies:\", frequencies)"
      ],
      "metadata": {
        "colab": {
          "base_uri": "https://localhost:8080/",
          "height": 504
        },
        "id": "V0ZqZowmDWWq",
        "outputId": "f7e86333-ee63-4e1d-b6c0-7bf8fd521819"
      },
      "execution_count": 17,
      "outputs": [
        {
          "output_type": "display_data",
          "data": {
            "text/plain": [
              "<Figure size 800x500 with 1 Axes>"
            ],
            "image/png": "[encoded data removed]"
          },
          "metadata": {}
        },
        {
          "output_type": "stream",
          "name": "stdout",
          "text": [
            "Eigenfrequencies: [0.         0.61803399 1.1755705  1.61803399 1.90211303]\n"
          ]
        }
      ]
    }
  ]
}