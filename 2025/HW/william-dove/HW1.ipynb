{
  "nbformat": 4,
  "nbformat_minor": 0,
  "metadata": {
    "colab": {
      "provenance": [],
      "authorship_tag": "ABX9TyN0snFC1scAOfKnqXQag7wo",
      "include_colab_link": true
    },
    "kernelspec": {
      "name": "python3",
      "display_name": "Python 3"
    },
    "language_info": {
      "name": "python"
    }
  },
  "cells": [
    {
      "cell_type": "markdown",
      "metadata": {
        "id": "view-in-github",
        "colab_type": "text"
      },
      "source": [
        "<a href=\"https://colab.research.google.com/github/ubsuny/PHY386/blob/Homework2025/2025/HW/william-dove/HW1.ipynb\" target=\"_parent\"><img src=\"https://colab.research.google.com/assets/colab-badge.svg\" alt=\"Open In Colab\"/></a>"
      ]
    },
    {
      "cell_type": "markdown",
      "source": [
        "## Basic formatting examples\n",
        "\n",
        "1. How to use git/github\n",
        "2. How to create physics simulations in python\n",
        "3. How to model waves in elastic, nonlinear media with python\n",
        "4. How to use machine learning/image recognition to analyze structure of materials\n",
        "5. How to compute (fast) Fourier transforms using python\n"
      ],
      "metadata": {
        "id": "KP7akgA14Ss0"
      }
    },
    {
      "cell_type": "markdown",
      "source": [
        "### How to include external media\n",
        "\n",
        "![Wikipedia](https://upload.wikimedia.org/wikipedia/commons/thumb/5/50/Paul_Dirac%2C_1933.jpg/330px-Paul_Dirac%2C_1933.jpg)\n",
        "\n",
        "[Source: Wikipedia](https://en.wikipedia.org/wiki/Paul_Dirac)\n",
        "\n",
        "My favorite scientist is *Paul Dirac* because he wrapped up so much in quantum mechanics with his elegant equation: $(i \\hbar \\gamma^\\mu \\partial_\\mu - mc) \\psi = 0$. 🧠\n",
        "\n",
        "\n",
        "Homework's a joy, a puzzle so bright,\n",
        "\n",
        "Markdown and Python, a coder's delight.\n",
        "\n",
        "Equations and loops, all shining like gold,\n",
        "\n",
        "Each task a new story, waiting to be told!\n",
        "\n",
        "\n",
        "Poem created by ChatGPT.\n",
        "\n"
      ],
      "metadata": {
        "id": "IVhPB4qMctPO"
      }
    },
    {
      "cell_type": "markdown",
      "source": [
        "##Coding exercises"
      ],
      "metadata": {
        "id": "IsrUBBHDj47u"
      }
    },
    {
      "cell_type": "code",
      "source": [
        "# 1.\n",
        "print(\"Hello, World!\")"
      ],
      "metadata": {
        "colab": {
          "base_uri": "https://localhost:8080/"
        },
        "id": "HiC05MMmkDiL",
        "outputId": "98abf5c3-6142-4faa-a0c6-2364392f03bf"
      },
      "execution_count": null,
      "outputs": [
        {
          "output_type": "stream",
          "name": "stdout",
          "text": [
            "Hello, World!\n"
          ]
        }
      ]
    },
    {
      "cell_type": "code",
      "source": [
        "print(\"Hello Class!\")"
      ],
      "metadata": {
        "colab": {
          "base_uri": "https://localhost:8080/"
        },
        "id": "PsP-L35YkLWN",
        "outputId": "b2c7ca9b-084c-4400-bf25-a6e4f70454b6"
      },
      "execution_count": null,
      "outputs": [
        {
          "output_type": "stream",
          "name": "stdout",
          "text": [
            "Hello Class!\n"
          ]
        }
      ]
    },
    {
      "cell_type": "code",
      "source": [
        "# 2.\n",
        "num = 2025\n",
        "print(f\"{num:010.3f}\")"
      ],
      "metadata": {
        "colab": {
          "base_uri": "https://localhost:8080/"
        },
        "id": "VolWbX47kvt2",
        "outputId": "d2d2d039-cd9e-4f64-e8ce-f17ea7ea2e3d"
      },
      "execution_count": null,
      "outputs": [
        {
          "output_type": "stream",
          "name": "stdout",
          "text": [
            "002025.000\n"
          ]
        }
      ]
    },
    {
      "cell_type": "code",
      "source": [
        "# 3.\n",
        "my_string = \"Higgs boson\"\n",
        "my_int = 5\n",
        "my_float = 2.7182818\n",
        "print(f\"{my_string}, {my_int}, {my_float}\")"
      ],
      "metadata": {
        "id": "MmnhY8UBlccz",
        "colab": {
          "base_uri": "https://localhost:8080/"
        },
        "outputId": "117c82fd-a672-44e0-e35e-e3f562be2bf2"
      },
      "execution_count": null,
      "outputs": [
        {
          "output_type": "stream",
          "name": "stdout",
          "text": [
            "Higgs boson, 5, 2.7182818\n"
          ]
        }
      ]
    },
    {
      "cell_type": "code",
      "source": [
        "# 4.\n",
        "2+2"
      ],
      "metadata": {
        "colab": {
          "base_uri": "https://localhost:8080/"
        },
        "id": "G02P4tIPxW-j",
        "outputId": "5f037ec0-3696-41aa-d02f-ccb43eb9050e"
      },
      "execution_count": null,
      "outputs": [
        {
          "output_type": "execute_result",
          "data": {
            "text/plain": [
              "4"
            ]
          },
          "metadata": {},
          "execution_count": 4
        }
      ]
    },
    {
      "cell_type": "code",
      "source": [
        "4-2"
      ],
      "metadata": {
        "colab": {
          "base_uri": "https://localhost:8080/"
        },
        "id": "q8nBRHgfx11g",
        "outputId": "c2d72817-5b8b-45f6-b66a-9aef74596c8a"
      },
      "execution_count": null,
      "outputs": [
        {
          "output_type": "execute_result",
          "data": {
            "text/plain": [
              "2"
            ]
          },
          "metadata": {},
          "execution_count": 5
        }
      ]
    },
    {
      "cell_type": "code",
      "source": [
        "2*2"
      ],
      "metadata": {
        "colab": {
          "base_uri": "https://localhost:8080/"
        },
        "id": "B8PA3zKGx_vt",
        "outputId": "310dbbc8-3af8-42e1-ba0f-df9588314a89"
      },
      "execution_count": null,
      "outputs": [
        {
          "output_type": "execute_result",
          "data": {
            "text/plain": [
              "4"
            ]
          },
          "metadata": {},
          "execution_count": 6
        }
      ]
    },
    {
      "cell_type": "code",
      "source": [
        "5%2"
      ],
      "metadata": {
        "colab": {
          "base_uri": "https://localhost:8080/"
        },
        "id": "FC2D2jgxyBNM",
        "outputId": "982008c1-ef20-4372-f2da-9cab7bae38dc"
      },
      "execution_count": null,
      "outputs": [
        {
          "output_type": "execute_result",
          "data": {
            "text/plain": [
              "1"
            ]
          },
          "metadata": {},
          "execution_count": 7
        }
      ]
    },
    {
      "cell_type": "code",
      "source": [
        "# 5.\n",
        "number=int(input(\"Enter integer: \"))\n",
        "if number%2==0:\n",
        "  even=True\n",
        "  print(\"Even\")\n",
        "elif number%2==1:\n",
        "  even=False\n",
        "  print(\"Odd\")\n"
      ],
      "metadata": {
        "colab": {
          "base_uri": "https://localhost:8080/"
        },
        "id": "rEdHud3fyCSd",
        "outputId": "5746f5bc-bd10-4ec8-fb75-9bbbd88aad27"
      },
      "execution_count": null,
      "outputs": [
        {
          "output_type": "stream",
          "name": "stdout",
          "text": [
            "Enter integer: 4\n",
            "Even\n"
          ]
        }
      ]
    },
    {
      "cell_type": "code",
      "source": [
        "# 6.\n",
        "for i in range(1,11):\n",
        "  print(i)"
      ],
      "metadata": {
        "colab": {
          "base_uri": "https://localhost:8080/"
        },
        "id": "gI5EaE5myn-9",
        "outputId": "e122389d-998e-4c29-d251-f3692986faeb"
      },
      "execution_count": null,
      "outputs": [
        {
          "output_type": "stream",
          "name": "stdout",
          "text": [
            "1\n",
            "2\n",
            "3\n",
            "4\n",
            "5\n",
            "6\n",
            "7\n",
            "8\n",
            "9\n",
            "10\n"
          ]
        }
      ]
    },
    {
      "cell_type": "code",
      "source": [
        "for j in range(2,21,2):\n",
        "  print(j)"
      ],
      "metadata": {
        "colab": {
          "base_uri": "https://localhost:8080/"
        },
        "id": "O96UcPHRzaja",
        "outputId": "bc82221f-6071-415e-95ae-daed53dec53c"
      },
      "execution_count": null,
      "outputs": [
        {
          "output_type": "stream",
          "name": "stdout",
          "text": [
            "2\n",
            "4\n",
            "6\n",
            "8\n",
            "10\n",
            "12\n",
            "14\n",
            "16\n",
            "18\n",
            "20\n"
          ]
        }
      ]
    },
    {
      "cell_type": "code",
      "source": [],
      "metadata": {
        "id": "DgC0fC26zrK1"
      },
      "execution_count": null,
      "outputs": []
    }
  ]
}