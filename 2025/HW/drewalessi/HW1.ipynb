{
  "nbformat": 4,
  "nbformat_minor": 0,
  "metadata": {
    "colab": {
      "provenance": [],
      "authorship_tag": "ABX9TyNAwtWrENMpAsFLyCBaKFIM",
      "include_colab_link": true
    },
    "kernelspec": {
      "name": "python3",
      "display_name": "Python 3"
    },
    "language_info": {
      "name": "python"
    }
  },
  "cells": [
    {
      "cell_type": "markdown",
      "metadata": {
        "id": "view-in-github",
        "colab_type": "text"
      },
      "source": [
        "<a href=\"https://colab.research.google.com/github/ubsuny/PHY386/blob/Homework2025/2025/HW/drewalessi/HW1.ipynb\" target=\"_parent\"><img src=\"https://colab.research.google.com/assets/colab-badge.svg\" alt=\"Open In Colab\"/></a>"
      ]
    },
    {
      "cell_type": "markdown",
      "source": [
        "## Basic Formatting Examples\n",
        "\n",
        "5 Things I want to learn in this class:\n",
        "\n",
        "  1.\n",
        "  2.\n",
        "  3.\n",
        "  4.\n",
        "  5.\n",
        "\n",
        "### How to Include External Media\n",
        "\n",
        "![Arthur Sasse - International News Service, Public domain, via Wikimedia Commons](https://upload.wikimedia.org/wikipedia/commons/thumb/4/46/Albert_Einstein_sticks_his_tongue.jpg/175px-Albert_Einstein_sticks_his_tongue.jpg)\n",
        "\n",
        "[Arthur Sasse - International News Service, Public domain, via Wikimedia Commons]\n",
        "\n",
        "**Albert Einstein** made revolutionary discoveries in modern physics.\n",
        "\n",
        "*Einstein* is perhaps most well-known among the general public for the equation\n",
        "\n",
        "$$E=mc^2$$\n",
        "\n",
        "😛\n",
        "\n",
        "\n",
        "*Writing about Einstein, so clever and bright,*\n",
        "\n",
        "*His theories and formulas, pure delight.*\n",
        "\n",
        "*Relativity’s secrets unfold in my mind,*\n",
        "\n",
        "*A homework assignment that’s one of a kind!*\n",
        "\n",
        "Poem by ChatGPT\n"
      ],
      "metadata": {
        "id": "kYIzTlROqPEb"
      }
    },
    {
      "cell_type": "markdown",
      "source": [
        "## Coding Exercises\n",
        "\n"
      ],
      "metadata": {
        "id": "F_eLZNQTv4rb"
      }
    },
    {
      "cell_type": "markdown",
      "source": [
        "1. Print"
      ],
      "metadata": {
        "id": "vi26w9xMP8iU"
      }
    },
    {
      "cell_type": "code",
      "source": [
        "print(\"Hello Class!\")"
      ],
      "metadata": {
        "colab": {
          "base_uri": "https://localhost:8080/"
        },
        "id": "y8Y6-W1HrSDn",
        "outputId": "e8efc4f9-b121-49ee-aad5-0033025e9bd9"
      },
      "execution_count": null,
      "outputs": [
        {
          "output_type": "stream",
          "name": "stdout",
          "text": [
            "Hello Class!\n"
          ]
        }
      ]
    },
    {
      "cell_type": "markdown",
      "source": [
        "2. Formatting"
      ],
      "metadata": {
        "id": "6ljJZmBvQGnE"
      }
    },
    {
      "cell_type": "code",
      "source": [
        "print(\"{:010.3f}\".format(2025))"
      ],
      "metadata": {
        "colab": {
          "base_uri": "https://localhost:8080/"
        },
        "id": "vSedSvy7QMby",
        "outputId": "17de587d-0104-4419-c0b8-0d2ff3fd8eca"
      },
      "execution_count": null,
      "outputs": [
        {
          "output_type": "stream",
          "name": "stdout",
          "text": [
            "002025.000\n"
          ]
        }
      ]
    },
    {
      "cell_type": "markdown",
      "source": [
        "3. Variables and Data Types"
      ],
      "metadata": {
        "id": "R-Fb50dLQmH4"
      }
    },
    {
      "cell_type": "code",
      "source": [
        "a = \"Python!!!\"\n",
        "print(a)\n",
        "type(a)"
      ],
      "metadata": {
        "colab": {
          "base_uri": "https://localhost:8080/"
        },
        "id": "XZW7qTq2s3NO",
        "outputId": "2f6d9b61-894b-424e-b990-10e6b0a5edfd"
      },
      "execution_count": null,
      "outputs": [
        {
          "output_type": "stream",
          "name": "stdout",
          "text": [
            "Python!!!\n"
          ]
        },
        {
          "output_type": "execute_result",
          "data": {
            "text/plain": [
              "str"
            ]
          },
          "metadata": {},
          "execution_count": 12
        }
      ]
    },
    {
      "cell_type": "code",
      "source": [
        "b = 5\n",
        "print(b)\n",
        "type(b)"
      ],
      "metadata": {
        "colab": {
          "base_uri": "https://localhost:8080/"
        },
        "id": "akTOWAIaQpSK",
        "outputId": "d61043c0-62da-4201-b076-dc36a4e97636"
      },
      "execution_count": null,
      "outputs": [
        {
          "output_type": "stream",
          "name": "stdout",
          "text": [
            "5\n"
          ]
        },
        {
          "output_type": "execute_result",
          "data": {
            "text/plain": [
              "int"
            ]
          },
          "metadata": {},
          "execution_count": 13
        }
      ]
    },
    {
      "cell_type": "code",
      "source": [
        "c = 3.14159\n",
        "print(c)\n",
        "type(c)"
      ],
      "metadata": {
        "colab": {
          "base_uri": "https://localhost:8080/"
        },
        "id": "E2d-c8aAsrL4",
        "outputId": "d7493782-db19-4487-a322-9e11caac2b5d"
      },
      "execution_count": null,
      "outputs": [
        {
          "output_type": "stream",
          "name": "stdout",
          "text": [
            "3.14159\n"
          ]
        },
        {
          "output_type": "execute_result",
          "data": {
            "text/plain": [
              "float"
            ]
          },
          "metadata": {},
          "execution_count": 14
        }
      ]
    },
    {
      "cell_type": "code",
      "source": [],
      "metadata": {
        "id": "ITLxSymRswk9"
      },
      "execution_count": null,
      "outputs": []
    },
    {
      "cell_type": "markdown",
      "source": [
        "4. Basic Math Operations"
      ],
      "metadata": {
        "id": "kaqfmu77QwfG"
      }
    },
    {
      "cell_type": "code",
      "source": [
        "3+2"
      ],
      "metadata": {
        "colab": {
          "base_uri": "https://localhost:8080/"
        },
        "id": "sTPlNt4IQ0LU",
        "outputId": "984c1342-c765-42aa-d40b-fdfaf80ca649"
      },
      "execution_count": null,
      "outputs": [
        {
          "output_type": "execute_result",
          "data": {
            "text/plain": [
              "5"
            ]
          },
          "metadata": {},
          "execution_count": 4
        }
      ]
    },
    {
      "cell_type": "code",
      "source": [
        "3-2"
      ],
      "metadata": {
        "colab": {
          "base_uri": "https://localhost:8080/"
        },
        "id": "WSpJsswIr0sa",
        "outputId": "252b6e9b-c462-4b9c-bff1-9d1dcf7992fe"
      },
      "execution_count": null,
      "outputs": [
        {
          "output_type": "execute_result",
          "data": {
            "text/plain": [
              "1"
            ]
          },
          "metadata": {},
          "execution_count": 5
        }
      ]
    },
    {
      "cell_type": "code",
      "source": [
        "3*2"
      ],
      "metadata": {
        "colab": {
          "base_uri": "https://localhost:8080/"
        },
        "id": "tQ3tfwMFr5qF",
        "outputId": "5d8e2e6e-23f5-486c-fccb-4531e0418b17"
      },
      "execution_count": null,
      "outputs": [
        {
          "output_type": "execute_result",
          "data": {
            "text/plain": [
              "6"
            ]
          },
          "metadata": {},
          "execution_count": 6
        }
      ]
    },
    {
      "cell_type": "code",
      "source": [
        "3/2"
      ],
      "metadata": {
        "colab": {
          "base_uri": "https://localhost:8080/"
        },
        "id": "hMKPGfhIsCkJ",
        "outputId": "de24c36b-098a-42ee-add8-dcb1d34b2fba"
      },
      "execution_count": null,
      "outputs": [
        {
          "output_type": "execute_result",
          "data": {
            "text/plain": [
              "1.5"
            ]
          },
          "metadata": {},
          "execution_count": 8
        }
      ]
    },
    {
      "cell_type": "code",
      "source": [
        "3%2"
      ],
      "metadata": {
        "colab": {
          "base_uri": "https://localhost:8080/"
        },
        "id": "qSpGN79HsETV",
        "outputId": "aeaa8e48-7a45-4d38-9852-7e4e1cc07dd5"
      },
      "execution_count": null,
      "outputs": [
        {
          "output_type": "execute_result",
          "data": {
            "text/plain": [
              "1"
            ]
          },
          "metadata": {},
          "execution_count": 9
        }
      ]
    },
    {
      "cell_type": "markdown",
      "source": [
        "5. Conditional Statements"
      ],
      "metadata": {
        "id": "XOC79tj8Q0kX"
      }
    },
    {
      "cell_type": "code",
      "source": [
        "number = 11\n",
        "\n",
        "if number % 2 == 0:\n",
        "  print(f\"{number} is even\")\n",
        "else:\n",
        "  print(f\"{number} is odd\")\n"
      ],
      "metadata": {
        "colab": {
          "base_uri": "https://localhost:8080/"
        },
        "id": "NUbhOa8zQ4Qy",
        "outputId": "758911da-3078-4d1c-d68e-0320a5bd8b61"
      },
      "execution_count": null,
      "outputs": [
        {
          "output_type": "stream",
          "name": "stdout",
          "text": [
            "11 is odd\n"
          ]
        }
      ]
    },
    {
      "cell_type": "markdown",
      "source": [
        "6. Loops"
      ],
      "metadata": {
        "id": "sx15ctFfQ4qi"
      }
    },
    {
      "cell_type": "code",
      "source": [
        "for i in range(1, 11):\n",
        "  print(i)\n",
        "\n",
        "for i in range(1, 11):\n",
        "  if i % 2 == 0:\n",
        "    print(i)"
      ],
      "metadata": {
        "id": "wFHweCQSQ7l0",
        "colab": {
          "base_uri": "https://localhost:8080/"
        },
        "outputId": "bc541007-c490-480f-a643-7f86d31e26fd"
      },
      "execution_count": 6,
      "outputs": [
        {
          "output_type": "stream",
          "name": "stdout",
          "text": [
            "1\n",
            "2\n",
            "3\n",
            "4\n",
            "5\n",
            "6\n",
            "7\n",
            "8\n",
            "9\n",
            "10\n",
            "2\n",
            "4\n",
            "6\n",
            "8\n",
            "10\n"
          ]
        }
      ]
    },
    {
      "cell_type": "markdown",
      "source": [
        "7. Functions"
      ],
      "metadata": {
        "id": "gvF-sp2QQ71n"
      }
    },
    {
      "cell_type": "code",
      "source": [
        "# prompt: Define and call a function to perform basic arithmetic operations.\n",
        "\n",
        "def perform_arithmetic(num1, num2, operation):\n",
        "    \"\"\"Performs basic arithmetic operations.\n",
        "\n",
        "    Args:\n",
        "        num1: The first number.\n",
        "        num2: The second number.\n",
        "        operation: The operation to perform ('add', 'subtract', 'multiply', 'divide').\n",
        "\n",
        "    Returns:\n",
        "        The result of the operation, or an error message if the operation is invalid.\n",
        "    \"\"\"\n",
        "    if operation == 'add':\n",
        "        return num1 + num2\n",
        "    elif operation == 'subtract':\n",
        "        return num1 - num2\n",
        "    elif operation == 'multiply':\n",
        "        return num1 * num2\n",
        "    elif operation == 'divide':\n",
        "        if num2 == 0:\n",
        "            return \"Error: Division by zero\"\n",
        "        return num1 / num2\n",
        "    else:\n",
        "        return \"Error: Invalid operation\"\n",
        "\n",
        "# Get input from the user\n",
        "num1 = float(input(\"Enter the first number: \"))\n",
        "num2 = float(input(\"Enter the second number: \"))\n",
        "operation = input(\"Enter the operation (add, subtract, multiply, divide): \")\n",
        "\n",
        "# Call the function and print the result\n",
        "result = perform_arithmetic(num1, num2, operation)\n",
        "result"
      ],
      "metadata": {
        "id": "d4JGTuE4Q_f5",
        "colab": {
          "base_uri": "https://localhost:8080/"
        },
        "outputId": "a3ac072f-56aa-4579-dfe5-645eb6c0de3a"
      },
      "execution_count": 14,
      "outputs": [
        {
          "name": "stdout",
          "output_type": "stream",
          "text": [
            "Enter the first number: 6\n",
            "Enter the second number: 2\n",
            "Enter the operation (add, subtract, multiply, divide): multiply\n"
          ]
        },
        {
          "output_type": "execute_result",
          "data": {
            "text/plain": [
              "12.0"
            ]
          },
          "metadata": {},
          "execution_count": 14
        }
      ]
    },
    {
      "cell_type": "markdown",
      "source": [
        "8. Lists"
      ],
      "metadata": {
        "id": "Z4jCx1WRQ_uU"
      }
    },
    {
      "cell_type": "code",
      "source": [
        "numbers_to_average = [1,1,2,3,5,8,13,21,34]\n",
        "average = sum(numbers_to_average)/len(numbers_to_average)\n",
        "print(\"The average is:\")\n",
        "print(average)\n"
      ],
      "metadata": {
        "id": "aSKwsuHLRCqw",
        "colab": {
          "base_uri": "https://localhost:8080/"
        },
        "outputId": "84d393c4-e401-4e99-b652-5cc93e14b348"
      },
      "execution_count": 21,
      "outputs": [
        {
          "output_type": "stream",
          "name": "stdout",
          "text": [
            "The average is:\n",
            "9.777777777777779\n"
          ]
        }
      ]
    },
    {
      "cell_type": "markdown",
      "source": [
        "9. Dictionaries"
      ],
      "metadata": {
        "id": "Mn3CsqnbRC6W"
      }
    },
    {
      "cell_type": "code",
      "source": [
        "# prompt: Store and print different fruits using dictionaries.\n",
        "\n",
        "# Create a dictionary to store fruit names and their properties\n",
        "fruits = {\n",
        "    \"apple\": {\"color\": \"red\", \"use\": \"pie\"},\n",
        "    \"banana\": {\"color\": \"yellow\", \"use\": \"split\"},\n",
        "    \"pineapple\": {\"color\": \"yellow\", \"use\": \"upside down cake\"}\n",
        "}\n",
        "\n",
        "# Print the properties of each fruit\n",
        "for fruit_name, properties in fruits.items():\n",
        "    print(f\"{fruit_name}:\")\n",
        "    for property_name, property_value in properties.items():\n",
        "        print(f\"  {property_name}: {property_value}\")\n"
      ],
      "metadata": {
        "colab": {
          "base_uri": "https://localhost:8080/"
        },
        "id": "gSVvRkXsOLOR",
        "outputId": "6ef58982-7c89-4ce4-93ed-56713550b848"
      },
      "execution_count": 25,
      "outputs": [
        {
          "output_type": "stream",
          "name": "stdout",
          "text": [
            "apple:\n",
            "  color: red\n",
            "  use: pie\n",
            "banana:\n",
            "  color: yellow\n",
            "  use: split\n",
            "pineapple:\n",
            "  color: yellow\n",
            "  use: upside down cake\n"
          ]
        }
      ]
    },
    {
      "cell_type": "code",
      "source": [],
      "metadata": {
        "id": "zmKCCqxwRGHL"
      },
      "execution_count": null,
      "outputs": []
    },
    {
      "cell_type": "markdown",
      "source": [
        "10. File Handling"
      ],
      "metadata": {
        "id": "J67yn-UIRGWs"
      }
    },
    {
      "cell_type": "code",
      "source": [
        "# prompt: Write user input to a file and modify it to read back the contents.\n",
        "\n",
        "# Get user input for filename\n",
        "filename = input(\"Enter the filename: \")\n",
        "\n",
        "# Write user input to the file\n",
        "with open(filename, 'w') as file:\n",
        "    file.write(input(\"Enter some text: \"))\n",
        "\n",
        "# Read back the contents of the file\n",
        "with open(filename, 'r') as file:\n",
        "    contents = file.read()\n",
        "contents\n"
      ],
      "metadata": {
        "id": "eY-dtya8RJmo",
        "colab": {
          "base_uri": "https://localhost:8080/",
          "height": 70
        },
        "outputId": "abaf5fd3-268e-4f07-c4f0-0f9ff65ddb86"
      },
      "execution_count": 24,
      "outputs": [
        {
          "name": "stdout",
          "output_type": "stream",
          "text": [
            "Enter the filename: document\n",
            "Enter some text: This is the text of the document\n"
          ]
        },
        {
          "output_type": "execute_result",
          "data": {
            "text/plain": [
              "'This is the text of the document'"
            ],
            "application/vnd.google.colaboratory.intrinsic+json": {
              "type": "string"
            }
          },
          "metadata": {},
          "execution_count": 24
        }
      ]
    },
    {
      "cell_type": "code",
      "source": [],
      "metadata": {
        "id": "Z4XARppYQY7e"
      },
      "execution_count": null,
      "outputs": []
    }
  ]
}