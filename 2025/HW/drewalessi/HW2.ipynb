{
  "nbformat": 4,
  "nbformat_minor": 0,
  "metadata": {
    "colab": {
      "provenance": [],
      "authorship_tag": "ABX9TyPLsu+1FxkXbJ6etzsh1qQg",
      "include_colab_link": true
    },
    "kernelspec": {
      "name": "python3",
      "display_name": "Python 3"
    },
    "language_info": {
      "name": "python"
    }
  },
  "cells": [
    {
      "cell_type": "markdown",
      "metadata": {
        "id": "view-in-github",
        "colab_type": "text"
      },
      "source": [
        "<a href=\"https://colab.research.google.com/github/ubsuny/PHY386/blob/Homework2025/2025/HW/drewalessi/HW2.ipynb\" target=\"_parent\"><img src=\"https://colab.research.google.com/assets/colab-badge.svg\" alt=\"Open In Colab\"/></a>"
      ]
    },
    {
      "cell_type": "markdown",
      "source": [
        "Extension of mass-spring system to include n masses, where all mass and spring constant values are individually assignable."
      ],
      "metadata": {
        "id": "RUjI2zWx4pmf"
      }
    },
    {
      "cell_type": "code",
      "execution_count": 6,
      "metadata": {
        "id": "8JVhbT8Z6lUk"
      },
      "outputs": [],
      "source": [
        "#import libraries\n",
        "import numpy as np\n",
        "import scipy.linalg as la\n",
        "\n",
        "def calculate_eigenfrequencies(m_list, k_list, k_left_wall, k_right_wall, walls=True):\n",
        "    \"\"\"\n",
        "    Calculate the eigenfrequencies of a system of coupled harmonic oscillators.\n",
        "\n",
        "    This function computes the eigenfrequencies for a system of masses connected by springs,\n",
        "    where the end masses may also be attached to walls by springs.\n",
        "\n",
        "    Keyword Arguments:\n",
        "    m_list -- Masses of the particles in the system, (in kg), in order from left to right.\n",
        "    k_list -- Spring constants between the masses, in order from left to right, (in N/m). Should have length len(m_list) - 1.\n",
        "    k_left_wall -- Spring constant for the spring attaching the left end mass to the left wall, (in N/m).\n",
        "    k_right_wall -- Spring constant for the spring attaching the right end mass to the right wall, (in N/m).\n",
        "    walls -- Boolean indicating whether the system is attached to walls (True) or not (False). Default is True. If not True, k_left_wall and k_right_wall are ignored.\n",
        "\n",
        "    Returns:\n",
        "    omega -- Eigenfrequencies of the system.\n",
        "\n",
        "    Raises:\n",
        "    ValueError -- If the lengths of m_list and k_list are incompatible.\n",
        "    \"\"\"\n",
        "    n = len(m_list)  # The number of masses\n",
        "\n",
        "    if len(k_list) != n - 1:\n",
        "        raise ValueError(\"k_list should have one less element than m_list\")\n",
        "\n",
        "    # Create the mass matrix\n",
        "    M = np.diag(m_list)\n",
        "\n",
        "    # Create the stiffness matrix\n",
        "    if walls == True:\n",
        "      K = np.zeros((n, n))\n",
        "      for i in range(n):\n",
        "          if i == 0:\n",
        "              K[i, i] = k_list[i] + k_left_wall\n",
        "          elif i == n-1:\n",
        "              K[i, i] = k_list[i-1] + k_right_wall\n",
        "          else:\n",
        "              K[i, i] = k_list[i-1] + k_list[i]\n",
        "\n",
        "          if i > 0:\n",
        "            K[i, i-1] = K[i-1, i] = -k_list[i-1]\n",
        "\n",
        "    else:\n",
        "\n",
        "        # Create the stiffness matrix\n",
        "        K = np.zeros((n, n))\n",
        "        for i in range(n):\n",
        "            if i == 0:\n",
        "                K[i, i] = k_list[i]\n",
        "            elif i == n-1:\n",
        "                K[i, i] = k_list[i-1]\n",
        "            else:\n",
        "                K[i, i] = k_list[i-1] + k_list[i]\n",
        "\n",
        "            if i > 0:\n",
        "                K[i, i-1] = K[i-1, i] = -k_list[i-1]\n",
        "\n",
        "    # Print the mass and stiffness matrices\n",
        "    print(\"Mass matrix:\")\n",
        "    print(M)\n",
        "\n",
        "    print(\"Stiffness matrix:\")\n",
        "    print(K)\n",
        "\n",
        "    # Solve the eigenvalue problem\n",
        "    eigenvalues, eigenvectors = la.eigh(K, M)\n",
        "    omega = np.sqrt(eigenvalues)\n",
        "\n",
        "    # Print the eigenfrequencies\n",
        "    print(\"Eigenfrequencies:\")\n",
        "    print(omega)"
      ]
    },
    {
      "cell_type": "markdown",
      "source": [
        "Perform unit test:"
      ],
      "metadata": {
        "id": "2a_jCyNrHdx2"
      }
    },
    {
      "cell_type": "code",
      "source": [
        "calculate_eigenfrequencies([1,1,1],[10,10],10,10, walls=True)"
      ],
      "metadata": {
        "colab": {
          "base_uri": "https://localhost:8080/"
        },
        "id": "5ZsiOJeiHVH5",
        "outputId": "6771b516-c973-45a1-b643-79a7170a087b"
      },
      "execution_count": 27,
      "outputs": [
        {
          "output_type": "stream",
          "name": "stdout",
          "text": [
            "Mass matrix:\n",
            "[[1 0 0]\n",
            " [0 1 0]\n",
            " [0 0 1]]\n",
            "Stiffness matrix:\n",
            "[[ 20. -10.   0.]\n",
            " [-10.  20. -10.]\n",
            " [  0. -10.  20.]]\n",
            "Eigenfrequencies:\n",
            "[2.42030254 4.47213595 5.84312721]\n"
          ]
        }
      ]
    },
    {
      "cell_type": "markdown",
      "source": [
        "Calculate eigenfrequencies for a system of n masses and springs with assigned m and k values:"
      ],
      "metadata": {
        "id": "xSoTjau3HirQ"
      }
    },
    {
      "cell_type": "code",
      "source": [
        "calculate_eigenfrequencies([1,2,3,4],[10,20,40],10,20, walls=False)"
      ],
      "metadata": {
        "colab": {
          "base_uri": "https://localhost:8080/"
        },
        "id": "OjljJwtF-4JH",
        "outputId": "e69e413e-1a03-4c53-bbe1-f13af37e93ff"
      },
      "execution_count": 31,
      "outputs": [
        {
          "output_type": "stream",
          "name": "stdout",
          "text": [
            "Mass matrix:\n",
            "[[1 0 0 0]\n",
            " [0 2 0 0]\n",
            " [0 0 3 0]\n",
            " [0 0 0 4]]\n",
            "Stiffness matrix:\n",
            "[[ 10. -10.   0.   0.]\n",
            " [-10.  30. -20.   0.]\n",
            " [  0. -20.  60. -40.]\n",
            " [  0.   0. -40.  40.]]\n",
            "Eigenfrequencies:\n",
            "[5.15872517e-08 2.44766447e+00 4.22668282e+00 5.58068911e+00]\n"
          ]
        }
      ]
    },
    {
      "cell_type": "markdown",
      "source": [
        "Note: It is possible to input values which result in an error due to having a negative number under the square root. I'm not sure how to prevent this other than careful selection of the input values."
      ],
      "metadata": {
        "id": "wydseCtzq2df"
      }
    },
    {
      "cell_type": "markdown",
      "source": [
        "The below code was created by \"ChatGPT Alternative\" from deepai.org.\n",
        "\n",
        "The AI's \"creative\" decision was to attach springs not only between adjacent masses, but also to their next closest neighbors on either side, making a more complex system. As far as I can tell, the results look plausible. The AI added terms to account for the extra forces coming from a mass's 4 nearest neighbors (2 on each side) rather than just their closest neighbors as in our example.\n",
        "\n",
        "This was actually achieved after after only two iterations. The first version contained some errors that resulted in bad output when run. I basically just chided the AI to be careful with its code and make sure it follows Python standards and the second version gave a better result.\n",
        "\n",
        "According to the AI, this model is related to real-world systems including molecular vibrations, micro-electro-mechanical systems (MEMS), mechanical coupling in engineered structures, and biological structures like proteins that experience both local and longer-range interactions.\n",
        "\n",
        "I will mention that while it took relatively few iterations with **this** AI, I spent quite a while with Perplexity AI unsuccessfully. Perplexity had a tendency to jump into very complex, nonlinear solutions which I didn't feel confident in my ability to assess. Magnets were a popular theme. Generally, when I tried to get it to simplify its solution it would revert to something very similar to our homework problem, which no longer seemed very creative. Ultimately, this led me to look for a different AI."
      ],
      "metadata": {
        "id": "fitzJKgvDVsE"
      }
    },
    {
      "cell_type": "code",
      "source": [
        "import numpy as np\n",
        "import matplotlib.pyplot as plt\n",
        "\n",
        "def compute_eigenfrequencies(N, m, k, k_prime):\n",
        "    # Construct the coupling matrix\n",
        "    M = np.zeros((N, N))\n",
        "\n",
        "    for i in range(N):\n",
        "        if i > 0:\n",
        "            M[i, i - 1] = -k  # Spring to left neighbor\n",
        "        if i < N - 1:\n",
        "            M[i, i + 1] = -k  # Spring to right neighbor\n",
        "        if i > 1:\n",
        "            M[i, i - 2] = -k_prime  # Long-range spring to left-2 neighbor\n",
        "        if i < N - 2:\n",
        "            M[i, i + 2] = -k_prime  # Long-range spring to right-2 neighbor\n",
        "\n",
        "        M[i, i] = 2 * k + 2 * k_prime  # Diagonal term\n",
        "\n",
        "    # Calculate eigenvalues and eigenvectors\n",
        "    eigenvalues, _ = np.linalg.eig(M)\n",
        "\n",
        "    # Eigenfrequencies (taking the square root of positive eigenvalues; convert to Hz)\n",
        "    eigenfrequencies = np.sqrt(np.abs(eigenvalues)) / (2 * np.pi)  # Ignore negative roots\n",
        "    return np.sort(eigenfrequencies[~np.iscomplex(eigenfrequencies)])  # Return only real frequencies sorted\n",
        "\n",
        "# Parameters\n",
        "N = 10       # Number of masses\n",
        "m = 1.0      # Mass of each mass\n",
        "k = 10.0     # Spring constant of nearest neighbor springs\n",
        "k_prime = 5.0 # Spring constant of long-range springs\n",
        "\n",
        "# Calculate eigenfrequencies\n",
        "frequencies = compute_eigenfrequencies(N, m, k, k_prime)\n",
        "print(\"Eigenfrequencies (Hz):\", frequencies)"
      ],
      "metadata": {
        "colab": {
          "base_uri": "https://localhost:8080/"
        },
        "id": "I9lJdQtv_Xmx",
        "outputId": "ae1bfb7d-4f37-4373-a0a9-f6fc6cc807a5"
      },
      "execution_count": null,
      "outputs": [
        {
          "output_type": "stream",
          "name": "stdout",
          "text": [
            "Eigenfrequencies (Hz): [0.23739557 0.46092173 0.65805943 0.81888321 0.9370289  1.00658424\n",
            " 1.02008287 1.03199193 1.05537294 1.05643167]\n"
          ]
        }
      ]
    },
    {
      "cell_type": "code",
      "source": [],
      "metadata": {
        "id": "fv0hMZBnDXT1"
      },
      "execution_count": null,
      "outputs": []
    }
  ]
}