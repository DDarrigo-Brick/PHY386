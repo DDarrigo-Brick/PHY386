{
  "nbformat": 4,
  "nbformat_minor": 0,
  "metadata": {
    "colab": {
      "provenance": [],
      "authorship_tag": "ABX9TyN/+mUkSmzoL6OG2krfH7w8",
      "include_colab_link": true
    },
    "kernelspec": {
      "name": "python3",
      "display_name": "Python 3"
    },
    "language_info": {
      "name": "python"
    }
  },
  "cells": [
    {
      "cell_type": "markdown",
      "metadata": {
        "id": "view-in-github",
        "colab_type": "text"
      },
      "source": [
        "<a href=\"https://colab.research.google.com/github/ubsuny/PHY386/blob/main/2025/HW/HW4.ipynb\" target=\"_parent\"><img src=\"https://colab.research.google.com/assets/colab-badge.svg\" alt=\"Open In Colab\"/></a>"
      ]
    },
    {
      "cell_type": "markdown",
      "source": [
        "# Homework 4: Python Types & Quantum States (42 pts)\n",
        "\n",
        "## Learning Outcomes\n",
        "1. Understand Python type annotations for function arguments and returns\n",
        "2. Create quantum states using QuTiP's type-checked operations and learning how to use a new python library\n",
        "3. Generate photonic circuits using Strawberry Fields with AI assistance"
      ],
      "metadata": {
        "id": "sIZ7fmpxzCYe"
      }
    },
    {
      "cell_type": "markdown",
      "source": [
        "## Understanding Data Types and Type Checking in Python\n",
        "### What is a standard Data Type?\n",
        "\n",
        "A **data type** is a classification of data that determines the kind of value a variable can hold and what operations can be performed on it. In Python, data types are classes, and variables are instances of these classes. Python supports various built-in data types, including:\n",
        "\n",
        "- **Numeric types**: `int`, `float`, `complex`  \n",
        "  (e.g., photon numbers, probabilities, amplitudes)\n",
        "- **Sequence types**: `list`, `tuple`, `range`  \n",
        "  (e.g., lists of quantum states)\n",
        "- **Text type**: `str`  \n",
        "  (e.g., state labels or descriptions)\n",
        "- **Mapping type**: `dict`  \n",
        "  (e.g., parameter dictionaries for circuits)\n",
        "- **Set types**: `set`, `frozenset`\n",
        "- **Boolean type**: `bool`  \n",
        "  (e.g., flags for conditions)\n",
        "- **Binary types**: `bytes`, `bytearray`, `memoryview`\n",
        "- **None type**: `NoneType`\n",
        "\n",
        "Each data type has specific characteristics and behaviors, allowing programmers to work with different kinds of data efficiently.\n",
        "\n",
        "---\n",
        "\n",
        "### What is Type Checking?\n",
        "\n",
        "**Type checking** is the process of verifying whether operations in a program comply with the type rules of the programming language. It ensures that variables are used consistently with their declared or inferred types, helping to prevent errors and improve code reliability.\n",
        "\n",
        "There are two main forms of type checking:\n",
        "\n",
        "1. **Static Type Checking**:\n",
        "   - Performed at compile-time (before running the program).\n",
        "   - Detects type-related errors early in development.\n",
        "   - Python supports static type checking using **type hints** and external tools like `mypy`.\n",
        "\n",
        "2. **Dynamic Type Checking**:\n",
        "   - Occurs at runtime (while the program is running).\n",
        "   - Python primarily uses dynamic type checking, allowing flexibility but catching errors later.\n"
      ],
      "metadata": {
        "id": "mioZcAtazHHK"
      }
    },
    {
      "cell_type": "markdown",
      "source": [
        "Type checking helps you:\n",
        "- Catch bugs early.\n",
        "- Make your code easier to understand.\n",
        "- Improve collaboration by clearly defining how functions should be used."
      ],
      "metadata": {
        "id": "x1PqIeHGzpoY"
      }
    },
    {
      "cell_type": "markdown",
      "source": [
        "## Part 0: Google Colab Setup for Type Checking\n",
        "### Step 1: Enable Built-in Type Checking\n",
        "Google Colab has a built-in type checker (Pyright) that underlines type errors in red. To enable it:\n",
        "1. Go to the **Tools** menu in Colab.\n",
        "2. Select **Settings**.\n",
        "3. Click on the **Editor** tab.\n",
        "4. Scroll down to **Code diagnostics** and select **Syntax and type checking**.\n",
        "\n",
        "Once enabled:\n",
        "- Type errors will be underlined in red.\n",
        "- Hover over the error to see detailed messages."
      ],
      "metadata": {
        "id": "CbK_wf5xzyN8"
      }
    },
    {
      "cell_type": "markdown",
      "source": [
        "### Step 2: Install External Type Checkers (Optional)\n",
        "For more advanced type checking, install `nbqa` and `mypy`:"
      ],
      "metadata": {
        "id": "7hVbzd2nz4BW"
      }
    },
    {
      "cell_type": "code",
      "source": [
        "!pip install -q nbqa mypy"
      ],
      "metadata": {
        "id": "Ki0Oc8wKz7Kl"
      },
      "execution_count": null,
      "outputs": []
    },
    {
      "cell_type": "markdown",
      "source": [
        "To run type checks on your entire notebook:"
      ],
      "metadata": {
        "id": "ggOAWjfxz-m_"
      }
    },
    {
      "cell_type": "code",
      "source": [
        "!nbqa mypy HW3.ipynb"
      ],
      "metadata": {
        "id": "wdbg0dVT0A_P"
      },
      "execution_count": null,
      "outputs": []
    },
    {
      "cell_type": "markdown",
      "source": [
        "## Part 1: Python Type Annotations\n",
        "\n",
        "## Type Annotations in Python\n",
        "\n",
        "Type annotations in Python provide a way to specify the expected types of variables, function parameters, and return values. They serve as hints to developers and tools, but do not affect the runtime behavior of the code. Here's how to use type annotations:\n",
        "\n",
        "### Basic Syntax\n",
        "\n",
        "- For variables: `variable_name: type = value`\n",
        "- For functions:\n",
        "  ```python\n",
        "  def function_name(param1: type1, param2: type2) -> return_type:\n",
        "      function body\n",
        "  ```\n",
        "\n",
        "---\n",
        "\n",
        "### Why Use Type Annotations in Python?\n",
        "\n",
        "Python allows you to add **type annotations**, which are optional hints about the expected types of variables, function arguments, and return values. While Python doesn't enforce these annotations at runtime, tools like `mypy` or Colab's built-in type checker can analyze your code for consistency.\n",
        "\n",
        "**Example error prevention:**\n",
        "```python\n",
        "# Without annotations\n",
        "def bad_function(x):\n",
        "    return x + 1\n",
        "\n",
        "bad_function(\"2\")  # Returns \"21\" (string concatenation)!\n",
        "\n",
        "# With annotations\n",
        "def good_function(x: int) -> int:\n",
        "    return x + 1\n",
        "\n",
        "bad_function(\"2\")  # Type checkers warn about string input\n",
        "```\n",
        "\n",
        "#### Examples:\n",
        "\n",
        "1. Variable annotations:"
      ],
      "metadata": {
        "id": "fYQ5iXi82PWS"
      }
    },
    {
      "cell_type": "code",
      "source": [
        "name: str = \"Alice\"\n",
        "distance: int = 30\n",
        "print(\"var: {}, type: {}\".format(distance, type(distance)))"
      ],
      "metadata": {
        "id": "AZBEG0a82UML"
      },
      "execution_count": null,
      "outputs": []
    },
    {
      "cell_type": "markdown",
      "source": [
        "2. Function annotations:"
      ],
      "metadata": {
        "id": "ZuG0Bzpd4ory"
      }
    },
    {
      "cell_type": "code",
      "source": [
        "def encryption_type(name: str) -> str:\n",
        "    \"\"\" annotation example for functions \"\"\"\n",
        "    return f\"Encryption: {name}\"\n",
        "print(encryption_type(\"Caesar Cipher\"))"
      ],
      "metadata": {
        "id": "gCMOuyv64svo"
      },
      "execution_count": null,
      "outputs": []
    },
    {
      "cell_type": "code",
      "source": [
        "def add_numbers(a: int, b: int) -> int:\n",
        "    return a + b\n",
        "\n",
        "add_numbers(2, 3)  # Works fine\n",
        "add_numbers(\"2\", 3)  # Type checker will flag this as an error!"
      ],
      "metadata": {
        "id": "qU5SBF2U1ovw"
      },
      "execution_count": null,
      "outputs": []
    },
    {
      "cell_type": "markdown",
      "source": [
        "3. Complex types:\n",
        "```python\n",
        "from typing import List, Dict\n",
        "def process_data(items: List[int]) -> Dict[str, int]:\n",
        "    # Function implementation\n",
        "```"
      ],
      "metadata": {
        "id": "63aW655g5apN"
      }
    },
    {
      "cell_type": "markdown",
      "source": [
        "\n",
        "Type annotations help improve code readability, catch potential errors early, and enable better tooling support for IDEs and static type checkers like mypy."
      ],
      "metadata": {
        "id": "ve_78hw01lQf"
      }
    },
    {
      "cell_type": "markdown",
      "source": [
        "## Quantum Concepts in This Assignment\n",
        "\n",
        "### What is a Quantum State?\n",
        "A **quantum state** is a mathematical representation of a quantum system. In a two-level system (qubit), a state $|\\psi\\rangle$ can be written as:\n",
        "$$ |\\psi\\rangle = \\alpha |0\\rangle + \\beta |1\\rangle $$\n",
        "where $\\alpha$ and $\\beta$ are complex numbers representing probability amplitudes.\n",
        "\n",
        "### Superposition and Measurement\n",
        "- **Superposition**: A qubit can be in a mix of $|0\\rangle$ and $|1\\rangle$ states until measured.\n",
        "- **Measurement**: When measured, the qubit collapses to either $|0\\rangle$ or $|1\\rangle$ with probabilities $\\alpha|^2$ and $|\\beta|^2$.\n",
        "\n",
        "### Entanglement\n",
        "When two qubits are **entangled**, the state of one qubit depends on the state of the other, even if they are far apart. A common entangled state is the Bell state:\n",
        "$$|\\Phi^+\\rangle = \\frac{1}{\\sqrt{2}} (|00\\rangle + |11\\rangle) $$\n"
      ],
      "metadata": {
        "id": "iokDkDQxhM0X"
      }
    },
    {
      "cell_type": "markdown",
      "source": [
        "### QuTiP Data Types\n",
        "\n",
        "QuTiP (Quantum Toolbox in Python) introduces specialized data types for quantum science, primarily centered around the `Qobj` (Quantum Object) class. Here's an overview of the key QuTiP data types:\n",
        "\n",
        "1. **Qobj**: The fundamental data type in QuTiP, representing [quantum operators](https://en.wikipedia.org/wiki/Operator_(physics)) and [state vectors](https://en.wikipedia.org/wiki/Quantum_state). It has the following characteristics:\n",
        "   - Implements mathematical operations (+, -, *) between Qobj instances\n",
        "   - Can represent [kets](https://en.wikipedia.org/wiki/Bra%E2%80%93ket_notation), [bras](https://en.wikipedia.org/wiki/Bra%E2%80%93ket_notation), operators, and [superoperators](https://en.wikipedia.org/wiki/Superoperator)\n",
        "   - Stores data in various formats (e.g., dense or sparse matrices)\n",
        "\n",
        "2. **DimensionLike**: Represents the dimensions of [quantum systems](https://en.wikipedia.org/wiki/Quantum_system), crucial for [tensor products](https://en.wikipedia.org/wiki/Tensor_product).\n",
        "\n",
        "3. **ArrayLike**: Used for input data in vector/matrix representation of quantum objects.\n",
        "\n",
        "4. **ket**: A column vector representing a [quantum state](https://en.wikipedia.org/wiki/Quantum_state).\n",
        "\n",
        "5. **bra**: A row vector, the [Hermitian conjugate](https://en.wikipedia.org/wiki/Hermitian_adjoint) of a ket.\n",
        "\n",
        "6. **oper**: A matrix representing a quantum operator.\n",
        "\n",
        "7. **super**: A superoperator, used in quantum operations on [density matrices](https://en.wikipedia.org/wiki/Density_matrix).\n",
        "\n",
        "8. **eseries**: Represents exponential-series expansion of time-dependent quantum objects.\n",
        "\n",
        "QuTiP also supports various data layer types for efficient storage and computation:\n",
        "\n",
        "- **Dense**: For dense matrix representations\n",
        "- **CSR**: Compressed Sparse Row format for sparse matrices\n",
        "- **Dia**: Diagonal storage format for diagonal matrices\n",
        "\n",
        "These specialized types allow QuTiP to efficiently handle quantum computations, enabling operations like:\n",
        "- Creating quantum states (e.g., [Fock states](https://en.wikipedia.org/wiki/Fock_state), [coherent states](https://en.wikipedia.org/wiki/Coherent_state))\n",
        "- Performing [quantum measurements](https://en.wikipedia.org/wiki/Measurement_in_quantum_mechanics)\n",
        "- Simulating [quantum dynamics](https://en.wikipedia.org/wiki/Quantum_dynamics)\n",
        "\n",
        "By using these types, QuTiP provides a powerful framework for [quantum computing](https://en.wikipedia.org/wiki/Quantum_computing) simulations and calculations.\n"
      ],
      "metadata": {
        "id": "oabgMDeZ7mHZ"
      }
    },
    {
      "cell_type": "markdown",
      "source": [
        "## Exercise 1 - Debugging Type Errors (14 pts)  \n",
        "Fix the type errors in this code by referring to the [qutip documentation](https://qutip.org/docs/4.0.2/index.html) which data types are required :"
      ],
      "metadata": {
        "id": "eNmXmMKq6Hom"
      }
    },
    {
      "cell_type": "code",
      "source": [
        "!pip install qutip\n",
        "import qutip"
      ],
      "metadata": {
        "id": "pEqP36pk6KIO"
      },
      "execution_count": null,
      "outputs": []
    },
    {
      "cell_type": "code",
      "source": [
        "def photon_count(state: qutip.Qobj) -> int:\n",
        "    \"\"\"\n",
        "    Computes the expectation value of the photon number operator ⟨n⟩.\n",
        "\n",
        "    Parameters:\n",
        "        state (qutip.Qobj): Quantum state.\n",
        "\n",
        "    Returns:\n",
        "        ???: Photon number expectation value.\n",
        "    \"\"\"\n",
        "    return qutip.expect(qutip.num(10), state)  # Returns float!"
      ],
      "metadata": {
        "id": "u8Df-4Ao-iWl"
      },
      "execution_count": null,
      "outputs": []
    },
    {
      "cell_type": "code",
      "source": [
        "photon_count(qutip.coherent(10, 1))"
      ],
      "metadata": {
        "id": "DpVYfPlq-kt0"
      },
      "execution_count": null,
      "outputs": []
    },
    {
      "cell_type": "code",
      "source": [
        "def create_fock_state(n: float, dims: int) -> qutip.Qobj:\n",
        "    \"\"\"\n",
        "    Type enforcement prevents:\n",
        "    create_fock_state(2.5, 10)  # Error: n must be integer!\n",
        "    \"\"\"\n",
        "    return qutip.fock(dims, n)"
      ],
      "metadata": {
        "id": "EBb2oJ9H-2Du"
      },
      "execution_count": null,
      "outputs": []
    },
    {
      "cell_type": "code",
      "source": [
        "create_fock_state(2.5, 10)"
      ],
      "metadata": {
        "id": "AyCEO4hT-4He"
      },
      "execution_count": null,
      "outputs": []
    },
    {
      "cell_type": "code",
      "source": [
        "def create_coherent_state(alpha: complex, dimension: float) -> int:\n",
        "    \"\"\"\n",
        "    Creates a coherent state |α⟩ using QuTiP.\n",
        "\n",
        "    Parameters:\n",
        "        alpha (complex): Complex displacement parameter.\n",
        "        dimension (int): Hilbert space size.\n",
        "\n",
        "    Returns:\n",
        "        qutip.Qobj: The coherent state |α⟩.\n",
        "    \"\"\"\n",
        "    return qutip.coherent(dimension, alpha)\n",
        "\n",
        "def photon_number_expectation(state: string) -> Qobj:\n",
        "    \"\"\"\n",
        "    Computes the expectation value of the photon number operator ⟨n⟩.\n",
        "\n",
        "    Parameters:\n",
        "        state (???): Quantum state.\n",
        "\n",
        "    Returns:\n",
        "        ???: Photon number expectation value.\n",
        "    \"\"\"\n",
        "    return qutip.expect(qutip.num(state.dims), state)"
      ],
      "metadata": {
        "id": "QxxrqwPA6OUz"
      },
      "execution_count": null,
      "outputs": []
    },
    {
      "cell_type": "markdown",
      "source": [
        "## Exercise 2: Quantum States in QuTiP (14 points)\n",
        "\n",
        "### Exercise 2.1: Creating Fock States\n",
        "Create the Fock state $|n\\rangle$ for $n=0, 1, 2$ using QuTiP and plot the corresponding wavefunctions.\n",
        "\n",
        "Hints: Use [`fock`](https://qutip.org/docs/4.0.2/apidoc/functions.html?highlight=fock#qutip.states.fock) to generate number states and [`state.full().flatten()**2`](https://qutip.org/docs/4.0.2/apidoc/classes.html?highlight=full#Qobj.full) in a bar plot for plotting\n"
      ],
      "metadata": {
        "id": "8v_7KBaFlTJg"
      }
    },
    {
      "cell_type": "markdown",
      "source": [
        "### Exercise 2.2: Creating Coherent States\n",
        "Generate a coherent state using the function from Excercise 1 with $\\alpha = 1.5$ and visualize its Wigner function using matplotlibs `contourf` and the following example code:\n",
        "\n",
        "```python\n",
        "# Plot Wigner function\n",
        "x = np.linspace(-5, 5, 200)\n",
        "y = np.linspace(-5, 5, 200)\n",
        "X, Y = np.meshgrid(x, y)\n",
        "Z = qutip.wigner(coherent_state, x, y)\n",
        "```"
      ],
      "metadata": {
        "id": "QQAiG4NyoDxH"
      }
    },
    {
      "cell_type": "markdown",
      "source": [
        "### Exercise 2.3: Creating Squeezed Vacuum States\n",
        "Create and visualize a squeezed vacuum state with a squeezing parameter of 1.0 using [`squeeze`](https://qutip.org/docs/4.0.2/apidoc/functions.html?highlight=squeeze#qutip.operators.squeeze).\n",
        "\n",
        "1. Generate a so called vacuum Fock state with a Hilbert Dimension of your chaice (e.g. 10) and a number state of 0\n",
        "2. Generate a product state (*) of the squeeze state (Careful: same Hilbert dimension!) and the squeezing parameter $r$ with the vacuum Fock state.\n",
        "3. Now do the same plotting as in Ex 2.2\n",
        "\n",
        "\n"
      ],
      "metadata": {
        "id": "67LhR7ysifgA"
      }
    },
    {
      "cell_type": "markdown",
      "source": [
        "## Exercise 3: Interactive Quantum Circuit Prompt (14 points)\n",
        "\n",
        "### Objective\n",
        "\n",
        "In this exercise, you will interact with any LLM to design and implement a quantum photonic circuit using a real quantum computer (Strawberry Fields). You will be guided through an interactive prompt that helps you define a quantum problem and generate Python code to solve it.\n",
        "\n",
        "### Instructions\n",
        "\n",
        "1. **Use the Provided Interactive Prompt**: Copy and paste the following structured prompt into ChatGPT. This will guide you through the process of creating a quantum photonic circuit tailored to a problem of your choice.\n",
        "\n",
        "   **Interactive Prompt:**\n",
        "   \n",
        "   ```\n",
        "   I want to design a quantum photonic circuit using Strawberry Fields in Python. Please guide me step by step by asking interactive questions to define the circuit based on my requirements. Here’s how I’d like you to proceed:\n",
        "   \n",
        "   1. Ask me what type of quantum problem I want to solve (e.g., quantum teleportation, Gaussian boson sampling, entanglement generation).\n",
        "   2. Help me choose the number of modes and photon states required for the circuit.\n",
        "   3. Assist me in selecting quantum operations (e.g., squeezing, displacement, beamsplitters, phase shifts, Kerr interaction).\n",
        "   4. Guide me in setting up appropriate measurements (e.g., homodyne, photon counting, heterodyne).\n",
        "   5. Once all parameters are determined, generate the complete Strawberry Fields Python code for the circuit.\n",
        "   6. Include a section to visualize the output state or measurement results using Matplotlib or QuTiP.\n",
        "   \n",
        "   Please guide me interactively through each step, ensuring that I understand the choices and their implications. After the final code is generated, provide an explanation of its functionality.\n",
        "   ```\n",
        "\n",
        "2. **Follow the Interaction**: Engage with ChatGPT as it asks you about the circuit details. Answer its questions carefully to shape the circuit according to your learning objectives.\n",
        "\n",
        "3. **Analyze and Run the Generated Code**: Copy the final Python code provided by ChatGPT and run it in your Python environment. Verify its correctness and functionality.\n",
        "\n",
        "4. **Modify and Improve the Prompt**: Make sure that the genrated code uses type annotations as in Excercise 1, refine the prompt and rerun the interaction to improve the generated circuit and its explanations.\n",
        "\n",
        "5. **Submit Your Work:**\n",
        "   - Include the final refined prompt you used.\n",
        "   - Provide the complete generated Python code.\n",
        "   - Document the results and any modifications you made to improve the circuit.\n",
        "   - Explain your learning experience from this interactive process.\n",
        "\n",
        "\n"
      ],
      "metadata": {
        "id": "01RGtSZPmOWP"
      }
    }
  ]
}