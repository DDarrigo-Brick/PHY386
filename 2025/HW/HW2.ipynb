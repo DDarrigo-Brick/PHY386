{
  "nbformat": 4,
  "nbformat_minor": 0,
  "metadata": {
    "colab": {
      "provenance": [],
      "authorship_tag": "ABX9TyPAA9ZUWQbBGw4NwRecrpz2",
      "include_colab_link": true
    },
    "kernelspec": {
      "name": "python3",
      "display_name": "Python 3"
    },
    "language_info": {
      "name": "python"
    }
  },
  "cells": [
    {
      "cell_type": "markdown",
      "metadata": {
        "id": "view-in-github",
        "colab_type": "text"
      },
      "source": [
        "<a href=\"https://colab.research.google.com/github/ubsuny/PHY386/blob/main/2025/HW/HW2.ipynb\" target=\"_parent\"><img src=\"https://colab.research.google.com/assets/colab-badge.svg\" alt=\"Open In Colab\"/></a>"
      ]
    },
    {
      "cell_type": "markdown",
      "source": [
        "# Linear Algebra in Physics: Solving a System of Equations\n",
        "\n",
        "## Introduction\n",
        "\n",
        "In this homework, we'll solve a simple system of linear equations representing a physical problem using Python. We'll focus on proper documentation, docstrings, and functional programming techniques."
      ],
      "metadata": {
        "id": "TuvhPJFbm9mE"
      }
    },
    {
      "cell_type": "markdown",
      "source": [
        "### Learning Outcome\n",
        "- Understand how to represent a physical system using linear equations.\n",
        "- Learn to use numpy for linear algebra operations.\n",
        "- Practice writing clear and informative docstrings.\n",
        "- Apply functional programming concepts by breaking down the problem into small, focused functions."
      ],
      "metadata": {
        "id": "yJWprvM2nrD1"
      }
    },
    {
      "cell_type": "markdown",
      "source": [
        "## Example Problem Statement\n",
        "\n",
        "Consider a system of three masses connected by springs and the first and third mass connected to a fixed wall by springs. What are the Eigenfrequencies of the system?"
      ],
      "metadata": {
        "id": "3YLY9cARm_zN"
      }
    },
    {
      "cell_type": "markdown",
      "source": [
        "### Example Solution\n",
        "\n",
        "Let's solve this system using Python and linear algebra techniques.\n",
        "\n",
        "This system is a classic example of coupled oscillators in physics.\n",
        "\n",
        "### Setting Up the System\n",
        "\n",
        "To set up the equations of motion for a system of three masses connected by springs, we can use Newton's Second Law and Hooke's Law.\n",
        "\n",
        "Consider three masses (m₁, m₂, m₃) connected in a line by four springs with spring constants k₁, k₂, k₃, and k₄. The system can be represented as:\n",
        "\n",
        "```\n",
        "    k₁       k₂       k₃       k₄\n",
        "|---*---m₁---*---m₂---*---m₃---*---|\n",
        "```"
      ],
      "metadata": {
        "id": "IkhIlr6ynP-i"
      }
    },
    {
      "cell_type": "markdown",
      "source": [
        "\n",
        "### Equations of Motion\n",
        "\n",
        "For each mass, we'll write Newton's Second Law (F = ma) and use Hooke's Law (F = -kx) for the spring forces.\n",
        "\n",
        "#### For mass m₁:\n",
        "\n",
        "$$ m_1 \\frac{d^2x_1}{dt^2} = -k_1x_1 - k_2(x_1 - x_2) $$\n",
        "\n",
        "Here, x₁ is the displacement of m₁ from its equilibrium position. The first term (-k₁x₁) represents the force from the leftmost spring, and the second term (-k₂(x₁ - x₂)) represents the force from the spring between m₁ and m₂.\n",
        "\n",
        "#### For mass m₂:\n",
        "\n",
        "$$ m_2 \\frac{d^2x_2}{dt^2} = -k_2(x_2 - x_1) - k_3(x_2 - x_3) $$\n",
        "\n",
        "x₂ is the displacement of m₂. The first term represents the force from the spring between m₁ and m₂, and the second term represents the force from the spring between m₂ and m₃.\n",
        "\n",
        "#### For mass m₃:\n",
        "\n",
        "$$ m_3 \\frac{d^2x_3}{dt^2} = -k_3(x_3 - x_2) - k_4x_3 $$\n",
        "\n",
        "x₃ is the displacement of m₃. The first term represents the force from the spring between m₂ and m₃, and the second term represents the force from the rightmost spring.\n"
      ],
      "metadata": {
        "id": "hII7oNliS443"
      }
    },
    {
      "cell_type": "markdown",
      "source": [
        "### Matrix Form\n",
        "\n",
        "These equations can be written in matrix form:\n",
        "\n",
        "$$\n",
        "\\begin{bmatrix}\n",
        "m_1 & 0 & 0 \\\\\n",
        "0 & m_2 & 0 \\\\\n",
        "0 & 0 & m_3\n",
        "\\end{bmatrix}\n",
        "\\begin{bmatrix}\n",
        "\\frac{d^2x_1}{dt^2} \\\\\n",
        "\\frac{d^2x_2}{dt^2} \\\\\n",
        "\\frac{d^2x_3}{dt^2}\n",
        "\\end{bmatrix} =\n",
        "\\begin{bmatrix}\n",
        "-(k_1 + k_2) & k_2 & 0 \\\\\n",
        "k_2 & -(k_2 + k_3) & k_3 \\\\\n",
        "0 & k_3 & -(k_3 + k_4)\n",
        "\\end{bmatrix}\n",
        "\\begin{bmatrix}\n",
        "x_1 \\\\\n",
        "x_2 \\\\\n",
        "x_3\n",
        "\\end{bmatrix}\n",
        "$$"
      ],
      "metadata": {
        "id": "UVWwxjKD1r5l"
      }
    },
    {
      "cell_type": "markdown",
      "source": [
        "### Solving the System\n",
        "\n",
        "To find the normal modes and frequencies of the system:\n",
        "\n",
        "1. Assume harmonic solutions of the form $x_i = A_i \\mathrm e^{i\\omega t}$.\n",
        "2. Substitute these into the matrix equation.\n",
        "3. Set the determinant of the resulting coefficient matrix to zero.\n",
        "4. Solve the resulting characteristic equation for $\\omega^2$.\n",
        "\n",
        "The solutions will give you the eigenfrequencies of the system, and the corresponding eigenvectors will represent the normal modes of oscillation."
      ],
      "metadata": {
        "id": "0qXuhY8H10F3"
      }
    },
    {
      "cell_type": "markdown",
      "source": [
        "### Assume Harmonic Solutions\n",
        "\n",
        "We assume solutions of the form:\n",
        "$$\n",
        "\\begin{align}\n",
        "x_1 &= A_1 e^{i\\omega t} \\\\\n",
        "x_2 &= A_2 e^{i\\omega t} \\\\\n",
        "x_3 &= A_3 e^{i\\omega t}\n",
        "\\end{align}\n",
        "$$\n",
        "\n",
        "Where $\\omega$ is the angular frequency we're trying to find.\n"
      ],
      "metadata": {
        "id": "Lo_GgW9T2e53"
      }
    },
    {
      "cell_type": "markdown",
      "source": [
        "For our problem now we can set all the spring constants to the same value $k$ and rewrite these equations:\n",
        "\n",
        "$$\n",
        "\\begin{bmatrix}\n",
        "m_1 & 0 & 0 \\\\\n",
        "0 & m_2 & 0 \\\\\n",
        "0 & 0 & m_3\n",
        "\\end{bmatrix}\n",
        "\\begin{bmatrix}\n",
        "\\frac{d^2x_1}{dt^2} \\\\\n",
        "\\frac{d^2x_2}{dt^2} \\\\\n",
        "\\frac{d^2x_3}{dt^2}\n",
        "\\end{bmatrix} =\n",
        "\\begin{bmatrix}\n",
        "2k & -k & 0 \\\\\n",
        "-k & 2k & -k \\\\\n",
        "0 & -k & 2k\n",
        "\\end{bmatrix}\n",
        "\\begin{bmatrix}\n",
        "x_1 \\\\\n",
        "x_2 \\\\\n",
        "x_3\n",
        "\\end{bmatrix}\n",
        "$$"
      ],
      "metadata": {
        "id": "VOgmtFJKRGZ2"
      }
    },
    {
      "cell_type": "markdown",
      "source": [
        "### Derive the Eigenvalue Equation\n",
        "\n",
        "Substituting these solutions into our matrix equation and canceling $e^{i\\omega t}$, we get:\n",
        "\n",
        "$$\n",
        "\\begin{bmatrix}\n",
        "-m_1\\omega^2 & 0 & 0 \\\\\n",
        "0 & -m_2\\omega^2 & 0 \\\\\n",
        "0 & 0 & -m_3\\omega^2\n",
        "\\end{bmatrix}\n",
        "\\begin{bmatrix}\n",
        "A_1 \\\\\n",
        "A_2 \\\\\n",
        "A_3\n",
        "\\end{bmatrix} =\n",
        "\\begin{bmatrix}\n",
        "2k & -k & 0 \\\\\n",
        "-k & 2k & -k \\\\\n",
        "0 & -k & 2k\n",
        "\\end{bmatrix}\n",
        "\\begin{bmatrix}\n",
        "A_1 \\\\\n",
        "A_2 \\\\\n",
        "A_3\n",
        "\\end{bmatrix}\n",
        "$$"
      ],
      "metadata": {
        "id": "hAyRyPgc2uo4"
      }
    },
    {
      "cell_type": "markdown",
      "source": [
        "### Solve the Eigenvalue Problem\n",
        "\n",
        "To find non-trivial solutions, we set the determinant of the coefficient matrix to zero:\n",
        "\n",
        "$$\n",
        "\\det\n",
        "\\begin{vmatrix}\n",
        "-m_1\\omega^2 + 2k & -k & 0 \\\\\n",
        "-k & -m_2\\omega^2 + 2k & -k \\\\\n",
        "0 & -k & -m_3\\omega^2 + 2k\n",
        "\\end{vmatrix} = 0\n",
        "$$"
      ],
      "metadata": {
        "id": "xDeJUnwn3YFz"
      }
    },
    {
      "cell_type": "markdown",
      "source": [
        "### Simplify for Equal Masses and Springs\n",
        "\n",
        "For our case all masses are equal ($m$) and all spring constants are equal ($k$). We can define $$\\omega_0^2 = \\frac{k}{m}$$\n",
        "\n",
        "Our equation becomes:\n",
        "\n",
        "$$\n",
        "\\det\n",
        "\\begin{vmatrix}\n",
        "2\\omega_0^2 - \\omega^2 & -\\omega_0^2 & 0 \\\\\n",
        "-\\omega_0^2 & 2\\omega_0^2 - \\omega^2 & -\\omega_0^2 \\\\\n",
        "0 & -\\omega_0^2 & 2\\omega_0^2 - \\omega^2\n",
        "\\end{vmatrix} = 0\n",
        "$$"
      ],
      "metadata": {
        "id": "kijih1Il3_Xz"
      }
    },
    {
      "cell_type": "markdown",
      "source": [
        "### Solve the Characteristic Equation\n",
        "\n",
        "Expanding this determinant gives us a cubic equation in $\\omega^2$:\n",
        "\n",
        "$$\n",
        "(-\\omega^2 + 2\\omega_0^2)((-\\omega^2 + 2\\omega_0^2)^2-2\\omega_0^2) = 0\n",
        "$$"
      ],
      "metadata": {
        "id": "ODmgfCkz4EKb"
      }
    },
    {
      "cell_type": "markdown",
      "source": [
        "### Find the Eigenfrequencies\n",
        "\n",
        "The solutions to this equation are the squared eigenfrequencies:\n",
        "\n",
        "1. $$\\omega_1^2 = \\omega_0^2 = 2\\frac{k}{m}$$\n",
        "2. $$\\omega_2^2 = (2 - \\sqrt{2})\\omega_0^2 = (2 - \\sqrt{2})\\frac{k}{m}$$\n",
        "3. $$\\omega_3^2 = (2 + \\sqrt{2})\\omega_0^2 = (2 + \\sqrt{2})\\frac{k}{m}$$"
      ],
      "metadata": {
        "id": "n9Md0tln2vKy"
      }
    },
    {
      "cell_type": "markdown",
      "source": [
        "## Coding"
      ],
      "metadata": {
        "id": "qQ0-3T9t4jfh"
      }
    },
    {
      "cell_type": "code",
      "source": [
        "# import libraries\n",
        "import numpy as np"
      ],
      "metadata": {
        "id": "J41rVUd34oZO"
      },
      "execution_count": null,
      "outputs": []
    },
    {
      "cell_type": "code",
      "source": [
        "# Let's calculate the frequencies numerically:\n",
        "\n",
        "def calculate_eigenfrequencies_3mass(k, m):\n",
        "    \"\"\" calculate the eigenfrequencies for our three mass problem.\n",
        "\n",
        "    Keyword arguments:\n",
        "    k -- spring constant (N/m)\n",
        "    m -- mass (kg)\n",
        "\n",
        "    returns:\n",
        "    w1 -- first eigenfrequency\n",
        "    w2 -- second eigenfrequency\n",
        "    w3 -- third eigenfrequency\n",
        "    \"\"\"\n",
        "    w0_squared = k / m\n",
        "    w1 = np.sqrt(2*w0_squared)\n",
        "    w2 = np.sqrt((2-np.sqrt(2)) * w0_squared)\n",
        "    w3 = np.sqrt((2+np.sqrt(2)) * w0_squared)\n",
        "    return w1, w2, w3\n",
        "\n",
        "# Example values\n",
        "k = 10  # N/m\n",
        "m = 1   # kg\n",
        "\n",
        "w1, w2, w3 = calculate_eigenfrequencies_3mass(k, m)\n",
        "\n",
        "print(\"Eigenfrequencies:\")\n",
        "print(\"ω₁ = {:.4f} rad/s\".format(w1))\n",
        "print(\"ω₂ = {:.4f} rad/s\".format(w2))\n",
        "print(\"ω₃ = {:.4f} rad/s\".format(w3))"
      ],
      "metadata": {
        "id": "3oeI9Cxt4Wsn"
      },
      "execution_count": null,
      "outputs": []
    },
    {
      "cell_type": "markdown",
      "source": [
        "### Conclusion\n",
        "While this approach works for our example problem, we used a lot of physics and very little coding to get to the desired result. This is in general no problem, however if we now want to extend our system we quickly run into issues with the analytical solution provided. In the next classes we will try to use more code to make the solution more adaptable to more generic problems.\n",
        "\n",
        "The big advantage we have now is that whatever code we produce the new code should still be able to reproduce our analytical solution above. In coding we call this a *unit test*."
      ],
      "metadata": {
        "id": "vphy9I2SCabu"
      }
    },
    {
      "cell_type": "markdown",
      "source": [
        "## Homework (total 42 points)\n",
        "\n",
        "Make sure that all the code you are writing has proper docstrings."
      ],
      "metadata": {
        "id": "a-Q__yABT41p"
      }
    },
    {
      "cell_type": "markdown",
      "source": [
        "### Extend the existing code (total 32 points)\n",
        "1. Extend the system to $n$ masses (10 points) and adjust the code so that every spring and every mass can be different (10 points).\n",
        "2. Add an conditional statement for the case that the first and last spring is not connected to a wall and add the code to calculate that case (12 points)"
      ],
      "metadata": {
        "id": "__JXKJ0Wz-ce"
      }
    },
    {
      "cell_type": "markdown",
      "source": [
        "### AI creativity (10 points)\n",
        "\n",
        "Use the following prompt in your favorite AI tool:\n",
        "> I want to expand the physics model of coupled harmonic oscillators. I have a chain of masses coupled with springs. Give me a creative way how to couple those masses and show me how to calculate their Eigenfrequencies in a Jupyter notebook. Then ask me if that model makes sense in physics. Take my answer and adapt the model accordingly updating the code. Repeat this till I’m confident that you suggested a model that can exist in the real world.\n",
        "\n",
        "Copy and run the final code in the next cell. Then comment on how your favorite AI model handled the physics and how many iteration steps it needed to get a real-world model. Also descibe where in nature you would find the final model."
      ],
      "metadata": {
        "id": "vFd2CCMQxrPp"
      }
    }
  ]
}