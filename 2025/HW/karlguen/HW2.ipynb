{
  "nbformat": 4,
  "nbformat_minor": 0,
  "metadata": {
    "colab": {
      "provenance": [],
      "authorship_tag": "ABX9TyPcaKfv9Dkwt3H8H0uL0jMj",
      "include_colab_link": true
    },
    "kernelspec": {
      "name": "python3",
      "display_name": "Python 3"
    },
    "language_info": {
      "name": "python"
    }
  },
  "cells": [
    {
      "cell_type": "markdown",
      "metadata": {
        "id": "view-in-github",
        "colab_type": "text"
      },
      "source": [
        "<a href=\"https://colab.research.google.com/github/ubsuny/PHY386/blob/Homework2025/2025/HW/karlguen/HW2.ipynb\" target=\"_parent\"><img src=\"https://colab.research.google.com/assets/colab-badge.svg\" alt=\"Open In Colab\"/></a>"
      ]
    },
    {
      "cell_type": "markdown",
      "source": [
        "#**Extenting the Existing Code**"
      ],
      "metadata": {
        "id": "HjCm_dufNV6L"
      }
    },
    {
      "cell_type": "markdown",
      "source": [
        "# **Importing Libraries**"
      ],
      "metadata": {
        "id": "oIhUnE-EmTWn"
      }
    },
    {
      "cell_type": "code",
      "source": [
        "# import libraries\n",
        "import numpy as np\n",
        "import scipy.linalg as la\n"
      ],
      "metadata": {
        "id": "86b4ytdN4yym"
      },
      "execution_count": 1,
      "outputs": []
    },
    {
      "cell_type": "markdown",
      "source": [
        "# **Calculating frequencies numerically**\n",
        "From the provided HW2 file"
      ],
      "metadata": {
        "id": "IqKJb1SLme2s"
      }
    },
    {
      "cell_type": "code",
      "source": [
        "# Let's calculate the frequencies numerically:\n",
        "\n",
        "def calculate_eigenfrequencies_3mass(k, m):\n",
        "    \"\"\" calculate the eigenfrequencies for our three mass problem.\n",
        "\n",
        "    Keyword arguments:\n",
        "    k -- spring constant (N/m)\n",
        "    m -- mass (kg)\n",
        "\n",
        "    returns:\n",
        "    w1 -- first eigenfrequency\n",
        "    w2 -- second eigenfrequency\n",
        "    w3 -- third eigenfrequency\n",
        "    \"\"\"\n",
        "    w0_squared = k / m\n",
        "    w1 = np.sqrt(2*w0_squared)\n",
        "    w2 = np.sqrt((2-np.sqrt(2)) * w0_squared)\n",
        "    w3 = np.sqrt((2+np.sqrt(2)) * w0_squared)\n",
        "    return w1, w2, w3\n",
        "\n",
        "# Example values\n",
        "k = 10  # N/m\n",
        "m = 1   # kg\n",
        "\n",
        "w1, w2, w3 = calculate_eigenfrequencies_3mass(k, m)\n",
        "\n",
        "print(\"Eigenfrequencies:\")\n",
        "print(\"ω₁ = {:.4f} rad/s\".format(w1))\n",
        "print(\"ω₂ = {:.4f} rad/s\".format(w2))\n",
        "print(\"ω₃ = {:.4f} rad/s\".format(w3))"
      ],
      "metadata": {
        "id": "3oeI9Cxt4Wsn",
        "outputId": "d8cac673-61ea-487b-fd09-36256336f2fb",
        "colab": {
          "base_uri": "https://localhost:8080/"
        }
      },
      "execution_count": 2,
      "outputs": [
        {
          "output_type": "stream",
          "name": "stdout",
          "text": [
            "Eigenfrequencies:\n",
            "ω₁ = 4.4721 rad/s\n",
            "ω₂ = 2.4203 rad/s\n",
            "ω₃ = 5.8431 rad/s\n"
          ]
        }
      ]
    },
    {
      "cell_type": "markdown",
      "source": [
        "# **Setting Up The Mass Matrix**"
      ],
      "metadata": {
        "id": "2LiZv6XNmujS"
      }
    },
    {
      "cell_type": "markdown",
      "source": [
        "## Testing with hard-coding the variables"
      ],
      "metadata": {
        "id": "JzKNKyTAm4Sq"
      }
    },
    {
      "cell_type": "code",
      "source": [
        "k = 10\n",
        "m = 1\n",
        "M = np.diag([m , m, m])\n",
        "print(M)"
      ],
      "metadata": {
        "colab": {
          "base_uri": "https://localhost:8080/"
        },
        "id": "SwFPzsR_2R5h",
        "outputId": "d34eee38-5dbf-44d6-8cfb-260a7b3df593"
      },
      "execution_count": 3,
      "outputs": [
        {
          "output_type": "stream",
          "name": "stdout",
          "text": [
            "[[1 0 0]\n",
            " [0 1 0]\n",
            " [0 0 1]]\n"
          ]
        }
      ]
    },
    {
      "cell_type": "code",
      "source": [
        "K = np.diag([2*k, 2*k, 2*k])+np.array([[0, -k, 0],[-k, 0, -k], [0, -k, 0]])\n",
        "print(K)"
      ],
      "metadata": {
        "colab": {
          "base_uri": "https://localhost:8080/"
        },
        "id": "QgZA48sR2Y-f",
        "outputId": "96226b12-b623-4d5a-c5bb-fc952d4fb9fc"
      },
      "execution_count": 4,
      "outputs": [
        {
          "output_type": "stream",
          "name": "stdout",
          "text": [
            "[[ 20 -10   0]\n",
            " [-10  20 -10]\n",
            " [  0 -10  20]]\n"
          ]
        }
      ]
    },
    {
      "cell_type": "code",
      "source": [
        "np.sqrt(la.eigh(K,M) [0])"
      ],
      "metadata": {
        "colab": {
          "base_uri": "https://localhost:8080/"
        },
        "id": "TQJXmI9o2yXv",
        "outputId": "73cea954-8008-41d0-a602-4b982eb27952"
      },
      "execution_count": 5,
      "outputs": [
        {
          "output_type": "execute_result",
          "data": {
            "text/plain": [
              "array([2.42030254, 4.47213595, 5.84312721])"
            ]
          },
          "metadata": {},
          "execution_count": 5
        }
      ]
    },
    {
      "cell_type": "markdown",
      "source": [
        "## Creating Functions to Create Mass and Hardness Matrices"
      ],
      "metadata": {
        "id": "umFQ7xUTnDwD"
      }
    },
    {
      "cell_type": "code",
      "source": [
        "def setup_mass_matix_with_walls(m_list):\n",
        "  \"\"\"\n",
        "  This function creates the mass matrix using the provided masses list as the diagonal terms.\n",
        "  This list can be any number of masses that the user decides.\n",
        "\n",
        "  Keyword arguments:\n",
        "  m_list -- list of masses\n",
        "\n",
        "  Returns:\n",
        "  M -- mass matrix\n",
        "  \"\"\"\n",
        "  M = np.diag(m_list)\n",
        "  return M"
      ],
      "metadata": {
        "id": "fcJhke9M4anx"
      },
      "execution_count": 6,
      "outputs": []
    },
    {
      "cell_type": "code",
      "source": [
        "M = setup_mass_matix_with_walls([1,1,1])"
      ],
      "metadata": {
        "id": "_7e_Cj_87a50"
      },
      "execution_count": 38,
      "outputs": []
    },
    {
      "cell_type": "code",
      "source": [
        "def setup_stiffness_matrix(k_list, walls=True):\n",
        "  \"\"\"\n",
        "  This function creates the stiffness matrix using the provided stiffness list\n",
        "  as the diagonal terms. This function provides the user with the option to\n",
        "  select if there are walls or not using True/False.\n",
        "\n",
        "  Keyword arguments:\n",
        "  k_list -- list of stiffnesses\n",
        "  walls -- indicating if the system has walls, True by default\n",
        "\n",
        "  Returns:\n",
        "  K -- stiffness matrix\n",
        "  \"\"\"\n",
        "  K = np.zeros(((len(k_list)-1), (len(k_list)-1)))\n",
        "  if walls:\n",
        "    for i in range(len(k_list)-1):\n",
        "        K[i,i] = k_list[i]+k_list[i+1]\n",
        "        if i < len(k_list)-2:\n",
        "          K[i, i+1] = -k_list[i+1]\n",
        "          K[i+1, i] = -k_list[i+1]\n",
        "  else:\n",
        "    # Ititializing the first and last diagonal element seperately from the loop and starting the loop at the second k value\n",
        "    for i in range(len(k_list)-2):\n",
        "        K[i,i] = k_list[i]+k_list[i+1]\n",
        "        if i < len(k_list)-3:\n",
        "          K[i, i+1] = -k_list[i+2]\n",
        "          K[i+1, i] = -k_list[i+2]\n",
        "    K[0,0] = k_list[i+1]\n",
        "    K[len(k_list)-2, len(k_list)-2] = k_list[i-2]\n",
        "\n",
        "  return K\n"
      ],
      "metadata": {
        "id": "D9TS1Sjs7ip2"
      },
      "execution_count": 26,
      "outputs": []
    },
    {
      "cell_type": "code",
      "source": [
        "K = setup_stiffness_matrix([10, 10, 10, 10], True)"
      ],
      "metadata": {
        "id": "1EAXVUsc9eW6"
      },
      "execution_count": 27,
      "outputs": []
    },
    {
      "cell_type": "code",
      "source": [
        "def calculate_eigenfrequencies(K, M):\n",
        "  \"\"\"\n",
        "  Function to solve the spring mass system for a given stiffness matrix K and a given mass matrix M.\n",
        "  These matrices are used to calculate the eigenfrequencies of the system and are provided\n",
        "  from the code above by the user.\n",
        "\n",
        "  Keyword arguments:\n",
        "  K -- stiffness matrix\n",
        "  M -- mass matrix\n",
        "\n",
        "  Returns:\n",
        "  omega -- The real eigenfrequencies of the system\n",
        "  \"\"\"\n",
        "  eigenvalues, eigenvectors = la.eigh(K,M)\n",
        "  omega = np.sqrt(eigenvalues)\n",
        "  return omega"
      ],
      "metadata": {
        "id": "o8Estkzl9iqt"
      },
      "execution_count": 28,
      "outputs": []
    },
    {
      "cell_type": "markdown",
      "source": [
        "Testing to see if code works overall with no walls"
      ],
      "metadata": {
        "id": "Oju-VC-pEUc7"
      }
    },
    {
      "cell_type": "code",
      "source": [
        "calculate_eigenfrequencies(setup_stiffness_matrix([10,10,10,10], False), setup_mass_matix_with_walls([1,1,1]))"
      ],
      "metadata": {
        "colab": {
          "base_uri": "https://localhost:8080/"
        },
        "id": "Apj-A15Rn-qp",
        "outputId": "e3d030c0-4211-495b-bbc1-3aece7584d49"
      },
      "execution_count": 29,
      "outputs": [
        {
          "output_type": "execute_result",
          "data": {
            "text/plain": [
              "array([1.95439508, 3.16227766, 5.11667274])"
            ]
          },
          "metadata": {},
          "execution_count": 29
        }
      ]
    },
    {
      "cell_type": "markdown",
      "source": [
        "Testing if code works with walls"
      ],
      "metadata": {
        "id": "FVXyGw0uEdE_"
      }
    },
    {
      "cell_type": "code",
      "source": [
        "calculate_eigenfrequencies(setup_stiffness_matrix([10,10,10,10], True), setup_mass_matix_with_walls([1,1,1]))"
      ],
      "metadata": {
        "colab": {
          "base_uri": "https://localhost:8080/"
        },
        "id": "qeI8pRF6EX_b",
        "outputId": "31201144-bb8e-4a2a-933d-dfcb526a2549"
      },
      "execution_count": 32,
      "outputs": [
        {
          "output_type": "execute_result",
          "data": {
            "text/plain": [
              "array([2.42030254, 4.47213595, 5.84312721])"
            ]
          },
          "metadata": {},
          "execution_count": 32
        }
      ]
    },
    {
      "cell_type": "markdown",
      "source": [
        "This matches with the calculated numerical values above!"
      ],
      "metadata": {
        "id": "Ig4ZnuHkEgtS"
      }
    },
    {
      "cell_type": "markdown",
      "source": [
        "We can also test this for different values and number of inputs for both the mass and stiffness matrix!"
      ],
      "metadata": {
        "id": "oNXpi3V1Ermz"
      }
    },
    {
      "cell_type": "code",
      "source": [
        "calculate_eigenfrequencies(setup_stiffness_matrix([15,22,24,22,22], False), setup_mass_matix_with_walls([2,1,3,2]))"
      ],
      "metadata": {
        "colab": {
          "base_uri": "https://localhost:8080/"
        },
        "id": "M4ZF9goME1Zt",
        "outputId": "0a27e8d1-b0ad-4f67-f411-19f765b68170"
      },
      "execution_count": 42,
      "outputs": [
        {
          "output_type": "execute_result",
          "data": {
            "text/plain": [
              "array([1.40771687, 2.73861279, 3.74901078, 7.503105  ])"
            ]
          },
          "metadata": {},
          "execution_count": 42
        }
      ]
    },
    {
      "cell_type": "markdown",
      "source": [
        "**Therefore, our code will work for any system to n number of masses, every spring and every mass can be different, and we can solve for the case without walls!**"
      ],
      "metadata": {
        "id": "aukRtqSYNCbK"
      }
    },
    {
      "cell_type": "markdown",
      "source": [
        "#**AI Creativity**\n"
      ],
      "metadata": {
        "id": "Mp03Oqo8rcC4"
      }
    },
    {
      "cell_type": "markdown",
      "source": [
        "Using the provided prompt with ChatGPT, I received the following code at first:"
      ],
      "metadata": {
        "id": "hmCnledZFL6D"
      }
    },
    {
      "cell_type": "markdown",
      "source": [
        "##Initial Code"
      ],
      "metadata": {
        "id": "GVBYdDKHIneS"
      }
    },
    {
      "cell_type": "code",
      "source": [
        "import numpy as np\n",
        "import scipy.linalg\n",
        "import matplotlib.pyplot as plt\n",
        "\n",
        "def create_stiffness_matrix(n, k_main=1, k_diag=0.5):\n",
        "    \"\"\"\n",
        "    Constructs the stiffness matrix for a 2D lattice of coupled masses.\n",
        "\n",
        "    Parameters:\n",
        "    n -- number of masses per row/column (total n^2 masses)\n",
        "    k_main -- stiffness for horizontal/vertical springs\n",
        "    k_diag -- stiffness for diagonal springs\n",
        "\n",
        "    Returns:\n",
        "    K -- (n^2 x n^2) stiffness matrix\n",
        "    \"\"\"\n",
        "    N = n**2  # Total number of masses\n",
        "    K = np.zeros((N, N))\n",
        "\n",
        "    def index(x, y):\n",
        "        \"\"\"Convert 2D indices to 1D index.\"\"\"\n",
        "        return x * n + y\n",
        "\n",
        "    for i in range(n):\n",
        "        for j in range(n):\n",
        "            idx = index(i, j)\n",
        "\n",
        "            # Connect to right neighbor\n",
        "            if j < n - 1:\n",
        "                K[idx, idx] += k_main\n",
        "                K[idx, index(i, j+1)] = -k_main\n",
        "                K[index(i, j+1), idx] = -k_main\n",
        "\n",
        "            # Connect to bottom neighbor\n",
        "            if i < n - 1:\n",
        "                K[idx, idx] += k_main\n",
        "                K[idx, index(i+1, j)] = -k_main\n",
        "                K[index(i+1, j), idx] = -k_main\n",
        "\n",
        "            # Connect to bottom-right diagonal\n",
        "            if i < n - 1 and j < n - 1:\n",
        "                K[idx, idx] += k_diag\n",
        "                K[idx, index(i+1, j+1)] = -k_diag\n",
        "                K[index(i+1, j+1), idx] = -k_diag\n",
        "\n",
        "            # Connect to bottom-left diagonal\n",
        "            if i < n - 1 and j > 0:\n",
        "                K[idx, idx] += k_diag\n",
        "                K[idx, index(i+1, j-1)] = -k_diag\n",
        "                K[index(i+1, j-1), idx] = -k_diag\n",
        "\n",
        "    return K\n",
        "\n",
        "# Define system size\n",
        "n = 3  # A 3x3 mass grid\n",
        "K = create_stiffness_matrix(n)\n",
        "\n",
        "# Compute eigenfrequencies\n",
        "eigenvalues, eigenvectors = scipy.linalg.eigh(K)\n",
        "eigenfrequencies = np.sqrt(np.abs(eigenvalues))  # Ensure positive frequencies\n",
        "\n",
        "# Plot eigenfrequencies\n",
        "plt.figure(figsize=(8, 5))\n",
        "plt.bar(range(len(eigenfrequencies)), eigenfrequencies)\n",
        "plt.xlabel(\"Mode Number\")\n",
        "plt.ylabel(\"Eigenfrequency\")\n",
        "plt.title(\"Eigenfrequencies of the 2D Mass-Spring System\")\n",
        "plt.show()\n",
        "\n",
        "print(\"Eigenfrequencies:\", eigenfrequencies)\n"
      ],
      "metadata": {
        "colab": {
          "base_uri": "https://localhost:8080/",
          "height": 523
        },
        "id": "m9YNYTgrFSvI",
        "outputId": "81662773-8118-447c-8a25-7ae005542916"
      },
      "execution_count": 36,
      "outputs": [
        {
          "output_type": "display_data",
          "data": {
            "text/plain": [
              "<Figure size 800x500 with 1 Axes>"
            ],
            "image/png": "[encoded data removed]"
          },
          "metadata": {}
        },
        {
          "output_type": "stream",
          "name": "stdout",
          "text": [
            "Eigenfrequencies: [1.45429268 0.31241231 0.38009829 1.21649879 1.47828799 1.62626653\n",
            " 1.8845918  1.93665008 2.11088764]\n"
          ]
        }
      ]
    },
    {
      "cell_type": "markdown",
      "source": [
        "##Final Code"
      ],
      "metadata": {
        "id": "MKKW9gs2IrMW"
      }
    },
    {
      "cell_type": "code",
      "source": [
        "import numpy as np\n",
        "import scipy.linalg\n",
        "import matplotlib.pyplot as plt\n",
        "\n",
        "def index(x, y, n):\n",
        "    \"\"\"Convert 2D indices to 1D index.\"\"\"\n",
        "    return x * n + y\n",
        "\n",
        "def create_stiffness_matrix(n, k_mean=1, k_var=0.5, boundary_type=\"mixed\"):\n",
        "    \"\"\"\n",
        "    Constructs a stiffness matrix for a 2D mass-spring system.\n",
        "\n",
        "    Parameters:\n",
        "    n -- number of masses per row/column (total n^2 masses)\n",
        "    k_mean -- mean stiffness for springs\n",
        "    k_var -- variance in stiffness for randomization\n",
        "    boundary_type -- \"fixed\", \"free\", \"mixed\"\n",
        "\n",
        "    Returns:\n",
        "    K -- (n^2 x n^2) stiffness matrix\n",
        "    \"\"\"\n",
        "    N = n**2  # Total masses\n",
        "    K = np.zeros((N, N))\n",
        "\n",
        "    # Random stiffness values\n",
        "    k_main = np.abs(np.random.normal(k_mean, k_var, (n, n)))\n",
        "    k_diag = np.abs(np.random.normal(k_mean / 2, k_var / 2, (n, n)))\n",
        "\n",
        "    for i in range(n):\n",
        "        for j in range(n):\n",
        "            idx = index(i, j, n)\n",
        "\n",
        "            # Right neighbor\n",
        "            if j < n - 1:\n",
        "                K[idx, idx] += k_main[i, j]\n",
        "                K[idx, index(i, j+1, n)] = -k_main[i, j]\n",
        "                K[index(i, j+1, n), idx] = -k_main[i, j]\n",
        "\n",
        "            # Bottom neighbor\n",
        "            if i < n - 1:\n",
        "                K[idx, idx] += k_main[i, j]\n",
        "                K[idx, index(i+1, j, n)] = -k_main[i, j]\n",
        "                K[index(i+1, j, n), idx] = -k_main[i, j]\n",
        "\n",
        "            # Bottom-right diagonal\n",
        "            if i < n - 1 and j < n - 1:\n",
        "                K[idx, idx] += k_diag[i, j]\n",
        "                K[idx, index(i+1, j+1, n)] = -k_diag[i, j]\n",
        "                K[index(i+1, j+1, n), idx] = -k_diag[i, j]\n",
        "\n",
        "            # Bottom-left diagonal\n",
        "            if i < n - 1 and j > 0:\n",
        "                K[idx, idx] += k_diag[i, j]\n",
        "                K[idx, index(i+1, j-1, n)] = -k_diag[i, j]\n",
        "                K[index(i+1, j-1, n), idx] = -k_diag[i, j]\n",
        "\n",
        "    # Apply boundary conditions\n",
        "    if boundary_type == \"fixed\":\n",
        "        for i in range(n):\n",
        "            for j in range(n):\n",
        "                if i == 0 or i == n-1 or j == 0 or j == n-1:\n",
        "                    idx = index(i, j, n)\n",
        "                    K[idx, :] = 0\n",
        "                    K[:, idx] = 0\n",
        "                    K[idx, idx] = 1\n",
        "\n",
        "    elif boundary_type == \"mixed\":\n",
        "        for i in range(n):\n",
        "            for j in range(n):\n",
        "                if i == 0:  # Fix top row\n",
        "                    idx = index(i, j, n)\n",
        "                    K[idx, :] = 0\n",
        "                    K[:, idx] = 0\n",
        "                    K[idx, idx] = 1\n",
        "                elif j == n-1:  # Free right edge\n",
        "                    idx = index(i, j, n)\n",
        "                    K[idx, idx] /= 2\n",
        "\n",
        "    return K\n",
        "\n",
        "def create_mass_matrix(n, m_mean=1, m_var=0.2):\n",
        "    \"\"\"\n",
        "    Constructs a diagonal mass matrix with non-uniform masses.\n",
        "    \"\"\"\n",
        "    N = n**2\n",
        "    m_values = np.abs(np.random.normal(m_mean, m_var, N))\n",
        "    return np.diag(m_values)\n",
        "\n",
        "def create_damping_matrix(M, K, alpha=0.01, beta=0.01):\n",
        "    \"\"\"\n",
        "    Constructs a damping matrix using Rayleigh damping.\n",
        "    \"\"\"\n",
        "    return alpha * M + beta * K\n",
        "\n",
        "def apply_external_forces(n, force_type=\"sinusoidal\", F0=1, omega=1):\n",
        "    \"\"\"\n",
        "    Generates an external force vector for the system.\n",
        "    \"\"\"\n",
        "    N = n**2\n",
        "    F = np.zeros(N)\n",
        "\n",
        "    if force_type == \"sinusoidal\":\n",
        "        for i in range(n):\n",
        "            F[index(i, 0, n)] = F0 * np.sin(omega * i)  # Apply force to the left column\n",
        "\n",
        "    elif force_type == \"impulse\":\n",
        "        F[N//2] = F0  # Impulse at center\n",
        "\n",
        "    elif force_type == \"random\":\n",
        "        F = np.random.normal(0, F0, N)\n",
        "\n",
        "    return F\n",
        "\n",
        "# Define system parameters\n",
        "n = 3  # 3x3 mass grid\n",
        "boundary_type = \"mixed\"  # \"fixed\", \"free\", or \"mixed\"\n",
        "force_type = \"sinusoidal\"  # \"sinusoidal\", \"impulse\", \"random\"\n",
        "alpha, beta = 0.02, 0.02  # Damping coefficients\n",
        "\n",
        "# Create matrices\n",
        "K = create_stiffness_matrix(n, boundary_type=boundary_type)\n",
        "M = create_mass_matrix(n)\n",
        "C = create_damping_matrix(M, K, alpha, beta)\n",
        "F = apply_external_forces(n, force_type=force_type)\n",
        "\n",
        "# Solve the damped eigenvalue problem\n",
        "evals, evecs = scipy.linalg.eig(K - 1j * C, M)\n",
        "\n",
        "# Compute damped eigenfrequencies\n",
        "eigenfrequencies = np.sqrt(np.abs(np.real(evals)))\n",
        "\n",
        "# Plot eigenfrequencies\n",
        "plt.figure(figsize=(8, 5))\n",
        "plt.bar(range(len(eigenfrequencies)), eigenfrequencies)\n",
        "plt.xlabel(\"Mode Number\")\n",
        "plt.ylabel(\"Damped Eigenfrequency\")\n",
        "plt.title(f\"Damped Eigenfrequencies (Boundary={boundary_type}, Force={force_type})\")\n",
        "plt.show()\n",
        "\n",
        "print(\"Eigenfrequencies with Damping:\", eigenfrequencies)\n"
      ],
      "metadata": {
        "colab": {
          "base_uri": "https://localhost:8080/",
          "height": 523
        },
        "id": "aymmO_AYIxwX",
        "outputId": "038291ce-7874-42d8-dd99-35bc045c8980"
      },
      "execution_count": 37,
      "outputs": [
        {
          "output_type": "display_data",
          "data": {
            "text/plain": [
              "<Figure size 800x500 with 1 Axes>"
            ],
            "image/png": "[encoded data removed]"
          },
          "metadata": {}
        },
        {
          "output_type": "stream",
          "name": "stdout",
          "text": [
            "Eigenfrequencies with Damping: [2.34954453 1.39735126 0.52653614 1.60788973 1.07940573 1.44665875\n",
            " 0.95635505 0.91295129 0.89829729]\n"
          ]
        }
      ]
    },
    {
      "cell_type": "markdown",
      "source": [
        "##Comments on AI Model and Iteration Steps"
      ],
      "metadata": {
        "id": "xdv8WuOGI3HY"
      }
    },
    {
      "cell_type": "markdown",
      "source": [
        "ChatGPT appears to have handled the physics very well, as it did not have any trouble when creating a new iteration. What started off appearing very similar to the system we/I created became a more and more complicated version following every iteration.\n",
        "\n",
        "Following the questions asked by ChatGPT about how I want the model to be more realistic, I had ChatGPT add on conditions for the system not being connected to walls, being connected to only one wall, adding external forces (like gravity), and a damping effect. It did appear that, at first, ChatGPT wanted to make a much more complicated model than was necessary. I believe if the prompt was more specific to our situation then the initial outcome would have been much more similar to what we/I created above.\n",
        "\n",
        "It took me six overall iterations to get to this final model. According to ChatGPT, this model could represent several things including Seismic Waves, Biological Systems (such as tissue and cellular networks), Suspension Bridges, Ocean Waves, and Tree Vibrations. I'm not entirely sure if the above system created by ChatGPT is anywhere near complex enough to model any of the last three, but I believe a simple representation of these systems would be possible with the created code."
      ],
      "metadata": {
        "id": "sgoh2bveI8aF"
      }
    }
  ]
}