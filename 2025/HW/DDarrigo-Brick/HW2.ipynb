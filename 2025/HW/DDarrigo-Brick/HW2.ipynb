{
  "cells": [
    {
      "cell_type": "markdown",
      "metadata": {
        "id": "view-in-github",
        "colab_type": "text"
      },
      "source": [
        "<a href=\"https://colab.research.google.com/github/ubsuny/PHY386/blob/Homework2025/HW2.ipynb\" target=\"_parent\"><img src=\"https://colab.research.google.com/assets/colab-badge.svg\" alt=\"Open In Colab\"/></a>"
      ]
    },
    {
      "cell_type": "code",
      "execution_count": null,
      "metadata": {
        "id": "5Rp8TYrRnLS0"
      },
      "outputs": [],
      "source": [
        "import numpy as np\n",
        "from sympy import *\n",
        "import scipy.linalg as la\n",
        "# Our system can be defined as the following diagram\n",
        "#   k₁       k₂       k₃       k₄\n",
        "# |---*---m₁---*---m₂---*---m₃---*---|\n",
        "# A Coupled Harmonic Oscillator"
      ]
    },
    {
      "cell_type": "code",
      "execution_count": null,
      "metadata": {
        "id": "j5HDb6QVnLS1",
        "outputId": "8c4ac7bf-2a83-42d0-87da-c42014faaf92"
      },
      "outputs": [
        {
          "ename": "ValueError",
          "evalue": "invalid literal for int() with base 10: ''",
          "output_type": "error",
          "traceback": [
            "\u001b[1;31m---------------------------------------------------------------------------\u001b[0m",
            "\u001b[1;31mValueError\u001b[0m                                Traceback (most recent call last)",
            "Cell \u001b[1;32mIn[1], line 4\u001b[0m\n\u001b[0;32m      1\u001b[0m \u001b[38;5;28;01mimport\u001b[39;00m \u001b[38;5;21;01mnumpy\u001b[39;00m \u001b[38;5;28;01mas\u001b[39;00m \u001b[38;5;21;01mnp\u001b[39;00m\n\u001b[0;32m      3\u001b[0m \u001b[38;5;66;03m# Get user input for the size of the matrix\u001b[39;00m\n\u001b[1;32m----> 4\u001b[0m n \u001b[38;5;241m=\u001b[39m \u001b[38;5;28mint\u001b[39m(\u001b[38;5;28minput\u001b[39m(\u001b[38;5;124m\"\u001b[39m\u001b[38;5;124mEnter the number of masses in the system: \u001b[39m\u001b[38;5;124m\"\u001b[39m))\n\u001b[0;32m      5\u001b[0m \u001b[38;5;66;03m# wall_attached = input(\"Are the springs attached to the wall (y/n): \")\u001b[39;00m\n\u001b[0;32m      7\u001b[0m \u001b[38;5;28;01mdef\u001b[39;00m \u001b[38;5;21mcreate_mass_matrix\u001b[39m(n):\n",
            "\u001b[1;31mValueError\u001b[0m: invalid literal for int() with base 10: ''"
          ]
        }
      ],
      "source": [
        "\n",
        "\n",
        "n = int(input(\"Enter the number of masses in the system: \"))\n",
        "# Get user input for the size of the matrix\n",
        "\n",
        "\n",
        "def create_mass_matrix(n):\n",
        "    if n == 0:\n",
        "        print(\"You have no masses, so you have no system.\\nYou Suck!\")\n",
        "        return None\n",
        "    else:\n",
        "        mass_list = []\n",
        "        for i in range(n):\n",
        "            mass_list.append(int(input(\"Enter the mass of mass {} in kg: \".format(i+1))))\n",
        "        mass_matrix = np.diag(mass_list)\n",
        "        \"\"\" Create the mass matrix for the system.\n",
        "\n",
        "        Keyword arguments:\n",
        "        n -- number of masses in the system, given by the user\n",
        "        mass_list -- list of masses\n",
        "\n",
        "        returns:\n",
        "        mass_matrix -- a diagonal n*n matrix with the masses as the diagonal elements\n",
        "        \"\"\"\n",
        "        return mass_matrix\n",
        "\n",
        "# Example usage\n",
        "mass_matrix = create_mass_matrix(n)\n",
        "if mass_matrix is not None:\n",
        "    print(mass_matrix)\n",
        "    \"\"\"This calls the function create_mass_matrix. It asks the user for the number of masses in the system and their values.\"\"\"\n",
        "\n",
        "\n",
        "def create_spring_matrix(n):\n",
        "\n",
        "    k_list=[]\n",
        "    for i in range(n-1):\n",
        "        k_list.append(float(input(\"Enter the spring constant of spring {} in N/m: \".format(i+1))))\n",
        "    Spring_matrix = np.diag(k_list)\n",
        "\n",
        "    \"\"\" Create the spring matrix for the system.\"\"\"\n",
        "    return Spring_matrix\n",
        "create_spring_matrix(n)\n",
        ""
      ]
    },
    {
      "cell_type": "code",
      "execution_count": null,
      "metadata": {
        "id": "F3edILLAnLS2"
      },
      "outputs": [],
      "source": []
    }
  ],
  "metadata": {
    "kernelspec": {
      "display_name": "base",
      "language": "python",
      "name": "python3"
    },
    "language_info": {
      "codemirror_mode": {
        "name": "ipython",
        "version": 3
      },
      "file_extension": ".py",
      "mimetype": "text/x-python",
      "name": "python",
      "nbconvert_exporter": "python",
      "pygments_lexer": "ipython3",
      "version": "3.11.4"
    },
    "colab": {
      "provenance": [],
      "include_colab_link": true
    }
  },
  "nbformat": 4,
  "nbformat_minor": 0
}
