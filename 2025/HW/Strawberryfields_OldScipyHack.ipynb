{
  "nbformat": 4,
  "nbformat_minor": 0,
  "metadata": {
    "colab": {
      "provenance": [],
      "authorship_tag": "ABX9TyPZxPYRRcR+BUGuIVkkR4Gv",
      "include_colab_link": true
    },
    "kernelspec": {
      "name": "py310",
      "display_name": "py310"
    }
  },
  "cells": [
    {
      "cell_type": "markdown",
      "metadata": {
        "id": "view-in-github",
        "colab_type": "text"
      },
      "source": [
        "<a href=\"https://colab.research.google.com/github/ubsuny/PHY386/blob/Homework2025/2025/HW/Strawberryfields_OldScipyHack.ipynb\" target=\"_parent\"><img src=\"https://colab.research.google.com/assets/colab-badge.svg\" alt=\"Open In Colab\"/></a>"
      ]
    },
    {
      "cell_type": "markdown",
      "source": [
        "# Strawberry fields neeeds old scipy version <=13\n",
        "Currently strawberry fields needs an old scipy version since simps got deprecated (https://github.com/XanaduAI/strawberryfields/issues/750)\n",
        "\n",
        "To downgrade the scipy version in gooogle colab an older python version has to be installed.\n",
        "\n",
        "The next cell does that."
      ],
      "metadata": {
        "id": "7uLD6BY1Ptd3"
      }
    },
    {
      "cell_type": "code",
      "source": [
        "!wget https://github.com/korakot/kora/releases/download/v0.10/py310.sh\n",
        "!bash ./py310.sh -b -f -p /usr/local\n",
        "!python -m ipykernel install --name \"py310\" --user"
      ],
      "metadata": {
        "id": "tkByVAU8Pddx"
      },
      "execution_count": null,
      "outputs": []
    },
    {
      "cell_type": "markdown",
      "source": [
        "After running succesfully the above cell click on **change runtime type** and select no python 310 in the dropdown list.\n",
        "\n",
        "The next cell should now tell you that you have python 3.10.6 installed."
      ],
      "metadata": {
        "id": "BIi8QS2RQQ7P"
      }
    },
    {
      "cell_type": "code",
      "source": [
        "import sys\n",
        "print(\"version:\", sys.version)"
      ],
      "metadata": {
        "id": "acUsxifdPjQy"
      },
      "execution_count": null,
      "outputs": []
    },
    {
      "cell_type": "markdown",
      "source": [
        "The next cells should install a working scipy package version:"
      ],
      "metadata": {
        "id": "A4yrIc_hQj0Y"
      }
    },
    {
      "cell_type": "code",
      "execution_count": null,
      "metadata": {
        "id": "i2xStKLBNZyg"
      },
      "outputs": [],
      "source": [
        "!pip install scipy==1.13\n",
        "!pip install numpy==1.24"
      ]
    },
    {
      "cell_type": "markdown",
      "source": [
        "Now install strawberry fields and import it withough eror"
      ],
      "metadata": {
        "id": "mlPMdrrCQu6p"
      }
    },
    {
      "cell_type": "code",
      "source": [
        "!pip install strawberryfields\n",
        "from strawberryfields.apps import points, plot"
      ],
      "metadata": {
        "id": "Ahk1q7f_Nc6H"
      },
      "execution_count": null,
      "outputs": []
    },
    {
      "cell_type": "code",
      "source": [],
      "metadata": {
        "id": "SjD4Nb7BQtcq"
      },
      "execution_count": null,
      "outputs": []
    }
  ]
}