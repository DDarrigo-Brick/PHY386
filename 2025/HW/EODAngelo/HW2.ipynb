{
  "nbformat": 4,
  "nbformat_minor": 0,
  "metadata": {
    "colab": {
      "provenance": [],
      "authorship_tag": "ABX9TyMB24evEotYN9TQgae/ZcWM",
      "include_colab_link": true
    },
    "kernelspec": {
      "name": "python3",
      "display_name": "Python 3"
    },
    "language_info": {
      "name": "python"
    }
  },
  "cells": [
    {
      "cell_type": "markdown",
      "metadata": {
        "id": "view-in-github",
        "colab_type": "text"
      },
      "source": [
        "<a href=\"https://colab.research.google.com/github/ubsuny/PHY386/blob/Homework2025/2025/HW/EODAngelo/HW2.ipynb\" target=\"_parent\"><img src=\"https://colab.research.google.com/assets/colab-badge.svg\" alt=\"Open In Colab\"/></a>"
      ]
    },
    {
      "cell_type": "markdown",
      "source": [
        "# Extend the existing code:"
      ],
      "metadata": {
        "id": "w5ZOQvG64IrW"
      }
    },
    {
      "cell_type": "code",
      "source": [
        "# import libraries\n",
        "import numpy as np\n",
        "import scipy.linalg as la"
      ],
      "metadata": {
        "id": "a9QpPfBQ003G"
      },
      "execution_count": 35,
      "outputs": []
    },
    {
      "cell_type": "code",
      "source": [
        "def setup_mass_matrix(m_list):\n",
        "    \"\"\"\n",
        "    This function creates the mass matrix using the inputted masses as the diagonal terms of the matrix. It can be used for any number of masses.\n",
        "\n",
        "    Args:\n",
        "    m_list -- list of masses\n",
        "\n",
        "    returns:\n",
        "    M -- mass matrix\n",
        "    \"\"\"\n",
        "    M = np.diag(m_list)\n",
        "    return M"
      ],
      "metadata": {
        "id": "PckCY_uL4CGP"
      },
      "execution_count": 36,
      "outputs": []
    },
    {
      "cell_type": "code",
      "source": [
        "M = setup_mass_matrix([1,1,1])\n",
        "M"
      ],
      "metadata": {
        "colab": {
          "base_uri": "https://localhost:8080/"
        },
        "id": "s_vb9ub27aKm",
        "outputId": "34b4db17-760e-40a5-abc1-7ea6b7b4bd11"
      },
      "execution_count": 86,
      "outputs": [
        {
          "output_type": "execute_result",
          "data": {
            "text/plain": [
              "array([[1, 0, 0],\n",
              "       [0, 1, 0],\n",
              "       [0, 0, 1]])"
            ]
          },
          "metadata": {},
          "execution_count": 86
        }
      ]
    },
    {
      "cell_type": "code",
      "source": [
        "def setup_stiffness_matrix(k_list, walls=True):\n",
        "\n",
        "    \"\"\"\n",
        "    This function creates the stiffness matrix using the provided spring constants list as the diagonal terms. It can be used for systems with or without walls.\n",
        "    If the system has walls, there will be one more spring constant than masses.\n",
        "    If the system has no walls, there will be one less spring constant than masses.\n",
        "\n",
        "    Args:\n",
        "    k_list -- list of spring constants\n",
        "    walls -- indicates if the system has walls\n",
        "\n",
        "    returns:\n",
        "    K -- stiffness matrix\n",
        "    \"\"\"\n",
        "\n",
        "\n",
        "    if walls:\n",
        "      K = np.zeros(((len(k_list)-1),(len(k_list)-1)))\n",
        "      for i in range(len(k_list)-1):\n",
        "          K[i,i] = k_list[i]+k_list[i+1]\n",
        "          if i < len(k_list)-2:\n",
        "            K[i,i+1] = -k_list[i+1]\n",
        "            K[i+1,i] = -k_list[i+1]\n",
        "\n",
        "    else:\n",
        "      K = np.zeros(((len(k_list)+1),(len(k_list)+1)))\n",
        "      for i in range(len(k_list)+1):\n",
        "            if i > 0:\n",
        "                K[i, i] += k_list[i-1]\n",
        "                K[i, i-1] = -k_list[i-1]\n",
        "            if i < (len(k_list)):\n",
        "                K[i, i] += k_list[i]\n",
        "                K[i, i+1] = -k_list[i]\n",
        "\n",
        "\n",
        "    return K"
      ],
      "metadata": {
        "id": "_hk_J84d7c3H"
      },
      "execution_count": 81,
      "outputs": []
    },
    {
      "cell_type": "code",
      "source": [
        "K = setup_stiffness_matrix([10,10],walls=False)\n",
        "K"
      ],
      "metadata": {
        "id": "RoE9yFX09dh3",
        "outputId": "29437e30-5857-4775-e047-54a341d4dadb",
        "colab": {
          "base_uri": "https://localhost:8080/"
        }
      },
      "execution_count": 87,
      "outputs": [
        {
          "output_type": "execute_result",
          "data": {
            "text/plain": [
              "array([[ 10., -10.,   0.],\n",
              "       [-10.,  20., -10.],\n",
              "       [  0., -10.,  10.]])"
            ]
          },
          "metadata": {},
          "execution_count": 87
        }
      ]
    },
    {
      "cell_type": "code",
      "source": [
        "def calculate_eigenfrequencies(K, M):\n",
        "    \"\"\"\n",
        "    Function to solve the spring mass system for a given stiffness matrix K and mass matrix M.\n",
        "\n",
        "    Args:\n",
        "    K -- stiffness matrix\n",
        "    M -- mass matrix\n",
        "\n",
        "    returns:\n",
        "    omega -- real eigenfrequencies of the system\n",
        "    \"\"\"\n",
        "    eigenvalues, eigenvectors = la.eigh(K, M)\n",
        "    omega = np.sqrt(eigenvalues)\n",
        "    return omega\n"
      ],
      "metadata": {
        "id": "_oj2ggjN9gj_"
      },
      "execution_count": 88,
      "outputs": []
    },
    {
      "cell_type": "code",
      "source": [
        "calculate_eigenfrequencies(K,M)"
      ],
      "metadata": {
        "colab": {
          "base_uri": "https://localhost:8080/"
        },
        "id": "OcLFBdJgn8BQ",
        "outputId": "3ea76e00-e957-4fe2-95b0-bfc340cb598b"
      },
      "execution_count": 89,
      "outputs": [
        {
          "output_type": "execute_result",
          "data": {
            "text/plain": [
              "array([3.32486783e-08, 3.16227766e+00, 5.47722558e+00])"
            ]
          },
          "metadata": {},
          "execution_count": 89
        }
      ]
    },
    {
      "cell_type": "code",
      "source": [
        "import numpy as np\n",
        "import matplotlib.pyplot as plt\n",
        "\n",
        "# Number of masses in a simple 1D chain\n",
        "N = 5\n",
        "\n",
        "# Mass and spring constants\n",
        "m = 1.0  # Mass of each oscillator\n",
        "k = 1.0  # Spring constant for nearest neighbor coupling\n",
        "\n",
        "# Construct the tridiagonal dynamical matrix efficiently\n",
        "off_diag = -k / m * np.ones(N-1)  # Off-diagonal elements\n",
        "diag = (2 * k / m) * np.ones(N)   # Main diagonal elements\n",
        "\n",
        "D = np.diag(diag) + np.diag(off_diag, k=1) + np.diag(off_diag, k=-1)\n",
        "\n",
        "# Compute eigenvalues and eigenvectors\n",
        "eigenvalues, eigenvectors = np.linalg.eigh(D)\n",
        "eigenfrequencies = np.sqrt(np.abs(eigenvalues))  # Take positive square root\n",
        "\n",
        "# Plot the eigenfrequencies\n",
        "plt.figure(figsize=(8, 4))\n",
        "plt.plot(range(1, N+1), eigenfrequencies, 'bo-', label='Eigenfrequencies')\n",
        "plt.xlabel('Mode number')\n",
        "plt.ylabel('Frequency')\n",
        "plt.title('Eigenfrequencies of a 1D Chain of Coupled Oscillators')\n",
        "plt.legend()\n",
        "plt.grid()\n",
        "plt.show()\n",
        "\n",
        "# Print results\n",
        "print(\"Eigenfrequencies:\", eigenfrequencies)"
      ],
      "metadata": {
        "colab": {
          "base_uri": "https://localhost:8080/",
          "height": 427
        },
        "id": "ThxkA6fl1a-m",
        "outputId": "498c69a5-8bde-4856-85b4-93abdd37a6b6"
      },
      "execution_count": null,
      "outputs": [
        {
          "output_type": "display_data",
          "data": {
            "text/plain": [
              "<Figure size 800x400 with 1 Axes>"
            ],
            "image/png": "[encoded data removed]"
          },
          "metadata": {}
        },
        {
          "output_type": "stream",
          "name": "stdout",
          "text": [
            "Eigenfrequencies: [0.51763809 1.         1.41421356 1.73205081 1.93185165]\n"
          ]
        }
      ]
    },
    {
      "cell_type": "markdown",
      "source": [
        "# AI Creativity:"
      ],
      "metadata": {
        "id": "GSf7e1HW4Bge"
      }
    },
    {
      "cell_type": "markdown",
      "source": [
        "I utilized ChatGPT for this prompt. I consisdered branching out to a different AI, but I honestly use ChatGPT most often and figured it was most prudent to become even more familiar with it.\n",
        "\n",
        "It took 4 iterations to arrive at the code I have posted. Originally it wanted to couple each mass not only to the one next to it, but to the next one over as well. I explained that this was not very realistic, as the adjacent mass and spring would be obstructing the link to the \"next nearest mass\".\n",
        "\n",
        "Next it wanted to include some diagonal linking between masses. I thought this was a cool idea, but I am not familiar enough with the physics behind this arrangment to confidently say it was realistic.\n",
        "\n",
        "So I then asked it to simplify things and it then produced code very similar to what I have for part one, which wasn't ideal. So finally I asked the AI to come up with a more creative way of writing the code and it did so using matrix operations. While this isnt the most impressive, it is something I can confidently say is realistic and is different than part 1.\n",
        "The model the AI produced can be found in mayn places in nature but my personal favorite is vibrations in the crystalline lattice stuctures of solids, known as phonons."
      ],
      "metadata": {
        "id": "66nK6Xu71jUO"
      }
    },
    {
      "cell_type": "code",
      "source": [],
      "metadata": {
        "id": "4o5GLSY64AYv"
      },
      "execution_count": null,
      "outputs": []
    }
  ]
}