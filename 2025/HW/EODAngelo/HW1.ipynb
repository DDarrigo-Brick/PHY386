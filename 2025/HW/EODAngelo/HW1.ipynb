{
  "nbformat": 4,
  "nbformat_minor": 0,
  "metadata": {
    "colab": {
      "provenance": [],
      "authorship_tag": "ABX9TyMInP6HIUbjCXojQQ6RtF1N",
      "include_colab_link": true
    },
    "kernelspec": {
      "name": "python3",
      "display_name": "Python 3"
    },
    "language_info": {
      "name": "python"
    }
  },
  "cells": [
    {
      "cell_type": "markdown",
      "metadata": {
        "id": "view-in-github",
        "colab_type": "text"
      },
      "source": [
        "<a href=\"https://colab.research.google.com/github/ubsuny/PHY386/blob/Homework2025/2025/HW/EODAngelo/HW1.ipynb\" target=\"_parent\"><img src=\"https://colab.research.google.com/assets/colab-badge.svg\" alt=\"Open In Colab\"/></a>"
      ]
    },
    {
      "cell_type": "code",
      "execution_count": null,
      "metadata": {
        "id": "x-eE2nNLoR0J"
      },
      "outputs": [],
      "source": []
    },
    {
      "cell_type": "markdown",
      "source": [
        "# Homework 1\n",
        "\n",
        "\n"
      ],
      "metadata": {
        "id": "Re83ymsOo_kp"
      }
    },
    {
      "cell_type": "code",
      "source": [],
      "metadata": {
        "id": "dO6ihF7PpbFP"
      },
      "execution_count": null,
      "outputs": []
    },
    {
      "cell_type": "markdown",
      "source": [
        "## Basic Formatting\n",
        "\n",
        "- Item 1\n",
        "  - subitem 1\n",
        "  - subitem 2\n",
        "- Item 2\n",
        "\n",
        "1. Numbered item\n",
        "  1. sub *numbered* item\n",
        "  2. sub **item** 2\n",
        "3. Next item\n",
        "  - subitem 1\n",
        "100000. Next item\n",
        "\n",
        "\n",
        "\n",
        "```\n",
        "# This is formatted as code\n",
        "```\n",
        "\n",
        "```python\n",
        "print(\"Hello World!\")\n",
        "```\n",
        "\n",
        "```text\n",
        "# example\n",
        "```\n",
        "\n",
        "```matlab\n",
        "x = [1,2:1,2]\n",
        "```\n",
        "\n",
        "```latex\n",
        "\\int_0^{\\infty} x^2 \\,dx\n",
        "```\n",
        "\n",
        "This is inline $\\LaTeX$ code $\\int_0^{\\infty} x^2 \\,dx$\n",
        "\n",
        "$$\n",
        "\\int_0^{\\infty} x^2 \\,dx\n",
        "$$\n",
        "\n",
        "[link to github](https://github.com)\n",
        "\n",
        "\n",
        "![Nobel foundation, Public domain, via Wikimedia Commons](https://upload.wikimedia.org/wikipedia/commons/2/2e/Erwin_Schr%C3%B6dinger_%281933%29.jpg)\n",
        "\n"
      ],
      "metadata": {
        "id": "pNTR1rMfpcNA"
      }
    },
    {
      "cell_type": "code",
      "source": [
        "print(1)"
      ],
      "metadata": {
        "id": "nZKubsE1vGqL",
        "colab": {
          "base_uri": "https://localhost:8080/"
        },
        "outputId": "3a917668-781f-43fb-b00c-75061bb80354"
      },
      "execution_count": null,
      "outputs": [
        {
          "output_type": "stream",
          "name": "stdout",
          "text": [
            "1\n"
          ]
        }
      ]
    },
    {
      "cell_type": "code",
      "source": [
        "print(1/3)"
      ],
      "metadata": {
        "colab": {
          "base_uri": "https://localhost:8080/"
        },
        "id": "MQRc8ny0xWOh",
        "outputId": "3f3b9faf-02bf-465e-a4f9-37840cd9c7e9"
      },
      "execution_count": null,
      "outputs": [
        {
          "output_type": "stream",
          "name": "stdout",
          "text": [
            "0.3333333333333333\n"
          ]
        }
      ]
    },
    {
      "cell_type": "code",
      "source": [
        "print(\"{}\".format(1))"
      ],
      "metadata": {
        "colab": {
          "base_uri": "https://localhost:8080/"
        },
        "id": "3-Byb1F3xX3W",
        "outputId": "34596191-5278-4e21-fb1a-c974518d8064"
      },
      "execution_count": null,
      "outputs": [
        {
          "output_type": "stream",
          "name": "stdout",
          "text": [
            "1\n"
          ]
        }
      ]
    },
    {
      "cell_type": "code",
      "source": [
        "print(\"{}\".format(1/3))"
      ],
      "metadata": {
        "colab": {
          "base_uri": "https://localhost:8080/"
        },
        "id": "Hjs9k5Ajxs1R",
        "outputId": "9c152187-3016-4e7e-9433-ccefdf45f06f"
      },
      "execution_count": null,
      "outputs": [
        {
          "output_type": "stream",
          "name": "stdout",
          "text": [
            "0.3333333333333333\n"
          ]
        }
      ]
    },
    {
      "cell_type": "code",
      "source": [
        "print(\"{:.2f}\".format(1/3))"
      ],
      "metadata": {
        "colab": {
          "base_uri": "https://localhost:8080/"
        },
        "id": "QtBr7ZkExv73",
        "outputId": "91282a5c-d124-4e94-df41-4540a3bb20d5"
      },
      "execution_count": null,
      "outputs": [
        {
          "output_type": "stream",
          "name": "stdout",
          "text": [
            "0.33\n"
          ]
        }
      ]
    },
    {
      "cell_type": "code",
      "source": [
        "print(\"{:.2f}\".format(3))"
      ],
      "metadata": {
        "colab": {
          "base_uri": "https://localhost:8080/"
        },
        "id": "7widT1qEx0pY",
        "outputId": "fefe8aac-8fec-42e3-f1a0-59a8c83a65e6"
      },
      "execution_count": null,
      "outputs": [
        {
          "output_type": "stream",
          "name": "stdout",
          "text": [
            "3.00\n"
          ]
        }
      ]
    },
    {
      "cell_type": "code",
      "source": [
        "print(\"{:.0f}\".format(11/3))"
      ],
      "metadata": {
        "colab": {
          "base_uri": "https://localhost:8080/"
        },
        "id": "IZK2V-0Sx83B",
        "outputId": "fa0084bf-61b5-4b82-846b-1ceaac1f509d"
      },
      "execution_count": null,
      "outputs": [
        {
          "output_type": "stream",
          "name": "stdout",
          "text": [
            "4\n"
          ]
        }
      ]
    },
    {
      "cell_type": "code",
      "source": [
        "print(\"{:03d}\".format(3))"
      ],
      "metadata": {
        "colab": {
          "base_uri": "https://localhost:8080/"
        },
        "id": "2L-yB5ebyCir",
        "outputId": "8e8bf8a7-cfa2-434c-aad4-a180a5bccdb5"
      },
      "execution_count": null,
      "outputs": [
        {
          "output_type": "stream",
          "name": "stdout",
          "text": [
            "003\n"
          ]
        }
      ]
    },
    {
      "cell_type": "code",
      "source": [
        "print(\"{:08.2f}\".format(1/3))"
      ],
      "metadata": {
        "colab": {
          "base_uri": "https://localhost:8080/"
        },
        "id": "7yglrxcJyV-n",
        "outputId": "bfabe70d-288e-41fb-eb00-1fcd2b56b240"
      },
      "execution_count": null,
      "outputs": [
        {
          "output_type": "stream",
          "name": "stdout",
          "text": [
            "00000.33\n"
          ]
        }
      ]
    },
    {
      "cell_type": "markdown",
      "source": [
        "Includes the decimal point"
      ],
      "metadata": {
        "id": "fN9r_cp3ztCy"
      }
    },
    {
      "cell_type": "markdown",
      "source": [
        "# Dictionaries"
      ],
      "metadata": {
        "id": "IxzuuLUZzzg2"
      }
    },
    {
      "cell_type": "code",
      "source": [
        "PHYSICAL_CONSTANTS = {\n",
        "    \"SPEED_OF_LIGHT\":\n",
        "}"
      ],
      "metadata": {
        "id": "8uOzqyZfyncR"
      },
      "execution_count": null,
      "outputs": []
    }
  ]
}