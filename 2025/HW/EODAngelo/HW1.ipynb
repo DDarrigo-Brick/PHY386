{
  "nbformat": 4,
  "nbformat_minor": 0,
  "metadata": {
    "colab": {
      "provenance": [],
      "authorship_tag": "ABX9TyMayza2947ikgXzs9MyFZGT",
      "include_colab_link": true
    },
    "kernelspec": {
      "name": "python3",
      "display_name": "Python 3"
    },
    "language_info": {
      "name": "python"
    }
  },
  "cells": [
    {
      "cell_type": "markdown",
      "metadata": {
        "id": "view-in-github",
        "colab_type": "text"
      },
      "source": [
        "<a href=\"https://colab.research.google.com/github/ubsuny/PHY386/blob/Homework2025/2025/HW/EODAngelo/HW1.ipynb\" target=\"_parent\"><img src=\"https://colab.research.google.com/assets/colab-badge.svg\" alt=\"Open In Colab\"/></a>"
      ]
    },
    {
      "cell_type": "markdown",
      "source": [
        "## Basic Formatting Examples"
      ],
      "metadata": {
        "id": "rIgMXCUoKGcO"
      }
    },
    {
      "cell_type": "markdown",
      "source": [
        "\n",
        "I would like to learn:\n",
        "1. How to properly create a for loop in Python\n",
        "2. The lesser known features of Google Colab\n",
        "3. Why I haven't been using Colab all this time...\n",
        "4. More about Latex and its formatting\n",
        "5. How to model some physics problems with python\n",
        "\n"
      ],
      "metadata": {
        "id": "Tktj6O2TKWmu"
      }
    },
    {
      "cell_type": "markdown",
      "source": [
        "### How to Include External Media"
      ],
      "metadata": {
        "id": "dZGtt3k2KMJW"
      }
    },
    {
      "cell_type": "markdown",
      "source": [
        "![Nobel foundation, Public domain, via Wikimedia Commons](https://upload.wikimedia.org/wikipedia/commons/c/c8/Marie_Curie_c._1920s.jpg)"
      ],
      "metadata": {
        "id": "HadVVNyxLlvV"
      }
    },
    {
      "cell_type": "markdown",
      "source": [
        "Photo of Marie Curie. Source: https://commons.wikimedia.org/wiki/File:Marie_Curie_c._1920s.jpg#/media/File:Marie_Curie_c._1920s.jpg"
      ],
      "metadata": {
        "id": "b2Bl78M-m99H"
      }
    },
    {
      "cell_type": "markdown",
      "source": [
        "***Marie Curie*** is the scientist I chose as my favorite because I believe she is the first scientist I ever learned about, she is very inspirational, and because I am very interested in radiation."
      ],
      "metadata": {
        "id": "rMRE5EsqMyKU"
      }
    },
    {
      "cell_type": "markdown",
      "source": [
        "$$\n",
        "A = A_0 e^{-\\lambda t}\n",
        "$$"
      ],
      "metadata": {
        "id": "1oC2_gfMNQNF"
      }
    },
    {
      "cell_type": "markdown",
      "source": [
        "🧑"
      ],
      "metadata": {
        "id": "K3G5vAI8O6Tc"
      }
    },
    {
      "cell_type": "markdown",
      "source": [
        "Computational methods, a brilliant quest,\n",
        "\n",
        "Solving physics problems, putting skills to the test.\n",
        "\n",
        "With code and logic, we uncover the key,\n",
        "\n",
        "Making complex systems as easy as can be!"
      ],
      "metadata": {
        "id": "Tz-AND61OyVs"
      }
    },
    {
      "cell_type": "markdown",
      "source": [
        "## Coding Exercises"
      ],
      "metadata": {
        "id": "qgCRNWY9KQs1"
      }
    },
    {
      "cell_type": "code",
      "source": [
        "print (\"Hello Class!\")"
      ],
      "metadata": {
        "colab": {
          "base_uri": "https://localhost:8080/"
        },
        "id": "DN5ziWZVKJle",
        "outputId": "dca0ab1d-96f8-46c2-9826-391acf7f1d6b"
      },
      "execution_count": 24,
      "outputs": [
        {
          "output_type": "stream",
          "name": "stdout",
          "text": [
            "Hello Class!\n"
          ]
        }
      ]
    },
    {
      "cell_type": "code",
      "source": [
        "print(\"{:010.3f}\".format(2025))"
      ],
      "metadata": {
        "colab": {
          "base_uri": "https://localhost:8080/"
        },
        "id": "pkIrvmSVPIUm",
        "outputId": "b10c094f-4aee-46e6-9837-2d4951984db0"
      },
      "execution_count": 25,
      "outputs": [
        {
          "output_type": "stream",
          "name": "stdout",
          "text": [
            "002025.000\n"
          ]
        }
      ]
    },
    {
      "cell_type": "code",
      "source": [
        "x = \"string\""
      ],
      "metadata": {
        "id": "IY8xDt1-P8TU"
      },
      "execution_count": 26,
      "outputs": []
    },
    {
      "cell_type": "code",
      "source": [
        "y = 101"
      ],
      "metadata": {
        "id": "-bZEmg4SQIhU"
      },
      "execution_count": 27,
      "outputs": []
    },
    {
      "cell_type": "code",
      "source": [
        "z = 101.25"
      ],
      "metadata": {
        "id": "O1cu9TVFQLqs"
      },
      "execution_count": 28,
      "outputs": []
    },
    {
      "cell_type": "code",
      "source": [
        "print(x, y, z)"
      ],
      "metadata": {
        "colab": {
          "base_uri": "https://localhost:8080/"
        },
        "id": "YGwLfL-SQQlE",
        "outputId": "1588e13d-f3a4-40bc-e12c-5e52d6b98e6e"
      },
      "execution_count": 29,
      "outputs": [
        {
          "output_type": "stream",
          "name": "stdout",
          "text": [
            "string 101 101.25\n"
          ]
        }
      ]
    },
    {
      "cell_type": "code",
      "source": [
        "2 + 2"
      ],
      "metadata": {
        "colab": {
          "base_uri": "https://localhost:8080/"
        },
        "id": "vvVAGUB0QTpV",
        "outputId": "1bc4aea2-6fa3-487e-8df7-374f14735294"
      },
      "execution_count": 30,
      "outputs": [
        {
          "output_type": "execute_result",
          "data": {
            "text/plain": [
              "4"
            ]
          },
          "metadata": {},
          "execution_count": 30
        }
      ]
    },
    {
      "cell_type": "code",
      "source": [
        "14 - 6"
      ],
      "metadata": {
        "colab": {
          "base_uri": "https://localhost:8080/"
        },
        "id": "htRUOlUwQmck",
        "outputId": "f04dc8c0-2403-4448-d060-0d197f2838ab"
      },
      "execution_count": 31,
      "outputs": [
        {
          "output_type": "execute_result",
          "data": {
            "text/plain": [
              "8"
            ]
          },
          "metadata": {},
          "execution_count": 31
        }
      ]
    },
    {
      "cell_type": "code",
      "source": [
        "2 * 2"
      ],
      "metadata": {
        "colab": {
          "base_uri": "https://localhost:8080/"
        },
        "id": "sXxHiY8lQoJs",
        "outputId": "00a91adb-472b-4729-be05-52d36c03f34c"
      },
      "execution_count": 32,
      "outputs": [
        {
          "output_type": "execute_result",
          "data": {
            "text/plain": [
              "4"
            ]
          },
          "metadata": {},
          "execution_count": 32
        }
      ]
    },
    {
      "cell_type": "code",
      "source": [
        "18/6"
      ],
      "metadata": {
        "colab": {
          "base_uri": "https://localhost:8080/"
        },
        "id": "N-OrWhqMQqWM",
        "outputId": "e1192181-8fa2-4c36-c19c-85537744f4f3"
      },
      "execution_count": 33,
      "outputs": [
        {
          "output_type": "execute_result",
          "data": {
            "text/plain": [
              "3.0"
            ]
          },
          "metadata": {},
          "execution_count": 33
        }
      ]
    },
    {
      "cell_type": "code",
      "source": [
        "7 % 3"
      ],
      "metadata": {
        "colab": {
          "base_uri": "https://localhost:8080/"
        },
        "id": "gRQpVB9MQs7j",
        "outputId": "73e6b1f9-947d-4b10-9089-cc3af430bb85"
      },
      "execution_count": 34,
      "outputs": [
        {
          "output_type": "execute_result",
          "data": {
            "text/plain": [
              "1"
            ]
          },
          "metadata": {},
          "execution_count": 34
        }
      ]
    },
    {
      "cell_type": "code",
      "source": [
        "try:\n",
        "  number = int(input(\"Enter a number: \"))\n",
        "\n",
        "  # Check if the number is zero\n",
        "  if number == 0:\n",
        "    print(\"Try a non-zero value.\")\n",
        "  # Check if the number is even\n",
        "  elif number % 2 == 0:\n",
        "    print(f\"The number {number} is even.\")\n",
        "  # Otherwise, the number is odd\n",
        "  else:\n",
        "    print(f\"The number {number} is odd.\")\n",
        "\n",
        "except ValueError:\n",
        "  print(\"Invalid input. Please enter an integer.\")"
      ],
      "metadata": {
        "colab": {
          "base_uri": "https://localhost:8080/"
        },
        "id": "dhEkFg3roQyX",
        "outputId": "c4fafc30-1b39-447c-fae3-1e88d9030bc2"
      },
      "execution_count": 35,
      "outputs": [
        {
          "output_type": "stream",
          "name": "stdout",
          "text": [
            "Enter a number: 22\n",
            "The number 22 is even.\n"
          ]
        }
      ]
    },
    {
      "cell_type": "code",
      "source": [
        "for i in range(0, 20, 2):\n",
        "  if i%2 == 0:\n",
        "    print(i)\n"
      ],
      "metadata": {
        "colab": {
          "base_uri": "https://localhost:8080/"
        },
        "id": "zq2QsWleomUO",
        "outputId": "12f65b22-de95-406e-dfd5-129923d2243d"
      },
      "execution_count": 36,
      "outputs": [
        {
          "output_type": "stream",
          "name": "stdout",
          "text": [
            "0\n",
            "2\n",
            "4\n",
            "6\n",
            "8\n",
            "10\n",
            "12\n",
            "14\n",
            "16\n",
            "18\n"
          ]
        }
      ]
    },
    {
      "cell_type": "code",
      "source": [
        "def add(r,s):\n",
        "  return r + s\n",
        "def mult(r,s):\n",
        "  return r * s\n",
        "\n",
        "m = 2\n",
        "b = 3\n",
        "x = 6"
      ],
      "metadata": {
        "id": "caAUIsekpeBX"
      },
      "execution_count": 37,
      "outputs": []
    },
    {
      "cell_type": "code",
      "source": [
        "y = add(mult(m,x),b)\n",
        "y"
      ],
      "metadata": {
        "colab": {
          "base_uri": "https://localhost:8080/"
        },
        "id": "Qb2GvhRyp3_P",
        "outputId": "2cf031f8-1f7d-43f7-9c25-c872b6b13ce5"
      },
      "execution_count": 38,
      "outputs": [
        {
          "output_type": "execute_result",
          "data": {
            "text/plain": [
              "15"
            ]
          },
          "metadata": {},
          "execution_count": 38
        }
      ]
    },
    {
      "cell_type": "code",
      "source": [
        "numbers = [10, 20, 30, 40, 50]\n",
        "\n",
        "average = sum(numbers) / len(numbers)\n",
        "\n",
        "print(average)"
      ],
      "metadata": {
        "id": "LWdepr8BuLlm",
        "colab": {
          "base_uri": "https://localhost:8080/"
        },
        "outputId": "002db932-0257-4843-bf28-3c24210a99f4"
      },
      "execution_count": 39,
      "outputs": [
        {
          "output_type": "stream",
          "name": "stdout",
          "text": [
            "30.0\n"
          ]
        }
      ]
    },
    {
      "cell_type": "code",
      "source": [
        "FRUITS = {\n",
        "    \"Round\":\n",
        "        \"watermelon, \"\n",
        "        \"orange, \"\n",
        "        \"lemon\",\n",
        "    \"Oblong\":\n",
        "        \"banana, \"\n",
        "        \"plantain, \"\n",
        "        \"strawberry\"\n",
        "    }\n"
      ],
      "metadata": {
        "id": "5LOn6PwowXY2"
      },
      "execution_count": 13,
      "outputs": []
    },
    {
      "cell_type": "code",
      "source": [
        "print(\"Some round fruits include:\", FRUITS[\"Round\"])"
      ],
      "metadata": {
        "colab": {
          "base_uri": "https://localhost:8080/"
        },
        "id": "lMtOGNotxuO-",
        "outputId": "bd8a49b7-640a-4a0e-c3d5-d747dd87eb53"
      },
      "execution_count": 17,
      "outputs": [
        {
          "output_type": "stream",
          "name": "stdout",
          "text": [
            "Some round fruits include: watermelon, orange, lemon\n"
          ]
        }
      ]
    },
    {
      "cell_type": "code",
      "source": [
        "print(\"Some oblong fruits include:\", FRUITS[\"Oblong\"])"
      ],
      "metadata": {
        "colab": {
          "base_uri": "https://localhost:8080/"
        },
        "id": "A1-hW2vO2CJe",
        "outputId": "1300a8d4-84d1-43b1-d4f8-8566e842fac0"
      },
      "execution_count": 40,
      "outputs": [
        {
          "output_type": "stream",
          "name": "stdout",
          "text": [
            "Some oblong fruits include: banana, plantain, strawberry\n"
          ]
        }
      ]
    },
    {
      "cell_type": "code",
      "source": [
        "user_input = input(\"What would you like to write to the file? \")\n",
        "\n",
        "with open(\"my_file.txt\", \"w\") as file:\n",
        "  file.write(user_input)\n",
        "\n",
        "with open(\"my_file.txt\", \"r\") as file:\n",
        "  content = file.read()\n",
        "  print(\"\\nYou wrote:\\n\", content)"
      ],
      "metadata": {
        "colab": {
          "base_uri": "https://localhost:8080/"
        },
        "id": "vS7FcSJ2z6MG",
        "outputId": "14db51b2-c03b-483f-8e6d-34278241915f"
      },
      "execution_count": 41,
      "outputs": [
        {
          "output_type": "stream",
          "name": "stdout",
          "text": [
            "What would you like to write to the file? Homework numero uno\n",
            "\n",
            "You wrote:\n",
            " Homework numero uno\n"
          ]
        }
      ]
    }
  ]
}