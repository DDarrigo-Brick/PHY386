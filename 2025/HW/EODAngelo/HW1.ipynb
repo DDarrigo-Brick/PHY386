{
  "nbformat": 4,
  "nbformat_minor": 0,
  "metadata": {
    "colab": {
      "provenance": [],
      "authorship_tag": "ABX9TyMt/uLWIir85ZCDsIX6AOeN",
      "include_colab_link": true
    },
    "kernelspec": {
      "name": "python3",
      "display_name": "Python 3"
    },
    "language_info": {
      "name": "python"
    }
  },
  "cells": [
    {
      "cell_type": "markdown",
      "metadata": {
        "id": "view-in-github",
        "colab_type": "text"
      },
      "source": [
        "<a href=\"https://colab.research.google.com/github/ubsuny/PHY386/blob/Homework2025/2025/HW/EODAngelo/HW1.ipynb\" target=\"_parent\"><img src=\"https://colab.research.google.com/assets/colab-badge.svg\" alt=\"Open In Colab\"/></a>"
      ]
    },
    {
      "cell_type": "markdown",
      "source": [
        "## Basic Formatting Examples"
      ],
      "metadata": {
        "id": "rIgMXCUoKGcO"
      }
    },
    {
      "cell_type": "markdown",
      "source": [
        "\n",
        "I would like to learn:\n",
        "1. How to properly create a for loop in Python\n",
        "2. The features of Google Colab\n",
        "3. Why I haven't been using Colab all this time\n",
        "4. How to properly pronounce the professor's last name\n",
        "5. How to model some physics problems with python\n",
        "\n"
      ],
      "metadata": {
        "id": "Tktj6O2TKWmu"
      }
    },
    {
      "cell_type": "markdown",
      "source": [
        "### How to Include External Media"
      ],
      "metadata": {
        "id": "dZGtt3k2KMJW"
      }
    },
    {
      "cell_type": "markdown",
      "source": [
        "![Nobel foundation, Public domain, via Wikimedia Commons](https://upload.wikimedia.org/wikipedia/commons/c/c8/Marie_Curie_c._1920s.jpg)"
      ],
      "metadata": {
        "id": "HadVVNyxLlvV"
      }
    },
    {
      "cell_type": "markdown",
      "source": [
        "***Marie Curie*** is the scientist I chose as my favorite because I believe she is the first scientist I ever learned about, because she is very inspirational, and because I am very interested in radiation."
      ],
      "metadata": {
        "id": "rMRE5EsqMyKU"
      }
    },
    {
      "cell_type": "markdown",
      "source": [
        "$$\n",
        "A = A_0 e^{-\\lambda t}\n",
        "$$"
      ],
      "metadata": {
        "id": "1oC2_gfMNQNF"
      }
    },
    {
      "cell_type": "markdown",
      "source": [
        "🧑"
      ],
      "metadata": {
        "id": "K3G5vAI8O6Tc"
      }
    },
    {
      "cell_type": "markdown",
      "source": [
        "Computational methods, a brilliant quest,\n",
        "\n",
        "Solving physics problems, putting skills to the test.\n",
        "\n",
        "With code and logic, we uncover the key,\n",
        "\n",
        "Making complex systems as easy as can be!"
      ],
      "metadata": {
        "id": "Tz-AND61OyVs"
      }
    },
    {
      "cell_type": "markdown",
      "source": [
        "## Coding Exercises"
      ],
      "metadata": {
        "id": "qgCRNWY9KQs1"
      }
    },
    {
      "cell_type": "code",
      "source": [
        "print (\"Hello Class!\")"
      ],
      "metadata": {
        "colab": {
          "base_uri": "https://localhost:8080/"
        },
        "id": "DN5ziWZVKJle",
        "outputId": "55184951-1456-4b77-e37c-94fe07b05168"
      },
      "execution_count": 2,
      "outputs": [
        {
          "output_type": "stream",
          "name": "stdout",
          "text": [
            "Hello Class!\n"
          ]
        }
      ]
    },
    {
      "cell_type": "code",
      "source": [
        "print(\"{:010.3f}\".format(2025))"
      ],
      "metadata": {
        "colab": {
          "base_uri": "https://localhost:8080/"
        },
        "id": "pkIrvmSVPIUm",
        "outputId": "128b2db7-5f72-4eda-a8a0-d1fae8779215"
      },
      "execution_count": 8,
      "outputs": [
        {
          "output_type": "stream",
          "name": "stdout",
          "text": [
            "002025.000\n"
          ]
        }
      ]
    },
    {
      "cell_type": "code",
      "source": [
        "x = \"string\""
      ],
      "metadata": {
        "id": "IY8xDt1-P8TU"
      },
      "execution_count": 9,
      "outputs": []
    },
    {
      "cell_type": "code",
      "source": [
        "y = 101"
      ],
      "metadata": {
        "id": "-bZEmg4SQIhU"
      },
      "execution_count": 13,
      "outputs": []
    },
    {
      "cell_type": "code",
      "source": [
        "z = 101.25"
      ],
      "metadata": {
        "id": "O1cu9TVFQLqs"
      },
      "execution_count": 14,
      "outputs": []
    },
    {
      "cell_type": "code",
      "source": [
        "print(x, y, z)"
      ],
      "metadata": {
        "colab": {
          "base_uri": "https://localhost:8080/"
        },
        "id": "YGwLfL-SQQlE",
        "outputId": "be0f0402-4446-498e-c38d-15bfcd14a4d5"
      },
      "execution_count": 15,
      "outputs": [
        {
          "output_type": "stream",
          "name": "stdout",
          "text": [
            "string 101 101.25\n"
          ]
        }
      ]
    },
    {
      "cell_type": "code",
      "source": [
        "2 + 2"
      ],
      "metadata": {
        "colab": {
          "base_uri": "https://localhost:8080/"
        },
        "id": "vvVAGUB0QTpV",
        "outputId": "81309e17-39d3-433b-b99f-d4678bf7545a"
      },
      "execution_count": 16,
      "outputs": [
        {
          "output_type": "execute_result",
          "data": {
            "text/plain": [
              "4"
            ]
          },
          "metadata": {},
          "execution_count": 16
        }
      ]
    },
    {
      "cell_type": "code",
      "source": [
        "14 - 6"
      ],
      "metadata": {
        "colab": {
          "base_uri": "https://localhost:8080/"
        },
        "id": "htRUOlUwQmck",
        "outputId": "3a0a07bd-d92e-43a8-c7b8-cb5edd94b0ac"
      },
      "execution_count": 17,
      "outputs": [
        {
          "output_type": "execute_result",
          "data": {
            "text/plain": [
              "8"
            ]
          },
          "metadata": {},
          "execution_count": 17
        }
      ]
    },
    {
      "cell_type": "code",
      "source": [
        "2 * 2"
      ],
      "metadata": {
        "colab": {
          "base_uri": "https://localhost:8080/"
        },
        "id": "sXxHiY8lQoJs",
        "outputId": "a3099f3f-0e86-45a9-ab91-09bc082ad7c4"
      },
      "execution_count": 18,
      "outputs": [
        {
          "output_type": "execute_result",
          "data": {
            "text/plain": [
              "4"
            ]
          },
          "metadata": {},
          "execution_count": 18
        }
      ]
    },
    {
      "cell_type": "code",
      "source": [
        "18/6"
      ],
      "metadata": {
        "colab": {
          "base_uri": "https://localhost:8080/"
        },
        "id": "N-OrWhqMQqWM",
        "outputId": "995cff14-ad7d-4b7d-97c0-99c4bfdd826e"
      },
      "execution_count": 19,
      "outputs": [
        {
          "output_type": "execute_result",
          "data": {
            "text/plain": [
              "3.0"
            ]
          },
          "metadata": {},
          "execution_count": 19
        }
      ]
    },
    {
      "cell_type": "code",
      "source": [
        "7 % 3"
      ],
      "metadata": {
        "colab": {
          "base_uri": "https://localhost:8080/"
        },
        "id": "gRQpVB9MQs7j",
        "outputId": "7b1922b6-8a86-4b61-f4b9-3c42f40ce204"
      },
      "execution_count": 20,
      "outputs": [
        {
          "output_type": "execute_result",
          "data": {
            "text/plain": [
              "1"
            ]
          },
          "metadata": {},
          "execution_count": 20
        }
      ]
    },
    {
      "cell_type": "code",
      "source": [],
      "metadata": {
        "id": "jLxGdwpKQ2VU"
      },
      "execution_count": null,
      "outputs": []
    }
  ]
}