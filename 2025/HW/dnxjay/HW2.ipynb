{
  "nbformat": 4,
  "nbformat_minor": 0,
  "metadata": {
    "colab": {
      "provenance": [],
      "toc_visible": true,
      "authorship_tag": "ABX9TyNij5Nd5gPvF06BjMWljp2I",
      "include_colab_link": true
    },
    "kernelspec": {
      "name": "python3",
      "display_name": "Python 3"
    },
    "language_info": {
      "name": "python"
    }
  },
  "cells": [
    {
      "cell_type": "markdown",
      "metadata": {
        "id": "view-in-github",
        "colab_type": "text"
      },
      "source": [
        "<a href=\"https://colab.research.google.com/github/ubsuny/PHY386/blob/Homework2025/2025/HW/dnxjay/HW2.ipynb\" target=\"_parent\"><img src=\"https://colab.research.google.com/assets/colab-badge.svg\" alt=\"Open In Colab\"/></a>"
      ]
    },
    {
      "cell_type": "markdown",
      "source": [
        "# Code Extension"
      ],
      "metadata": {
        "id": "2PRalCpclRZ-"
      }
    },
    {
      "cell_type": "code",
      "source": [
        "# import libraries\n",
        "import numpy as np\n",
        "import scipy.linalg as la\n",
        "\n",
        "\n",
        "# Let's calculate the frequencies numerically:\n",
        "\n",
        "def calculate_eigenfrequencies_3mass(k, m):\n",
        "    \"\"\" calculate the eigenfrequencies for our three mass problem.\n",
        "\n",
        "    Keyword arguments:\n",
        "    k -- spring constant (N/m)\n",
        "    m -- mass (kg)\n",
        "\n",
        "    returns:\n",
        "    w1 -- first eigenfrequency\n",
        "    w2 -- second eigenfrequency\n",
        "    w3 -- third eigenfrequency\n",
        "    \"\"\"\n",
        "    w0_squared = k / m\n",
        "    w1 = np.sqrt(2*w0_squared)\n",
        "    w2 = np.sqrt((2-np.sqrt(2)) * w0_squared)\n",
        "    w3 = np.sqrt((2+np.sqrt(2)) * w0_squared)\n",
        "    return w1, w2, w3\n",
        "\n",
        "# Example values\n",
        "k = 10  # N/m\n",
        "m = 1   # kg\n",
        "\n",
        "w1, w2, w3 = calculate_eigenfrequencies_3mass(k, m)\n",
        "\n",
        "print(\"Eigenfrequencies:\")\n",
        "print(\"ω₁ = {:.4f} rad/s\".format(w1))\n",
        "print(\"ω₂ = {:.4f} rad/s\".format(w2))\n",
        "print(\"ω₃ = {:.4f} rad/s\".format(w3))"
      ],
      "metadata": {
        "colab": {
          "base_uri": "https://localhost:8080/"
        },
        "id": "LU1AVvbBALx0",
        "outputId": "7866c120-1ed1-4441-c462-0a19ec387400"
      },
      "execution_count": null,
      "outputs": [
        {
          "output_type": "stream",
          "name": "stdout",
          "text": [
            "Eigenfrequencies:\n",
            "ω₁ = 4.4721 rad/s\n",
            "ω₂ = 2.4203 rad/s\n",
            "ω₃ = 5.8431 rad/s\n"
          ]
        }
      ]
    },
    {
      "cell_type": "code",
      "source": [
        "def setup_mass_matrix(m_list):\n",
        "  '''\n",
        "  This function creates a matrix of masses using the provided masses list as the diagnoal terms.\n",
        "\n",
        "  Args:\n",
        "  m_list: list of masses (kg)\n",
        "\n",
        "  Returns:\n",
        "  mass_matrix: mass matrix (numpy array)\n",
        "  '''\n",
        "  M = np.diag(m_list)\n",
        "  return M\n",
        "\n",
        "print(setup_mass_matrix([1,1,1]))"
      ],
      "metadata": {
        "colab": {
          "base_uri": "https://localhost:8080/"
        },
        "id": "jBqHOhiFBx58",
        "outputId": "466252c6-316d-461a-dab1-7dc7ac513f72"
      },
      "execution_count": null,
      "outputs": [
        {
          "output_type": "stream",
          "name": "stdout",
          "text": [
            "[[1 0 0]\n",
            " [0 1 0]\n",
            " [0 0 1]]\n"
          ]
        }
      ]
    },
    {
      "cell_type": "code",
      "source": [
        "import numpy as np\n",
        "\n",
        "def calculate_eigenfrequencies_nmass(k_list, m_list, fixed_ends=True):\n",
        "    \"\"\"\n",
        "    Compute the eigenfrequencies of a system of masses connected by springs.\n",
        "\n",
        "    This function constructs the mass-normalized stiffness matrix (dynamical matrix) for an\n",
        "    n-mass system where each mass is connected by springs with varying stiffness. The function\n",
        "    calculates the natural frequencies of the system by solving the eigenvalue problem.\n",
        "\n",
        "    Parameters:\n",
        "    -----------\n",
        "    k_list : list of float\n",
        "        A list containing the spring constants (N/m).\n",
        "        - If `fixed_ends=True`, the list should contain `n+1` elements, as the first and last\n",
        "          springs are assumed to be attached to fixed walls.\n",
        "        - If `fixed_ends=False`, the list should contain `n` elements, corresponding to the number\n",
        "          of masses in the system.\n",
        "\n",
        "    m_list : list of float\n",
        "        A list containing the masses (kg). The length of this list defines the number of masses.\n",
        "\n",
        "    fixed_ends : bool, optional (default=True)\n",
        "        - If `True`, the system is assumed to have fixed boundary conditions (first and last\n",
        "          masses are anchored to walls).\n",
        "        - If `False`, the system has free boundary conditions, meaning the first and last masses\n",
        "          are free to move.\n",
        "\n",
        "    Returns:\n",
        "    --------\n",
        "    np.ndarray\n",
        "        A sorted array of eigenfrequencies (rad/s), representing the natural vibrational frequencies\n",
        "        of the system. These frequencies correspond to different oscillation modes.\n",
        "\n",
        "    Method:\n",
        "    -------\n",
        "    1. Construct the mass-normalized stiffness matrix `D`:\n",
        "       - Diagonal elements represent the total stiffness acting on a given mass.\n",
        "       - Off-diagonal elements represent the coupling between neighboring masses.\n",
        "    2. Compute the eigenvalues of `D` using `np.linalg.eigh()`.\n",
        "    3. Convert the non-negative eigenvalues into eigenfrequencies by taking their square roots.\n",
        "    4. Return the sorted list of eigenfrequencies.\n",
        "\n",
        "    Example:\n",
        "    --------\n",
        "    >>> k_list = [10, 15, 20, 25]  # Spring constants (N/m)\n",
        "    >>> m_list = [1, 2, 1.5]       # Masses (kg)\n",
        "    >>> eigenfrequencies = calculate_eigenfrequencies_nmass(k_list, m_list, fixed_ends=True)\n",
        "    >>> print(eigenfrequencies)\n",
        "\n",
        "    Notes:\n",
        "    ------\n",
        "    - The function assumes a **1D linear mass-spring system**.\n",
        "    - The eigenfrequencies determine the natural oscillation modes of the system.\n",
        "    - The boundary conditions significantly affect the calculated frequencies.\n",
        "    \"\"\"\n",
        "    n = len(m_list)\n",
        "\n",
        "    # Construct the mass-normalized stiffness matrix (dynamical matrix)\n",
        "    D = np.zeros((n, n))\n",
        "\n",
        "    for i in range(n):\n",
        "        if i > 0:\n",
        "            D[i, i-1] = -k_list[i] / np.sqrt(m_list[i] * m_list[i-1])\n",
        "        if i < n-1:\n",
        "            D[i, i+1] = -k_list[i+1] / np.sqrt(m_list[i] * m_list[i+1])\n",
        "        D[i, i] = (k_list[i] + k_list[i+1]) / m_list[i] if fixed_ends else (k_list[i] + k_list[i+1]) / m_list[i] if i != 0 and i != n-1 else k_list[i] / m_list[i]\n",
        "\n",
        "    # Compute eigenvalues and eigenvectors\n",
        "    eigenvalues, _ = np.linalg.eigh(D)\n",
        "\n",
        "    # Convert eigenvalues to frequencies (sqrt of eigenvalues)\n",
        "    eigenfrequencies = np.sqrt(np.maximum(eigenvalues, 0))\n",
        "\n",
        "    return np.sort(eigenfrequencies)\n",
        "\n",
        "def setup_stiffness_matrix(k_list):\n",
        "    \"\"\"\n",
        "    Constructs the stiffness matrix for a system of masses connected by springs.\n",
        "\n",
        "    The stiffness matrix describes how forces are distributed among the masses due to the connected springs.\n",
        "    It is an `n × n` matrix, where `n` is the number of masses in the system. The diagonal elements represent\n",
        "    the total stiffness affecting each mass, while the off-diagonal elements indicate the coupling between\n",
        "    neighboring masses due to the shared springs.\n",
        "\n",
        "    Parameters:\n",
        "    -----------\n",
        "    k_list : list of float\n",
        "        A list containing the spring constants (N/m). The length should be `n+1` for fixed-end conditions\n",
        "        (walls at both ends) or `n` for free-end conditions.\n",
        "\n",
        "    Returns:\n",
        "    --------\n",
        "    np.ndarray\n",
        "        A 2D `n × n` numpy array representing the stiffness matrix of the system.\n",
        "\n",
        "    Method:\n",
        "    -------\n",
        "    1. Initialize an `n × n` zero matrix `K`.\n",
        "    2. Populate diagonal elements with the sum of adjacent spring constants.\n",
        "    3. Populate off-diagonal elements with negative values of the adjacent spring constants, representing coupling.\n",
        "    4. Return the constructed matrix.\n",
        "\n",
        "    Example:\n",
        "    --------\n",
        "    >>> k_list = [10, 15, 20, 25]  # Spring constants (N/m)\n",
        "    >>> stiffness_matrix = setup_stiffness_matrix(k_list)\n",
        "    >>> print(stiffness_matrix)\n",
        "\n",
        "    Notes:\n",
        "    ------\n",
        "    - Assumes a **1D linear mass-spring system**.\n",
        "    - If the system has `n` masses, the returned matrix is of size `n × n`.\n",
        "    - The resulting matrix can be used to compute the system's eigenfrequencies.\n",
        "    \"\"\"\n",
        "    n = len(k_list) - 1  # Number of masses\n",
        "    K = np.zeros((n, n))\n",
        "\n",
        "    for i in range(n):\n",
        "        if i > 0:\n",
        "            K[i, i - 1] = -k_list[i]  # Off-diagonal (left neighbor)\n",
        "        if i < n - 1:\n",
        "            K[i, i + 1] = -k_list[i + 1]  # Off-diagonal (right neighbor)\n",
        "        K[i, i] = k_list[i] + k_list[i + 1]  # Diagonal term\n",
        "\n",
        "    return K\n",
        "\n",
        "# Example usage\n",
        "k_list = [10, 15, 20, 25]  # Spring constants (N/m)\n",
        "stiffness_matrix = setup_stiffness_matrix(k_list)\n",
        "\n",
        "print(\"Stiffness Matrix:\")\n",
        "print(stiffness_matrix)\n",
        "\n"
      ],
      "metadata": {
        "colab": {
          "base_uri": "https://localhost:8080/"
        },
        "id": "9ajPCKIbC4Mt",
        "outputId": "f2310aa6-3570-4d60-f3a1-25bdba9c71c0"
      },
      "execution_count": null,
      "outputs": [
        {
          "output_type": "stream",
          "name": "stdout",
          "text": [
            "Stiffness Matrix:\n",
            "[[ 25. -15.   0.]\n",
            " [-15.  35. -20.]\n",
            " [  0. -20.  45.]]\n"
          ]
        }
      ]
    },
    {
      "cell_type": "markdown",
      "source": [
        "# AI creativity\n",
        "\n",
        "\n",
        "The AI model handled the physics well by iteratively refining the coupled oscillator system, ensuring realistic eigenfrequencies and valid boundary conditions. It required three iterations—first implementing a basic mass-spring system, then introducing cross-coupling interactions, and finally fine-tuning matrix indexing and visualization. The final model resembles phonon vibrations in crystals, molecular bond oscillations, and wave propagation in elastic structures. Such systems appear in solid-state physics, mechanical engineering, and even biological networks, making this model relevant in both theoretical and applied physics.\n"
      ],
      "metadata": {
        "id": "e-6JuuVQDOP8"
      }
    },
    {
      "cell_type": "code",
      "source": [
        "import numpy as np\n",
        "import matplotlib.pyplot as plt\n",
        "from scipy.linalg import eigh\n",
        "\n",
        "# Function to construct a modified stiffness matrix with cross-couplings\n",
        "\n",
        "def setup_modified_stiffness_matrix(k_list, m_list, coupling_factor=0.5):\n",
        "    \"\"\"\n",
        "    Constructs the stiffness matrix for a system of masses coupled by springs with additional cross-coupling.\n",
        "\n",
        "    Parameters:\n",
        "    ------------\n",
        "    k_list : list of float\n",
        "        A list containing the primary spring constants (N/m) between adjacent masses. The length should be n+1\n",
        "        for fixed boundary conditions and n for free boundary conditions.\n",
        "    m_list : list of float\n",
        "        A list containing the masses (kg) in the system.\n",
        "    coupling_factor : float, optional (default=0.5)\n",
        "        A factor that determines the strength of secondary cross-couplings between non-adjacent masses.\n",
        "        This simulates indirect interactions due to elastic mediums or additional structural effects.\n",
        "\n",
        "    Returns:\n",
        "    ------------\n",
        "    np.ndarray\n",
        "        A 2D `n × n` stiffness matrix including both direct and cross-coupling terms.\n",
        "    \"\"\"\n",
        "    n = len(m_list)\n",
        "    K = np.zeros((n, n))\n",
        "\n",
        "    for i in range(n):\n",
        "        if i > 0:\n",
        "            K[i, i-1] = -k_list[i]  # Direct neighbor coupling\n",
        "        if i < n - 1:\n",
        "            K[i, i+1] = -k_list[i+1]  # Direct neighbor coupling\n",
        "        if i > 1:\n",
        "            K[i, i-2] = -coupling_factor * k_list[i-1]  # Secondary coupling\n",
        "        if i < n - 2:\n",
        "            K[i, i+2] = -coupling_factor * k_list[i+1]  # Secondary coupling\n",
        "\n",
        "        # Ensure valid indexing for diagonal terms\n",
        "        if i < len(k_list) - 1:\n",
        "            K[i, i] = k_list[i] + k_list[i+1]  # Diagonal term\n",
        "        else:\n",
        "            K[i, i] = k_list[i]  # Last element case\n",
        "\n",
        "    return K\n",
        "\n",
        "# Function to compute eigenfrequencies\n",
        "def compute_eigenfrequencies(K, m_list):\n",
        "    \"\"\"\n",
        "    Computes the eigenfrequencies of the coupled mass-spring system.\n",
        "\n",
        "    Parameters:\n",
        "    ------------\n",
        "    K : np.ndarray\n",
        "        The stiffness matrix of the system.\n",
        "    m_list : list of float\n",
        "        The mass list for normalization.\n",
        "\n",
        "    Returns:\n",
        "    ------------\n",
        "    np.ndarray\n",
        "        Sorted array of eigenfrequencies in rad/s.\n",
        "    \"\"\"\n",
        "    M = np.diag(m_list)  # Mass matrix\n",
        "    D = np.linalg.inv(M) @ K  # Mass-normalized stiffness matrix\n",
        "    eigenvalues, _ = eigh(D)  # Solve eigenvalue problem\n",
        "\n",
        "    return np.sqrt(np.maximum(eigenvalues, 0))  # Convert eigenvalues to frequencies\n",
        "\n",
        "# Example usage\n",
        "k_list = [10, 15, 20, 25, 30, 35]  # Spring constants (N/m), ensuring n+1 elements\n",
        "m_list = [1, 2, 1.5, 1.2, 1.8]  # Masses (kg)\n",
        "\n",
        "K_mod = setup_modified_stiffness_matrix(k_list, m_list, coupling_factor=0.3)\n",
        "eigenfrequencies = compute_eigenfrequencies(K_mod, m_list)\n",
        "\n",
        "print(\"Eigenfrequencies with cross-coupling:\", eigenfrequencies)\n",
        "\n",
        "# Plot eigenfrequencies using a bar chart (improved visualization)\n",
        "plt.figure(figsize=(8, 5))\n",
        "plt.bar(range(1, len(eigenfrequencies) + 1), eigenfrequencies, color='royalblue')\n",
        "plt.xlabel(\"Mode Number\")\n",
        "plt.ylabel(\"Eigenfrequency (rad/s)\")\n",
        "plt.title(\"Eigenfrequencies of Coupled Oscillators\")\n",
        "plt.grid(axis='y', linestyle='--', alpha=0.7)\n",
        "plt.show()"
      ],
      "metadata": {
        "colab": {
          "base_uri": "https://localhost:8080/",
          "height": 504
        },
        "id": "stkBTt1yEoun",
        "outputId": "26657fb0-a604-40f5-a69d-fe746842df33"
      },
      "execution_count": null,
      "outputs": [
        {
          "output_type": "stream",
          "name": "stdout",
          "text": [
            "Eigenfrequencies with cross-coupling: [0.         4.451605   5.46040864 6.40377629 8.08113234]\n"
          ]
        },
        {
          "output_type": "display_data",
          "data": {
            "text/plain": [
              "<Figure size 800x500 with 1 Axes>"
            ],
            "image/png": "[encoded data removed]"
          },
          "metadata": {}
        }
      ]
    }
  ]
}