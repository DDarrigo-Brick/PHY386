{
 "cells": [
  {
   "cell_type": "markdown",
   "id": "78f91da2",
   "metadata": {},
   "source": [
    "# Computational Methods for Physicists Final Project\n",
    "## Title: Deconvolution of Lunar Surface Image\n",
    "### Duration: 14 Days (Start Date: Tuesday, April 29, 2025, Due Date: During finals week)\n",
    "\n",
    "---\n",
    "\n",
    "## 1. Introduction\n",
    "\n",
    "This is your final project for this class!\n",
    "\n",
    "In this project, you will explore the application of **image deconvolution** techniques to enhance a blurred image of the lunar surface. Your goal is to conceptually apply methods such as the Lucy-Richardson algorithm to improve the clarity of surface details, including craters and ridges.\n",
    "\n",
    "You will analyze a FITS image and demonstrate how deconvolution helps to recover features that are otherwise difficult to observe. While no complex coding of the algorithm is required, you are expected to explain the steps and effects of the deconvolution process and present enhanced results.\n",
    "\n",
    "**Project Topic:** Improving image quality through deconvolution.\n",
    "\n",
    "**Key Focus:** Image restoration, lunar surface analysis, conceptual algorithm understanding.\n"
   ]
  },
  {
   "cell_type": "markdown",
   "id": "415ee724",
   "metadata": {},
   "source": [
    "## 2. Learning Objectives\n",
    "\n",
    "By completing this project, you will:\n",
    "- Learn the principles of image deconvolution in astronomy.\n",
    "- Understand how blur affects astronomical image quality.\n",
    "- Apply conceptual deconvolution steps to enhance lunar images.\n",
    "- Document your process clearly in a reproducible way.\n"
   ]
  },
  {
   "cell_type": "markdown",
   "id": "46761ada",
   "metadata": {},
   "source": [
    "## 3. Dataset Description\n",
    "\n",
    "**You will receive:**\n",
    "- A FITS image of the lunar surface affected by image blur.\n",
    "\n",
    "The FITS image includes:\n",
    "- Metadata about the observation, including telescope and exposure details.\n",
    "\n",
    "You will use this image to apply deconvolution techniques and analyze how much detail can be recovered from the original data.\n"
   ]
  },
  {
   "cell_type": "markdown",
   "id": "c5084a8d",
   "metadata": {},
   "source": [
    "## 4. Project Tasks (Total: 28 Points)\n"
   ]
  },
  {
   "cell_type": "markdown",
   "id": "c366b5f7",
   "metadata": {},
   "source": [
    "### Task 1: Data Exploration and Visualization (6 points)\n",
    "\n",
    "- Load the FITS image and inspect its contents.\n",
    "- Display the image with appropriate scaling to visualize surface features.\n",
    "- Describe the general appearance of the image and note areas where blur is most noticeable.\n",
    "- Generate a histogram of pixel values to assess contrast and dynamic range.\n"
   ]
  },
  {
   "cell_type": "markdown",
   "id": "01daf19c",
   "metadata": {},
   "source": [
    "### Task 2: Physical Context and Research (3 points)\n",
    "\n",
    "- Explain why astronomical images often suffer from blur and what causes it (e.g., atmospheric turbulence, instrument effects).\n",
    "- Describe the basic principles of image deconvolution and why it is useful in astronomy.\n",
    "- Discuss common deconvolution algorithms such as the Lucy-Richardson method and their applications.\n"
   ]
  },
  {
   "cell_type": "markdown",
   "id": "724cb217",
   "metadata": {},
   "source": [
    "### Task 3: Data Processing and Feature Extraction (13 points)\n",
    "\n",
    "- Apply a conceptual deconvolution process to the lunar image. You can use built-in tools but must explain each step.\n",
    "- Compare the original and enhanced images side by side to show the effect of deconvolution.\n",
    "- Highlight areas where significant improvement in detail has occurred, such as crater rims or surface ridges.\n",
    "- Create an additional figure that shows a zoomed-in comparison of a selected region before and after deconvolution.\n"
   ]
  },
  {
   "cell_type": "markdown",
   "id": "18874dc3",
   "metadata": {},
   "source": [
    "### Task 4: Modeling and Analysis (6 points)\n",
    "\n",
    "- Evaluate the effectiveness of the deconvolution process: How much more detail can you see?\n",
    "- Discuss the limitations of deconvolution and any artifacts or noise that were introduced.\n",
    "- Reflect on how image restoration can support scientific analysis, particularly in lunar studies.\n",
    "- Suggest improvements or alternative methods for future deconvolution efforts.\n"
   ]
  },
  {
   "cell_type": "markdown",
   "id": "dc7b448e",
   "metadata": {},
   "source": [
    "## 5. Tools and Libraries (6 points)\n",
    "\n",
    "You are encouraged to use:\n",
    "- **Astropy** for handling FITS files and metadata.\n",
    "- **skimage** for applying deconvolution functions and image enhancements.\n",
    "- **Matplotlib** for visualizing comparisons and image sections.\n",
    "- **NumPy / SciPy** for any additional numerical analysis.\n",
    "\n",
    "Proper use of tools and libraries will be evaluated on:\n",
    "- Correct use of relevant packages for the task.\n",
    "- Efficient coding practices.\n",
    "- Use of appropriate data structures and functions.\n"
   ]
  },
  {
   "cell_type": "markdown",
   "id": "8af61f92",
   "metadata": {},
   "source": [
    "## 6. Submission Instructions (8 points)\n",
    "\n",
    "- Submit your completed notebook (.ipynb) and any additional files.\n",
    "- Submit into the **`2025/Final/YourGitHubUserName`** folder in the repository.\n",
    "- Deadline: During finals week.\n",
    "\n",
    "### Submission Quality Guidelines:\n",
    "- Use **docstrings** for all functions.\n",
    "- Write **clear and readable code**.\n",
    "- Include **comments** explaining non-obvious steps.\n",
    "- Organize notebook with **markdown cells** explaining each section.\n",
    "- Ensure that all **code runs without errors**.\n",
    "- Use **figures and visualizations** where appropriate.\n"
   ]
  },
  {
   "cell_type": "markdown",
   "id": "99124c4d",
   "metadata": {},
   "source": [
    "## 7. Grading Breakdown\n",
    "- **Tasks Total:** 28 pts\n",
    "- **Tools Use:** 6 pts\n",
    "- **Submission Quality:** 8 pts\n",
    "- **Total:** **42 Points**\n"
   ]
  }
 ],
 "metadata": {},
 "nbformat": 4,
 "nbformat_minor": 5
}
