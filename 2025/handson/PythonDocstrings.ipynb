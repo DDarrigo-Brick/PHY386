{
  "nbformat": 4,
  "nbformat_minor": 0,
  "metadata": {
    "colab": {
      "provenance": [],
      "authorship_tag": "ABX9TyOOyE4lnDHLn+u3yVYGVx1E",
      "include_colab_link": true
    },
    "kernelspec": {
      "name": "python3",
      "display_name": "Python 3"
    },
    "language_info": {
      "name": "python"
    }
  },
  "cells": [
    {
      "cell_type": "markdown",
      "metadata": {
        "id": "view-in-github",
        "colab_type": "text"
      },
      "source": [
        "<a href=\"https://colab.research.google.com/github/ubsuny/PHY386/blob/main/2025/handson/PythonDocstrings.ipynb\" target=\"_parent\"><img src=\"https://colab.research.google.com/assets/colab-badge.svg\" alt=\"Open In Colab\"/></a>"
      ]
    },
    {
      "cell_type": "markdown",
      "source": [
        "# The Importance of Docstrings in Python: A Physicist's Perspective\n",
        "\n",
        "We'll explore the crucial role of docstrings in Python - the fundamental parts of clear and maintainable code.\n",
        "\n",
        "See [PEP257](https://peps.python.org/pep-0257/#multi-line-docstrings)"
      ],
      "metadata": {
        "id": "UsJfVxJRfPfF"
      }
    },
    {
      "cell_type": "markdown",
      "source": [
        "## Why Docstrings Matter\n",
        "\n",
        "1. **Code Clarity**: Much like how a well-defined Schrödinger function describes a quantum system, a good docstring clearly describes a function or class's purpose and behavior.\n",
        "\n",
        "2. **Future-Proofing**: Docstrings are like constants of motion - they help preserve understanding across time, even as the code around them evolves.\n",
        "\n",
        "3. **Collaborative Efficiency**: In the grand experiment of software development, docstrings act as the shared lab notes, ensuring all researchers (developers) are on the same page.\n",
        "\n",
        "### Best Practices for Docstring Writing\n",
        "\n",
        "1. **Conservation of Information**: Docstrings should provide all necessary information without redundancy.\n",
        "\n",
        "   ```python\n",
        "   def calculate_kinetic_energy(mass, velocity):\n",
        "       \"\"\"Calculate the kinetic energy of an object in a non-relativistic framework.\"\"\"\n",
        "       return 0.5 * mass * velocity**2\n",
        "   ```\n",
        "\n",
        "2. **Principle of Least Action**: Strive for docstrings that convey maximum information with minimum complexity.\n",
        "\n",
        "3. **Uncertainty Reduction**: The more precise your docstrings, the less uncertainty there will be about your code's functionality.\n",
        "\n",
        "   ```python\n",
        "   def gravitational_potential_energy(mass, height, g=9.8):\n",
        "       \"\"\"\n",
        "       Calculate the gravitational potential energy of an object.\n",
        "\n",
        "       This function computes the gravitational potential energy in a uniform gravitational field.\n",
        "\n",
        "       Args:\n",
        "           mass: The mass of the object in kilograms.\n",
        "           height: The height of the object above the reference point in meters.\n",
        "           g (optional): The acceleration due to gravity in m/s^2. Defaults to 9.8 (Earth's surface).\n",
        "\n",
        "       Returns:\n",
        "           The gravitational potential energy in Joules.\n",
        "       \"\"\"\n",
        "       return mass * g * height\n",
        "   ```\n",
        "\n",
        "4. **Units**: We usually assume some units for specific functions. The docstring is the perfect spot to explain which units should be assumed.\n",
        "\n",
        "4. **Complementarity Principle**: Docstrings should complement your code, providing information that's not immediately obvious from the code itself.\n",
        "\n",
        "5. **Correspondence Principle**: As your code becomes more complex, your docstrings should provide correspondingly more detailed explanations.\n",
        "\n",
        "   ```python\n",
        "   class Particle:\n",
        "       \"\"\"\n",
        "       A class representing a particle in a physical system.\n",
        "\n",
        "       This class encapsulates the fundamental properties of a particle,\n",
        "       including its mass, position, and velocity. It provides methods\n",
        "       for basic kinematic calculations.\n",
        "       \"\"\"\n",
        "   ```\n",
        "\n",
        "Remember, in the universe of software development, well-written docstrings are the dark energy that drives the expansion of understanding and maintainability. They may be invisible at first glance, but their effect on the evolution of your codebase is profound and far-reaching."
      ],
      "metadata": {
        "id": "zaBV2v6ZlJ3u"
      }
    },
    {
      "cell_type": "code",
      "execution_count": null,
      "metadata": {
        "id": "V4DDiJcteJZ4"
      },
      "outputs": [],
      "source": [
        "# Importing necessary libraries\n",
        "import numpy as np\n",
        "from functools import reduce"
      ]
    },
    {
      "cell_type": "code",
      "source": [
        "# Example 1: Simple function with a one-line docstring\n",
        "def calculate_kinetic_energy(mass, velocity):\n",
        "    \"\"\"Calculate the kinetic energy of an object.\"\"\"\n",
        "    return 0.5 * mass * velocity**2"
      ],
      "metadata": {
        "id": "sjEckxeWefXx"
      },
      "execution_count": null,
      "outputs": []
    },
    {
      "cell_type": "code",
      "source": [
        "calculate_kinetic_energy(1,1)"
      ],
      "metadata": {
        "id": "-VGhXgwcjHHw"
      },
      "execution_count": null,
      "outputs": []
    },
    {
      "cell_type": "code",
      "source": [
        "# Accessing and printing docstrings\n",
        "print(\"Docstring for calculate_kinetic_energy:\")\n",
        "print(calculate_kinetic_energy.__doc__)"
      ],
      "metadata": {
        "id": "r2RF2ni1i9eQ"
      },
      "execution_count": null,
      "outputs": []
    },
    {
      "cell_type": "code",
      "source": [
        "# Example 2: Function with a multi-line docstring\n",
        "def gravitational_potential_energy(mass, height, g=9.8):\n",
        "    \"\"\"\n",
        "    Calculate the gravitational potential energy of an object.\n",
        "\n",
        "    This function computes the gravitational potential energy of an object\n",
        "    with a given mass at a certain height above a reference point.\n",
        "\n",
        "    Args:\n",
        "        mass: The mass of the object in kilograms.\n",
        "        height: The height of the object above the reference point in meters.\n",
        "        g (optional): The acceleration due to gravity in m/s^2. Defaults to 9.8.\n",
        "\n",
        "    Returns:\n",
        "        float: The gravitational potential energy in Joules.\n",
        "    \"\"\"\n",
        "    return mass * g * height"
      ],
      "metadata": {
        "id": "Lz3_FVNbeilE"
      },
      "execution_count": null,
      "outputs": []
    },
    {
      "cell_type": "code",
      "source": [
        "print(\"Docstring for gravitational_potential_energy:\")\n",
        "print(gravitational_potential_energy.__doc__)"
      ],
      "metadata": {
        "id": "ekxFJTG_jFAg"
      },
      "execution_count": null,
      "outputs": []
    },
    {
      "cell_type": "code",
      "source": [
        "gravitational_potential_energy(height=1,g=3,mass=1)"
      ],
      "metadata": {
        "id": "qcUBikxajq3d"
      },
      "execution_count": null,
      "outputs": []
    },
    {
      "cell_type": "code",
      "source": [
        "# Example 3: Class with docstrings\n",
        "class Particle:\n",
        "    \"\"\"\n",
        "    A class representing a particle in a physical system.\n",
        "\n",
        "    This class encapsulates the properties and behaviors of a particle,\n",
        "    including its mass, position, and velocity.\n",
        "    \"\"\"\n",
        "\n",
        "    def __init__(self, mass, position, velocity):\n",
        "        \"\"\"\n",
        "        Initialize a Particle object.\n",
        "\n",
        "        Args:\n",
        "            mass: The mass of the particle in kilograms.\n",
        "            position: The position vector of the particle.\n",
        "            velocity: The velocity vector of the particle.\n",
        "        \"\"\"\n",
        "        self.mass = mass\n",
        "        self.position = np.array(position)\n",
        "        self.velocity = np.array(velocity)\n",
        "\n",
        "    def momentum(self):\n",
        "        \"\"\"Calculate and return the momentum of the particle.\"\"\"\n",
        "        return self.mass * self.velocity"
      ],
      "metadata": {
        "id": "7hZx464Yem8D"
      },
      "execution_count": null,
      "outputs": []
    },
    {
      "cell_type": "code",
      "source": [
        "print(\"Docstring for Particle class:\")\n",
        "print(Particle.__doc__)"
      ],
      "metadata": {
        "id": "pHcwNx6gjSTN"
      },
      "execution_count": null,
      "outputs": []
    },
    {
      "cell_type": "code",
      "source": [
        "print(\"Docstring for Particle methods:\")\n",
        "print(Particle.__init__.__doc__)\n",
        "print(Particle.momentum.__doc__)"
      ],
      "metadata": {
        "id": "CjmFVBuRj2Te"
      },
      "execution_count": null,
      "outputs": []
    },
    {
      "cell_type": "code",
      "source": [
        "electron = Particle(0.511, [0, 0, 0], [1, 2, 3])\n",
        "electron.momentum()"
      ],
      "metadata": {
        "id": "PNN8y0PLkPgR"
      },
      "execution_count": null,
      "outputs": []
    },
    {
      "cell_type": "code",
      "source": [
        "# Example 4: Functional programming technique with docstring\n",
        "def compose(*funcs):\n",
        "    \"\"\"\n",
        "    Create a composition of functions.\n",
        "\n",
        "    This function takes any number of single-argument functions and returns\n",
        "    a new function that applies them in sequence, from right to left.\n",
        "\n",
        "    Args:\n",
        "        *funcs: Variable number of single-argument functions to compose.\n",
        "\n",
        "    Returns:\n",
        "        function: A new function that is the composition of the input functions.\n",
        "    \"\"\"\n",
        "    def compose_two(f, g):\n",
        "        \"\"\" Composes any two functions from right to left \"\"\"\n",
        "        return lambda x: f(g(x))\n",
        "    return reduce(compose_two, funcs, lambda x: x)\n",
        "\n",
        "# Example usage of the composed function\n",
        "def square(x):\n",
        "    \"\"\"Return the square of a number.\"\"\"\n",
        "    return x ** 2\n",
        "\n",
        "def double(x):\n",
        "    \"\"\"Return twice the value of a number.\"\"\"\n",
        "    return 2 * x\n",
        "\n",
        "composed_func = compose(square, double)\n",
        "result = composed_func(3)  # (2 * 3)^2 = 36\n",
        "\n",
        "print(\"Result of composed function: {}\".format(result))\n"
      ],
      "metadata": {
        "id": "NBxOHxKmeyDS"
      },
      "execution_count": null,
      "outputs": []
    },
    {
      "cell_type": "code",
      "source": [
        "print(\"Docstring for compose function:\")\n",
        "print(compose.__doc__)"
      ],
      "metadata": {
        "id": "WGCaKAAAjXf4"
      },
      "execution_count": null,
      "outputs": []
    },
    {
      "cell_type": "code",
      "source": [],
      "metadata": {
        "id": "9XLpVFX_mhU5"
      },
      "execution_count": null,
      "outputs": []
    }
  ]
}