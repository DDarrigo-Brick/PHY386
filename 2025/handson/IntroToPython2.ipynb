{
  "nbformat": 4,
  "nbformat_minor": 0,
  "metadata": {
    "colab": {
      "provenance": [],
      "collapsed_sections": [
        "TZ_S1b7lzaxb",
        "ChxCz_RLhD7L",
        "OdcUw-FGLukn",
        "C5FAmdc3no6Q",
        "LeXXY666tVvX",
        "e4XYAC5a4EIR"
      ],
      "authorship_tag": "ABX9TyPLnxln0OFdWsxKZvInIj0Q",
      "include_colab_link": true
    },
    "kernelspec": {
      "name": "python3",
      "display_name": "Python 3"
    },
    "language_info": {
      "name": "python"
    }
  },
  "cells": [
    {
      "cell_type": "markdown",
      "metadata": {
        "id": "view-in-github",
        "colab_type": "text"
      },
      "source": [
        "<a href=\"https://colab.research.google.com/github/ubsuny/PHY386/blob/main/2025/handson/IntroToPython2.ipynb\" target=\"_parent\"><img src=\"https://colab.research.google.com/assets/colab-badge.svg\" alt=\"Open In Colab\"/></a>"
      ]
    },
    {
      "cell_type": "markdown",
      "source": [
        "# Introduction to Python 2\n",
        "Tim Thomay (thomay@buffalo.edu)"
      ],
      "metadata": {
        "id": "OS3ToRR8KY0g"
      }
    },
    {
      "cell_type": "markdown",
      "source": [
        "## print and formatting\n",
        "\n",
        "Usually if we want to give some text output (in a file or on a screen) we have to format numbers so they are easy for a human to read:"
      ],
      "metadata": {
        "id": "TZ_S1b7lzaxb"
      }
    },
    {
      "cell_type": "code",
      "source": [
        "print(1)"
      ],
      "metadata": {
        "id": "lTm9tIdLz3G1"
      },
      "execution_count": null,
      "outputs": []
    },
    {
      "cell_type": "code",
      "source": [
        "print(1/3)"
      ],
      "metadata": {
        "id": "4xUFRy3nz55V"
      },
      "execution_count": null,
      "outputs": []
    },
    {
      "cell_type": "markdown",
      "source": [
        "you can use strings to control the number formatting. Curly brackets are placeholders for the number you want to format:"
      ],
      "metadata": {
        "id": "ztB9huAr0FXK"
      }
    },
    {
      "cell_type": "code",
      "source": [
        "print(\"{}\".format(1))"
      ],
      "metadata": {
        "id": "3PVTC4B-0DxB"
      },
      "execution_count": null,
      "outputs": []
    },
    {
      "cell_type": "code",
      "source": [
        "print(\"{}\".format(1/3))"
      ],
      "metadata": {
        "id": "kZOswIcy0YWN"
      },
      "execution_count": null,
      "outputs": []
    },
    {
      "cell_type": "code",
      "source": [
        "print(\"{:.3f}\".format(1/3))"
      ],
      "metadata": {
        "id": "3jHyc4V10bdd"
      },
      "execution_count": null,
      "outputs": []
    },
    {
      "cell_type": "code",
      "source": [
        "print(\"{:.2f}\".format(3))"
      ],
      "metadata": {
        "id": "-H4yvj6j0hsJ"
      },
      "execution_count": null,
      "outputs": []
    },
    {
      "cell_type": "code",
      "source": [
        "print(\"{:.0f}\".format(11/3))"
      ],
      "metadata": {
        "id": "Jkxqmxsh0mPM"
      },
      "execution_count": null,
      "outputs": []
    },
    {
      "cell_type": "code",
      "source": [
        "print(\"{:03d}\".format(3))"
      ],
      "metadata": {
        "id": "C_FnBGGw07F0"
      },
      "execution_count": null,
      "outputs": []
    },
    {
      "cell_type": "code",
      "source": [
        "print(\"{:03d}\".format(3))"
      ],
      "metadata": {
        "id": "ONDZHxUu1PpK"
      },
      "execution_count": null,
      "outputs": []
    },
    {
      "cell_type": "code",
      "source": [
        "print(\"{:06.2f}\".format(1/3))"
      ],
      "metadata": {
        "id": "WLh74bd8104E"
      },
      "execution_count": null,
      "outputs": []
    },
    {
      "cell_type": "markdown",
      "source": [
        "## Dictionaries\n",
        "\n",
        "Dictionaries are like list but each element (value) can have a description (key) to better organize the list. Dictionaries are enclosed in curly brackets {} and the key and value are seperated by a colon :"
      ],
      "metadata": {
        "id": "ChxCz_RLhD7L"
      }
    },
    {
      "cell_type": "code",
      "source": [
        "# Example 1: Storing physical constants\n",
        "PHYSICAL_CONSTANTS = {\n",
        "    \"SPEED_OF_LIGHT\": 299792458,  # meters per second (m/s)\n",
        "    \"GRAVITATIONAL_CONSTANT\": 6.67430e-11,  # m³ kg⁻¹ s⁻²\n",
        "    \"PLANCKS_CONSTANT\": 6.62607015e-34,  # joule seconds (J·s)\n",
        "    \"ELECTRON_MASS\": 9.10938356e-31,  # kilograms (kg)\n",
        "    \"AVOGADRO_NUMBER\": 6.02214076e23  # mol⁻¹\n",
        "}\n",
        "\n",
        "# Accessing values\n",
        "print(\"Speed of Light:\", PHYSICAL_CONSTANTS[\"SPEED_OF_LIGHT\"], \"m/s\")\n",
        "print(\"Planck Constant:\", PHYSICAL_CONSTANTS[\"PLANCKS_CONSTANT\"], \"Js\")"
      ],
      "metadata": {
        "id": "hqUEmjk0hR8V"
      },
      "execution_count": null,
      "outputs": []
    },
    {
      "cell_type": "code",
      "source": [
        "# Example 2: Storing properties of a planet\n",
        "planet_properties = {\n",
        "    \"Earth\": {\n",
        "        \"mass\": 5.972e24,  # kg\n",
        "        \"radius\": 6371e3,  # meters\n",
        "        \"gravity\": 9.81  # m/s²\n",
        "    },\n",
        "    \"Mars\": {\n",
        "        \"mass\": 6.4171e23,  # kg\n",
        "        \"radius\": 3389.5e3,  # meters\n",
        "        \"gravity\": 3.71  # m/s²\n",
        "    }\n",
        "}\n",
        "\n",
        "# Accessing nested dictionary values\n",
        "print(\"Earth's Mass:\", planet_properties[\"Earth\"][\"mass\"], \"kg\")\n",
        "print(\"Mars' Gravity:\", planet_properties[\"Mars\"][\"gravity\"], \"m/s²\")"
      ],
      "metadata": {
        "id": "R8x91GUahXxp"
      },
      "execution_count": null,
      "outputs": []
    },
    {
      "cell_type": "code",
      "source": [
        "# Example 3: Updating a dictionary with new data\n",
        "planet_properties[\"Jupiter\"] = {\n",
        "    \"mass\": 1.898e27,  # kg\n",
        "    \"radius\": 69911e3,  # meters\n",
        "    \"gravity\": 24.79  # m/s²\n",
        "}\n",
        "\n",
        "print(\"Added Jupiter to Planet Properties:\")\n",
        "print(planet_properties[\"Jupiter\"])"
      ],
      "metadata": {
        "id": "SSrra9gFhb_k"
      },
      "execution_count": null,
      "outputs": []
    },
    {
      "cell_type": "markdown",
      "source": [
        "## Libraries\n",
        "\n",
        "Most often we need special *libraries* that help us in solving specific coding problems, e.g.:\n",
        "\n",
        "- numpy for numerical calculations\n",
        "- matplotlib for plotting\n",
        "- scipy for scientific functions\n",
        "\n",
        "we should always import libraries at the beginning of our notebook!\n",
        "\n",
        "We can use them by importing them with the `import` statement and defining a way how to address them:"
      ],
      "metadata": {
        "id": "OdcUw-FGLukn"
      }
    },
    {
      "cell_type": "code",
      "source": [
        "import numpy as np\n",
        "import matplotlib.pyplot as plt\n",
        "from scipy.special import factorial\n",
        "from scipy.special import factorial as fac"
      ],
      "metadata": {
        "id": "168tYdVsL17K"
      },
      "execution_count": null,
      "outputs": []
    },
    {
      "cell_type": "markdown",
      "source": [
        "- `import` specifies the library\n",
        "- `as` let us choose a name so we can address the functions in the library.\n",
        "- `from` let us choose specific functions inside the library"
      ],
      "metadata": {
        "id": "koJ5QRMeMrtr"
      }
    },
    {
      "cell_type": "code",
      "source": [
        "np.pi"
      ],
      "metadata": {
        "id": "rCv_oXFCOPjC"
      },
      "execution_count": null,
      "outputs": []
    },
    {
      "cell_type": "code",
      "source": [
        "np.cos(np.pi)"
      ],
      "metadata": {
        "id": "vSXXKjMTOTG0"
      },
      "execution_count": null,
      "outputs": []
    },
    {
      "cell_type": "code",
      "source": [
        "plt.plot(np.arange(0,4*np.pi,0.1),np.cos(np.arange(0,4*np.pi,0.1)))"
      ],
      "metadata": {
        "id": "kmCNUK4fOXhH"
      },
      "execution_count": null,
      "outputs": []
    },
    {
      "cell_type": "code",
      "source": [
        "factorial(10)"
      ],
      "metadata": {
        "id": "DrqQWbv4Nj_o"
      },
      "execution_count": null,
      "outputs": []
    },
    {
      "cell_type": "code",
      "source": [
        "fac(10)"
      ],
      "metadata": {
        "id": "N9vpkQJcR5zl"
      },
      "execution_count": null,
      "outputs": []
    },
    {
      "cell_type": "code",
      "source": [
        "np.math.factorial(10)"
      ],
      "metadata": {
        "id": "re-hC3UbNrdH"
      },
      "execution_count": null,
      "outputs": []
    },
    {
      "cell_type": "markdown",
      "source": [
        "## Vector functions\n",
        "\n",
        "In physics it's very common to work on vectors. We can use a list for a vector:"
      ],
      "metadata": {
        "id": "n0fxFLyhOMPx"
      }
    },
    {
      "cell_type": "code",
      "source": [
        "x = [1,2,3]\n",
        "x"
      ],
      "metadata": {
        "id": "dOOvfnV1PyfT"
      },
      "execution_count": null,
      "outputs": []
    },
    {
      "cell_type": "markdown",
      "source": [
        "However it is usually much faster and more convenient to use a numpy *Data Type* for the same purpose:"
      ],
      "metadata": {
        "id": "Q1EwwJK4P2-O"
      }
    },
    {
      "cell_type": "code",
      "source": [
        "x = np.array(x)\n",
        "x"
      ],
      "metadata": {
        "id": "OlgAbK45QAx5"
      },
      "execution_count": null,
      "outputs": []
    },
    {
      "cell_type": "markdown",
      "source": [
        "We can do most simple vector operations with the built-in operators:"
      ],
      "metadata": {
        "id": "JLy8M1CEQNuU"
      }
    },
    {
      "cell_type": "code",
      "source": [
        "x*5"
      ],
      "metadata": {
        "id": "nbD9pTjrQFmC"
      },
      "execution_count": null,
      "outputs": []
    },
    {
      "cell_type": "code",
      "source": [
        "x+5"
      ],
      "metadata": {
        "id": "Jz4HRngJQMVK"
      },
      "execution_count": null,
      "outputs": []
    },
    {
      "cell_type": "code",
      "source": [
        "x*x"
      ],
      "metadata": {
        "id": "MPfNAVNKQXpF"
      },
      "execution_count": null,
      "outputs": []
    },
    {
      "cell_type": "markdown",
      "source": [
        "however it is usually better readable to use the *numpy* vector functions:"
      ],
      "metadata": {
        "id": "h2wnqKbBQZKh"
      }
    },
    {
      "cell_type": "code",
      "source": [
        "np.dot(x,x)"
      ],
      "metadata": {
        "id": "ys34VQAzQlYP"
      },
      "execution_count": null,
      "outputs": []
    },
    {
      "cell_type": "code",
      "source": [
        "np.cross(x,x)"
      ],
      "metadata": {
        "id": "quDjgNgGQo3B"
      },
      "execution_count": null,
      "outputs": []
    },
    {
      "cell_type": "code",
      "source": [
        "np.outer(x,x.T)"
      ],
      "metadata": {
        "id": "MXG5d26uQsra"
      },
      "execution_count": null,
      "outputs": []
    },
    {
      "cell_type": "markdown",
      "source": [
        "In python we can generate little functions or operators using a special construction from *functional programming* called a **lambda** function:"
      ],
      "metadata": {
        "id": "7MlYdMzgQ_8o"
      }
    },
    {
      "cell_type": "code",
      "source": [
        "(lambda x: x + 5)(5)"
      ],
      "metadata": {
        "id": "dnwfeJsMTVNf"
      },
      "execution_count": null,
      "outputs": []
    },
    {
      "cell_type": "markdown",
      "source": [
        "For convenience we can also assign this function to a kind of variable:"
      ],
      "metadata": {
        "id": "ZqyzpfcZTbyK"
      }
    },
    {
      "cell_type": "code",
      "source": [
        "x5 = lambda x: x + 5\n",
        "x5(5)"
      ],
      "metadata": {
        "id": "oTf80bj3Tt41"
      },
      "execution_count": null,
      "outputs": []
    },
    {
      "cell_type": "markdown",
      "source": [
        "This is actually very similar to physics where we also define little functions using special notiation:\n",
        "$$ \\frac{\\mathrm d}{\\mathrm d x}x^2$$"
      ],
      "metadata": {
        "id": "Ma-JejNsTxKQ"
      }
    },
    {
      "cell_type": "code",
      "source": [
        "x = np.arange(0,10)\n",
        "y = x\n",
        "dx = lambda x: np.diff(x)\n",
        "dx(y)"
      ],
      "metadata": {
        "id": "Yo2ZGk9NUDQU"
      },
      "execution_count": null,
      "outputs": []
    },
    {
      "cell_type": "code",
      "source": [
        "plt.plot(x,y)\n",
        "plt.plot(x[:-1],dx(y))"
      ],
      "metadata": {
        "id": "WJRGkQRzUNR-"
      },
      "execution_count": null,
      "outputs": []
    },
    {
      "cell_type": "code",
      "source": [
        "z = np.arange(0,10)\n",
        "y = z**2\n",
        "dx = lambda x: np.diff(x)\n",
        "dx(y)"
      ],
      "metadata": {
        "id": "WgzfB6tcUfZr"
      },
      "execution_count": null,
      "outputs": []
    },
    {
      "cell_type": "code",
      "source": [
        "plt.plot(x,y)\n",
        "plt.plot(x[:-1],dx(y))"
      ],
      "metadata": {
        "id": "I08vhklkUx2T"
      },
      "execution_count": null,
      "outputs": []
    },
    {
      "cell_type": "code",
      "source": [
        "# Vector addition using map and zip\n",
        "vector_add = lambda v1, v2: list(map(sum, zip(v1, v2)))\n",
        "\n",
        "velocity1 = [3, 4, 0]  # 3 m/s in x, 4 m/s in y, 0 m/s in z\n",
        "velocity2 = [0, -7, 3]  # 0 m/s in x, -7 m/s in y, 3 m/s in z\n",
        "\n",
        "result_vector = vector_add(velocity1, velocity2)\n",
        "print(\"Velocity 1 + Velocity 2: {}\".format(result_vector))"
      ],
      "metadata": {
        "id": "8bmtaAzuYDbP"
      },
      "execution_count": null,
      "outputs": []
    },
    {
      "cell_type": "markdown",
      "source": [
        "## Special constructs\n",
        "\n",
        "- if\n",
        "- for\n",
        "- is\n",
        "- not\n",
        "- try\n",
        "- with\n",
        "- input\n"
      ],
      "metadata": {
        "id": "C5FAmdc3no6Q"
      }
    },
    {
      "cell_type": "code",
      "source": [
        "velocity = 12000  # m/s\n",
        "escape_velocity = 11186  # Earth's escape velocity in m/s\n",
        "\n",
        "if velocity >= escape_velocity:\n",
        "    print(\"The object has reached escape velocity!\")\n",
        "else:\n",
        "    print(\"The object is still bound to Earth.\")"
      ],
      "metadata": {
        "id": "tX6vG99NsgPm"
      },
      "execution_count": null,
      "outputs": []
    },
    {
      "cell_type": "code",
      "source": [
        "g = 9.8  # Acceleration due to gravity (m/s²)\n",
        "v0 = 0  # Initial velocity (m/s)\n",
        "time_intervals = range(0, 6)  # 0 to 5 seconds\n",
        "\n",
        "for t in time_intervals:\n",
        "    displacement = v0 * t + 0.5 * g * t**2\n",
        "    print(\"At t={}s, displacement = {:.2f} m\".format(t,displacement))"
      ],
      "metadata": {
        "id": "1Mj2xfixsg5k"
      },
      "execution_count": null,
      "outputs": []
    },
    {
      "cell_type": "code",
      "source": [
        "force1 = [100]  # Force in Newtons\n",
        "force2 = force1  # Assign the same reference\n",
        "\n",
        "if force1 is force2:\n",
        "    print(\"Both variables point to the same force measurement.\")"
      ],
      "metadata": {
        "id": "-icQnuCKsjjX"
      },
      "execution_count": null,
      "outputs": []
    },
    {
      "cell_type": "code",
      "source": [
        "current = False\n",
        "\n",
        "if not current:\n",
        "    print(\"No current is flowing in the circuit.\")"
      ],
      "metadata": {
        "id": "RdOEG5COsmHI"
      },
      "execution_count": null,
      "outputs": []
    },
    {
      "cell_type": "code",
      "source": [
        "SPEED_OF_LIGHT = 3e8\n",
        "lorentz_factor = lambda velocity: 1 / (1 - (velocity**2 / SPEED_OF_LIGHT**2))**0.5\n",
        "try:\n",
        "    lorentz_factor(SPEED_OF_LIGHT)\n",
        "except ZeroDivisionError:\n",
        "    print(\"Error: Velocity cannot be equal to the speed of light!\")\n",
        "finally:\n",
        "    print(\"I have done my task\")\n"
      ],
      "metadata": {
        "id": "AflxtmGusrkG"
      },
      "execution_count": null,
      "outputs": []
    },
    {
      "cell_type": "code",
      "source": [
        "experiment = \"Measuring the temperature of a piece of copper over a bunsen burner for 10 minutes\"\n",
        "times = np.arange(0,11)\n",
        "temperatures = np.linspace(300,440,11)\n",
        "with open(\"experiment_data.txt\", \"w\") as file:\n",
        "    file.writelines(experiment)\n",
        "    for time,temperature in zip(times,temperatures):\n",
        "        file.writelines(\"{}min, {}K\\n\".format(time,temperature))\n"
      ],
      "metadata": {
        "id": "6KWattMJswtA"
      },
      "execution_count": null,
      "outputs": []
    },
    {
      "cell_type": "code",
      "source": [
        "scientist = input(\"What is the name of your favorite physicist? \")\n",
        "print(\"Your favorite physicist is {}\".format(scientist))"
      ],
      "metadata": {
        "id": "9_A_2qmUc1fO"
      },
      "execution_count": null,
      "outputs": []
    },
    {
      "cell_type": "markdown",
      "source": [
        "#### map, filter, reduce\n",
        "we can also use special functions that helps us in applying functions to calculations:"
      ],
      "metadata": {
        "id": "LeXXY666tVvX"
      }
    },
    {
      "cell_type": "code",
      "source": [
        " velocities_ms = [5, 10, 15, 20, 25]  # velocities in m/s\n",
        "\n",
        "# Convert m/s to km/h using list comprehension\n",
        "velocities_kmh = [v * 3.6 for v in velocities_ms]\n",
        "\n",
        "print(\"Velocities in km/h:\", velocities_kmh)\n"
      ],
      "metadata": {
        "id": "ANYlGY53aF_4"
      },
      "execution_count": null,
      "outputs": []
    },
    {
      "cell_type": "code",
      "source": [
        "from functools import reduce\n",
        "# Vector addition and scalar multiplication\n",
        "vector_add = lambda v1, v2: list(map(sum, zip(v1, v2)))\n",
        "scalar_mult = lambda s, v: [s * component for component in v]\n",
        "\n",
        "# Initial conditions\n",
        "initial_velocity = [3, 4, 0]  # 3 m/s in x, 4 m/s in y\n",
        "acceleration = [0, -9.8, 0]  # Gravitational acceleration (m/s^2)\n",
        "time = 2  # Time interval of 2 seconds\n",
        "\n",
        "# Calculate change in velocity\n",
        "velocity_change = scalar_mult(time, acceleration)\n",
        "\n",
        "# Calculate final velocity\n",
        "final_velocity = vector_add(initial_velocity, velocity_change)\n",
        "\n",
        "print(f\"Initial velocity: {initial_velocity} m/s\")\n",
        "print(f\"Acceleration: {acceleration} m/s^2\")\n",
        "print(f\"Time interval: {time} s\")\n",
        "print(f\"Final velocity: {final_velocity} m/s\")\n",
        "\n",
        "# Vector magnitude using reduce\n",
        "from functools import reduce\n",
        "vector_magnitude = lambda vector: (reduce(lambda sum, component: sum + component**2, vector, 0)) ** 0.5\n",
        "\n",
        "print(f\"Magnitude of final velocity: {vector_magnitude(final_velocity):.2f} m/s\")\n"
      ],
      "metadata": {
        "id": "JxVnti0tYPYx"
      },
      "execution_count": null,
      "outputs": []
    },
    {
      "cell_type": "code",
      "source": [
        "from functools import partial\n",
        "\n",
        "# Kinetic energy function\n",
        "kinetic_energy = lambda mass, velocity: 0.5 * mass * velocity**2\n",
        "\n",
        "# Partial function for a 1kg object\n",
        "ke_1kg = partial(kinetic_energy, 1)\n",
        "\n",
        "velocities = [1, 2, 3, 4, 5]  # m/s\n",
        "energies = list(map(ke_1kg, velocities))\n",
        "\n",
        "print(\"Kinetic Energies:\")\n",
        "for v, e in zip(velocities, energies):\n",
        "    print(f\"v = {v} m/s: KE = {e} J\")\n"
      ],
      "metadata": {
        "id": "SEsG8P38XgRn"
      },
      "execution_count": null,
      "outputs": []
    },
    {
      "cell_type": "code",
      "source": [
        "# Filter particles with energy > 5 J\n",
        "high_energy_particles = list(filter(lambda e: e > 5, energies))\n",
        "print(f\"High energy particles: {high_energy_particles}\")\n"
      ],
      "metadata": {
        "id": "cI1EJDipXm_X"
      },
      "execution_count": null,
      "outputs": []
    },
    {
      "cell_type": "code",
      "source": [
        "from functools import reduce\n",
        "\n",
        "forces = [10, 15, 20, 25, 30]  # N\n",
        "displacements = [0.1, 0.2, 0.15, 0.1, 0.05]  # m\n",
        "\n",
        "total_work = reduce(lambda total, force_disp: total + force_disp[0] * force_disp[1],\n",
        "                    zip(forces, displacements), 0)\n",
        "\n",
        "print(f\"Total work done: {total_work} J\")\n"
      ],
      "metadata": {
        "id": "sCW9CLrXXxeb"
      },
      "execution_count": null,
      "outputs": []
    },
    {
      "cell_type": "markdown",
      "source": [
        "## Functions / Classes"
      ],
      "metadata": {
        "id": "e4XYAC5a4EIR"
      }
    },
    {
      "cell_type": "markdown",
      "source": [
        "To define our own function we can use the `def` keyword:"
      ],
      "metadata": {
        "id": "0t1c_xzA4S9h"
      }
    },
    {
      "cell_type": "code",
      "source": [
        "def MyFirstFunction():\n",
        "    print(\"Hello\")"
      ],
      "metadata": {
        "id": "qM_CR_ek4ZeL"
      },
      "execution_count": null,
      "outputs": []
    },
    {
      "cell_type": "markdown",
      "source": [
        "We can call the function in using the function name and round brackets.\n",
        "\n",
        "The naming convention is the same as for variables."
      ],
      "metadata": {
        "id": "C1prrlg_4k2e"
      }
    },
    {
      "cell_type": "code",
      "source": [
        "MyFirstFunction()"
      ],
      "metadata": {
        "id": "qtHgEdTu4gun"
      },
      "execution_count": null,
      "outputs": []
    },
    {
      "cell_type": "markdown",
      "source": [
        "We can add arguments (in roud brackets) and return values to our function:"
      ],
      "metadata": {
        "id": "aOrwV3wL4jnR"
      }
    },
    {
      "cell_type": "code",
      "source": [
        "def my_second_function(output):\n",
        "    return output"
      ],
      "metadata": {
        "id": "xUOlqsQy4_Pp"
      },
      "execution_count": null,
      "outputs": []
    },
    {
      "cell_type": "code",
      "source": [
        "my_second_function(\"Hello\")"
      ],
      "metadata": {
        "id": "EWMljsUD5JS-"
      },
      "execution_count": null,
      "outputs": []
    },
    {
      "cell_type": "code",
      "source": [
        "my_second_function(42)"
      ],
      "metadata": {
        "id": "Q9mG9unz5MGv"
      },
      "execution_count": null,
      "outputs": []
    },
    {
      "cell_type": "markdown",
      "source": [
        "We can also nest functions and use functions as arguments and return values"
      ],
      "metadata": {
        "id": "JIckfHbq5OWt"
      }
    },
    {
      "cell_type": "code",
      "source": [
        "def parent_function(output):\n",
        "    def child_function(output2):\n",
        "        return \"child: {}\".format(output2)\n",
        "    return \"parent: {}\".format(child_function(output))"
      ],
      "metadata": {
        "id": "dqfQ_4Hv5YUQ"
      },
      "execution_count": null,
      "outputs": []
    },
    {
      "cell_type": "code",
      "source": [
        "parent_function(\"Hello\")"
      ],
      "metadata": {
        "id": "1jNlD8jZ563s"
      },
      "execution_count": null,
      "outputs": []
    },
    {
      "cell_type": "code",
      "source": [
        "parent_function(my_second_function(42))"
      ],
      "metadata": {
        "id": "zcLV0LXg59gQ"
      },
      "execution_count": null,
      "outputs": []
    },
    {
      "cell_type": "code",
      "source": [
        "# give only even numbers using functions\n",
        "def is_even(x):\n",
        "    return x % 2 == 0\n",
        "[x for x in range(10) if is_even(x)]"
      ],
      "metadata": {
        "id": "bD8DHu4K6Vwo"
      },
      "execution_count": null,
      "outputs": []
    },
    {
      "cell_type": "markdown",
      "source": [
        "#### Classes\n",
        "classes and objects are part of a programming style called object oriented programming. While you will see a lot of python code using it, I discourage its use in the beginning because it often makes less readable code.\n",
        "\n",
        "Classes names should be Capitalized.\n",
        "\n",
        "The general idea is to generate a desciptive class of a general item, like in the example below a ball. This item is then instantiated as a real object (e.g. `red_ball` of a specific mass, position and velocity\n",
        ") when the calculations are performed. The ball class can have also functions to update its properties or calculate properties (energy). Ball properties (variables) are indicated with the `self` keyword:"
      ],
      "metadata": {
        "id": "kPE0G_Oovrtq"
      }
    },
    {
      "cell_type": "code",
      "source": [
        "import numpy as np\n",
        "\n",
        "class Ball:\n",
        "    \"\"\"\n",
        "    A class representing a ball in a physics simulation.\n",
        "\n",
        "    Attributes:\n",
        "        mass: The mass of the ball.\n",
        "        position: The position vector of the ball.\n",
        "        velocity: The velocity vector of the ball.\n",
        "    \"\"\"\n",
        "\n",
        "    def __init__(self, mass, position, velocity):\n",
        "        \"\"\"\n",
        "        Initialize a Ball object with mass, position, and velocity.\n",
        "\n",
        "        Args:\n",
        "            mass: The mass of the ball.\n",
        "            position: Initial position of the ball [x, y].\n",
        "            velocity: Initial velocity of the ball [vx, vy].\n",
        "        \"\"\"\n",
        "        self.mass = mass\n",
        "        self.position = np.array(position)\n",
        "        self.velocity = np.array(velocity)\n",
        "\n",
        "    def update(self, dt, gravity):\n",
        "        \"\"\"\n",
        "        Update the ball's position and velocity based on time step and gravity.\n",
        "\n",
        "        Args:\n",
        "            dt: Time step for the update.\n",
        "            gravity: Gravity vector [gx, gy].\n",
        "        \"\"\"\n",
        "        self.velocity = self.velocity+np.array(gravity) * dt\n",
        "        self.position = self.position+self.velocity * dt\n",
        "\n",
        "    def potential_energy(self, gravity):\n",
        "        \"\"\"\n",
        "        Calculate and return the potential energy of the ball based on gravity.\n",
        "\n",
        "        Args:\n",
        "            gravity: Gravity vector [gx, gy].\n",
        "\n",
        "        Returns:\n",
        "            The potential energy of the ball.\n",
        "        \"\"\"\n",
        "        return self.mass * abs(gravity[1]) * self.position[1]\n"
      ],
      "metadata": {
        "id": "-dUZ5EKwdBXc"
      },
      "execution_count": null,
      "outputs": []
    },
    {
      "cell_type": "code",
      "source": [
        "# Create a red ball\n",
        "red_ball = Ball(mass=1, position=[0, 10], velocity=[5, 0])"
      ],
      "metadata": {
        "id": "XvYTB3vZzdJK"
      },
      "execution_count": null,
      "outputs": []
    },
    {
      "cell_type": "code",
      "source": [
        "red_ball.position"
      ],
      "metadata": {
        "id": "HiS4R8U5zitM"
      },
      "execution_count": null,
      "outputs": []
    },
    {
      "cell_type": "code",
      "source": [
        "gravity = [0, -9.8]\n",
        "red_ball.potential_energy(gravity)"
      ],
      "metadata": {
        "id": "_IP0mWtS0dE4"
      },
      "execution_count": null,
      "outputs": []
    },
    {
      "cell_type": "code",
      "source": [
        "red_ball.update(dt=1, gravity=gravity)\n",
        "red_ball.position"
      ],
      "metadata": {
        "id": "PbSf6dS8wKLP"
      },
      "execution_count": null,
      "outputs": []
    },
    {
      "cell_type": "code",
      "source": [
        "blue_ball = Ball(mass=1, position=[0, 100], velocity=[5, 0])\n",
        "for i in range(5):\n",
        "    blue_ball.update(dt=1, gravity=gravity)\n",
        "    print(\"position: {}, velocity: {}\".format(blue_ball.position,blue_ball.velocity))"
      ],
      "metadata": {
        "id": "x3-jHDsDz31q"
      },
      "execution_count": null,
      "outputs": []
    }
  ]
}