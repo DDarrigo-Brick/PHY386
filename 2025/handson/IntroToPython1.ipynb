{
  "cells": [
    {
      "cell_type": "markdown",
      "metadata": {
        "id": "view-in-github",
        "colab_type": "text"
      },
      "source": [
        "<a href=\"https://colab.research.google.com/github/ubsuny/PHY386/blob/main/2025/handson/IntroToPython1.ipynb\" target=\"_parent\"><img src=\"https://colab.research.google.com/assets/colab-badge.svg\" alt=\"Open In Colab\"/></a>"
      ]
    },
    {
      "cell_type": "markdown",
      "id": "73205290",
      "metadata": {
        "id": "73205290"
      },
      "source": [
        "# Introduction to Python 1\n",
        "Tim Thomay (thomay@buffalo.edu)"
      ]
    },
    {
      "cell_type": "markdown",
      "id": "b9715b0f",
      "metadata": {
        "id": "b9715b0f"
      },
      "source": [
        "Basic Python properties:\n",
        "- Variables\n",
        "- Operators\n",
        "- Functions / Methods"
      ]
    },
    {
      "cell_type": "markdown",
      "id": "c8a7ce89",
      "metadata": {
        "id": "c8a7ce89"
      },
      "source": [
        "## Variables\n",
        "\n",
        "To be able to store the numbers and other data types such as characters and strings we must define variables using the \"=\" sign:"
      ]
    },
    {
      "cell_type": "code",
      "execution_count": null,
      "id": "0fea30f7",
      "metadata": {
        "execution": {
          "iopub.execute_input": "2025-01-16T18:33:17.888510Z",
          "iopub.status.busy": "2025-01-16T18:33:17.888220Z",
          "iopub.status.idle": "2025-01-16T18:33:17.891377Z",
          "shell.execute_reply": "2025-01-16T18:33:17.890904Z"
        },
        "id": "0fea30f7"
      },
      "outputs": [],
      "source": [
        "x = 7"
      ]
    },
    {
      "cell_type": "markdown",
      "id": "fde0c690",
      "metadata": {
        "id": "fde0c690"
      },
      "source": [
        "Our variables name is defined on the left of the `=` sign and the value its given is defined on the right. Variables can  be used in other expressions.  \n",
        "\n",
        "In some Jupyter environments such as google colab there is a *Variables explorer on the left side: *{x}*"
      ]
    },
    {
      "cell_type": "code",
      "source": [
        "X = 10"
      ],
      "metadata": {
        "id": "nT5YAq_4316O"
      },
      "id": "nT5YAq_4316O",
      "execution_count": null,
      "outputs": []
    },
    {
      "cell_type": "markdown",
      "source": [
        "`x` and `X` are different variables. In general it useful to use descriptive names for variable, e.g.:"
      ],
      "metadata": {
        "id": "dnKBfWjb396W"
      },
      "id": "dnKBfWjb396W"
    },
    {
      "cell_type": "code",
      "source": [
        "mass = 10"
      ],
      "metadata": {
        "id": "HKofIN5l4I3Q"
      },
      "id": "HKofIN5l4I3Q",
      "execution_count": null,
      "outputs": []
    },
    {
      "cell_type": "markdown",
      "source": [
        "Variables are variable that means they are meant to be changed. In contrast CONSTANTS are meant to stay the same. While there is no technical difference in python between them it is useful to use the convention that CONSTANTS are capitalized:"
      ],
      "metadata": {
        "id": "ZzCYgE6z4WjK"
      },
      "id": "ZzCYgE6z4WjK"
    },
    {
      "cell_type": "code",
      "source": [
        "SPEED_OF_LIGHT = 2.99792458e8\n",
        "energy = mass * SPEED_OF_LIGHT**2\n",
        "energy"
      ],
      "metadata": {
        "id": "aHYOLB1X4qKR"
      },
      "id": "aHYOLB1X4qKR",
      "execution_count": null,
      "outputs": []
    },
    {
      "cell_type": "code",
      "execution_count": null,
      "id": "de8b1570",
      "metadata": {
        "execution": {
          "iopub.execute_input": "2025-01-16T18:33:17.892739Z",
          "iopub.status.busy": "2025-01-16T18:33:17.892577Z",
          "iopub.status.idle": "2025-01-16T18:33:17.895703Z",
          "shell.execute_reply": "2025-01-16T18:33:17.895305Z"
        },
        "id": "de8b1570"
      },
      "outputs": [],
      "source": [
        "x = 10\n",
        "x = (x**2 + 25) / 10\n",
        "x"
      ]
    },
    {
      "cell_type": "code",
      "source": [
        "x = 1\n",
        "x = x+1\n",
        "x"
      ],
      "metadata": {
        "id": "_kLb1zxeaoB4"
      },
      "id": "_kLb1zxeaoB4",
      "execution_count": null,
      "outputs": []
    },
    {
      "cell_type": "markdown",
      "id": "7e730ee0",
      "metadata": {
        "id": "7e730ee0"
      },
      "source": [
        "This is different than the mathematical equation $10x=x^{2}+25$  which has the solution $x=5$.  Therefore, it is important to remember that the ```=``` sign in a computer program is **not** equivalent to the mathematical equality."
      ]
    },
    {
      "cell_type": "markdown",
      "id": "43905652",
      "metadata": {
        "id": "43905652"
      },
      "source": [
        "What happens if you try to use a variable without first defining it?"
      ]
    },
    {
      "cell_type": "code",
      "source": [
        "y + 10"
      ],
      "metadata": {
        "id": "yQbTS4UQ5ELH"
      },
      "id": "yQbTS4UQ5ELH",
      "execution_count": null,
      "outputs": []
    },
    {
      "cell_type": "markdown",
      "id": "c3d80ef2",
      "metadata": {
        "id": "c3d80ef2"
      },
      "source": [
        "### Some Rules About Variables\n",
        "Python is a programming language that is made to be easy to read. Code is much more often read than written, so **readability** counts!\n",
        "\n",
        "A lot of rules of how to write code it defined in so called *PEPs*. One important one is [**PEP8**](https://peps.python.org/pep-0008/#names-to-avoid)"
      ]
    },
    {
      "cell_type": "markdown",
      "source": [
        "\n",
        "Python gives us an error that the variable is not defined.  \n",
        "\n",
        "In addition, there are several words that are reserved by the Python language and should **NOT** be used as variables:\n",
        "\n",
        "    and, as, assert, break, class, continue, def, del, elif, else, except,\n",
        "    exec, finally, for, from, global, if, import, in, is, lambda, not, or,\n",
        "    pass, print, raise, return, try, while, with, yield\n",
        "    \n",
        "Other than the above reserved words, your variables can be anything that starts with a letter. For the beginning try to avoid having variables start with a underscore character \"$\\_$\".\n",
        "\n",
        "Variables should be descriptive. Avoid too many single letter variables like `x`. In python there are two naming conventions for variables. CamelCase and seperation with underscores:"
      ],
      "metadata": {
        "id": "ReB8CQYe5Gy9"
      },
      "id": "ReB8CQYe5Gy9"
    },
    {
      "cell_type": "code",
      "execution_count": null,
      "id": "95ba5fb7",
      "metadata": {
        "execution": {
          "iopub.execute_input": "2025-01-16T18:33:17.897169Z",
          "iopub.status.busy": "2025-01-16T18:33:17.896850Z",
          "iopub.status.idle": "2025-01-16T18:33:17.900065Z",
          "shell.execute_reply": "2025-01-16T18:33:17.899667Z"
        },
        "id": "95ba5fb7"
      },
      "outputs": [],
      "source": [
        "frequency = 8\n",
        "OscillatorEnergy = 10\n",
        "frequency * OscillatorEnergy"
      ]
    },
    {
      "cell_type": "code",
      "source": [
        "freq = 8\n",
        "oscillator_energy = 10\n",
        "freq * oscillator_energy"
      ],
      "metadata": {
        "id": "rDA78c776vEg"
      },
      "id": "rDA78c776vEg",
      "execution_count": null,
      "outputs": []
    },
    {
      "cell_type": "markdown",
      "id": "63383e0a",
      "metadata": {
        "id": "63383e0a"
      },
      "source": [
        "### Strings"
      ]
    },
    {
      "cell_type": "markdown",
      "id": "2515342b",
      "metadata": {
        "id": "2515342b"
      },
      "source": [
        "Often we want to print some text along with our variables, ask the user for input, or actually use the words and letters themselves as variables.  All of these can be accomplished using **strings**:"
      ]
    },
    {
      "cell_type": "code",
      "execution_count": null,
      "id": "7426502b",
      "metadata": {
        "execution": {
          "iopub.execute_input": "2025-01-16T18:33:17.904748Z",
          "iopub.status.busy": "2025-01-16T18:33:17.904609Z",
          "iopub.status.idle": "2025-01-16T18:33:17.907708Z",
          "shell.execute_reply": "2025-01-16T18:33:17.907250Z"
        },
        "id": "7426502b"
      },
      "outputs": [],
      "source": [
        "\"Hello Class\""
      ]
    },
    {
      "cell_type": "markdown",
      "id": "42ffeee9",
      "metadata": {
        "id": "42ffeee9"
      },
      "source": [
        "We can also use single quotes, e.g. `'Hello Class'`.\n",
        "\n",
        "If we want to use the quote symbol in the string itself then we need to mix the two types"
      ]
    },
    {
      "cell_type": "code",
      "execution_count": null,
      "id": "73f9efe9",
      "metadata": {
        "execution": {
          "iopub.execute_input": "2025-01-16T18:33:17.909221Z",
          "iopub.status.busy": "2025-01-16T18:33:17.908946Z",
          "iopub.status.idle": "2025-01-16T18:33:17.912140Z",
          "shell.execute_reply": "2025-01-16T18:33:17.911662Z"
        },
        "id": "73f9efe9"
      },
      "outputs": [],
      "source": [
        "BirthdayQuestion = \"How was Erwin's birthday party?\""
      ]
    },
    {
      "cell_type": "markdown",
      "source": [
        "In python there is no difference between a single character `a` and a **string** `aaa`. They are treated the same."
      ],
      "metadata": {
        "id": "2v-zA5LE8Yg7"
      },
      "id": "2v-zA5LE8Yg7"
    },
    {
      "cell_type": "code",
      "source": [
        "character = \"I\"\n",
        "characters = \" love physics\"\n",
        "word = character + characters\n",
        "word"
      ],
      "metadata": {
        "id": "DGzFBIqW8iEb"
      },
      "id": "DGzFBIqW8iEb",
      "execution_count": null,
      "outputs": []
    },
    {
      "cell_type": "markdown",
      "id": "c9116f39",
      "metadata": {
        "id": "c9116f39"
      },
      "source": [
        "### Lists"
      ]
    },
    {
      "cell_type": "markdown",
      "id": "209aa907",
      "metadata": {
        "id": "209aa907"
      },
      "source": [
        "Often times we will want to group many variables together into one object.  In Python this is accomplished by using a **```list```**."
      ]
    },
    {
      "cell_type": "code",
      "execution_count": null,
      "id": "43cf6767",
      "metadata": {
        "execution": {
          "iopub.execute_input": "2025-01-16T18:33:17.921831Z",
          "iopub.status.busy": "2025-01-16T18:33:17.921466Z",
          "iopub.status.idle": "2025-01-16T18:33:17.923715Z",
          "shell.execute_reply": "2025-01-16T18:33:17.923349Z"
        },
        "id": "43cf6767"
      },
      "outputs": [],
      "source": [
        "forces = [\"Gravity\", \"Electromagnetic\", \"Weak\", \"Strong\"]"
      ]
    },
    {
      "cell_type": "markdown",
      "id": "88d42cd4",
      "metadata": {
        "id": "88d42cd4"
      },
      "source": [
        "If we want to access a single variable inside of the list, then we need to use the **index** that corresponds to the variable inside of square brackets."
      ]
    },
    {
      "cell_type": "code",
      "execution_count": null,
      "id": "944c0f61",
      "metadata": {
        "execution": {
          "iopub.execute_input": "2025-01-16T18:33:17.925225Z",
          "iopub.status.busy": "2025-01-16T18:33:17.924837Z",
          "iopub.status.idle": "2025-01-16T18:33:17.927972Z",
          "shell.execute_reply": "2025-01-16T18:33:17.927521Z"
        },
        "id": "944c0f61"
      },
      "outputs": [],
      "source": [
        "forces[2]"
      ]
    },
    {
      "cell_type": "markdown",
      "id": "c7b5162e",
      "metadata": {
        "id": "c7b5162e"
      },
      "source": [
        "We see that the \"Weak\" string can be accessed using the index number $2$.  However, we can see that this variable is actually the third string in the list.  This discrepancy is due to the fact that Python (like C-code) considers the first element in a list, or other multivariable data structures, to be at index $0$."
      ]
    },
    {
      "cell_type": "code",
      "execution_count": null,
      "id": "816aec62",
      "metadata": {
        "execution": {
          "iopub.execute_input": "2025-01-16T18:33:17.929529Z",
          "iopub.status.busy": "2025-01-16T18:33:17.929162Z",
          "iopub.status.idle": "2025-01-16T18:33:17.932307Z",
          "shell.execute_reply": "2025-01-16T18:33:17.931837Z"
        },
        "id": "816aec62"
      },
      "outputs": [],
      "source": [
        "forces[0]"
      ]
    },
    {
      "cell_type": "markdown",
      "id": "730e33b0",
      "metadata": {
        "id": "730e33b0"
      },
      "source": [
        "This is important to remember, and will take some getting used to before it becomes natural.  If we want to access the elements of the list from back to front, we can use negative indices"
      ]
    },
    {
      "cell_type": "code",
      "execution_count": null,
      "id": "9ebe1953",
      "metadata": {
        "execution": {
          "iopub.execute_input": "2025-01-16T18:33:17.933688Z",
          "iopub.status.busy": "2025-01-16T18:33:17.933401Z",
          "iopub.status.idle": "2025-01-16T18:33:17.936626Z",
          "shell.execute_reply": "2025-01-16T18:33:17.936264Z"
        },
        "id": "9ebe1953"
      },
      "outputs": [],
      "source": [
        "forces[-1]"
      ]
    },
    {
      "cell_type": "code",
      "execution_count": null,
      "id": "89e957a7",
      "metadata": {
        "execution": {
          "iopub.execute_input": "2025-01-16T18:33:17.938061Z",
          "iopub.status.busy": "2025-01-16T18:33:17.937741Z",
          "iopub.status.idle": "2025-01-16T18:33:17.940848Z",
          "shell.execute_reply": "2025-01-16T18:33:17.940401Z"
        },
        "id": "89e957a7"
      },
      "outputs": [],
      "source": [
        "forces[-2]"
      ]
    },
    {
      "cell_type": "markdown",
      "id": "db29c2f3",
      "metadata": {
        "id": "db29c2f3"
      },
      "source": [
        "If we want to change the list by adding elements, then we can use ```append```:"
      ]
    },
    {
      "cell_type": "code",
      "execution_count": null,
      "id": "021594ac",
      "metadata": {
        "execution": {
          "iopub.execute_input": "2025-01-16T18:33:17.946281Z",
          "iopub.status.busy": "2025-01-16T18:33:17.946126Z",
          "iopub.status.idle": "2025-01-16T18:33:17.949338Z",
          "shell.execute_reply": "2025-01-16T18:33:17.948929Z"
        },
        "id": "021594ac"
      },
      "outputs": [],
      "source": [
        "forces.append(\"Dark\")\n",
        "forces"
      ]
    },
    {
      "cell_type": "markdown",
      "id": "dc2ee102",
      "metadata": {
        "id": "dc2ee102"
      },
      "source": [
        "Note that lists to not have to have the same type of data in each element!  You can mix any data types you want."
      ]
    },
    {
      "cell_type": "code",
      "execution_count": null,
      "id": "8afb5d28",
      "metadata": {
        "execution": {
          "iopub.execute_input": "2025-01-16T18:33:17.955098Z",
          "iopub.status.busy": "2025-01-16T18:33:17.954934Z",
          "iopub.status.idle": "2025-01-16T18:33:17.958221Z",
          "shell.execute_reply": "2025-01-16T18:33:17.957749Z"
        },
        "id": "8afb5d28"
      },
      "outputs": [],
      "source": [
        "physics_things = [9.81, \"Schroedinger\", [-1, -2, -3]]\n",
        "physics_things"
      ]
    },
    {
      "cell_type": "markdown",
      "id": "e2b02b61",
      "metadata": {
        "id": "e2b02b61"
      },
      "source": [
        "All of these elements can be accessed in the usual way"
      ]
    },
    {
      "cell_type": "code",
      "execution_count": null,
      "id": "9d38eab0",
      "metadata": {
        "execution": {
          "iopub.execute_input": "2025-01-16T18:33:17.959705Z",
          "iopub.status.busy": "2025-01-16T18:33:17.959417Z",
          "iopub.status.idle": "2025-01-16T18:33:17.962505Z",
          "shell.execute_reply": "2025-01-16T18:33:17.962037Z"
        },
        "id": "9d38eab0"
      },
      "outputs": [],
      "source": [
        "physics_things[0]"
      ]
    },
    {
      "cell_type": "code",
      "execution_count": null,
      "id": "9734c143",
      "metadata": {
        "execution": {
          "iopub.execute_input": "2025-01-16T18:33:17.963936Z",
          "iopub.status.busy": "2025-01-16T18:33:17.963641Z",
          "iopub.status.idle": "2025-01-16T18:33:17.966736Z",
          "shell.execute_reply": "2025-01-16T18:33:17.966339Z"
        },
        "id": "9734c143"
      },
      "outputs": [],
      "source": [
        "physics_things[-2]"
      ]
    },
    {
      "cell_type": "code",
      "execution_count": null,
      "id": "62975a23",
      "metadata": {
        "execution": {
          "iopub.execute_input": "2025-01-16T18:33:17.967976Z",
          "iopub.status.busy": "2025-01-16T18:33:17.967834Z",
          "iopub.status.idle": "2025-01-16T18:33:17.970897Z",
          "shell.execute_reply": "2025-01-16T18:33:17.970441Z"
        },
        "id": "62975a23"
      },
      "outputs": [],
      "source": [
        "physics_things[-1][1]"
      ]
    },
    {
      "cell_type": "markdown",
      "id": "808dd952",
      "metadata": {
        "id": "808dd952"
      },
      "source": [
        "#### Slicing Lists"
      ]
    },
    {
      "cell_type": "markdown",
      "id": "8694b87f",
      "metadata": {
        "id": "8694b87f"
      },
      "source": [
        "If we want to grab certain elements from a list we can make use of **slicing** to conveniently access the elements.  Slicing can be used on any **sequence** such as lists, strings:"
      ]
    },
    {
      "cell_type": "markdown",
      "id": "16b5acf6",
      "metadata": {
        "id": "16b5acf6"
      },
      "source": [
        "To get the first element we used a single index"
      ]
    },
    {
      "cell_type": "code",
      "source": [
        "forces[0]"
      ],
      "metadata": {
        "id": "tU9t02EDfIU-"
      },
      "id": "tU9t02EDfIU-",
      "execution_count": null,
      "outputs": []
    },
    {
      "cell_type": "markdown",
      "id": "c9a6f3a8",
      "metadata": {
        "id": "c9a6f3a8"
      },
      "source": [
        "But if we want to get the first three elements in the list we can use:"
      ]
    },
    {
      "cell_type": "code",
      "source": [
        "forces[0:3]"
      ],
      "metadata": {
        "id": "lv_4pX6lfO9m"
      },
      "id": "lv_4pX6lfO9m",
      "execution_count": null,
      "outputs": []
    },
    {
      "cell_type": "code",
      "source": [
        "forces[:3]"
      ],
      "metadata": {
        "id": "nzjrUuXLfSVm"
      },
      "id": "nzjrUuXLfSVm",
      "execution_count": null,
      "outputs": []
    },
    {
      "cell_type": "markdown",
      "id": "252f2e83",
      "metadata": {
        "id": "252f2e83"
      },
      "source": [
        "We could also grab the last two elements using:"
      ]
    },
    {
      "cell_type": "code",
      "source": [
        "forces[-2:]"
      ],
      "metadata": {
        "id": "XOZnXD7Dfp-5"
      },
      "id": "XOZnXD7Dfp-5",
      "execution_count": null,
      "outputs": []
    },
    {
      "cell_type": "markdown",
      "id": "472602aa",
      "metadata": {
        "id": "472602aa"
      },
      "source": [
        "Works on **strings** as well:"
      ]
    },
    {
      "cell_type": "code",
      "source": [
        "\"Dark Matter\"[0:4]"
      ],
      "metadata": {
        "id": "pIRwDzA9ezq5"
      },
      "id": "pIRwDzA9ezq5",
      "execution_count": null,
      "outputs": []
    },
    {
      "cell_type": "code",
      "source": [
        "\"Dark Matter\"[-6:]"
      ],
      "metadata": {
        "id": "cZipGD-4e65T"
      },
      "id": "cZipGD-4e65T",
      "execution_count": null,
      "outputs": []
    },
    {
      "cell_type": "markdown",
      "source": [
        "We can get even more complex and grab all of the even number elements by using a third argument in the brackets that tells use the step size:"
      ],
      "metadata": {
        "id": "uXkkQvNnf8lD"
      },
      "id": "uXkkQvNnf8lD"
    },
    {
      "cell_type": "code",
      "source": [
        "\"Dark Matter\"[1::2]"
      ],
      "metadata": {
        "id": "m-fUL0VEgBcH"
      },
      "id": "m-fUL0VEgBcH",
      "execution_count": null,
      "outputs": []
    },
    {
      "cell_type": "code",
      "source": [
        "\"Dark Matter\"[::-1]"
      ],
      "metadata": {
        "id": "P6yEsABvggGx"
      },
      "id": "P6yEsABvggGx",
      "execution_count": null,
      "outputs": []
    },
    {
      "cell_type": "markdown",
      "source": [
        "## Operators\n",
        "\n",
        "Python has a coulpe of built-in operators such as `+`,`**`, and `//` that let us do operations on numbers and strings."
      ],
      "metadata": {
        "id": "tpSZinW3ImY-"
      },
      "id": "tpSZinW3ImY-"
    },
    {
      "cell_type": "code",
      "source": [
        "# Addition, multiplication: Total energy (kinetic + potential)\n",
        "m, g, h, v = 2, 9.8, 5, 3\n",
        "m*g*h + 0.5*m*v**2"
      ],
      "metadata": {
        "id": "6mo1hKkKI8Lg"
      },
      "id": "6mo1hKkKI8Lg",
      "execution_count": null,
      "outputs": []
    },
    {
      "cell_type": "code",
      "source": [
        "# Concatenation: Combining two wave signals strings\n",
        "\"sin(wt)\" + \" + cos(wt)\""
      ],
      "metadata": {
        "id": "tkR6x83SJOAh"
      },
      "id": "tkR6x83SJOAh",
      "execution_count": null,
      "outputs": []
    },
    {
      "cell_type": "code",
      "source": [
        "\"a\"*6"
      ],
      "metadata": {
        "id": "1PS07J9UhtHU"
      },
      "id": "1PS07J9UhtHU",
      "execution_count": null,
      "outputs": []
    },
    {
      "cell_type": "code",
      "source": [
        "# Containment Test: Checking if an element is in a list of fudamental forces\n",
        "\"Gravity\" in [\"Gravity\", \"Electromagnetic\", \"Weak\", \"Strong\"]"
      ],
      "metadata": {
        "id": "gkBYRBlqKb6j"
      },
      "id": "gkBYRBlqKb6j",
      "execution_count": null,
      "outputs": []
    },
    {
      "cell_type": "markdown",
      "source": [
        "## Functions and Methods\n",
        "\n",
        "For most cases functions and methods can be treated the same in python. Both describe a functionality that helps us to compute somthing.\n"
      ],
      "metadata": {
        "id": "Mt9liEf8BMWW"
      },
      "id": "Mt9liEf8BMWW"
    },
    {
      "cell_type": "markdown",
      "source": [
        "\n",
        "### Built-in functions\n",
        "\n",
        "Python has a set of [built-in python functions](https://docs.python.org/3/library/functions.html).\n",
        "\n",
        "We look at a couple of examples in the following *code cell*"
      ],
      "metadata": {
        "id": "_7CY2TF321XH"
      },
      "id": "_7CY2TF321XH"
    },
    {
      "cell_type": "code",
      "source": [
        "# This gives us a range of integers between 1 and 10\n",
        "range(1,10)"
      ],
      "metadata": {
        "id": "ztOcQS8LB-9d"
      },
      "id": "ztOcQS8LB-9d",
      "execution_count": null,
      "outputs": []
    },
    {
      "cell_type": "code",
      "source": [
        "# In python integers usually start at \"0\" if no parameters are given\n",
        "range(10)"
      ],
      "metadata": {
        "id": "BXvRxYIfCTyF"
      },
      "id": "BXvRxYIfCTyF",
      "execution_count": null,
      "outputs": []
    },
    {
      "cell_type": "markdown",
      "source": [
        "As you can see that specifying a `range` does not actually give us the numbers in the range but a `range` by itself. This is a concept from *functional programming* and called **lazy evaluation**. It helps us to make the code more human readable and also helps the computer to save memory. To actually get a list of the numbers in the `range` we have to ask python to do so:"
      ],
      "metadata": {
        "id": "kSMbgcziC3bB"
      },
      "id": "kSMbgcziC3bB"
    },
    {
      "cell_type": "code",
      "source": [
        "list(range(10))"
      ],
      "metadata": {
        "id": "rQ3GzmG8DRAx"
      },
      "id": "rQ3GzmG8DRAx",
      "execution_count": null,
      "outputs": []
    },
    {
      "cell_type": "markdown",
      "source": [
        "we notice that the range starts at 0 and ends at 9. Python in general does *not* include the last element.\n",
        "\n",
        "We can also include a third parameter, the *step size* to generate a range with steps > 1. If we choose now our end point wisely ..."
      ],
      "metadata": {
        "id": "jOpVLbpFD3Yw"
      },
      "id": "jOpVLbpFD3Yw"
    },
    {
      "cell_type": "code",
      "source": [
        "list(range(5,101,5))"
      ],
      "metadata": {
        "id": "ycrotqieEAxG"
      },
      "id": "ycrotqieEAxG",
      "execution_count": null,
      "outputs": []
    },
    {
      "cell_type": "markdown",
      "source": [
        "There are a couple of convenience functions to deal with lists, such as `len` to calculate the number od list elements and `zip` to combine 2 lists."
      ],
      "metadata": {
        "id": "1VwRaamWEk7L"
      },
      "id": "1VwRaamWEk7L"
    },
    {
      "cell_type": "code",
      "source": [
        "# a little bit magic if you think about it\n",
        "len(range(5,101,5))"
      ],
      "metadata": {
        "id": "Ol7027HtEvIl"
      },
      "id": "Ol7027HtEvIl",
      "execution_count": null,
      "outputs": []
    },
    {
      "cell_type": "code",
      "source": [
        "# lazy evaluation again\n",
        "(zip(range(10),range(10)))"
      ],
      "metadata": {
        "id": "Kih070tzEzOa"
      },
      "id": "Kih070tzEzOa",
      "execution_count": null,
      "outputs": []
    },
    {
      "cell_type": "code",
      "source": [
        "list(zip(range(10),range(10)))"
      ],
      "metadata": {
        "id": "9pF90jryFLNb"
      },
      "id": "9pF90jryFLNb",
      "execution_count": null,
      "outputs": []
    },
    {
      "cell_type": "code",
      "source": [],
      "metadata": {
        "id": "HMfuqBKcjQJi"
      },
      "id": "HMfuqBKcjQJi",
      "execution_count": null,
      "outputs": []
    }
  ],
  "metadata": {
    "jupytext": {
      "cell_metadata_filter": "-all",
      "notebook_metadata_filter": "-jupytext.cell_metadata_filter,-jupytext.notebook_metadata_filter"
    },
    "kernelspec": {
      "display_name": "Python 3 (ipykernel)",
      "language": "python",
      "name": "python3"
    },
    "language_info": {
      "codemirror_mode": {
        "name": "ipython",
        "version": 3
      },
      "file_extension": ".py",
      "mimetype": "text/x-python",
      "name": "python",
      "nbconvert_exporter": "python",
      "pygments_lexer": "ipython3",
      "version": "3.12.0"
    },
    "colab": {
      "provenance": [],
      "collapsed_sections": [
        "Mt9liEf8BMWW",
        "_7CY2TF321XH"
      ],
      "include_colab_link": true
    }
  },
  "nbformat": 4,
  "nbformat_minor": 5
}