{
  "nbformat": 4,
  "nbformat_minor": 0,
  "metadata": {
    "colab": {
      "provenance": [],
      "authorship_tag": "ABX9TyPjVelak+5rO1nnZeBmpXpm",
      "include_colab_link": true
    },
    "kernelspec": {
      "name": "python3",
      "display_name": "Python 3"
    },
    "language_info": {
      "name": "python"
    }
  },
  "cells": [
    {
      "cell_type": "markdown",
      "metadata": {
        "id": "view-in-github",
        "colab_type": "text"
      },
      "source": [
        "<a href=\"https://colab.research.google.com/github/ubsuny/PHY386/blob/main/handson/2025/PHY386_IntroductionToGoogleColab.ipynb\" target=\"_parent\"><img src=\"https://colab.research.google.com/assets/colab-badge.svg\" alt=\"Open In Colab\"/></a>"
      ]
    },
    {
      "cell_type": "markdown",
      "source": [
        "# Introduction to Google Colab"
      ],
      "metadata": {
        "id": "aYpboRGId50Z"
      }
    },
    {
      "cell_type": "markdown",
      "source": [
        "## Calculator examples"
      ],
      "metadata": {
        "id": "dP1EtBQ4eICF"
      }
    },
    {
      "cell_type": "code",
      "source": [
        "10/2"
      ],
      "metadata": {
        "colab": {
          "base_uri": "https://localhost:8080/"
        },
        "id": "rX6AYhUdXM9_",
        "outputId": "76e2d324-9a9f-46ce-821e-ba65c9516f2d"
      },
      "execution_count": null,
      "outputs": [
        {
          "output_type": "execute_result",
          "data": {
            "text/plain": [
              "5.0"
            ]
          },
          "metadata": {},
          "execution_count": 3
        }
      ]
    },
    {
      "cell_type": "code",
      "execution_count": null,
      "metadata": {
        "colab": {
          "base_uri": "https://localhost:8080/"
        },
        "id": "johMYQM6WHVq",
        "outputId": "3c1fda10-0d05-489f-f8b5-1d4f0b989a57"
      },
      "outputs": [
        {
          "output_type": "execute_result",
          "data": {
            "text/plain": [
              "7"
            ]
          },
          "metadata": {},
          "execution_count": 2
        }
      ],
      "source": [
        "3+4"
      ]
    },
    {
      "cell_type": "markdown",
      "source": [
        "## How to calculate the volume of a n-dimenasionl cube - coding example"
      ],
      "metadata": {
        "id": "N1J7n8jGeT-q"
      }
    },
    {
      "cell_type": "code",
      "source": [
        "# prompt: Calculate the volume of a n-dimensional cube\n",
        "\n",
        "def cube_volume(side_length, dimensions):\n",
        "    \"\"\"Calculates the volume of an n-dimensional cube.\n",
        "\n",
        "    Args:\n",
        "    side_length: The length of one side of the cube.\n",
        "    dimensions: The number of dimensions of the cube.\n",
        "\n",
        "    Returns:\n",
        "    The volume of the cube.\n",
        "    \"\"\"\n",
        "    return side_length ** dimensions"
      ],
      "metadata": {
        "id": "QLtJJZ96WjSA"
      },
      "execution_count": null,
      "outputs": []
    },
    {
      "cell_type": "markdown",
      "source": [
        "Test it"
      ],
      "metadata": {
        "id": "jkww6lzshdfb"
      }
    },
    {
      "cell_type": "code",
      "source": [
        "cube_volume(5,4)"
      ],
      "metadata": {
        "colab": {
          "base_uri": "https://localhost:8080/"
        },
        "id": "tSmgo6aKYu_M",
        "outputId": "55179990-bd4d-41c6-e944-39d20f5750d8"
      },
      "execution_count": null,
      "outputs": [
        {
          "output_type": "execute_result",
          "data": {
            "text/plain": [
              "625"
            ]
          },
          "metadata": {},
          "execution_count": 7
        }
      ]
    },
    {
      "cell_type": "markdown",
      "source": [
        "### Advanced example: Can we figure out the limits of the calculation?"
      ],
      "metadata": {
        "id": "0t7FqVp3hhWs"
      }
    },
    {
      "cell_type": "code",
      "source": [
        "# prompt: Can you give us some code that calculates the maximum number of dimensions this coder can calculate\n",
        "\n",
        "def cube_volume(side_length, dimensions):\n",
        "    \"\"\"Calculates the volume of an n-dimensional cube.\n",
        "\n",
        "    Args:\n",
        "    side_length: The length of one side of the cube.\n",
        "    dimensions: The number of dimensions of the cube.\n",
        "\n",
        "    Returns:\n",
        "    The volume of the cube.\n",
        "    \"\"\"\n",
        "    return side_length ** dimensions\n",
        "\n",
        "# There's no inherent limit to the number of dimensions in the cube_volume function\n",
        "# itself.  The practical limit depends on the data type used for `side_length` and\n",
        "# the computational resources available.  Let's test with increasing dimensions\n",
        "# and see when we hit an overflow error (assuming `side_length` is an integer):\n",
        "\n",
        "import sys\n",
        "\n",
        "max_dimensions = 0\n",
        "try:\n",
        "  for dimensions in range(1, 1000):  # Test a wide range\n",
        "      volume = cube_volume(2, dimensions)\n",
        "      max_dimensions = dimensions\n",
        "      if volume < 0: #Check for overflow\n",
        "        break\n",
        "except OverflowError:\n",
        "    print(f\"OverflowError encountered at dimensions = {dimensions}.\")\n",
        "\n",
        "print(f\"Maximum number of dimensions that can be calculated before overflow: {max_dimensions}\")"
      ],
      "metadata": {
        "id": "i1HKHus8Y8lE",
        "colab": {
          "base_uri": "https://localhost:8080/"
        },
        "outputId": "2d543791-8b83-439f-98d1-71f823df05ce"
      },
      "execution_count": null,
      "outputs": [
        {
          "output_type": "stream",
          "name": "stdout",
          "text": [
            "Maximum number of dimensions that can be calculated before overflow: 999\n"
          ]
        }
      ]
    },
    {
      "cell_type": "code",
      "source": [
        "cube_volume(5,999)"
      ],
      "metadata": {
        "colab": {
          "base_uri": "https://localhost:8080/"
        },
        "id": "pUyXE_IuaxNf",
        "outputId": "aa53a596-8ec4-4e05-f2aa-13cbb47fc7b3"
      },
      "execution_count": null,
      "outputs": [
        {
          "output_type": "execute_result",
          "data": {
            "text/plain": [
              "186652723700643775798017908944763433923418289274341604924342867959193382195155126890888065419576220471918997986064848524843097504270806478968304163440786151246882133227665030054799015197180366302220098159253022623648102502959186758161035654225083020762139675770885296223893962845732191844403532582088559691233889777429493305601265673690529485852365972433040558639057898721423570132733748213087961106143627264119968965208390820242645925973900438902921980842921733672248958590406965372923531585383209484013187277808347579164423673015609111325688854785077503425570959356311269280742975536353379971078413853087884801742394734940349972525338149459352507160785875246766796209385574911721050739288330078125"
            ]
          },
          "metadata": {},
          "execution_count": 9
        }
      ]
    },
    {
      "cell_type": "code",
      "source": [
        " cube_volume(5,1000)"
      ],
      "metadata": {
        "colab": {
          "base_uri": "https://localhost:8080/"
        },
        "id": "I1UjIcaXa6Mz",
        "outputId": "391e51a5-29e1-407c-f9bc-3a7ff6fa3d67"
      },
      "execution_count": null,
      "outputs": [
        {
          "output_type": "execute_result",
          "data": {
            "text/plain": [
              "933263618503218878990089544723817169617091446371708024621714339795966910975775634454440327097881102359594989930324242624215487521354032394841520817203930756234410666138325150273995075985901831511100490796265113118240512514795933790805178271125415103810698378854426481119469814228660959222017662910442798456169448887147466528006328368452647429261829862165202793195289493607117850663668741065439805530718136320599844826041954101213229629869502194514609904214608668361244792952034826864617657926916047420065936389041737895822118365078045556628444273925387517127854796781556346403714877681766899855392069265439424008711973674701749862626690747296762535803929376233833981046927874558605253696441650390625"
            ]
          },
          "metadata": {},
          "execution_count": 10
        }
      ]
    },
    {
      "cell_type": "markdown",
      "source": [
        "## Code snippets example"
      ],
      "metadata": {
        "id": "B-hNNvjVhtsa"
      }
    },
    {
      "cell_type": "code",
      "source": [
        "from IPython.display import display, Javascript\n",
        "from google.colab.output import eval_js\n",
        "from base64 import b64decode\n",
        "\n",
        "def take_photo(filename='photo.jpg', quality=0.8):\n",
        "  js = Javascript('''\n",
        "    async function takePhoto(quality) {\n",
        "      const div = document.createElement('div');\n",
        "      const capture = document.createElement('button');\n",
        "      capture.textContent = 'Capture';\n",
        "      div.appendChild(capture);\n",
        "\n",
        "      const video = document.createElement('video');\n",
        "      video.style.display = 'block';\n",
        "      const stream = await navigator.mediaDevices.getUserMedia({video: true});\n",
        "\n",
        "      document.body.appendChild(div);\n",
        "      div.appendChild(video);\n",
        "      video.srcObject = stream;\n",
        "      await video.play();\n",
        "\n",
        "      // Resize the output to fit the video element.\n",
        "      google.colab.output.setIframeHeight(document.documentElement.scrollHeight, true);\n",
        "\n",
        "      // Wait for Capture to be clicked.\n",
        "      await new Promise((resolve) => capture.onclick = resolve);\n",
        "\n",
        "      const canvas = document.createElement('canvas');\n",
        "      canvas.width = video.videoWidth;\n",
        "      canvas.height = video.videoHeight;\n",
        "      canvas.getContext('2d').drawImage(video, 0, 0);\n",
        "      stream.getVideoTracks()[0].stop();\n",
        "      div.remove();\n",
        "      return canvas.toDataURL('image/jpeg', quality);\n",
        "    }\n",
        "    ''')\n",
        "  display(js)\n",
        "  data = eval_js('takePhoto({})'.format(quality))\n",
        "  binary = b64decode(data.split(',')[1])\n",
        "  with open(filename, 'wb') as f:\n",
        "    f.write(binary)\n",
        "  return filename"
      ],
      "metadata": {
        "id": "Gf6U0VrLa_f_"
      },
      "execution_count": 11,
      "outputs": []
    },
    {
      "cell_type": "code",
      "source": [
        "from IPython.display import Image\n",
        "try:\n",
        "  filename = take_photo()\n",
        "  print('Saved to {}'.format(filename))\n",
        "\n",
        "  # Show the image which was just taken.\n",
        "  display(Image(filename))\n",
        "except Exception as err:\n",
        "  # Errors will be thrown if the user does not have a webcam or if they do not\n",
        "  # grant the page permission to access it.\n",
        "  print(str(err))"
      ],
      "metadata": {
        "id": "I5FOIhnPfORC"
      },
      "execution_count": null,
      "outputs": []
    },
    {
      "cell_type": "code",
      "source": [],
      "metadata": {
        "id": "ZQkA5dM3fRiE"
      },
      "execution_count": null,
      "outputs": []
    }
  ]
}
