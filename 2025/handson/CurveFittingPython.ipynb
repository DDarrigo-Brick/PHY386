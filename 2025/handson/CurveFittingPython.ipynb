{
  "nbformat": 4,
  "nbformat_minor": 0,
  "metadata": {
    "colab": {
      "provenance": [],
      "authorship_tag": "ABX9TyPiO5H9bLq8SPAUhT2/6zmR",
      "include_colab_link": true
    },
    "kernelspec": {
      "name": "python3",
      "display_name": "Python 3"
    },
    "language_info": {
      "name": "python"
    }
  },
  "cells": [
    {
      "cell_type": "markdown",
      "metadata": {
        "id": "view-in-github",
        "colab_type": "text"
      },
      "source": [
        "<a href=\"https://colab.research.google.com/github/ubsuny/PHY386/blob/main/2025/handson/CurveFittingPython.ipynb\" target=\"_parent\"><img src=\"https://colab.research.google.com/assets/colab-badge.svg\" alt=\"Open In Colab\"/></a>"
      ]
    },
    {
      "cell_type": "markdown",
      "source": [
        "# Curve Fitting in Python with `scipy.optimize.curve_fit`\n",
        "\n",
        "Read: [SciPy CurveFit documentation](https://docs.scipy.org/doc/scipy/reference/generated/scipy.optimize.curve_fit.html)\n",
        "\n",
        "\n",
        "import the necessary libraries:\n",
        "\n",
        "- `numpy` for numerical operations,\n",
        "- `matplotlib.pyplot` for plotting data,\n",
        "- `scipy.optimize.curve_fit` for fitting curves."
      ],
      "metadata": {
        "id": "b3_tmF96sKnO"
      }
    },
    {
      "cell_type": "code",
      "source": [
        "# Run this cell to import necessary libraries\n",
        "import numpy as np\n",
        "import matplotlib.pyplot as plt\n",
        "from scipy.optimize import curve_fit"
      ],
      "metadata": {
        "id": "YZRcyBP4sGBe"
      },
      "execution_count": null,
      "outputs": []
    },
    {
      "cell_type": "markdown",
      "source": [
        "## Example 1 - Constant Function\n",
        "\n",
        "#### Physics Context:\n",
        "Imagine you're measuring the voltage of a battery using a voltmeter. The voltage should ideally remain constant for reasonable amounts of time.\n",
        "\n",
        "The equation for a constant function is:\n",
        "$$ y = c $$\n",
        "\n",
        "Where:\n",
        "- $ c $ is the constant value.\n",
        "\n",
        "We'll simulate some data with random noise and use `curve_fit` to determine the value of $ c $.\n"
      ],
      "metadata": {
        "id": "TkdnBSkPsnbr"
      }
    },
    {
      "cell_type": "code",
      "source": [
        "# Generate synthetic data\n",
        "time = np.linspace(0, 10, 20)  # Time in seconds\n",
        "true_c = 5.0  # True constant voltage in volts\n",
        "voltage = true_c + np.random.normal(0, 0.2, size=len(time))  # Add noise\n",
        "\n",
        "# Define the constant function\n",
        "def fit_constant_func(x, c):\n",
        "    \"\"\" fitting function for a constant value independent from time \"\"\"\n",
        "    return c\n",
        "\n",
        "# Use curve_fit to find the best-fit parameter\n",
        "params, covariance = curve_fit(fit_constant_func, time, voltage)\n",
        "fitted_c = params[0]\n",
        "\n",
        "# Plot the data and fitted curve\n",
        "plt.scatter(time, voltage, label=\"Data (with noise)\", color=\"blue\")\n",
        "plt.axhline(fitted_c, color=\"red\", linestyle=\"--\", label= \"Fitted c = {:.2f}\".format(fitted_c))\n",
        "plt.xlabel(\"Time (s)\")\n",
        "plt.ylabel(\"Voltage (V)\")\n",
        "plt.ylim(0, 7)  # Set the y-axis limits\n",
        "plt.title(\"Constant Function Fit\")\n",
        "plt.legend()\n",
        "plt.show()"
      ],
      "metadata": {
        "id": "RdMw7Tyns1dW"
      },
      "execution_count": null,
      "outputs": []
    },
    {
      "cell_type": "markdown",
      "source": [
        "## Example 2 - Linear Function\n",
        "\n",
        "#### Physics Context:\n",
        "Hooke's Law states that the force exerted by a spring is proportional to its displacement:\n",
        "$$ F = kx $$\n",
        "\n",
        "Where:\n",
        "- $ F $ is the force,\n",
        "- $ k $ is the spring constant,\n",
        "- $ x $ is the displacement.\n",
        "\n",
        "This is a linear relationship. Let's simulate some data and fit it using `curve_fit`."
      ],
      "metadata": {
        "id": "ak6UvTzLs8Bj"
      }
    },
    {
      "cell_type": "code",
      "source": [
        "# Generate synthetic data\n",
        "displacement = np.linspace(0, 10, 20)  # Displacement in meters\n",
        "true_k = 3.0  # True spring constant in N/m\n",
        "force = true_k * displacement + np.random.normal(0, 1.0, size=len(displacement))  # Add noise\n",
        "\n",
        "# Define the linear function\n",
        "def fit_linear_func(x, m):\n",
        "    \"\"\" fitting function for a linear realtionship \"\"\"\n",
        "    return m * x\n",
        "\n",
        "# Use curve_fit to find the best-fit parameter\n",
        "params, covariance = curve_fit(fit_linear_func, displacement, force)\n",
        "fitted_k = params[0]\n",
        "\n",
        "# Plot the data and fitted curve\n",
        "plt.scatter(displacement, force, label=\"Data (with noise)\", color=\"blue\")\n",
        "plt.plot(displacement, fit_linear_func(displacement, fitted_k), color=\"red\", linestyle=\"--\",\n",
        "         label=\"Fitted k = {:.2f} N/m\".format(fitted_k))\n",
        "plt.xlabel(\"Displacement (m)\")\n",
        "plt.ylabel(\"Force (N)\")\n",
        "plt.title(\"Linear Function Fit\")\n",
        "plt.legend()\n",
        "plt.show()"
      ],
      "metadata": {
        "id": "p92yqTA2tDGf"
      },
      "execution_count": null,
      "outputs": []
    },
    {
      "cell_type": "markdown",
      "source": [
        "## Example 3 - Non-Linear Function\n",
        "\n",
        "#### Physics Context:\n",
        "Radioactive decay follows an exponential decay law:\n",
        "$$ N(t) = N_0 e^{-\\lambda t} $$\n",
        "\n",
        "Where:\n",
        "- $ N(t) $ is the number of radioactive nuclei at time $ t $,\n",
        "- $ N_0 $ is the initial number of nuclei,\n",
        "- $ \\lambda $ is the decay constant."
      ],
      "metadata": {
        "id": "OA886YVZtH34"
      }
    },
    {
      "cell_type": "code",
      "source": [
        "# Generate synthetic data\n",
        "time = np.linspace(0, 10, 20)  # Time in seconds\n",
        "N_0_true = 100.0  # Initial number of nuclei\n",
        "lambda_true = 0.3  # Decay constant in s^-1\n",
        "N_t = N_0_true * np.exp(-lambda_true * time) + np.random.normal(0, 5.0, size=len(time))  # Add noise\n",
        "\n",
        "# Define the exponential decay function\n",
        "def fit_exp_decay(t, N_0, lambda_):\n",
        "    \"\"\" fitting function for an exponential decay \"\"\"\n",
        "    return N_0 * np.exp(-lambda_ * t)\n",
        "\n",
        "# Use curve_fit to find the best-fit parameters\n",
        "params, covariance = curve_fit(fit_exp_decay, time, N_t)\n",
        "fitted_N_0, fitted_lambda = params\n",
        "\n",
        "# Plot the data and fitted curve\n",
        "plt.scatter(time, N_t, label=\"Data (with noise)\", color=\"blue\")\n",
        "plt.plot(time, fit_exp_decay(time, fitted_N_0, fitted_lambda), color=\"red\", linestyle=\"--\",\n",
        "         label=f\"Fitted N_0 = {fitted_N_0:.2f}, λ = {fitted_lambda:.2f}\")\n",
        "plt.xlabel(\"Time (s)\")\n",
        "plt.ylabel(\"Number of Nuclei\")\n",
        "plt.title(\"Exponential Decay Fit\")\n",
        "plt.legend()\n",
        "plt.show()"
      ],
      "metadata": {
        "id": "4u1gNQwmssp8"
      },
      "execution_count": null,
      "outputs": []
    },
    {
      "cell_type": "markdown",
      "source": [
        "## Example 4: Fitting a spectral line - Use a Gaussian profile to model an emission line in a spectrum. This is a common task in astronomical spectroscopy.\n",
        "\n",
        "**Stop here: Think about why you would fit a gaussian!!!**\n",
        "\n",
        "![California Nebula NGC1499](https://github.com/ubsuny/PHY386/raw/main/media/CaliforniaNebulaNGC1499_2025-03-10.JPG \"California Nebula NGC1499\")\n",
        "\n",
        "This example demonstrates fitting a Gaussian profile to a simulated spectral line, which could represent the [H-alpha emission line](https://en.wikipedia.org/wiki/Hydrogen-alpha) at 6563 Å as observed for example in in [NGC1499](https://en.wikipedia.org/wiki/California_Nebula). The code generates synthetic data with added noise, then uses `scipy.optimize.curve_fit` to fit a Gaussian function to this data."
      ],
      "metadata": {
        "id": "FSaTP9T_v_Lb"
      }
    },
    {
      "cell_type": "code",
      "source": [
        "# Generate synthetic spectral data\n",
        "wavelength = np.linspace(6550, 6580, 100)  # Wavelength in Angstroms\n",
        "true_amplitude = 10.0\n",
        "true_center = 6563.0  # H-alpha line\n",
        "true_sigma = 2.0\n",
        "\n",
        "# Gaussian function to model the spectral line\n",
        "def fit_gaussian(x, amplitude, center, sigma):\n",
        "    \"\"\" fitting function for a single gaussian function \"\"\"\n",
        "    return amplitude * np.exp(-(x - center)**2 / (2 * sigma**2))\n",
        "\n",
        "# Create synthetic spectrum with noise\n",
        "flux = fit_gaussian(wavelength, true_amplitude, true_center, true_sigma)\n",
        "noise = np.random.normal(0, 0.5, wavelength.shape)\n",
        "noisy_gaussian_flux = flux + noise\n",
        "\n",
        "plt.figure(figsize=(10, 6))\n",
        "plt.plot(wavelength, noisy_gaussian_flux, 'b.', label='Noisy data')\n",
        "plt.xlabel('Wavelength (Å)')\n",
        "plt.ylabel('Flux')\n",
        "plt.legend()\n"
      ],
      "metadata": {
        "id": "rBurNJUOwtDV"
      },
      "execution_count": null,
      "outputs": []
    },
    {
      "cell_type": "code",
      "source": [
        "# Fit the noisy data\n",
        "popt, pcov = curve_fit(fit_gaussian, wavelength, noisy_gaussian_flux)\n",
        "\n",
        "# Extract fitted parameters\n",
        "fitted_amplitude, fitted_center, fitted_sigma = popt\n",
        "\n",
        "# Plot the results\n",
        "plt.figure(figsize=(10, 6))\n",
        "plt.plot(wavelength, noisy_gaussian_flux, 'b.', label='Noisy data')\n",
        "plt.plot(wavelength, fit_gaussian(wavelength, *popt), 'r-', label='Fitted curve')\n",
        "plt.xlabel('Wavelength (Å)')\n",
        "plt.ylabel('Flux')\n",
        "plt.title('Fitting a Gaussian to a Spectral Line')\n",
        "plt.legend()\n",
        "\n",
        "print(f\"Fitted parameters:\")\n",
        "print(f\"Amplitude: {fitted_amplitude:.2f}\")\n",
        "print(f\"Center: {fitted_center:.2f} Å\")\n",
        "print(f\"Sigma: {fitted_sigma:.2f} Å\")\n",
        "\n",
        "plt.show()"
      ],
      "metadata": {
        "id": "jj--TJ0UyW_p"
      },
      "execution_count": null,
      "outputs": []
    },
    {
      "cell_type": "markdown",
      "source": [
        "That is dissapointing!\n",
        "\n",
        "**For more complex functions we have to provide an intial guess**"
      ],
      "metadata": {
        "id": "GkHcvBgBzvnd"
      }
    },
    {
      "cell_type": "code",
      "source": [
        "# Fit the noisy data\n",
        "initial_guess = [8, 6565, 1.5]  # Initial guesses for [amplitude, center, sigma]\n",
        "popt, pcov = curve_fit(fit_gaussian, wavelength, noisy_gaussian_flux, p0=initial_guess)\n",
        "\n",
        "# Extract fitted parameters\n",
        "fitted_amplitude, fitted_center, fitted_sigma = popt\n",
        "\n",
        "# Plot the results\n",
        "plt.figure(figsize=(10, 6))\n",
        "plt.plot(wavelength, noisy_gaussian_flux, 'b.', label='Noisy data')\n",
        "plt.plot(wavelength, fit_gaussian(wavelength, *popt), 'r-', label='Fitted curve')\n",
        "plt.xlabel('Wavelength (Å)')\n",
        "plt.ylabel('Flux')\n",
        "plt.title('Fitting a Gaussian to a Spectral Line')\n",
        "plt.legend()\n",
        "\n",
        "print(f\"Fitted parameters:\")\n",
        "print(f\"Amplitude: {fitted_amplitude:.2f}\")\n",
        "print(f\"Center: {fitted_center:.2f} Å\")\n",
        "print(f\"Sigma: {fitted_sigma:.2f} Å\")\n",
        "\n",
        "plt.show()"
      ],
      "metadata": {
        "id": "_Y3vB5mUz4Em"
      },
      "execution_count": null,
      "outputs": []
    },
    {
      "cell_type": "markdown",
      "source": [
        "## Example 5: Let's modify example 5 to fit a **Lorentzian function** instead of a Gaussian.\n",
        "\n",
        "This approach is particularly useful when modeling spectral lines dominated by the natural line width. If Doppler broadening is significant (e.g., due to thermal motion), you might consider fitting the **Gaussian** above or even a **Voigt profile**, which combines Gaussian and Lorentzian components.\n",
        "\n",
        "1. **Lorentzian Function**:\n",
        "   The Lorentzian profile is defined as:\n",
        "   $$\n",
        "   L(x; A, x_0, \\gamma) = A \\cdot \\frac{\\gamma^2}{(x - x_0)^2 + \\gamma^2}\n",
        "   $$\n",
        "   Where:\n",
        "   - $ A $: Amplitude of the peak.\n",
        "   - $ x_0 $: The center of the peak (e.g., the central wavelength of the spectral line).\n",
        "   - $ \\gamma $: Half-width at half-maximum (HWHM), which describes the width of the peak.\n",
        "\n",
        "2. **Synthetic Data**:\n",
        "   We simulate a spectral line centered at $ 6563 $ Å with an amplitude of $ 10 $ and HWHM ($ \\gamma $) of $ 1.5 $. Random Gaussian noise is added to simulate real-world measurement uncertainties.\n",
        "\n",
        "3. **Curve Fitting**:\n",
        "   The `curve_fit` function from `scipy.optimize` is used to fit the noisy data to the Lorentzian model. We provide an initial guess for the parameters: amplitude ($ A $), center ($ x_0 $), and HWHM ($ \\gamma $).\n",
        "\n",
        "\n",
        "\n"
      ],
      "metadata": {
        "id": "SpMbqqyLwVAk"
      }
    },
    {
      "cell_type": "code",
      "source": [
        "# Generate synthetic spectral data\n",
        "wavelength = np.linspace(6550, 6580, 100)  # Wavelength in Angstroms\n",
        "true_amplitude = 10.0\n",
        "true_center = 6563.0  # H-alpha line center\n",
        "true_gamma = 1.5  # Lorentzian half-width at half-maximum (HWHM)\n",
        "\n",
        "# Define the Lorentzian function\n",
        "def fit_lorentzian(x, amplitude, center, gamma):\n",
        "    \"\"\" fitting function for a single lorentzian function \"\"\"\n",
        "    return amplitude * (gamma**2 / ((x - center)**2 + gamma**2))\n",
        "\n",
        "# Create synthetic spectrum with noise\n",
        "flux = fit_lorentzian(wavelength, true_amplitude, true_center, true_gamma)\n",
        "noise = np.random.normal(0, 0.5, wavelength.shape)  # Add random noise\n",
        "noisy_lorentzian_flux = flux + noise\n",
        "\n",
        "plt.figure(figsize=(10, 6))\n",
        "plt.plot(wavelength, noisy_lorentzian_flux, 'b.', label='Noisy data')\n",
        "plt.xlabel('Wavelength (Å)')\n",
        "plt.ylabel('Flux')\n",
        "plt.legend()\n"
      ],
      "metadata": {
        "id": "pFzuu0k2xH_1"
      },
      "execution_count": null,
      "outputs": []
    },
    {
      "cell_type": "code",
      "source": [
        "# Fit the noisy data using curve_fit\n",
        "initial_guess = [8, 6565, 1.0]  # Initial guesses for [amplitude, center, gamma]\n",
        "popt, pcov = curve_fit(fit_lorentzian, wavelength, noisy_lorentzian_flux, p0=initial_guess)\n",
        "\n",
        "# Extract fitted parameters\n",
        "fitted_amplitude, fitted_center, fitted_gamma = popt\n",
        "\n",
        "# Plot the results\n",
        "plt.figure(figsize=(10, 6))\n",
        "plt.plot(wavelength, noisy_lorentzian_flux, 'b.', label='Noisy data')\n",
        "plt.plot(wavelength, fit_lorentzian(wavelength, *popt), 'r-', label='Fitted Lorentzian')\n",
        "plt.xlabel('Wavelength (Å)')\n",
        "plt.ylabel('Flux')\n",
        "plt.title('Fitting a Lorentzian to a Spectral Line')\n",
        "plt.legend()\n",
        "\n",
        "# Print fitted parameters\n",
        "print(f\"Fitted parameters:\")\n",
        "print(f\"Amplitude: {fitted_amplitude:.2f}\")\n",
        "print(f\"Center: {fitted_center:.2f} Å\")\n",
        "print(f\"Gamma (HWHM): {fitted_gamma:.2f} Å\")\n",
        "\n",
        "plt.show()"
      ],
      "metadata": {
        "id": "_l0xqNn2x9hG"
      },
      "execution_count": null,
      "outputs": []
    },
    {
      "cell_type": "code",
      "source": [
        "# Plot comparison\n",
        "plt.figure(figsize=(10, 6))\n",
        "plt.plot(wavelength, fit_gaussian(wavelength, *popt), 'b-', label='Fitted Gaussian')\n",
        "plt.plot(wavelength, fit_lorentzian(wavelength, *popt), 'k-', label='Fitted Lorentzian')\n",
        "plt.xlabel('Wavelength (Å)')\n",
        "plt.ylabel('Flux')\n",
        "plt.title('Fitting a Gaussian to a Spectral Line')\n",
        "plt.legend()"
      ],
      "metadata": {
        "id": "XW76A5cfteLx"
      },
      "execution_count": null,
      "outputs": []
    },
    {
      "cell_type": "markdown",
      "source": [
        "## Determining the 'goodness' of a fit: the $R^2$ value\n",
        "\n",
        "To calculate the $$ R^2 $$ value (coefficient of determination) for a curve fit, you can use the following equation:\n",
        "\n",
        "$$\n",
        "R^2 = 1 - \\frac{\\text{SQ}_{\\text{res}}}{\\text{SQ}_{\\text{tot}}}\n",
        "$$\n",
        "\n",
        "Where:\n",
        "- $ \\text{SQ}_{\\text{res}} $ is the residual sum of squares: the sum of squared differences between the observed data and the predicted data.\n",
        "- $ \\text{SQ}_{\\text{tot}} $ is the total sum of squares: the sum of squared differences between the observed data and its mean."
      ],
      "metadata": {
        "id": "kvdD7nIF1DS0"
      }
    },
    {
      "cell_type": "code",
      "source": [
        "def calculate_r_squared(y_observed, y_predicted):\n",
        "    \"\"\"\n",
        "    Calculate the R^2 (coefficient of determination) value.\n",
        "\n",
        "    Parameters:\n",
        "        y_observed (array-like): The observed data points.\n",
        "        y_predicted (array-like): The predicted data points from the fit.\n",
        "\n",
        "    Returns:\n",
        "        The R^2 value.\n",
        "    \"\"\"\n",
        "    # Residual sum of squares\n",
        "    sq_res = np.sum((y_observed - y_predicted)**2)\n",
        "\n",
        "    # Total sum of squares\n",
        "    sq_tot = np.sum((y_observed - np.mean(y_observed))**2)\n",
        "\n",
        "    # R-squared\n",
        "    r_squared = 1 - (sq_res / sq_tot)\n",
        "\n",
        "    return r_squared"
      ],
      "metadata": {
        "id": "zjHyrZ9Zynic"
      },
      "execution_count": null,
      "outputs": []
    },
    {
      "cell_type": "code",
      "source": [
        "# Calculate R^2\n",
        "r_squared = calculate_r_squared(noisy_lorentzian_flux, fit_lorentzian(wavelength, *popt))\n",
        "print(f\"R^2 value: {r_squared:.4f}\")"
      ],
      "metadata": {
        "id": "zMn0UO_41dke"
      },
      "execution_count": null,
      "outputs": []
    },
    {
      "cell_type": "code",
      "source": [],
      "metadata": {
        "id": "9ohMWOh71kPG"
      },
      "execution_count": null,
      "outputs": []
    }
  ]
}