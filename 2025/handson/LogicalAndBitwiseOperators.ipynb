{
  "nbformat": 4,
  "nbformat_minor": 0,
  "metadata": {
    "colab": {
      "provenance": [],
      "authorship_tag": "ABX9TyPViXwTuyxpKX87ouxBrPop",
      "include_colab_link": true
    },
    "kernelspec": {
      "name": "python3",
      "display_name": "Python 3"
    },
    "language_info": {
      "name": "python"
    }
  },
  "cells": [
    {
      "cell_type": "markdown",
      "metadata": {
        "id": "view-in-github",
        "colab_type": "text"
      },
      "source": [
        "<a href=\"https://colab.research.google.com/github/ubsuny/PHY386/blob/main/2025/handson/LogicalAndBitwiseOperators.ipynb\" target=\"_parent\"><img src=\"https://colab.research.google.com/assets/colab-badge.svg\" alt=\"Open In Colab\"/></a>"
      ]
    },
    {
      "cell_type": "markdown",
      "source": [
        "# Logical vs. Bitwise Operators in Pandas Boolean Indexing\n",
        "\n",
        "based on: [https://stackoverflow.com/questions/21415661/logical-operators-for-boolean-indexing-in-pandas]\n",
        "\n",
        "This notebook illustrates the crucial difference between using Python's built-in logical operators (`and`, `or`, `not`) and Pandas' bitwise operators (`&`, `|`, `~`) for boolean indexing.\n",
        "\n",
        "### Why the Difference Matters\n",
        "\n",
        "Pandas uses NumPy arrays under the hood for its Series and DataFrames. When you create a boolean mask for indexing (e.g., `df['column'] > 0`), you're creating a NumPy boolean array.  Python's `and`, `or`, and `not` operators are designed to work on single boolean values, not arrays of booleans.  Attempting to use them with boolean arrays leads to a `ValueError` because Python doesn't know how to resolve the \"truthiness\" of an entire array.  Do *all* the values need to be `True`?  Does *any* value need to be `True`?  It's ambiguous.\n",
        "\n",
        "Bitwise operators, on the other hand, are overloaded in NumPy (and therefore Pandas) to perform element-wise logical operations on boolean arrays.\n"
      ],
      "metadata": {
        "id": "WZONDmbEH60O"
      }
    },
    {
      "cell_type": "markdown",
      "source": [
        "### Example Setup\n",
        "\n",
        "Let's create a sample Pandas DataFrame:"
      ],
      "metadata": {
        "id": "PugFXjasIIG6"
      }
    },
    {
      "cell_type": "code",
      "source": [
        "import pandas as pd\n",
        "\n",
        "data = {'col1':list(range(1,6)),  \\\n",
        "        'col2':list(range(6,11)), \\\n",
        "        'col3': [True, False, True, False, True]}\n",
        "\n",
        "df = pd.DataFrame(data)\n",
        "\n",
        "print(df)"
      ],
      "metadata": {
        "id": "ed4BpH_0IEDA"
      },
      "execution_count": null,
      "outputs": []
    },
    {
      "cell_type": "markdown",
      "source": [
        "Let's examine the selection of a dataframe:"
      ],
      "metadata": {
        "id": "Pllbw0XBU83Y"
      }
    },
    {
      "cell_type": "code",
      "source": [
        "df['col1'] > 2"
      ],
      "metadata": {
        "id": "GH-OEGVeVDRF"
      },
      "execution_count": null,
      "outputs": []
    },
    {
      "cell_type": "markdown",
      "source": [
        "So what I want to to is a elementwise comparison for multiple conditions:"
      ],
      "metadata": {
        "id": "-Iiw_rQFVJJ3"
      }
    },
    {
      "cell_type": "code",
      "source": [
        "9>8 and 1>2"
      ],
      "metadata": {
        "id": "nRlJlEpUVPXl"
      },
      "execution_count": null,
      "outputs": []
    },
    {
      "cell_type": "code",
      "source": [
        "[9,8] > [1,2]"
      ],
      "metadata": {
        "id": "Y5vO2e9yVckH"
      },
      "execution_count": null,
      "outputs": []
    },
    {
      "cell_type": "code",
      "source": [
        "x = \"anything\"\n",
        "if x:\n",
        "    print(\"x is truthy\")\n",
        "else:\n",
        "    print(\"x is falsey\")"
      ],
      "metadata": {
        "id": "buiEM-IPVqlR"
      },
      "execution_count": null,
      "outputs": []
    },
    {
      "cell_type": "markdown",
      "source": [
        "**For python is any variable \"True\" if it exists!**\n",
        "Convenient but can lead to issues"
      ],
      "metadata": {
        "id": "M41e-NceWRQd"
      }
    },
    {
      "cell_type": "markdown",
      "source": [
        "### Using Bitwise Operators (`&`, `|`, `~`)\n",
        "\n",
        "These operators work correctly for boolean indexing:\n"
      ],
      "metadata": {
        "id": "Ijkm9yg2IL2R"
      }
    },
    {
      "cell_type": "code",
      "source": [
        "# Selecting rows where 'col1' is greater than 2 AND 'col2' is less than 10\n",
        "filtered_df = df[(df['col1'] > 2) & (df['col2'] < 10)]\n",
        "print(\"Filtered DataFrame with '&':\")\n",
        "print(filtered_df)"
      ],
      "metadata": {
        "id": "EmsXSvKoISMj"
      },
      "execution_count": null,
      "outputs": []
    },
    {
      "cell_type": "code",
      "source": [
        "# Selecting rows where 'col1' is greater than 4 OR 'col2' is less than 7\n",
        "\n",
        "filtered_df = df[(df['col1'] > 4) | (df['col2'] < 7)]\n",
        "print(\"Filtered DataFrame with '|':\")\n",
        "print(filtered_df)"
      ],
      "metadata": {
        "id": "Tq-lrYMYUES9"
      },
      "execution_count": null,
      "outputs": []
    },
    {
      "cell_type": "code",
      "source": [
        "# Selecting rows where 'col3' is NOT True (i.e., False)\n",
        "\n",
        "filtered_df = df[~df['col3']]\n",
        "print(\"Filtered DataFrame with '~':\")\n",
        "print(filtered_df)"
      ],
      "metadata": {
        "id": "e-WRTN-iUG0H"
      },
      "execution_count": null,
      "outputs": []
    },
    {
      "cell_type": "markdown",
      "source": [
        "\n",
        "### Attempting to Use Logical Operators (`and`, `or`, `not`)\n",
        "\n",
        "This will raise a `ValueError`:\n"
      ],
      "metadata": {
        "id": "R86He-UuTRUF"
      }
    },
    {
      "cell_type": "code",
      "source": [
        "try:\n",
        "    filtered_df = df[(df['col1'] > 2) and (df['col2'] < 10)]\n",
        "    print(filtered_df)\n",
        "except ValueError as e:\n",
        "    print(f\"Error: {e}\")\n"
      ],
      "metadata": {
        "id": "4vZUpbtVUTg-"
      },
      "execution_count": null,
      "outputs": []
    },
    {
      "cell_type": "markdown",
      "source": [
        "As you can see, the `and` operator raises a `ValueError` because it doesn't know how to handle the boolean Series `(df['col1'] > 2)` and `(df['col2'] < 10)`.  The same would happen with `or` and `not`.\n",
        "\n",
        "### Precedence\n",
        "\n",
        "Be careful of operator precedence.  `&` and `|` have higher precedence than comparison operators like `>` and `<`.  That's why you need to enclose each comparison in parentheses, like this: `(df['col1'] > 2) & (df['col2'] < 10)`.  Without the parentheses, you might get unexpected results or errors.\n"
      ],
      "metadata": {
        "id": "q6s6e6fUUdyg"
      }
    },
    {
      "cell_type": "markdown",
      "source": [
        "### Summary\n",
        "\n",
        "-   Use `&` (bitwise AND), `|` (bitwise OR), and `~` (bitwise NOT) for boolean indexing in Pandas.\n",
        "-   Avoid `and`, `or`, and `not`, as they are not designed for operating on arrays of boolean values.\n",
        "-   Remember to use parentheses to ensure correct operator precedence.\n"
      ],
      "metadata": {
        "id": "YCwbEx_UJUl-"
      }
    }
  ]
}