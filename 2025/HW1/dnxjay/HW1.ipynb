{
  "nbformat": 4,
  "nbformat_minor": 0,
  "metadata": {
    "colab": {
      "provenance": [],
      "authorship_tag": "ABX9TyOwx5/aBvOKQH0bInJR4oXr",
      "include_colab_link": true
    },
    "kernelspec": {
      "name": "python3",
      "display_name": "Python 3"
    },
    "language_info": {
      "name": "python"
    }
  },
  "cells": [
    {
      "cell_type": "markdown",
      "metadata": {
        "id": "view-in-github",
        "colab_type": "text"
      },
      "source": [
        "<a href=\"https://colab.research.google.com/github/ubsuny/PHY386/blob/Homework2025/2025/HW1/dnxjay/HW1.ipynb\" target=\"_parent\"><img src=\"https://colab.research.google.com/assets/colab-badge.svg\" alt=\"Open In Colab\"/></a>"
      ]
    },
    {
      "cell_type": "code",
      "execution_count": null,
      "metadata": {
        "id": "ctRWZVjnoic0"
      },
      "outputs": [],
      "source": []
    },
    {
      "cell_type": "markdown",
      "source": [
        "# Homework 1\n"
      ],
      "metadata": {
        "id": "-f4i6IAqo-IM"
      }
    },
    {
      "cell_type": "markdown",
      "source": [
        "## Basic Formatting\n",
        "Things I want to learn in this class:\n",
        "\n",
        "1. How to effectively use Python for data analysis.\n",
        "2. Understanding Markdown and its applications in Colab.\n",
        "3. Exploring external media integration in coding projects.\n",
        "4. Mastering basic coding principles and logic.\n",
        "5. Utilizing Colab for collaborative work.\n",
        "\n",
        "\n",
        "![Erwin Schrödinger](https://upload.wikimedia.org/wikipedia/commons/2/2e/Erwin_Schr%C3%B6dinger_%281933%29.jpg)\n",
        "\n",
        "*Image Source: [Wikipedia](https://en.wikipedia.org/wiki/Erwin_Schr%C3%B6dinger)*\n",
        "\n",
        "Erwin Schrödinger is my favorite scientist because of his groundbreaking work in quantum mechanics, especially the Schrödinger equation, which fundamentally shaped our understanding of wave-particle duality.\n",
        "\n",
        "I especially admire **Erwin Schrödinger** for his ability to bridge physics and philosophy.\n",
        "\n",
        "Here’s an equation he is known for, in LaTeX:\n",
        "\n",
        "$i\\hbar \\frac{\\partial}{\\partial t}\\Psi = \\hat{H}\\Psi$\n",
        "\n",
        "\n",
        "🌟  \n",
        "A quantum mind that shaped the view,  \n",
        "With thoughts profound, his wisdom grew.  \n",
        "Equations solved, the atoms knew,  \n",
        "A world unseen, he brought it through.\n",
        "\n"
      ],
      "metadata": {
        "id": "abmEgq5cpmnX"
      }
    },
    {
      "cell_type": "markdown",
      "source": [
        "## Coding exercises\n",
        "\n"
      ],
      "metadata": {
        "id": "ezKxVKe9jn0s"
      }
    },
    {
      "cell_type": "markdown",
      "source": [
        "### Exercise 1: Print \"Hello, Class!\"\n"
      ],
      "metadata": {
        "id": "L6Of26TZjxvM"
      }
    },
    {
      "cell_type": "code",
      "source": [
        "print(\"Hello Class!\")\n"
      ],
      "metadata": {
        "colab": {
          "base_uri": "https://localhost:8080/"
        },
        "id": "J3RfGEmokBTg",
        "outputId": "dff30491-4bdc-4fe5-e782-947dbe0f4859"
      },
      "execution_count": null,
      "outputs": [
        {
          "output_type": "stream",
          "name": "stdout",
          "text": [
            "Hello Class!\n"
          ]
        }
      ]
    },
    {
      "cell_type": "markdown",
      "source": [
        "### Exercise 2: Formatting\n"
      ],
      "metadata": {
        "id": "nwo2csm9kHsi"
      }
    },
    {
      "cell_type": "code",
      "source": [
        "number = 2025\n",
        "formatted_number = f\"{number:010.3f}\"  # Use width 10 to accommodate leading zeros\n",
        "print(formatted_number)\n",
        "\n"
      ],
      "metadata": {
        "colab": {
          "base_uri": "https://localhost:8080/"
        },
        "id": "AlgjfhDCk0gO",
        "outputId": "216fdeb5-ce8d-4207-b460-4d50e775db71"
      },
      "execution_count": null,
      "outputs": [
        {
          "output_type": "stream",
          "name": "stdout",
          "text": [
            "002025.000\n"
          ]
        }
      ]
    },
    {
      "cell_type": "markdown",
      "source": [
        "### Exercise 3: Variables and Data Types"
      ],
      "metadata": {
        "id": "3fi3jG3-k2Qt"
      }
    },
    {
      "cell_type": "code",
      "source": [
        "my_string = \"Welcome to PHY386\"\n",
        "my_integer = 42\n",
        "my_float = 3.14159\n",
        "\n",
        "print(\"String:\", my_string)\n",
        "print(\"Integer:\", my_integer)\n",
        "print(\"Float:\", my_float)\n"
      ],
      "metadata": {
        "colab": {
          "base_uri": "https://localhost:8080/"
        },
        "id": "6AesoMZDk7wx",
        "outputId": "7bb79f1d-12e3-45c7-a94f-88dafb78e521"
      },
      "execution_count": null,
      "outputs": [
        {
          "output_type": "stream",
          "name": "stdout",
          "text": [
            "String: Welcome to PHY386\n",
            "Integer: 42\n",
            "Float: 3.14159\n"
          ]
        }
      ]
    },
    {
      "cell_type": "markdown",
      "source": [
        "### Exercise 4: Basic Math Operations"
      ],
      "metadata": {
        "id": "Py6YeSkvlAcR"
      }
    },
    {
      "cell_type": "code",
      "source": [
        "a = 10\n",
        "b = 3\n",
        "\n",
        "print(\"Addition:\", a + b)\n",
        "print(\"Subtraction:\", a - b)\n",
        "print(\"Multiplication:\", a * b)\n",
        "print(\"Division:\", a / b)\n",
        "print(\"Modulus:\", a % b)\n"
      ],
      "metadata": {
        "colab": {
          "base_uri": "https://localhost:8080/"
        },
        "id": "XsVje9lxlHXw",
        "outputId": "1e92cac7-2a86-46da-d70f-5698ab49bda7"
      },
      "execution_count": null,
      "outputs": [
        {
          "output_type": "stream",
          "name": "stdout",
          "text": [
            "Addition: 13\n",
            "Subtraction: 7\n",
            "Multiplication: 30\n",
            "Division: 3.3333333333333335\n",
            "Modulus: 1\n"
          ]
        }
      ]
    },
    {
      "cell_type": "markdown",
      "source": [
        "### Exercise 5: Conditional Statements"
      ],
      "metadata": {
        "id": "Qc6y4Zd-lLxf"
      }
    },
    {
      "cell_type": "code",
      "source": [
        "number = 15\n",
        "\n",
        "if number % 2 == 0:\n",
        "    print(f\"{number} is even.\")\n",
        "else:\n",
        "    print(f\"{number} is odd.\")\n"
      ],
      "metadata": {
        "colab": {
          "base_uri": "https://localhost:8080/"
        },
        "id": "6NLoFD4jlRNL",
        "outputId": "38072fb2-3466-4972-92a6-f169e3568720"
      },
      "execution_count": null,
      "outputs": [
        {
          "output_type": "stream",
          "name": "stdout",
          "text": [
            "15 is odd.\n"
          ]
        }
      ]
    },
    {
      "cell_type": "markdown",
      "source": [
        "### Exercise 6: Loops: Counting with a For Loop"
      ],
      "metadata": {
        "id": "Lnxa1bKElXaj"
      }
    },
    {
      "cell_type": "code",
      "source": [
        "for i in range(2, 21, 2):  # Start at 2, end at 20, step by 2\n",
        "    print(i)\n"
      ],
      "metadata": {
        "colab": {
          "base_uri": "https://localhost:8080/"
        },
        "id": "KdidOUhUlcRO",
        "outputId": "0db8e593-269c-48e5-ff9a-eec977f7eebe"
      },
      "execution_count": null,
      "outputs": [
        {
          "output_type": "stream",
          "name": "stdout",
          "text": [
            "2\n",
            "4\n",
            "6\n",
            "8\n",
            "10\n",
            "12\n",
            "14\n",
            "16\n",
            "18\n",
            "20\n"
          ]
        }
      ]
    },
    {
      "cell_type": "markdown",
      "source": [
        "### Exercise 7: Functions: Simple Calculator"
      ],
      "metadata": {
        "id": "i527sHf_lgRO"
      }
    },
    {
      "cell_type": "code",
      "source": [
        "def calculator(a, b):\n",
        "    addition = a + b\n",
        "    subtraction = a - b\n",
        "    multiplication = a * b\n",
        "    division = a / b\n",
        "    return addition, subtraction, multiplication, division\n",
        "\n",
        "# Call the function\n",
        "results = calculator(10, 2)\n",
        "print(\"Results:\", results)\n"
      ],
      "metadata": {
        "colab": {
          "base_uri": "https://localhost:8080/"
        },
        "id": "udZ1EzsAlmYX",
        "outputId": "394d28b3-2ee0-43b5-eb02-28f04d341a04"
      },
      "execution_count": null,
      "outputs": [
        {
          "output_type": "stream",
          "name": "stdout",
          "text": [
            "Results: (12, 8, 20, 5.0)\n"
          ]
        }
      ]
    },
    {
      "cell_type": "markdown",
      "source": [
        "### Exercise 8: Lists: Average Calculator"
      ],
      "metadata": {
        "id": "6ifYbPNeloiV"
      }
    },
    {
      "cell_type": "code",
      "source": [
        "numbers = [5, 10, 15, 20, 25]\n",
        "\n",
        "average = sum(numbers) / len(numbers)\n",
        "print(\"Average:\", average)\n"
      ],
      "metadata": {
        "colab": {
          "base_uri": "https://localhost:8080/"
        },
        "id": "zfGx9N0-lt2c",
        "outputId": "e7272d0f-72ea-4182-931a-db8083f82f04"
      },
      "execution_count": null,
      "outputs": [
        {
          "output_type": "stream",
          "name": "stdout",
          "text": [
            "Average: 15.0\n"
          ]
        }
      ]
    },
    {
      "cell_type": "markdown",
      "source": [
        "### Exercise 9: Dictionaries: Fruits"
      ],
      "metadata": {
        "id": "m-PDfL_xlxfw"
      }
    },
    {
      "cell_type": "code",
      "source": [
        "fruits = {\n",
        "    \"apple\": 4,\n",
        "    \"banana\": 6,\n",
        "    \"orange\": 8\n",
        "}\n",
        "\n",
        "print(\"Fruits Dictionary:\", fruits)\n"
      ],
      "metadata": {
        "colab": {
          "base_uri": "https://localhost:8080/"
        },
        "id": "K-UB6MKIl0zk",
        "outputId": "affcc020-2bce-4615-bf14-89cc2ba6d4a5"
      },
      "execution_count": null,
      "outputs": [
        {
          "output_type": "stream",
          "name": "stdout",
          "text": [
            "Fruits Dictionary: {'apple': 4, 'banana': 6, 'orange': 8}\n"
          ]
        }
      ]
    },
    {
      "cell_type": "markdown",
      "source": [
        "### Exercise 10: File Handling: Writing to a File"
      ],
      "metadata": {
        "id": "Ty0YlqVGl4w2"
      }
    },
    {
      "cell_type": "code",
      "source": [
        "# Write to a file\n",
        "with open(\"example.txt\", \"w\") as file:\n",
        "    file.write(\"Hello, this is PHY386!\")\n",
        "\n",
        "# Read from the file\n",
        "with open(\"example.txt\", \"r\") as file:\n",
        "    content = file.read()\n",
        "\n",
        "print(\"File Content:\", content)\n"
      ],
      "metadata": {
        "colab": {
          "base_uri": "https://localhost:8080/"
        },
        "id": "o--ahmz6l-Ol",
        "outputId": "50ba1997-ed94-4f07-e5a3-1e3b1082d145"
      },
      "execution_count": null,
      "outputs": [
        {
          "output_type": "stream",
          "name": "stdout",
          "text": [
            "File Content: Hello, this is PHY386!\n"
          ]
        }
      ]
    }
  ]
}