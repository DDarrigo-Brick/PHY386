{
  "nbformat": 4,
  "nbformat_minor": 0,
  "metadata": {
    "colab": {
      "provenance": [],
      "authorship_tag": "ABX9TyMfa+m4actSjO3kA1izrt2N",
      "include_colab_link": true
    },
    "kernelspec": {
      "name": "python3",
      "display_name": "Python 3"
    },
    "language_info": {
      "name": "python"
    }
  },
  "cells": [
    {
      "cell_type": "markdown",
      "metadata": {
        "id": "view-in-github",
        "colab_type": "text"
      },
      "source": [
        "<a href=\"https://colab.research.google.com/github/ubsuny/PHY386/blob/main/HW6.ipynb\" target=\"_parent\"><img src=\"https://colab.research.google.com/assets/colab-badge.svg\" alt=\"Open In Colab\"/></a>"
      ]
    },
    {
      "cell_type": "markdown",
      "source": [
        "# Homework 6: Deep Learning with CNNs for Star Morphology Analysis\n",
        "\n",
        "In this final assignment, you will use the same FITS files you explored previously, which contain astronomical images of stars in a specific region of the sky. This time, you will train a convolutional neural network (CNN) to classify stars based on morphological features directly from cropped image patches extracted from the FITS image.\n",
        "\n",
        "The CNN will be used to:\n",
        "- Distinguish between point sources (stars), extended sources (galaxies or nebula fragments), and image artifacts (like hot pixels or diffraction spikes).\n",
        "- Optionally predict star brightness class (dim, moderate, bright) or other physically relevant labels.\n",
        "\n",
        "### Learning Objectives:\n",
        "\n",
        "By the end of this assignment, you should be able to:\n",
        "- Understand how convolutional neural networks extract spatial features from astronomical images.\n",
        "- Build and train a CNN using TensorFlow.\n",
        "- Evaluate and visualize model performance on scientific image data."
      ],
      "metadata": {
        "id": "o_VvgqmUxhOM"
      }
    },
    {
      "cell_type": "code",
      "source": [
        "# Install required libraries\n",
        "!pip install astropy scikit-learn tensorflow matplotlib numpy photutils auto-stretch astroquery"
      ],
      "metadata": {
        "id": "d3-NzUtHb-Xu"
      },
      "execution_count": null,
      "outputs": []
    },
    {
      "cell_type": "markdown",
      "source": [
        "## Task 1: Data Preparation (8 points)\n",
        "- Use the same FITS file from Homework 5\n",
        "- Use astropy to determine the wcs coordinates of the image\n",
        "- Generate a pandas list os the 10 brightest objects in the image"
      ],
      "metadata": {
        "id": "LYcObVpEx9VP"
      }
    },
    {
      "cell_type": "markdown",
      "source": [
        "## Task 2: Determine the properties of the stars based on a catalog (8 points)\n",
        "- use the SIMBAD catalog (available through astropy) to determine the following properties of the 10 brightest objects in you image:\n",
        "    - Name of the object\n",
        "    - Spectral class\n",
        "    - object type\n",
        "    - absolute magnitude (you might have to calculate it)\n",
        "    - distance to earth"
      ],
      "metadata": {
        "id": "Tq4N8lFizAKW"
      }
    },
    {
      "cell_type": "markdown",
      "source": [
        "## Task 3: Visualize and label (10 points)\n",
        "Draw a 64x64 patch of each of the 10 brightest objects and generate a list to label each patch based on:\n",
        "\n",
        "- Morphology\n",
        "    - star\n",
        "    - extended (nebula, galaxy, cluster, ...)\n",
        "    - artifact (hot pixel, cosmic ray, ...)\n",
        "    - if you do not have all types, artificially generate one example of each. Use a LLM to have specific shapes suggested. Document if it suggests useful shapes.\n",
        "- Brightness class\n",
        "- Spectral class"
      ],
      "metadata": {
        "id": "38doVJlVy-1X"
      }
    },
    {
      "cell_type": "markdown",
      "source": [
        "## Task 4: Build a CNN (8 points)\n",
        "- Use TensorFlow/Keras to build a small CNN.\n",
        "    - Recommended architecture:\n",
        "    - Conv2D → ReLU → MaxPool\n",
        "    - Conv2D → ReLU → MaxPool\n",
        "    - Flatten → Dense → Softmax\n",
        "\n",
        "You can adapt this depending on whether you are doing binary or multi-class classification."
      ],
      "metadata": {
        "id": "mHg-k53M0B8M"
      }
    },
    {
      "cell_type": "markdown",
      "source": [
        "## Task 5: Train the Model (10 points)\n",
        "\n",
        "Now use the top 100 (you can also use more to generate better training data) objects with all information in your image to train your model on the parameters spectral class and absolute magnitude and distance if possible. If you do not have all types genererate 10 examples of each type missing.\n",
        "Store the resulting pandas dataframe as `catalog.csv` in the same directory as you Jupyter notebook.\n",
        "\n",
        "Split your dataset into training, validation, and test sets.\n",
        "- Use categorical crossentropy loss and an appropriate optimizer (e.g., Adam).\n",
        "- Plot training and validation accuracy/loss curves.\n",
        "\n",
        "Hint: SIMBAD has a very detailed set of spectral types. Group them according to the main letter (O, B, A, F, G, K, M)\n",
        "\n",
        "Ask a LLM what final plot you should generate that shows if the CNN works for classification. Generate that plot."
      ],
      "metadata": {
        "id": "PMns5rRd0RCS"
      }
    },
    {
      "cell_type": "code",
      "source": [],
      "metadata": {
        "id": "PmqW0DeJ6BEu"
      },
      "execution_count": null,
      "outputs": []
    }
  ]
}